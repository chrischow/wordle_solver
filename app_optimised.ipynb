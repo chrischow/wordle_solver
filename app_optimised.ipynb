{
 "cells": [
  {
   "cell_type": "markdown",
   "id": "83a9c996-5580-4202-84ca-b3260e0c3eab",
   "metadata": {},
   "source": [
    "# App"
   ]
  },
  {
   "cell_type": "code",
   "execution_count": 1,
   "id": "de045cea-7a3a-42a6-87f3-8a3b3eb28cce",
   "metadata": {},
   "outputs": [],
   "source": [
    "import json\n",
    "import matplotlib.pyplot as plt\n",
    "import numpy as np\n",
    "import pandas as pd\n",
    "\n",
    "from joblib import Parallel, delayed"
   ]
  },
  {
   "cell_type": "markdown",
   "id": "068e9aa5-b2b1-4876-9d89-e34d593f951a",
   "metadata": {},
   "source": [
    "## Load Words"
   ]
  },
  {
   "cell_type": "markdown",
   "id": "02ee23ea-a1da-4fa4-86a1-f016047032e8",
   "metadata": {},
   "source": [
    "### Wordle Words"
   ]
  },
  {
   "cell_type": "code",
   "execution_count": 2,
   "id": "69654367-2343-400a-8dcd-2855107ed102",
   "metadata": {
    "tags": []
   },
   "outputs": [],
   "source": [
    "with open('data/wordle-candidates.json', 'r') as file:\n",
    "    wordle_candidates = json.load(file)\n",
    "    \n",
    "with open('data/wordle-answers.json', 'r') as file:\n",
    "    wordle_answers = json.load(file)\n",
    "\n",
    "wordle_candidates = pd.DataFrame(wordle_candidates['words'], columns=['word'])\n",
    "wordle_answers = pd.DataFrame(wordle_answers['words'], columns=['word'])\n",
    "wordle_candidates['is_answer'] = 0\n",
    "wordle_answers['is_answer'] = 1\n",
    "wordle = wordle_candidates.append(wordle_answers).reset_index(drop=True)"
   ]
  },
  {
   "cell_type": "markdown",
   "id": "4a0917e8-2b9c-4748-b494-67ab32c70d5b",
   "metadata": {},
   "source": [
    "### Popular Words"
   ]
  },
  {
   "cell_type": "code",
   "execution_count": 3,
   "id": "77053739-6cd5-4d0b-866e-7b9fca6cf112",
   "metadata": {},
   "outputs": [],
   "source": [
    "words_all = pd.read_table('data/archive/en_words_1_5-5.txt', delimiter=' ', header=None, index_col=None,\n",
    "                         names=['word_len', 'word_freq', 'n_articles']).reset_index()\n",
    "words_all = words_all.rename(columns={'index': 'word'})\n",
    "\n",
    "# Filter by english\n",
    "alphabet = list('abcdefghijklmnopqrstuvwxyz')\n",
    "words_all = words_all.loc[words_all.word.apply(lambda x: all([l in alphabet for l in x]))].reset_index(drop=True)\n",
    "\n",
    "# At least 100\n",
    "# words_all = words_all.loc[words_all.word_freq.ge(10)]"
   ]
  },
  {
   "cell_type": "code",
   "execution_count": 4,
   "id": "14f24b30-8f72-4005-9d3a-b9df92b1cdc3",
   "metadata": {},
   "outputs": [
    {
     "data": {
      "text/html": [
       "<div>\n",
       "<style scoped>\n",
       "    .dataframe tbody tr th:only-of-type {\n",
       "        vertical-align: middle;\n",
       "    }\n",
       "\n",
       "    .dataframe tbody tr th {\n",
       "        vertical-align: top;\n",
       "    }\n",
       "\n",
       "    .dataframe thead th {\n",
       "        text-align: right;\n",
       "    }\n",
       "</style>\n",
       "<table border=\"1\" class=\"dataframe\">\n",
       "  <thead>\n",
       "    <tr style=\"text-align: right;\">\n",
       "      <th></th>\n",
       "      <th>word</th>\n",
       "      <th>word_len</th>\n",
       "      <th>word_freq</th>\n",
       "      <th>n_articles</th>\n",
       "    </tr>\n",
       "  </thead>\n",
       "  <tbody>\n",
       "    <tr>\n",
       "      <th>0</th>\n",
       "      <td>which</td>\n",
       "      <td>5</td>\n",
       "      <td>1220752</td>\n",
       "      <td>890394</td>\n",
       "    </tr>\n",
       "    <tr>\n",
       "      <th>1</th>\n",
       "      <td>first</td>\n",
       "      <td>5</td>\n",
       "      <td>1033698</td>\n",
       "      <td>751444</td>\n",
       "    </tr>\n",
       "    <tr>\n",
       "      <th>2</th>\n",
       "      <td>known</td>\n",
       "      <td>5</td>\n",
       "      <td>742591</td>\n",
       "      <td>654233</td>\n",
       "    </tr>\n",
       "    <tr>\n",
       "      <th>3</th>\n",
       "      <td>after</td>\n",
       "      <td>5</td>\n",
       "      <td>694687</td>\n",
       "      <td>537462</td>\n",
       "    </tr>\n",
       "    <tr>\n",
       "      <th>4</th>\n",
       "      <td>their</td>\n",
       "      <td>5</td>\n",
       "      <td>655785</td>\n",
       "      <td>443953</td>\n",
       "    </tr>\n",
       "    <tr>\n",
       "      <th>...</th>\n",
       "      <td>...</td>\n",
       "      <td>...</td>\n",
       "      <td>...</td>\n",
       "      <td>...</td>\n",
       "    </tr>\n",
       "    <tr>\n",
       "      <th>154840</th>\n",
       "      <td>showi</td>\n",
       "      <td>5</td>\n",
       "      <td>2</td>\n",
       "      <td>2</td>\n",
       "    </tr>\n",
       "    <tr>\n",
       "      <th>154841</th>\n",
       "      <td>gceap</td>\n",
       "      <td>5</td>\n",
       "      <td>2</td>\n",
       "      <td>1</td>\n",
       "    </tr>\n",
       "    <tr>\n",
       "      <th>154842</th>\n",
       "      <td>neroc</td>\n",
       "      <td>5</td>\n",
       "      <td>2</td>\n",
       "      <td>1</td>\n",
       "    </tr>\n",
       "    <tr>\n",
       "      <th>154843</th>\n",
       "      <td>hipep</td>\n",
       "      <td>5</td>\n",
       "      <td>2</td>\n",
       "      <td>1</td>\n",
       "    </tr>\n",
       "    <tr>\n",
       "      <th>154844</th>\n",
       "      <td>glice</td>\n",
       "      <td>5</td>\n",
       "      <td>2</td>\n",
       "      <td>2</td>\n",
       "    </tr>\n",
       "  </tbody>\n",
       "</table>\n",
       "<p>154845 rows × 4 columns</p>\n",
       "</div>"
      ],
      "text/plain": [
       "         word  word_len  word_freq  n_articles\n",
       "0       which         5    1220752      890394\n",
       "1       first         5    1033698      751444\n",
       "2       known         5     742591      654233\n",
       "3       after         5     694687      537462\n",
       "4       their         5     655785      443953\n",
       "...       ...       ...        ...         ...\n",
       "154840  showi         5          2           2\n",
       "154841  gceap         5          2           1\n",
       "154842  neroc         5          2           1\n",
       "154843  hipep         5          2           1\n",
       "154844  glice         5          2           2\n",
       "\n",
       "[154845 rows x 4 columns]"
      ]
     },
     "execution_count": 4,
     "metadata": {},
     "output_type": "execute_result"
    }
   ],
   "source": [
    "words_all"
   ]
  },
  {
   "cell_type": "markdown",
   "id": "5b818401-ae1d-4876-854d-bf35c2e2d082",
   "metadata": {
    "tags": []
   },
   "source": [
    "## Game Logic"
   ]
  },
  {
   "cell_type": "code",
   "execution_count": 5,
   "id": "b2dab8fe-1d82-4e13-b0b2-d9c1c9c12072",
   "metadata": {},
   "outputs": [],
   "source": [
    "def get_feedback(input_word, solution):\n",
    "    output = ''\n",
    "    for i in range(5):\n",
    "        if input_word[i] == solution[i]:\n",
    "            output += 'G'\n",
    "        elif input_word[i] in solution:\n",
    "            output += 'Y'\n",
    "        else:\n",
    "            output += 'X'\n",
    "    return output"
   ]
  },
  {
   "cell_type": "code",
   "execution_count": 6,
   "id": "10d2ddbf-96c9-480a-95ac-7af5b6c28e73",
   "metadata": {},
   "outputs": [],
   "source": [
    "def filter_wordset(input_word, feedback, wordset):\n",
    "    newset = wordset.copy()\n",
    "    for i in range(5):\n",
    "        if feedback[i] == 'G':\n",
    "            newset = newset.loc[newset.word.str[i] == input_word[i]]\n",
    "        elif feedback[i] == 'Y':\n",
    "            # newset = newset.loc[newset.word.str.contains(input_word[i])]\n",
    "            newset = newset.loc[newset.word.str.contains(input_word[i]) & newset.word.apply(lambda x: x[i] != input_word[i])]\n",
    "        else:\n",
    "            newset = newset.loc[~newset.word.str.contains(input_word[i])]\n",
    "    return newset"
   ]
  },
  {
   "cell_type": "code",
   "execution_count": 7,
   "id": "a6ac51e4-069d-4845-b692-8f709dbe8573",
   "metadata": {},
   "outputs": [],
   "source": [
    "def compute_letter_frequencies(wordset):\n",
    "    w = wordset.copy()\n",
    "    for letter in list('abcdefghijklmnopqrstuvwxyz'):\n",
    "        w[letter] = w.word.str.contains(letter).astype(int)\n",
    "    return w.iloc[:, 1:]\n",
    "\n",
    "def compute_score(x, freqs):\n",
    "    letters = set(x)\n",
    "    output = 0\n",
    "    for letter in letters:\n",
    "        output += freqs[letter]\n",
    "    return output"
   ]
  },
  {
   "cell_type": "code",
   "execution_count": 8,
   "id": "39f6d9a2-7e64-4a71-b111-e4b20c455ced",
   "metadata": {},
   "outputs": [],
   "source": [
    "global_freqs = compute_letter_frequencies(wordle).sum().to_dict()\n",
    "global_scores = wordle.word.apply(compute_score, freqs=global_freqs)\n",
    "global_scores = pd.DataFrame({'word': wordle.word, 'score': global_scores}).sort_values('score', ascending=False)"
   ]
  },
  {
   "cell_type": "code",
   "execution_count": 9,
   "id": "5fb922e4-1210-476e-8721-2843788b0cf2",
   "metadata": {},
   "outputs": [],
   "source": [
    "def compute_pos_letter_distribution(wordset):\n",
    "    pos_scores = {}\n",
    "    pos_scores[0] = wordset.word.str[0].value_counts().to_dict()\n",
    "    pos_scores[1] = wordset.word.str[1].value_counts().to_dict()\n",
    "    pos_scores[2] = wordset.word.str[2].value_counts().to_dict()\n",
    "    pos_scores[3] = wordset.word.str[3].value_counts().to_dict()\n",
    "    pos_scores[4] = wordset.word.str[4].value_counts().to_dict()\n",
    "    \n",
    "    return pos_scores"
   ]
  },
  {
   "cell_type": "code",
   "execution_count": 10,
   "id": "e4a46e14-4057-4241-b17d-b17c58002832",
   "metadata": {},
   "outputs": [],
   "source": [
    "def compute_pos_score(letters, pos_scores):\n",
    "    output = 0\n",
    "    for i, letter in enumerate(letters):\n",
    "        output += pos_scores[i].get(letter, 0)\n",
    "    return output"
   ]
  },
  {
   "cell_type": "markdown",
   "id": "e8b51cf9-6341-4553-bec6-6a0b56025a21",
   "metadata": {},
   "source": [
    "### Compute Letter Frequency by Position"
   ]
  },
  {
   "cell_type": "code",
   "execution_count": 11,
   "id": "fb26bcef-e022-4aae-80e3-d32222c654b6",
   "metadata": {},
   "outputs": [],
   "source": [
    "pos_scores = compute_pos_letter_distribution(wordle)\n",
    "global_fl_scores = wordle.word.apply(compute_pos_score, pos_scores=pos_scores)\n",
    "global_fl_scores = pd.DataFrame({'word': wordle.word, 'score': global_fl_scores}).sort_values('score', ascending=False)"
   ]
  },
  {
   "cell_type": "code",
   "execution_count": 12,
   "id": "dcf11375-50d3-48d4-81a8-d0f5a78fd468",
   "metadata": {},
   "outputs": [],
   "source": [
    "# Merge additional data\n",
    "wordle = wordle.merge(words_all[['word', 'word_freq', 'n_articles']], how='left', left_on='word', right_on='word')\n",
    "wordle = wordle.fillna(0)\n",
    "\n",
    "# Merge additional data\n",
    "global_fl_scores = global_fl_scores.merge(words_all[['word', 'word_freq', 'n_articles']], how='left', left_on='word', right_on='word')\n",
    "global_fl_scores = global_fl_scores.fillna(0)"
   ]
  },
  {
   "cell_type": "code",
   "execution_count": 24,
   "id": "70774e3b-92e4-4a2b-9ac7-6455ba631c4a",
   "metadata": {
    "tags": []
   },
   "outputs": [],
   "source": [
    "def app_wordle_double(input_word1, input_word2):\n",
    "    feedback = ''\n",
    "    wordset = wordle.copy()\n",
    "    tested_words = []\n",
    "    n_iter = 1\n",
    "    \n",
    "    input_word = input_word1\n",
    "\n",
    "    while feedback.lower() != 'ggggg' or feedback != 'quit':\n",
    "\n",
    "        # Check solution\n",
    "        feedback = input('Enter feedback:')\n",
    "        if feedback.lower() in ['quit', 'q']:\n",
    "            return\n",
    "        elif feedback.lower() == 'ggggg':\n",
    "            print(f'Solved in {n_iter} steps.')\n",
    "            return\n",
    "        tested_words.append(input_word)\n",
    "        print(f'[{n_iter}] Input: {input_word} | Feedback: {feedback}')\n",
    "\n",
    "        # Filter wordset\n",
    "        wordset = filter_wordset(input_word, feedback.upper(), wordset)\n",
    "        wordset = wordset.loc[~wordset.word.isin(tested_words)]\n",
    "\n",
    "        # Compute letter distribution of updated wordset\n",
    "        pos_scores = compute_pos_letter_distribution(wordset)\n",
    "\n",
    "        # Obtain scores\n",
    "        scores = wordset.word.apply(compute_pos_score, pos_scores=pos_scores)\n",
    "        scores = pd.DataFrame({'word': wordset.word, 'score': scores,\n",
    "                              'word_freq': wordset.word_freq,\n",
    "                              'n_articles': wordset.n_articles}).sort_values('score', ascending=False)\n",
    "        scores = scores.sort_values(['score', 'word_freq'], ascending=False)\n",
    "        # display(scores.head(10))\n",
    "\n",
    "        # Set new input word\n",
    "        if scores.shape[0] > 0:\n",
    "            if len(tested_words) < 2:\n",
    "                input_word = input_word2\n",
    "            else:\n",
    "                display(scores.head(10))\n",
    "                input_word = input('Choose a word:')\n",
    "                if input_word in ['quit', 'q']:\n",
    "                    return\n",
    "            n_iter += 1\n",
    "    print(f'Solved in {n_iter} steps.')"
   ]
  },
  {
   "cell_type": "code",
   "execution_count": 22,
   "id": "28bc6710-244c-4dfc-851c-edf01c40fc8b",
   "metadata": {
    "tags": []
   },
   "outputs": [],
   "source": [
    "def app_wordle_global_double(input_word1, input_word2):\n",
    "    feedback = ''\n",
    "    wordset = wordle.copy()\n",
    "    tested_words = []\n",
    "    n_iter = 1\n",
    "    \n",
    "    input_word = input_word1\n",
    "\n",
    "    while feedback.lower() != 'ggggg' or feedback != 'quit':\n",
    "\n",
    "        # Check solution\n",
    "        feedback = input('Enter feedback:')\n",
    "        if feedback.lower() in ['quit', 'q']:\n",
    "            return\n",
    "        elif feedback.lower() == 'ggggg':\n",
    "            print(f'Solved in {n_iter} steps.')\n",
    "            return\n",
    "        tested_words.append(input_word)\n",
    "        print(f'[{n_iter}] Input: {input_word} | Feedback: {feedback}')\n",
    "\n",
    "        # Filter wordset\n",
    "        wordset = filter_wordset(input_word, feedback.upper(), wordset)\n",
    "        wordset = wordset.loc[~wordset.word.isin(tested_words)]\n",
    "\n",
    "        # Compute letter distribution of updated wordset\n",
    "        wordset_letterdist = compute_letter_frequencies(wordset)\n",
    "        freqs = wordset_letterdist.sum().to_dict()\n",
    "\n",
    "        # Obtain scores\n",
    "        scores = wordset.word.apply(compute_score, freqs=freqs)\n",
    "        scores = pd.DataFrame({'word': wordset.word, 'score': scores, 'word_freq': wordset.word_freq}) \\\n",
    "            .sort_values(['score', 'word_freq'], ascending=False)\n",
    "        # display(scores.head(10))\n",
    "\n",
    "        # Set new input word\n",
    "        if scores.shape[0] > 0:\n",
    "            if len(tested_words) < 2:\n",
    "                input_word = input_word2\n",
    "            else:\n",
    "                display(scores.head(10))\n",
    "                input_word = input('Choose a word:')\n",
    "                if input_word in ['quit', 'q']:\n",
    "                    return\n",
    "            n_iter += 1\n",
    "    print(f'Solved in {n_iter} steps.')"
   ]
  },
  {
   "cell_type": "markdown",
   "id": "d54356de-de2a-4c56-b375-9861fb62eed7",
   "metadata": {},
   "source": [
    "## Run"
   ]
  },
  {
   "cell_type": "code",
   "execution_count": null,
   "id": "246e985f-2203-4048-ad6b-cd24e4c2ff0e",
   "metadata": {},
   "outputs": [
    {
     "name": "stdin",
     "output_type": "stream",
     "text": [
      "Enter feedback: yyxyx\n"
     ]
    },
    {
     "name": "stdout",
     "output_type": "stream",
     "text": [
      "[1] Input: tales | Feedback: yyxyx\n"
     ]
    },
    {
     "name": "stdin",
     "output_type": "stream",
     "text": [
      "Enter feedback: xxxxx\n"
     ]
    },
    {
     "name": "stdout",
     "output_type": "stream",
     "text": [
      "[2] Input: corni | Feedback: xxxxx\n"
     ]
    },
    {
     "data": {
      "text/html": [
       "<div>\n",
       "<style scoped>\n",
       "    .dataframe tbody tr th:only-of-type {\n",
       "        vertical-align: middle;\n",
       "    }\n",
       "\n",
       "    .dataframe tbody tr th {\n",
       "        vertical-align: top;\n",
       "    }\n",
       "\n",
       "    .dataframe thead th {\n",
       "        text-align: right;\n",
       "    }\n",
       "</style>\n",
       "<table border=\"1\" class=\"dataframe\">\n",
       "  <thead>\n",
       "    <tr style=\"text-align: right;\">\n",
       "      <th></th>\n",
       "      <th>word</th>\n",
       "      <th>score</th>\n",
       "      <th>word_freq</th>\n",
       "      <th>n_articles</th>\n",
       "    </tr>\n",
       "  </thead>\n",
       "  <tbody>\n",
       "    <tr>\n",
       "      <th>749</th>\n",
       "      <td>beath</td>\n",
       "      <td>51</td>\n",
       "      <td>72.0</td>\n",
       "      <td>33.0</td>\n",
       "    </tr>\n",
       "    <tr>\n",
       "      <th>751</th>\n",
       "      <td>beaty</td>\n",
       "      <td>50</td>\n",
       "      <td>192.0</td>\n",
       "      <td>93.0</td>\n",
       "    </tr>\n",
       "    <tr>\n",
       "      <th>10678</th>\n",
       "      <td>death</td>\n",
       "      <td>47</td>\n",
       "      <td>151842.0</td>\n",
       "      <td>121176.0</td>\n",
       "    </tr>\n",
       "    <tr>\n",
       "      <th>5591</th>\n",
       "      <td>meath</td>\n",
       "      <td>47</td>\n",
       "      <td>3046.0</td>\n",
       "      <td>1490.0</td>\n",
       "    </tr>\n",
       "    <tr>\n",
       "      <th>10667</th>\n",
       "      <td>heath</td>\n",
       "      <td>46</td>\n",
       "      <td>8879.0</td>\n",
       "      <td>5218.0</td>\n",
       "    </tr>\n",
       "    <tr>\n",
       "      <th>11948</th>\n",
       "      <td>meaty</td>\n",
       "      <td>46</td>\n",
       "      <td>93.0</td>\n",
       "      <td>81.0</td>\n",
       "    </tr>\n",
       "    <tr>\n",
       "      <th>6673</th>\n",
       "      <td>peaty</td>\n",
       "      <td>45</td>\n",
       "      <td>124.0</td>\n",
       "      <td>113.0</td>\n",
       "    </tr>\n",
       "    <tr>\n",
       "      <th>753</th>\n",
       "      <td>beaut</td>\n",
       "      <td>43</td>\n",
       "      <td>16.0</td>\n",
       "      <td>12.0</td>\n",
       "    </tr>\n",
       "    <tr>\n",
       "      <th>830</th>\n",
       "      <td>betta</td>\n",
       "      <td>40</td>\n",
       "      <td>291.0</td>\n",
       "      <td>148.0</td>\n",
       "    </tr>\n",
       "    <tr>\n",
       "      <th>10759</th>\n",
       "      <td>agate</td>\n",
       "      <td>38</td>\n",
       "      <td>386.0</td>\n",
       "      <td>201.0</td>\n",
       "    </tr>\n",
       "  </tbody>\n",
       "</table>\n",
       "</div>"
      ],
      "text/plain": [
       "        word  score  word_freq  n_articles\n",
       "749    beath     51       72.0        33.0\n",
       "751    beaty     50      192.0        93.0\n",
       "10678  death     47   151842.0    121176.0\n",
       "5591   meath     47     3046.0      1490.0\n",
       "10667  heath     46     8879.0      5218.0\n",
       "11948  meaty     46       93.0        81.0\n",
       "6673   peaty     45      124.0       113.0\n",
       "753    beaut     43       16.0        12.0\n",
       "830    betta     40      291.0       148.0\n",
       "10759  agate     38      386.0       201.0"
      ]
     },
     "metadata": {},
     "output_type": "display_data"
    },
    {
     "name": "stdin",
     "output_type": "stream",
     "text": [
      "Choose a word: beath\n",
      "Enter feedback: yyggx\n"
     ]
    },
    {
     "name": "stdout",
     "output_type": "stream",
     "text": [
      "[3] Input: beath | Feedback: yyggx\n"
     ]
    },
    {
     "data": {
      "text/html": [
       "<div>\n",
       "<style scoped>\n",
       "    .dataframe tbody tr th:only-of-type {\n",
       "        vertical-align: middle;\n",
       "    }\n",
       "\n",
       "    .dataframe tbody tr th {\n",
       "        vertical-align: top;\n",
       "    }\n",
       "\n",
       "    .dataframe thead th {\n",
       "        text-align: right;\n",
       "    }\n",
       "</style>\n",
       "<table border=\"1\" class=\"dataframe\">\n",
       "  <thead>\n",
       "    <tr style=\"text-align: right;\">\n",
       "      <th></th>\n",
       "      <th>word</th>\n",
       "      <th>score</th>\n",
       "      <th>word_freq</th>\n",
       "      <th>n_articles</th>\n",
       "    </tr>\n",
       "  </thead>\n",
       "  <tbody>\n",
       "    <tr>\n",
       "      <th>10675</th>\n",
       "      <td>abate</td>\n",
       "      <td>5</td>\n",
       "      <td>317.0</td>\n",
       "      <td>166.0</td>\n",
       "    </tr>\n",
       "  </tbody>\n",
       "</table>\n",
       "</div>"
      ],
      "text/plain": [
       "        word  score  word_freq  n_articles\n",
       "10675  abate      5      317.0       166.0"
      ]
     },
     "metadata": {},
     "output_type": "display_data"
    }
   ],
   "source": [
    "app_wordle_double('tales', 'corni')"
   ]
  },
  {
   "cell_type": "code",
   "execution_count": null,
   "id": "d63879ee-db9e-4306-b5e5-80fbbda729e0",
   "metadata": {},
   "outputs": [],
   "source": []
  },
  {
   "cell_type": "code",
   "execution_count": null,
   "id": "664de89a-e755-4fb7-a18f-88e080765c23",
   "metadata": {},
   "outputs": [],
   "source": []
  },
  {
   "cell_type": "code",
   "execution_count": null,
   "id": "53bcd741-c343-47b2-8df9-fef35abad1ae",
   "metadata": {},
   "outputs": [],
   "source": []
  },
  {
   "cell_type": "code",
   "execution_count": 17,
   "id": "780727e9-2730-4687-9873-a883e218c7fe",
   "metadata": {},
   "outputs": [
    {
     "name": "stdin",
     "output_type": "stream",
     "text": [
      "Enter feedback: quit\n"
     ]
    }
   ],
   "source": [
    "app_wordle_global_double('soare', 'rutin')"
   ]
  },
  {
   "cell_type": "code",
   "execution_count": null,
   "id": "9c9fa39e-e704-4fe7-9284-3e4955f6fd9c",
   "metadata": {},
   "outputs": [],
   "source": []
  },
  {
   "cell_type": "code",
   "execution_count": null,
   "id": "381cc941-9110-4736-ba3c-2de09bab5dde",
   "metadata": {},
   "outputs": [],
   "source": []
  }
 ],
 "metadata": {
  "kernelspec": {
   "display_name": "datascience",
   "language": "python",
   "name": "datascience"
  },
  "language_info": {
   "codemirror_mode": {
    "name": "ipython",
    "version": 3
   },
   "file_extension": ".py",
   "mimetype": "text/x-python",
   "name": "python",
   "nbconvert_exporter": "python",
   "pygments_lexer": "ipython3",
   "version": "3.9.7"
  }
 },
 "nbformat": 4,
 "nbformat_minor": 5
}
