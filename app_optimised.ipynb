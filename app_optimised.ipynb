{
 "cells": [
  {
   "cell_type": "markdown",
   "id": "83a9c996-5580-4202-84ca-b3260e0c3eab",
   "metadata": {},
   "source": [
    "# App"
   ]
  },
  {
   "cell_type": "code",
   "execution_count": 25,
   "id": "de045cea-7a3a-42a6-87f3-8a3b3eb28cce",
   "metadata": {},
   "outputs": [],
   "source": [
    "import json\n",
    "import matplotlib.pyplot as plt\n",
    "import numpy as np\n",
    "import pandas as pd\n",
    "\n",
    "from joblib import Parallel, delayed"
   ]
  },
  {
   "cell_type": "markdown",
   "id": "068e9aa5-b2b1-4876-9d89-e34d593f951a",
   "metadata": {},
   "source": [
    "## Load Words"
   ]
  },
  {
   "cell_type": "markdown",
   "id": "02ee23ea-a1da-4fa4-86a1-f016047032e8",
   "metadata": {},
   "source": [
    "### Wordle Words"
   ]
  },
  {
   "cell_type": "code",
   "execution_count": 26,
   "id": "69654367-2343-400a-8dcd-2855107ed102",
   "metadata": {
    "tags": []
   },
   "outputs": [],
   "source": [
    "with open('data/wordle-candidates.json', 'r') as file:\n",
    "    wordle_candidates = json.load(file)\n",
    "    \n",
    "with open('data/wordle-answers.json', 'r') as file:\n",
    "    wordle_answers = json.load(file)\n",
    "\n",
    "wordle_candidates = pd.DataFrame(wordle_candidates['words'], columns=['word'])\n",
    "wordle_answers = pd.DataFrame(wordle_answers['words'], columns=['word'])\n",
    "wordle_candidates['is_answer'] = 0\n",
    "wordle_answers['is_answer'] = 1\n",
    "wordle = wordle_candidates.append(wordle_answers).reset_index(drop=True)"
   ]
  },
  {
   "cell_type": "markdown",
   "id": "4a0917e8-2b9c-4748-b494-67ab32c70d5b",
   "metadata": {},
   "source": [
    "### Popular Words"
   ]
  },
  {
   "cell_type": "code",
   "execution_count": 27,
   "id": "77053739-6cd5-4d0b-866e-7b9fca6cf112",
   "metadata": {},
   "outputs": [],
   "source": [
    "words_all = pd.read_table('data/archive/en_words_1_5-5.txt', delimiter=' ', header=None, index_col=None,\n",
    "                         names=['word_len', 'word_freq', 'n_articles']).reset_index()\n",
    "words_all = words_all.rename(columns={'index': 'word'})\n",
    "\n",
    "# Filter by english\n",
    "alphabet = list('abcdefghijklmnopqrstuvwxyz')\n",
    "words_all = words_all.loc[words_all.word.apply(lambda x: all([l in alphabet for l in x]))].reset_index(drop=True)\n",
    "\n",
    "# At least 100\n",
    "words_all = words_all.loc[words_all.word_freq.ge(100)]"
   ]
  },
  {
   "cell_type": "code",
   "execution_count": 96,
   "id": "14f24b30-8f72-4005-9d3a-b9df92b1cdc3",
   "metadata": {},
   "outputs": [
    {
     "data": {
      "text/html": [
       "<div>\n",
       "<style scoped>\n",
       "    .dataframe tbody tr th:only-of-type {\n",
       "        vertical-align: middle;\n",
       "    }\n",
       "\n",
       "    .dataframe tbody tr th {\n",
       "        vertical-align: top;\n",
       "    }\n",
       "\n",
       "    .dataframe thead th {\n",
       "        text-align: right;\n",
       "    }\n",
       "</style>\n",
       "<table border=\"1\" class=\"dataframe\">\n",
       "  <thead>\n",
       "    <tr style=\"text-align: right;\">\n",
       "      <th></th>\n",
       "      <th>word</th>\n",
       "      <th>word_len</th>\n",
       "      <th>word_freq</th>\n",
       "      <th>n_articles</th>\n",
       "    </tr>\n",
       "  </thead>\n",
       "  <tbody>\n",
       "    <tr>\n",
       "      <th>0</th>\n",
       "      <td>which</td>\n",
       "      <td>5</td>\n",
       "      <td>1220752</td>\n",
       "      <td>890394</td>\n",
       "    </tr>\n",
       "    <tr>\n",
       "      <th>1</th>\n",
       "      <td>first</td>\n",
       "      <td>5</td>\n",
       "      <td>1033698</td>\n",
       "      <td>751444</td>\n",
       "    </tr>\n",
       "    <tr>\n",
       "      <th>2</th>\n",
       "      <td>known</td>\n",
       "      <td>5</td>\n",
       "      <td>742591</td>\n",
       "      <td>654233</td>\n",
       "    </tr>\n",
       "    <tr>\n",
       "      <th>3</th>\n",
       "      <td>after</td>\n",
       "      <td>5</td>\n",
       "      <td>694687</td>\n",
       "      <td>537462</td>\n",
       "    </tr>\n",
       "    <tr>\n",
       "      <th>4</th>\n",
       "      <td>their</td>\n",
       "      <td>5</td>\n",
       "      <td>655785</td>\n",
       "      <td>443953</td>\n",
       "    </tr>\n",
       "    <tr>\n",
       "      <th>...</th>\n",
       "      <td>...</td>\n",
       "      <td>...</td>\n",
       "      <td>...</td>\n",
       "      <td>...</td>\n",
       "    </tr>\n",
       "    <tr>\n",
       "      <th>12600</th>\n",
       "      <td>baras</td>\n",
       "      <td>5</td>\n",
       "      <td>100</td>\n",
       "      <td>59</td>\n",
       "    </tr>\n",
       "    <tr>\n",
       "      <th>12601</th>\n",
       "      <td>wurtz</td>\n",
       "      <td>5</td>\n",
       "      <td>100</td>\n",
       "      <td>49</td>\n",
       "    </tr>\n",
       "    <tr>\n",
       "      <th>12602</th>\n",
       "      <td>jafri</td>\n",
       "      <td>5</td>\n",
       "      <td>100</td>\n",
       "      <td>56</td>\n",
       "    </tr>\n",
       "    <tr>\n",
       "      <th>12603</th>\n",
       "      <td>makki</td>\n",
       "      <td>5</td>\n",
       "      <td>100</td>\n",
       "      <td>46</td>\n",
       "    </tr>\n",
       "    <tr>\n",
       "      <th>12604</th>\n",
       "      <td>kuhin</td>\n",
       "      <td>5</td>\n",
       "      <td>100</td>\n",
       "      <td>87</td>\n",
       "    </tr>\n",
       "  </tbody>\n",
       "</table>\n",
       "<p>12605 rows × 4 columns</p>\n",
       "</div>"
      ],
      "text/plain": [
       "        word  word_len  word_freq  n_articles\n",
       "0      which         5    1220752      890394\n",
       "1      first         5    1033698      751444\n",
       "2      known         5     742591      654233\n",
       "3      after         5     694687      537462\n",
       "4      their         5     655785      443953\n",
       "...      ...       ...        ...         ...\n",
       "12600  baras         5        100          59\n",
       "12601  wurtz         5        100          49\n",
       "12602  jafri         5        100          56\n",
       "12603  makki         5        100          46\n",
       "12604  kuhin         5        100          87\n",
       "\n",
       "[12605 rows x 4 columns]"
      ]
     },
     "execution_count": 96,
     "metadata": {},
     "output_type": "execute_result"
    }
   ],
   "source": [
    "words_all"
   ]
  },
  {
   "cell_type": "markdown",
   "id": "5b818401-ae1d-4876-854d-bf35c2e2d082",
   "metadata": {
    "tags": []
   },
   "source": [
    "## Game Logic"
   ]
  },
  {
   "cell_type": "code",
   "execution_count": 28,
   "id": "b2dab8fe-1d82-4e13-b0b2-d9c1c9c12072",
   "metadata": {},
   "outputs": [],
   "source": [
    "def get_feedback(input_word, solution):\n",
    "    output = ''\n",
    "    for i in range(5):\n",
    "        if input_word[i] == solution[i]:\n",
    "            output += 'G'\n",
    "        elif input_word[i] in solution:\n",
    "            output += 'Y'\n",
    "        else:\n",
    "            output += 'X'\n",
    "    return output"
   ]
  },
  {
   "cell_type": "code",
   "execution_count": 29,
   "id": "10d2ddbf-96c9-480a-95ac-7af5b6c28e73",
   "metadata": {},
   "outputs": [],
   "source": [
    "def filter_wordset(input_word, feedback, wordset):\n",
    "    newset = wordset.copy()\n",
    "    for i in range(5):\n",
    "        if feedback[i] == 'G':\n",
    "            newset = newset.loc[newset.word.str[i] == input_word[i]]\n",
    "        elif feedback[i] == 'Y':\n",
    "            # newset = newset.loc[newset.word.str.contains(input_word[i])]\n",
    "            newset = newset.loc[newset.word.str.contains(input_word[i]) & newset.word.apply(lambda x: x[i] != input_word[i])]\n",
    "        else:\n",
    "            newset = newset.loc[~newset.word.str.contains(input_word[i])]\n",
    "    return newset"
   ]
  },
  {
   "cell_type": "code",
   "execution_count": 30,
   "id": "a6ac51e4-069d-4845-b692-8f709dbe8573",
   "metadata": {},
   "outputs": [],
   "source": [
    "def compute_letter_frequencies(wordset):\n",
    "    w = wordset.copy()\n",
    "    for letter in list('abcdefghijklmnopqrstuvwxyz'):\n",
    "        w[letter] = w.word.str.contains(letter).astype(int)\n",
    "    return w.iloc[:, 1:]\n",
    "\n",
    "def compute_score(x, freqs):\n",
    "    letters = set(x)\n",
    "    output = 0\n",
    "    for letter in letters:\n",
    "        output += freqs[letter]\n",
    "    return output"
   ]
  },
  {
   "cell_type": "code",
   "execution_count": 31,
   "id": "39f6d9a2-7e64-4a71-b111-e4b20c455ced",
   "metadata": {},
   "outputs": [],
   "source": [
    "global_freqs = compute_letter_frequencies(wordle).sum().to_dict()\n",
    "global_scores = wordle.word.apply(compute_score, freqs=global_freqs)\n",
    "global_scores = pd.DataFrame({'word': wordle.word, 'score': global_scores}).sort_values('score', ascending=False)"
   ]
  },
  {
   "cell_type": "code",
   "execution_count": 32,
   "id": "5fb922e4-1210-476e-8721-2843788b0cf2",
   "metadata": {},
   "outputs": [],
   "source": [
    "def compute_pos_letter_distribution(wordset):\n",
    "    pos_scores = {}\n",
    "    pos_scores[0] = wordset.word.str[0].value_counts().to_dict()\n",
    "    pos_scores[1] = wordset.word.str[1].value_counts().to_dict()\n",
    "    pos_scores[2] = wordset.word.str[2].value_counts().to_dict()\n",
    "    pos_scores[3] = wordset.word.str[3].value_counts().to_dict()\n",
    "    pos_scores[4] = wordset.word.str[4].value_counts().to_dict()\n",
    "    \n",
    "    return pos_scores"
   ]
  },
  {
   "cell_type": "code",
   "execution_count": 33,
   "id": "e4a46e14-4057-4241-b17d-b17c58002832",
   "metadata": {},
   "outputs": [],
   "source": [
    "def compute_pos_score(letters, pos_scores):\n",
    "    output = 0\n",
    "    for i, letter in enumerate(letters):\n",
    "        output += pos_scores[i].get(letter, 0)\n",
    "    return output"
   ]
  },
  {
   "cell_type": "markdown",
   "id": "e8b51cf9-6341-4553-bec6-6a0b56025a21",
   "metadata": {},
   "source": [
    "### Compute Letter Frequency by Position"
   ]
  },
  {
   "cell_type": "code",
   "execution_count": 34,
   "id": "fb26bcef-e022-4aae-80e3-d32222c654b6",
   "metadata": {},
   "outputs": [],
   "source": [
    "pos_scores = compute_pos_letter_distribution(wordle)\n",
    "global_fl_scores = wordle.word.apply(compute_pos_score, pos_scores=pos_scores)\n",
    "global_fl_scores = pd.DataFrame({'word': wordle.word, 'score': global_fl_scores}).sort_values('score', ascending=False)"
   ]
  },
  {
   "cell_type": "code",
   "execution_count": 35,
   "id": "dcf11375-50d3-48d4-81a8-d0f5a78fd468",
   "metadata": {},
   "outputs": [],
   "source": [
    "# Merge additional data\n",
    "wordle = wordle.merge(words_all[['word', 'word_freq', 'n_articles']], how='left', left_on='word', right_on='word')\n",
    "wordle = wordle.fillna(0)\n",
    "\n",
    "# Merge additional data\n",
    "global_fl_scores = global_fl_scores.merge(words_all[['word', 'word_freq', 'n_articles']], how='left', left_on='word', right_on='word')\n",
    "global_fl_scores = global_fl_scores.fillna(0)"
   ]
  },
  {
   "cell_type": "code",
   "execution_count": 36,
   "id": "70774e3b-92e4-4a2b-9ac7-6455ba631c4a",
   "metadata": {
    "tags": []
   },
   "outputs": [],
   "source": [
    "def app_wordle_double(input_word1, input_word2):\n",
    "    feedback = ''\n",
    "    wordset = wordle.copy()\n",
    "    tested_words = []\n",
    "    n_iter = 1\n",
    "    \n",
    "    input_word = input_word1\n",
    "\n",
    "    while feedback.lower() != 'ggggg' or feedback != 'quit':\n",
    "\n",
    "        # Check solution\n",
    "        feedback = input('Enter feedback:')\n",
    "        if feedback.lower() == 'quit':\n",
    "            return\n",
    "        elif feedback.lower() == 'ggggg':\n",
    "            print(f'Solved in {n_iter} steps.')\n",
    "            return\n",
    "        tested_words.append(input_word)\n",
    "        print(f'[{n_iter}] Input: {input_word} | Feedback: {feedback}')\n",
    "\n",
    "        # Filter wordset\n",
    "        wordset = filter_wordset(input_word, feedback.upper(), wordset)\n",
    "        wordset = wordset.loc[~wordset.word.isin(tested_words)]\n",
    "\n",
    "        # Compute letter distribution of updated wordset\n",
    "        pos_scores = compute_pos_letter_distribution(wordset)\n",
    "\n",
    "        # Obtain scores\n",
    "        scores = wordset.word.apply(compute_pos_score, pos_scores=pos_scores)\n",
    "        scores = pd.DataFrame({'word': wordset.word, 'score': scores,\n",
    "                              'word_freq': wordset.word_freq,\n",
    "                              'n_articles': wordset.n_articles}).sort_values('score', ascending=False)\n",
    "        scores = scores.sort_values(['score'], ascending=False)\n",
    "        # display(scores.head(10))\n",
    "\n",
    "        # Set new input word\n",
    "        if scores.shape[0] > 0:\n",
    "            if len(tested_words) < 2:\n",
    "                input_word = input_word2\n",
    "            else:\n",
    "                display(scores.head(10))\n",
    "                input_word = input('Choose a word:')\n",
    "                if input_word == 'quit':\n",
    "                    return\n",
    "            n_iter += 1\n",
    "    print(f'Solved in {n_iter} steps.')"
   ]
  },
  {
   "cell_type": "code",
   "execution_count": 97,
   "id": "28bc6710-244c-4dfc-851c-edf01c40fc8b",
   "metadata": {
    "tags": []
   },
   "outputs": [],
   "source": [
    "def app_wordle_global_double(input_word1, input_word2):\n",
    "    feedback = ''\n",
    "    wordset = wordle.copy()\n",
    "    tested_words = []\n",
    "    n_iter = 1\n",
    "    \n",
    "    input_word = input_word1\n",
    "\n",
    "    while feedback.lower() != 'ggggg' or feedback != 'quit':\n",
    "\n",
    "        # Check solution\n",
    "        feedback = input('Enter feedback:')\n",
    "        if feedback.lower() == 'quit':\n",
    "            return\n",
    "        elif feedback.lower() == 'ggggg':\n",
    "            print(f'Solved in {n_iter} steps.')\n",
    "            return\n",
    "        tested_words.append(input_word)\n",
    "        print(f'[{n_iter}] Input: {input_word} | Feedback: {feedback}')\n",
    "\n",
    "        # Filter wordset\n",
    "        wordset = filter_wordset(input_word, feedback.upper(), wordset)\n",
    "        wordset = wordset.loc[~wordset.word.isin(tested_words)]\n",
    "\n",
    "        # Compute letter distribution of updated wordset\n",
    "        wordset_letterdist = compute_letter_frequencies(wordset)\n",
    "        freqs = wordset_letterdist.sum().to_dict()\n",
    "\n",
    "        # Obtain scores\n",
    "        scores = wordset.word.apply(compute_score, freqs=freqs)\n",
    "        scores = pd.DataFrame({'word': wordset.word, 'score': scores, 'word_freq': wordset.word_freq}) \\\n",
    "            .sort_values(['score', 'word_freq'], ascending=False)\n",
    "        # display(scores.head(10))\n",
    "\n",
    "        # Set new input word\n",
    "        if scores.shape[0] > 0:\n",
    "            if len(tested_words) < 2:\n",
    "                input_word = input_word2\n",
    "            else:\n",
    "                display(scores.head(10))\n",
    "                input_word = input('Choose a word:')\n",
    "                if input_word == 'quit':\n",
    "                    return\n",
    "            n_iter += 1\n",
    "    print(f'Solved in {n_iter} steps.')"
   ]
  },
  {
   "cell_type": "markdown",
   "id": "d54356de-de2a-4c56-b375-9861fb62eed7",
   "metadata": {},
   "source": [
    "## Run"
   ]
  },
  {
   "cell_type": "code",
   "execution_count": 91,
   "id": "246e985f-2203-4048-ad6b-cd24e4c2ff0e",
   "metadata": {},
   "outputs": [
    {
     "name": "stdin",
     "output_type": "stream",
     "text": [
      "Enter feedback: xxgyy\n"
     ]
    },
    {
     "name": "stdout",
     "output_type": "stream",
     "text": [
      "[1] Input: pares | Feedback: xxgyy\n"
     ]
    },
    {
     "name": "stdin",
     "output_type": "stream",
     "text": [
      "Enter feedback: xxxxx\n"
     ]
    },
    {
     "name": "stdout",
     "output_type": "stream",
     "text": [
      "[2] Input: doilt | Feedback: xxxxx\n"
     ]
    },
    {
     "data": {
      "text/html": [
       "<div>\n",
       "<style scoped>\n",
       "    .dataframe tbody tr th:only-of-type {\n",
       "        vertical-align: middle;\n",
       "    }\n",
       "\n",
       "    .dataframe tbody tr th {\n",
       "        vertical-align: top;\n",
       "    }\n",
       "\n",
       "    .dataframe thead th {\n",
       "        text-align: right;\n",
       "    }\n",
       "</style>\n",
       "<table border=\"1\" class=\"dataframe\">\n",
       "  <thead>\n",
       "    <tr style=\"text-align: right;\">\n",
       "      <th></th>\n",
       "      <th>word</th>\n",
       "      <th>score</th>\n",
       "      <th>word_freq</th>\n",
       "      <th>n_articles</th>\n",
       "    </tr>\n",
       "  </thead>\n",
       "  <tbody>\n",
       "    <tr>\n",
       "      <th>4026</th>\n",
       "      <td>herse</td>\n",
       "      <td>40</td>\n",
       "      <td>0.0</td>\n",
       "      <td>0.0</td>\n",
       "    </tr>\n",
       "    <tr>\n",
       "      <th>5643</th>\n",
       "      <td>merse</td>\n",
       "      <td>40</td>\n",
       "      <td>0.0</td>\n",
       "      <td>0.0</td>\n",
       "    </tr>\n",
       "    <tr>\n",
       "      <th>8115</th>\n",
       "      <td>serge</td>\n",
       "      <td>40</td>\n",
       "      <td>2225.0</td>\n",
       "      <td>1543.0</td>\n",
       "    </tr>\n",
       "    <tr>\n",
       "      <th>8122</th>\n",
       "      <td>serre</td>\n",
       "      <td>40</td>\n",
       "      <td>332.0</td>\n",
       "      <td>204.0</td>\n",
       "    </tr>\n",
       "    <tr>\n",
       "      <th>11464</th>\n",
       "      <td>verse</td>\n",
       "      <td>40</td>\n",
       "      <td>7694.0</td>\n",
       "      <td>5712.0</td>\n",
       "    </tr>\n",
       "    <tr>\n",
       "      <th>10666</th>\n",
       "      <td>serve</td>\n",
       "      <td>39</td>\n",
       "      <td>35195.0</td>\n",
       "      <td>32791.0</td>\n",
       "    </tr>\n",
       "    <tr>\n",
       "      <th>1303</th>\n",
       "      <td>burse</td>\n",
       "      <td>35</td>\n",
       "      <td>0.0</td>\n",
       "      <td>0.0</td>\n",
       "    </tr>\n",
       "    <tr>\n",
       "      <th>11379</th>\n",
       "      <td>nurse</td>\n",
       "      <td>35</td>\n",
       "      <td>5961.0</td>\n",
       "      <td>4255.0</td>\n",
       "    </tr>\n",
       "    <tr>\n",
       "      <th>12372</th>\n",
       "      <td>curse</td>\n",
       "      <td>35</td>\n",
       "      <td>2909.0</td>\n",
       "      <td>1951.0</td>\n",
       "    </tr>\n",
       "    <tr>\n",
       "      <th>12666</th>\n",
       "      <td>surge</td>\n",
       "      <td>35</td>\n",
       "      <td>1662.0</td>\n",
       "      <td>1348.0</td>\n",
       "    </tr>\n",
       "  </tbody>\n",
       "</table>\n",
       "</div>"
      ],
      "text/plain": [
       "        word  score  word_freq  n_articles\n",
       "4026   herse     40        0.0         0.0\n",
       "5643   merse     40        0.0         0.0\n",
       "8115   serge     40     2225.0      1543.0\n",
       "8122   serre     40      332.0       204.0\n",
       "11464  verse     40     7694.0      5712.0\n",
       "10666  serve     39    35195.0     32791.0\n",
       "1303   burse     35        0.0         0.0\n",
       "11379  nurse     35     5961.0      4255.0\n",
       "12372  curse     35     2909.0      1951.0\n",
       "12666  surge     35     1662.0      1348.0"
      ]
     },
     "metadata": {},
     "output_type": "display_data"
    },
    {
     "name": "stdin",
     "output_type": "stream",
     "text": [
      "Choose a word: herse\n",
      "Enter feedback: xggyg\n"
     ]
    },
    {
     "name": "stdout",
     "output_type": "stream",
     "text": [
      "[3] Input: herse | Feedback: xggyg\n"
     ]
    },
    {
     "data": {
      "text/html": [
       "<div>\n",
       "<style scoped>\n",
       "    .dataframe tbody tr th:only-of-type {\n",
       "        vertical-align: middle;\n",
       "    }\n",
       "\n",
       "    .dataframe tbody tr th {\n",
       "        vertical-align: top;\n",
       "    }\n",
       "\n",
       "    .dataframe thead th {\n",
       "        text-align: right;\n",
       "    }\n",
       "</style>\n",
       "<table border=\"1\" class=\"dataframe\">\n",
       "  <thead>\n",
       "    <tr style=\"text-align: right;\">\n",
       "      <th></th>\n",
       "      <th>word</th>\n",
       "      <th>score</th>\n",
       "      <th>word_freq</th>\n",
       "      <th>n_articles</th>\n",
       "    </tr>\n",
       "  </thead>\n",
       "  <tbody>\n",
       "    <tr>\n",
       "      <th>8115</th>\n",
       "      <td>serge</td>\n",
       "      <td>13</td>\n",
       "      <td>2225.0</td>\n",
       "      <td>1543.0</td>\n",
       "    </tr>\n",
       "    <tr>\n",
       "      <th>8122</th>\n",
       "      <td>serre</td>\n",
       "      <td>13</td>\n",
       "      <td>332.0</td>\n",
       "      <td>204.0</td>\n",
       "    </tr>\n",
       "    <tr>\n",
       "      <th>10666</th>\n",
       "      <td>serve</td>\n",
       "      <td>13</td>\n",
       "      <td>35195.0</td>\n",
       "      <td>32791.0</td>\n",
       "    </tr>\n",
       "  </tbody>\n",
       "</table>\n",
       "</div>"
      ],
      "text/plain": [
       "        word  score  word_freq  n_articles\n",
       "8115   serge     13     2225.0      1543.0\n",
       "8122   serre     13      332.0       204.0\n",
       "10666  serve     13    35195.0     32791.0"
      ]
     },
     "metadata": {},
     "output_type": "display_data"
    },
    {
     "name": "stdin",
     "output_type": "stream",
     "text": [
      "Choose a word: quit\n"
     ]
    }
   ],
   "source": [
    "app_wordle_double('pares', 'doilt')"
   ]
  },
  {
   "cell_type": "code",
   "execution_count": null,
   "id": "d63879ee-db9e-4306-b5e5-80fbbda729e0",
   "metadata": {},
   "outputs": [],
   "source": []
  },
  {
   "cell_type": "code",
   "execution_count": null,
   "id": "664de89a-e755-4fb7-a18f-88e080765c23",
   "metadata": {},
   "outputs": [],
   "source": []
  },
  {
   "cell_type": "code",
   "execution_count": null,
   "id": "53bcd741-c343-47b2-8df9-fef35abad1ae",
   "metadata": {},
   "outputs": [],
   "source": []
  },
  {
   "cell_type": "code",
   "execution_count": 105,
   "id": "780727e9-2730-4687-9873-a883e218c7fe",
   "metadata": {},
   "outputs": [
    {
     "name": "stdin",
     "output_type": "stream",
     "text": [
      "Enter feedback: xyxxx\n"
     ]
    },
    {
     "name": "stdout",
     "output_type": "stream",
     "text": [
      "[1] Input: resin | Feedback: xyxxx\n"
     ]
    },
    {
     "name": "stdin",
     "output_type": "stream",
     "text": [
      "Enter feedback: xyyxx\n"
     ]
    },
    {
     "name": "stdout",
     "output_type": "stream",
     "text": [
      "[2] Input: ploat | Feedback: xyyxx\n"
     ]
    },
    {
     "data": {
      "text/html": [
       "<div>\n",
       "<style scoped>\n",
       "    .dataframe tbody tr th:only-of-type {\n",
       "        vertical-align: middle;\n",
       "    }\n",
       "\n",
       "    .dataframe tbody tr th {\n",
       "        vertical-align: top;\n",
       "    }\n",
       "\n",
       "    .dataframe thead th {\n",
       "        text-align: right;\n",
       "    }\n",
       "</style>\n",
       "<table border=\"1\" class=\"dataframe\">\n",
       "  <thead>\n",
       "    <tr style=\"text-align: right;\">\n",
       "      <th></th>\n",
       "      <th>word</th>\n",
       "      <th>score</th>\n",
       "      <th>word_freq</th>\n",
       "    </tr>\n",
       "  </thead>\n",
       "  <tbody>\n",
       "    <tr>\n",
       "      <th>6343</th>\n",
       "      <td>odyle</td>\n",
       "      <td>196.0</td>\n",
       "      <td>0.0</td>\n",
       "    </tr>\n",
       "    <tr>\n",
       "      <th>10488</th>\n",
       "      <td>yodel</td>\n",
       "      <td>196.0</td>\n",
       "      <td>0.0</td>\n",
       "    </tr>\n",
       "    <tr>\n",
       "      <th>10490</th>\n",
       "      <td>yodle</td>\n",
       "      <td>196.0</td>\n",
       "      <td>0.0</td>\n",
       "    </tr>\n",
       "    <tr>\n",
       "      <th>5332</th>\n",
       "      <td>loved</td>\n",
       "      <td>192.0</td>\n",
       "      <td>4126.0</td>\n",
       "    </tr>\n",
       "    <tr>\n",
       "      <th>10001</th>\n",
       "      <td>voled</td>\n",
       "      <td>192.0</td>\n",
       "      <td>0.0</td>\n",
       "    </tr>\n",
       "    <tr>\n",
       "      <th>10669</th>\n",
       "      <td>model</td>\n",
       "      <td>191.0</td>\n",
       "      <td>74721.0</td>\n",
       "    </tr>\n",
       "    <tr>\n",
       "      <th>5271</th>\n",
       "      <td>lomed</td>\n",
       "      <td>191.0</td>\n",
       "      <td>0.0</td>\n",
       "    </tr>\n",
       "    <tr>\n",
       "      <th>5806</th>\n",
       "      <td>moled</td>\n",
       "      <td>191.0</td>\n",
       "      <td>0.0</td>\n",
       "    </tr>\n",
       "    <tr>\n",
       "      <th>5238</th>\n",
       "      <td>lobed</td>\n",
       "      <td>190.0</td>\n",
       "      <td>626.0</td>\n",
       "    </tr>\n",
       "    <tr>\n",
       "      <th>4115</th>\n",
       "      <td>holed</td>\n",
       "      <td>190.0</td>\n",
       "      <td>196.0</td>\n",
       "    </tr>\n",
       "  </tbody>\n",
       "</table>\n",
       "</div>"
      ],
      "text/plain": [
       "        word  score  word_freq\n",
       "6343   odyle  196.0        0.0\n",
       "10488  yodel  196.0        0.0\n",
       "10490  yodle  196.0        0.0\n",
       "5332   loved  192.0     4126.0\n",
       "10001  voled  192.0        0.0\n",
       "10669  model  191.0    74721.0\n",
       "5271   lomed  191.0        0.0\n",
       "5806   moled  191.0        0.0\n",
       "5238   lobed  190.0      626.0\n",
       "4115   holed  190.0      196.0"
      ]
     },
     "metadata": {},
     "output_type": "display_data"
    },
    {
     "name": "stdin",
     "output_type": "stream",
     "text": [
      "Choose a word: odyle\n",
      "Enter feedback: yyxyy\n"
     ]
    },
    {
     "name": "stdout",
     "output_type": "stream",
     "text": [
      "[3] Input: odyle | Feedback: yyxyy\n"
     ]
    },
    {
     "data": {
      "text/html": [
       "<div>\n",
       "<style scoped>\n",
       "    .dataframe tbody tr th:only-of-type {\n",
       "        vertical-align: middle;\n",
       "    }\n",
       "\n",
       "    .dataframe tbody tr th {\n",
       "        vertical-align: top;\n",
       "    }\n",
       "\n",
       "    .dataframe thead th {\n",
       "        text-align: right;\n",
       "    }\n",
       "</style>\n",
       "<table border=\"1\" class=\"dataframe\">\n",
       "  <thead>\n",
       "    <tr style=\"text-align: right;\">\n",
       "      <th></th>\n",
       "      <th>word</th>\n",
       "      <th>score</th>\n",
       "      <th>word_freq</th>\n",
       "    </tr>\n",
       "  </thead>\n",
       "  <tbody>\n",
       "    <tr>\n",
       "      <th>10669</th>\n",
       "      <td>model</td>\n",
       "      <td>63.0</td>\n",
       "      <td>74721.0</td>\n",
       "    </tr>\n",
       "    <tr>\n",
       "      <th>5271</th>\n",
       "      <td>lomed</td>\n",
       "      <td>63.0</td>\n",
       "      <td>0.0</td>\n",
       "    </tr>\n",
       "    <tr>\n",
       "      <th>5806</th>\n",
       "      <td>moled</td>\n",
       "      <td>63.0</td>\n",
       "      <td>0.0</td>\n",
       "    </tr>\n",
       "    <tr>\n",
       "      <th>5332</th>\n",
       "      <td>loved</td>\n",
       "      <td>62.0</td>\n",
       "      <td>4126.0</td>\n",
       "    </tr>\n",
       "    <tr>\n",
       "      <th>4515</th>\n",
       "      <td>jodel</td>\n",
       "      <td>62.0</td>\n",
       "      <td>0.0</td>\n",
       "    </tr>\n",
       "    <tr>\n",
       "      <th>4523</th>\n",
       "      <td>joled</td>\n",
       "      <td>62.0</td>\n",
       "      <td>0.0</td>\n",
       "    </tr>\n",
       "    <tr>\n",
       "      <th>5337</th>\n",
       "      <td>lowed</td>\n",
       "      <td>62.0</td>\n",
       "      <td>0.0</td>\n",
       "    </tr>\n",
       "    <tr>\n",
       "      <th>10001</th>\n",
       "      <td>voled</td>\n",
       "      <td>62.0</td>\n",
       "      <td>0.0</td>\n",
       "    </tr>\n",
       "    <tr>\n",
       "      <th>11319</th>\n",
       "      <td>dowel</td>\n",
       "      <td>62.0</td>\n",
       "      <td>0.0</td>\n",
       "    </tr>\n",
       "    <tr>\n",
       "      <th>5238</th>\n",
       "      <td>lobed</td>\n",
       "      <td>61.0</td>\n",
       "      <td>626.0</td>\n",
       "    </tr>\n",
       "  </tbody>\n",
       "</table>\n",
       "</div>"
      ],
      "text/plain": [
       "        word  score  word_freq\n",
       "10669  model   63.0    74721.0\n",
       "5271   lomed   63.0        0.0\n",
       "5806   moled   63.0        0.0\n",
       "5332   loved   62.0     4126.0\n",
       "4515   jodel   62.0        0.0\n",
       "4523   joled   62.0        0.0\n",
       "5337   lowed   62.0        0.0\n",
       "10001  voled   62.0        0.0\n",
       "11319  dowel   62.0        0.0\n",
       "5238   lobed   61.0      626.0"
      ]
     },
     "metadata": {},
     "output_type": "display_data"
    },
    {
     "name": "stdin",
     "output_type": "stream",
     "text": [
      "Choose a word: quit\n"
     ]
    }
   ],
   "source": [
    "app_wordle_global_double('resin', 'ploat')"
   ]
  },
  {
   "cell_type": "code",
   "execution_count": null,
   "id": "9c9fa39e-e704-4fe7-9284-3e4955f6fd9c",
   "metadata": {},
   "outputs": [],
   "source": []
  },
  {
   "cell_type": "code",
   "execution_count": null,
   "id": "381cc941-9110-4736-ba3c-2de09bab5dde",
   "metadata": {},
   "outputs": [],
   "source": []
  }
 ],
 "metadata": {
  "kernelspec": {
   "display_name": "datascience",
   "language": "python",
   "name": "datascience"
  },
  "language_info": {
   "codemirror_mode": {
    "name": "ipython",
    "version": 3
   },
   "file_extension": ".py",
   "mimetype": "text/x-python",
   "name": "python",
   "nbconvert_exporter": "python",
   "pygments_lexer": "ipython3",
   "version": "3.9.7"
  }
 },
 "nbformat": 4,
 "nbformat_minor": 5
}
