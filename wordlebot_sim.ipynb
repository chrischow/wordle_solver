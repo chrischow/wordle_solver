{
 "cells": [
  {
   "cell_type": "markdown",
   "id": "ad6b8999-126a-478e-9a21-c15dac029bb4",
   "metadata": {},
   "source": [
    "# Wordlebot Sim"
   ]
  },
  {
   "cell_type": "code",
   "execution_count": 1,
   "id": "f1b8d092-a2f8-4c12-99b7-29a3c9c24e52",
   "metadata": {},
   "outputs": [],
   "source": [
    "import numpy as np\n",
    "import pandas as pd\n",
    "import wordlebot\n",
    "\n",
    "from wordlebot import Wordle\n",
    "from wordlebot.gyx import entropy"
   ]
  },
  {
   "cell_type": "code",
   "execution_count": 2,
   "id": "23b8d224-050e-4d14-b440-41bd4fa40541",
   "metadata": {},
   "outputs": [],
   "source": [
    "wordle_candidates, wordle_answers = wordlebot.load_data('data')\n",
    "wordle = wordle_candidates.loc[\n",
    "    wordle_candidates.word.apply(lambda x: len(x)==len(set(x)))\n",
    "].append(wordle_answers).reset_index(drop=True)"
   ]
  },
  {
   "cell_type": "code",
   "execution_count": 3,
   "id": "3afbbbeb-b607-47f4-9a00-ef5cafbfa2e7",
   "metadata": {},
   "outputs": [],
   "source": [
    "def play_game(input_word, solution):\n",
    "\n",
    "    game = Wordle(wordle, wordle_answers, solution=solution, verbose=False)\n",
    "\n",
    "    while not game.solved:\n",
    "        if game.step == 0:\n",
    "            game.guess(input_word)\n",
    "        else:\n",
    "            game.guess(game.optimisations['ncands'].word.iloc[0])\n",
    "        game.optimise()\n",
    "        \n",
    "    return game.records()"
   ]
  },
  {
   "cell_type": "code",
   "execution_count": null,
   "id": "94443d5f-7d97-4222-b55e-7de65fb860df",
   "metadata": {},
   "outputs": [
    {
     "name": "stdout",
     "output_type": "stream",
     "text": [
      "[Game 10] Range: 3-4 | Median/Mean: 3.0 | 3.400 | Fail: 0.000%\n",
      "[Game 20] Range: 3-4 | Median/Mean: 3.0 | 3.450 | Fail: 0.000%\n",
      "[Game 30] Range: 2-5 | Median/Mean: 3.0 | 3.400 | Fail: 0.000%\n",
      "[Game 40] Range: 2-5 | Median/Mean: 3.0 | 3.450 | Fail: 0.000%\n",
      "[Game 50] Range: 2-7 | Median/Mean: 3.0 | 3.560 | Fail: 2.000%\n",
      "[Game 60] Range: 2-7 | Median/Mean: 4.0 | 3.600 | Fail: 1.667%\n",
      "[Game 70] Range: 2-7 | Median/Mean: 3.5 | 3.571 | Fail: 1.429%\n",
      "[Game 80] Range: 2-7 | Median/Mean: 3.0 | 3.513 | Fail: 1.250%\n"
     ]
    }
   ],
   "source": [
    "input_word = 'soare'\n",
    "counter = 1\n",
    "results = []\n",
    "for solution in wordle_answers.word:\n",
    "    game_results = play_game(input_word, solution)\n",
    "    results.append(game_results)\n",
    "    if counter % 10 == 0:\n",
    "        temp_df = pd.DataFrame(results)\n",
    "        print(f'[Game {counter}] Range: {temp_df.steps.min()}-{temp_df.steps.max()} | ' + \\\n",
    "              f'Median/Mean: {temp_df.steps.median()} / {temp_df.steps.mean():.3f} | ' + \\\n",
    "              f'Fail: {100 * temp_df.steps.ge(7).mean():.3f}%')\n",
    "    counter += 1"
   ]
  },
  {
   "cell_type": "code",
   "execution_count": null,
   "id": "7b277397-2318-49ad-9ff7-fa0026dbef40",
   "metadata": {},
   "outputs": [],
   "source": []
  }
 ],
 "metadata": {
  "kernelspec": {
   "display_name": "datascience",
   "language": "python",
   "name": "datascience"
  },
  "language_info": {
   "codemirror_mode": {
    "name": "ipython",
    "version": 3
   },
   "file_extension": ".py",
   "mimetype": "text/x-python",
   "name": "python",
   "nbconvert_exporter": "python",
   "pygments_lexer": "ipython3",
   "version": "3.9.7"
  }
 },
 "nbformat": 4,
 "nbformat_minor": 5
}
