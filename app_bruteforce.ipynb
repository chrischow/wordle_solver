{
 "cells": [
  {
   "cell_type": "markdown",
   "id": "c3e2ffd5-cdeb-42ce-ad21-9e77bdb87925",
   "metadata": {},
   "source": [
    "# Brute Force App"
   ]
  },
  {
   "cell_type": "code",
   "execution_count": 1,
   "id": "ab10282e-ba9d-44aa-93f5-4996565cd290",
   "metadata": {},
   "outputs": [],
   "source": [
    "import json\n",
    "import numpy as np\n",
    "import pandas as pd\n",
    "\n",
    "from joblib import Parallel, delayed\n",
    "from tqdm.notebook import tqdm"
   ]
  },
  {
   "cell_type": "markdown",
   "id": "641a1f73-b8ce-44e5-9f1f-e4b5bb262c4e",
   "metadata": {},
   "source": [
    "## Load Data"
   ]
  },
  {
   "cell_type": "code",
   "execution_count": 2,
   "id": "c8fcb712-d469-4503-8fe4-fe791ba74e52",
   "metadata": {},
   "outputs": [],
   "source": [
    "with open('data/wordle-candidates.json', 'r') as file:\n",
    "    wordle_candidates = json.load(file)\n",
    "    \n",
    "with open('data/wordle-answers.json', 'r') as file:\n",
    "    wordle_answers = json.load(file)\n",
    "\n",
    "wordle_candidates = pd.DataFrame(wordle_candidates['words'], columns=['word'])\n",
    "wordle_answers = pd.DataFrame(wordle_answers['words'], columns=['word'])\n",
    "wordle_candidates['is_answer'] = 0\n",
    "wordle_answers['is_answer'] = 1\n",
    "wordle = wordle_candidates.append(wordle_answers).reset_index(drop=True)"
   ]
  },
  {
   "cell_type": "code",
   "execution_count": 3,
   "id": "f8ea5999-70a4-4483-bc88-fcd6ad97363d",
   "metadata": {},
   "outputs": [],
   "source": [
    "words_all = pd.read_table('data/archive/en_words_1_5-5.txt', delimiter=' ', header=None, index_col=None,\n",
    "                         names=['word_len', 'word_freq', 'n_articles']).reset_index()\n",
    "words_all = words_all.rename(columns={'index': 'word'})\n",
    "\n",
    "# Filter by english\n",
    "alphabet = list('abcdefghijklmnopqrstuvwxyz')\n",
    "words_all = words_all.loc[words_all.word.apply(lambda x: all([l in alphabet for l in x]))].reset_index(drop=True)"
   ]
  },
  {
   "cell_type": "markdown",
   "id": "df87f01c-a19f-4466-89bb-1cb6fcab5149",
   "metadata": {},
   "source": [
    "## Prepare Artifacts"
   ]
  },
  {
   "cell_type": "code",
   "execution_count": 4,
   "id": "07c81187-2fec-4b76-ae3e-8ad2bfa15cc7",
   "metadata": {},
   "outputs": [],
   "source": [
    "alpha_dict = {l: i for i, l in enumerate(list('abcdefghijklmnopqrstuvwxyz'))}"
   ]
  },
  {
   "cell_type": "code",
   "execution_count": 5,
   "id": "553cd1ab-6139-42dc-b28d-bb6af2f388ad",
   "metadata": {},
   "outputs": [],
   "source": [
    "# Initialise solutions vector\n",
    "solutions = np.zeros((wordle.shape[0], 26, 5))\n",
    "for i, word in enumerate(wordle.word):\n",
    "    for j, l in enumerate(word):\n",
    "        solutions[i, alpha_dict[l], j] = 1"
   ]
  },
  {
   "cell_type": "markdown",
   "id": "ebf0ac5a-9305-4ea3-b0e5-f281ec04a12d",
   "metadata": {},
   "source": [
    "## Game Logic"
   ]
  },
  {
   "cell_type": "code",
   "execution_count": 6,
   "id": "872698bc-2285-4ca9-b9ce-9585d8cba11a",
   "metadata": {},
   "outputs": [],
   "source": [
    "def get_feedback(input_word, solution):\n",
    "    output = ''\n",
    "    for i in range(5):\n",
    "        if input_word[i] == solution[i]:\n",
    "            output += 'G'\n",
    "        elif input_word[i] in solution:\n",
    "            output += 'Y'\n",
    "        else:\n",
    "            output += 'X'\n",
    "    return output"
   ]
  },
  {
   "cell_type": "code",
   "execution_count": 7,
   "id": "4878f618-52aa-4285-ab91-93eb5bee6577",
   "metadata": {},
   "outputs": [],
   "source": [
    "def filter_wordset(input_word, feedback, wordset):\n",
    "    newset = wordset.copy()\n",
    "    for i in range(5):\n",
    "        if feedback[i] == 'G':\n",
    "            newset = newset.loc[newset.word.str[i] == input_word[i]]\n",
    "        elif feedback[i] == 'Y':\n",
    "            # newset = newset.loc[newset.word.str.contains(input_word[i])]\n",
    "            newset = newset.loc[newset.word.str.contains(input_word[i]) & newset.word.apply(lambda x: x[i] != input_word[i])]\n",
    "        else:\n",
    "            newset = newset.loc[~newset.word.str.contains(input_word[i])]\n",
    "    return newset"
   ]
  },
  {
   "cell_type": "markdown",
   "id": "7ec0c98b-f1e8-4bf8-8ceb-0142d9541f04",
   "metadata": {},
   "source": [
    "## Vector Ops"
   ]
  },
  {
   "cell_type": "code",
   "execution_count": 8,
   "id": "7ce0dd7b-4583-4ec6-b201-57a28ebeb553",
   "metadata": {},
   "outputs": [],
   "source": [
    "def init_vec(word):\n",
    "    mat = np.zeros((26, 5))\n",
    "    for i, l in enumerate(word):\n",
    "        mat[alpha_dict[l], i] = 1\n",
    "    return mat"
   ]
  },
  {
   "cell_type": "code",
   "execution_count": 9,
   "id": "0b1da7a9-9454-444f-a1ee-ced1f9ee004d",
   "metadata": {},
   "outputs": [],
   "source": [
    "def get_scores(word, mask):\n",
    "    word_vec = init_vec(word)\n",
    "    solutions_masked = solutions[mask]\n",
    "    greens = solutions_masked * word_vec\n",
    "    yellows = word_vec * (\n",
    "        (solutions_masked.sum(axis=2) >= word_vec.sum(axis=1)) & \n",
    "        (word_vec.sum(axis=1) > 0)) \\\n",
    "        .reshape(np.sum(mask), 26, 1) - greens\n",
    "    greys = word_vec - greens - yellows\n",
    "    scores = np.array([np.sum(greens, axis=(1,2)), np.sum(yellows, axis=(1,2)), np.sum(greys, axis=(1,2))]).T\n",
    "        \n",
    "    return scores"
   ]
  },
  {
   "cell_type": "markdown",
   "id": "241fe8f4-8988-45e1-9eaf-513ac7e36347",
   "metadata": {},
   "source": [
    "## App"
   ]
  },
  {
   "cell_type": "code",
   "execution_count": 10,
   "id": "7a28e1b6-6549-4f44-bd90-0314648ea60e",
   "metadata": {},
   "outputs": [],
   "source": [
    "def get_final_scores(word, mask):\n",
    "    scores = get_scores(word, mask)\n",
    "    df_scores = pd.DataFrame(scores, columns=['g', 'y', 'x'])\n",
    "    df_scores['score'] = df_scores.g * 2 + df_scores.y\n",
    "    \n",
    "    return df_scores.score.mean()"
   ]
  },
  {
   "cell_type": "code",
   "execution_count": 11,
   "id": "c9598462-ed67-4e6c-8c96-4a2a2714184f",
   "metadata": {},
   "outputs": [],
   "source": [
    "def update_mask(input_word, feedback, wordset, mask):\n",
    "    newmask = mask.copy()\n",
    "    for i in range(5):\n",
    "        if feedback[i] == 'G':\n",
    "            newmask[~wordset.word.str[i].eq(input_word[i])] = False\n",
    "        elif feedback[i] == 'Y':\n",
    "            newmask[~(wordset.word.str.contains(input_word[i]) & wordset.word.apply(lambda x: x[i] != input_word[i]))] = False\n",
    "        elif feedback[i] == 'X':\n",
    "            newmask[wordset.word.str.contains(input_word[i])] = False\n",
    "            \n",
    "    return newmask"
   ]
  },
  {
   "cell_type": "code",
   "execution_count": 19,
   "id": "8011768f-c1ca-4524-862e-2b0b92481220",
   "metadata": {},
   "outputs": [],
   "source": [
    "def run_sim(input_word, solution):\n",
    "    mask = np.array([True] * wordle.shape[0])\n",
    "    step = 1\n",
    "    w = wordle.copy()\n",
    "    res = pd.DataFrame([{'a': 1}, {'a': 1}])\n",
    "    tested_words = []\n",
    "    all_chars = []\n",
    "    ncands = []\n",
    "    \n",
    "    while res.shape[0] > 1:\n",
    "        if step == 1:\n",
    "            guess = input_word\n",
    "        tested_words.append(guess)\n",
    "        all_chars = all_chars + list(set(guess))\n",
    "        all_chars = list(set(all_chars))\n",
    "        \n",
    "        fb = get_feedback(guess, solution)\n",
    "        \n",
    "        mask = update_mask(guess, fb.upper(), wordle, mask)\n",
    "        w = filter_wordset(guess, fb.upper(), w)\n",
    "        ncands.append(w.shape[0])\n",
    "        \n",
    "        # Candidates\n",
    "        new_scores = []\n",
    "        for word in w.word:\n",
    "            new_scores.append(get_final_scores(word, mask))\n",
    "        \n",
    "        res = pd.DataFrame({'word': w.word, 'score': new_scores}) \\\n",
    "            .merge(words_all[['word', 'word_freq']], on='word', how='left') \\\n",
    "            .fillna(0)\n",
    "        \n",
    "        # Filters\n",
    "        if w.shape[0] > 10:\n",
    "            guess = res.sort_values(['score', 'word_freq'], ascending=False).word.iloc[0]\n",
    "        elif w.shape[0] <= 10:\n",
    "            if w.shape[0] <= 8 and w.shape[0] >= 3:\n",
    "                w_copy = res.sort_values(['word_freq', 'score'], ascending=False).copy()\n",
    "                # Extract letters\n",
    "                for i in range(5):\n",
    "                    w_copy[f'p{i}'] = w_copy.word.str[i]\n",
    "\n",
    "                # Count the number of unique columns\n",
    "                unique_mask = w_copy.iloc[:, -5:].nunique() > 1\n",
    "\n",
    "                # If only 1, then recommend another word\n",
    "                if unique_mask.sum() == 1:\n",
    "                    wc = wordle.copy()\n",
    "                    total_letters = w_copy.shape[0]\n",
    "                    wc['scores'] = 0\n",
    "                    wc['counts'] = 0\n",
    "                    for i, letter in enumerate(np.squeeze(w_copy[unique_mask.index[unique_mask]].values)):\n",
    "                        wc['scores'] = wc['scores'] + (total_letters - i) * wc.word.str.contains(letter).astype(int)\n",
    "                        wc['counts'] = wc['counts'] + wc.word.str.contains(letter).astype(int)\n",
    "\n",
    "                    special_res = wc.loc[wc.counts.le(total_letters // 2 * 3)].sort_values('scores', ascending=False)\n",
    "                    guess = special_res.word.iloc[0]\n",
    "                else:\n",
    "                    guess = res.sort_values(['word_freq', 'score'], ascending=False).word.iloc[0]\n",
    "            else:\n",
    "                guess = res.sort_values(['word_freq', 'score'], ascending=False).word.iloc[0]\n",
    "        if not fb.upper() == 'GGGGG':\n",
    "            step += 1\n",
    "        \n",
    "    return input_word, solution, step, ncands, tested_words"
   ]
  },
  {
   "cell_type": "code",
   "execution_count": null,
   "id": "e6119b52-dd23-4dae-a912-fb2f6e5f5cd7",
   "metadata": {},
   "outputs": [
    {
     "name": "stderr",
     "output_type": "stream",
     "text": [
      "[Parallel(n_jobs=5)]: Using backend LokyBackend with 5 concurrent workers.\n",
      "[Parallel(n_jobs=5)]: Done  40 tasks      | elapsed:    8.3s\n",
      "[Parallel(n_jobs=5)]: Done 190 tasks      | elapsed:   38.2s\n",
      "[Parallel(n_jobs=5)]: Done 440 tasks      | elapsed:  1.5min\n",
      "[Parallel(n_jobs=5)]: Done 790 tasks      | elapsed:  2.7min\n",
      "[Parallel(n_jobs=5)]: Done 1240 tasks      | elapsed:  4.2min\n",
      "[Parallel(n_jobs=5)]: Done 1790 tasks      | elapsed:  6.1min\n",
      "[Parallel(n_jobs=5)]: Done 2440 tasks      | elapsed:  8.7min\n",
      "[Parallel(n_jobs=5)]: Done 3190 tasks      | elapsed: 12.8min\n",
      "[Parallel(n_jobs=5)]: Done 4040 tasks      | elapsed: 17.1min\n",
      "[Parallel(n_jobs=5)]: Done 4990 tasks      | elapsed: 21.4min\n",
      "[Parallel(n_jobs=5)]: Done 6040 tasks      | elapsed: 25.9min\n"
     ]
    }
   ],
   "source": [
    "results = Parallel(n_jobs=5, verbose=1)(delayed(run_sim)(input_word, solution) \\\n",
    "                                       for input_word in ['soare', 'roate', 'raise'] \\\n",
    "                                       for solution in wordle_answers.word)"
   ]
  },
  {
   "cell_type": "code",
   "execution_count": null,
   "id": "b5d9b075-16a6-4e69-9bf9-0b60686a82c4",
   "metadata": {},
   "outputs": [],
   "source": []
  },
  {
   "cell_type": "code",
   "execution_count": null,
   "id": "6b07d15d-d7ad-42ae-832d-cacfdb788af9",
   "metadata": {},
   "outputs": [],
   "source": [
    "df = pd.DataFrame(results, columns=['word', 'solution', 'steps', 'ncands', 'tested_words'])"
   ]
  }
 ],
 "metadata": {
  "kernelspec": {
   "display_name": "datascience",
   "language": "python",
   "name": "datascience"
  },
  "language_info": {
   "codemirror_mode": {
    "name": "ipython",
    "version": 3
   },
   "file_extension": ".py",
   "mimetype": "text/x-python",
   "name": "python",
   "nbconvert_exporter": "python",
   "pygments_lexer": "ipython3",
   "version": "3.9.7"
  }
 },
 "nbformat": 4,
 "nbformat_minor": 5
}
