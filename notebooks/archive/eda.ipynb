{
 "cells": [
  {
   "cell_type": "markdown",
   "id": "7f50cf84-5bc6-438f-b646-e23e24d478c8",
   "metadata": {},
   "source": [
    "# EDA"
   ]
  },
  {
   "cell_type": "code",
   "execution_count": 14,
   "id": "2dbb902e-3d71-4bc1-b695-4ba333130e4d",
   "metadata": {},
   "outputs": [],
   "source": [
    "import matplotlib.pyplot as plt\n",
    "import numpy as np\n",
    "import pandas as pd\n",
    "import seaborn as sns\n",
    "sns.set()"
   ]
  },
  {
   "cell_type": "markdown",
   "id": "995a6e3a-aa3c-4926-b591-120bf024c2ca",
   "metadata": {},
   "source": [
    "## Load Words"
   ]
  },
  {
   "cell_type": "code",
   "execution_count": 2,
   "id": "3672bb45-9b0d-4e1f-bbae-b492624bf4fb",
   "metadata": {},
   "outputs": [],
   "source": [
    "words_12k = pd.read_csv('words_12k.csv')\n",
    "words_5k = pd.read_csv('words_5k.csv')"
   ]
  },
  {
   "cell_type": "markdown",
   "id": "7456050e-949e-4b6f-965d-99471fb6c035",
   "metadata": {},
   "source": [
    "## Game Logic"
   ]
  },
  {
   "cell_type": "code",
   "execution_count": 3,
   "id": "2dc352a9-441e-4936-9a12-93bcc22dd74e",
   "metadata": {},
   "outputs": [],
   "source": [
    "def wordle(input_word, solution):\n",
    "    output = ''\n",
    "    for i in range(5):\n",
    "        if input_word[i] == solution[i]:\n",
    "            output += 'G'\n",
    "        elif input_word[i] in solution:\n",
    "            output += 'Y'\n",
    "        else:\n",
    "            output += 'X'\n",
    "    return output"
   ]
  },
  {
   "cell_type": "code",
   "execution_count": 4,
   "id": "b74f8c12-4c92-4ab9-8a1e-4bcb642965d2",
   "metadata": {},
   "outputs": [],
   "source": [
    "def filter_wordset(input_word, feedback, wordset):\n",
    "    newset = wordset.copy()\n",
    "    for i in range(5):\n",
    "        if feedback[i] == 'G':\n",
    "            newset = newset.loc[newset.word.str[i] == input_word[i]]\n",
    "        elif feedback[i] == 'Y':\n",
    "            # newset = newset.loc[newset.word.str.contains(input_word[i])]\n",
    "            newset = newset.loc[newset.word.str.contains(input_word[i]) & newset.word.apply(lambda x: x[i] != input_word[i])]\n",
    "        else:\n",
    "            newset = newset.loc[~newset.word.str.contains(input_word[i])]\n",
    "    return newset"
   ]
  },
  {
   "cell_type": "code",
   "execution_count": 5,
   "id": "95b03ef6-9e92-4f00-9bc7-4040e918bcaa",
   "metadata": {},
   "outputs": [],
   "source": [
    "def compute_letter_distribution(wordset):\n",
    "    w = wordset.copy()\n",
    "    for letter in list('abcdefghijklmnopqrstuvwxyz'):\n",
    "        w[letter] = w.word.str.contains(letter).astype(int)\n",
    "    return w.iloc[:, 1:]"
   ]
  },
  {
   "cell_type": "code",
   "execution_count": 6,
   "id": "90c681c2-5b2a-4bf5-87e8-753ad9c3c4be",
   "metadata": {},
   "outputs": [],
   "source": [
    "def compute_score(x, freqs):\n",
    "    letters = set(x)\n",
    "    output = 0\n",
    "    for letter in letters:\n",
    "        output += freqs[letter]\n",
    "    return output"
   ]
  },
  {
   "cell_type": "markdown",
   "id": "249df854-173f-4b2a-9b26-1a2abb1e2d90",
   "metadata": {},
   "source": [
    "## Pre-compute"
   ]
  },
  {
   "cell_type": "code",
   "execution_count": 7,
   "id": "fae08595-1dde-45f3-a699-17d4527a41de",
   "metadata": {},
   "outputs": [],
   "source": [
    "global_freqs = compute_letter_distribution(words_12k).sum().to_dict()"
   ]
  },
  {
   "cell_type": "code",
   "execution_count": 20,
   "id": "7b7823e2-5873-4050-aa8a-ca8d6f8da331",
   "metadata": {},
   "outputs": [
    {
     "data": {
      "image/png": "[encoded data removed]",
      "text/plain": [
       "<Figure size 864x432 with 1 Axes>"
      ]
     },
     "metadata": {},
     "output_type": "display_data"
    }
   ],
   "source": [
    "compute_letter_distribution(words_12k).sum().sort_values().plot.barh(figsize=(12,6))\n",
    "plt.title('Global Letter Frequencies', fontdict={'fontsize': 15})\n",
    "plt.show()"
   ]
  },
  {
   "cell_type": "code",
   "execution_count": 21,
   "id": "1b47af22-e135-4b39-a89b-dbe797cd2c4e",
   "metadata": {},
   "outputs": [],
   "source": [
    "global_scores = words_12k.word.apply(compute_score, freqs=global_freqs)\n",
    "global_scores = pd.DataFrame({'word': words_12k.word, 'score': global_scores}).sort_values('score', ascending=False)"
   ]
  },
  {
   "cell_type": "code",
   "execution_count": 22,
   "id": "efb2dfc5-d4db-46c9-895f-55bcd41ed5de",
   "metadata": {},
   "outputs": [
    {
     "data": {
      "text/html": [
       "<div>\n",
       "<style scoped>\n",
       "    .dataframe tbody tr th:only-of-type {\n",
       "        vertical-align: middle;\n",
       "    }\n",
       "\n",
       "    .dataframe tbody tr th {\n",
       "        vertical-align: top;\n",
       "    }\n",
       "\n",
       "    .dataframe thead th {\n",
       "        text-align: right;\n",
       "    }\n",
       "</style>\n",
       "<table border=\"1\" class=\"dataframe\">\n",
       "  <thead>\n",
       "    <tr style=\"text-align: right;\">\n",
       "      <th></th>\n",
       "      <th>word</th>\n",
       "      <th>score</th>\n",
       "    </tr>\n",
       "  </thead>\n",
       "  <tbody>\n",
       "    <tr>\n",
       "      <th>136</th>\n",
       "      <td>aeros</td>\n",
       "      <td>23886</td>\n",
       "    </tr>\n",
       "    <tr>\n",
       "      <th>534</th>\n",
       "      <td>arose</td>\n",
       "      <td>23886</td>\n",
       "    </tr>\n",
       "    <tr>\n",
       "      <th>9966</th>\n",
       "      <td>soare</td>\n",
       "      <td>23886</td>\n",
       "    </tr>\n",
       "    <tr>\n",
       "      <th>8501</th>\n",
       "      <td>raise</td>\n",
       "      <td>23580</td>\n",
       "    </tr>\n",
       "    <tr>\n",
       "      <th>9415</th>\n",
       "      <td>serai</td>\n",
       "      <td>23580</td>\n",
       "    </tr>\n",
       "    <tr>\n",
       "      <th>518</th>\n",
       "      <td>arise</td>\n",
       "      <td>23580</td>\n",
       "    </tr>\n",
       "    <tr>\n",
       "      <th>137</th>\n",
       "      <td>aesir</td>\n",
       "      <td>23580</td>\n",
       "    </tr>\n",
       "    <tr>\n",
       "      <th>5853</th>\n",
       "      <td>laser</td>\n",
       "      <td>23159</td>\n",
       "    </tr>\n",
       "    <tr>\n",
       "      <th>5917</th>\n",
       "      <td>lears</td>\n",
       "      <td>23159</td>\n",
       "    </tr>\n",
       "    <tr>\n",
       "      <th>3131</th>\n",
       "      <td>earls</td>\n",
       "      <td>23159</td>\n",
       "    </tr>\n",
       "    <tr>\n",
       "      <th>522</th>\n",
       "      <td>arles</td>\n",
       "      <td>23159</td>\n",
       "    </tr>\n",
       "    <tr>\n",
       "      <th>8513</th>\n",
       "      <td>rales</td>\n",
       "      <td>23159</td>\n",
       "    </tr>\n",
       "    <tr>\n",
       "      <th>9416</th>\n",
       "      <td>seral</td>\n",
       "      <td>23159</td>\n",
       "    </tr>\n",
       "    <tr>\n",
       "      <th>8608</th>\n",
       "      <td>reals</td>\n",
       "      <td>23159</td>\n",
       "    </tr>\n",
       "    <tr>\n",
       "      <th>5791</th>\n",
       "      <td>laers</td>\n",
       "      <td>23159</td>\n",
       "    </tr>\n",
       "    <tr>\n",
       "      <th>5843</th>\n",
       "      <td>lares</td>\n",
       "      <td>23159</td>\n",
       "    </tr>\n",
       "    <tr>\n",
       "      <th>307</th>\n",
       "      <td>aloes</td>\n",
       "      <td>23114</td>\n",
       "    </tr>\n",
       "    <tr>\n",
       "      <th>8565</th>\n",
       "      <td>rates</td>\n",
       "      <td>23093</td>\n",
       "    </tr>\n",
       "    <tr>\n",
       "      <th>10822</th>\n",
       "      <td>teras</td>\n",
       "      <td>23093</td>\n",
       "    </tr>\n",
       "    <tr>\n",
       "      <th>501</th>\n",
       "      <td>arets</td>\n",
       "      <td>23093</td>\n",
       "    </tr>\n",
       "    <tr>\n",
       "      <th>10380</th>\n",
       "      <td>strae</td>\n",
       "      <td>23093</td>\n",
       "    </tr>\n",
       "    <tr>\n",
       "      <th>8743</th>\n",
       "      <td>resat</td>\n",
       "      <td>23093</td>\n",
       "    </tr>\n",
       "    <tr>\n",
       "      <th>10757</th>\n",
       "      <td>tears</td>\n",
       "      <td>23093</td>\n",
       "    </tr>\n",
       "    <tr>\n",
       "      <th>584</th>\n",
       "      <td>aster</td>\n",
       "      <td>23093</td>\n",
       "    </tr>\n",
       "    <tr>\n",
       "      <th>10283</th>\n",
       "      <td>stear</td>\n",
       "      <td>23093</td>\n",
       "    </tr>\n",
       "    <tr>\n",
       "      <th>8616</th>\n",
       "      <td>reast</td>\n",
       "      <td>23093</td>\n",
       "    </tr>\n",
       "    <tr>\n",
       "      <th>10708</th>\n",
       "      <td>taser</td>\n",
       "      <td>23093</td>\n",
       "    </tr>\n",
       "    <tr>\n",
       "      <th>3134</th>\n",
       "      <td>earst</td>\n",
       "      <td>23093</td>\n",
       "    </tr>\n",
       "    <tr>\n",
       "      <th>10694</th>\n",
       "      <td>tares</td>\n",
       "      <td>23093</td>\n",
       "    </tr>\n",
       "    <tr>\n",
       "      <th>10265</th>\n",
       "      <td>stare</td>\n",
       "      <td>23093</td>\n",
       "    </tr>\n",
       "    <tr>\n",
       "      <th>10335</th>\n",
       "      <td>stoae</td>\n",
       "      <td>23048</td>\n",
       "    </tr>\n",
       "    <tr>\n",
       "      <th>11012</th>\n",
       "      <td>toeas</td>\n",
       "      <td>23048</td>\n",
       "    </tr>\n",
       "    <tr>\n",
       "      <th>9908</th>\n",
       "      <td>snare</td>\n",
       "      <td>22837</td>\n",
       "    </tr>\n",
       "    <tr>\n",
       "      <th>8612</th>\n",
       "      <td>reans</td>\n",
       "      <td>22837</td>\n",
       "    </tr>\n",
       "    <tr>\n",
       "      <th>7073</th>\n",
       "      <td>nears</td>\n",
       "      <td>22837</td>\n",
       "    </tr>\n",
       "    <tr>\n",
       "      <th>9160</th>\n",
       "      <td>saner</td>\n",
       "      <td>22837</td>\n",
       "    </tr>\n",
       "    <tr>\n",
       "      <th>3133</th>\n",
       "      <td>earns</td>\n",
       "      <td>22837</td>\n",
       "    </tr>\n",
       "    <tr>\n",
       "      <th>7044</th>\n",
       "      <td>nares</td>\n",
       "      <td>22837</td>\n",
       "    </tr>\n",
       "    <tr>\n",
       "      <th>223</th>\n",
       "      <td>aisle</td>\n",
       "      <td>22808</td>\n",
       "    </tr>\n",
       "    <tr>\n",
       "      <th>134</th>\n",
       "      <td>aeons</td>\n",
       "      <td>22792</td>\n",
       "    </tr>\n",
       "    <tr>\n",
       "      <th>9109</th>\n",
       "      <td>saine</td>\n",
       "      <td>22486</td>\n",
       "    </tr>\n",
       "    <tr>\n",
       "      <th>403</th>\n",
       "      <td>anise</td>\n",
       "      <td>22486</td>\n",
       "    </tr>\n",
       "    <tr>\n",
       "      <th>5213</th>\n",
       "      <td>isnae</td>\n",
       "      <td>22486</td>\n",
       "    </tr>\n",
       "    <tr>\n",
       "      <th>632</th>\n",
       "      <td>aures</td>\n",
       "      <td>22470</td>\n",
       "    </tr>\n",
       "    <tr>\n",
       "      <th>11521</th>\n",
       "      <td>ureas</td>\n",
       "      <td>22470</td>\n",
       "    </tr>\n",
       "    <tr>\n",
       "      <th>11515</th>\n",
       "      <td>urase</td>\n",
       "      <td>22470</td>\n",
       "    </tr>\n",
       "    <tr>\n",
       "      <th>11536</th>\n",
       "      <td>ursae</td>\n",
       "      <td>22470</td>\n",
       "    </tr>\n",
       "    <tr>\n",
       "      <th>2569</th>\n",
       "      <td>dears</td>\n",
       "      <td>22356</td>\n",
       "    </tr>\n",
       "    <tr>\n",
       "      <th>2519</th>\n",
       "      <td>dares</td>\n",
       "      <td>22356</td>\n",
       "    </tr>\n",
       "    <tr>\n",
       "      <th>8603</th>\n",
       "      <td>reads</td>\n",
       "      <td>22356</td>\n",
       "    </tr>\n",
       "  </tbody>\n",
       "</table>\n",
       "</div>"
      ],
      "text/plain": [
       "        word  score\n",
       "136    aeros  23886\n",
       "534    arose  23886\n",
       "9966   soare  23886\n",
       "8501   raise  23580\n",
       "9415   serai  23580\n",
       "518    arise  23580\n",
       "137    aesir  23580\n",
       "5853   laser  23159\n",
       "5917   lears  23159\n",
       "3131   earls  23159\n",
       "522    arles  23159\n",
       "8513   rales  23159\n",
       "9416   seral  23159\n",
       "8608   reals  23159\n",
       "5791   laers  23159\n",
       "5843   lares  23159\n",
       "307    aloes  23114\n",
       "8565   rates  23093\n",
       "10822  teras  23093\n",
       "501    arets  23093\n",
       "10380  strae  23093\n",
       "8743   resat  23093\n",
       "10757  tears  23093\n",
       "584    aster  23093\n",
       "10283  stear  23093\n",
       "8616   reast  23093\n",
       "10708  taser  23093\n",
       "3134   earst  23093\n",
       "10694  tares  23093\n",
       "10265  stare  23093\n",
       "10335  stoae  23048\n",
       "11012  toeas  23048\n",
       "9908   snare  22837\n",
       "8612   reans  22837\n",
       "7073   nears  22837\n",
       "9160   saner  22837\n",
       "3133   earns  22837\n",
       "7044   nares  22837\n",
       "223    aisle  22808\n",
       "134    aeons  22792\n",
       "9109   saine  22486\n",
       "403    anise  22486\n",
       "5213   isnae  22486\n",
       "632    aures  22470\n",
       "11521  ureas  22470\n",
       "11515  urase  22470\n",
       "11536  ursae  22470\n",
       "2569   dears  22356\n",
       "2519   dares  22356\n",
       "8603   reads  22356"
      ]
     },
     "execution_count": 22,
     "metadata": {},
     "output_type": "execute_result"
    }
   ],
   "source": [
    "global_scores.head(50)"
   ]
  },
  {
   "cell_type": "code",
   "execution_count": 36,
   "id": "5f6e84dd-2702-4f6b-ace3-ae1949b09c93",
   "metadata": {},
   "outputs": [
    {
     "data": {
      "image/png": "[encoded data removed]",
      "text/plain": [
       "<Figure size 864x432 with 1 Axes>"
      ]
     },
     "metadata": {},
     "output_type": "display_data"
    }
   ],
   "source": [
    "plot_words = global_scores.head(10).reset_index(drop=True)\n",
    "plot_words.set_index('word').plot.barh(figsize=(12,6), legend=None)\n",
    "plt.gca().invert_yaxis()\n",
    "plt.title('Scores for 12k 5-letter Words', fontdict={'fontsize': 15})\n",
    "for i, row in plot_words.iterrows():\n",
    "    plt.text(row.score+100, i+0.1, row.score)\n",
    "plt.show()"
   ]
  },
  {
   "cell_type": "markdown",
   "id": "74577563-926c-4ff6-b426-f13a1103d823",
   "metadata": {},
   "source": [
    "### First and Last Letters"
   ]
  },
  {
   "cell_type": "code",
   "execution_count": 302,
   "id": "d1595c74-1d5d-4ea2-90d0-aad891a11e50",
   "metadata": {},
   "outputs": [
    {
     "data": {
      "text/plain": [
       "s    1521\n",
       "c     888\n",
       "b     871\n",
       "p     821\n",
       "t     787\n",
       "a     715\n",
       "m     666\n",
       "d     650\n",
       "r     610\n",
       "g     608\n",
       "f     575\n",
       "l     551\n",
       "h     477\n",
       "w     402\n",
       "k     353\n",
       "n     317\n",
       "e     288\n",
       "o     257\n",
       "v     231\n",
       "j     191\n",
       "u     178\n",
       "y     175\n",
       "i     157\n",
       "z      98\n",
       "q      76\n",
       "x      15\n",
       "Name: word, dtype: int64"
      ]
     },
     "execution_count": 302,
     "metadata": {},
     "output_type": "execute_result"
    }
   ],
   "source": [
    "words_12k.word.str[0].value_counts()"
   ]
  },
  {
   "cell_type": "code",
   "execution_count": 303,
   "id": "cb47355c-9246-4ff0-9f51-6ab67d1b0c04",
   "metadata": {},
   "outputs": [
    {
     "data": {
      "text/plain": [
       "s    3805\n",
       "e    1477\n",
       "y    1254\n",
       "d     807\n",
       "t     710\n",
       "r     656\n",
       "a     632\n",
       "n     512\n",
       "l     465\n",
       "o     365\n",
       "h     349\n",
       "i     253\n",
       "k     244\n",
       "m     179\n",
       "p     146\n",
       "g     135\n",
       "c     124\n",
       "f      80\n",
       "x      65\n",
       "u      63\n",
       "w      62\n",
       "b      55\n",
       "z      31\n",
       "v       4\n",
       "q       3\n",
       "j       2\n",
       "Name: word, dtype: int64"
      ]
     },
     "execution_count": 303,
     "metadata": {},
     "output_type": "execute_result"
    }
   ],
   "source": [
    "words_12k.word.str[-1].value_counts()"
   ]
  },
  {
   "cell_type": "markdown",
   "id": "0580a5a6-9c1f-466b-be8f-47b6ef1fa0e3",
   "metadata": {},
   "source": [
    "## Algorithm"
   ]
  },
  {
   "cell_type": "code",
   "execution_count": 229,
   "id": "7d894590-b20a-416e-9377-c45f7f9397e6",
   "metadata": {},
   "outputs": [
    {
     "data": {
      "text/plain": [
       "1936    droop\n",
       "Name: word, dtype: object"
      ]
     },
     "execution_count": 229,
     "metadata": {},
     "output_type": "execute_result"
    }
   ],
   "source": [
    "words_5k.sample(n=1).word"
   ]
  },
  {
   "cell_type": "code",
   "execution_count": 304,
   "id": "a002fa29-fc3e-4ff0-9281-33d3ef631e25",
   "metadata": {},
   "outputs": [
    {
     "name": "stdout",
     "output_type": "stream",
     "text": [
      "Solution: robot\n",
      "[1] Input: pares | Feedback: XXYXX\n",
      "wordset size: 160\n",
      "[2] Input: intro | Feedback: XXYYY\n",
      "wordset size: 11\n",
      "[3] Input: broth | Feedback: YYYYX\n",
      "wordset size: 1\n",
      "[4] Input: robot | Feedback: GGGGG\n",
      "wordset size: 0\n"
     ]
    }
   ],
   "source": [
    "solution = 'robot'\n",
    "input_word = 'pares'\n",
    "feedback = ''\n",
    "wordset = words_5k.copy()\n",
    "tested_words = []\n",
    "n_iter = 1\n",
    "\n",
    "print(f'Solution: {solution}')\n",
    "while feedback != 'GGGGG':\n",
    "    \n",
    "    # Check solution\n",
    "    feedback = wordle(input_word, solution)\n",
    "    print(f'[{n_iter}] Input: {input_word} | Feedback: {feedback}')\n",
    "    tested_words.append(input_word)\n",
    "    \n",
    "    # Filter wordset\n",
    "    wordset = filter_wordset(input_word, feedback, wordset)\n",
    "    wordset = wordset.loc[~wordset.word.isin(tested_words)]\n",
    "    print('wordset size:', wordset.shape[0])\n",
    "    \n",
    "    # Compute letter distribution of updated wordset\n",
    "    wordset_letterdist = compute_letter_distribution(wordset)\n",
    "    freqs = wordset_letterdist.sum().to_dict()\n",
    "    \n",
    "    # Obtain scores\n",
    "    scores = wordset.word.apply(compute_score, freqs=freqs)\n",
    "    scores = pd.DataFrame({'word': wordset.word, 'score': scores}).sort_values('score', ascending=False)\n",
    "    \n",
    "    # Set new input word\n",
    "    if scores.shape[0] > 0:\n",
    "        input_word = scores.word.iloc[0]\n",
    "        n_iter += 1"
   ]
  },
  {
   "cell_type": "code",
   "execution_count": null,
   "id": "bab066dd-7912-43dc-82af-8bf0be2b4f87",
   "metadata": {},
   "outputs": [],
   "source": []
  },
  {
   "cell_type": "code",
   "execution_count": 244,
   "id": "c1e5f38c-90a3-46de-bc2e-4be84e9e10be",
   "metadata": {},
   "outputs": [],
   "source": [
    "def sim_wordle(input_word, solution):\n",
    "    feedback = ''\n",
    "    wordset = words_5k.copy()\n",
    "    tested_words = []\n",
    "    n_iter = 1\n",
    "\n",
    "    while feedback != 'GGGGG':\n",
    "\n",
    "        # Check solution\n",
    "        feedback = wordle(input_word, solution)\n",
    "        tested_words.append(input_word)\n",
    "\n",
    "        # Filter wordset\n",
    "        wordset = filter_wordset(input_word, feedback, wordset)\n",
    "        wordset = wordset.loc[~wordset.word.isin(tested_words)]\n",
    "\n",
    "        # Compute letter distribution of updated wordset\n",
    "        wordset_letterdist = compute_letter_distribution(wordset)\n",
    "        freqs = wordset_letterdist.sum().to_dict()\n",
    "\n",
    "        # Obtain scores\n",
    "        scores = wordset.word.apply(compute_score, freqs=freqs)\n",
    "        scores = pd.DataFrame({'word': wordset.word, 'score': scores}).sort_values('score', ascending=False)\n",
    "\n",
    "        # Set new input word\n",
    "        if scores.shape[0] > 0:\n",
    "            input_word = scores.word.iloc[0]\n",
    "            n_iter += 1\n",
    "    return n_iter"
   ]
  },
  {
   "cell_type": "code",
   "execution_count": 250,
   "id": "d7dafa62-e4c8-4526-86c4-2958eff741cc",
   "metadata": {},
   "outputs": [
    {
     "data": {
      "text/plain": [
       "'robot'"
      ]
     },
     "execution_count": 250,
     "metadata": {},
     "output_type": "execute_result"
    }
   ],
   "source": [
    "input_word"
   ]
  },
  {
   "cell_type": "code",
   "execution_count": 245,
   "id": "70761c97-afeb-426c-b59b-347351691c33",
   "metadata": {},
   "outputs": [],
   "source": [
    "from tqdm.notebook import tqdm\n",
    "\n",
    "from joblib import Parallel, delayed"
   ]
  },
  {
   "cell_type": "markdown",
   "id": "f43d2f77-4811-4b69-bcf8-ff3e08bf7b26",
   "metadata": {},
   "source": [
    "### Adieu"
   ]
  },
  {
   "cell_type": "code",
   "execution_count": 251,
   "id": "a35f5eab-ec55-49ab-9002-64d509186ac8",
   "metadata": {},
   "outputs": [
    {
     "name": "stderr",
     "output_type": "stream",
     "text": [
      "[Parallel(n_jobs=5)]: Using backend LokyBackend with 5 concurrent workers.\n",
      "[Parallel(n_jobs=5)]: Done  34 tasks      | elapsed:    0.7s\n",
      "[Parallel(n_jobs=5)]: Done 226 tasks      | elapsed:    4.4s\n",
      "[Parallel(n_jobs=5)]: Done 546 tasks      | elapsed:   10.6s\n",
      "[Parallel(n_jobs=5)]: Done 994 tasks      | elapsed:   19.2s\n",
      "[Parallel(n_jobs=5)]: Done 1570 tasks      | elapsed:   30.8s\n",
      "[Parallel(n_jobs=5)]: Done 2274 tasks      | elapsed:   45.1s\n",
      "[Parallel(n_jobs=5)]: Done 3106 tasks      | elapsed:  1.1min\n",
      "[Parallel(n_jobs=5)]: Done 4066 tasks      | elapsed:  1.4min\n",
      "[Parallel(n_jobs=5)]: Done 5154 tasks      | elapsed:  1.8min\n",
      "[Parallel(n_jobs=5)]: Done 5748 out of 5757 | elapsed:  2.0min remaining:    0.2s\n",
      "[Parallel(n_jobs=5)]: Done 5757 out of 5757 | elapsed:  2.0min finished\n"
     ]
    }
   ],
   "source": [
    "input_word = 'adieu'\n",
    "results = Parallel(n_jobs=5, verbose=3)(delayed(sim_wordle)(input_word, s) for s in words_5k.word)"
   ]
  },
  {
   "cell_type": "code",
   "execution_count": 256,
   "id": "eb97dccb-d6d4-47ea-87a3-e14c78085e5f",
   "metadata": {},
   "outputs": [
    {
     "data": {
      "text/html": [
       "<div>\n",
       "<style scoped>\n",
       "    .dataframe tbody tr th:only-of-type {\n",
       "        vertical-align: middle;\n",
       "    }\n",
       "\n",
       "    .dataframe tbody tr th {\n",
       "        vertical-align: top;\n",
       "    }\n",
       "\n",
       "    .dataframe thead th {\n",
       "        text-align: right;\n",
       "    }\n",
       "</style>\n",
       "<table border=\"1\" class=\"dataframe\">\n",
       "  <thead>\n",
       "    <tr style=\"text-align: right;\">\n",
       "      <th></th>\n",
       "      <th>count</th>\n",
       "      <th>mean</th>\n",
       "      <th>std</th>\n",
       "      <th>min</th>\n",
       "      <th>25%</th>\n",
       "      <th>50%</th>\n",
       "      <th>75%</th>\n",
       "      <th>max</th>\n",
       "    </tr>\n",
       "  </thead>\n",
       "  <tbody>\n",
       "    <tr>\n",
       "      <th>0</th>\n",
       "      <td>5757.0</td>\n",
       "      <td>4.428869</td>\n",
       "      <td>1.363434</td>\n",
       "      <td>1.0</td>\n",
       "      <td>4.0</td>\n",
       "      <td>4.0</td>\n",
       "      <td>5.0</td>\n",
       "      <td>13.0</td>\n",
       "    </tr>\n",
       "  </tbody>\n",
       "</table>\n",
       "</div>"
      ],
      "text/plain": [
       "    count      mean       std  min  25%  50%  75%   max\n",
       "0  5757.0  4.428869  1.363434  1.0  4.0  4.0  5.0  13.0"
      ]
     },
     "metadata": {},
     "output_type": "display_data"
    },
    {
     "data": {
      "image/png": "[encoded data removed]",
      "text/plain": [
       "<Figure size 432x288 with 1 Axes>"
      ]
     },
     "metadata": {
      "needs_background": "light"
     },
     "output_type": "display_data"
    }
   ],
   "source": [
    "performance = pd.Series(results)\n",
    "display(pd.DataFrame(performance.describe()).T)\n",
    "\n",
    "performance.plot.hist()\n",
    "plt.title(input_word)\n",
    "plt.show()"
   ]
  },
  {
   "cell_type": "markdown",
   "id": "e87436d0-d1d1-4b9d-b73f-36f82b464556",
   "metadata": {},
   "source": [
    "### Raise"
   ]
  },
  {
   "cell_type": "code",
   "execution_count": 257,
   "id": "398931d9-c456-409b-81d2-d20cde3b634e",
   "metadata": {},
   "outputs": [
    {
     "name": "stderr",
     "output_type": "stream",
     "text": [
      "[Parallel(n_jobs=5)]: Using backend LokyBackend with 5 concurrent workers.\n",
      "[Parallel(n_jobs=5)]: Done  38 tasks      | elapsed:    0.8s\n",
      "[Parallel(n_jobs=5)]: Done 422 tasks      | elapsed:    7.5s\n",
      "[Parallel(n_jobs=5)]: Done 1062 tasks      | elapsed:   20.2s\n",
      "[Parallel(n_jobs=5)]: Done 1958 tasks      | elapsed:   37.5s\n",
      "[Parallel(n_jobs=5)]: Done 3110 tasks      | elapsed:   60.0s\n",
      "[Parallel(n_jobs=5)]: Done 4518 tasks      | elapsed:  1.4min\n",
      "[Parallel(n_jobs=5)]: Done 5748 out of 5757 | elapsed:  1.9min remaining:    0.2s\n",
      "[Parallel(n_jobs=5)]: Done 5757 out of 5757 | elapsed:  1.9min finished\n"
     ]
    }
   ],
   "source": [
    "input_word = 'raise'\n",
    "results2 = Parallel(n_jobs=5, verbose=3)(delayed(sim_wordle)(input_word, s) for s in words_5k.word)"
   ]
  },
  {
   "cell_type": "code",
   "execution_count": 263,
   "id": "a106a3b9-ea63-497a-aff2-815fd0695377",
   "metadata": {},
   "outputs": [
    {
     "data": {
      "text/html": [
       "<div>\n",
       "<style scoped>\n",
       "    .dataframe tbody tr th:only-of-type {\n",
       "        vertical-align: middle;\n",
       "    }\n",
       "\n",
       "    .dataframe tbody tr th {\n",
       "        vertical-align: top;\n",
       "    }\n",
       "\n",
       "    .dataframe thead th {\n",
       "        text-align: right;\n",
       "    }\n",
       "</style>\n",
       "<table border=\"1\" class=\"dataframe\">\n",
       "  <thead>\n",
       "    <tr style=\"text-align: right;\">\n",
       "      <th></th>\n",
       "      <th>count</th>\n",
       "      <th>mean</th>\n",
       "      <th>std</th>\n",
       "      <th>min</th>\n",
       "      <th>25%</th>\n",
       "      <th>50%</th>\n",
       "      <th>75%</th>\n",
       "      <th>max</th>\n",
       "    </tr>\n",
       "  </thead>\n",
       "  <tbody>\n",
       "    <tr>\n",
       "      <th>0</th>\n",
       "      <td>5757.0</td>\n",
       "      <td>4.329164</td>\n",
       "      <td>1.361081</td>\n",
       "      <td>1.0</td>\n",
       "      <td>3.0</td>\n",
       "      <td>4.0</td>\n",
       "      <td>5.0</td>\n",
       "      <td>12.0</td>\n",
       "    </tr>\n",
       "  </tbody>\n",
       "</table>\n",
       "</div>"
      ],
      "text/plain": [
       "    count      mean       std  min  25%  50%  75%   max\n",
       "0  5757.0  4.329164  1.361081  1.0  3.0  4.0  5.0  12.0"
      ]
     },
     "metadata": {},
     "output_type": "display_data"
    },
    {
     "data": {
      "image/png": "[encoded data removed]",
      "text/plain": [
       "<Figure size 432x288 with 1 Axes>"
      ]
     },
     "metadata": {
      "needs_background": "light"
     },
     "output_type": "display_data"
    }
   ],
   "source": [
    "performance2 = pd.Series(results2)\n",
    "display(pd.DataFrame(performance2.describe()).T)\n",
    "\n",
    "performance2.plot.hist()\n",
    "plt.title(input_word)\n",
    "plt.show()"
   ]
  },
  {
   "cell_type": "markdown",
   "id": "89d9f2a7-7712-4579-b2b7-6fdd95e3d2f2",
   "metadata": {},
   "source": [
    "### Aeros"
   ]
  },
  {
   "cell_type": "code",
   "execution_count": 264,
   "id": "c1370196-6e76-4802-929b-0a5c06bdb54e",
   "metadata": {},
   "outputs": [
    {
     "name": "stderr",
     "output_type": "stream",
     "text": [
      "[Parallel(n_jobs=5)]: Using backend LokyBackend with 5 concurrent workers.\n",
      "[Parallel(n_jobs=5)]: Done  34 tasks      | elapsed:    0.6s\n",
      "[Parallel(n_jobs=5)]: Done 226 tasks      | elapsed:    4.3s\n",
      "[Parallel(n_jobs=5)]: Done 546 tasks      | elapsed:    9.6s\n",
      "[Parallel(n_jobs=5)]: Done 994 tasks      | elapsed:   17.4s\n",
      "[Parallel(n_jobs=5)]: Done 1570 tasks      | elapsed:   27.6s\n",
      "[Parallel(n_jobs=5)]: Done 2274 tasks      | elapsed:   41.4s\n",
      "[Parallel(n_jobs=5)]: Done 3106 tasks      | elapsed:   58.3s\n",
      "[Parallel(n_jobs=5)]: Done 4066 tasks      | elapsed:  1.3min\n",
      "[Parallel(n_jobs=5)]: Done 5154 tasks      | elapsed:  1.7min\n",
      "[Parallel(n_jobs=5)]: Done 5757 out of 5757 | elapsed:  1.9min finished\n"
     ]
    },
    {
     "data": {
      "text/html": [
       "<div>\n",
       "<style scoped>\n",
       "    .dataframe tbody tr th:only-of-type {\n",
       "        vertical-align: middle;\n",
       "    }\n",
       "\n",
       "    .dataframe tbody tr th {\n",
       "        vertical-align: top;\n",
       "    }\n",
       "\n",
       "    .dataframe thead th {\n",
       "        text-align: right;\n",
       "    }\n",
       "</style>\n",
       "<table border=\"1\" class=\"dataframe\">\n",
       "  <thead>\n",
       "    <tr style=\"text-align: right;\">\n",
       "      <th></th>\n",
       "      <th>count</th>\n",
       "      <th>mean</th>\n",
       "      <th>std</th>\n",
       "      <th>min</th>\n",
       "      <th>25%</th>\n",
       "      <th>50%</th>\n",
       "      <th>75%</th>\n",
       "      <th>max</th>\n",
       "    </tr>\n",
       "  </thead>\n",
       "  <tbody>\n",
       "    <tr>\n",
       "      <th>0</th>\n",
       "      <td>5757.0</td>\n",
       "      <td>4.340803</td>\n",
       "      <td>1.364658</td>\n",
       "      <td>2.0</td>\n",
       "      <td>3.0</td>\n",
       "      <td>4.0</td>\n",
       "      <td>5.0</td>\n",
       "      <td>12.0</td>\n",
       "    </tr>\n",
       "  </tbody>\n",
       "</table>\n",
       "</div>"
      ],
      "text/plain": [
       "    count      mean       std  min  25%  50%  75%   max\n",
       "0  5757.0  4.340803  1.364658  2.0  3.0  4.0  5.0  12.0"
      ]
     },
     "metadata": {},
     "output_type": "display_data"
    },
    {
     "data": {
      "image/png": "[encoded data removed]",
      "text/plain": [
       "<Figure size 432x288 with 1 Axes>"
      ]
     },
     "metadata": {
      "needs_background": "light"
     },
     "output_type": "display_data"
    }
   ],
   "source": [
    "input_word = 'aeros'\n",
    "results_aeros = Parallel(n_jobs=5, verbose=3)(delayed(sim_wordle)(input_word, s) for s in words_5k.word)\n",
    "performance_aeros = pd.Series(results_aeros)\n",
    "display(pd.DataFrame(performance_aeros.describe()).T)\n",
    "\n",
    "performance_aeros.plot.hist()\n",
    "plt.title(input_word)\n",
    "plt.show()"
   ]
  },
  {
   "cell_type": "markdown",
   "id": "1c894ee7-941f-491a-b2d5-9372dcdf74d7",
   "metadata": {
    "tags": []
   },
   "source": [
    "### Notes"
   ]
  },
  {
   "cell_type": "code",
   "execution_count": 267,
   "id": "6aa92f5c-310d-47ee-8eff-daef5f47bb7b",
   "metadata": {},
   "outputs": [
    {
     "name": "stderr",
     "output_type": "stream",
     "text": [
      "[Parallel(n_jobs=5)]: Using backend LokyBackend with 5 concurrent workers.\n",
      "[Parallel(n_jobs=5)]: Done  38 tasks      | elapsed:    0.7s\n",
      "[Parallel(n_jobs=5)]: Done 422 tasks      | elapsed:    7.0s\n",
      "[Parallel(n_jobs=5)]: Done 1062 tasks      | elapsed:   18.8s\n",
      "[Parallel(n_jobs=5)]: Done 1958 tasks      | elapsed:   35.1s\n",
      "[Parallel(n_jobs=5)]: Done 3110 tasks      | elapsed:   57.3s\n",
      "[Parallel(n_jobs=5)]: Done 4518 tasks      | elapsed:  1.4min\n",
      "[Parallel(n_jobs=5)]: Done 5748 out of 5757 | elapsed:  1.9min remaining:    0.2s\n",
      "[Parallel(n_jobs=5)]: Done 5757 out of 5757 | elapsed:  1.9min finished\n"
     ]
    },
    {
     "data": {
      "text/html": [
       "<div>\n",
       "<style scoped>\n",
       "    .dataframe tbody tr th:only-of-type {\n",
       "        vertical-align: middle;\n",
       "    }\n",
       "\n",
       "    .dataframe tbody tr th {\n",
       "        vertical-align: top;\n",
       "    }\n",
       "\n",
       "    .dataframe thead th {\n",
       "        text-align: right;\n",
       "    }\n",
       "</style>\n",
       "<table border=\"1\" class=\"dataframe\">\n",
       "  <thead>\n",
       "    <tr style=\"text-align: right;\">\n",
       "      <th></th>\n",
       "      <th>count</th>\n",
       "      <th>mean</th>\n",
       "      <th>std</th>\n",
       "      <th>min</th>\n",
       "      <th>25%</th>\n",
       "      <th>50%</th>\n",
       "      <th>75%</th>\n",
       "      <th>max</th>\n",
       "    </tr>\n",
       "  </thead>\n",
       "  <tbody>\n",
       "    <tr>\n",
       "      <th>0</th>\n",
       "      <td>5757.0</td>\n",
       "      <td>4.295293</td>\n",
       "      <td>1.351267</td>\n",
       "      <td>1.0</td>\n",
       "      <td>3.0</td>\n",
       "      <td>4.0</td>\n",
       "      <td>5.0</td>\n",
       "      <td>13.0</td>\n",
       "    </tr>\n",
       "  </tbody>\n",
       "</table>\n",
       "</div>"
      ],
      "text/plain": [
       "    count      mean       std  min  25%  50%  75%   max\n",
       "0  5757.0  4.295293  1.351267  1.0  3.0  4.0  5.0  13.0"
      ]
     },
     "metadata": {},
     "output_type": "display_data"
    },
    {
     "data": {
      "image/png": "[encoded data removed]",
      "text/plain": [
       "<Figure size 432x288 with 1 Axes>"
      ]
     },
     "metadata": {
      "needs_background": "light"
     },
     "output_type": "display_data"
    }
   ],
   "source": [
    "input_word = 'notes'\n",
    "results_aeros = Parallel(n_jobs=5, verbose=3)(delayed(sim_wordle)(input_word, s) for s in words_5k.word)\n",
    "performance_aeros = pd.Series(results_aeros)\n",
    "display(pd.DataFrame(performance_aeros.describe()).T)\n",
    "\n",
    "performance_aeros.plot.hist()\n",
    "plt.title(input_word)\n",
    "plt.show()"
   ]
  },
  {
   "cell_type": "markdown",
   "id": "0e4ab5ad-d0ee-4e90-a487-88dca33cd8a2",
   "metadata": {
    "tags": []
   },
   "source": [
    "### Resin"
   ]
  },
  {
   "cell_type": "code",
   "execution_count": 268,
   "id": "a691a19b-7a08-45e4-ba5c-b3af92eb8d06",
   "metadata": {},
   "outputs": [
    {
     "name": "stderr",
     "output_type": "stream",
     "text": [
      "[Parallel(n_jobs=5)]: Using backend LokyBackend with 5 concurrent workers.\n",
      "[Parallel(n_jobs=5)]: Done  34 tasks      | elapsed:    0.7s\n",
      "[Parallel(n_jobs=5)]: Done 226 tasks      | elapsed:    4.1s\n",
      "[Parallel(n_jobs=5)]: Done 546 tasks      | elapsed:    9.9s\n",
      "[Parallel(n_jobs=5)]: Done 994 tasks      | elapsed:   20.2s\n",
      "[Parallel(n_jobs=5)]: Done 1570 tasks      | elapsed:   32.1s\n",
      "[Parallel(n_jobs=5)]: Done 2274 tasks      | elapsed:   46.9s\n",
      "[Parallel(n_jobs=5)]: Done 3106 tasks      | elapsed:  1.1min\n",
      "[Parallel(n_jobs=5)]: Done 4066 tasks      | elapsed:  1.5min\n",
      "[Parallel(n_jobs=5)]: Done 5154 tasks      | elapsed:  1.9min\n",
      "[Parallel(n_jobs=5)]: Done 5757 out of 5757 | elapsed:  2.1min finished\n"
     ]
    },
    {
     "data": {
      "text/html": [
       "<div>\n",
       "<style scoped>\n",
       "    .dataframe tbody tr th:only-of-type {\n",
       "        vertical-align: middle;\n",
       "    }\n",
       "\n",
       "    .dataframe tbody tr th {\n",
       "        vertical-align: top;\n",
       "    }\n",
       "\n",
       "    .dataframe thead th {\n",
       "        text-align: right;\n",
       "    }\n",
       "</style>\n",
       "<table border=\"1\" class=\"dataframe\">\n",
       "  <thead>\n",
       "    <tr style=\"text-align: right;\">\n",
       "      <th></th>\n",
       "      <th>count</th>\n",
       "      <th>mean</th>\n",
       "      <th>std</th>\n",
       "      <th>min</th>\n",
       "      <th>25%</th>\n",
       "      <th>50%</th>\n",
       "      <th>75%</th>\n",
       "      <th>max</th>\n",
       "    </tr>\n",
       "  </thead>\n",
       "  <tbody>\n",
       "    <tr>\n",
       "      <th>0</th>\n",
       "      <td>5757.0</td>\n",
       "      <td>4.306236</td>\n",
       "      <td>1.321306</td>\n",
       "      <td>1.0</td>\n",
       "      <td>3.0</td>\n",
       "      <td>4.0</td>\n",
       "      <td>5.0</td>\n",
       "      <td>13.0</td>\n",
       "    </tr>\n",
       "  </tbody>\n",
       "</table>\n",
       "</div>"
      ],
      "text/plain": [
       "    count      mean       std  min  25%  50%  75%   max\n",
       "0  5757.0  4.306236  1.321306  1.0  3.0  4.0  5.0  13.0"
      ]
     },
     "metadata": {},
     "output_type": "display_data"
    },
    {
     "data": {
      "image/png": "[encoded data removed]",
      "text/plain": [
       "<Figure size 432x288 with 1 Axes>"
      ]
     },
     "metadata": {
      "needs_background": "light"
     },
     "output_type": "display_data"
    }
   ],
   "source": [
    "input_word = 'resin'\n",
    "results_aeros = Parallel(n_jobs=5, verbose=3)(delayed(sim_wordle)(input_word, s) for s in words_5k.word)\n",
    "performance_aeros = pd.Series(results_aeros)\n",
    "display(pd.DataFrame(performance_aeros.describe()).T)\n",
    "\n",
    "performance_aeros.plot.hist()\n",
    "plt.title(input_word)\n",
    "plt.show()"
   ]
  },
  {
   "cell_type": "markdown",
   "id": "cedb0193-b9ad-42bd-8eb8-50e82ea67b00",
   "metadata": {
    "tags": []
   },
   "source": [
    "### Tares"
   ]
  },
  {
   "cell_type": "code",
   "execution_count": 269,
   "id": "eded54ff-3d25-4e5b-96f8-0a30b60b51b7",
   "metadata": {},
   "outputs": [
    {
     "name": "stderr",
     "output_type": "stream",
     "text": [
      "[Parallel(n_jobs=5)]: Using backend LokyBackend with 5 concurrent workers.\n",
      "[Parallel(n_jobs=5)]: Done  34 tasks      | elapsed:    0.7s\n",
      "[Parallel(n_jobs=5)]: Done 226 tasks      | elapsed:    4.9s\n",
      "[Parallel(n_jobs=5)]: Done 546 tasks      | elapsed:   10.9s\n",
      "[Parallel(n_jobs=5)]: Done 994 tasks      | elapsed:   21.3s\n",
      "[Parallel(n_jobs=5)]: Done 1570 tasks      | elapsed:   33.2s\n",
      "[Parallel(n_jobs=5)]: Done 2274 tasks      | elapsed:   47.1s\n",
      "[Parallel(n_jobs=5)]: Done 3106 tasks      | elapsed:  1.1min\n",
      "[Parallel(n_jobs=5)]: Done 4066 tasks      | elapsed:  1.4min\n",
      "[Parallel(n_jobs=5)]: Done 5154 tasks      | elapsed:  1.9min\n",
      "[Parallel(n_jobs=5)]: Done 5748 out of 5757 | elapsed:  2.1min remaining:    0.2s\n",
      "[Parallel(n_jobs=5)]: Done 5757 out of 5757 | elapsed:  2.1min finished\n"
     ]
    },
    {
     "data": {
      "text/html": [
       "<div>\n",
       "<style scoped>\n",
       "    .dataframe tbody tr th:only-of-type {\n",
       "        vertical-align: middle;\n",
       "    }\n",
       "\n",
       "    .dataframe tbody tr th {\n",
       "        vertical-align: top;\n",
       "    }\n",
       "\n",
       "    .dataframe thead th {\n",
       "        text-align: right;\n",
       "    }\n",
       "</style>\n",
       "<table border=\"1\" class=\"dataframe\">\n",
       "  <thead>\n",
       "    <tr style=\"text-align: right;\">\n",
       "      <th></th>\n",
       "      <th>count</th>\n",
       "      <th>mean</th>\n",
       "      <th>std</th>\n",
       "      <th>min</th>\n",
       "      <th>25%</th>\n",
       "      <th>50%</th>\n",
       "      <th>75%</th>\n",
       "      <th>max</th>\n",
       "    </tr>\n",
       "  </thead>\n",
       "  <tbody>\n",
       "    <tr>\n",
       "      <th>0</th>\n",
       "      <td>5757.0</td>\n",
       "      <td>4.231023</td>\n",
       "      <td>1.292031</td>\n",
       "      <td>1.0</td>\n",
       "      <td>3.0</td>\n",
       "      <td>4.0</td>\n",
       "      <td>5.0</td>\n",
       "      <td>12.0</td>\n",
       "    </tr>\n",
       "  </tbody>\n",
       "</table>\n",
       "</div>"
      ],
      "text/plain": [
       "    count      mean       std  min  25%  50%  75%   max\n",
       "0  5757.0  4.231023  1.292031  1.0  3.0  4.0  5.0  12.0"
      ]
     },
     "metadata": {},
     "output_type": "display_data"
    },
    {
     "data": {
      "image/png": "[encoded data removed]",
      "text/plain": [
       "<Figure size 432x288 with 1 Axes>"
      ]
     },
     "metadata": {
      "needs_background": "light"
     },
     "output_type": "display_data"
    }
   ],
   "source": [
    "input_word = 'tares'\n",
    "results_aeros = Parallel(n_jobs=5, verbose=3)(delayed(sim_wordle)(input_word, s) for s in words_5k.word)\n",
    "performance_aeros = pd.Series(results_aeros)\n",
    "display(pd.DataFrame(performance_aeros.describe()).T)\n",
    "\n",
    "performance_aeros.plot.hist()\n",
    "plt.title(input_word)\n",
    "plt.show()"
   ]
  },
  {
   "cell_type": "markdown",
   "id": "2577debe-220c-46d6-a818-90fb92aa1933",
   "metadata": {
    "tags": []
   },
   "source": [
    "### Senor"
   ]
  },
  {
   "cell_type": "code",
   "execution_count": 270,
   "id": "9e83663b-7941-45f1-94fd-8df25411aaca",
   "metadata": {},
   "outputs": [
    {
     "name": "stderr",
     "output_type": "stream",
     "text": [
      "[Parallel(n_jobs=5)]: Using backend LokyBackend with 5 concurrent workers.\n",
      "[Parallel(n_jobs=5)]: Done  34 tasks      | elapsed:    0.6s\n",
      "[Parallel(n_jobs=5)]: Done 226 tasks      | elapsed:    3.8s\n",
      "[Parallel(n_jobs=5)]: Done 546 tasks      | elapsed:    9.9s\n",
      "[Parallel(n_jobs=5)]: Done 994 tasks      | elapsed:   17.7s\n",
      "[Parallel(n_jobs=5)]: Done 1570 tasks      | elapsed:   28.4s\n",
      "[Parallel(n_jobs=5)]: Done 2274 tasks      | elapsed:   41.8s\n",
      "[Parallel(n_jobs=5)]: Done 3106 tasks      | elapsed:   58.7s\n",
      "[Parallel(n_jobs=5)]: Done 4066 tasks      | elapsed:  1.3min\n",
      "[Parallel(n_jobs=5)]: Done 5154 tasks      | elapsed:  1.7min\n",
      "[Parallel(n_jobs=5)]: Done 5748 out of 5757 | elapsed:  1.9min remaining:    0.2s\n",
      "[Parallel(n_jobs=5)]: Done 5757 out of 5757 | elapsed:  1.9min finished\n"
     ]
    },
    {
     "data": {
      "text/html": [
       "<div>\n",
       "<style scoped>\n",
       "    .dataframe tbody tr th:only-of-type {\n",
       "        vertical-align: middle;\n",
       "    }\n",
       "\n",
       "    .dataframe tbody tr th {\n",
       "        vertical-align: top;\n",
       "    }\n",
       "\n",
       "    .dataframe thead th {\n",
       "        text-align: right;\n",
       "    }\n",
       "</style>\n",
       "<table border=\"1\" class=\"dataframe\">\n",
       "  <thead>\n",
       "    <tr style=\"text-align: right;\">\n",
       "      <th></th>\n",
       "      <th>count</th>\n",
       "      <th>mean</th>\n",
       "      <th>std</th>\n",
       "      <th>min</th>\n",
       "      <th>25%</th>\n",
       "      <th>50%</th>\n",
       "      <th>75%</th>\n",
       "      <th>max</th>\n",
       "    </tr>\n",
       "  </thead>\n",
       "  <tbody>\n",
       "    <tr>\n",
       "      <th>0</th>\n",
       "      <td>5757.0</td>\n",
       "      <td>4.279138</td>\n",
       "      <td>1.302856</td>\n",
       "      <td>2.0</td>\n",
       "      <td>3.0</td>\n",
       "      <td>4.0</td>\n",
       "      <td>5.0</td>\n",
       "      <td>12.0</td>\n",
       "    </tr>\n",
       "  </tbody>\n",
       "</table>\n",
       "</div>"
      ],
      "text/plain": [
       "    count      mean       std  min  25%  50%  75%   max\n",
       "0  5757.0  4.279138  1.302856  2.0  3.0  4.0  5.0  12.0"
      ]
     },
     "metadata": {},
     "output_type": "display_data"
    },
    {
     "data": {
      "image/png": "[encoded data removed]",
      "text/plain": [
       "<Figure size 432x288 with 1 Axes>"
      ]
     },
     "metadata": {
      "needs_background": "light"
     },
     "output_type": "display_data"
    }
   ],
   "source": [
    "input_word = 'senor'\n",
    "results_aeros = Parallel(n_jobs=5, verbose=3)(delayed(sim_wordle)(input_word, s) for s in words_5k.word)\n",
    "performance_aeros = pd.Series(results_aeros)\n",
    "display(pd.DataFrame(performance_aeros.describe()).T)\n",
    "\n",
    "performance_aeros.plot.hist()\n",
    "plt.title(input_word)\n",
    "plt.show()"
   ]
  },
  {
   "cell_type": "markdown",
   "id": "9e47d66f-9b23-426a-b82a-fa2668bf251d",
   "metadata": {},
   "source": [
    "## PCA"
   ]
  },
  {
   "cell_type": "code",
   "execution_count": 283,
   "id": "808a32b8-e48d-4ce2-8dee-476008d556ab",
   "metadata": {},
   "outputs": [
    {
     "data": {
      "image/png": "[encoded data removed]",
      "text/plain": [
       "<Figure size 720x504 with 2 Axes>"
      ]
     },
     "metadata": {
      "needs_background": "light"
     },
     "output_type": "display_data"
    }
   ],
   "source": [
    "import seaborn as sns\n",
    "plt.figure(figsize=(10, 7))\n",
    "sns.heatmap(compute_letter_distribution(words_12k).corr(), cmap='RdBu', vmin=-1, vmax=1)\n",
    "plt.yticks(rotation=0)\n",
    "plt.show()"
   ]
  },
  {
   "cell_type": "code",
   "execution_count": null,
   "id": "ceb3bb85-9785-4f69-a4f5-e4c640cc0c4d",
   "metadata": {},
   "outputs": [],
   "source": []
  }
 ],
 "metadata": {
  "kernelspec": {
   "display_name": "datascience",
   "language": "python",
   "name": "datascience"
  },
  "language_info": {
   "codemirror_mode": {
    "name": "ipython",
    "version": 3
   },
   "file_extension": ".py",
   "mimetype": "text/x-python",
   "name": "python",
   "nbconvert_exporter": "python",
   "pygments_lexer": "ipython3",
   "version": "3.9.7"
  }
 },
 "nbformat": 4,
 "nbformat_minor": 5
}
