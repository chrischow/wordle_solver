{
 "cells": [
  {
   "cell_type": "markdown",
   "id": "ff84a8b6-9e59-424d-9911-36168301f372",
   "metadata": {},
   "source": [
    "# Get Word Lists"
   ]
  },
  {
   "cell_type": "code",
   "execution_count": 1,
   "id": "2b3f4e15-42f5-49d2-a308-09a0c692c7c1",
   "metadata": {},
   "outputs": [],
   "source": [
    "import numpy as np\n",
    "import pandas as pd\n",
    "import requests\n",
    "\n",
    "from bs4 import BeautifulSoup"
   ]
  },
  {
   "cell_type": "markdown",
   "id": "51e59f2e-578c-4562-97a5-99cd028d7eb6",
   "metadata": {},
   "source": [
    "## Large Dictionary"
   ]
  },
  {
   "cell_type": "code",
   "execution_count": 2,
   "id": "9021e5bf-a8ef-4150-8bd0-f37e1ef7dae4",
   "metadata": {},
   "outputs": [],
   "source": [
    "word_list = []"
   ]
  },
  {
   "cell_type": "code",
   "execution_count": 3,
   "id": "115d5ee8-958f-4cfb-a351-8ebee41768c9",
   "metadata": {},
   "outputs": [],
   "source": [
    "# Page 1\n",
    "response = requests.get('http://bestwordlist.com/5letterwords.htm')\n",
    "soup = BeautifulSoup(response.content)\n",
    "word_list.append(soup.select('body')[0].select('table')[0].select('tr')[0].select('td')[1].select('p')[3].text)"
   ]
  },
  {
   "cell_type": "code",
   "execution_count": 4,
   "id": "e45ad536-45c0-4a12-ace5-500f5e55660e",
   "metadata": {},
   "outputs": [],
   "source": [
    "for i in range(2, 16):\n",
    "    response = requests.get(f'http://bestwordlist.com/5letterwordspage{i}.htm')\n",
    "    soup = BeautifulSoup(response.content)\n",
    "    word_list.append(soup.select('body')[0].select('table')[0].select('tr')[0].select('td')[1].select('p')[4].text)"
   ]
  },
  {
   "cell_type": "code",
   "execution_count": 5,
   "id": "fc6ea8d1-68cb-4ede-b749-bfffb99e711c",
   "metadata": {},
   "outputs": [],
   "source": [
    "all_words = []\n",
    "for l in word_list:\n",
    "    all_words += l.split(' ')"
   ]
  },
  {
   "cell_type": "code",
   "execution_count": 6,
   "id": "aeeb8f14-3a54-4abd-956e-23b54a962d7e",
   "metadata": {},
   "outputs": [],
   "source": [
    "words_12k = pd.DataFrame({'word': all_words})\n",
    "words_12k['word'] = words_12k.word.str.lower()\n",
    "words_12k.to_csv('words_12k.csv', index=False)"
   ]
  },
  {
   "cell_type": "markdown",
   "id": "44c62577-6f4f-422e-9400-4c644893464b",
   "metadata": {},
   "source": [
    "## Curated Dictionary"
   ]
  },
  {
   "cell_type": "code",
   "execution_count": 7,
   "id": "a0480c68-0b41-4127-9a15-98d07005be3d",
   "metadata": {},
   "outputs": [
    {
     "name": "stdout",
     "output_type": "stream",
     "text": [
      "--2022-01-20 18:50:27--  https://www-cs-faculty.stanford.edu/~knuth/sgb-words.txt\n",
      "Resolving www-cs-faculty.stanford.edu (www-cs-faculty.stanford.edu)... 171.64.64.64\n",
      "Connecting to www-cs-faculty.stanford.edu (www-cs-faculty.stanford.edu)|171.64.64.64|:443... connected.\n",
      "HTTP request sent, awaiting response... 200 OK\n",
      "Length: 34542 (34K) [text/plain]\n",
      "Saving to: ‘sgb-words.txt.2’\n",
      "\n",
      "sgb-words.txt.2     100%[===================>]  33.73K   189KB/s    in 0.2s    \n",
      "\n",
      "2022-01-20 18:50:28 (189 KB/s) - ‘sgb-words.txt.2’ saved [34542/34542]\n",
      "\n"
     ]
    }
   ],
   "source": [
    "!wget https://www-cs-faculty.stanford.edu/~knuth/sgb-words.txt"
   ]
  },
  {
   "cell_type": "code",
   "execution_count": 8,
   "id": "9c917e56-84ff-46bb-98c0-eb0f61bbd86d",
   "metadata": {},
   "outputs": [],
   "source": [
    "words_5k = pd.read_table('sgb-words.txt', delimiter='\\n', header=None, names=['word'])\n",
    "words_5k.to_csv('words_5k.csv', index=False)"
   ]
  }
 ],
 "metadata": {
  "kernelspec": {
   "display_name": "datascience",
   "language": "python",
   "name": "datascience"
  },
  "language_info": {
   "codemirror_mode": {
    "name": "ipython",
    "version": 3
   },
   "file_extension": ".py",
   "mimetype": "text/x-python",
   "name": "python",
   "nbconvert_exporter": "python",
   "pygments_lexer": "ipython3",
   "version": "3.9.7"
  }
 },
 "nbformat": 4,
 "nbformat_minor": 5
}
