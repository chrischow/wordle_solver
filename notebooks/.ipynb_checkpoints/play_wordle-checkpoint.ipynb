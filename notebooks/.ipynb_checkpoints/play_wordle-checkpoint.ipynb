{
 "cells": [
  {
   "cell_type": "markdown",
   "id": "848e9663-eb92-4d5d-9bae-2206212c4612",
   "metadata": {},
   "source": [
    "# Play Wordle"
   ]
  },
  {
   "cell_type": "code",
   "execution_count": 1,
   "id": "39288e82-1866-4c1a-a9ed-59061498710d",
   "metadata": {},
   "outputs": [],
   "source": [
    "import numpy as np\n",
    "import pandas as pd\n",
    "import sys\n",
    "  \n",
    "# setting path\n",
    "sys.path.append('..')\n",
    "import wordlebot\n",
    "\n",
    "from wordlebot import Wordle"
   ]
  },
  {
   "cell_type": "markdown",
   "id": "2b637b62-314b-4151-91a7-abd9b00a2457",
   "metadata": {},
   "source": [
    "## Setup"
   ]
  },
  {
   "cell_type": "code",
   "execution_count": 2,
   "id": "4a0c9f73-12b4-4415-b80f-c0e09ee5b7ec",
   "metadata": {},
   "outputs": [],
   "source": [
    "wordle_candidates, wordle_answers = wordlebot.load_data('../data')\n",
    "wordle = wordle_candidates.loc[\n",
    "    wordle_candidates.word.apply(lambda x: len(x)==len(set(x)))\n",
    "].append(wordle_answers).reset_index(drop=True)"
   ]
  },
  {
   "cell_type": "markdown",
   "id": "8a8c1362-263d-43ff-b5c8-bd1c783252b3",
   "metadata": {},
   "source": [
    "## Play"
   ]
  },
  {
   "cell_type": "code",
   "execution_count": 3,
   "id": "a75e6a0f-a484-491a-854d-4b6bae4acea6",
   "metadata": {},
   "outputs": [],
   "source": [
    "def play_game(seed='stare', optimiser='fb_entropy', solution=None):\n",
    "    quit_words = ['q', 'quit']\n",
    "    game = Wordle(wordle, wordle_answers, solution=solution)\n",
    "    guess = ''\n",
    "    fb = ''\n",
    "    while not game.solved and (not guess.lower() in quit_words) and fb.lower() != 'ggggg':\n",
    "        if game.step == 0:\n",
    "            guess = seed\n",
    "        else:\n",
    "            guess = input('Input a guess:')\n",
    "        if guess.lower() in quit_words:\n",
    "            return  \n",
    "        fb = input('Input feedback:')\n",
    "        if fb.lower() in quit_words:\n",
    "            return\n",
    "        game.guess(guess.lower(), fb.lower())\n",
    "        if not game.solved:\n",
    "            if game.solutions.shape[0] <= 10 and \\\n",
    "                game.solutions.shape[0] > 3:\n",
    "                df_splitter = game.split_duplicates()\n",
    "                if df_splitter is not None:\n",
    "                    game.guess(df_splitter.word.iloc[0])\n",
    "                    continue\n",
    "                \n",
    "            opt_results = game.optimise(method=optimiser)\n",
    "            display(opt_results.head(5))"
   ]
  },
  {
   "cell_type": "code",
   "execution_count": 4,
   "id": "11dcf8a0-167f-4758-98a5-2106126b6ea4",
   "metadata": {},
   "outputs": [
    {
     "name": "stdin",
     "output_type": "stream",
     "text": [
      "Input feedback: x\n"
     ]
    },
    {
     "name": "stdout",
     "output_type": "stream",
     "text": [
      "STARE --> XYYXX: 74 solutions remaining.\n"
     ]
    },
    {
     "data": {
      "application/vnd.jupyter.widget-view+json": {
       "model_id": "a2e62d3cba924cd7b18244ee7e98899c",
       "version_major": 2,
       "version_minor": 0
      },
      "text/plain": [
       "  0%|          | 0/9008 [00:00<?, ?it/s]"
      ]
     },
     "metadata": {},
     "output_type": "display_data"
    },
    {
     "name": "stderr",
     "output_type": "stream",
     "text": [
      "[Parallel(n_jobs=-2)]: Using backend LokyBackend with 5 concurrent workers.\n",
      "[Parallel(n_jobs=-2)]: Done  65 tasks      | elapsed:    0.6s\n",
      "[Parallel(n_jobs=-2)]: Done 591845 tasks      | elapsed:    2.9s\n",
      "[Parallel(n_jobs=-2)]: Done 666592 out of 666592 | elapsed:    2.9s finished\n"
     ]
    },
    {
     "data": {
      "text/html": [
       "<div>\n",
       "<style scoped>\n",
       "    .dataframe tbody tr th:only-of-type {\n",
       "        vertical-align: middle;\n",
       "    }\n",
       "\n",
       "    .dataframe tbody tr th {\n",
       "        vertical-align: top;\n",
       "    }\n",
       "\n",
       "    .dataframe thead th {\n",
       "        text-align: right;\n",
       "    }\n",
       "</style>\n",
       "<table border=\"1\" class=\"dataframe\">\n",
       "  <thead>\n",
       "    <tr style=\"text-align: right;\">\n",
       "      <th></th>\n",
       "      <th>word</th>\n",
       "      <th>fb_entropy</th>\n",
       "    </tr>\n",
       "  </thead>\n",
       "  <tbody>\n",
       "    <tr>\n",
       "      <th>1544</th>\n",
       "      <td>colin</td>\n",
       "      <td>2.979591</td>\n",
       "    </tr>\n",
       "    <tr>\n",
       "      <th>5285</th>\n",
       "      <td>nicol</td>\n",
       "      <td>2.922847</td>\n",
       "    </tr>\n",
       "    <tr>\n",
       "      <th>5329</th>\n",
       "      <td>noily</td>\n",
       "      <td>2.908640</td>\n",
       "    </tr>\n",
       "    <tr>\n",
       "      <th>7804</th>\n",
       "      <td>thiol</td>\n",
       "      <td>2.895418</td>\n",
       "    </tr>\n",
       "    <tr>\n",
       "      <th>771</th>\n",
       "      <td>bliny</td>\n",
       "      <td>2.891450</td>\n",
       "    </tr>\n",
       "  </tbody>\n",
       "</table>\n",
       "</div>"
      ],
      "text/plain": [
       "       word  fb_entropy\n",
       "1544  colin    2.979591\n",
       "5285  nicol    2.922847\n",
       "5329  noily    2.908640\n",
       "7804  thiol    2.895418\n",
       "771   bliny    2.891450"
      ]
     },
     "metadata": {},
     "output_type": "display_data"
    },
    {
     "name": "stdin",
     "output_type": "stream",
     "text": [
      "Input a guess: colin\n",
      "Input feedback: x\n"
     ]
    },
    {
     "name": "stdout",
     "output_type": "stream",
     "text": [
      "COLIN --> XXXXY: 10 solutions remaining.\n"
     ]
    },
    {
     "data": {
      "application/vnd.jupyter.widget-view+json": {
       "model_id": "31a8d54098fa46fab797a54b1e634564",
       "version_major": 2,
       "version_minor": 0
      },
      "text/plain": [
       "  0%|          | 0/10 [00:00<?, ?it/s]"
      ]
     },
     "metadata": {},
     "output_type": "display_data"
    },
    {
     "name": "stderr",
     "output_type": "stream",
     "text": [
      "[Parallel(n_jobs=-2)]: Using backend LokyBackend with 5 concurrent workers.\n",
      "[Parallel(n_jobs=-2)]: Done  80 tasks      | elapsed:    0.1s\n",
      "[Parallel(n_jobs=-2)]: Done 100 out of 100 | elapsed:    0.1s finished\n"
     ]
    },
    {
     "data": {
      "text/html": [
       "<div>\n",
       "<style scoped>\n",
       "    .dataframe tbody tr th:only-of-type {\n",
       "        vertical-align: middle;\n",
       "    }\n",
       "\n",
       "    .dataframe tbody tr th {\n",
       "        vertical-align: top;\n",
       "    }\n",
       "\n",
       "    .dataframe thead th {\n",
       "        text-align: right;\n",
       "    }\n",
       "</style>\n",
       "<table border=\"1\" class=\"dataframe\">\n",
       "  <thead>\n",
       "    <tr style=\"text-align: right;\">\n",
       "      <th></th>\n",
       "      <th>word</th>\n",
       "      <th>fb_entropy</th>\n",
       "    </tr>\n",
       "  </thead>\n",
       "  <tbody>\n",
       "    <tr>\n",
       "      <th>6</th>\n",
       "      <td>tangy</td>\n",
       "      <td>1.748067</td>\n",
       "    </tr>\n",
       "    <tr>\n",
       "      <th>5</th>\n",
       "      <td>junta</td>\n",
       "      <td>1.497866</td>\n",
       "    </tr>\n",
       "    <tr>\n",
       "      <th>8</th>\n",
       "      <td>tawny</td>\n",
       "      <td>1.497866</td>\n",
       "    </tr>\n",
       "    <tr>\n",
       "      <th>4</th>\n",
       "      <td>jaunt</td>\n",
       "      <td>1.497866</td>\n",
       "    </tr>\n",
       "    <tr>\n",
       "      <th>7</th>\n",
       "      <td>taunt</td>\n",
       "      <td>1.359237</td>\n",
       "    </tr>\n",
       "  </tbody>\n",
       "</table>\n",
       "</div>"
      ],
      "text/plain": [
       "    word  fb_entropy\n",
       "6  tangy    1.748067\n",
       "5  junta    1.497866\n",
       "8  tawny    1.497866\n",
       "4  jaunt    1.497866\n",
       "7  taunt    1.359237"
      ]
     },
     "metadata": {},
     "output_type": "display_data"
    },
    {
     "name": "stdin",
     "output_type": "stream",
     "text": [
      "Input a guess: tangy\n",
      "Input feedback: x\n"
     ]
    },
    {
     "name": "stdout",
     "output_type": "stream",
     "text": [
      "TANGY --> YGYXX: 4 solutions remaining.\n",
      "JIHAD --> XXXYX: 1 solutions remaining.\n",
      "Game autosolved. Last guess: VAUNT\n",
      "Game solved in 5 steps.\n"
     ]
    },
    {
     "data": {
      "text/html": [
       "<div>\n",
       "<style scoped>\n",
       "    .dataframe tbody tr th:only-of-type {\n",
       "        vertical-align: middle;\n",
       "    }\n",
       "\n",
       "    .dataframe tbody tr th {\n",
       "        vertical-align: top;\n",
       "    }\n",
       "\n",
       "    .dataframe thead th {\n",
       "        text-align: right;\n",
       "    }\n",
       "</style>\n",
       "<table border=\"1\" class=\"dataframe\">\n",
       "  <thead>\n",
       "    <tr style=\"text-align: right;\">\n",
       "      <th></th>\n",
       "      <th>word</th>\n",
       "      <th>feedback</th>\n",
       "      <th>n_candidates</th>\n",
       "    </tr>\n",
       "  </thead>\n",
       "  <tbody>\n",
       "    <tr>\n",
       "      <th>0</th>\n",
       "      <td>stare</td>\n",
       "      <td>XYYXX</td>\n",
       "      <td>74</td>\n",
       "    </tr>\n",
       "    <tr>\n",
       "      <th>1</th>\n",
       "      <td>colin</td>\n",
       "      <td>XXXXY</td>\n",
       "      <td>10</td>\n",
       "    </tr>\n",
       "    <tr>\n",
       "      <th>2</th>\n",
       "      <td>tangy</td>\n",
       "      <td>YGYXX</td>\n",
       "      <td>4</td>\n",
       "    </tr>\n",
       "    <tr>\n",
       "      <th>3</th>\n",
       "      <td>jihad</td>\n",
       "      <td>XXXYX</td>\n",
       "      <td>1</td>\n",
       "    </tr>\n",
       "    <tr>\n",
       "      <th>4</th>\n",
       "      <td>vaunt</td>\n",
       "      <td>GGGGG</td>\n",
       "      <td>1</td>\n",
       "    </tr>\n",
       "  </tbody>\n",
       "</table>\n",
       "</div>"
      ],
      "text/plain": [
       "    word feedback  n_candidates\n",
       "0  stare    XYYXX            74\n",
       "1  colin    XXXXY            10\n",
       "2  tangy    YGYXX             4\n",
       "3  jihad    XXXYX             1\n",
       "4  vaunt    GGGGG             1"
      ]
     },
     "metadata": {},
     "output_type": "display_data"
    }
   ],
   "source": [
    "play_game(solution='vaunt')"
   ]
  },
  {
   "cell_type": "code",
   "execution_count": 189,
   "id": "d233c46b-c155-48d0-9bad-66a419b65541",
   "metadata": {},
   "outputs": [],
   "source": [
    "t1 = pd.DataFrame(\n",
    "    wordle_answers.letter_d.gt(0).astype(int) + \\\n",
    "    wordle_answers.letter_j.gt(0).astype(int) + \\\n",
    "    wordle_answers.letter_h.gt(0).astype(int) + \\\n",
    "    wordle_answers.letter_v.gt(0).astype(int))"
   ]
  },
  {
   "cell_type": "code",
   "execution_count": 190,
   "id": "db8197ec-a512-4f76-8104-e286ef517305",
   "metadata": {},
   "outputs": [],
   "source": [
    "t1.insert(0, 'word', wordle_answers.word)"
   ]
  },
  {
   "cell_type": "code",
   "execution_count": 191,
   "id": "4f11ab02-7e32-4f64-85cf-2d59d3783475",
   "metadata": {},
   "outputs": [
    {
     "data": {
      "text/html": [
       "<div>\n",
       "<style scoped>\n",
       "    .dataframe tbody tr th:only-of-type {\n",
       "        vertical-align: middle;\n",
       "    }\n",
       "\n",
       "    .dataframe tbody tr th {\n",
       "        vertical-align: top;\n",
       "    }\n",
       "\n",
       "    .dataframe thead th {\n",
       "        text-align: right;\n",
       "    }\n",
       "</style>\n",
       "<table border=\"1\" class=\"dataframe\">\n",
       "  <thead>\n",
       "    <tr style=\"text-align: right;\">\n",
       "      <th></th>\n",
       "      <th>word</th>\n",
       "      <th>0</th>\n",
       "    </tr>\n",
       "  </thead>\n",
       "  <tbody>\n",
       "    <tr>\n",
       "      <th>2314</th>\n",
       "      <td>shave</td>\n",
       "      <td>2</td>\n",
       "    </tr>\n",
       "    <tr>\n",
       "      <th>935</th>\n",
       "      <td>shied</td>\n",
       "      <td>2</td>\n",
       "    </tr>\n",
       "    <tr>\n",
       "      <th>657</th>\n",
       "      <td>shade</td>\n",
       "      <td>2</td>\n",
       "    </tr>\n",
       "    <tr>\n",
       "      <th>905</th>\n",
       "      <td>diver</td>\n",
       "      <td>2</td>\n",
       "    </tr>\n",
       "    <tr>\n",
       "      <th>499</th>\n",
       "      <td>howdy</td>\n",
       "      <td>2</td>\n",
       "    </tr>\n",
       "    <tr>\n",
       "      <th>1065</th>\n",
       "      <td>rajah</td>\n",
       "      <td>2</td>\n",
       "    </tr>\n",
       "    <tr>\n",
       "      <th>501</th>\n",
       "      <td>valid</td>\n",
       "      <td>2</td>\n",
       "    </tr>\n",
       "    <tr>\n",
       "      <th>339</th>\n",
       "      <td>delve</td>\n",
       "      <td>2</td>\n",
       "    </tr>\n",
       "    <tr>\n",
       "      <th>1843</th>\n",
       "      <td>heard</td>\n",
       "      <td>2</td>\n",
       "    </tr>\n",
       "    <tr>\n",
       "      <th>641</th>\n",
       "      <td>handy</td>\n",
       "      <td>2</td>\n",
       "    </tr>\n",
       "  </tbody>\n",
       "</table>\n",
       "</div>"
      ],
      "text/plain": [
       "       word  0\n",
       "2314  shave  2\n",
       "935   shied  2\n",
       "657   shade  2\n",
       "905   diver  2\n",
       "499   howdy  2\n",
       "1065  rajah  2\n",
       "501   valid  2\n",
       "339   delve  2\n",
       "1843  heard  2\n",
       "641   handy  2"
      ]
     },
     "execution_count": 191,
     "metadata": {},
     "output_type": "execute_result"
    }
   ],
   "source": [
    "t1.sort_values(0, ascending=False).head(10)"
   ]
  },
  {
   "cell_type": "code",
   "execution_count": null,
   "id": "3ce6af55-91bb-42fa-8632-0017d7dbba9a",
   "metadata": {},
   "outputs": [],
   "source": []
  }
 ],
 "metadata": {
  "kernelspec": {
   "display_name": "datascience",
   "language": "python",
   "name": "datascience"
  },
  "language_info": {
   "codemirror_mode": {
    "name": "ipython",
    "version": 3
   },
   "file_extension": ".py",
   "mimetype": "text/x-python",
   "name": "python",
   "nbconvert_exporter": "python",
   "pygments_lexer": "ipython3",
   "version": "3.9.7"
  }
 },
 "nbformat": 4,
 "nbformat_minor": 5
}
