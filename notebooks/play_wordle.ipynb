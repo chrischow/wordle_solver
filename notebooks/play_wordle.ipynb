{
 "cells": [
  {
   "cell_type": "markdown",
   "id": "848e9663-eb92-4d5d-9bae-2206212c4612",
   "metadata": {},
   "source": [
    "# Play Wordle"
   ]
  },
  {
   "cell_type": "code",
   "execution_count": 1,
   "id": "39288e82-1866-4c1a-a9ed-59061498710d",
   "metadata": {},
   "outputs": [],
   "source": [
    "import numpy as np\n",
    "import pandas as pd\n",
    "import sys\n",
    "  \n",
    "# setting path\n",
    "sys.path.append('..')\n",
    "import wordlebot\n",
    "\n",
    "from wordlebot import Wordle"
   ]
  },
  {
   "cell_type": "markdown",
   "id": "2b637b62-314b-4151-91a7-abd9b00a2457",
   "metadata": {},
   "source": [
    "## Setup"
   ]
  },
  {
   "cell_type": "code",
   "execution_count": 2,
   "id": "4a0c9f73-12b4-4415-b80f-c0e09ee5b7ec",
   "metadata": {},
   "outputs": [],
   "source": [
    "wordle_candidates, wordle_answers = wordlebot.load_data('../data')\n",
    "wordle = wordle_candidates.loc[\n",
    "    wordle_candidates.word.apply(lambda x: len(x)==len(set(x)))\n",
    "].append(wordle_answers).reset_index(drop=True)"
   ]
  },
  {
   "cell_type": "code",
   "execution_count": null,
   "id": "a4459991-5932-42e4-81f1-2e05937cb33a",
   "metadata": {},
   "outputs": [],
   "source": [
    "game = Wordle(wordle, wordle_answers)"
   ]
  },
  {
   "cell_type": "code",
   "execution_count": null,
   "id": "fe215d67-da20-4482-bd75-d75d55b1b60a",
   "metadata": {},
   "outputs": [
    {
     "data": {
      "application/vnd.jupyter.widget-view+json": {
       "model_id": "b4198c9c9454409c9051aea403bbc2eb",
       "version_major": 2,
       "version_minor": 0
      },
      "text/plain": [
       "  0%|          | 0/9071 [00:00<?, ?it/s]"
      ]
     },
     "metadata": {},
     "output_type": "display_data"
    },
    {
     "name": "stderr",
     "output_type": "stream",
     "text": [
      "[Parallel(n_jobs=-2)]: Using backend LokyBackend with 5 concurrent workers.\n",
      "[Parallel(n_jobs=-2)]: Done 150 tasks      | elapsed:    0.1s\n",
      "[Parallel(n_jobs=-2)]: Done 983030 tasks      | elapsed:    3.8s\n",
      "[Parallel(n_jobs=-2)]: Done 5079030 tasks      | elapsed:   19.5s\n",
      "[Parallel(n_jobs=-2)]: Done 10813430 tasks      | elapsed:   46.9s\n",
      "[Parallel(n_jobs=-2)]: Done 18186230 tasks      | elapsed:  1.5min\n",
      "[Parallel(n_jobs=-2)]: Done 20999365 out of 20999365 | elapsed:  1.9min finished\n"
     ]
    }
   ],
   "source": [
    "top_entropy = game.optimise(method='fb_entropy')"
   ]
  },
  {
   "cell_type": "code",
   "execution_count": null,
   "id": "3bda22cc-b2fa-49a0-8366-8b2456950a84",
   "metadata": {},
   "outputs": [],
   "source": [
    "t1 = top_entropy.reset_index(drop=True)"
   ]
  },
  {
   "cell_type": "code",
   "execution_count": 16,
   "id": "d12157c4-2576-417a-a0a9-0e63c997ab98",
   "metadata": {},
   "outputs": [
    {
     "data": {
      "text/html": [
       "<div>\n",
       "<style scoped>\n",
       "    .dataframe tbody tr th:only-of-type {\n",
       "        vertical-align: middle;\n",
       "    }\n",
       "\n",
       "    .dataframe tbody tr th {\n",
       "        vertical-align: top;\n",
       "    }\n",
       "\n",
       "    .dataframe thead th {\n",
       "        text-align: right;\n",
       "    }\n",
       "</style>\n",
       "<table border=\"1\" class=\"dataframe\">\n",
       "  <thead>\n",
       "    <tr style=\"text-align: right;\">\n",
       "      <th></th>\n",
       "      <th>word</th>\n",
       "      <th>fb_entropy</th>\n",
       "    </tr>\n",
       "  </thead>\n",
       "  <tbody>\n",
       "    <tr>\n",
       "      <th>0</th>\n",
       "      <td>soare</td>\n",
       "      <td>4.079837</td>\n",
       "    </tr>\n",
       "    <tr>\n",
       "      <th>1</th>\n",
       "      <td>roate</td>\n",
       "      <td>4.077632</td>\n",
       "    </tr>\n",
       "    <tr>\n",
       "      <th>2</th>\n",
       "      <td>raise</td>\n",
       "      <td>4.074257</td>\n",
       "    </tr>\n",
       "    <tr>\n",
       "      <th>3</th>\n",
       "      <td>raile</td>\n",
       "      <td>4.065800</td>\n",
       "    </tr>\n",
       "    <tr>\n",
       "      <th>4</th>\n",
       "      <td>reast</td>\n",
       "      <td>4.065625</td>\n",
       "    </tr>\n",
       "    <tr>\n",
       "      <th>5</th>\n",
       "      <td>slate</td>\n",
       "      <td>4.058914</td>\n",
       "    </tr>\n",
       "    <tr>\n",
       "      <th>6</th>\n",
       "      <td>crate</td>\n",
       "      <td>4.044426</td>\n",
       "    </tr>\n",
       "    <tr>\n",
       "      <th>7</th>\n",
       "      <td>salet</td>\n",
       "      <td>4.044224</td>\n",
       "    </tr>\n",
       "    <tr>\n",
       "      <th>8</th>\n",
       "      <td>irate</td>\n",
       "      <td>4.042016</td>\n",
       "    </tr>\n",
       "    <tr>\n",
       "      <th>9</th>\n",
       "      <td>trace</td>\n",
       "      <td>4.041428</td>\n",
       "    </tr>\n",
       "    <tr>\n",
       "      <th>10</th>\n",
       "      <td>arise</td>\n",
       "      <td>4.034768</td>\n",
       "    </tr>\n",
       "    <tr>\n",
       "      <th>11</th>\n",
       "      <td>orate</td>\n",
       "      <td>4.032149</td>\n",
       "    </tr>\n",
       "    <tr>\n",
       "      <th>12</th>\n",
       "      <td>stare</td>\n",
       "      <td>4.025300</td>\n",
       "    </tr>\n",
       "    <tr>\n",
       "      <th>13</th>\n",
       "      <td>carte</td>\n",
       "      <td>4.016481</td>\n",
       "    </tr>\n",
       "    <tr>\n",
       "      <th>14</th>\n",
       "      <td>raine</td>\n",
       "      <td>4.011042</td>\n",
       "    </tr>\n",
       "    <tr>\n",
       "      <th>15</th>\n",
       "      <td>caret</td>\n",
       "      <td>4.004112</td>\n",
       "    </tr>\n",
       "    <tr>\n",
       "      <th>16</th>\n",
       "      <td>ariel</td>\n",
       "      <td>4.003040</td>\n",
       "    </tr>\n",
       "    <tr>\n",
       "      <th>17</th>\n",
       "      <td>taler</td>\n",
       "      <td>3.999884</td>\n",
       "    </tr>\n",
       "    <tr>\n",
       "      <th>18</th>\n",
       "      <td>carle</td>\n",
       "      <td>3.999791</td>\n",
       "    </tr>\n",
       "    <tr>\n",
       "      <th>19</th>\n",
       "      <td>slane</td>\n",
       "      <td>3.999585</td>\n",
       "    </tr>\n",
       "  </tbody>\n",
       "</table>\n",
       "</div>"
      ],
      "text/plain": [
       "     word  fb_entropy\n",
       "0   soare    4.079837\n",
       "1   roate    4.077632\n",
       "2   raise    4.074257\n",
       "3   raile    4.065800\n",
       "4   reast    4.065625\n",
       "5   slate    4.058914\n",
       "6   crate    4.044426\n",
       "7   salet    4.044224\n",
       "8   irate    4.042016\n",
       "9   trace    4.041428\n",
       "10  arise    4.034768\n",
       "11  orate    4.032149\n",
       "12  stare    4.025300\n",
       "13  carte    4.016481\n",
       "14  raine    4.011042\n",
       "15  caret    4.004112\n",
       "16  ariel    4.003040\n",
       "17  taler    3.999884\n",
       "18  carle    3.999791\n",
       "19  slane    3.999585"
      ]
     },
     "execution_count": 16,
     "metadata": {},
     "output_type": "execute_result"
    }
   ],
   "source": [
    "t1.head(20)"
   ]
  },
  {
   "cell_type": "markdown",
   "id": "8a8c1362-263d-43ff-b5c8-bd1c783252b3",
   "metadata": {},
   "source": [
    "## Play"
   ]
  },
  {
   "cell_type": "code",
   "execution_count": 10,
   "id": "a75e6a0f-a484-491a-854d-4b6bae4acea6",
   "metadata": {},
   "outputs": [],
   "source": [
    "def play_game(seed='stare', optimiser='fb_entropy', solution=None):\n",
    "    quit_words = ['q', 'quit']\n",
    "    game = Wordle(wordle, wordle_answers, solution=solution)\n",
    "    guess = ''\n",
    "    fb = ''\n",
    "    while not game.solved and (not guess.lower() in quit_words) and fb.lower() != 'ggggg':\n",
    "        if game.step == 0:\n",
    "            guess = seed\n",
    "        else:\n",
    "            guess = input('Input a guess:')\n",
    "        if guess.lower() in quit_words:\n",
    "            return  \n",
    "        fb = input('Input feedback:')\n",
    "        if fb.lower() in quit_words:\n",
    "            return\n",
    "        game.guess(guess.lower(), fb.lower())\n",
    "        if not game.solved:\n",
    "            if game.solutions.shape[0] <= 10 and \\\n",
    "                game.solutions.shape[0] > 3:\n",
    "                df_splitter = game.split_duplicates()\n",
    "                if df_splitter is not None:\n",
    "                    display(df_splitter.word)\n",
    "                    continue\n",
    "                \n",
    "            opt_results = game.optimise(method=optimiser)\n",
    "            display(opt_results.head(5))"
   ]
  },
  {
   "cell_type": "code",
   "execution_count": null,
   "id": "11dcf8a0-167f-4758-98a5-2106126b6ea4",
   "metadata": {},
   "outputs": [
    {
     "name": "stdin",
     "output_type": "stream",
     "text": [
      "Input feedback: gxgxg\n"
     ]
    },
    {
     "name": "stdout",
     "output_type": "stream",
     "text": [
      "STARE --> GXGXG: 12 solutions remaining.\n"
     ]
    },
    {
     "data": {
      "application/vnd.jupyter.widget-view+json": {
       "model_id": "6b84f2c2788f4233ab797f9d84aa20b0",
       "version_major": 2,
       "version_minor": 0
      },
      "text/plain": [
       "  0%|          | 0/12 [00:00<?, ?it/s]"
      ]
     },
     "metadata": {},
     "output_type": "display_data"
    },
    {
     "name": "stderr",
     "output_type": "stream",
     "text": [
      "[Parallel(n_jobs=-2)]: Using backend LokyBackend with 5 concurrent workers.\n",
      "[Parallel(n_jobs=-2)]: Done 115 tasks      | elapsed:    0.1s\n",
      "[Parallel(n_jobs=-2)]: Done 144 out of 144 | elapsed:    0.1s finished\n"
     ]
    },
    {
     "data": {
      "text/html": [
       "<div>\n",
       "<style scoped>\n",
       "    .dataframe tbody tr th:only-of-type {\n",
       "        vertical-align: middle;\n",
       "    }\n",
       "\n",
       "    .dataframe tbody tr th {\n",
       "        vertical-align: top;\n",
       "    }\n",
       "\n",
       "    .dataframe thead th {\n",
       "        text-align: right;\n",
       "    }\n",
       "</style>\n",
       "<table border=\"1\" class=\"dataframe\">\n",
       "  <thead>\n",
       "    <tr style=\"text-align: right;\">\n",
       "      <th></th>\n",
       "      <th>word</th>\n",
       "      <th>fb_entropy</th>\n",
       "    </tr>\n",
       "  </thead>\n",
       "  <tbody>\n",
       "    <tr>\n",
       "      <th>3</th>\n",
       "      <td>shale</td>\n",
       "      <td>1.352209</td>\n",
       "    </tr>\n",
       "    <tr>\n",
       "      <th>5</th>\n",
       "      <td>shape</td>\n",
       "      <td>1.236685</td>\n",
       "    </tr>\n",
       "    <tr>\n",
       "      <th>6</th>\n",
       "      <td>shave</td>\n",
       "      <td>1.236685</td>\n",
       "    </tr>\n",
       "    <tr>\n",
       "      <th>1</th>\n",
       "      <td>shade</td>\n",
       "      <td>1.143708</td>\n",
       "    </tr>\n",
       "    <tr>\n",
       "      <th>2</th>\n",
       "      <td>shake</td>\n",
       "      <td>1.143708</td>\n",
       "    </tr>\n",
       "  </tbody>\n",
       "</table>\n",
       "</div>"
      ],
      "text/plain": [
       "    word  fb_entropy\n",
       "3  shale    1.352209\n",
       "5  shape    1.236685\n",
       "6  shave    1.236685\n",
       "1  shade    1.143708\n",
       "2  shake    1.143708"
      ]
     },
     "metadata": {},
     "output_type": "display_data"
    },
    {
     "name": "stdin",
     "output_type": "stream",
     "text": [
      "Input a guess: shale\n",
      "Input feedback: gggxg\n"
     ]
    },
    {
     "name": "stdout",
     "output_type": "stream",
     "text": [
      "SHALE --> GGGXG: 5 solutions remaining.\n"
     ]
    },
    {
     "data": {
      "text/plain": [
       "1333    dampy\n",
       "3030    kempt\n",
       "1657    dumka\n",
       "7540    dumpy\n",
       "1411    dempt\n",
       "3706    mikva\n",
       "1658    dumky\n",
       "1332    damps\n",
       "6219    vampy\n",
       "6218    vamps\n",
       "Name: word, dtype: object"
      ]
     },
     "metadata": {},
     "output_type": "display_data"
    },
    {
     "name": "stdin",
     "output_type": "stream",
     "text": [
      "Input a guess: dampy\n",
      "Input feedback: xyxxx\n"
     ]
    },
    {
     "name": "stdout",
     "output_type": "stream",
     "text": [
      "DAMPY --> XYXXX: 2 solutions remaining.\n"
     ]
    },
    {
     "data": {
      "application/vnd.jupyter.widget-view+json": {
       "model_id": "6d556242a56f483cb4c320605ab4bd3e",
       "version_major": 2,
       "version_minor": 0
      },
      "text/plain": [
       "  0%|          | 0/2 [00:00<?, ?it/s]"
      ]
     },
     "metadata": {},
     "output_type": "display_data"
    },
    {
     "name": "stderr",
     "output_type": "stream",
     "text": [
      "[Parallel(n_jobs=-2)]: Using backend LokyBackend with 5 concurrent workers.\n",
      "[Parallel(n_jobs=-2)]: Done   4 out of   4 | elapsed:    0.0s finished\n"
     ]
    },
    {
     "data": {
      "text/html": [
       "<div>\n",
       "<style scoped>\n",
       "    .dataframe tbody tr th:only-of-type {\n",
       "        vertical-align: middle;\n",
       "    }\n",
       "\n",
       "    .dataframe tbody tr th {\n",
       "        vertical-align: top;\n",
       "    }\n",
       "\n",
       "    .dataframe thead th {\n",
       "        text-align: right;\n",
       "    }\n",
       "</style>\n",
       "<table border=\"1\" class=\"dataframe\">\n",
       "  <thead>\n",
       "    <tr style=\"text-align: right;\">\n",
       "      <th></th>\n",
       "      <th>word</th>\n",
       "      <th>fb_entropy</th>\n",
       "    </tr>\n",
       "  </thead>\n",
       "  <tbody>\n",
       "    <tr>\n",
       "      <th>0</th>\n",
       "      <td>shake</td>\n",
       "      <td>0.693147</td>\n",
       "    </tr>\n",
       "    <tr>\n",
       "      <th>1</th>\n",
       "      <td>shave</td>\n",
       "      <td>0.693147</td>\n",
       "    </tr>\n",
       "  </tbody>\n",
       "</table>\n",
       "</div>"
      ],
      "text/plain": [
       "    word  fb_entropy\n",
       "0  shake    0.693147\n",
       "1  shave    0.693147"
      ]
     },
     "metadata": {},
     "output_type": "display_data"
    }
   ],
   "source": [
    "play_game()"
   ]
  },
  {
   "cell_type": "code",
   "execution_count": 189,
   "id": "d233c46b-c155-48d0-9bad-66a419b65541",
   "metadata": {},
   "outputs": [],
   "source": [
    "t1 = pd.DataFrame(\n",
    "    wordle_answers.letter_d.gt(0).astype(int) + \\\n",
    "    wordle_answers.letter_j.gt(0).astype(int) + \\\n",
    "    wordle_answers.letter_h.gt(0).astype(int) + \\\n",
    "    wordle_answers.letter_v.gt(0).astype(int))"
   ]
  },
  {
   "cell_type": "code",
   "execution_count": 190,
   "id": "db8197ec-a512-4f76-8104-e286ef517305",
   "metadata": {},
   "outputs": [],
   "source": [
    "t1.insert(0, 'word', wordle_answers.word)"
   ]
  },
  {
   "cell_type": "code",
   "execution_count": 191,
   "id": "4f11ab02-7e32-4f64-85cf-2d59d3783475",
   "metadata": {},
   "outputs": [
    {
     "data": {
      "text/html": [
       "<div>\n",
       "<style scoped>\n",
       "    .dataframe tbody tr th:only-of-type {\n",
       "        vertical-align: middle;\n",
       "    }\n",
       "\n",
       "    .dataframe tbody tr th {\n",
       "        vertical-align: top;\n",
       "    }\n",
       "\n",
       "    .dataframe thead th {\n",
       "        text-align: right;\n",
       "    }\n",
       "</style>\n",
       "<table border=\"1\" class=\"dataframe\">\n",
       "  <thead>\n",
       "    <tr style=\"text-align: right;\">\n",
       "      <th></th>\n",
       "      <th>word</th>\n",
       "      <th>0</th>\n",
       "    </tr>\n",
       "  </thead>\n",
       "  <tbody>\n",
       "    <tr>\n",
       "      <th>2314</th>\n",
       "      <td>shave</td>\n",
       "      <td>2</td>\n",
       "    </tr>\n",
       "    <tr>\n",
       "      <th>935</th>\n",
       "      <td>shied</td>\n",
       "      <td>2</td>\n",
       "    </tr>\n",
       "    <tr>\n",
       "      <th>657</th>\n",
       "      <td>shade</td>\n",
       "      <td>2</td>\n",
       "    </tr>\n",
       "    <tr>\n",
       "      <th>905</th>\n",
       "      <td>diver</td>\n",
       "      <td>2</td>\n",
       "    </tr>\n",
       "    <tr>\n",
       "      <th>499</th>\n",
       "      <td>howdy</td>\n",
       "      <td>2</td>\n",
       "    </tr>\n",
       "    <tr>\n",
       "      <th>1065</th>\n",
       "      <td>rajah</td>\n",
       "      <td>2</td>\n",
       "    </tr>\n",
       "    <tr>\n",
       "      <th>501</th>\n",
       "      <td>valid</td>\n",
       "      <td>2</td>\n",
       "    </tr>\n",
       "    <tr>\n",
       "      <th>339</th>\n",
       "      <td>delve</td>\n",
       "      <td>2</td>\n",
       "    </tr>\n",
       "    <tr>\n",
       "      <th>1843</th>\n",
       "      <td>heard</td>\n",
       "      <td>2</td>\n",
       "    </tr>\n",
       "    <tr>\n",
       "      <th>641</th>\n",
       "      <td>handy</td>\n",
       "      <td>2</td>\n",
       "    </tr>\n",
       "  </tbody>\n",
       "</table>\n",
       "</div>"
      ],
      "text/plain": [
       "       word  0\n",
       "2314  shave  2\n",
       "935   shied  2\n",
       "657   shade  2\n",
       "905   diver  2\n",
       "499   howdy  2\n",
       "1065  rajah  2\n",
       "501   valid  2\n",
       "339   delve  2\n",
       "1843  heard  2\n",
       "641   handy  2"
      ]
     },
     "execution_count": 191,
     "metadata": {},
     "output_type": "execute_result"
    }
   ],
   "source": [
    "t1.sort_values(0, ascending=False).head(10)"
   ]
  },
  {
   "cell_type": "code",
   "execution_count": null,
   "id": "3ce6af55-91bb-42fa-8632-0017d7dbba9a",
   "metadata": {},
   "outputs": [],
   "source": []
  }
 ],
 "metadata": {
  "kernelspec": {
   "display_name": "datascience",
   "language": "python",
   "name": "datascience"
  },
  "language_info": {
   "codemirror_mode": {
    "name": "ipython",
    "version": 3
   },
   "file_extension": ".py",
   "mimetype": "text/x-python",
   "name": "python",
   "nbconvert_exporter": "python",
   "pygments_lexer": "ipython3",
   "version": "3.9.7"
  }
 },
 "nbformat": 4,
 "nbformat_minor": 5
}
