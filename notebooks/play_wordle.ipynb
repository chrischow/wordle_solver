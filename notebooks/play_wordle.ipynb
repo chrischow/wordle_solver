{
 "cells": [
  {
   "cell_type": "markdown",
   "id": "848e9663-eb92-4d5d-9bae-2206212c4612",
   "metadata": {},
   "source": [
    "# Play Wordle"
   ]
  },
  {
   "cell_type": "code",
   "execution_count": 1,
   "id": "39288e82-1866-4c1a-a9ed-59061498710d",
   "metadata": {},
   "outputs": [],
   "source": [
    "import numpy as np\n",
    "import pandas as pd\n",
    "import sys\n",
    "  \n",
    "# setting path\n",
    "sys.path.append('..')\n",
    "import wordlebot\n",
    "\n",
    "from wordlebot import Wordle"
   ]
  },
  {
   "cell_type": "markdown",
   "id": "2b637b62-314b-4151-91a7-abd9b00a2457",
   "metadata": {},
   "source": [
    "## Setup"
   ]
  },
  {
   "cell_type": "code",
   "execution_count": 2,
   "id": "4a0c9f73-12b4-4415-b80f-c0e09ee5b7ec",
   "metadata": {},
   "outputs": [],
   "source": [
    "wordle_candidates, wordle_answers = wordlebot.load_data('../data')\n",
    "wordle = wordle_candidates.loc[\n",
    "    wordle_candidates.word.apply(lambda x: len(x)==len(set(x)))\n",
    "].append(wordle_answers).reset_index(drop=True)"
   ]
  },
  {
   "cell_type": "markdown",
   "id": "8a8c1362-263d-43ff-b5c8-bd1c783252b3",
   "metadata": {},
   "source": [
    "## Play"
   ]
  },
  {
   "cell_type": "code",
   "execution_count": 39,
   "id": "98b68c0a-1b26-40b8-b6be-aae21ee5c9a3",
   "metadata": {},
   "outputs": [
    {
     "name": "stdout",
     "output_type": "stream",
     "text": [
      "SOARE --> XXXYX: 57 solutions remaining.\n"
     ]
    },
    {
     "data": {
      "application/vnd.jupyter.widget-view+json": {
       "model_id": "da9a138acd1c44cfaac35e276e409c47",
       "version_major": 2,
       "version_minor": 0
      },
      "text/plain": [
       "  0%|          | 0/8821 [00:00<?, ?it/s]"
      ]
     },
     "metadata": {},
     "output_type": "display_data"
    },
    {
     "name": "stderr",
     "output_type": "stream",
     "text": [
      "[Parallel(n_jobs=-2)]: Using backend LokyBackend with 5 concurrent workers.\n",
      "[Parallel(n_jobs=-2)]: Done 150 tasks      | elapsed:    0.1s\n",
      "[Parallel(n_jobs=-2)]: Done 482101 tasks      | elapsed:    2.2s\n",
      "[Parallel(n_jobs=-2)]: Done 502797 out of 502797 | elapsed:    2.2s finished\n"
     ]
    },
    {
     "data": {
      "text/html": [
       "<div>\n",
       "<style scoped>\n",
       "    .dataframe tbody tr th:only-of-type {\n",
       "        vertical-align: middle;\n",
       "    }\n",
       "\n",
       "    .dataframe tbody tr th {\n",
       "        vertical-align: top;\n",
       "    }\n",
       "\n",
       "    .dataframe thead th {\n",
       "        text-align: right;\n",
       "    }\n",
       "</style>\n",
       "<table border=\"1\" class=\"dataframe\">\n",
       "  <thead>\n",
       "    <tr style=\"text-align: right;\">\n",
       "      <th></th>\n",
       "      <th>word</th>\n",
       "      <th>fb_entropy</th>\n",
       "    </tr>\n",
       "  </thead>\n",
       "  <tbody>\n",
       "    <tr>\n",
       "      <th>3114</th>\n",
       "      <td>glint</td>\n",
       "      <td>3.227161</td>\n",
       "    </tr>\n",
       "    <tr>\n",
       "      <th>3333</th>\n",
       "      <td>guilt</td>\n",
       "      <td>3.208488</td>\n",
       "    </tr>\n",
       "    <tr>\n",
       "      <th>8012</th>\n",
       "      <td>tying</td>\n",
       "      <td>3.172755</td>\n",
       "    </tr>\n",
       "    <tr>\n",
       "      <th>1417</th>\n",
       "      <td>clint</td>\n",
       "      <td>3.161060</td>\n",
       "    </tr>\n",
       "    <tr>\n",
       "      <th>1962</th>\n",
       "      <td>dicty</td>\n",
       "      <td>3.142701</td>\n",
       "    </tr>\n",
       "    <tr>\n",
       "      <th>...</th>\n",
       "      <td>...</td>\n",
       "      <td>...</td>\n",
       "    </tr>\n",
       "    <tr>\n",
       "      <th>6770</th>\n",
       "      <td>sever</td>\n",
       "      <td>0.239693</td>\n",
       "    </tr>\n",
       "    <tr>\n",
       "      <th>6653</th>\n",
       "      <td>savor</td>\n",
       "      <td>0.239693</td>\n",
       "    </tr>\n",
       "    <tr>\n",
       "      <th>8436</th>\n",
       "      <td>wears</td>\n",
       "      <td>0.206192</td>\n",
       "    </tr>\n",
       "    <tr>\n",
       "      <th>8429</th>\n",
       "      <td>waxes</td>\n",
       "      <td>0.206192</td>\n",
       "    </tr>\n",
       "    <tr>\n",
       "      <th>7075</th>\n",
       "      <td>soave</td>\n",
       "      <td>0.152005</td>\n",
       "    </tr>\n",
       "  </tbody>\n",
       "</table>\n",
       "<p>8821 rows × 2 columns</p>\n",
       "</div>"
      ],
      "text/plain": [
       "       word  fb_entropy\n",
       "3114  glint    3.227161\n",
       "3333  guilt    3.208488\n",
       "8012  tying    3.172755\n",
       "1417  clint    3.161060\n",
       "1962  dicty    3.142701\n",
       "...     ...         ...\n",
       "6770  sever    0.239693\n",
       "6653  savor    0.239693\n",
       "8436  wears    0.206192\n",
       "8429  waxes    0.206192\n",
       "7075  soave    0.152005\n",
       "\n",
       "[8821 rows x 2 columns]"
      ]
     },
     "execution_count": 39,
     "metadata": {},
     "output_type": "execute_result"
    }
   ],
   "source": [
    "game = Wordle(wordle, wordle_answers)\n",
    "game.guess('soare', 'xxxyx')\n",
    "game.optimise(method='fb_entropy')"
   ]
  },
  {
   "cell_type": "code",
   "execution_count": 40,
   "id": "169d5c39-c35e-45ce-834c-94c0d7877769",
   "metadata": {},
   "outputs": [
    {
     "name": "stdout",
     "output_type": "stream",
     "text": [
      "GLINT --> YXXGX: 1 solutions remaining.\n",
      "Game autosolved. Last guess: WRUNG\n",
      "Game solved in 3 steps.\n"
     ]
    },
    {
     "data": {
      "text/html": [
       "<div>\n",
       "<style scoped>\n",
       "    .dataframe tbody tr th:only-of-type {\n",
       "        vertical-align: middle;\n",
       "    }\n",
       "\n",
       "    .dataframe tbody tr th {\n",
       "        vertical-align: top;\n",
       "    }\n",
       "\n",
       "    .dataframe thead th {\n",
       "        text-align: right;\n",
       "    }\n",
       "</style>\n",
       "<table border=\"1\" class=\"dataframe\">\n",
       "  <thead>\n",
       "    <tr style=\"text-align: right;\">\n",
       "      <th></th>\n",
       "      <th>word</th>\n",
       "      <th>feedback</th>\n",
       "      <th>n_candidates</th>\n",
       "    </tr>\n",
       "  </thead>\n",
       "  <tbody>\n",
       "    <tr>\n",
       "      <th>0</th>\n",
       "      <td>soare</td>\n",
       "      <td>XXXYX</td>\n",
       "      <td>57</td>\n",
       "    </tr>\n",
       "    <tr>\n",
       "      <th>1</th>\n",
       "      <td>glint</td>\n",
       "      <td>YXXGX</td>\n",
       "      <td>1</td>\n",
       "    </tr>\n",
       "    <tr>\n",
       "      <th>2</th>\n",
       "      <td>wrung</td>\n",
       "      <td>GGGGG</td>\n",
       "      <td>1</td>\n",
       "    </tr>\n",
       "  </tbody>\n",
       "</table>\n",
       "</div>"
      ],
      "text/plain": [
       "    word feedback  n_candidates\n",
       "0  soare    XXXYX            57\n",
       "1  glint    YXXGX             1\n",
       "2  wrung    GGGGG             1"
      ]
     },
     "metadata": {},
     "output_type": "display_data"
    },
    {
     "name": "stdout",
     "output_type": "stream",
     "text": [
      "Game already solved.\n"
     ]
    }
   ],
   "source": [
    "game.guess('glint', 'yxxgx')\n",
    "game.optimise(method='fb_entropy')"
   ]
  },
  {
   "cell_type": "code",
   "execution_count": 33,
   "id": "d6e375a0-8102-44bd-9ece-cbe0bb14f988",
   "metadata": {},
   "outputs": [
    {
     "name": "stdout",
     "output_type": "stream",
     "text": [
      "SCARF --> GXGGX: 4 solutions remaining.\n"
     ]
    },
    {
     "data": {
      "application/vnd.jupyter.widget-view+json": {
       "model_id": "8a620f33fe8b4cd08934e74b8f4f26f6",
       "version_major": 2,
       "version_minor": 0
      },
      "text/plain": [
       "  0%|          | 0/4 [00:00<?, ?it/s]"
      ]
     },
     "metadata": {},
     "output_type": "display_data"
    },
    {
     "name": "stderr",
     "output_type": "stream",
     "text": [
      "[Parallel(n_jobs=-2)]: Using backend LokyBackend with 5 concurrent workers.\n",
      "[Parallel(n_jobs=-2)]: Done  16 out of  16 | elapsed:    0.1s finished\n"
     ]
    },
    {
     "data": {
      "text/html": [
       "<div>\n",
       "<style scoped>\n",
       "    .dataframe tbody tr th:only-of-type {\n",
       "        vertical-align: middle;\n",
       "    }\n",
       "\n",
       "    .dataframe tbody tr th {\n",
       "        vertical-align: top;\n",
       "    }\n",
       "\n",
       "    .dataframe thead th {\n",
       "        text-align: right;\n",
       "    }\n",
       "</style>\n",
       "<table border=\"1\" class=\"dataframe\">\n",
       "  <thead>\n",
       "    <tr style=\"text-align: right;\">\n",
       "      <th></th>\n",
       "      <th>word</th>\n",
       "      <th>fb_entropy</th>\n",
       "    </tr>\n",
       "  </thead>\n",
       "  <tbody>\n",
       "    <tr>\n",
       "      <th>0</th>\n",
       "      <td>shard</td>\n",
       "      <td>1.039721</td>\n",
       "    </tr>\n",
       "    <tr>\n",
       "      <th>1</th>\n",
       "      <td>sharp</td>\n",
       "      <td>1.039721</td>\n",
       "    </tr>\n",
       "    <tr>\n",
       "      <th>2</th>\n",
       "      <td>snarl</td>\n",
       "      <td>0.562335</td>\n",
       "    </tr>\n",
       "    <tr>\n",
       "      <th>3</th>\n",
       "      <td>swarm</td>\n",
       "      <td>0.562335</td>\n",
       "    </tr>\n",
       "  </tbody>\n",
       "</table>\n",
       "</div>"
      ],
      "text/plain": [
       "    word  fb_entropy\n",
       "0  shard    1.039721\n",
       "1  sharp    1.039721\n",
       "2  snarl    0.562335\n",
       "3  swarm    0.562335"
      ]
     },
     "execution_count": 33,
     "metadata": {},
     "output_type": "execute_result"
    }
   ],
   "source": [
    "game.guess('scarf', 'gxggx')\n",
    "game.optimise(method='fb_entropy')"
   ]
  },
  {
   "cell_type": "code",
   "execution_count": 11,
   "id": "7f21333a-7e53-4861-a192-43133e9d0ba8",
   "metadata": {},
   "outputs": [
    {
     "data": {
      "text/html": [
       "<div>\n",
       "<style scoped>\n",
       "    .dataframe tbody tr th:only-of-type {\n",
       "        vertical-align: middle;\n",
       "    }\n",
       "\n",
       "    .dataframe tbody tr th {\n",
       "        vertical-align: top;\n",
       "    }\n",
       "\n",
       "    .dataframe thead th {\n",
       "        text-align: right;\n",
       "    }\n",
       "</style>\n",
       "<table border=\"1\" class=\"dataframe\">\n",
       "  <thead>\n",
       "    <tr style=\"text-align: right;\">\n",
       "      <th></th>\n",
       "      <th>word</th>\n",
       "      <th>fb_entropy</th>\n",
       "    </tr>\n",
       "  </thead>\n",
       "  <tbody>\n",
       "    <tr>\n",
       "      <th>7253</th>\n",
       "      <td>soare</td>\n",
       "      <td>4.079837</td>\n",
       "    </tr>\n",
       "    <tr>\n",
       "      <th>6587</th>\n",
       "      <td>roate</td>\n",
       "      <td>4.077632</td>\n",
       "    </tr>\n",
       "    <tr>\n",
       "      <th>6330</th>\n",
       "      <td>raise</td>\n",
       "      <td>4.074257</td>\n",
       "    </tr>\n",
       "    <tr>\n",
       "      <th>6325</th>\n",
       "      <td>raile</td>\n",
       "      <td>4.065800</td>\n",
       "    </tr>\n",
       "    <tr>\n",
       "      <th>6412</th>\n",
       "      <td>reast</td>\n",
       "      <td>4.065625</td>\n",
       "    </tr>\n",
       "    <tr>\n",
       "      <th>7153</th>\n",
       "      <td>slate</td>\n",
       "      <td>4.058914</td>\n",
       "    </tr>\n",
       "    <tr>\n",
       "      <th>1682</th>\n",
       "      <td>crate</td>\n",
       "      <td>4.044426</td>\n",
       "    </tr>\n",
       "    <tr>\n",
       "      <th>6758</th>\n",
       "      <td>salet</td>\n",
       "      <td>4.044224</td>\n",
       "    </tr>\n",
       "    <tr>\n",
       "      <th>3885</th>\n",
       "      <td>irate</td>\n",
       "      <td>4.042016</td>\n",
       "    </tr>\n",
       "    <tr>\n",
       "      <th>8043</th>\n",
       "      <td>trace</td>\n",
       "      <td>4.041428</td>\n",
       "    </tr>\n",
       "    <tr>\n",
       "      <th>310</th>\n",
       "      <td>arise</td>\n",
       "      <td>4.034768</td>\n",
       "    </tr>\n",
       "    <tr>\n",
       "      <th>5524</th>\n",
       "      <td>orate</td>\n",
       "      <td>4.032149</td>\n",
       "    </tr>\n",
       "    <tr>\n",
       "      <th>7448</th>\n",
       "      <td>stare</td>\n",
       "      <td>4.025300</td>\n",
       "    </tr>\n",
       "    <tr>\n",
       "      <th>1226</th>\n",
       "      <td>carte</td>\n",
       "      <td>4.016481</td>\n",
       "    </tr>\n",
       "    <tr>\n",
       "      <th>6327</th>\n",
       "      <td>raine</td>\n",
       "      <td>4.011042</td>\n",
       "    </tr>\n",
       "    <tr>\n",
       "      <th>1210</th>\n",
       "      <td>caret</td>\n",
       "      <td>4.004112</td>\n",
       "    </tr>\n",
       "    <tr>\n",
       "      <th>307</th>\n",
       "      <td>ariel</td>\n",
       "      <td>4.003040</td>\n",
       "    </tr>\n",
       "    <tr>\n",
       "      <th>7703</th>\n",
       "      <td>taler</td>\n",
       "      <td>3.999884</td>\n",
       "    </tr>\n",
       "    <tr>\n",
       "      <th>1214</th>\n",
       "      <td>carle</td>\n",
       "      <td>3.999791</td>\n",
       "    </tr>\n",
       "    <tr>\n",
       "      <th>7147</th>\n",
       "      <td>slane</td>\n",
       "      <td>3.999585</td>\n",
       "    </tr>\n",
       "  </tbody>\n",
       "</table>\n",
       "</div>"
      ],
      "text/plain": [
       "       word  fb_entropy\n",
       "7253  soare    4.079837\n",
       "6587  roate    4.077632\n",
       "6330  raise    4.074257\n",
       "6325  raile    4.065800\n",
       "6412  reast    4.065625\n",
       "7153  slate    4.058914\n",
       "1682  crate    4.044426\n",
       "6758  salet    4.044224\n",
       "3885  irate    4.042016\n",
       "8043  trace    4.041428\n",
       "310   arise    4.034768\n",
       "5524  orate    4.032149\n",
       "7448  stare    4.025300\n",
       "1226  carte    4.016481\n",
       "6327  raine    4.011042\n",
       "1210  caret    4.004112\n",
       "307   ariel    4.003040\n",
       "7703  taler    3.999884\n",
       "1214  carle    3.999791\n",
       "7147  slane    3.999585"
      ]
     },
     "execution_count": 11,
     "metadata": {},
     "output_type": "execute_result"
    }
   ],
   "source": [
    "game.optimisations['fb_entropy'].head(20)"
   ]
  },
  {
   "cell_type": "code",
   "execution_count": null,
   "id": "7bea0d39-8ed2-42f3-bd8b-628107f3035c",
   "metadata": {},
   "outputs": [],
   "source": []
  }
 ],
 "metadata": {
  "kernelspec": {
   "display_name": "datascience",
   "language": "python",
   "name": "datascience"
  },
  "language_info": {
   "codemirror_mode": {
    "name": "ipython",
    "version": 3
   },
   "file_extension": ".py",
   "mimetype": "text/x-python",
   "name": "python",
   "nbconvert_exporter": "python",
   "pygments_lexer": "ipython3",
   "version": "3.9.7"
  }
 },
 "nbformat": 4,
 "nbformat_minor": 5
}
