{
 "cells": [
  {
   "cell_type": "markdown",
   "id": "0f4d631d-7e87-49c7-8c4e-f6cc89fd2520",
   "metadata": {},
   "source": [
    "# Diagnosis"
   ]
  },
  {
   "cell_type": "code",
   "execution_count": 15,
   "id": "a5b73b3e-a264-47cc-b29e-5a04caa13d51",
   "metadata": {},
   "outputs": [],
   "source": [
    "import matplotlib.pyplot as plt\n",
    "import numpy as np\n",
    "import os\n",
    "import pandas as pd\n",
    "import seaborn as sns\n",
    "import sys\n",
    "\n",
    "sys.path.append('..')\n",
    "import wordlebot\n",
    "\n",
    "sns.set()\n",
    "plt.style.use('ggplot')\n",
    "fontdict = {'fontsize': 15}\n",
    "pd.options.display.max_rows = 150"
   ]
  },
  {
   "cell_type": "markdown",
   "id": "79cebd75-22c3-4c43-b12e-6efa0f80e06a",
   "metadata": {
    "tags": []
   },
   "source": [
    "## Load Data"
   ]
  },
  {
   "cell_type": "code",
   "execution_count": 58,
   "id": "2e18b94b-49ae-4d83-b3d8-5d5edf3fa140",
   "metadata": {},
   "outputs": [],
   "source": [
    "import json\n",
    "path = '../data'\n",
    "with open(f'{path}/wordle-candidates-new.json', 'r') as file:\n",
    "    wordle_candidates_new = json.load(file)\n",
    "        \n",
    "with open(f'{path}/wordle-answers-new.json', 'r') as file:\n",
    "    wordle_answers_new = json.load(file)\n",
    "\n",
    "wordle_candidates_new = pd.DataFrame(wordle_candidates_new['words'], columns=['word'])\n",
    "wordle_answers_new = pd.DataFrame(wordle_answers_new['words'], columns=['word'])"
   ]
  },
  {
   "cell_type": "code",
   "execution_count": 63,
   "id": "a138759b-72e4-427c-a774-f1afc15d82d3",
   "metadata": {},
   "outputs": [
    {
     "name": "stdout",
     "output_type": "stream",
     "text": [
      "['agora', 'pupal', 'lynch', 'fibre', 'slave', 'wench']\n"
     ]
    }
   ],
   "source": [
    "print(wordle_answers.loc[~wordle_answers.word.isin(wordle_answers_new.word)].word.tolist())"
   ]
  },
  {
   "cell_type": "code",
   "execution_count": 62,
   "id": "7d572329-c008-45af-bd68-31d4729056a6",
   "metadata": {},
   "outputs": [
    {
     "name": "stdout",
     "output_type": "stream",
     "text": [
      "['bitch', 'chink', 'coons', 'darky', 'dyked', 'dykes', 'dykey', 'faggy', 'fagot', 'gooks', 'homos', 'kikes', 'lesbo', 'pussy', 'sluts', 'spick', 'spics', 'spiks', 'whore']\n"
     ]
    }
   ],
   "source": [
    "print(wordle_candidates.loc[~wordle_candidates.word.isin(wordle_candidates_new.word)].word.tolist())"
   ]
  },
  {
   "cell_type": "code",
   "execution_count": 16,
   "id": "74570b41-7060-4408-87c2-3a8f217efa6d",
   "metadata": {},
   "outputs": [],
   "source": [
    "words = ['arles', 'arose', 'dares', 'lares', 'lores', 'nares',\n",
    "        'raile', 'raise', 'rales', 'rates', 'reais', 'roate',\n",
    "        'soare', 'stare', 'tales', 'tares', 'tores']\n",
    "\n",
    "algos = ['lf', 'gyx', 'lf-pop', 'gyx-pop']\n",
    "\n",
    "wordle_candidates, wordle_answers = wordlebot.load_data('../data')\n",
    "wordle = wordle_candidates.loc[\n",
    "    wordle_candidates.word.apply(lambda x: len(x)==len(set(x)))\n",
    "].append(wordle_answers).reset_index(drop=True)"
   ]
  },
  {
   "cell_type": "code",
   "execution_count": 3,
   "id": "9e3feab7-dc20-4b3e-9842-c65aad3c9e08",
   "metadata": {},
   "outputs": [
    {
     "name": "stdout",
     "output_type": "stream",
     "text": [
      "Loading lf...\n",
      "Loading gyx...\n",
      "Loading lf-pop...\n",
      "Loading gyx-pop...\n",
      "Loading ncands...\n",
      "Loading entropy...\n"
     ]
    }
   ],
   "source": [
    "df = pd.DataFrame()\n",
    "all_data = pd.DataFrame()\n",
    "\n",
    "for algo in algos:\n",
    "    print(f'Loading {algo}...')\n",
    "    for word in words:\n",
    "        download_path = f'../kernel_output/{algo}/'\n",
    "        if algo == 'gyx':\n",
    "            algo_correct = 'expected_gyx'\n",
    "        elif algo == 'lf-pop':\n",
    "            algo_correct = 'lf'\n",
    "        elif algo == 'gyx-pop':\n",
    "            algo_correct = 'expected_gyx'\n",
    "        else:\n",
    "            algo_correct = algo\n",
    "        filename = f\"wordlebot-{algo_correct}-{word}.csv\"\n",
    "        \n",
    "        if filename in os.listdir(download_path):\n",
    "            temp_df = pd.read_csv(f'{download_path}{filename}')\n",
    "            temp_df['algo'] = algo\n",
    "            all_data = all_data.append(temp_df)\n",
    "            with open(f\"{download_path}wordlebot-{algo}-{word}.log\") as f:\n",
    "                temp_log = f.readlines()\n",
    "            runtime = pd.DataFrame(eval(''.join(temp_log))).time.iloc[-1]\n",
    "            temp_results = pd.DataFrame([{\n",
    "                'Seed Word': word,\n",
    "                'Ranking Algorithm': algo,\n",
    "                # 'Runtime': runtime,\n",
    "                'Mean Steps': temp_df.steps.mean(),\n",
    "                'Success Rate': temp_df.steps.le(6).mean(),\n",
    "                '3-Steps or Less': temp_df.steps.le(3).mean(),\n",
    "                'Worst Case': temp_df.steps.max()\n",
    "            }])\n",
    "            \n",
    "            df = df.append(temp_results)\n",
    "\n",
    "print('Loading ncands...')\n",
    "for word in words:\n",
    "    data_path = '../results'\n",
    "    filename = f'wordlebot_{word}.csv'\n",
    "    if filename in os.listdir(data_path):\n",
    "        temp_df = pd.read_csv(f'{data_path}/{filename}')\n",
    "        temp_df['algo'] = 'ncands'\n",
    "        all_data = all_data.append(temp_df)\n",
    "        temp_results = pd.DataFrame([{\n",
    "            'Seed Word': word,\n",
    "            'Ranking Algorithm': 'ncands',\n",
    "            # 'Runtime': runtime,\n",
    "            'Mean Steps': temp_df.steps.mean(),\n",
    "            'Success Rate': temp_df.steps.le(6).mean(),\n",
    "            '3-Steps or Less': temp_df.steps.le(3).mean(),\n",
    "            'Worst Case': temp_df.steps.max()\n",
    "        }])\n",
    "        df = df.append(temp_results)\n",
    "        \n",
    "print('Loading entropy...')\n",
    "for word in words:\n",
    "    data_path = '../results'\n",
    "    filename = f'wordlebot-entropy-{word}.csv'\n",
    "    if filename in os.listdir(data_path):\n",
    "        temp_df = pd.read_csv(f'{data_path}/{filename}')\n",
    "        temp_df['algo'] = 'entropy'\n",
    "        all_data = all_data.append(temp_df)\n",
    "        temp_results = pd.DataFrame([{\n",
    "            'Seed Word': word,\n",
    "            'Ranking Algorithm': 'entropy',\n",
    "            # 'Runtime': runtime,\n",
    "            'Mean Steps': temp_df.steps.mean(),\n",
    "            'Success Rate': temp_df.steps.le(6).mean(),\n",
    "            '3-Steps or Less': temp_df.steps.le(3).mean(),\n",
    "            'Worst Case': temp_df.steps.max()\n",
    "        }])\n",
    "        df = df.append(temp_results)"
   ]
  },
  {
   "cell_type": "markdown",
   "id": "1042e77a-9dfb-499b-9ca8-8f20a350c1bb",
   "metadata": {},
   "source": [
    "## Helper Functions"
   ]
  },
  {
   "cell_type": "code",
   "execution_count": 23,
   "id": "0c3ed37e-4b0d-4418-b4e1-cb7bfc6a5c81",
   "metadata": {},
   "outputs": [],
   "source": [
    "def get_one_missing(pattern):\n",
    "    data = wordle_answers.copy()\n",
    "    for i, l in enumerate(pattern):\n",
    "        if l == '_':\n",
    "            continue\n",
    "        else:\n",
    "            data = data.loc[data.word.str[i].eq(l)]\n",
    "    return data.word.tolist()"
   ]
  },
  {
   "cell_type": "markdown",
   "id": "b24b2126-19b7-4227-8476-5b44c42d0466",
   "metadata": {},
   "source": [
    "## Overall"
   ]
  },
  {
   "cell_type": "code",
   "execution_count": 4,
   "id": "3dd60184-c170-45f4-af85-87607e4e2671",
   "metadata": {},
   "outputs": [],
   "source": [
    "adf = all_data.drop('Unnamed: 0', axis=1)\n",
    "adf['words'] = adf.words.apply(eval)\n",
    "adf['word'] = adf.words.apply(lambda x: x[0])\n",
    "adf['solution'] = adf.words.apply(lambda x: x[-1])\n",
    "adf = adf.sort_values(['solution', 'word']).reset_index(drop=True)"
   ]
  },
  {
   "cell_type": "code",
   "execution_count": 5,
   "id": "3e853e67-df0c-498a-8595-5aa72b613ad0",
   "metadata": {},
   "outputs": [],
   "source": [
    "solution_scores = adf.groupby('solution').agg({\n",
    "    'steps': [\n",
    "        ('Mean Steps', 'mean'),\n",
    "        ('Success Rate', lambda x: np.mean(x < 7)),\n",
    "        ('3-Steps or Less', lambda x: np.mean(x <= 3))\n",
    "    ]\n",
    "})"
   ]
  },
  {
   "cell_type": "code",
   "execution_count": 6,
   "id": "4f61c201-ea5c-4d43-8caa-5fb73215f59e",
   "metadata": {},
   "outputs": [],
   "source": [
    "solution_scores.columns = ['Mean Steps', 'Success Rate', '3-Steps or Less']"
   ]
  },
  {
   "cell_type": "code",
   "execution_count": 7,
   "id": "2c0bdd7a-24f7-42ae-9d2a-c7cc947ca520",
   "metadata": {},
   "outputs": [
    {
     "data": {
      "image/png": "[encoded data removed]",
      "text/plain": [
       "<Figure size 720x504 with 1 Axes>"
      ]
     },
     "metadata": {},
     "output_type": "display_data"
    },
    {
     "data": {
      "text/html": [
       "<div>\n",
       "<style scoped>\n",
       "    .dataframe tbody tr th:only-of-type {\n",
       "        vertical-align: middle;\n",
       "    }\n",
       "\n",
       "    .dataframe tbody tr th {\n",
       "        vertical-align: top;\n",
       "    }\n",
       "\n",
       "    .dataframe thead th {\n",
       "        text-align: right;\n",
       "    }\n",
       "</style>\n",
       "<table border=\"1\" class=\"dataframe\">\n",
       "  <thead>\n",
       "    <tr style=\"text-align: right;\">\n",
       "      <th></th>\n",
       "      <th>Mean Steps</th>\n",
       "      <th>Success Rate</th>\n",
       "      <th>3-Steps or Less</th>\n",
       "    </tr>\n",
       "    <tr>\n",
       "      <th>solution</th>\n",
       "      <th></th>\n",
       "      <th></th>\n",
       "      <th></th>\n",
       "    </tr>\n",
       "  </thead>\n",
       "  <tbody>\n",
       "    <tr>\n",
       "      <th>vaunt</th>\n",
       "      <td>7.352941</td>\n",
       "      <td>0.137255</td>\n",
       "      <td>0.000000</td>\n",
       "    </tr>\n",
       "    <tr>\n",
       "      <th>wound</th>\n",
       "      <td>6.852941</td>\n",
       "      <td>0.196078</td>\n",
       "      <td>0.078431</td>\n",
       "    </tr>\n",
       "    <tr>\n",
       "      <th>foyer</th>\n",
       "      <td>6.323529</td>\n",
       "      <td>0.539216</td>\n",
       "      <td>0.009804</td>\n",
       "    </tr>\n",
       "    <tr>\n",
       "      <th>graze</th>\n",
       "      <td>6.323529</td>\n",
       "      <td>0.568627</td>\n",
       "      <td>0.000000</td>\n",
       "    </tr>\n",
       "    <tr>\n",
       "      <th>waver</th>\n",
       "      <td>6.264706</td>\n",
       "      <td>0.627451</td>\n",
       "      <td>0.000000</td>\n",
       "    </tr>\n",
       "    <tr>\n",
       "      <th>goner</th>\n",
       "      <td>6.019608</td>\n",
       "      <td>0.529412</td>\n",
       "      <td>0.166667</td>\n",
       "    </tr>\n",
       "    <tr>\n",
       "      <th>joker</th>\n",
       "      <td>6.019608</td>\n",
       "      <td>0.588235</td>\n",
       "      <td>0.009804</td>\n",
       "    </tr>\n",
       "    <tr>\n",
       "      <th>boxer</th>\n",
       "      <td>6.009804</td>\n",
       "      <td>0.666667</td>\n",
       "      <td>0.009804</td>\n",
       "    </tr>\n",
       "    <tr>\n",
       "      <th>shave</th>\n",
       "      <td>6.009804</td>\n",
       "      <td>0.460784</td>\n",
       "      <td>0.156863</td>\n",
       "    </tr>\n",
       "  </tbody>\n",
       "</table>\n",
       "</div>"
      ],
      "text/plain": [
       "          Mean Steps  Success Rate  3-Steps or Less\n",
       "solution                                           \n",
       "vaunt       7.352941      0.137255         0.000000\n",
       "wound       6.852941      0.196078         0.078431\n",
       "foyer       6.323529      0.539216         0.009804\n",
       "graze       6.323529      0.568627         0.000000\n",
       "waver       6.264706      0.627451         0.000000\n",
       "goner       6.019608      0.529412         0.166667\n",
       "joker       6.019608      0.588235         0.009804\n",
       "boxer       6.009804      0.666667         0.009804\n",
       "shave       6.009804      0.460784         0.156863"
      ]
     },
     "metadata": {},
     "output_type": "display_data"
    },
    {
     "data": {
      "image/png": "[encoded data removed]",
      "text/plain": [
       "<Figure size 720x504 with 1 Axes>"
      ]
     },
     "metadata": {},
     "output_type": "display_data"
    },
    {
     "data": {
      "text/html": [
       "<div>\n",
       "<style scoped>\n",
       "    .dataframe tbody tr th:only-of-type {\n",
       "        vertical-align: middle;\n",
       "    }\n",
       "\n",
       "    .dataframe tbody tr th {\n",
       "        vertical-align: top;\n",
       "    }\n",
       "\n",
       "    .dataframe thead th {\n",
       "        text-align: right;\n",
       "    }\n",
       "</style>\n",
       "<table border=\"1\" class=\"dataframe\">\n",
       "  <thead>\n",
       "    <tr style=\"text-align: right;\">\n",
       "      <th></th>\n",
       "      <th>Mean Steps</th>\n",
       "      <th>Success Rate</th>\n",
       "      <th>3-Steps or Less</th>\n",
       "    </tr>\n",
       "    <tr>\n",
       "      <th>solution</th>\n",
       "      <th></th>\n",
       "      <th></th>\n",
       "      <th></th>\n",
       "    </tr>\n",
       "  </thead>\n",
       "  <tbody>\n",
       "    <tr>\n",
       "      <th>vaunt</th>\n",
       "      <td>7.352941</td>\n",
       "      <td>0.137255</td>\n",
       "      <td>0.000000</td>\n",
       "    </tr>\n",
       "    <tr>\n",
       "      <th>wound</th>\n",
       "      <td>6.852941</td>\n",
       "      <td>0.196078</td>\n",
       "      <td>0.078431</td>\n",
       "    </tr>\n",
       "    <tr>\n",
       "      <th>baste</th>\n",
       "      <td>5.676471</td>\n",
       "      <td>0.411765</td>\n",
       "      <td>0.333333</td>\n",
       "    </tr>\n",
       "    <tr>\n",
       "      <th>shave</th>\n",
       "      <td>6.009804</td>\n",
       "      <td>0.460784</td>\n",
       "      <td>0.156863</td>\n",
       "    </tr>\n",
       "  </tbody>\n",
       "</table>\n",
       "</div>"
      ],
      "text/plain": [
       "          Mean Steps  Success Rate  3-Steps or Less\n",
       "solution                                           \n",
       "vaunt       7.352941      0.137255         0.000000\n",
       "wound       6.852941      0.196078         0.078431\n",
       "baste       5.676471      0.411765         0.333333\n",
       "shave       6.009804      0.460784         0.156863"
      ]
     },
     "metadata": {},
     "output_type": "display_data"
    },
    {
     "data": {
      "image/png": "[encoded data removed]",
      "text/plain": [
       "<Figure size 720x504 with 1 Axes>"
      ]
     },
     "metadata": {},
     "output_type": "display_data"
    },
    {
     "data": {
      "text/html": [
       "<div>\n",
       "<style scoped>\n",
       "    .dataframe tbody tr th:only-of-type {\n",
       "        vertical-align: middle;\n",
       "    }\n",
       "\n",
       "    .dataframe tbody tr th {\n",
       "        vertical-align: top;\n",
       "    }\n",
       "\n",
       "    .dataframe thead th {\n",
       "        text-align: right;\n",
       "    }\n",
       "</style>\n",
       "<table border=\"1\" class=\"dataframe\">\n",
       "  <thead>\n",
       "    <tr style=\"text-align: right;\">\n",
       "      <th></th>\n",
       "      <th>Mean Steps</th>\n",
       "      <th>Success Rate</th>\n",
       "      <th>3-Steps or Less</th>\n",
       "    </tr>\n",
       "    <tr>\n",
       "      <th>solution</th>\n",
       "      <th></th>\n",
       "      <th></th>\n",
       "      <th></th>\n",
       "    </tr>\n",
       "  </thead>\n",
       "  <tbody>\n",
       "    <tr>\n",
       "      <th>vaunt</th>\n",
       "      <td>7.352941</td>\n",
       "      <td>0.137255</td>\n",
       "      <td>0.0</td>\n",
       "    </tr>\n",
       "    <tr>\n",
       "      <th>graze</th>\n",
       "      <td>6.323529</td>\n",
       "      <td>0.568627</td>\n",
       "      <td>0.0</td>\n",
       "    </tr>\n",
       "    <tr>\n",
       "      <th>waver</th>\n",
       "      <td>6.264706</td>\n",
       "      <td>0.627451</td>\n",
       "      <td>0.0</td>\n",
       "    </tr>\n",
       "    <tr>\n",
       "      <th>greed</th>\n",
       "      <td>5.401961</td>\n",
       "      <td>0.970588</td>\n",
       "      <td>0.0</td>\n",
       "    </tr>\n",
       "    <tr>\n",
       "      <th>ember</th>\n",
       "      <td>5.274510</td>\n",
       "      <td>0.892157</td>\n",
       "      <td>0.0</td>\n",
       "    </tr>\n",
       "    <tr>\n",
       "      <th>jazzy</th>\n",
       "      <td>5.274510</td>\n",
       "      <td>0.901961</td>\n",
       "      <td>0.0</td>\n",
       "    </tr>\n",
       "    <tr>\n",
       "      <th>stave</th>\n",
       "      <td>5.235294</td>\n",
       "      <td>0.980392</td>\n",
       "      <td>0.0</td>\n",
       "    </tr>\n",
       "    <tr>\n",
       "      <th>jiffy</th>\n",
       "      <td>4.990196</td>\n",
       "      <td>1.000000</td>\n",
       "      <td>0.0</td>\n",
       "    </tr>\n",
       "    <tr>\n",
       "      <th>fuzzy</th>\n",
       "      <td>4.931373</td>\n",
       "      <td>0.970588</td>\n",
       "      <td>0.0</td>\n",
       "    </tr>\n",
       "    <tr>\n",
       "      <th>stuff</th>\n",
       "      <td>4.901961</td>\n",
       "      <td>1.000000</td>\n",
       "      <td>0.0</td>\n",
       "    </tr>\n",
       "    <tr>\n",
       "      <th>upper</th>\n",
       "      <td>4.764706</td>\n",
       "      <td>0.980392</td>\n",
       "      <td>0.0</td>\n",
       "    </tr>\n",
       "    <tr>\n",
       "      <th>bezel</th>\n",
       "      <td>4.696078</td>\n",
       "      <td>0.990196</td>\n",
       "      <td>0.0</td>\n",
       "    </tr>\n",
       "    <tr>\n",
       "      <th>fizzy</th>\n",
       "      <td>4.588235</td>\n",
       "      <td>1.000000</td>\n",
       "      <td>0.0</td>\n",
       "    </tr>\n",
       "    <tr>\n",
       "      <th>guppy</th>\n",
       "      <td>4.509804</td>\n",
       "      <td>0.970588</td>\n",
       "      <td>0.0</td>\n",
       "    </tr>\n",
       "    <tr>\n",
       "      <th>puffy</th>\n",
       "      <td>4.392157</td>\n",
       "      <td>0.980392</td>\n",
       "      <td>0.0</td>\n",
       "    </tr>\n",
       "  </tbody>\n",
       "</table>\n",
       "</div>"
      ],
      "text/plain": [
       "          Mean Steps  Success Rate  3-Steps or Less\n",
       "solution                                           \n",
       "vaunt       7.352941      0.137255              0.0\n",
       "graze       6.323529      0.568627              0.0\n",
       "waver       6.264706      0.627451              0.0\n",
       "greed       5.401961      0.970588              0.0\n",
       "ember       5.274510      0.892157              0.0\n",
       "jazzy       5.274510      0.901961              0.0\n",
       "stave       5.235294      0.980392              0.0\n",
       "jiffy       4.990196      1.000000              0.0\n",
       "fuzzy       4.931373      0.970588              0.0\n",
       "stuff       4.901961      1.000000              0.0\n",
       "upper       4.764706      0.980392              0.0\n",
       "bezel       4.696078      0.990196              0.0\n",
       "fizzy       4.588235      1.000000              0.0\n",
       "guppy       4.509804      0.970588              0.0\n",
       "puffy       4.392157      0.980392              0.0"
      ]
     },
     "metadata": {},
     "output_type": "display_data"
    }
   ],
   "source": [
    "df_low_avg_steps = solution_scores.loc[solution_scores['Mean Steps'].gt(6)].sort_values('Mean Steps', ascending=False)\n",
    "df_low_avg_steps[['Mean Steps']].plot.barh(figsize=(10,7))\n",
    "plt.gca().invert_yaxis()\n",
    "plt.title('Solution Words with Average Steps > 6', fontdict=fontdict)\n",
    "plt.show()\n",
    "display(df_low_avg_steps)\n",
    "\n",
    "\n",
    "df_low_success = solution_scores.loc[solution_scores['Success Rate'].lt(0.5)].sort_values('Success Rate', ascending=True)\n",
    "df_low_success[['Success Rate']].plot.barh(figsize=(10,7))\n",
    "plt.gca().invert_yaxis()\n",
    "plt.title('Solution Words with Success Rate < 50%', fontdict=fontdict)\n",
    "plt.show()\n",
    "display(df_low_success)\n",
    "\n",
    "df_zero_3step = solution_scores.loc[solution_scores['3-Steps or Less'].eq(0)].sort_values('Mean Steps', ascending=False)\n",
    "df_zero_3step[['Mean Steps']].plot.barh(figsize=(10,7))\n",
    "plt.gca().invert_yaxis()\n",
    "plt.title('Solution Words with 3-Steps or Less Rate == 0%', fontdict=fontdict)\n",
    "plt.show()\n",
    "display(df_zero_3step)"
   ]
  },
  {
   "cell_type": "code",
   "execution_count": 8,
   "id": "5b0be4dd-b015-4c1f-b340-30f1fa61a8ca",
   "metadata": {},
   "outputs": [
    {
     "data": {
      "text/html": [
       "<div>\n",
       "<style scoped>\n",
       "    .dataframe tbody tr th:only-of-type {\n",
       "        vertical-align: middle;\n",
       "    }\n",
       "\n",
       "    .dataframe tbody tr th {\n",
       "        vertical-align: top;\n",
       "    }\n",
       "\n",
       "    .dataframe thead th {\n",
       "        text-align: right;\n",
       "    }\n",
       "</style>\n",
       "<table border=\"1\" class=\"dataframe\">\n",
       "  <thead>\n",
       "    <tr style=\"text-align: right;\">\n",
       "      <th></th>\n",
       "      <th>steps</th>\n",
       "      <th>words</th>\n",
       "      <th>feedback</th>\n",
       "      <th>ncands</th>\n",
       "      <th>algo</th>\n",
       "      <th>word</th>\n",
       "      <th>solution</th>\n",
       "    </tr>\n",
       "  </thead>\n",
       "  <tbody>\n",
       "    <tr>\n",
       "      <th>0</th>\n",
       "      <td>3</td>\n",
       "      <td>[arles, idant, aback]</td>\n",
       "      <td>['GXXXX', 'XXGXX', 'GGGGG']</td>\n",
       "      <td>[27, 1, 1]</td>\n",
       "      <td>lf</td>\n",
       "      <td>arles</td>\n",
       "      <td>aback</td>\n",
       "    </tr>\n",
       "    <tr>\n",
       "      <th>1</th>\n",
       "      <td>3</td>\n",
       "      <td>[arles, await, aback]</td>\n",
       "      <td>['GXXXX', 'GXGXX', 'GGGGG']</td>\n",
       "      <td>[27, 1, 1]</td>\n",
       "      <td>gyx</td>\n",
       "      <td>arles</td>\n",
       "      <td>aback</td>\n",
       "    </tr>\n",
       "    <tr>\n",
       "      <th>2</th>\n",
       "      <td>3</td>\n",
       "      <td>[arles, idant, aback]</td>\n",
       "      <td>['GXXXX', 'XXGXX', 'GGGGG']</td>\n",
       "      <td>[27, 1, 1]</td>\n",
       "      <td>lf-pop</td>\n",
       "      <td>arles</td>\n",
       "      <td>aback</td>\n",
       "    </tr>\n",
       "    <tr>\n",
       "      <th>3</th>\n",
       "      <td>3</td>\n",
       "      <td>[arles, await, aback]</td>\n",
       "      <td>['GXXXX', 'GXGXX', 'GGGGG']</td>\n",
       "      <td>[27, 1, 1]</td>\n",
       "      <td>gyx-pop</td>\n",
       "      <td>arles</td>\n",
       "      <td>aback</td>\n",
       "    </tr>\n",
       "    <tr>\n",
       "      <th>4</th>\n",
       "      <td>3</td>\n",
       "      <td>[arles, optic, aback]</td>\n",
       "      <td>['GXXXX', 'XXXXY', 'GGGGG']</td>\n",
       "      <td>[27, 1, 1]</td>\n",
       "      <td>ncands</td>\n",
       "      <td>arles</td>\n",
       "      <td>aback</td>\n",
       "    </tr>\n",
       "  </tbody>\n",
       "</table>\n",
       "</div>"
      ],
      "text/plain": [
       "   steps                  words                     feedback      ncands  \\\n",
       "0      3  [arles, idant, aback]  ['GXXXX', 'XXGXX', 'GGGGG']  [27, 1, 1]   \n",
       "1      3  [arles, await, aback]  ['GXXXX', 'GXGXX', 'GGGGG']  [27, 1, 1]   \n",
       "2      3  [arles, idant, aback]  ['GXXXX', 'XXGXX', 'GGGGG']  [27, 1, 1]   \n",
       "3      3  [arles, await, aback]  ['GXXXX', 'GXGXX', 'GGGGG']  [27, 1, 1]   \n",
       "4      3  [arles, optic, aback]  ['GXXXX', 'XXXXY', 'GGGGG']  [27, 1, 1]   \n",
       "\n",
       "      algo   word solution  \n",
       "0       lf  arles    aback  \n",
       "1      gyx  arles    aback  \n",
       "2   lf-pop  arles    aback  \n",
       "3  gyx-pop  arles    aback  \n",
       "4   ncands  arles    aback  "
      ]
     },
     "execution_count": 8,
     "metadata": {},
     "output_type": "execute_result"
    }
   ],
   "source": [
    "adf.head()"
   ]
  },
  {
   "cell_type": "code",
   "execution_count": 24,
   "id": "1cc6e239-b3b3-4af1-8878-f3eafa7953bd",
   "metadata": {},
   "outputs": [
    {
     "data": {
      "text/plain": [
       "['jaunt', 'taunt', 'gaunt', 'haunt', 'daunt', 'vaunt']"
      ]
     },
     "execution_count": 24,
     "metadata": {},
     "output_type": "execute_result"
    }
   ],
   "source": [
    "get_one_missing('_aunt')"
   ]
  },
  {
   "cell_type": "code",
   "execution_count": 25,
   "id": "d361493a-5ed7-4c1f-9af7-8caee47c92c9",
   "metadata": {},
   "outputs": [
    {
     "data": {
      "text/plain": [
       "['grade', 'grate', 'grave', 'grace', 'grape', 'graze']"
      ]
     },
     "execution_count": 25,
     "metadata": {},
     "output_type": "execute_result"
    }
   ],
   "source": [
    "get_one_missing('gra_e')"
   ]
  },
  {
   "cell_type": "code",
   "execution_count": 45,
   "id": "5534da3a-a0e3-4206-ac22-66d90791d2c3",
   "metadata": {},
   "outputs": [
    {
     "data": {
      "text/plain": [
       "['paper',\n",
       " 'cater',\n",
       " 'gamer',\n",
       " 'payer',\n",
       " 'parer',\n",
       " 'baker',\n",
       " 'safer',\n",
       " 'tamer',\n",
       " 'hater',\n",
       " 'eater',\n",
       " 'paler',\n",
       " 'layer',\n",
       " 'later',\n",
       " 'taper',\n",
       " 'caper',\n",
       " 'wager',\n",
       " 'racer',\n",
       " 'lager',\n",
       " 'gazer',\n",
       " 'saner',\n",
       " 'water',\n",
       " 'maker',\n",
       " 'eager',\n",
       " 'rarer',\n",
       " 'waver',\n",
       " 'baler',\n",
       " 'wafer',\n",
       " 'gayer',\n",
       " 'taker']"
      ]
     },
     "execution_count": 45,
     "metadata": {},
     "output_type": "execute_result"
    }
   ],
   "source": [
    "get_one_missing('_a_er')"
   ]
  },
  {
   "cell_type": "code",
   "execution_count": 47,
   "id": "654095db-e5d6-4aeb-83e5-42d37cb6195c",
   "metadata": {},
   "outputs": [
    {
     "data": {
      "text/plain": [
       "['jaunt', 'jazzy']"
      ]
     },
     "execution_count": 47,
     "metadata": {},
     "output_type": "execute_result"
    }
   ],
   "source": [
    "get_one_missing('ja___')"
   ]
  },
  {
   "cell_type": "code",
   "execution_count": 44,
   "id": "f1dd8cf2-eaa8-47a1-8a06-00dab430fcc7",
   "metadata": {},
   "outputs": [
    {
     "data": {
      "text/plain": [
       "['elder', 'eater', 'enter', 'ether', 'ester', 'ember', 'eager']"
      ]
     },
     "execution_count": 44,
     "metadata": {},
     "output_type": "execute_result"
    }
   ],
   "source": [
    "get_one_missing('e__er')"
   ]
  },
  {
   "cell_type": "code",
   "execution_count": 41,
   "id": "3b75f7bf-fccb-4d6d-b2f2-978609cfa8d3",
   "metadata": {},
   "outputs": [
    {
     "data": {
      "text/plain": [
       "['grind', 'greed', 'grand']"
      ]
     },
     "execution_count": 41,
     "metadata": {},
     "output_type": "execute_result"
    }
   ],
   "source": [
    "get_one_missing('gr__d')"
   ]
  },
  {
   "cell_type": "code",
   "execution_count": 39,
   "id": "da6fadaf-f675-496c-8a2f-a024a28b7aa2",
   "metadata": {},
   "outputs": [
    {
     "data": {
      "text/plain": [
       "['stale', 'stage', 'stare', 'stake', 'stave', 'state']"
      ]
     },
     "execution_count": 39,
     "metadata": {},
     "output_type": "execute_result"
    }
   ],
   "source": [
    "get_one_missing('sta_e')"
   ]
  },
  {
   "cell_type": "code",
   "execution_count": 55,
   "id": "ff958da5-2152-4d20-a421-208b8a39a744",
   "metadata": {},
   "outputs": [
    {
     "data": {
      "text/plain": [
       "['fuzzy', 'dizzy', 'jazzy', 'fizzy']"
      ]
     },
     "execution_count": 55,
     "metadata": {},
     "output_type": "execute_result"
    }
   ],
   "source": [
    "get_one_missing('__zzy')"
   ]
  },
  {
   "cell_type": "code",
   "execution_count": 50,
   "id": "802fd6ae-d309-4485-b08d-806369904d61",
   "metadata": {},
   "outputs": [
    {
     "data": {
      "text/plain": [
       "['funny', 'furry', 'fuzzy', 'funky', 'fully', 'fussy']"
      ]
     },
     "execution_count": 50,
     "metadata": {},
     "output_type": "execute_result"
    }
   ],
   "source": [
    "get_one_missing('fu__y')"
   ]
  },
  {
   "cell_type": "code",
   "execution_count": 54,
   "id": "a73e673f-901c-40ea-b30d-c1694421c9f5",
   "metadata": {},
   "outputs": [
    {
     "data": {
      "text/plain": [
       "['stuck', 'study', 'stung', 'stunt', 'stump', 'stunk', 'stuff']"
      ]
     },
     "execution_count": 54,
     "metadata": {},
     "output_type": "execute_result"
    }
   ],
   "source": [
    "get_one_missing('stu__')"
   ]
  },
  {
   "cell_type": "code",
   "execution_count": 40,
   "id": "47571224-ca7f-4677-b77f-bab9cb4d1ef8",
   "metadata": {},
   "outputs": [
    {
     "data": {
      "text/plain": [
       "['usher', 'ulcer', 'udder', 'upper', 'utter', 'under']"
      ]
     },
     "execution_count": 40,
     "metadata": {},
     "output_type": "execute_result"
    }
   ],
   "source": [
    "get_one_missing('u__er')"
   ]
  },
  {
   "cell_type": "code",
   "execution_count": 53,
   "id": "ede3579d-4800-43a3-9142-40948306a1a4",
   "metadata": {},
   "outputs": [
    {
     "data": {
      "text/plain": [
       "['beset', 'betel', 'beget', 'bevel', 'beret', 'bezel']"
      ]
     },
     "execution_count": 53,
     "metadata": {},
     "output_type": "execute_result"
    }
   ],
   "source": [
    "get_one_missing('be_e_')"
   ]
  },
  {
   "cell_type": "code",
   "execution_count": 51,
   "id": "ffd04d8b-c224-4859-90ed-e162efc69967",
   "metadata": {},
   "outputs": [
    {
     "data": {
      "text/plain": [
       "['filmy', 'fishy', 'fiery', 'filly', 'fifty', 'fizzy']"
      ]
     },
     "execution_count": 51,
     "metadata": {},
     "output_type": "execute_result"
    }
   ],
   "source": [
    "get_one_missing('fi__y')"
   ]
  },
  {
   "cell_type": "code",
   "execution_count": null,
   "id": "d3999fcd-e21c-4349-ae29-0ea3636b1267",
   "metadata": {},
   "outputs": [],
   "source": []
  }
 ],
 "metadata": {
  "kernelspec": {
   "display_name": "datascience",
   "language": "python",
   "name": "datascience"
  },
  "language_info": {
   "codemirror_mode": {
    "name": "ipython",
    "version": 3
   },
   "file_extension": ".py",
   "mimetype": "text/x-python",
   "name": "python",
   "nbconvert_exporter": "python",
   "pygments_lexer": "ipython3",
   "version": "3.9.7"
  }
 },
 "nbformat": 4,
 "nbformat_minor": 5
}
