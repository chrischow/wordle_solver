{
 "cells": [
  {
   "cell_type": "markdown",
   "id": "7fc3de08-88be-469e-b666-9f43457246c4",
   "metadata": {},
   "source": [
    "# Brute Force with Numpy"
   ]
  },
  {
   "cell_type": "code",
   "execution_count": 1,
   "id": "9663d273-9e91-4410-a674-7996d3f970a2",
   "metadata": {},
   "outputs": [],
   "source": [
    "import json\n",
    "import numpy as np\n",
    "import pandas as pd\n",
    "\n",
    "from joblib import Parallel, delayed\n",
    "from tqdm.notebook import tqdm"
   ]
  },
  {
   "cell_type": "markdown",
   "id": "082a9b42-87a4-4875-b94d-ae25c967c174",
   "metadata": {},
   "source": [
    "## Load Data"
   ]
  },
  {
   "cell_type": "code",
   "execution_count": 2,
   "id": "3190d2c3-b54e-4c03-b528-0dc85a1f0488",
   "metadata": {},
   "outputs": [],
   "source": [
    "with open('data/wordle-candidates.json', 'r') as file:\n",
    "    wordle_candidates = json.load(file)\n",
    "    \n",
    "with open('data/wordle-answers.json', 'r') as file:\n",
    "    wordle_answers = json.load(file)\n",
    "\n",
    "wordle_candidates = pd.DataFrame(wordle_candidates['words'], columns=['word'])\n",
    "wordle_answers = pd.DataFrame(wordle_answers['words'], columns=['word'])\n",
    "wordle_candidates['is_answer'] = 0\n",
    "wordle_answers['is_answer'] = 1\n",
    "wordle = wordle_candidates.append(wordle_answers).reset_index(drop=True)"
   ]
  },
  {
   "cell_type": "code",
   "execution_count": 3,
   "id": "4273010f-6e69-4305-9c65-35216873bd86",
   "metadata": {},
   "outputs": [],
   "source": [
    "words_all = pd.read_table('data/archive/en_words_1_5-5.txt', delimiter=' ', header=None, index_col=None,\n",
    "                         names=['word_len', 'word_freq', 'n_articles']).reset_index()\n",
    "words_all = words_all.rename(columns={'index': 'word'})\n",
    "\n",
    "# Filter by english\n",
    "alphabet = list('abcdefghijklmnopqrstuvwxyz')\n",
    "words_all = words_all.loc[words_all.word.apply(lambda x: all([l in alphabet for l in x]))].reset_index(drop=True)"
   ]
  },
  {
   "cell_type": "markdown",
   "id": "d5459e01-8713-4ac4-a1e6-b43a13f74a83",
   "metadata": {},
   "source": [
    "## Prepare Artifacts"
   ]
  },
  {
   "cell_type": "code",
   "execution_count": 4,
   "id": "0b4cf8e6-7c7d-44d7-9a8b-d1848af67039",
   "metadata": {},
   "outputs": [],
   "source": [
    "alpha_dict = {l: i for i, l in enumerate(list('abcdefghijklmnopqrstuvwxyz'))}"
   ]
  },
  {
   "cell_type": "code",
   "execution_count": 805,
   "id": "3c4520c3-aae9-4e40-9594-0dc58547ef3d",
   "metadata": {},
   "outputs": [],
   "source": [
    "# Initialise solutions vector\n",
    "solutions = np.zeros((wordle.shape[0], 26, 5), dtype='int8')\n",
    "for i, word in enumerate(wordle.word):\n",
    "    for j, l in enumerate(word):\n",
    "        solutions[i, alpha_dict[l], j] = 1"
   ]
  },
  {
   "cell_type": "markdown",
   "id": "1c586369-af5f-4976-aac0-69e826034077",
   "metadata": {},
   "source": [
    "## Game Logic"
   ]
  },
  {
   "cell_type": "code",
   "execution_count": 806,
   "id": "ab7770d4-9ac9-4b66-836d-1210f6f93bc3",
   "metadata": {},
   "outputs": [],
   "source": [
    "def get_feedback(input_word, solution):\n",
    "    output = ''\n",
    "    for i in range(5):\n",
    "        if input_word[i] == solution[i]:\n",
    "            output += 'G'\n",
    "        elif input_word[i] in solution:\n",
    "            output += 'Y'\n",
    "        else:\n",
    "            output += 'X'\n",
    "    return output"
   ]
  },
  {
   "cell_type": "code",
   "execution_count": 807,
   "id": "fda5f160-5378-4e6e-b566-229400f39fe2",
   "metadata": {},
   "outputs": [],
   "source": [
    "def filter_wordset(input_word, feedback, wordset):\n",
    "    newset = wordset.copy()\n",
    "    for i in range(5):\n",
    "        if feedback[i] == 'G':\n",
    "            newset = newset.loc[newset.word.str[i] == input_word[i]]\n",
    "        elif feedback[i] == 'Y':\n",
    "            # newset = newset.loc[newset.word.str.contains(input_word[i])]\n",
    "            newset = newset.loc[newset.word.str.contains(input_word[i]) & newset.word.apply(lambda x: x[i] != input_word[i])]\n",
    "        else:\n",
    "            newset = newset.loc[~newset.word.str.contains(input_word[i])]\n",
    "    return newset"
   ]
  },
  {
   "cell_type": "markdown",
   "id": "779dfd9c-9d44-4f00-8831-e0f78388f1b2",
   "metadata": {},
   "source": [
    "## Vector Ops"
   ]
  },
  {
   "cell_type": "code",
   "execution_count": 808,
   "id": "a5a99dbf-e831-4453-9b17-5a547702d4a5",
   "metadata": {},
   "outputs": [],
   "source": [
    "def init_vec(word):\n",
    "    mat = np.zeros((26, 5), dtype='int8')\n",
    "    for i, l in enumerate(word):\n",
    "        mat[alpha_dict[l], i] = 1\n",
    "    return mat"
   ]
  },
  {
   "cell_type": "code",
   "execution_count": 809,
   "id": "03a150ed-a3e3-46ec-972d-309de010dd7f",
   "metadata": {},
   "outputs": [],
   "source": [
    "def get_scores(word, mask):\n",
    "    word_vec = init_vec(word)\n",
    "    solutions_masked = solutions[mask]\n",
    "    greens = solutions_masked * word_vec\n",
    "    yellows = word_vec * (\n",
    "        (solutions_masked.sum(axis=2) >= word_vec.sum(axis=1)) & \n",
    "        (word_vec.sum(axis=1) > 0)) \\\n",
    "        .reshape(np.sum(mask), 26, 1) - greens\n",
    "    greys = word_vec - greens - yellows\n",
    "    scores = np.array([np.sum(greens, axis=(1,2)), np.sum(yellows, axis=(1,2)), np.sum(greys, axis=(1,2))]).T\n",
    "    # scores = []\n",
    "    # for i in np.array(range(solutions.shape[0]))[mask]:\n",
    "    #     solution = solutions[i]\n",
    "    #     greens = solution * word_vec\n",
    "    #     yellows = word_vec * ((solution.sum(axis=1) >= word_vec.sum(axis=1)) & (word_vec.sum(axis=1) > 0)).reshape(26, 1) - greens\n",
    "    #     greys = word_vec - greens - yellows\n",
    "    #     scores.append((np.sum(greens), np.sum(yellows), np.sum(greys)))\n",
    "        \n",
    "    return scores"
   ]
  },
  {
   "cell_type": "code",
   "execution_count": 810,
   "id": "6e4c1447-69d4-46f5-966b-52766537e19b",
   "metadata": {},
   "outputs": [],
   "source": [
    "def get_final_scores(word, mask):\n",
    "    scores = get_scores(word, mask)\n",
    "    df_scores = pd.DataFrame(scores, columns=['g', 'y', 'x'])\n",
    "    df_scores['score'] = df_scores.g * 2 + df_scores.y\n",
    "    \n",
    "    return df_scores.score.mean()"
   ]
  },
  {
   "cell_type": "code",
   "execution_count": 811,
   "id": "cdbb6368-76e9-4e68-8caa-154381515466",
   "metadata": {},
   "outputs": [],
   "source": [
    "def get_n_cands(word, filter_mask, candidate_mask):\n",
    "    return np.sum((np.sum((filter_mask * solutions[candidate_mask]) == solutions[candidate_mask], axis=(-2,-1)) == 130))"
   ]
  },
  {
   "cell_type": "markdown",
   "id": "e8883e64-f7e7-48d5-bf9c-870efc89777a",
   "metadata": {},
   "source": [
    "### Filter Mask"
   ]
  },
  {
   "cell_type": "code",
   "execution_count": 812,
   "id": "51b37f1e-bb94-4774-8eb4-1a453aedde3a",
   "metadata": {},
   "outputs": [],
   "source": [
    "def init_candidate_mask():\n",
    "    return np.array([True] * wordle.shape[0])"
   ]
  },
  {
   "cell_type": "code",
   "execution_count": 813,
   "id": "f4fc40c1-16e2-4f5e-9366-4bb308fe412b",
   "metadata": {},
   "outputs": [],
   "source": [
    "def init_filter_mask():\n",
    "    filter_mask = np.ones((26,5))\n",
    "    return filter_mask"
   ]
  },
  {
   "cell_type": "code",
   "execution_count": 814,
   "id": "b7da9dfb-cd96-439b-884e-4be7edc4482f",
   "metadata": {},
   "outputs": [],
   "source": [
    "def update_filter_mask(input_word, feedback, mask):\n",
    "    wv = init_vec(input_word)\n",
    "    row_idx = [alpha_dict[l] for l in input_word]\n",
    "    output = mask.copy()\n",
    "    for i, (fb, r) in enumerate(zip(feedback, row_idx)):\n",
    "        # Green\n",
    "        if fb == 'G':\n",
    "            output[:, i] = 0\n",
    "            output[r, i] = 1\n",
    "        # Yellow\n",
    "        elif fb == 'Y':\n",
    "            output[r, i] = 0\n",
    "        # Grey\n",
    "        elif fb == 'X':\n",
    "            output[r, :] = 0\n",
    "    return output"
   ]
  },
  {
   "cell_type": "code",
   "execution_count": 815,
   "id": "3e9f6e76-b66d-404e-858f-33ce3aa0b196",
   "metadata": {},
   "outputs": [],
   "source": [
    "def update_candidate_mask(input_word, feedback, wordset, mask):\n",
    "    newmask = mask.copy()\n",
    "    for i in range(5):\n",
    "        if feedback[i] == 'G':\n",
    "            newmask[~wordset.word.str[i].eq(input_word[i])] = False\n",
    "        elif feedback[i] == 'Y':\n",
    "            newmask[~(wordset.word.str.contains(input_word[i]) & wordset.word.apply(lambda x: x[i] != input_word[i]))] = False\n",
    "        elif feedback[i] == 'X':\n",
    "            newmask[wordset.word.str.contains(input_word[i])] = False\n",
    "            \n",
    "    return newmask"
   ]
  },
  {
   "cell_type": "code",
   "execution_count": 407,
   "id": "e8229acb-2f1a-40a3-81c3-b869d64ad36d",
   "metadata": {},
   "outputs": [],
   "source": [
    "input_word = 'soare'\n",
    "solution = 'humph'\n",
    "fb = get_feedback(input_word, solution)\n",
    "filter_mask = init_filter_mask()\n",
    "filter_mask = update_filter_mask(input_word, fb, filter_mask)"
   ]
  },
  {
   "cell_type": "code",
   "execution_count": 408,
   "id": "9fb47d56-5ffa-4cd7-ae8f-5a3d519de2e0",
   "metadata": {},
   "outputs": [],
   "source": [
    "candidate_mask = init_candidate_mask()\n",
    "eval_mat = solutions[candidate_mask].copy()\n",
    "eval_mat = eval_mat.reshape(np.sum(candidate_mask), 130)"
   ]
  },
  {
   "cell_type": "code",
   "execution_count": 409,
   "id": "e9b8197b-659c-42dc-ab27-648ccc0a853f",
   "metadata": {},
   "outputs": [
    {
     "data": {
      "text/plain": [
       "577"
      ]
     },
     "execution_count": 409,
     "metadata": {},
     "output_type": "execute_result"
    }
   ],
   "source": [
    "get_n_cands(input_word, filter_mask, candidate_mask)"
   ]
  },
  {
   "cell_type": "code",
   "execution_count": 413,
   "id": "54b4c8f7-b59e-482c-9548-e77567227369",
   "metadata": {},
   "outputs": [],
   "source": [
    "fm = filter_mask.ravel()"
   ]
  },
  {
   "cell_type": "code",
   "execution_count": 425,
   "id": "8af97d5c-abfb-4427-8871-51214d4520d5",
   "metadata": {},
   "outputs": [
    {
     "data": {
      "text/plain": [
       "30"
      ]
     },
     "execution_count": 425,
     "metadata": {},
     "output_type": "execute_result"
    }
   ],
   "source": [
    "np.sum(eval_mat == fm, axis=1)"
   ]
  },
  {
   "cell_type": "code",
   "execution_count": 254,
   "id": "bb2f9690-b777-4f63-abe4-bd7ea159543c",
   "metadata": {},
   "outputs": [
    {
     "data": {
      "text/plain": [
       "577"
      ]
     },
     "execution_count": 254,
     "metadata": {},
     "output_type": "execute_result"
    }
   ],
   "source": [
    "np.sum((np.sum((filter_mask * solutions[candidate_mask]) == solutions[candidate_mask], axis=(-2,-1)) == 130))"
   ]
  },
  {
   "cell_type": "code",
   "execution_count": null,
   "id": "c7810b2d-9eaa-4b5f-a3d8-5b3c5ba64451",
   "metadata": {},
   "outputs": [],
   "source": []
  },
  {
   "cell_type": "code",
   "execution_count": null,
   "id": "2b80e694-d187-4c65-a948-c48d54b7833f",
   "metadata": {},
   "outputs": [],
   "source": []
  },
  {
   "cell_type": "code",
   "execution_count": null,
   "id": "b8ac0978-6ae8-47b8-ad64-e6321b4be9fd",
   "metadata": {},
   "outputs": [],
   "source": []
  },
  {
   "cell_type": "markdown",
   "id": "f5a647ba-3e57-404e-8c69-3918524d8509",
   "metadata": {},
   "source": [
    "## Global Scores"
   ]
  },
  {
   "cell_type": "code",
   "execution_count": 128,
   "id": "7a8c4ddd-0ff0-4313-8a35-90eb9eb87fec",
   "metadata": {},
   "outputs": [],
   "source": [
    "def compute_letter_frequencies(wordset):\n",
    "    w = wordset.copy()\n",
    "    for letter in list('abcdefghijklmnopqrstuvwxyz'):\n",
    "        w[letter] = w.word.str.contains(letter).astype(int)\n",
    "    return w.iloc[:, 1:]\n",
    "\n",
    "def compute_score(x, freqs):\n",
    "    letters = set(x)\n",
    "    output = 0\n",
    "    for letter in letters:\n",
    "        output += freqs[letter]\n",
    "    return output"
   ]
  },
  {
   "cell_type": "code",
   "execution_count": 129,
   "id": "390fcb23-57d8-4953-a166-4ce9f5d1ad8d",
   "metadata": {},
   "outputs": [],
   "source": [
    "global_freqs = compute_letter_frequencies(wordle).sum().to_dict()\n",
    "global_scores = wordle.word.apply(compute_score, freqs=global_freqs)\n",
    "global_scores = pd.DataFrame({'word': wordle.word, 'score': global_scores})\n",
    "global_scores = global_scores.merge(words_all[['word', 'word_freq', 'n_articles']], how='left', left_on='word', right_on='word')\n",
    "global_scores = global_scores.fillna(0).sort_values(['score', 'word_freq'], ascending=False)"
   ]
  },
  {
   "cell_type": "markdown",
   "id": "000f05e4-71d8-4f01-91c5-0bd97b709323",
   "metadata": {},
   "source": [
    "## App"
   ]
  },
  {
   "cell_type": "code",
   "execution_count": 428,
   "id": "aca58ebd-b0c9-4aa3-afeb-c72121ec868a",
   "metadata": {},
   "outputs": [],
   "source": [
    "def run_app(pre_load=None):\n",
    "    candidate_mask = init_candidate_mask()\n",
    "    filter_mask = init_filter_mask()\n",
    "    step = 1\n",
    "    w = wordle.copy()\n",
    "    res = pd.DataFrame([{'a': 1}, {'a': 1}])\n",
    "    tested_words = []\n",
    "    all_chars = []\n",
    "    \n",
    "    while res.shape[0] > 1:\n",
    "        print(f'[ ---- STEP {step} ----]')\n",
    "        if not (step == 1 and pre_load):\n",
    "            guess = input('Input a guess:')\n",
    "        else:\n",
    "            guess = pre_load\n",
    "        if guess.lower() in ['quit', 'q']:\n",
    "            return w, candidate_mask, res\n",
    "        tested_words.append(guess)\n",
    "        all_chars = all_chars + list(set(guess))\n",
    "        all_chars = list(set(all_chars))\n",
    "        \n",
    "        fb = input('Input feedback:')\n",
    "        if fb.lower() in ['quit', 'q']:\n",
    "            return w, candidate_mask, res\n",
    "        \n",
    "        # Update masks and candidate set\n",
    "        candidate_mask = update_candidate_mask(guess, fb.upper(), wordle, candidate_mask)\n",
    "        filter_mask = update_filter_mask(guess, fb, filter_mask)\n",
    "        w = filter_wordset(guess, fb.upper(), w)\n",
    "        \n",
    "        # Candidates\n",
    "        print(f'Found {w.shape[0]} candidates. Running analysis...')\n",
    "        new_scores = []\n",
    "        new_ncands = []\n",
    "        \n",
    "        # eval_mat = solutions[candidate_mask].copy()\n",
    "        \n",
    "        for word in tqdm(w.word):\n",
    "            # Get G/Y/X scores\n",
    "            new_scores.append(get_final_scores(word, candidate_mask))\n",
    "            \n",
    "            # Get projected filter mask\n",
    "#             temp_cands = 0\n",
    "#             for solution in w.word:\n",
    "#                 proj_fb = get_feedback(word, solution)\n",
    "#                 proj_filter_mask = update_filter_mask(word, proj_fb, filter_mask)\n",
    "#                 temp_cands += get_n_cands(word, proj_filter_mask, candidate_mask)\n",
    "            \n",
    "#             new_ncands.append(np.mean(temp_cands / w.shape[0]))\n",
    "            \n",
    "        \n",
    "        print(f'Suggestions for step {step + 1} ({w.shape[0]}):')\n",
    "        res = pd.DataFrame({'word': w.word, 'score': new_scores}) \\\n",
    "            .merge(words_all[['word', 'word_freq']], on='word', how='left') \\\n",
    "            .fillna(0)\n",
    "        # display(res.sort_values(['ncands', 'score', 'word_freq'], ascending=[True, False, False]).head(10))\n",
    "        display(res.sort_values(['score', 'word_freq'], ascending=False).head(10))\n",
    "        \n",
    "        # Filters\n",
    "        # if w.shape[0] > 10:\n",
    "        #     print(f'\\nLarge number of candidates found ({w.shape[0]}). We recommend filtering the candidates more:')\n",
    "        #     display(\n",
    "        #         global_scores.loc[global_scores.word.apply(lambda x: len(set(all_chars).intersection(set(list(x)))) < 1)] \\\n",
    "        #             .head(5)\n",
    "        #     )\n",
    "        if w.shape[0] <= 10:\n",
    "            print(f'Small number of candidates remaining ({w.shape[0]}). We recommend choosing the most popular option:')\n",
    "            display(res.sort_values(['word_freq', 'score'], ascending=False).head(5))\n",
    "        \n",
    "        # Check for repeats\n",
    "        if w.shape[0] <= 8 and w.shape[0] >= 3:\n",
    "            w_copy = res.sort_values(['word_freq', 'score'], ascending=False).copy()\n",
    "            # Extract letters\n",
    "            for i in range(5):\n",
    "                w_copy[f'p{i}'] = w_copy.word.str[i]\n",
    "            \n",
    "            # Count the number of unique columns\n",
    "            unique_mask = w_copy.iloc[:, -5:].nunique() > 1\n",
    "            \n",
    "            # If only 1, then recommend another word\n",
    "            if unique_mask.sum() == 1:\n",
    "                wc = wordle.copy()\n",
    "                total_letters = w_copy.shape[0]\n",
    "                wc['scores'] = 0\n",
    "                wc['counts'] = 0\n",
    "                for i, letter in enumerate(np.squeeze(w_copy[unique_mask.index[unique_mask]].values)):\n",
    "                    wc['scores'] = wc['scores'] + (total_letters - i) * wc.word.str.contains(letter).astype(int)\n",
    "                    wc['counts'] = wc['counts'] + wc.word.str.contains(letter).astype(int)\n",
    "                    \n",
    "                print(f'\\nWords with only one letter differential detected. Consider filtering:')\n",
    "                display(wc.loc[wc.counts.le(total_letters // 2 * 3)].sort_values('scores', ascending=False).head(5))\n",
    "\n",
    "                \n",
    "        step += 1\n",
    "        print()\n",
    "        \n",
    "    return w, candidate_mask, res"
   ]
  },
  {
   "cell_type": "markdown",
   "id": "a657b7fb-2308-4068-8d89-fe128dc60f52",
   "metadata": {},
   "source": [
    "## Run"
   ]
  },
  {
   "cell_type": "code",
   "execution_count": null,
   "id": "2fda297e-70bd-4c02-b498-e2eecea8b7e0",
   "metadata": {},
   "outputs": [
    {
     "name": "stdout",
     "output_type": "stream",
     "text": [
      "[ ---- STEP 1 ----]\n"
     ]
    },
    {
     "name": "stdin",
     "output_type": "stream",
     "text": [
      "Input feedback: xxxxx\n"
     ]
    },
    {
     "name": "stdout",
     "output_type": "stream",
     "text": [
      "Found 5942 candidates. Running analysis...\n"
     ]
    },
    {
     "data": {
      "application/vnd.jupyter.widget-view+json": {
       "model_id": "8fb7e77151de49518bb3eacb0ce06cb5",
       "version_major": 2,
       "version_minor": 0
      },
      "text/plain": [
       "  0%|          | 0/5942 [00:00<?, ?it/s]"
      ]
     },
     "metadata": {},
     "output_type": "display_data"
    },
    {
     "name": "stdout",
     "output_type": "stream",
     "text": [
      "Suggestions for step 2 (5942):\n"
     ]
    },
    {
     "data": {
      "text/html": [
       "<div>\n",
       "<style scoped>\n",
       "    .dataframe tbody tr th:only-of-type {\n",
       "        vertical-align: middle;\n",
       "    }\n",
       "\n",
       "    .dataframe tbody tr th {\n",
       "        vertical-align: top;\n",
       "    }\n",
       "\n",
       "    .dataframe thead th {\n",
       "        text-align: right;\n",
       "    }\n",
       "</style>\n",
       "<table border=\"1\" class=\"dataframe\">\n",
       "  <thead>\n",
       "    <tr style=\"text-align: right;\">\n",
       "      <th></th>\n",
       "      <th>word</th>\n",
       "      <th>score</th>\n",
       "      <th>word_freq</th>\n",
       "    </tr>\n",
       "  </thead>\n",
       "  <tbody>\n",
       "    <tr>\n",
       "      <th>4156</th>\n",
       "      <td>tores</td>\n",
       "      <td>2.950522</td>\n",
       "      <td>8.0</td>\n",
       "    </tr>\n",
       "    <tr>\n",
       "      <th>1950</th>\n",
       "      <td>lores</td>\n",
       "      <td>2.897173</td>\n",
       "      <td>89.0</td>\n",
       "    </tr>\n",
       "    <tr>\n",
       "      <th>3266</th>\n",
       "      <td>rotes</td>\n",
       "      <td>2.891114</td>\n",
       "      <td>63.0</td>\n",
       "    </tr>\n",
       "    <tr>\n",
       "      <th>3222</th>\n",
       "      <td>roles</td>\n",
       "      <td>2.881521</td>\n",
       "      <td>52091.0</td>\n",
       "    </tr>\n",
       "    <tr>\n",
       "      <th>3230</th>\n",
       "      <td>rones</td>\n",
       "      <td>2.874958</td>\n",
       "      <td>2.0</td>\n",
       "    </tr>\n",
       "    <tr>\n",
       "      <th>574</th>\n",
       "      <td>dores</td>\n",
       "      <td>2.873780</td>\n",
       "      <td>81.0</td>\n",
       "    </tr>\n",
       "    <tr>\n",
       "      <th>4121</th>\n",
       "      <td>toles</td>\n",
       "      <td>2.863514</td>\n",
       "      <td>50.0</td>\n",
       "    </tr>\n",
       "    <tr>\n",
       "      <th>3273</th>\n",
       "      <td>roues</td>\n",
       "      <td>2.859475</td>\n",
       "      <td>9.0</td>\n",
       "    </tr>\n",
       "    <tr>\n",
       "      <th>4134</th>\n",
       "      <td>tones</td>\n",
       "      <td>2.856951</td>\n",
       "      <td>2122.0</td>\n",
       "    </tr>\n",
       "    <tr>\n",
       "      <th>2868</th>\n",
       "      <td>pores</td>\n",
       "      <td>2.853921</td>\n",
       "      <td>681.0</td>\n",
       "    </tr>\n",
       "  </tbody>\n",
       "</table>\n",
       "</div>"
      ],
      "text/plain": [
       "       word     score  word_freq\n",
       "4156  tores  2.950522        8.0\n",
       "1950  lores  2.897173       89.0\n",
       "3266  rotes  2.891114       63.0\n",
       "3222  roles  2.881521    52091.0\n",
       "3230  rones  2.874958        2.0\n",
       "574   dores  2.873780       81.0\n",
       "4121  toles  2.863514       50.0\n",
       "3273  roues  2.859475        9.0\n",
       "4134  tones  2.856951     2122.0\n",
       "2868  pores  2.853921      681.0"
      ]
     },
     "metadata": {},
     "output_type": "display_data"
    },
    {
     "name": "stdout",
     "output_type": "stream",
     "text": [
      "\n",
      "[ ---- STEP 2 ----]\n"
     ]
    }
   ],
   "source": [
    "curr_wordset, curr_mask, curr_res = run_app('abaka')"
   ]
  },
  {
   "cell_type": "code",
   "execution_count": null,
   "id": "a23e3f7c-8311-40cb-ab3c-efcae41378bd",
   "metadata": {},
   "outputs": [],
   "source": []
  },
  {
   "cell_type": "code",
   "execution_count": 649,
   "id": "6c1cb354-88ca-45ae-a810-45c5a8e37f9c",
   "metadata": {},
   "outputs": [],
   "source": [
    "m = [True] * 12972"
   ]
  },
  {
   "cell_type": "code",
   "execution_count": 773,
   "id": "13aa0638-58f3-4644-800c-e83f50cfe180",
   "metadata": {},
   "outputs": [],
   "source": [
    "word_vec = init_vec('roate')\n",
    "solutions_masked = solutions\n",
    "greens = solutions_masked * word_vec\n",
    "yellows = word_vec * (\n",
    "    (solutions_masked.sum(axis=2) >= word_vec.sum(axis=1)) & \n",
    "    (word_vec.sum(axis=1) > 0)) \\\n",
    "    .reshape(np.sum(m), 26, 1) - greens\n",
    "greys = word_vec - greens - yellows\n",
    "\n",
    "filter_mask = np.ones((26, 5), dtype='int8')\n",
    "\n",
    "# Update greens\n",
    "filter_mask = np.where(np.expand_dims(greens.sum(axis=-2) == 1, axis=1), greens, filter_mask)\n",
    "\n",
    "# Update yellows\n",
    "filter_mask = np.where(np.expand_dims(yellows.sum(axis=-1)==1, -1), filter_mask - yellows, filter_mask)\n",
    "\n",
    "# Update greys\n",
    "filter_mask = np.where(np.expand_dims(greys.sum(axis=-1)==1, -1), 0, filter_mask)"
   ]
  },
  {
   "cell_type": "code",
   "execution_count": 784,
   "id": "80ebac00-3a4b-466c-8ef7-05ff560d4fac",
   "metadata": {},
   "outputs": [],
   "source": [
    "def compute_cands(mask):\n",
    "    m = mask.reshape(26, 5)\n",
    "    return np.sum(np.sum(m * solutions == solutions, axis=(-2,-1))==130)"
   ]
  },
  {
   "cell_type": "code",
   "execution_count": 779,
   "id": "a8bb717a-5f8f-4465-a8f1-5b8e4ea7b93a",
   "metadata": {},
   "outputs": [],
   "source": [
    "solutions_reshaped = solutions.reshape(12972, 130)\n",
    "filter_mask_reshaped = filter_mask.reshape(12972, 130)\n",
    "ncands = np.apply_along_axis(compute_cands, 1, filter_mask_reshaped)"
   ]
  },
  {
   "cell_type": "code",
   "execution_count": 786,
   "id": "b7d496cd-4de3-48a4-aa26-b8ae53da21e5",
   "metadata": {},
   "outputs": [
    {
     "data": {
      "text/plain": [
       "'GXXYY'"
      ]
     },
     "execution_count": 786,
     "metadata": {},
     "output_type": "execute_result"
    }
   ],
   "source": [
    "get_feedback('roate', 'rebut')"
   ]
  },
  {
   "cell_type": "code",
   "execution_count": 799,
   "id": "d961a33a-ea0d-4cf0-af4f-69defeeb1636",
   "metadata": {},
   "outputs": [],
   "source": [
    "m1 = filter_mask_reshaped[10658]"
   ]
  },
  {
   "cell_type": "code",
   "execution_count": 800,
   "id": "1612121e-8a95-4833-9ae7-eadc8243df34",
   "metadata": {},
   "outputs": [],
   "source": [
    "m1 = m1.reshape(26,5)"
   ]
  },
  {
   "cell_type": "code",
   "execution_count": 798,
   "id": "0328915b-7486-4459-825c-332098c6f1fd",
   "metadata": {},
   "outputs": [
    {
     "data": {
      "text/plain": [
       "word         rebut\n",
       "is_answer        1\n",
       "Name: 10658, dtype: object"
      ]
     },
     "execution_count": 798,
     "metadata": {},
     "output_type": "execute_result"
    }
   ],
   "source": [
    "wordle.iloc[10658]"
   ]
  },
  {
   "cell_type": "code",
   "execution_count": 801,
   "id": "fa05a598-597c-4629-bfb9-f434a3cd4f56",
   "metadata": {},
   "outputs": [
    {
     "data": {
      "text/plain": [
       "196"
      ]
     },
     "execution_count": 801,
     "metadata": {},
     "output_type": "execute_result"
    }
   ],
   "source": [
    "np.sum(np.sum(m1 * solutions == solutions, axis=(-2,-1)) == 130)"
   ]
  },
  {
   "cell_type": "code",
   "execution_count": null,
   "id": "f6369f88-865a-42ab-9599-3fd3662d8bb5",
   "metadata": {},
   "outputs": [],
   "source": []
  },
  {
   "cell_type": "code",
   "execution_count": null,
   "id": "e8e7e992-fa3a-4e46-bfe5-9cadd4a0b9a6",
   "metadata": {},
   "outputs": [
    {
     "name": "stdout",
     "output_type": "stream",
     "text": [
      "[Y] No e: 54\n",
      "[Y] No t: 171\n",
      "[Y] Last letter is e: 0\n",
      "[G] Starts with r: 196\n",
      "[X] Has o: 0\n",
      "[X] Has a: 0\n"
     ]
    }
   ],
   "source": [
    "# Yellow check\n",
    "print('[Y] No e:', t0.word.apply(lambda x: x.count('e') == 0).sum())\n",
    "print('[Y] No t:', t0.word.apply(lambda x: x.count('t') == 0).sum())\n",
    "print('[Y] Last letter is e:', t0.word.apply(lambda x: x[4] == 'e').sum())\n",
    "\n",
    "# Green check\n",
    "print('[G] Starts with r:', t0.word.apply(lambda x: x[0] == 'r').sum())\n",
    "\n",
    "# Grey check\n",
    "print('[X] Has o:', t0.word.str.contains('o').sum())\n",
    "print('[X] Has a:', t0.word.str.contains('a').sum())"
   ]
  },
  {
   "cell_type": "code",
   "execution_count": 734,
   "id": "b0ab585e-6231-4bf0-9dc8-740b83da7f51",
   "metadata": {},
   "outputs": [
    {
     "data": {
      "text/html": [
       "<div>\n",
       "<style scoped>\n",
       "    .dataframe tbody tr th:only-of-type {\n",
       "        vertical-align: middle;\n",
       "    }\n",
       "\n",
       "    .dataframe tbody tr th {\n",
       "        vertical-align: top;\n",
       "    }\n",
       "\n",
       "    .dataframe thead th {\n",
       "        text-align: right;\n",
       "    }\n",
       "</style>\n",
       "<table border=\"1\" class=\"dataframe\">\n",
       "  <thead>\n",
       "    <tr style=\"text-align: right;\">\n",
       "      <th></th>\n",
       "      <th>word</th>\n",
       "      <th>is_answer</th>\n",
       "    </tr>\n",
       "  </thead>\n",
       "  <tbody>\n",
       "    <tr>\n",
       "      <th>7431</th>\n",
       "      <td>rebit</td>\n",
       "      <td>0</td>\n",
       "    </tr>\n",
       "    <tr>\n",
       "      <th>7438</th>\n",
       "      <td>recit</td>\n",
       "      <td>0</td>\n",
       "    </tr>\n",
       "    <tr>\n",
       "      <th>7469</th>\n",
       "      <td>reest</td>\n",
       "      <td>0</td>\n",
       "    </tr>\n",
       "    <tr>\n",
       "      <th>7494</th>\n",
       "      <td>reist</td>\n",
       "      <td>0</td>\n",
       "    </tr>\n",
       "    <tr>\n",
       "      <th>7501</th>\n",
       "      <td>relet</td>\n",
       "      <td>0</td>\n",
       "    </tr>\n",
       "    <tr>\n",
       "      <th>7503</th>\n",
       "      <td>relit</td>\n",
       "      <td>0</td>\n",
       "    </tr>\n",
       "    <tr>\n",
       "      <th>7508</th>\n",
       "      <td>remet</td>\n",
       "      <td>0</td>\n",
       "    </tr>\n",
       "    <tr>\n",
       "      <th>7539</th>\n",
       "      <td>resit</td>\n",
       "      <td>0</td>\n",
       "    </tr>\n",
       "    <tr>\n",
       "      <th>7548</th>\n",
       "      <td>retem</td>\n",
       "      <td>0</td>\n",
       "    </tr>\n",
       "    <tr>\n",
       "      <th>7552</th>\n",
       "      <td>revet</td>\n",
       "      <td>0</td>\n",
       "    </tr>\n",
       "    <tr>\n",
       "      <th>7557</th>\n",
       "      <td>rewet</td>\n",
       "      <td>0</td>\n",
       "    </tr>\n",
       "    <tr>\n",
       "      <th>7627</th>\n",
       "      <td>rites</td>\n",
       "      <td>0</td>\n",
       "    </tr>\n",
       "    <tr>\n",
       "      <th>10658</th>\n",
       "      <td>rebut</td>\n",
       "      <td>1</td>\n",
       "    </tr>\n",
       "    <tr>\n",
       "      <th>10815</th>\n",
       "      <td>retch</td>\n",
       "      <td>1</td>\n",
       "    </tr>\n",
       "    <tr>\n",
       "      <th>11223</th>\n",
       "      <td>recut</td>\n",
       "      <td>1</td>\n",
       "    </tr>\n",
       "    <tr>\n",
       "      <th>11237</th>\n",
       "      <td>rivet</td>\n",
       "      <td>1</td>\n",
       "    </tr>\n",
       "    <tr>\n",
       "      <th>11344</th>\n",
       "      <td>reset</td>\n",
       "      <td>1</td>\n",
       "    </tr>\n",
       "    <tr>\n",
       "      <th>11939</th>\n",
       "      <td>remit</td>\n",
       "      <td>1</td>\n",
       "    </tr>\n",
       "    <tr>\n",
       "      <th>12099</th>\n",
       "      <td>retry</td>\n",
       "      <td>1</td>\n",
       "    </tr>\n",
       "    <tr>\n",
       "      <th>12964</th>\n",
       "      <td>refit</td>\n",
       "      <td>1</td>\n",
       "    </tr>\n",
       "  </tbody>\n",
       "</table>\n",
       "</div>"
      ],
      "text/plain": [
       "        word  is_answer\n",
       "7431   rebit          0\n",
       "7438   recit          0\n",
       "7469   reest          0\n",
       "7494   reist          0\n",
       "7501   relet          0\n",
       "7503   relit          0\n",
       "7508   remet          0\n",
       "7539   resit          0\n",
       "7548   retem          0\n",
       "7552   revet          0\n",
       "7557   rewet          0\n",
       "7627   rites          0\n",
       "10658  rebut          1\n",
       "10815  retch          1\n",
       "11223  recut          1\n",
       "11237  rivet          1\n",
       "11344  reset          1\n",
       "11939  remit          1\n",
       "12099  retry          1\n",
       "12964  refit          1"
      ]
     },
     "execution_count": 734,
     "metadata": {},
     "output_type": "execute_result"
    }
   ],
   "source": [
    "t1"
   ]
  },
  {
   "cell_type": "code",
   "execution_count": null,
   "id": "cf933fad-f123-4027-877f-f121a96d0e12",
   "metadata": {},
   "outputs": [],
   "source": []
  },
  {
   "cell_type": "code",
   "execution_count": 772,
   "id": "30897564-5e00-47b4-96e5-27882a4b0d55",
   "metadata": {},
   "outputs": [
    {
     "name": "stdout",
     "output_type": "stream",
     "text": [
      "Letter: r - Result: Green\n",
      "Rebec: 1\n",
      "Letter: o - Result: Grey\n",
      "Rebec: 1\n",
      "Letter: a - Result: Grey\n",
      "Rebec: 1\n",
      "Letter: t - Result: Yellow\n",
      "       word  is_answer     y1    y2\n",
      "7429  rebec          0  False  True\n",
      "Rebec: 0\n",
      "Letter: e - Result: Yellow\n",
      "Empty DataFrame\n",
      "Columns: [word, is_answer, y1, y2]\n",
      "Index: []\n",
      "Rebec: 0\n"
     ]
    }
   ],
   "source": [
    "t1 = filter_wordset('roate', get_feedback('roate', 'rebut'), wordle)"
   ]
  },
  {
   "cell_type": "code",
   "execution_count": 767,
   "id": "dd68e58c-20b8-4e7b-bbe8-bc5b4eda72d5",
   "metadata": {},
   "outputs": [
    {
     "data": {
      "text/html": [
       "<div>\n",
       "<style scoped>\n",
       "    .dataframe tbody tr th:only-of-type {\n",
       "        vertical-align: middle;\n",
       "    }\n",
       "\n",
       "    .dataframe tbody tr th {\n",
       "        vertical-align: top;\n",
       "    }\n",
       "\n",
       "    .dataframe thead th {\n",
       "        text-align: right;\n",
       "    }\n",
       "</style>\n",
       "<table border=\"1\" class=\"dataframe\">\n",
       "  <thead>\n",
       "    <tr style=\"text-align: right;\">\n",
       "      <th></th>\n",
       "      <th>word</th>\n",
       "      <th>is_answer</th>\n",
       "    </tr>\n",
       "  </thead>\n",
       "  <tbody>\n",
       "    <tr>\n",
       "      <th>7429</th>\n",
       "      <td>rebec</td>\n",
       "      <td>0</td>\n",
       "    </tr>\n",
       "    <tr>\n",
       "      <th>11933</th>\n",
       "      <td>rebel</td>\n",
       "      <td>1</td>\n",
       "    </tr>\n",
       "    <tr>\n",
       "      <th>7430</th>\n",
       "      <td>rebid</td>\n",
       "      <td>0</td>\n",
       "    </tr>\n",
       "    <tr>\n",
       "      <th>10853</th>\n",
       "      <td>rebus</td>\n",
       "      <td>1</td>\n",
       "    </tr>\n",
       "    <tr>\n",
       "      <th>7433</th>\n",
       "      <td>rebuy</td>\n",
       "      <td>0</td>\n",
       "    </tr>\n",
       "    <tr>\n",
       "      <th>...</th>\n",
       "      <td>...</td>\n",
       "      <td>...</td>\n",
       "    </tr>\n",
       "    <tr>\n",
       "      <th>7787</th>\n",
       "      <td>runes</td>\n",
       "      <td>0</td>\n",
       "    </tr>\n",
       "    <tr>\n",
       "      <th>7797</th>\n",
       "      <td>ruses</td>\n",
       "      <td>0</td>\n",
       "    </tr>\n",
       "    <tr>\n",
       "      <th>7808</th>\n",
       "      <td>ryked</td>\n",
       "      <td>0</td>\n",
       "    </tr>\n",
       "    <tr>\n",
       "      <th>7809</th>\n",
       "      <td>rykes</td>\n",
       "      <td>0</td>\n",
       "    </tr>\n",
       "    <tr>\n",
       "      <th>7813</th>\n",
       "      <td>ryper</td>\n",
       "      <td>0</td>\n",
       "    </tr>\n",
       "  </tbody>\n",
       "</table>\n",
       "<p>122 rows × 2 columns</p>\n",
       "</div>"
      ],
      "text/plain": [
       "        word  is_answer\n",
       "7429   rebec          0\n",
       "11933  rebel          1\n",
       "7430   rebid          0\n",
       "10853  rebus          1\n",
       "7433   rebuy          0\n",
       "...      ...        ...\n",
       "7787   runes          0\n",
       "7797   ruses          0\n",
       "7808   ryked          0\n",
       "7809   rykes          0\n",
       "7813   ryper          0\n",
       "\n",
       "[122 rows x 2 columns]"
      ]
     },
     "execution_count": 767,
     "metadata": {},
     "output_type": "execute_result"
    }
   ],
   "source": [
    "t0.loc[~t0.word.isin(t1.word) & t0.word.apply(lambda x: x.count('e') > 0)].sort_values('word')"
   ]
  },
  {
   "cell_type": "code",
   "execution_count": 695,
   "id": "7a230b0d-5099-455d-8983-3acc3f4850bb",
   "metadata": {},
   "outputs": [
    {
     "data": {
      "text/html": [
       "<div>\n",
       "<style scoped>\n",
       "    .dataframe tbody tr th:only-of-type {\n",
       "        vertical-align: middle;\n",
       "    }\n",
       "\n",
       "    .dataframe tbody tr th {\n",
       "        vertical-align: top;\n",
       "    }\n",
       "\n",
       "    .dataframe thead th {\n",
       "        text-align: right;\n",
       "    }\n",
       "</style>\n",
       "<table border=\"1\" class=\"dataframe\">\n",
       "  <thead>\n",
       "    <tr style=\"text-align: right;\">\n",
       "      <th></th>\n",
       "      <th>word</th>\n",
       "      <th>is_answer</th>\n",
       "    </tr>\n",
       "  </thead>\n",
       "  <tbody>\n",
       "    <tr>\n",
       "      <th>7431</th>\n",
       "      <td>rebit</td>\n",
       "      <td>0</td>\n",
       "    </tr>\n",
       "    <tr>\n",
       "      <th>7438</th>\n",
       "      <td>recit</td>\n",
       "      <td>0</td>\n",
       "    </tr>\n",
       "    <tr>\n",
       "      <th>7469</th>\n",
       "      <td>reest</td>\n",
       "      <td>0</td>\n",
       "    </tr>\n",
       "    <tr>\n",
       "      <th>7494</th>\n",
       "      <td>reist</td>\n",
       "      <td>0</td>\n",
       "    </tr>\n",
       "    <tr>\n",
       "      <th>7501</th>\n",
       "      <td>relet</td>\n",
       "      <td>0</td>\n",
       "    </tr>\n",
       "    <tr>\n",
       "      <th>7503</th>\n",
       "      <td>relit</td>\n",
       "      <td>0</td>\n",
       "    </tr>\n",
       "    <tr>\n",
       "      <th>7508</th>\n",
       "      <td>remet</td>\n",
       "      <td>0</td>\n",
       "    </tr>\n",
       "    <tr>\n",
       "      <th>7539</th>\n",
       "      <td>resit</td>\n",
       "      <td>0</td>\n",
       "    </tr>\n",
       "    <tr>\n",
       "      <th>7548</th>\n",
       "      <td>retem</td>\n",
       "      <td>0</td>\n",
       "    </tr>\n",
       "    <tr>\n",
       "      <th>7552</th>\n",
       "      <td>revet</td>\n",
       "      <td>0</td>\n",
       "    </tr>\n",
       "    <tr>\n",
       "      <th>7557</th>\n",
       "      <td>rewet</td>\n",
       "      <td>0</td>\n",
       "    </tr>\n",
       "    <tr>\n",
       "      <th>7627</th>\n",
       "      <td>rites</td>\n",
       "      <td>0</td>\n",
       "    </tr>\n",
       "    <tr>\n",
       "      <th>10658</th>\n",
       "      <td>rebut</td>\n",
       "      <td>1</td>\n",
       "    </tr>\n",
       "    <tr>\n",
       "      <th>10815</th>\n",
       "      <td>retch</td>\n",
       "      <td>1</td>\n",
       "    </tr>\n",
       "    <tr>\n",
       "      <th>11223</th>\n",
       "      <td>recut</td>\n",
       "      <td>1</td>\n",
       "    </tr>\n",
       "    <tr>\n",
       "      <th>11237</th>\n",
       "      <td>rivet</td>\n",
       "      <td>1</td>\n",
       "    </tr>\n",
       "    <tr>\n",
       "      <th>11344</th>\n",
       "      <td>reset</td>\n",
       "      <td>1</td>\n",
       "    </tr>\n",
       "    <tr>\n",
       "      <th>11939</th>\n",
       "      <td>remit</td>\n",
       "      <td>1</td>\n",
       "    </tr>\n",
       "    <tr>\n",
       "      <th>12099</th>\n",
       "      <td>retry</td>\n",
       "      <td>1</td>\n",
       "    </tr>\n",
       "    <tr>\n",
       "      <th>12964</th>\n",
       "      <td>refit</td>\n",
       "      <td>1</td>\n",
       "    </tr>\n",
       "  </tbody>\n",
       "</table>\n",
       "</div>"
      ],
      "text/plain": [
       "        word  is_answer\n",
       "7431   rebit          0\n",
       "7438   recit          0\n",
       "7469   reest          0\n",
       "7494   reist          0\n",
       "7501   relet          0\n",
       "7503   relit          0\n",
       "7508   remet          0\n",
       "7539   resit          0\n",
       "7548   retem          0\n",
       "7552   revet          0\n",
       "7557   rewet          0\n",
       "7627   rites          0\n",
       "10658  rebut          1\n",
       "10815  retch          1\n",
       "11223  recut          1\n",
       "11237  rivet          1\n",
       "11344  reset          1\n",
       "11939  remit          1\n",
       "12099  retry          1\n",
       "12964  refit          1"
      ]
     },
     "execution_count": 695,
     "metadata": {},
     "output_type": "execute_result"
    }
   ],
   "source": [
    "t1"
   ]
  },
  {
   "cell_type": "code",
   "execution_count": 771,
   "id": "99358ae9-acd3-4a90-9652-682d502bff2c",
   "metadata": {},
   "outputs": [],
   "source": [
    "def filter_wordset(input_word, feedback, wordset):\n",
    "    newset = wordset.copy()\n",
    "    for i in range(5):\n",
    "        print(f'Letter: {input_word[i]} - Result: ', end='', flush=True)\n",
    "        if feedback[i] == 'G':\n",
    "            print('Green')\n",
    "            newset = newset.loc[newset.word.str[i] == input_word[i]]\n",
    "        elif feedback[i] == 'Y':\n",
    "            print('Yellow')\n",
    "            x1 = newset.copy()\n",
    "            x1['y1'] = x1.word.str.contains(input_word[i])\n",
    "            x1['y2'] = x1.word.apply(lambda x: x[i] != input_word[i])\n",
    "            print(x1.loc[x1.word.eq('rebec')])\n",
    "            # newset = newset.loc[newset.word.str.contains(input_word[i])]\n",
    "            newset = newset.loc[newset.word.str.contains(input_word[i]) & newset.word.apply(lambda x: x[i] != input_word[i])]\n",
    "        else:\n",
    "            print('Grey')\n",
    "            newset = newset.loc[~newset.word.str.contains(input_word[i])]\n",
    "        print(f'Rebec: {newset.word.str.contains(\"rebec\").sum()}')\n",
    "    return newset"
   ]
  },
  {
   "cell_type": "code",
   "execution_count": 699,
   "id": "015420db-c0af-4d10-9c58-25b13f997975",
   "metadata": {},
   "outputs": [
    {
     "data": {
      "text/plain": [
       "word         rebut\n",
       "is_answer        1\n",
       "Name: 10658, dtype: object"
      ]
     },
     "execution_count": 699,
     "metadata": {},
     "output_type": "execute_result"
    }
   ],
   "source": [
    "wordle.loc[10658]"
   ]
  },
  {
   "cell_type": "code",
   "execution_count": 615,
   "id": "d8ab0a33-632b-4756-b1f2-797b6b9a91a6",
   "metadata": {},
   "outputs": [],
   "source": []
  },
  {
   "cell_type": "code",
   "execution_count": 616,
   "id": "603480e6-97bd-4fd5-a622-734228cce9fa",
   "metadata": {},
   "outputs": [
    {
     "data": {
      "text/plain": [
       "count    12972.000000\n",
       "mean      1530.202128\n",
       "std       1221.969436\n",
       "min          1.000000\n",
       "25%        544.000000\n",
       "50%       1218.000000\n",
       "75%       2055.000000\n",
       "max       7666.000000\n",
       "dtype: float64"
      ]
     },
     "execution_count": 616,
     "metadata": {},
     "output_type": "execute_result"
    }
   ],
   "source": [
    "pd.Series(t1).describe()"
   ]
  },
  {
   "cell_type": "code",
   "execution_count": 647,
   "id": "887af39c-c4ef-4575-9fab-7b33ee8c28e8",
   "metadata": {},
   "outputs": [
    {
     "data": {
      "text/html": [
       "<div>\n",
       "<style scoped>\n",
       "    .dataframe tbody tr th:only-of-type {\n",
       "        vertical-align: middle;\n",
       "    }\n",
       "\n",
       "    .dataframe tbody tr th {\n",
       "        vertical-align: top;\n",
       "    }\n",
       "\n",
       "    .dataframe thead th {\n",
       "        text-align: right;\n",
       "    }\n",
       "</style>\n",
       "<table border=\"1\" class=\"dataframe\">\n",
       "  <thead>\n",
       "    <tr style=\"text-align: right;\">\n",
       "      <th></th>\n",
       "      <th>word</th>\n",
       "      <th>is_answer</th>\n",
       "    </tr>\n",
       "  </thead>\n",
       "  <tbody>\n",
       "    <tr>\n",
       "      <th>10658</th>\n",
       "      <td>rebut</td>\n",
       "      <td>1</td>\n",
       "    </tr>\n",
       "  </tbody>\n",
       "</table>\n",
       "</div>"
      ],
      "text/plain": [
       "        word  is_answer\n",
       "10658  rebut          1"
      ]
     },
     "execution_count": 647,
     "metadata": {},
     "output_type": "execute_result"
    }
   ],
   "source": [
    "wordle.loc[wordle.word.eq('rebut')]"
   ]
  },
  {
   "cell_type": "code",
   "execution_count": 509,
   "id": "b3a42cd0-c564-4ad9-981c-3d5b5db265c0",
   "metadata": {},
   "outputs": [
    {
     "data": {
      "text/html": [
       "<div>\n",
       "<style scoped>\n",
       "    .dataframe tbody tr th:only-of-type {\n",
       "        vertical-align: middle;\n",
       "    }\n",
       "\n",
       "    .dataframe tbody tr th {\n",
       "        vertical-align: top;\n",
       "    }\n",
       "\n",
       "    .dataframe thead th {\n",
       "        text-align: right;\n",
       "    }\n",
       "</style>\n",
       "<table border=\"1\" class=\"dataframe\">\n",
       "  <thead>\n",
       "    <tr style=\"text-align: right;\">\n",
       "      <th></th>\n",
       "      <th>word</th>\n",
       "      <th>is_answer</th>\n",
       "    </tr>\n",
       "  </thead>\n",
       "  <tbody>\n",
       "    <tr>\n",
       "      <th>0</th>\n",
       "      <td>aahed</td>\n",
       "      <td>0</td>\n",
       "    </tr>\n",
       "    <tr>\n",
       "      <th>1</th>\n",
       "      <td>aalii</td>\n",
       "      <td>0</td>\n",
       "    </tr>\n",
       "    <tr>\n",
       "      <th>2</th>\n",
       "      <td>aargh</td>\n",
       "      <td>0</td>\n",
       "    </tr>\n",
       "    <tr>\n",
       "      <th>3</th>\n",
       "      <td>aarti</td>\n",
       "      <td>0</td>\n",
       "    </tr>\n",
       "    <tr>\n",
       "      <th>4</th>\n",
       "      <td>abaca</td>\n",
       "      <td>0</td>\n",
       "    </tr>\n",
       "  </tbody>\n",
       "</table>\n",
       "</div>"
      ],
      "text/plain": [
       "    word  is_answer\n",
       "0  aahed          0\n",
       "1  aalii          0\n",
       "2  aargh          0\n",
       "3  aarti          0\n",
       "4  abaca          0"
      ]
     },
     "execution_count": 509,
     "metadata": {},
     "output_type": "execute_result"
    }
   ],
   "source": [
    "wordle.head()"
   ]
  },
  {
   "cell_type": "code",
   "execution_count": 518,
   "id": "a05bdba7-2112-41ef-9747-c95de24ff791",
   "metadata": {},
   "outputs": [
    {
     "data": {
      "text/plain": [
       "array([[ True,  True,  True,  True,  True],\n",
       "       [ True,  True,  True,  True,  True],\n",
       "       [ True,  True,  True,  True,  True],\n",
       "       [ True,  True,  True,  True,  True],\n",
       "       [ True,  True,  True,  True,  True],\n",
       "       [ True,  True,  True,  True,  True],\n",
       "       [ True,  True,  True,  True,  True],\n",
       "       [ True,  True,  True,  True,  True],\n",
       "       [ True,  True,  True,  True,  True],\n",
       "       [ True,  True,  True,  True,  True],\n",
       "       [ True,  True,  True,  True,  True],\n",
       "       [ True,  True,  True,  True,  True],\n",
       "       [ True,  True,  True,  True,  True],\n",
       "       [ True,  True,  True,  True,  True],\n",
       "       [ True,  True,  True,  True,  True],\n",
       "       [ True,  True,  True,  True,  True],\n",
       "       [ True,  True,  True,  True,  True],\n",
       "       [ True,  True,  True,  True,  True],\n",
       "       [ True,  True,  True,  True,  True],\n",
       "       [ True,  True,  True,  True,  True],\n",
       "       [ True,  True,  True,  True,  True],\n",
       "       [ True,  True,  True,  True,  True],\n",
       "       [ True,  True,  True,  True,  True],\n",
       "       [ True,  True,  True,  True,  True],\n",
       "       [ True,  True,  True,  True,  True],\n",
       "       [ True,  True,  True,  True,  True]])"
      ]
     },
     "execution_count": 518,
     "metadata": {},
     "output_type": "execute_result"
    }
   ],
   "source": [
    "(filter_mask[7654] * solutions)[7654] == solutions[7654]"
   ]
  },
  {
   "cell_type": "code",
   "execution_count": null,
   "id": "62b8e34f-cbaf-4af8-81de-18a2b9e7da9d",
   "metadata": {},
   "outputs": [],
   "source": []
  }
 ],
 "metadata": {
  "kernelspec": {
   "display_name": "datascience",
   "language": "python",
   "name": "datascience"
  },
  "language_info": {
   "codemirror_mode": {
    "name": "ipython",
    "version": 3
   },
   "file_extension": ".py",
   "mimetype": "text/x-python",
   "name": "python",
   "nbconvert_exporter": "python",
   "pygments_lexer": "ipython3",
   "version": "3.9.7"
  }
 },
 "nbformat": 4,
 "nbformat_minor": 5
}
