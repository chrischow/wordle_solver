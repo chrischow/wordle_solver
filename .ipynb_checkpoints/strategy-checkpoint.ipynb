{
 "cells": [
  {
   "cell_type": "markdown",
   "id": "6c54845e-2dfd-4255-b0db-8ccb22cb568b",
   "metadata": {},
   "source": [
    "# Strategy"
   ]
  },
  {
   "cell_type": "code",
   "execution_count": 1,
   "id": "951b96cb-1a52-48e0-9a77-ae5034df6a75",
   "metadata": {},
   "outputs": [],
   "source": [
    "import matplotlib.pyplot as plt\n",
    "import numpy as np\n",
    "import pandas as pd"
   ]
  },
  {
   "cell_type": "markdown",
   "id": "415a794c-cab8-4ad1-953a-ec25d86e6851",
   "metadata": {},
   "source": [
    "## Load Words"
   ]
  },
  {
   "cell_type": "code",
   "execution_count": 2,
   "id": "a97a41bb-f798-4575-908e-f177f5906955",
   "metadata": {},
   "outputs": [],
   "source": [
    "words_12k = pd.read_csv('words_12k.csv')\n",
    "words_5k = pd.read_csv('words_5k.csv')"
   ]
  },
  {
   "cell_type": "markdown",
   "id": "6a72d659-6b07-4113-ba78-e4378c87d339",
   "metadata": {},
   "source": [
    "## Game Logic"
   ]
  },
  {
   "cell_type": "code",
   "execution_count": 3,
   "id": "a9174aa9-b193-4579-b060-73a7824bd682",
   "metadata": {},
   "outputs": [],
   "source": [
    "def wordle(input_word, solution):\n",
    "    output = ''\n",
    "    for i in range(5):\n",
    "        if input_word[i] == solution[i]:\n",
    "            output += 'G'\n",
    "        elif input_word[i] in solution:\n",
    "            output += 'Y'\n",
    "        else:\n",
    "            output += 'X'\n",
    "    return output"
   ]
  },
  {
   "cell_type": "code",
   "execution_count": 4,
   "id": "a743f8a6-e7dd-48cd-8831-e2ada8812b16",
   "metadata": {},
   "outputs": [],
   "source": [
    "def filter_wordset(input_word, feedback, wordset):\n",
    "    newset = wordset.copy()\n",
    "    for i in range(5):\n",
    "        if feedback[i] == 'G':\n",
    "            newset = newset.loc[newset.word.str[i] == input_word[i]]\n",
    "        elif feedback[i] == 'Y':\n",
    "            # newset = newset.loc[newset.word.str.contains(input_word[i])]\n",
    "            newset = newset.loc[newset.word.str.contains(input_word[i]) & newset.word.apply(lambda x: x[i] != input_word[i])]\n",
    "        else:\n",
    "            newset = newset.loc[~newset.word.str.contains(input_word[i])]\n",
    "    return newset"
   ]
  },
  {
   "cell_type": "code",
   "execution_count": 5,
   "id": "3715f164-fc21-4fc1-8c3a-3ec9dd10e915",
   "metadata": {},
   "outputs": [],
   "source": [
    "def compute_letter_distribution(wordset):\n",
    "    w = wordset.copy()\n",
    "    for letter in list('abcdefghijklmnopqrstuvwxyz'):\n",
    "        w[letter] = w.word.str.contains(letter).astype(int)\n",
    "    return w.iloc[:, 1:]"
   ]
  },
  {
   "cell_type": "code",
   "execution_count": 6,
   "id": "c39946f8-ee07-4099-aba2-0d165bffd5d1",
   "metadata": {},
   "outputs": [],
   "source": [
    "def compute_score(x, freqs):\n",
    "    letters = set(x)\n",
    "    output = 0\n",
    "    for letter in letters:\n",
    "        output += freqs[letter]\n",
    "    return output"
   ]
  },
  {
   "cell_type": "markdown",
   "id": "95b88bf4-9e0f-4c3f-8aab-bfc8041006ab",
   "metadata": {},
   "source": [
    "## Pre-compute"
   ]
  },
  {
   "cell_type": "markdown",
   "id": "c02eacbf-aa53-4c52-91fd-19a9a33faeda",
   "metadata": {},
   "source": [
    "### Letter Distribution"
   ]
  },
  {
   "cell_type": "code",
   "execution_count": 7,
   "id": "2c845bea-7003-4f98-a7dd-0f7e096ae95e",
   "metadata": {},
   "outputs": [],
   "source": [
    "global_freqs = compute_letter_distribution(words_12k).sum().to_dict()"
   ]
  },
  {
   "cell_type": "code",
   "execution_count": 34,
   "id": "1bbd0260-5c23-4590-beea-74fe59e8747e",
   "metadata": {},
   "outputs": [
    {
     "data": {
      "image/png": "[encoded data removed]",
      "text/plain": [
       "<Figure size 432x288 with 1 Axes>"
      ]
     },
     "metadata": {
      "needs_background": "light"
     },
     "output_type": "display_data"
    }
   ],
   "source": [
    "compute_letter_distribution(words_12k).sum().sort_values(ascending=False).plot.bar()\n",
    "plt.xticks(rotation=0)\n",
    "plt.show()"
   ]
  },
  {
   "cell_type": "code",
   "execution_count": 8,
   "id": "825d78bb-c366-43a3-a33b-550554e7bd5b",
   "metadata": {},
   "outputs": [],
   "source": [
    "global_scores = words_12k.word.apply(compute_score, freqs=global_freqs)\n",
    "global_scores = pd.DataFrame({'word': words_12k.word, 'score': global_scores}).sort_values('score', ascending=False)"
   ]
  },
  {
   "cell_type": "code",
   "execution_count": 9,
   "id": "557e85be-ad68-40f2-b2c9-822a78f24957",
   "metadata": {},
   "outputs": [
    {
     "data": {
      "text/html": [
       "<div>\n",
       "<style scoped>\n",
       "    .dataframe tbody tr th:only-of-type {\n",
       "        vertical-align: middle;\n",
       "    }\n",
       "\n",
       "    .dataframe tbody tr th {\n",
       "        vertical-align: top;\n",
       "    }\n",
       "\n",
       "    .dataframe thead th {\n",
       "        text-align: right;\n",
       "    }\n",
       "</style>\n",
       "<table border=\"1\" class=\"dataframe\">\n",
       "  <thead>\n",
       "    <tr style=\"text-align: right;\">\n",
       "      <th></th>\n",
       "      <th>word</th>\n",
       "      <th>score</th>\n",
       "    </tr>\n",
       "  </thead>\n",
       "  <tbody>\n",
       "    <tr>\n",
       "      <th>136</th>\n",
       "      <td>aeros</td>\n",
       "      <td>23886</td>\n",
       "    </tr>\n",
       "    <tr>\n",
       "      <th>534</th>\n",
       "      <td>arose</td>\n",
       "      <td>23886</td>\n",
       "    </tr>\n",
       "    <tr>\n",
       "      <th>9966</th>\n",
       "      <td>soare</td>\n",
       "      <td>23886</td>\n",
       "    </tr>\n",
       "    <tr>\n",
       "      <th>8501</th>\n",
       "      <td>raise</td>\n",
       "      <td>23580</td>\n",
       "    </tr>\n",
       "    <tr>\n",
       "      <th>9415</th>\n",
       "      <td>serai</td>\n",
       "      <td>23580</td>\n",
       "    </tr>\n",
       "    <tr>\n",
       "      <th>518</th>\n",
       "      <td>arise</td>\n",
       "      <td>23580</td>\n",
       "    </tr>\n",
       "    <tr>\n",
       "      <th>137</th>\n",
       "      <td>aesir</td>\n",
       "      <td>23580</td>\n",
       "    </tr>\n",
       "    <tr>\n",
       "      <th>5853</th>\n",
       "      <td>laser</td>\n",
       "      <td>23159</td>\n",
       "    </tr>\n",
       "    <tr>\n",
       "      <th>5917</th>\n",
       "      <td>lears</td>\n",
       "      <td>23159</td>\n",
       "    </tr>\n",
       "    <tr>\n",
       "      <th>3131</th>\n",
       "      <td>earls</td>\n",
       "      <td>23159</td>\n",
       "    </tr>\n",
       "    <tr>\n",
       "      <th>522</th>\n",
       "      <td>arles</td>\n",
       "      <td>23159</td>\n",
       "    </tr>\n",
       "    <tr>\n",
       "      <th>8513</th>\n",
       "      <td>rales</td>\n",
       "      <td>23159</td>\n",
       "    </tr>\n",
       "    <tr>\n",
       "      <th>9416</th>\n",
       "      <td>seral</td>\n",
       "      <td>23159</td>\n",
       "    </tr>\n",
       "    <tr>\n",
       "      <th>8608</th>\n",
       "      <td>reals</td>\n",
       "      <td>23159</td>\n",
       "    </tr>\n",
       "    <tr>\n",
       "      <th>5791</th>\n",
       "      <td>laers</td>\n",
       "      <td>23159</td>\n",
       "    </tr>\n",
       "    <tr>\n",
       "      <th>5843</th>\n",
       "      <td>lares</td>\n",
       "      <td>23159</td>\n",
       "    </tr>\n",
       "    <tr>\n",
       "      <th>307</th>\n",
       "      <td>aloes</td>\n",
       "      <td>23114</td>\n",
       "    </tr>\n",
       "    <tr>\n",
       "      <th>8565</th>\n",
       "      <td>rates</td>\n",
       "      <td>23093</td>\n",
       "    </tr>\n",
       "    <tr>\n",
       "      <th>10822</th>\n",
       "      <td>teras</td>\n",
       "      <td>23093</td>\n",
       "    </tr>\n",
       "    <tr>\n",
       "      <th>501</th>\n",
       "      <td>arets</td>\n",
       "      <td>23093</td>\n",
       "    </tr>\n",
       "    <tr>\n",
       "      <th>10380</th>\n",
       "      <td>strae</td>\n",
       "      <td>23093</td>\n",
       "    </tr>\n",
       "    <tr>\n",
       "      <th>8743</th>\n",
       "      <td>resat</td>\n",
       "      <td>23093</td>\n",
       "    </tr>\n",
       "    <tr>\n",
       "      <th>10757</th>\n",
       "      <td>tears</td>\n",
       "      <td>23093</td>\n",
       "    </tr>\n",
       "    <tr>\n",
       "      <th>584</th>\n",
       "      <td>aster</td>\n",
       "      <td>23093</td>\n",
       "    </tr>\n",
       "    <tr>\n",
       "      <th>10283</th>\n",
       "      <td>stear</td>\n",
       "      <td>23093</td>\n",
       "    </tr>\n",
       "    <tr>\n",
       "      <th>8616</th>\n",
       "      <td>reast</td>\n",
       "      <td>23093</td>\n",
       "    </tr>\n",
       "    <tr>\n",
       "      <th>10708</th>\n",
       "      <td>taser</td>\n",
       "      <td>23093</td>\n",
       "    </tr>\n",
       "    <tr>\n",
       "      <th>3134</th>\n",
       "      <td>earst</td>\n",
       "      <td>23093</td>\n",
       "    </tr>\n",
       "    <tr>\n",
       "      <th>10694</th>\n",
       "      <td>tares</td>\n",
       "      <td>23093</td>\n",
       "    </tr>\n",
       "    <tr>\n",
       "      <th>10265</th>\n",
       "      <td>stare</td>\n",
       "      <td>23093</td>\n",
       "    </tr>\n",
       "    <tr>\n",
       "      <th>10335</th>\n",
       "      <td>stoae</td>\n",
       "      <td>23048</td>\n",
       "    </tr>\n",
       "    <tr>\n",
       "      <th>11012</th>\n",
       "      <td>toeas</td>\n",
       "      <td>23048</td>\n",
       "    </tr>\n",
       "    <tr>\n",
       "      <th>9908</th>\n",
       "      <td>snare</td>\n",
       "      <td>22837</td>\n",
       "    </tr>\n",
       "    <tr>\n",
       "      <th>8612</th>\n",
       "      <td>reans</td>\n",
       "      <td>22837</td>\n",
       "    </tr>\n",
       "    <tr>\n",
       "      <th>7073</th>\n",
       "      <td>nears</td>\n",
       "      <td>22837</td>\n",
       "    </tr>\n",
       "    <tr>\n",
       "      <th>9160</th>\n",
       "      <td>saner</td>\n",
       "      <td>22837</td>\n",
       "    </tr>\n",
       "    <tr>\n",
       "      <th>3133</th>\n",
       "      <td>earns</td>\n",
       "      <td>22837</td>\n",
       "    </tr>\n",
       "    <tr>\n",
       "      <th>7044</th>\n",
       "      <td>nares</td>\n",
       "      <td>22837</td>\n",
       "    </tr>\n",
       "    <tr>\n",
       "      <th>223</th>\n",
       "      <td>aisle</td>\n",
       "      <td>22808</td>\n",
       "    </tr>\n",
       "    <tr>\n",
       "      <th>134</th>\n",
       "      <td>aeons</td>\n",
       "      <td>22792</td>\n",
       "    </tr>\n",
       "    <tr>\n",
       "      <th>9109</th>\n",
       "      <td>saine</td>\n",
       "      <td>22486</td>\n",
       "    </tr>\n",
       "    <tr>\n",
       "      <th>403</th>\n",
       "      <td>anise</td>\n",
       "      <td>22486</td>\n",
       "    </tr>\n",
       "    <tr>\n",
       "      <th>5213</th>\n",
       "      <td>isnae</td>\n",
       "      <td>22486</td>\n",
       "    </tr>\n",
       "    <tr>\n",
       "      <th>632</th>\n",
       "      <td>aures</td>\n",
       "      <td>22470</td>\n",
       "    </tr>\n",
       "    <tr>\n",
       "      <th>11521</th>\n",
       "      <td>ureas</td>\n",
       "      <td>22470</td>\n",
       "    </tr>\n",
       "    <tr>\n",
       "      <th>11515</th>\n",
       "      <td>urase</td>\n",
       "      <td>22470</td>\n",
       "    </tr>\n",
       "    <tr>\n",
       "      <th>11536</th>\n",
       "      <td>ursae</td>\n",
       "      <td>22470</td>\n",
       "    </tr>\n",
       "    <tr>\n",
       "      <th>2569</th>\n",
       "      <td>dears</td>\n",
       "      <td>22356</td>\n",
       "    </tr>\n",
       "    <tr>\n",
       "      <th>2519</th>\n",
       "      <td>dares</td>\n",
       "      <td>22356</td>\n",
       "    </tr>\n",
       "    <tr>\n",
       "      <th>8603</th>\n",
       "      <td>reads</td>\n",
       "      <td>22356</td>\n",
       "    </tr>\n",
       "  </tbody>\n",
       "</table>\n",
       "</div>"
      ],
      "text/plain": [
       "        word  score\n",
       "136    aeros  23886\n",
       "534    arose  23886\n",
       "9966   soare  23886\n",
       "8501   raise  23580\n",
       "9415   serai  23580\n",
       "518    arise  23580\n",
       "137    aesir  23580\n",
       "5853   laser  23159\n",
       "5917   lears  23159\n",
       "3131   earls  23159\n",
       "522    arles  23159\n",
       "8513   rales  23159\n",
       "9416   seral  23159\n",
       "8608   reals  23159\n",
       "5791   laers  23159\n",
       "5843   lares  23159\n",
       "307    aloes  23114\n",
       "8565   rates  23093\n",
       "10822  teras  23093\n",
       "501    arets  23093\n",
       "10380  strae  23093\n",
       "8743   resat  23093\n",
       "10757  tears  23093\n",
       "584    aster  23093\n",
       "10283  stear  23093\n",
       "8616   reast  23093\n",
       "10708  taser  23093\n",
       "3134   earst  23093\n",
       "10694  tares  23093\n",
       "10265  stare  23093\n",
       "10335  stoae  23048\n",
       "11012  toeas  23048\n",
       "9908   snare  22837\n",
       "8612   reans  22837\n",
       "7073   nears  22837\n",
       "9160   saner  22837\n",
       "3133   earns  22837\n",
       "7044   nares  22837\n",
       "223    aisle  22808\n",
       "134    aeons  22792\n",
       "9109   saine  22486\n",
       "403    anise  22486\n",
       "5213   isnae  22486\n",
       "632    aures  22470\n",
       "11521  ureas  22470\n",
       "11515  urase  22470\n",
       "11536  ursae  22470\n",
       "2569   dears  22356\n",
       "2519   dares  22356\n",
       "8603   reads  22356"
      ]
     },
     "execution_count": 9,
     "metadata": {},
     "output_type": "execute_result"
    }
   ],
   "source": [
    "global_scores.head(50)"
   ]
  },
  {
   "cell_type": "markdown",
   "id": "ad8cb420-e782-4ff6-b33c-2d8287b0271c",
   "metadata": {},
   "source": [
    "### Positional Letter Distribution"
   ]
  },
  {
   "cell_type": "code",
   "execution_count": 97,
   "id": "efae485e-2b0b-4582-b3cb-07118962d220",
   "metadata": {},
   "outputs": [],
   "source": [
    "def compute_pos_score(letters, pos_scores):\n",
    "    output = 0\n",
    "    for i, letter in enumerate(letters):\n",
    "        output += pos_scores[i][letter]\n",
    "    return output"
   ]
  },
  {
   "cell_type": "code",
   "execution_count": 95,
   "id": "650b3279-08ed-45a4-8bf2-888072ec6d69",
   "metadata": {},
   "outputs": [],
   "source": [
    "pos_scores = {}\n",
    "pos_scores[0] = words_12k.word.str[0].value_counts().to_dict()\n",
    "pos_scores[1] = words_12k.word.str[1].value_counts().to_dict()\n",
    "pos_scores[2] = words_12k.word.str[2].value_counts().to_dict()\n",
    "pos_scores[3] = words_12k.word.str[3].value_counts().to_dict()\n",
    "pos_scores[4] = words_12k.word.str[4].value_counts().to_dict()\n",
    "\n",
    "global_fl_scores = words_12k.word.apply(compute_pos_score, pos_scores=pos_scores)\n",
    "global_fl_scores = pd.DataFrame({'word': words_12k.word, 'score': global_fl_scores}).sort_values('score', ascending=False)"
   ]
  },
  {
   "cell_type": "code",
   "execution_count": 96,
   "id": "8fafc6f8-31f3-450d-90c5-e6a614959c5b",
   "metadata": {},
   "outputs": [
    {
     "data": {
      "text/html": [
       "<div>\n",
       "<style scoped>\n",
       "    .dataframe tbody tr th:only-of-type {\n",
       "        vertical-align: middle;\n",
       "    }\n",
       "\n",
       "    .dataframe tbody tr th {\n",
       "        vertical-align: top;\n",
       "    }\n",
       "\n",
       "    .dataframe thead th {\n",
       "        text-align: right;\n",
       "    }\n",
       "</style>\n",
       "<table border=\"1\" class=\"dataframe\">\n",
       "  <thead>\n",
       "    <tr style=\"text-align: right;\">\n",
       "      <th></th>\n",
       "      <th>word</th>\n",
       "      <th>score</th>\n",
       "    </tr>\n",
       "  </thead>\n",
       "  <tbody>\n",
       "    <tr>\n",
       "      <th>10050</th>\n",
       "      <td>sores</td>\n",
       "      <td>10749</td>\n",
       "    </tr>\n",
       "    <tr>\n",
       "      <th>9161</th>\n",
       "      <td>sanes</td>\n",
       "      <td>10674</td>\n",
       "    </tr>\n",
       "    <tr>\n",
       "      <th>9124</th>\n",
       "      <td>sales</td>\n",
       "      <td>10561</td>\n",
       "    </tr>\n",
       "    <tr>\n",
       "      <th>10016</th>\n",
       "      <td>sones</td>\n",
       "      <td>10524</td>\n",
       "    </tr>\n",
       "    <tr>\n",
       "      <th>10004</th>\n",
       "      <td>soles</td>\n",
       "      <td>10411</td>\n",
       "    </tr>\n",
       "    <tr>\n",
       "      <th>9195</th>\n",
       "      <td>sates</td>\n",
       "      <td>10340</td>\n",
       "    </tr>\n",
       "    <tr>\n",
       "      <th>9419</th>\n",
       "      <td>seres</td>\n",
       "      <td>10313</td>\n",
       "    </tr>\n",
       "    <tr>\n",
       "      <th>1695</th>\n",
       "      <td>cares</td>\n",
       "      <td>10266</td>\n",
       "    </tr>\n",
       "    <tr>\n",
       "      <th>806</th>\n",
       "      <td>bares</td>\n",
       "      <td>10249</td>\n",
       "    </tr>\n",
       "    <tr>\n",
       "      <th>9151</th>\n",
       "      <td>sames</td>\n",
       "      <td>10238</td>\n",
       "    </tr>\n",
       "    <tr>\n",
       "      <th>7651</th>\n",
       "      <td>pares</td>\n",
       "      <td>10199</td>\n",
       "    </tr>\n",
       "    <tr>\n",
       "      <th>10694</th>\n",
       "      <td>tares</td>\n",
       "      <td>10165</td>\n",
       "    </tr>\n",
       "    <tr>\n",
       "      <th>2204</th>\n",
       "      <td>cores</td>\n",
       "      <td>10116</td>\n",
       "    </tr>\n",
       "    <tr>\n",
       "      <th>9084</th>\n",
       "      <td>sades</td>\n",
       "      <td>10114</td>\n",
       "    </tr>\n",
       "    <tr>\n",
       "      <th>1285</th>\n",
       "      <td>bores</td>\n",
       "      <td>10099</td>\n",
       "    </tr>\n",
       "    <tr>\n",
       "      <th>9096</th>\n",
       "      <td>sages</td>\n",
       "      <td>10092</td>\n",
       "    </tr>\n",
       "    <tr>\n",
       "      <th>9672</th>\n",
       "      <td>sires</td>\n",
       "      <td>10075</td>\n",
       "    </tr>\n",
       "    <tr>\n",
       "      <th>9074</th>\n",
       "      <td>sabes</td>\n",
       "      <td>10056</td>\n",
       "    </tr>\n",
       "    <tr>\n",
       "      <th>8109</th>\n",
       "      <td>pores</td>\n",
       "      <td>10049</td>\n",
       "    </tr>\n",
       "    <tr>\n",
       "      <th>6433</th>\n",
       "      <td>mares</td>\n",
       "      <td>10044</td>\n",
       "    </tr>\n",
       "    <tr>\n",
       "      <th>1660</th>\n",
       "      <td>canes</td>\n",
       "      <td>10041</td>\n",
       "    </tr>\n",
       "    <tr>\n",
       "      <th>2519</th>\n",
       "      <td>dares</td>\n",
       "      <td>10028</td>\n",
       "    </tr>\n",
       "    <tr>\n",
       "      <th>786</th>\n",
       "      <td>banes</td>\n",
       "      <td>10024</td>\n",
       "    </tr>\n",
       "    <tr>\n",
       "      <th>11088</th>\n",
       "      <td>tores</td>\n",
       "      <td>10015</td>\n",
       "    </tr>\n",
       "    <tr>\n",
       "      <th>9118</th>\n",
       "      <td>sakes</td>\n",
       "      <td>9994</td>\n",
       "    </tr>\n",
       "    <tr>\n",
       "      <th>8549</th>\n",
       "      <td>rares</td>\n",
       "      <td>9988</td>\n",
       "    </tr>\n",
       "    <tr>\n",
       "      <th>9383</th>\n",
       "      <td>seles</td>\n",
       "      <td>9975</td>\n",
       "    </tr>\n",
       "    <tr>\n",
       "      <th>7623</th>\n",
       "      <td>panes</td>\n",
       "      <td>9974</td>\n",
       "    </tr>\n",
       "    <tr>\n",
       "      <th>9213</th>\n",
       "      <td>saves</td>\n",
       "      <td>9967</td>\n",
       "    </tr>\n",
       "    <tr>\n",
       "      <th>3469</th>\n",
       "      <td>fares</td>\n",
       "      <td>9953</td>\n",
       "    </tr>\n",
       "    <tr>\n",
       "      <th>5843</th>\n",
       "      <td>lares</td>\n",
       "      <td>9929</td>\n",
       "    </tr>\n",
       "    <tr>\n",
       "      <th>764</th>\n",
       "      <td>bales</td>\n",
       "      <td>9911</td>\n",
       "    </tr>\n",
       "    <tr>\n",
       "      <th>9093</th>\n",
       "      <td>safes</td>\n",
       "      <td>9909</td>\n",
       "    </tr>\n",
       "    <tr>\n",
       "      <th>6815</th>\n",
       "      <td>mores</td>\n",
       "      <td>9894</td>\n",
       "    </tr>\n",
       "    <tr>\n",
       "      <th>2151</th>\n",
       "      <td>cones</td>\n",
       "      <td>9891</td>\n",
       "    </tr>\n",
       "    <tr>\n",
       "      <th>10477</th>\n",
       "      <td>sures</td>\n",
       "      <td>9878</td>\n",
       "    </tr>\n",
       "    <tr>\n",
       "      <th>9229</th>\n",
       "      <td>sazes</td>\n",
       "      <td>9877</td>\n",
       "    </tr>\n",
       "    <tr>\n",
       "      <th>1241</th>\n",
       "      <td>bones</td>\n",
       "      <td>9874</td>\n",
       "    </tr>\n",
       "    <tr>\n",
       "      <th>9222</th>\n",
       "      <td>saxes</td>\n",
       "      <td>9865</td>\n",
       "    </tr>\n",
       "    <tr>\n",
       "      <th>7604</th>\n",
       "      <td>pales</td>\n",
       "      <td>9861</td>\n",
       "    </tr>\n",
       "    <tr>\n",
       "      <th>4680</th>\n",
       "      <td>hares</td>\n",
       "      <td>9855</td>\n",
       "    </tr>\n",
       "    <tr>\n",
       "      <th>9658</th>\n",
       "      <td>sines</td>\n",
       "      <td>9850</td>\n",
       "    </tr>\n",
       "    <tr>\n",
       "      <th>9991</th>\n",
       "      <td>sokes</td>\n",
       "      <td>9844</td>\n",
       "    </tr>\n",
       "    <tr>\n",
       "      <th>8938</th>\n",
       "      <td>rores</td>\n",
       "      <td>9838</td>\n",
       "    </tr>\n",
       "    <tr>\n",
       "      <th>4375</th>\n",
       "      <td>gores</td>\n",
       "      <td>9836</td>\n",
       "    </tr>\n",
       "    <tr>\n",
       "      <th>10648</th>\n",
       "      <td>tales</td>\n",
       "      <td>9827</td>\n",
       "    </tr>\n",
       "    <tr>\n",
       "      <th>8073</th>\n",
       "      <td>pones</td>\n",
       "      <td>9824</td>\n",
       "    </tr>\n",
       "    <tr>\n",
       "      <th>6403</th>\n",
       "      <td>manes</td>\n",
       "      <td>9819</td>\n",
       "    </tr>\n",
       "    <tr>\n",
       "      <th>3817</th>\n",
       "      <td>fores</td>\n",
       "      <td>9803</td>\n",
       "    </tr>\n",
       "    <tr>\n",
       "      <th>11055</th>\n",
       "      <td>tones</td>\n",
       "      <td>9790</td>\n",
       "    </tr>\n",
       "  </tbody>\n",
       "</table>\n",
       "</div>"
      ],
      "text/plain": [
       "        word  score\n",
       "10050  sores  10749\n",
       "9161   sanes  10674\n",
       "9124   sales  10561\n",
       "10016  sones  10524\n",
       "10004  soles  10411\n",
       "9195   sates  10340\n",
       "9419   seres  10313\n",
       "1695   cares  10266\n",
       "806    bares  10249\n",
       "9151   sames  10238\n",
       "7651   pares  10199\n",
       "10694  tares  10165\n",
       "2204   cores  10116\n",
       "9084   sades  10114\n",
       "1285   bores  10099\n",
       "9096   sages  10092\n",
       "9672   sires  10075\n",
       "9074   sabes  10056\n",
       "8109   pores  10049\n",
       "6433   mares  10044\n",
       "1660   canes  10041\n",
       "2519   dares  10028\n",
       "786    banes  10024\n",
       "11088  tores  10015\n",
       "9118   sakes   9994\n",
       "8549   rares   9988\n",
       "9383   seles   9975\n",
       "7623   panes   9974\n",
       "9213   saves   9967\n",
       "3469   fares   9953\n",
       "5843   lares   9929\n",
       "764    bales   9911\n",
       "9093   safes   9909\n",
       "6815   mores   9894\n",
       "2151   cones   9891\n",
       "10477  sures   9878\n",
       "9229   sazes   9877\n",
       "1241   bones   9874\n",
       "9222   saxes   9865\n",
       "7604   pales   9861\n",
       "4680   hares   9855\n",
       "9658   sines   9850\n",
       "9991   sokes   9844\n",
       "8938   rores   9838\n",
       "4375   gores   9836\n",
       "10648  tales   9827\n",
       "8073   pones   9824\n",
       "6403   manes   9819\n",
       "3817   fores   9803\n",
       "11055  tones   9790"
      ]
     },
     "execution_count": 99,
     "metadata": {},
     "output_type": "execute_result"
    }
   ],
   "source": [
    "global_fl_scores.head(50)"
   ]
  },
  {
   "cell_type": "markdown",
   "id": "1b33926f-78c7-4809-b51f-f6400c4fda1d",
   "metadata": {},
   "source": [
    "### 2nd Positional Letter Distribution"
   ]
  },
  {
   "cell_type": "code",
   "execution_count": 120,
   "id": "231786de-5e21-40f4-9f8f-973c0526ca5a",
   "metadata": {},
   "outputs": [],
   "source": [
    "def find_second_pos(word):\n",
    "    letters = list(word)\n",
    "    candidates = global_fl_scores.loc[global_fl_scores.word.apply(lambda x: all([l not in letters for l in x]))]\n",
    "    candidates = candidates.loc[candidates.word.apply(lambda x: len(x) == len(set(x)))]\n",
    "    return candidates.head(20)"
   ]
  },
  {
   "cell_type": "code",
   "execution_count": 113,
   "id": "a76de8b3-c0ee-4d0b-b596-6eef92342533",
   "metadata": {},
   "outputs": [
    {
     "data": {
      "text/html": [
       "<div>\n",
       "<style scoped>\n",
       "    .dataframe tbody tr th:only-of-type {\n",
       "        vertical-align: middle;\n",
       "    }\n",
       "\n",
       "    .dataframe tbody tr th {\n",
       "        vertical-align: top;\n",
       "    }\n",
       "\n",
       "    .dataframe thead th {\n",
       "        text-align: right;\n",
       "    }\n",
       "</style>\n",
       "<table border=\"1\" class=\"dataframe\">\n",
       "  <thead>\n",
       "    <tr style=\"text-align: right;\">\n",
       "      <th></th>\n",
       "      <th>word</th>\n",
       "      <th>score</th>\n",
       "    </tr>\n",
       "  </thead>\n",
       "  <tbody>\n",
       "    <tr>\n",
       "      <th>6784</th>\n",
       "      <td>monty</td>\n",
       "      <td>5739</td>\n",
       "    </tr>\n",
       "    <tr>\n",
       "      <th>2827</th>\n",
       "      <td>doily</td>\n",
       "      <td>5686</td>\n",
       "    </tr>\n",
       "    <tr>\n",
       "      <th>2161</th>\n",
       "      <td>conky</td>\n",
       "      <td>5567</td>\n",
       "    </tr>\n",
       "    <tr>\n",
       "      <th>3802</th>\n",
       "      <td>fonly</td>\n",
       "      <td>5526</td>\n",
       "    </tr>\n",
       "    <tr>\n",
       "      <th>4392</th>\n",
       "      <td>gouty</td>\n",
       "      <td>5390</td>\n",
       "    </tr>\n",
       "    <tr>\n",
       "      <th>7209</th>\n",
       "      <td>noily</td>\n",
       "      <td>5353</td>\n",
       "    </tr>\n",
       "    <tr>\n",
       "      <th>5367</th>\n",
       "      <td>jonty</td>\n",
       "      <td>5264</td>\n",
       "    </tr>\n",
       "    <tr>\n",
       "      <th>6759</th>\n",
       "      <td>moldy</td>\n",
       "      <td>5199</td>\n",
       "    </tr>\n",
       "    <tr>\n",
       "      <th>2111</th>\n",
       "      <td>colby</td>\n",
       "      <td>5197</td>\n",
       "    </tr>\n",
       "    <tr>\n",
       "      <th>4927</th>\n",
       "      <td>honky</td>\n",
       "      <td>5156</td>\n",
       "    </tr>\n",
       "  </tbody>\n",
       "</table>\n",
       "</div>"
      ],
      "text/plain": [
       "       word  score\n",
       "6784  monty   5739\n",
       "2827  doily   5686\n",
       "2161  conky   5567\n",
       "3802  fonly   5526\n",
       "4392  gouty   5390\n",
       "7209  noily   5353\n",
       "5367  jonty   5264\n",
       "6759  moldy   5199\n",
       "2111  colby   5197\n",
       "4927  honky   5156"
      ]
     },
     "execution_count": 113,
     "metadata": {},
     "output_type": "execute_result"
    }
   ],
   "source": [
    "find_second_pos('pares')"
   ]
  },
  {
   "cell_type": "markdown",
   "id": "de70e900-bd1d-4ce4-ab5b-1669d88b0577",
   "metadata": {},
   "source": [
    "## Single-word Strategy"
   ]
  },
  {
   "cell_type": "code",
   "execution_count": 54,
   "id": "97a164d3-4b48-4103-95b7-5f67bf300c52",
   "metadata": {},
   "outputs": [],
   "source": [
    "def sim_wordle_single(input_word, solution):\n",
    "    feedback = ''\n",
    "    wordset = words_5k.copy()\n",
    "    tested_words = []\n",
    "    n_iter = 1\n",
    "\n",
    "    while feedback != 'GGGGG':\n",
    "\n",
    "        # Check solution\n",
    "        feedback = wordle(input_word, solution)\n",
    "        tested_words.append(input_word)\n",
    "\n",
    "        # Filter wordset\n",
    "        wordset = filter_wordset(input_word, feedback, wordset)\n",
    "        wordset = wordset.loc[~wordset.word.isin(tested_words)]\n",
    "\n",
    "        # Compute letter distribution of updated wordset\n",
    "        wordset_letterdist = compute_letter_distribution(wordset)\n",
    "        freqs = wordset_letterdist.sum().to_dict()\n",
    "\n",
    "        # Obtain scores\n",
    "        scores = wordset.word.apply(compute_score, freqs=freqs)\n",
    "        scores = pd.DataFrame({'word': wordset.word, 'score': scores}).sort_values('score', ascending=False)\n",
    "\n",
    "        # Set new input word\n",
    "        if scores.shape[0] > 0:\n",
    "            input_word = scores.word.iloc[0]\n",
    "            n_iter += 1\n",
    "    return n_iter"
   ]
  },
  {
   "cell_type": "code",
   "execution_count": 66,
   "id": "85267b1e-9370-4e88-82c5-abcb50b96810",
   "metadata": {},
   "outputs": [],
   "source": [
    "def single_word_strategy(input_word):\n",
    "    results = Parallel(n_jobs=5, verbose=3)(delayed(sim_wordle_single)(input_word, s) for s in words_5k.word)\n",
    "    performance = pd.Series(results)\n",
    "    display(pd.DataFrame(performance.describe()).T)\n",
    "\n",
    "    performance.plot.hist()\n",
    "    plt.title(input_word)\n",
    "    plt.show()"
   ]
  },
  {
   "cell_type": "markdown",
   "id": "49e4e277-644b-428d-acdd-3d8793051580",
   "metadata": {},
   "source": [
    "### Letter Distribution"
   ]
  },
  {
   "cell_type": "code",
   "execution_count": 65,
   "id": "d5803737-b1ea-4df4-8b46-c1b3b6ce23d4",
   "metadata": {},
   "outputs": [
    {
     "data": {
      "text/plain": [
       "score\n",
       "23886    aeros\n",
       "23580    raise\n",
       "23159    laser\n",
       "23114    aloes\n",
       "23093    rates\n",
       "23048    stoae\n",
       "22837    snare\n",
       "22808    aisle\n",
       "22792    aeons\n",
       "22486    saine\n",
       "Name: word, dtype: object"
      ]
     },
     "execution_count": 65,
     "metadata": {},
     "output_type": "execute_result"
    }
   ],
   "source": [
    "top_singles = global_scores.groupby('score').first().sort_index(ascending=False).head(10).word\n",
    "top_singles"
   ]
  },
  {
   "cell_type": "code",
   "execution_count": 67,
   "id": "4ca86f6c-4859-406d-a46a-daa6b52cd5a7",
   "metadata": {},
   "outputs": [
    {
     "name": "stderr",
     "output_type": "stream",
     "text": [
      "[Parallel(n_jobs=5)]: Using backend LokyBackend with 5 concurrent workers.\n",
      "[Parallel(n_jobs=5)]: Done  22 tasks      | elapsed:    0.8s\n",
      "[Parallel(n_jobs=5)]: Done 362 tasks      | elapsed:    6.1s\n",
      "[Parallel(n_jobs=5)]: Done 1002 tasks      | elapsed:   16.5s\n",
      "[Parallel(n_jobs=5)]: Done 1898 tasks      | elapsed:   32.7s\n",
      "[Parallel(n_jobs=5)]: Done 3050 tasks      | elapsed:   54.6s\n",
      "[Parallel(n_jobs=5)]: Done 4458 tasks      | elapsed:  1.4min\n",
      "[Parallel(n_jobs=5)]: Done 5757 out of 5757 | elapsed:  1.8min finished\n"
     ]
    },
    {
     "data": {
      "text/html": [
       "<div>\n",
       "<style scoped>\n",
       "    .dataframe tbody tr th:only-of-type {\n",
       "        vertical-align: middle;\n",
       "    }\n",
       "\n",
       "    .dataframe tbody tr th {\n",
       "        vertical-align: top;\n",
       "    }\n",
       "\n",
       "    .dataframe thead th {\n",
       "        text-align: right;\n",
       "    }\n",
       "</style>\n",
       "<table border=\"1\" class=\"dataframe\">\n",
       "  <thead>\n",
       "    <tr style=\"text-align: right;\">\n",
       "      <th></th>\n",
       "      <th>count</th>\n",
       "      <th>mean</th>\n",
       "      <th>std</th>\n",
       "      <th>min</th>\n",
       "      <th>25%</th>\n",
       "      <th>50%</th>\n",
       "      <th>75%</th>\n",
       "      <th>max</th>\n",
       "    </tr>\n",
       "  </thead>\n",
       "  <tbody>\n",
       "    <tr>\n",
       "      <th>0</th>\n",
       "      <td>5757.0</td>\n",
       "      <td>4.340803</td>\n",
       "      <td>1.364658</td>\n",
       "      <td>2.0</td>\n",
       "      <td>3.0</td>\n",
       "      <td>4.0</td>\n",
       "      <td>5.0</td>\n",
       "      <td>12.0</td>\n",
       "    </tr>\n",
       "  </tbody>\n",
       "</table>\n",
       "</div>"
      ],
      "text/plain": [
       "    count      mean       std  min  25%  50%  75%   max\n",
       "0  5757.0  4.340803  1.364658  2.0  3.0  4.0  5.0  12.0"
      ]
     },
     "metadata": {},
     "output_type": "display_data"
    },
    {
     "data": {
      "image/png": "[encoded data removed]",
      "text/plain": [
       "<Figure size 432x288 with 1 Axes>"
      ]
     },
     "metadata": {
      "needs_background": "light"
     },
     "output_type": "display_data"
    },
    {
     "name": "stderr",
     "output_type": "stream",
     "text": [
      "[Parallel(n_jobs=5)]: Using backend LokyBackend with 5 concurrent workers.\n",
      "[Parallel(n_jobs=5)]: Done  38 tasks      | elapsed:    0.8s\n",
      "[Parallel(n_jobs=5)]: Done 422 tasks      | elapsed:    9.6s\n",
      "[Parallel(n_jobs=5)]: Done 1062 tasks      | elapsed:   27.6s\n",
      "[Parallel(n_jobs=5)]: Done 1958 tasks      | elapsed:   46.9s\n",
      "[Parallel(n_jobs=5)]: Done 3110 tasks      | elapsed:  1.2min\n",
      "[Parallel(n_jobs=5)]: Done 4518 tasks      | elapsed:  1.6min\n",
      "[Parallel(n_jobs=5)]: Done 5757 out of 5757 | elapsed:  2.0min finished\n"
     ]
    },
    {
     "data": {
      "text/html": [
       "<div>\n",
       "<style scoped>\n",
       "    .dataframe tbody tr th:only-of-type {\n",
       "        vertical-align: middle;\n",
       "    }\n",
       "\n",
       "    .dataframe tbody tr th {\n",
       "        vertical-align: top;\n",
       "    }\n",
       "\n",
       "    .dataframe thead th {\n",
       "        text-align: right;\n",
       "    }\n",
       "</style>\n",
       "<table border=\"1\" class=\"dataframe\">\n",
       "  <thead>\n",
       "    <tr style=\"text-align: right;\">\n",
       "      <th></th>\n",
       "      <th>count</th>\n",
       "      <th>mean</th>\n",
       "      <th>std</th>\n",
       "      <th>min</th>\n",
       "      <th>25%</th>\n",
       "      <th>50%</th>\n",
       "      <th>75%</th>\n",
       "      <th>max</th>\n",
       "    </tr>\n",
       "  </thead>\n",
       "  <tbody>\n",
       "    <tr>\n",
       "      <th>0</th>\n",
       "      <td>5757.0</td>\n",
       "      <td>4.329164</td>\n",
       "      <td>1.361081</td>\n",
       "      <td>1.0</td>\n",
       "      <td>3.0</td>\n",
       "      <td>4.0</td>\n",
       "      <td>5.0</td>\n",
       "      <td>12.0</td>\n",
       "    </tr>\n",
       "  </tbody>\n",
       "</table>\n",
       "</div>"
      ],
      "text/plain": [
       "    count      mean       std  min  25%  50%  75%   max\n",
       "0  5757.0  4.329164  1.361081  1.0  3.0  4.0  5.0  12.0"
      ]
     },
     "metadata": {},
     "output_type": "display_data"
    },
    {
     "data": {
      "image/png": "[encoded data removed]",
      "text/plain": [
       "<Figure size 432x288 with 1 Axes>"
      ]
     },
     "metadata": {
      "needs_background": "light"
     },
     "output_type": "display_data"
    },
    {
     "name": "stderr",
     "output_type": "stream",
     "text": [
      "[Parallel(n_jobs=5)]: Using backend LokyBackend with 5 concurrent workers.\n",
      "[Parallel(n_jobs=5)]: Done  34 tasks      | elapsed:    0.6s\n",
      "[Parallel(n_jobs=5)]: Done 226 tasks      | elapsed:    3.7s\n",
      "[Parallel(n_jobs=5)]: Done 546 tasks      | elapsed:    9.3s\n",
      "[Parallel(n_jobs=5)]: Done 994 tasks      | elapsed:   18.0s\n",
      "[Parallel(n_jobs=5)]: Done 1570 tasks      | elapsed:   28.1s\n",
      "[Parallel(n_jobs=5)]: Done 2274 tasks      | elapsed:   41.4s\n",
      "[Parallel(n_jobs=5)]: Done 3106 tasks      | elapsed:  1.1min\n",
      "[Parallel(n_jobs=5)]: Done 4066 tasks      | elapsed:  1.4min\n",
      "[Parallel(n_jobs=5)]: Done 5154 tasks      | elapsed:  1.8min\n",
      "[Parallel(n_jobs=5)]: Done 5748 out of 5757 | elapsed:  2.1min remaining:    0.2s\n",
      "[Parallel(n_jobs=5)]: Done 5757 out of 5757 | elapsed:  2.1min finished\n"
     ]
    },
    {
     "data": {
      "text/html": [
       "<div>\n",
       "<style scoped>\n",
       "    .dataframe tbody tr th:only-of-type {\n",
       "        vertical-align: middle;\n",
       "    }\n",
       "\n",
       "    .dataframe tbody tr th {\n",
       "        vertical-align: top;\n",
       "    }\n",
       "\n",
       "    .dataframe thead th {\n",
       "        text-align: right;\n",
       "    }\n",
       "</style>\n",
       "<table border=\"1\" class=\"dataframe\">\n",
       "  <thead>\n",
       "    <tr style=\"text-align: right;\">\n",
       "      <th></th>\n",
       "      <th>count</th>\n",
       "      <th>mean</th>\n",
       "      <th>std</th>\n",
       "      <th>min</th>\n",
       "      <th>25%</th>\n",
       "      <th>50%</th>\n",
       "      <th>75%</th>\n",
       "      <th>max</th>\n",
       "    </tr>\n",
       "  </thead>\n",
       "  <tbody>\n",
       "    <tr>\n",
       "      <th>0</th>\n",
       "      <td>5757.0</td>\n",
       "      <td>4.265416</td>\n",
       "      <td>1.272637</td>\n",
       "      <td>1.0</td>\n",
       "      <td>3.0</td>\n",
       "      <td>4.0</td>\n",
       "      <td>5.0</td>\n",
       "      <td>13.0</td>\n",
       "    </tr>\n",
       "  </tbody>\n",
       "</table>\n",
       "</div>"
      ],
      "text/plain": [
       "    count      mean       std  min  25%  50%  75%   max\n",
       "0  5757.0  4.265416  1.272637  1.0  3.0  4.0  5.0  13.0"
      ]
     },
     "metadata": {},
     "output_type": "display_data"
    },
    {
     "data": {
      "image/png": "[encoded data removed]",
      "text/plain": [
       "<Figure size 432x288 with 1 Axes>"
      ]
     },
     "metadata": {
      "needs_background": "light"
     },
     "output_type": "display_data"
    },
    {
     "name": "stderr",
     "output_type": "stream",
     "text": [
      "[Parallel(n_jobs=5)]: Using backend LokyBackend with 5 concurrent workers.\n",
      "[Parallel(n_jobs=5)]: Done  34 tasks      | elapsed:    1.4s\n",
      "[Parallel(n_jobs=5)]: Done 226 tasks      | elapsed:    6.4s\n",
      "[Parallel(n_jobs=5)]: Done 546 tasks      | elapsed:   16.0s\n",
      "[Parallel(n_jobs=5)]: Done 994 tasks      | elapsed:   28.3s\n",
      "[Parallel(n_jobs=5)]: Done 1570 tasks      | elapsed:   43.1s\n",
      "[Parallel(n_jobs=5)]: Done 2274 tasks      | elapsed:  1.0min\n",
      "[Parallel(n_jobs=5)]: Done 3106 tasks      | elapsed:  1.4min\n",
      "[Parallel(n_jobs=5)]: Done 4066 tasks      | elapsed:  1.8min\n",
      "[Parallel(n_jobs=5)]: Done 5154 tasks      | elapsed:  2.2min\n",
      "[Parallel(n_jobs=5)]: Done 5748 out of 5757 | elapsed:  2.5min remaining:    0.2s\n",
      "[Parallel(n_jobs=5)]: Done 5757 out of 5757 | elapsed:  2.5min finished\n"
     ]
    },
    {
     "data": {
      "text/html": [
       "<div>\n",
       "<style scoped>\n",
       "    .dataframe tbody tr th:only-of-type {\n",
       "        vertical-align: middle;\n",
       "    }\n",
       "\n",
       "    .dataframe tbody tr th {\n",
       "        vertical-align: top;\n",
       "    }\n",
       "\n",
       "    .dataframe thead th {\n",
       "        text-align: right;\n",
       "    }\n",
       "</style>\n",
       "<table border=\"1\" class=\"dataframe\">\n",
       "  <thead>\n",
       "    <tr style=\"text-align: right;\">\n",
       "      <th></th>\n",
       "      <th>count</th>\n",
       "      <th>mean</th>\n",
       "      <th>std</th>\n",
       "      <th>min</th>\n",
       "      <th>25%</th>\n",
       "      <th>50%</th>\n",
       "      <th>75%</th>\n",
       "      <th>max</th>\n",
       "    </tr>\n",
       "  </thead>\n",
       "  <tbody>\n",
       "    <tr>\n",
       "      <th>0</th>\n",
       "      <td>5757.0</td>\n",
       "      <td>4.326559</td>\n",
       "      <td>1.363812</td>\n",
       "      <td>1.0</td>\n",
       "      <td>3.0</td>\n",
       "      <td>4.0</td>\n",
       "      <td>5.0</td>\n",
       "      <td>13.0</td>\n",
       "    </tr>\n",
       "  </tbody>\n",
       "</table>\n",
       "</div>"
      ],
      "text/plain": [
       "    count      mean       std  min  25%  50%  75%   max\n",
       "0  5757.0  4.326559  1.363812  1.0  3.0  4.0  5.0  13.0"
      ]
     },
     "metadata": {},
     "output_type": "display_data"
    },
    {
     "data": {
      "image/png": "[encoded data removed]",
      "text/plain": [
       "<Figure size 432x288 with 1 Axes>"
      ]
     },
     "metadata": {
      "needs_background": "light"
     },
     "output_type": "display_data"
    },
    {
     "name": "stderr",
     "output_type": "stream",
     "text": [
      "[Parallel(n_jobs=5)]: Using backend LokyBackend with 5 concurrent workers.\n",
      "[Parallel(n_jobs=5)]: Done  34 tasks      | elapsed:    0.9s\n",
      "[Parallel(n_jobs=5)]: Done 226 tasks      | elapsed:    5.3s\n",
      "[Parallel(n_jobs=5)]: Done 546 tasks      | elapsed:   13.7s\n",
      "[Parallel(n_jobs=5)]: Done 994 tasks      | elapsed:   22.7s\n",
      "[Parallel(n_jobs=5)]: Done 1570 tasks      | elapsed:   37.9s\n",
      "[Parallel(n_jobs=5)]: Done 2274 tasks      | elapsed:   54.6s\n",
      "[Parallel(n_jobs=5)]: Done 3106 tasks      | elapsed:  1.2min\n",
      "[Parallel(n_jobs=5)]: Done 4066 tasks      | elapsed:  1.6min\n",
      "[Parallel(n_jobs=5)]: Done 5154 tasks      | elapsed:  2.0min\n",
      "[Parallel(n_jobs=5)]: Done 5748 out of 5757 | elapsed:  2.3min remaining:    0.2s\n",
      "[Parallel(n_jobs=5)]: Done 5757 out of 5757 | elapsed:  2.3min finished\n"
     ]
    },
    {
     "data": {
      "text/html": [
       "<div>\n",
       "<style scoped>\n",
       "    .dataframe tbody tr th:only-of-type {\n",
       "        vertical-align: middle;\n",
       "    }\n",
       "\n",
       "    .dataframe tbody tr th {\n",
       "        vertical-align: top;\n",
       "    }\n",
       "\n",
       "    .dataframe thead th {\n",
       "        text-align: right;\n",
       "    }\n",
       "</style>\n",
       "<table border=\"1\" class=\"dataframe\">\n",
       "  <thead>\n",
       "    <tr style=\"text-align: right;\">\n",
       "      <th></th>\n",
       "      <th>count</th>\n",
       "      <th>mean</th>\n",
       "      <th>std</th>\n",
       "      <th>min</th>\n",
       "      <th>25%</th>\n",
       "      <th>50%</th>\n",
       "      <th>75%</th>\n",
       "      <th>max</th>\n",
       "    </tr>\n",
       "  </thead>\n",
       "  <tbody>\n",
       "    <tr>\n",
       "      <th>0</th>\n",
       "      <td>5757.0</td>\n",
       "      <td>4.251346</td>\n",
       "      <td>1.299175</td>\n",
       "      <td>1.0</td>\n",
       "      <td>3.0</td>\n",
       "      <td>4.0</td>\n",
       "      <td>5.0</td>\n",
       "      <td>11.0</td>\n",
       "    </tr>\n",
       "  </tbody>\n",
       "</table>\n",
       "</div>"
      ],
      "text/plain": [
       "    count      mean       std  min  25%  50%  75%   max\n",
       "0  5757.0  4.251346  1.299175  1.0  3.0  4.0  5.0  11.0"
      ]
     },
     "metadata": {},
     "output_type": "display_data"
    },
    {
     "data": {
      "image/png": "[encoded data removed]",
      "text/plain": [
       "<Figure size 432x288 with 1 Axes>"
      ]
     },
     "metadata": {
      "needs_background": "light"
     },
     "output_type": "display_data"
    },
    {
     "name": "stderr",
     "output_type": "stream",
     "text": [
      "[Parallel(n_jobs=5)]: Using backend LokyBackend with 5 concurrent workers.\n",
      "[Parallel(n_jobs=5)]: Done  34 tasks      | elapsed:    1.1s\n",
      "[Parallel(n_jobs=5)]: Done 226 tasks      | elapsed:    5.2s\n",
      "[Parallel(n_jobs=5)]: Done 546 tasks      | elapsed:   11.6s\n",
      "[Parallel(n_jobs=5)]: Done 994 tasks      | elapsed:   21.6s\n",
      "[Parallel(n_jobs=5)]: Done 1570 tasks      | elapsed:   33.1s\n",
      "[Parallel(n_jobs=5)]: Done 2274 tasks      | elapsed:   48.9s\n",
      "[Parallel(n_jobs=5)]: Done 3106 tasks      | elapsed:  1.2min\n",
      "[Parallel(n_jobs=5)]: Done 4066 tasks      | elapsed:  1.6min\n",
      "[Parallel(n_jobs=5)]: Done 5154 tasks      | elapsed:  2.0min\n",
      "[Parallel(n_jobs=5)]: Done 5748 out of 5757 | elapsed:  2.2min remaining:    0.2s\n",
      "[Parallel(n_jobs=5)]: Done 5757 out of 5757 | elapsed:  2.2min finished\n"
     ]
    },
    {
     "data": {
      "text/html": [
       "<div>\n",
       "<style scoped>\n",
       "    .dataframe tbody tr th:only-of-type {\n",
       "        vertical-align: middle;\n",
       "    }\n",
       "\n",
       "    .dataframe tbody tr th {\n",
       "        vertical-align: top;\n",
       "    }\n",
       "\n",
       "    .dataframe thead th {\n",
       "        text-align: right;\n",
       "    }\n",
       "</style>\n",
       "<table border=\"1\" class=\"dataframe\">\n",
       "  <thead>\n",
       "    <tr style=\"text-align: right;\">\n",
       "      <th></th>\n",
       "      <th>count</th>\n",
       "      <th>mean</th>\n",
       "      <th>std</th>\n",
       "      <th>min</th>\n",
       "      <th>25%</th>\n",
       "      <th>50%</th>\n",
       "      <th>75%</th>\n",
       "      <th>max</th>\n",
       "    </tr>\n",
       "  </thead>\n",
       "  <tbody>\n",
       "    <tr>\n",
       "      <th>0</th>\n",
       "      <td>5757.0</td>\n",
       "      <td>4.304151</td>\n",
       "      <td>1.275227</td>\n",
       "      <td>1.0</td>\n",
       "      <td>3.0</td>\n",
       "      <td>4.0</td>\n",
       "      <td>5.0</td>\n",
       "      <td>11.0</td>\n",
       "    </tr>\n",
       "  </tbody>\n",
       "</table>\n",
       "</div>"
      ],
      "text/plain": [
       "    count      mean       std  min  25%  50%  75%   max\n",
       "0  5757.0  4.304151  1.275227  1.0  3.0  4.0  5.0  11.0"
      ]
     },
     "metadata": {},
     "output_type": "display_data"
    },
    {
     "data": {
      "image/png": "[encoded data removed]",
      "text/plain": [
       "<Figure size 432x288 with 1 Axes>"
      ]
     },
     "metadata": {
      "needs_background": "light"
     },
     "output_type": "display_data"
    },
    {
     "name": "stderr",
     "output_type": "stream",
     "text": [
      "[Parallel(n_jobs=5)]: Using backend LokyBackend with 5 concurrent workers.\n",
      "[Parallel(n_jobs=5)]: Done  38 tasks      | elapsed:    0.8s\n",
      "[Parallel(n_jobs=5)]: Done 422 tasks      | elapsed:    7.8s\n",
      "[Parallel(n_jobs=5)]: Done 1062 tasks      | elapsed:   19.8s\n",
      "[Parallel(n_jobs=5)]: Done 1958 tasks      | elapsed:   36.7s\n",
      "[Parallel(n_jobs=5)]: Done 3110 tasks      | elapsed:  1.0min\n",
      "[Parallel(n_jobs=5)]: Done 4518 tasks      | elapsed:  1.5min\n",
      "[Parallel(n_jobs=5)]: Done 5748 out of 5757 | elapsed:  1.9min remaining:    0.2s\n",
      "[Parallel(n_jobs=5)]: Done 5757 out of 5757 | elapsed:  1.9min finished\n"
     ]
    },
    {
     "data": {
      "text/html": [
       "<div>\n",
       "<style scoped>\n",
       "    .dataframe tbody tr th:only-of-type {\n",
       "        vertical-align: middle;\n",
       "    }\n",
       "\n",
       "    .dataframe tbody tr th {\n",
       "        vertical-align: top;\n",
       "    }\n",
       "\n",
       "    .dataframe thead th {\n",
       "        text-align: right;\n",
       "    }\n",
       "</style>\n",
       "<table border=\"1\" class=\"dataframe\">\n",
       "  <thead>\n",
       "    <tr style=\"text-align: right;\">\n",
       "      <th></th>\n",
       "      <th>count</th>\n",
       "      <th>mean</th>\n",
       "      <th>std</th>\n",
       "      <th>min</th>\n",
       "      <th>25%</th>\n",
       "      <th>50%</th>\n",
       "      <th>75%</th>\n",
       "      <th>max</th>\n",
       "    </tr>\n",
       "  </thead>\n",
       "  <tbody>\n",
       "    <tr>\n",
       "      <th>0</th>\n",
       "      <td>5757.0</td>\n",
       "      <td>4.256905</td>\n",
       "      <td>1.260745</td>\n",
       "      <td>1.0</td>\n",
       "      <td>3.0</td>\n",
       "      <td>4.0</td>\n",
       "      <td>5.0</td>\n",
       "      <td>11.0</td>\n",
       "    </tr>\n",
       "  </tbody>\n",
       "</table>\n",
       "</div>"
      ],
      "text/plain": [
       "    count      mean       std  min  25%  50%  75%   max\n",
       "0  5757.0  4.256905  1.260745  1.0  3.0  4.0  5.0  11.0"
      ]
     },
     "metadata": {},
     "output_type": "display_data"
    },
    {
     "data": {
      "image/png": "[encoded data removed]",
      "text/plain": [
       "<Figure size 432x288 with 1 Axes>"
      ]
     },
     "metadata": {
      "needs_background": "light"
     },
     "output_type": "display_data"
    },
    {
     "name": "stderr",
     "output_type": "stream",
     "text": [
      "[Parallel(n_jobs=5)]: Using backend LokyBackend with 5 concurrent workers.\n",
      "[Parallel(n_jobs=5)]: Done  34 tasks      | elapsed:    0.6s\n",
      "[Parallel(n_jobs=5)]: Done 226 tasks      | elapsed:    4.1s\n",
      "[Parallel(n_jobs=5)]: Done 546 tasks      | elapsed:   10.5s\n",
      "[Parallel(n_jobs=5)]: Done 994 tasks      | elapsed:   19.2s\n",
      "[Parallel(n_jobs=5)]: Done 1570 tasks      | elapsed:   30.8s\n",
      "[Parallel(n_jobs=5)]: Done 2274 tasks      | elapsed:   45.5s\n",
      "[Parallel(n_jobs=5)]: Done 3106 tasks      | elapsed:  1.1min\n",
      "[Parallel(n_jobs=5)]: Done 4066 tasks      | elapsed:  1.4min\n",
      "[Parallel(n_jobs=5)]: Done 5154 tasks      | elapsed:  1.8min\n",
      "[Parallel(n_jobs=5)]: Done 5757 out of 5757 | elapsed:  2.0min finished\n"
     ]
    },
    {
     "data": {
      "text/html": [
       "<div>\n",
       "<style scoped>\n",
       "    .dataframe tbody tr th:only-of-type {\n",
       "        vertical-align: middle;\n",
       "    }\n",
       "\n",
       "    .dataframe tbody tr th {\n",
       "        vertical-align: top;\n",
       "    }\n",
       "\n",
       "    .dataframe thead th {\n",
       "        text-align: right;\n",
       "    }\n",
       "</style>\n",
       "<table border=\"1\" class=\"dataframe\">\n",
       "  <thead>\n",
       "    <tr style=\"text-align: right;\">\n",
       "      <th></th>\n",
       "      <th>count</th>\n",
       "      <th>mean</th>\n",
       "      <th>std</th>\n",
       "      <th>min</th>\n",
       "      <th>25%</th>\n",
       "      <th>50%</th>\n",
       "      <th>75%</th>\n",
       "      <th>max</th>\n",
       "    </tr>\n",
       "  </thead>\n",
       "  <tbody>\n",
       "    <tr>\n",
       "      <th>0</th>\n",
       "      <td>5757.0</td>\n",
       "      <td>4.317353</td>\n",
       "      <td>1.355451</td>\n",
       "      <td>1.0</td>\n",
       "      <td>3.0</td>\n",
       "      <td>4.0</td>\n",
       "      <td>5.0</td>\n",
       "      <td>14.0</td>\n",
       "    </tr>\n",
       "  </tbody>\n",
       "</table>\n",
       "</div>"
      ],
      "text/plain": [
       "    count      mean       std  min  25%  50%  75%   max\n",
       "0  5757.0  4.317353  1.355451  1.0  3.0  4.0  5.0  14.0"
      ]
     },
     "metadata": {},
     "output_type": "display_data"
    },
    {
     "data": {
      "image/png": "[encoded data removed]",
      "text/plain": [
       "<Figure size 432x288 with 1 Axes>"
      ]
     },
     "metadata": {
      "needs_background": "light"
     },
     "output_type": "display_data"
    },
    {
     "name": "stderr",
     "output_type": "stream",
     "text": [
      "[Parallel(n_jobs=5)]: Using backend LokyBackend with 5 concurrent workers.\n",
      "[Parallel(n_jobs=5)]: Done  34 tasks      | elapsed:    0.8s\n",
      "[Parallel(n_jobs=5)]: Done 226 tasks      | elapsed:    4.3s\n",
      "[Parallel(n_jobs=5)]: Done 546 tasks      | elapsed:   10.2s\n",
      "[Parallel(n_jobs=5)]: Done 994 tasks      | elapsed:   20.3s\n",
      "[Parallel(n_jobs=5)]: Done 1570 tasks      | elapsed:   31.6s\n",
      "[Parallel(n_jobs=5)]: Done 2274 tasks      | elapsed:   45.8s\n",
      "[Parallel(n_jobs=5)]: Done 3106 tasks      | elapsed:  1.0min\n",
      "[Parallel(n_jobs=5)]: Done 4066 tasks      | elapsed:  1.4min\n",
      "[Parallel(n_jobs=5)]: Done 5154 tasks      | elapsed:  1.7min\n",
      "[Parallel(n_jobs=5)]: Done 5748 out of 5757 | elapsed:  1.9min remaining:    0.2s\n",
      "[Parallel(n_jobs=5)]: Done 5757 out of 5757 | elapsed:  2.0min finished\n"
     ]
    },
    {
     "data": {
      "text/html": [
       "<div>\n",
       "<style scoped>\n",
       "    .dataframe tbody tr th:only-of-type {\n",
       "        vertical-align: middle;\n",
       "    }\n",
       "\n",
       "    .dataframe tbody tr th {\n",
       "        vertical-align: top;\n",
       "    }\n",
       "\n",
       "    .dataframe thead th {\n",
       "        text-align: right;\n",
       "    }\n",
       "</style>\n",
       "<table border=\"1\" class=\"dataframe\">\n",
       "  <thead>\n",
       "    <tr style=\"text-align: right;\">\n",
       "      <th></th>\n",
       "      <th>count</th>\n",
       "      <th>mean</th>\n",
       "      <th>std</th>\n",
       "      <th>min</th>\n",
       "      <th>25%</th>\n",
       "      <th>50%</th>\n",
       "      <th>75%</th>\n",
       "      <th>max</th>\n",
       "    </tr>\n",
       "  </thead>\n",
       "  <tbody>\n",
       "    <tr>\n",
       "      <th>0</th>\n",
       "      <td>5757.0</td>\n",
       "      <td>4.338892</td>\n",
       "      <td>1.367359</td>\n",
       "      <td>2.0</td>\n",
       "      <td>3.0</td>\n",
       "      <td>4.0</td>\n",
       "      <td>5.0</td>\n",
       "      <td>13.0</td>\n",
       "    </tr>\n",
       "  </tbody>\n",
       "</table>\n",
       "</div>"
      ],
      "text/plain": [
       "    count      mean       std  min  25%  50%  75%   max\n",
       "0  5757.0  4.338892  1.367359  2.0  3.0  4.0  5.0  13.0"
      ]
     },
     "metadata": {},
     "output_type": "display_data"
    },
    {
     "data": {
      "image/png": "[encoded data removed]",
      "text/plain": [
       "<Figure size 432x288 with 1 Axes>"
      ]
     },
     "metadata": {
      "needs_background": "light"
     },
     "output_type": "display_data"
    },
    {
     "name": "stderr",
     "output_type": "stream",
     "text": [
      "[Parallel(n_jobs=5)]: Using backend LokyBackend with 5 concurrent workers.\n",
      "[Parallel(n_jobs=5)]: Done  34 tasks      | elapsed:    0.6s\n",
      "[Parallel(n_jobs=5)]: Done 226 tasks      | elapsed:    3.7s\n",
      "[Parallel(n_jobs=5)]: Done 546 tasks      | elapsed:    9.5s\n",
      "[Parallel(n_jobs=5)]: Done 994 tasks      | elapsed:   17.4s\n",
      "[Parallel(n_jobs=5)]: Done 1570 tasks      | elapsed:   27.8s\n",
      "[Parallel(n_jobs=5)]: Done 2274 tasks      | elapsed:   41.7s\n",
      "[Parallel(n_jobs=5)]: Done 3106 tasks      | elapsed:   59.3s\n",
      "[Parallel(n_jobs=5)]: Done 4066 tasks      | elapsed:  1.3min\n",
      "[Parallel(n_jobs=5)]: Done 5154 tasks      | elapsed:  1.7min\n",
      "[Parallel(n_jobs=5)]: Done 5748 out of 5757 | elapsed:  1.9min remaining:    0.2s\n",
      "[Parallel(n_jobs=5)]: Done 5757 out of 5757 | elapsed:  1.9min finished\n"
     ]
    },
    {
     "data": {
      "text/html": [
       "<div>\n",
       "<style scoped>\n",
       "    .dataframe tbody tr th:only-of-type {\n",
       "        vertical-align: middle;\n",
       "    }\n",
       "\n",
       "    .dataframe tbody tr th {\n",
       "        vertical-align: top;\n",
       "    }\n",
       "\n",
       "    .dataframe thead th {\n",
       "        text-align: right;\n",
       "    }\n",
       "</style>\n",
       "<table border=\"1\" class=\"dataframe\">\n",
       "  <thead>\n",
       "    <tr style=\"text-align: right;\">\n",
       "      <th></th>\n",
       "      <th>count</th>\n",
       "      <th>mean</th>\n",
       "      <th>std</th>\n",
       "      <th>min</th>\n",
       "      <th>25%</th>\n",
       "      <th>50%</th>\n",
       "      <th>75%</th>\n",
       "      <th>max</th>\n",
       "    </tr>\n",
       "  </thead>\n",
       "  <tbody>\n",
       "    <tr>\n",
       "      <th>0</th>\n",
       "      <td>5757.0</td>\n",
       "      <td>4.277923</td>\n",
       "      <td>1.308637</td>\n",
       "      <td>2.0</td>\n",
       "      <td>3.0</td>\n",
       "      <td>4.0</td>\n",
       "      <td>5.0</td>\n",
       "      <td>12.0</td>\n",
       "    </tr>\n",
       "  </tbody>\n",
       "</table>\n",
       "</div>"
      ],
      "text/plain": [
       "    count      mean       std  min  25%  50%  75%   max\n",
       "0  5757.0  4.277923  1.308637  2.0  3.0  4.0  5.0  12.0"
      ]
     },
     "metadata": {},
     "output_type": "display_data"
    },
    {
     "data": {
      "image/png": "[encoded data removed]",
      "text/plain": [
       "<Figure size 432x288 with 1 Axes>"
      ]
     },
     "metadata": {
      "needs_background": "light"
     },
     "output_type": "display_data"
    }
   ],
   "source": [
    "for word in top_singles:\n",
    "    single_word_strategy(word)"
   ]
  },
  {
   "cell_type": "markdown",
   "id": "0c7c531b-ee43-4c97-ba39-8d7bd7b1987b",
   "metadata": {},
   "source": [
    "### Correlation"
   ]
  },
  {
   "cell_type": "code",
   "execution_count": 91,
   "id": "6dbdd311-7f61-4817-9c49-e7057445a133",
   "metadata": {},
   "outputs": [
    {
     "data": {
      "text/plain": [
       "score\n",
       "0.211750    junky\n",
       "0.213234    downy\n",
       "0.213365    gulfy\n",
       "0.214356    wonky\n",
       "0.214671    globy\n",
       "Name: word, dtype: object"
      ]
     },
     "execution_count": 91,
     "metadata": {},
     "output_type": "execute_result"
    }
   ],
   "source": [
    "top_singles = global_corrs.groupby('score').first().sort_index(ascending=True).head(5).word\n",
    "top_singles"
   ]
  },
  {
   "cell_type": "code",
   "execution_count": 92,
   "id": "15d427d0-b012-4cc1-8f3c-197fbc052b41",
   "metadata": {},
   "outputs": [
    {
     "name": "stderr",
     "output_type": "stream",
     "text": [
      "[Parallel(n_jobs=5)]: Using backend LokyBackend with 5 concurrent workers.\n",
      "[Parallel(n_jobs=5)]: Done  22 tasks      | elapsed:    0.9s\n",
      "[Parallel(n_jobs=5)]: Done 201 tasks      | elapsed:    4.6s\n",
      "[Parallel(n_jobs=5)]: Done 521 tasks      | elapsed:   11.4s\n",
      "[Parallel(n_jobs=5)]: Done 969 tasks      | elapsed:   22.4s\n",
      "[Parallel(n_jobs=5)]: Done 1545 tasks      | elapsed:   35.1s\n",
      "[Parallel(n_jobs=5)]: Done 2249 tasks      | elapsed:   50.9s\n",
      "[Parallel(n_jobs=5)]: Done 3081 tasks      | elapsed:  1.2min\n",
      "[Parallel(n_jobs=5)]: Done 4041 tasks      | elapsed:  1.6min\n",
      "[Parallel(n_jobs=5)]: Done 5129 tasks      | elapsed:  2.0min\n",
      "[Parallel(n_jobs=5)]: Done 5757 out of 5757 | elapsed:  2.2min finished\n"
     ]
    },
    {
     "data": {
      "text/html": [
       "<div>\n",
       "<style scoped>\n",
       "    .dataframe tbody tr th:only-of-type {\n",
       "        vertical-align: middle;\n",
       "    }\n",
       "\n",
       "    .dataframe tbody tr th {\n",
       "        vertical-align: top;\n",
       "    }\n",
       "\n",
       "    .dataframe thead th {\n",
       "        text-align: right;\n",
       "    }\n",
       "</style>\n",
       "<table border=\"1\" class=\"dataframe\">\n",
       "  <thead>\n",
       "    <tr style=\"text-align: right;\">\n",
       "      <th></th>\n",
       "      <th>count</th>\n",
       "      <th>mean</th>\n",
       "      <th>std</th>\n",
       "      <th>min</th>\n",
       "      <th>25%</th>\n",
       "      <th>50%</th>\n",
       "      <th>75%</th>\n",
       "      <th>max</th>\n",
       "    </tr>\n",
       "  </thead>\n",
       "  <tbody>\n",
       "    <tr>\n",
       "      <th>0</th>\n",
       "      <td>5757.0</td>\n",
       "      <td>4.609345</td>\n",
       "      <td>1.290798</td>\n",
       "      <td>1.0</td>\n",
       "      <td>4.0</td>\n",
       "      <td>4.0</td>\n",
       "      <td>5.0</td>\n",
       "      <td>12.0</td>\n",
       "    </tr>\n",
       "  </tbody>\n",
       "</table>\n",
       "</div>"
      ],
      "text/plain": [
       "    count      mean       std  min  25%  50%  75%   max\n",
       "0  5757.0  4.609345  1.290798  1.0  4.0  4.0  5.0  12.0"
      ]
     },
     "metadata": {},
     "output_type": "display_data"
    },
    {
     "data": {
      "image/png": "[encoded data removed]",
      "text/plain": [
       "<Figure size 432x288 with 1 Axes>"
      ]
     },
     "metadata": {
      "needs_background": "light"
     },
     "output_type": "display_data"
    },
    {
     "name": "stderr",
     "output_type": "stream",
     "text": [
      "[Parallel(n_jobs=5)]: Using backend LokyBackend with 5 concurrent workers.\n",
      "[Parallel(n_jobs=5)]: Done  34 tasks      | elapsed:    0.6s\n",
      "[Parallel(n_jobs=5)]: Done 226 tasks      | elapsed:    4.4s\n",
      "[Parallel(n_jobs=5)]: Done 546 tasks      | elapsed:   11.0s\n",
      "[Parallel(n_jobs=5)]: Done 994 tasks      | elapsed:   19.9s\n",
      "[Parallel(n_jobs=5)]: Done 1570 tasks      | elapsed:   31.5s\n",
      "[Parallel(n_jobs=5)]: Done 2274 tasks      | elapsed:   46.9s\n",
      "[Parallel(n_jobs=5)]: Done 3106 tasks      | elapsed:  1.1min\n",
      "[Parallel(n_jobs=5)]: Done 4066 tasks      | elapsed:  1.5min\n",
      "[Parallel(n_jobs=5)]: Done 5154 tasks      | elapsed:  1.9min\n",
      "[Parallel(n_jobs=5)]: Done 5757 out of 5757 | elapsed:  2.1min finished\n"
     ]
    },
    {
     "data": {
      "text/html": [
       "<div>\n",
       "<style scoped>\n",
       "    .dataframe tbody tr th:only-of-type {\n",
       "        vertical-align: middle;\n",
       "    }\n",
       "\n",
       "    .dataframe tbody tr th {\n",
       "        vertical-align: top;\n",
       "    }\n",
       "\n",
       "    .dataframe thead th {\n",
       "        text-align: right;\n",
       "    }\n",
       "</style>\n",
       "<table border=\"1\" class=\"dataframe\">\n",
       "  <thead>\n",
       "    <tr style=\"text-align: right;\">\n",
       "      <th></th>\n",
       "      <th>count</th>\n",
       "      <th>mean</th>\n",
       "      <th>std</th>\n",
       "      <th>min</th>\n",
       "      <th>25%</th>\n",
       "      <th>50%</th>\n",
       "      <th>75%</th>\n",
       "      <th>max</th>\n",
       "    </tr>\n",
       "  </thead>\n",
       "  <tbody>\n",
       "    <tr>\n",
       "      <th>0</th>\n",
       "      <td>5757.0</td>\n",
       "      <td>4.377627</td>\n",
       "      <td>1.212272</td>\n",
       "      <td>1.0</td>\n",
       "      <td>4.0</td>\n",
       "      <td>4.0</td>\n",
       "      <td>5.0</td>\n",
       "      <td>11.0</td>\n",
       "    </tr>\n",
       "  </tbody>\n",
       "</table>\n",
       "</div>"
      ],
      "text/plain": [
       "    count      mean       std  min  25%  50%  75%   max\n",
       "0  5757.0  4.377627  1.212272  1.0  4.0  4.0  5.0  11.0"
      ]
     },
     "metadata": {},
     "output_type": "display_data"
    },
    {
     "data": {
      "image/png": "[encoded data removed]",
      "text/plain": [
       "<Figure size 432x288 with 1 Axes>"
      ]
     },
     "metadata": {
      "needs_background": "light"
     },
     "output_type": "display_data"
    },
    {
     "name": "stderr",
     "output_type": "stream",
     "text": [
      "[Parallel(n_jobs=5)]: Using backend LokyBackend with 5 concurrent workers.\n",
      "[Parallel(n_jobs=5)]: Done  34 tasks      | elapsed:    0.9s\n",
      "[Parallel(n_jobs=5)]: Done 226 tasks      | elapsed:    5.0s\n",
      "[Parallel(n_jobs=5)]: Done 546 tasks      | elapsed:   11.4s\n",
      "[Parallel(n_jobs=5)]: Done 994 tasks      | elapsed:   20.9s\n",
      "[Parallel(n_jobs=5)]: Done 1570 tasks      | elapsed:   34.1s\n",
      "[Parallel(n_jobs=5)]: Done 2274 tasks      | elapsed:   50.3s\n",
      "[Parallel(n_jobs=5)]: Done 3106 tasks      | elapsed:  1.2min\n",
      "[Parallel(n_jobs=5)]: Done 4066 tasks      | elapsed:  1.5min\n",
      "[Parallel(n_jobs=5)]: Done 5154 tasks      | elapsed:  1.9min\n",
      "[Parallel(n_jobs=5)]: Done 5748 out of 5757 | elapsed:  2.2min remaining:    0.2s\n",
      "[Parallel(n_jobs=5)]: Done 5757 out of 5757 | elapsed:  2.2min finished\n"
     ]
    },
    {
     "data": {
      "text/html": [
       "<div>\n",
       "<style scoped>\n",
       "    .dataframe tbody tr th:only-of-type {\n",
       "        vertical-align: middle;\n",
       "    }\n",
       "\n",
       "    .dataframe tbody tr th {\n",
       "        vertical-align: top;\n",
       "    }\n",
       "\n",
       "    .dataframe thead th {\n",
       "        text-align: right;\n",
       "    }\n",
       "</style>\n",
       "<table border=\"1\" class=\"dataframe\">\n",
       "  <thead>\n",
       "    <tr style=\"text-align: right;\">\n",
       "      <th></th>\n",
       "      <th>count</th>\n",
       "      <th>mean</th>\n",
       "      <th>std</th>\n",
       "      <th>min</th>\n",
       "      <th>25%</th>\n",
       "      <th>50%</th>\n",
       "      <th>75%</th>\n",
       "      <th>max</th>\n",
       "    </tr>\n",
       "  </thead>\n",
       "  <tbody>\n",
       "    <tr>\n",
       "      <th>0</th>\n",
       "      <td>5757.0</td>\n",
       "      <td>4.423832</td>\n",
       "      <td>1.23096</td>\n",
       "      <td>2.0</td>\n",
       "      <td>4.0</td>\n",
       "      <td>4.0</td>\n",
       "      <td>5.0</td>\n",
       "      <td>13.0</td>\n",
       "    </tr>\n",
       "  </tbody>\n",
       "</table>\n",
       "</div>"
      ],
      "text/plain": [
       "    count      mean      std  min  25%  50%  75%   max\n",
       "0  5757.0  4.423832  1.23096  2.0  4.0  4.0  5.0  13.0"
      ]
     },
     "metadata": {},
     "output_type": "display_data"
    },
    {
     "data": {
      "image/png": "[encoded data removed]",
      "text/plain": [
       "<Figure size 432x288 with 1 Axes>"
      ]
     },
     "metadata": {
      "needs_background": "light"
     },
     "output_type": "display_data"
    },
    {
     "name": "stderr",
     "output_type": "stream",
     "text": [
      "[Parallel(n_jobs=5)]: Using backend LokyBackend with 5 concurrent workers.\n",
      "[Parallel(n_jobs=5)]: Done  34 tasks      | elapsed:    0.6s\n",
      "[Parallel(n_jobs=5)]: Done 226 tasks      | elapsed:    4.8s\n",
      "[Parallel(n_jobs=5)]: Done 546 tasks      | elapsed:   11.6s\n",
      "[Parallel(n_jobs=5)]: Done 994 tasks      | elapsed:   21.4s\n",
      "[Parallel(n_jobs=5)]: Done 1570 tasks      | elapsed:   33.3s\n",
      "[Parallel(n_jobs=5)]: Done 2274 tasks      | elapsed:   48.9s\n",
      "[Parallel(n_jobs=5)]: Done 3106 tasks      | elapsed:  1.1min\n",
      "[Parallel(n_jobs=5)]: Done 4066 tasks      | elapsed:  1.5min\n",
      "[Parallel(n_jobs=5)]: Done 5154 tasks      | elapsed:  1.9min\n",
      "[Parallel(n_jobs=5)]: Done 5757 out of 5757 | elapsed:  2.1min finished\n"
     ]
    },
    {
     "data": {
      "text/html": [
       "<div>\n",
       "<style scoped>\n",
       "    .dataframe tbody tr th:only-of-type {\n",
       "        vertical-align: middle;\n",
       "    }\n",
       "\n",
       "    .dataframe tbody tr th {\n",
       "        vertical-align: top;\n",
       "    }\n",
       "\n",
       "    .dataframe thead th {\n",
       "        text-align: right;\n",
       "    }\n",
       "</style>\n",
       "<table border=\"1\" class=\"dataframe\">\n",
       "  <thead>\n",
       "    <tr style=\"text-align: right;\">\n",
       "      <th></th>\n",
       "      <th>count</th>\n",
       "      <th>mean</th>\n",
       "      <th>std</th>\n",
       "      <th>min</th>\n",
       "      <th>25%</th>\n",
       "      <th>50%</th>\n",
       "      <th>75%</th>\n",
       "      <th>max</th>\n",
       "    </tr>\n",
       "  </thead>\n",
       "  <tbody>\n",
       "    <tr>\n",
       "      <th>0</th>\n",
       "      <td>5757.0</td>\n",
       "      <td>4.474379</td>\n",
       "      <td>1.262565</td>\n",
       "      <td>1.0</td>\n",
       "      <td>4.0</td>\n",
       "      <td>4.0</td>\n",
       "      <td>5.0</td>\n",
       "      <td>11.0</td>\n",
       "    </tr>\n",
       "  </tbody>\n",
       "</table>\n",
       "</div>"
      ],
      "text/plain": [
       "    count      mean       std  min  25%  50%  75%   max\n",
       "0  5757.0  4.474379  1.262565  1.0  4.0  4.0  5.0  11.0"
      ]
     },
     "metadata": {},
     "output_type": "display_data"
    },
    {
     "data": {
      "image/png": "[encoded data removed]",
      "text/plain": [
       "<Figure size 432x288 with 1 Axes>"
      ]
     },
     "metadata": {
      "needs_background": "light"
     },
     "output_type": "display_data"
    },
    {
     "name": "stderr",
     "output_type": "stream",
     "text": [
      "[Parallel(n_jobs=5)]: Using backend LokyBackend with 5 concurrent workers.\n",
      "[Parallel(n_jobs=5)]: Done  34 tasks      | elapsed:    0.7s\n",
      "[Parallel(n_jobs=5)]: Done 226 tasks      | elapsed:    4.5s\n",
      "[Parallel(n_jobs=5)]: Done 546 tasks      | elapsed:   11.5s\n",
      "[Parallel(n_jobs=5)]: Done 994 tasks      | elapsed:   21.3s\n",
      "[Parallel(n_jobs=5)]: Done 1570 tasks      | elapsed:   33.2s\n",
      "[Parallel(n_jobs=5)]: Done 2274 tasks      | elapsed:   48.3s\n",
      "[Parallel(n_jobs=5)]: Done 3106 tasks      | elapsed:  1.1min\n",
      "[Parallel(n_jobs=5)]: Done 4066 tasks      | elapsed:  1.5min\n",
      "[Parallel(n_jobs=5)]: Done 5154 tasks      | elapsed:  1.9min\n",
      "[Parallel(n_jobs=5)]: Done 5757 out of 5757 | elapsed:  2.1min finished\n"
     ]
    },
    {
     "data": {
      "text/html": [
       "<div>\n",
       "<style scoped>\n",
       "    .dataframe tbody tr th:only-of-type {\n",
       "        vertical-align: middle;\n",
       "    }\n",
       "\n",
       "    .dataframe tbody tr th {\n",
       "        vertical-align: top;\n",
       "    }\n",
       "\n",
       "    .dataframe thead th {\n",
       "        text-align: right;\n",
       "    }\n",
       "</style>\n",
       "<table border=\"1\" class=\"dataframe\">\n",
       "  <thead>\n",
       "    <tr style=\"text-align: right;\">\n",
       "      <th></th>\n",
       "      <th>count</th>\n",
       "      <th>mean</th>\n",
       "      <th>std</th>\n",
       "      <th>min</th>\n",
       "      <th>25%</th>\n",
       "      <th>50%</th>\n",
       "      <th>75%</th>\n",
       "      <th>max</th>\n",
       "    </tr>\n",
       "  </thead>\n",
       "  <tbody>\n",
       "    <tr>\n",
       "      <th>0</th>\n",
       "      <td>5757.0</td>\n",
       "      <td>4.387355</td>\n",
       "      <td>1.253917</td>\n",
       "      <td>2.0</td>\n",
       "      <td>4.0</td>\n",
       "      <td>4.0</td>\n",
       "      <td>5.0</td>\n",
       "      <td>13.0</td>\n",
       "    </tr>\n",
       "  </tbody>\n",
       "</table>\n",
       "</div>"
      ],
      "text/plain": [
       "    count      mean       std  min  25%  50%  75%   max\n",
       "0  5757.0  4.387355  1.253917  2.0  4.0  4.0  5.0  13.0"
      ]
     },
     "metadata": {},
     "output_type": "display_data"
    },
    {
     "data": {
      "image/png": "[encoded data removed]",
      "text/plain": [
       "<Figure size 432x288 with 1 Axes>"
      ]
     },
     "metadata": {
      "needs_background": "light"
     },
     "output_type": "display_data"
    }
   ],
   "source": [
    "for word in top_singles:\n",
    "    single_word_strategy(word)"
   ]
  },
  {
   "cell_type": "markdown",
   "id": "9ac5f8cd-cd55-44ba-a2ca-d6c8670ea1fb",
   "metadata": {},
   "source": [
    "### Positional Letter Distribution"
   ]
  },
  {
   "cell_type": "code",
   "execution_count": 117,
   "id": "b4739dfa-9493-4187-aebf-12c376fc5869",
   "metadata": {},
   "outputs": [],
   "source": [
    "top_singles = global_fl_scores.loc[global_fl_scores.word.apply(lambda x: len(x) == len(set(x)))].word.head(5)"
   ]
  },
  {
   "cell_type": "code",
   "execution_count": 106,
   "id": "52b006c3-689a-4dc6-bb18-a0ae572a4b81",
   "metadata": {},
   "outputs": [
    {
     "name": "stderr",
     "output_type": "stream",
     "text": [
      "[Parallel(n_jobs=5)]: Using backend LokyBackend with 5 concurrent workers.\n",
      "[Parallel(n_jobs=5)]: Done  22 tasks      | elapsed:    0.7s\n",
      "[Parallel(n_jobs=5)]: Done 206 tasks      | elapsed:    3.6s\n",
      "[Parallel(n_jobs=5)]: Done 526 tasks      | elapsed:    8.6s\n",
      "[Parallel(n_jobs=5)]: Done 974 tasks      | elapsed:   16.1s\n",
      "[Parallel(n_jobs=5)]: Done 1550 tasks      | elapsed:   26.2s\n",
      "[Parallel(n_jobs=5)]: Done 2254 tasks      | elapsed:   39.6s\n",
      "[Parallel(n_jobs=5)]: Done 3086 tasks      | elapsed:   55.5s\n",
      "[Parallel(n_jobs=5)]: Done 4046 tasks      | elapsed:  1.2min\n",
      "[Parallel(n_jobs=5)]: Done 5134 tasks      | elapsed:  1.6min\n",
      "[Parallel(n_jobs=5)]: Done 5748 out of 5757 | elapsed:  1.8min remaining:    0.2s\n",
      "[Parallel(n_jobs=5)]: Done 5757 out of 5757 | elapsed:  1.8min finished\n"
     ]
    },
    {
     "data": {
      "text/html": [
       "<div>\n",
       "<style scoped>\n",
       "    .dataframe tbody tr th:only-of-type {\n",
       "        vertical-align: middle;\n",
       "    }\n",
       "\n",
       "    .dataframe tbody tr th {\n",
       "        vertical-align: top;\n",
       "    }\n",
       "\n",
       "    .dataframe thead th {\n",
       "        text-align: right;\n",
       "    }\n",
       "</style>\n",
       "<table border=\"1\" class=\"dataframe\">\n",
       "  <thead>\n",
       "    <tr style=\"text-align: right;\">\n",
       "      <th></th>\n",
       "      <th>count</th>\n",
       "      <th>mean</th>\n",
       "      <th>std</th>\n",
       "      <th>min</th>\n",
       "      <th>25%</th>\n",
       "      <th>50%</th>\n",
       "      <th>75%</th>\n",
       "      <th>max</th>\n",
       "    </tr>\n",
       "  </thead>\n",
       "  <tbody>\n",
       "    <tr>\n",
       "      <th>0</th>\n",
       "      <td>5757.0</td>\n",
       "      <td>4.275664</td>\n",
       "      <td>1.324485</td>\n",
       "      <td>1.0</td>\n",
       "      <td>3.0</td>\n",
       "      <td>4.0</td>\n",
       "      <td>5.0</td>\n",
       "      <td>13.0</td>\n",
       "    </tr>\n",
       "  </tbody>\n",
       "</table>\n",
       "</div>"
      ],
      "text/plain": [
       "    count      mean       std  min  25%  50%  75%   max\n",
       "0  5757.0  4.275664  1.324485  1.0  3.0  4.0  5.0  13.0"
      ]
     },
     "metadata": {},
     "output_type": "display_data"
    },
    {
     "data": {
      "image/png": "[encoded data removed]",
      "text/plain": [
       "<Figure size 432x288 with 1 Axes>"
      ]
     },
     "metadata": {
      "needs_background": "light"
     },
     "output_type": "display_data"
    },
    {
     "name": "stderr",
     "output_type": "stream",
     "text": [
      "[Parallel(n_jobs=5)]: Using backend LokyBackend with 5 concurrent workers.\n",
      "[Parallel(n_jobs=5)]: Done  38 tasks      | elapsed:    0.7s\n",
      "[Parallel(n_jobs=5)]: Done 422 tasks      | elapsed:    7.1s\n",
      "[Parallel(n_jobs=5)]: Done 1062 tasks      | elapsed:   18.3s\n",
      "[Parallel(n_jobs=5)]: Done 1958 tasks      | elapsed:   34.9s\n",
      "[Parallel(n_jobs=5)]: Done 3110 tasks      | elapsed:   57.3s\n",
      "[Parallel(n_jobs=5)]: Done 4518 tasks      | elapsed:  1.4min\n",
      "[Parallel(n_jobs=5)]: Done 5757 out of 5757 | elapsed:  1.8min finished\n"
     ]
    },
    {
     "data": {
      "text/html": [
       "<div>\n",
       "<style scoped>\n",
       "    .dataframe tbody tr th:only-of-type {\n",
       "        vertical-align: middle;\n",
       "    }\n",
       "\n",
       "    .dataframe tbody tr th {\n",
       "        vertical-align: top;\n",
       "    }\n",
       "\n",
       "    .dataframe thead th {\n",
       "        text-align: right;\n",
       "    }\n",
       "</style>\n",
       "<table border=\"1\" class=\"dataframe\">\n",
       "  <thead>\n",
       "    <tr style=\"text-align: right;\">\n",
       "      <th></th>\n",
       "      <th>count</th>\n",
       "      <th>mean</th>\n",
       "      <th>std</th>\n",
       "      <th>min</th>\n",
       "      <th>25%</th>\n",
       "      <th>50%</th>\n",
       "      <th>75%</th>\n",
       "      <th>max</th>\n",
       "    </tr>\n",
       "  </thead>\n",
       "  <tbody>\n",
       "    <tr>\n",
       "      <th>0</th>\n",
       "      <td>5757.0</td>\n",
       "      <td>4.27688</td>\n",
       "      <td>1.291083</td>\n",
       "      <td>1.0</td>\n",
       "      <td>3.0</td>\n",
       "      <td>4.0</td>\n",
       "      <td>5.0</td>\n",
       "      <td>12.0</td>\n",
       "    </tr>\n",
       "  </tbody>\n",
       "</table>\n",
       "</div>"
      ],
      "text/plain": [
       "    count     mean       std  min  25%  50%  75%   max\n",
       "0  5757.0  4.27688  1.291083  1.0  3.0  4.0  5.0  12.0"
      ]
     },
     "metadata": {},
     "output_type": "display_data"
    },
    {
     "data": {
      "image/png": "[encoded data removed]",
      "text/plain": [
       "<Figure size 432x288 with 1 Axes>"
      ]
     },
     "metadata": {
      "needs_background": "light"
     },
     "output_type": "display_data"
    },
    {
     "name": "stderr",
     "output_type": "stream",
     "text": [
      "[Parallel(n_jobs=5)]: Using backend LokyBackend with 5 concurrent workers.\n",
      "[Parallel(n_jobs=5)]: Done  38 tasks      | elapsed:    0.7s\n",
      "[Parallel(n_jobs=5)]: Done 422 tasks      | elapsed:    7.2s\n",
      "[Parallel(n_jobs=5)]: Done 1062 tasks      | elapsed:   18.4s\n",
      "[Parallel(n_jobs=5)]: Done 1958 tasks      | elapsed:   33.8s\n",
      "[Parallel(n_jobs=5)]: Done 3110 tasks      | elapsed:   57.0s\n",
      "[Parallel(n_jobs=5)]: Done 4518 tasks      | elapsed:  1.4min\n",
      "[Parallel(n_jobs=5)]: Done 5757 out of 5757 | elapsed:  1.8min finished\n"
     ]
    },
    {
     "data": {
      "text/html": [
       "<div>\n",
       "<style scoped>\n",
       "    .dataframe tbody tr th:only-of-type {\n",
       "        vertical-align: middle;\n",
       "    }\n",
       "\n",
       "    .dataframe tbody tr th {\n",
       "        vertical-align: top;\n",
       "    }\n",
       "\n",
       "    .dataframe thead th {\n",
       "        text-align: right;\n",
       "    }\n",
       "</style>\n",
       "<table border=\"1\" class=\"dataframe\">\n",
       "  <thead>\n",
       "    <tr style=\"text-align: right;\">\n",
       "      <th></th>\n",
       "      <th>count</th>\n",
       "      <th>mean</th>\n",
       "      <th>std</th>\n",
       "      <th>min</th>\n",
       "      <th>25%</th>\n",
       "      <th>50%</th>\n",
       "      <th>75%</th>\n",
       "      <th>max</th>\n",
       "    </tr>\n",
       "  </thead>\n",
       "  <tbody>\n",
       "    <tr>\n",
       "      <th>0</th>\n",
       "      <td>5757.0</td>\n",
       "      <td>4.218864</td>\n",
       "      <td>1.25281</td>\n",
       "      <td>1.0</td>\n",
       "      <td>3.0</td>\n",
       "      <td>4.0</td>\n",
       "      <td>5.0</td>\n",
       "      <td>12.0</td>\n",
       "    </tr>\n",
       "  </tbody>\n",
       "</table>\n",
       "</div>"
      ],
      "text/plain": [
       "    count      mean      std  min  25%  50%  75%   max\n",
       "0  5757.0  4.218864  1.25281  1.0  3.0  4.0  5.0  12.0"
      ]
     },
     "metadata": {},
     "output_type": "display_data"
    },
    {
     "data": {
      "image/png": "[encoded data removed]",
      "text/plain": [
       "<Figure size 432x288 with 1 Axes>"
      ]
     },
     "metadata": {
      "needs_background": "light"
     },
     "output_type": "display_data"
    },
    {
     "name": "stderr",
     "output_type": "stream",
     "text": [
      "[Parallel(n_jobs=5)]: Using backend LokyBackend with 5 concurrent workers.\n",
      "[Parallel(n_jobs=5)]: Done  34 tasks      | elapsed:    0.6s\n",
      "[Parallel(n_jobs=5)]: Done 226 tasks      | elapsed:    4.0s\n",
      "[Parallel(n_jobs=5)]: Done 546 tasks      | elapsed:   10.0s\n",
      "[Parallel(n_jobs=5)]: Done 994 tasks      | elapsed:   19.6s\n",
      "[Parallel(n_jobs=5)]: Done 1570 tasks      | elapsed:   30.4s\n",
      "[Parallel(n_jobs=5)]: Done 2274 tasks      | elapsed:   44.1s\n",
      "[Parallel(n_jobs=5)]: Done 3106 tasks      | elapsed:  1.0min\n",
      "[Parallel(n_jobs=5)]: Done 4066 tasks      | elapsed:  1.4min\n",
      "[Parallel(n_jobs=5)]: Done 5154 tasks      | elapsed:  1.7min\n",
      "[Parallel(n_jobs=5)]: Done 5748 out of 5757 | elapsed:  1.9min remaining:    0.2s\n",
      "[Parallel(n_jobs=5)]: Done 5757 out of 5757 | elapsed:  1.9min finished\n"
     ]
    },
    {
     "data": {
      "text/html": [
       "<div>\n",
       "<style scoped>\n",
       "    .dataframe tbody tr th:only-of-type {\n",
       "        vertical-align: middle;\n",
       "    }\n",
       "\n",
       "    .dataframe tbody tr th {\n",
       "        vertical-align: top;\n",
       "    }\n",
       "\n",
       "    .dataframe thead th {\n",
       "        text-align: right;\n",
       "    }\n",
       "</style>\n",
       "<table border=\"1\" class=\"dataframe\">\n",
       "  <thead>\n",
       "    <tr style=\"text-align: right;\">\n",
       "      <th></th>\n",
       "      <th>count</th>\n",
       "      <th>mean</th>\n",
       "      <th>std</th>\n",
       "      <th>min</th>\n",
       "      <th>25%</th>\n",
       "      <th>50%</th>\n",
       "      <th>75%</th>\n",
       "      <th>max</th>\n",
       "    </tr>\n",
       "  </thead>\n",
       "  <tbody>\n",
       "    <tr>\n",
       "      <th>0</th>\n",
       "      <td>5757.0</td>\n",
       "      <td>4.231023</td>\n",
       "      <td>1.292031</td>\n",
       "      <td>1.0</td>\n",
       "      <td>3.0</td>\n",
       "      <td>4.0</td>\n",
       "      <td>5.0</td>\n",
       "      <td>12.0</td>\n",
       "    </tr>\n",
       "  </tbody>\n",
       "</table>\n",
       "</div>"
      ],
      "text/plain": [
       "    count      mean       std  min  25%  50%  75%   max\n",
       "0  5757.0  4.231023  1.292031  1.0  3.0  4.0  5.0  12.0"
      ]
     },
     "metadata": {},
     "output_type": "display_data"
    },
    {
     "data": {
      "image/png": "[encoded data removed]",
      "text/plain": [
       "<Figure size 432x288 with 1 Axes>"
      ]
     },
     "metadata": {
      "needs_background": "light"
     },
     "output_type": "display_data"
    },
    {
     "name": "stderr",
     "output_type": "stream",
     "text": [
      "[Parallel(n_jobs=5)]: Using backend LokyBackend with 5 concurrent workers.\n",
      "[Parallel(n_jobs=5)]: Done  34 tasks      | elapsed:    0.6s\n",
      "[Parallel(n_jobs=5)]: Done 226 tasks      | elapsed:    3.7s\n",
      "[Parallel(n_jobs=5)]: Done 546 tasks      | elapsed:    9.0s\n",
      "[Parallel(n_jobs=5)]: Done 994 tasks      | elapsed:   18.2s\n",
      "[Parallel(n_jobs=5)]: Done 1570 tasks      | elapsed:   29.1s\n",
      "[Parallel(n_jobs=5)]: Done 2274 tasks      | elapsed:   43.5s\n",
      "[Parallel(n_jobs=5)]: Done 3106 tasks      | elapsed:  1.0min\n",
      "[Parallel(n_jobs=5)]: Done 4066 tasks      | elapsed:  1.3min\n",
      "[Parallel(n_jobs=5)]: Done 5154 tasks      | elapsed:  1.7min\n",
      "[Parallel(n_jobs=5)]: Done 5757 out of 5757 | elapsed:  1.9min finished\n"
     ]
    },
    {
     "data": {
      "text/html": [
       "<div>\n",
       "<style scoped>\n",
       "    .dataframe tbody tr th:only-of-type {\n",
       "        vertical-align: middle;\n",
       "    }\n",
       "\n",
       "    .dataframe tbody tr th {\n",
       "        vertical-align: top;\n",
       "    }\n",
       "\n",
       "    .dataframe thead th {\n",
       "        text-align: right;\n",
       "    }\n",
       "</style>\n",
       "<table border=\"1\" class=\"dataframe\">\n",
       "  <thead>\n",
       "    <tr style=\"text-align: right;\">\n",
       "      <th></th>\n",
       "      <th>count</th>\n",
       "      <th>mean</th>\n",
       "      <th>std</th>\n",
       "      <th>min</th>\n",
       "      <th>25%</th>\n",
       "      <th>50%</th>\n",
       "      <th>75%</th>\n",
       "      <th>max</th>\n",
       "    </tr>\n",
       "  </thead>\n",
       "  <tbody>\n",
       "    <tr>\n",
       "      <th>0</th>\n",
       "      <td>5757.0</td>\n",
       "      <td>4.287824</td>\n",
       "      <td>1.342759</td>\n",
       "      <td>1.0</td>\n",
       "      <td>3.0</td>\n",
       "      <td>4.0</td>\n",
       "      <td>5.0</td>\n",
       "      <td>12.0</td>\n",
       "    </tr>\n",
       "  </tbody>\n",
       "</table>\n",
       "</div>"
      ],
      "text/plain": [
       "    count      mean       std  min  25%  50%  75%   max\n",
       "0  5757.0  4.287824  1.342759  1.0  3.0  4.0  5.0  12.0"
      ]
     },
     "metadata": {},
     "output_type": "display_data"
    },
    {
     "data": {
      "image/png": "[encoded data removed]",
      "text/plain": [
       "<Figure size 432x288 with 1 Axes>"
      ]
     },
     "metadata": {
      "needs_background": "light"
     },
     "output_type": "display_data"
    }
   ],
   "source": [
    "for word in top_singles:\n",
    "    single_word_strategy(word)"
   ]
  },
  {
   "cell_type": "code",
   "execution_count": 118,
   "id": "5fa56c47-2361-44d2-b1a5-09b16e5949cf",
   "metadata": {},
   "outputs": [
    {
     "data": {
      "text/plain": [
       "1285     bores\n",
       "8109     pores\n",
       "6433     mares\n",
       "1660     canes\n",
       "2519     dares\n",
       "786      banes\n",
       "11088    tores\n",
       "7623     panes\n",
       "3469     fares\n",
       "5843     lares\n",
       "Name: word, dtype: object"
      ]
     },
     "execution_count": 118,
     "metadata": {},
     "output_type": "execute_result"
    }
   ],
   "source": [
    "top_singles2 = global_fl_scores.loc[global_fl_scores.word.apply(lambda x: len(x) == len(set(x)))].word.head(15)[5:]\n",
    "top_singles2"
   ]
  },
  {
   "cell_type": "code",
   "execution_count": 119,
   "id": "9db30594-fea4-4306-adca-1dd785f44f7c",
   "metadata": {},
   "outputs": [
    {
     "name": "stderr",
     "output_type": "stream",
     "text": [
      "[Parallel(n_jobs=5)]: Using backend LokyBackend with 5 concurrent workers.\n",
      "[Parallel(n_jobs=5)]: Done  34 tasks      | elapsed:    0.6s\n",
      "[Parallel(n_jobs=5)]: Done 226 tasks      | elapsed:    3.7s\n",
      "[Parallel(n_jobs=5)]: Done 546 tasks      | elapsed:    8.8s\n",
      "[Parallel(n_jobs=5)]: Done 994 tasks      | elapsed:   16.5s\n",
      "[Parallel(n_jobs=5)]: Done 1570 tasks      | elapsed:   26.7s\n",
      "[Parallel(n_jobs=5)]: Done 2274 tasks      | elapsed:   39.9s\n",
      "[Parallel(n_jobs=5)]: Done 3106 tasks      | elapsed:   56.1s\n",
      "[Parallel(n_jobs=5)]: Done 4066 tasks      | elapsed:  1.2min\n",
      "[Parallel(n_jobs=5)]: Done 5154 tasks      | elapsed:  1.6min\n",
      "[Parallel(n_jobs=5)]: Done 5757 out of 5757 | elapsed:  1.8min finished\n"
     ]
    },
    {
     "data": {
      "text/html": [
       "<div>\n",
       "<style scoped>\n",
       "    .dataframe tbody tr th:only-of-type {\n",
       "        vertical-align: middle;\n",
       "    }\n",
       "\n",
       "    .dataframe tbody tr th {\n",
       "        vertical-align: top;\n",
       "    }\n",
       "\n",
       "    .dataframe thead th {\n",
       "        text-align: right;\n",
       "    }\n",
       "</style>\n",
       "<table border=\"1\" class=\"dataframe\">\n",
       "  <thead>\n",
       "    <tr style=\"text-align: right;\">\n",
       "      <th></th>\n",
       "      <th>count</th>\n",
       "      <th>mean</th>\n",
       "      <th>std</th>\n",
       "      <th>min</th>\n",
       "      <th>25%</th>\n",
       "      <th>50%</th>\n",
       "      <th>75%</th>\n",
       "      <th>max</th>\n",
       "    </tr>\n",
       "  </thead>\n",
       "  <tbody>\n",
       "    <tr>\n",
       "      <th>0</th>\n",
       "      <td>5757.0</td>\n",
       "      <td>4.298767</td>\n",
       "      <td>1.310812</td>\n",
       "      <td>1.0</td>\n",
       "      <td>3.0</td>\n",
       "      <td>4.0</td>\n",
       "      <td>5.0</td>\n",
       "      <td>12.0</td>\n",
       "    </tr>\n",
       "  </tbody>\n",
       "</table>\n",
       "</div>"
      ],
      "text/plain": [
       "    count      mean       std  min  25%  50%  75%   max\n",
       "0  5757.0  4.298767  1.310812  1.0  3.0  4.0  5.0  12.0"
      ]
     },
     "metadata": {},
     "output_type": "display_data"
    },
    {
     "data": {
      "image/png": "[encoded data removed]",
      "text/plain": [
       "<Figure size 432x288 with 1 Axes>"
      ]
     },
     "metadata": {
      "needs_background": "light"
     },
     "output_type": "display_data"
    },
    {
     "name": "stderr",
     "output_type": "stream",
     "text": [
      "[Parallel(n_jobs=5)]: Using backend LokyBackend with 5 concurrent workers.\n",
      "[Parallel(n_jobs=5)]: Done  34 tasks      | elapsed:    0.6s\n",
      "[Parallel(n_jobs=5)]: Done 226 tasks      | elapsed:    3.8s\n",
      "[Parallel(n_jobs=5)]: Done 546 tasks      | elapsed:    9.4s\n",
      "[Parallel(n_jobs=5)]: Done 994 tasks      | elapsed:   17.4s\n",
      "[Parallel(n_jobs=5)]: Done 1570 tasks      | elapsed:   27.9s\n",
      "[Parallel(n_jobs=5)]: Done 2274 tasks      | elapsed:   40.4s\n",
      "[Parallel(n_jobs=5)]: Done 3106 tasks      | elapsed:   56.3s\n",
      "[Parallel(n_jobs=5)]: Done 4066 tasks      | elapsed:  1.2min\n",
      "[Parallel(n_jobs=5)]: Done 5154 tasks      | elapsed:  1.6min\n",
      "[Parallel(n_jobs=5)]: Done 5757 out of 5757 | elapsed:  1.8min finished\n"
     ]
    },
    {
     "data": {
      "text/html": [
       "<div>\n",
       "<style scoped>\n",
       "    .dataframe tbody tr th:only-of-type {\n",
       "        vertical-align: middle;\n",
       "    }\n",
       "\n",
       "    .dataframe tbody tr th {\n",
       "        vertical-align: top;\n",
       "    }\n",
       "\n",
       "    .dataframe thead th {\n",
       "        text-align: right;\n",
       "    }\n",
       "</style>\n",
       "<table border=\"1\" class=\"dataframe\">\n",
       "  <thead>\n",
       "    <tr style=\"text-align: right;\">\n",
       "      <th></th>\n",
       "      <th>count</th>\n",
       "      <th>mean</th>\n",
       "      <th>std</th>\n",
       "      <th>min</th>\n",
       "      <th>25%</th>\n",
       "      <th>50%</th>\n",
       "      <th>75%</th>\n",
       "      <th>max</th>\n",
       "    </tr>\n",
       "  </thead>\n",
       "  <tbody>\n",
       "    <tr>\n",
       "      <th>0</th>\n",
       "      <td>5757.0</td>\n",
       "      <td>4.25291</td>\n",
       "      <td>1.293309</td>\n",
       "      <td>1.0</td>\n",
       "      <td>3.0</td>\n",
       "      <td>4.0</td>\n",
       "      <td>5.0</td>\n",
       "      <td>12.0</td>\n",
       "    </tr>\n",
       "  </tbody>\n",
       "</table>\n",
       "</div>"
      ],
      "text/plain": [
       "    count     mean       std  min  25%  50%  75%   max\n",
       "0  5757.0  4.25291  1.293309  1.0  3.0  4.0  5.0  12.0"
      ]
     },
     "metadata": {},
     "output_type": "display_data"
    },
    {
     "data": {
      "image/png": "[encoded data removed]",
      "text/plain": [
       "<Figure size 432x288 with 1 Axes>"
      ]
     },
     "metadata": {
      "needs_background": "light"
     },
     "output_type": "display_data"
    },
    {
     "name": "stderr",
     "output_type": "stream",
     "text": [
      "[Parallel(n_jobs=5)]: Using backend LokyBackend with 5 concurrent workers.\n",
      "[Parallel(n_jobs=5)]: Done  34 tasks      | elapsed:    0.7s\n",
      "[Parallel(n_jobs=5)]: Done 226 tasks      | elapsed:    4.4s\n",
      "[Parallel(n_jobs=5)]: Done 546 tasks      | elapsed:   10.8s\n",
      "[Parallel(n_jobs=5)]: Done 994 tasks      | elapsed:   18.7s\n",
      "[Parallel(n_jobs=5)]: Done 1570 tasks      | elapsed:   29.8s\n",
      "[Parallel(n_jobs=5)]: Done 2274 tasks      | elapsed:   44.7s\n",
      "[Parallel(n_jobs=5)]: Done 3106 tasks      | elapsed:  1.0min\n",
      "[Parallel(n_jobs=5)]: Done 4066 tasks      | elapsed:  1.4min\n",
      "[Parallel(n_jobs=5)]: Done 5154 tasks      | elapsed:  1.9min\n",
      "[Parallel(n_jobs=5)]: Done 5757 out of 5757 | elapsed:  2.1min finished\n"
     ]
    },
    {
     "data": {
      "text/html": [
       "<div>\n",
       "<style scoped>\n",
       "    .dataframe tbody tr th:only-of-type {\n",
       "        vertical-align: middle;\n",
       "    }\n",
       "\n",
       "    .dataframe tbody tr th {\n",
       "        vertical-align: top;\n",
       "    }\n",
       "\n",
       "    .dataframe thead th {\n",
       "        text-align: right;\n",
       "    }\n",
       "</style>\n",
       "<table border=\"1\" class=\"dataframe\">\n",
       "  <thead>\n",
       "    <tr style=\"text-align: right;\">\n",
       "      <th></th>\n",
       "      <th>count</th>\n",
       "      <th>mean</th>\n",
       "      <th>std</th>\n",
       "      <th>min</th>\n",
       "      <th>25%</th>\n",
       "      <th>50%</th>\n",
       "      <th>75%</th>\n",
       "      <th>max</th>\n",
       "    </tr>\n",
       "  </thead>\n",
       "  <tbody>\n",
       "    <tr>\n",
       "      <th>0</th>\n",
       "      <td>5757.0</td>\n",
       "      <td>4.264548</td>\n",
       "      <td>1.277654</td>\n",
       "      <td>1.0</td>\n",
       "      <td>3.0</td>\n",
       "      <td>4.0</td>\n",
       "      <td>5.0</td>\n",
       "      <td>13.0</td>\n",
       "    </tr>\n",
       "  </tbody>\n",
       "</table>\n",
       "</div>"
      ],
      "text/plain": [
       "    count      mean       std  min  25%  50%  75%   max\n",
       "0  5757.0  4.264548  1.277654  1.0  3.0  4.0  5.0  13.0"
      ]
     },
     "metadata": {},
     "output_type": "display_data"
    },
    {
     "data": {
      "image/png": "[encoded data removed]",
      "text/plain": [
       "<Figure size 432x288 with 1 Axes>"
      ]
     },
     "metadata": {
      "needs_background": "light"
     },
     "output_type": "display_data"
    },
    {
     "name": "stderr",
     "output_type": "stream",
     "text": [
      "[Parallel(n_jobs=5)]: Using backend LokyBackend with 5 concurrent workers.\n",
      "[Parallel(n_jobs=5)]: Done  34 tasks      | elapsed:    0.7s\n",
      "[Parallel(n_jobs=5)]: Done 226 tasks      | elapsed:    4.3s\n",
      "[Parallel(n_jobs=5)]: Done 546 tasks      | elapsed:   10.9s\n",
      "[Parallel(n_jobs=5)]: Done 994 tasks      | elapsed:   20.0s\n",
      "[Parallel(n_jobs=5)]: Done 1570 tasks      | elapsed:   33.1s\n",
      "[Parallel(n_jobs=5)]: Done 2274 tasks      | elapsed:   49.8s\n",
      "[Parallel(n_jobs=5)]: Done 3106 tasks      | elapsed:  1.2min\n",
      "[Parallel(n_jobs=5)]: Done 4066 tasks      | elapsed:  1.5min\n",
      "[Parallel(n_jobs=5)]: Done 5154 tasks      | elapsed:  1.8min\n",
      "[Parallel(n_jobs=5)]: Done 5748 out of 5757 | elapsed:  2.1min remaining:    0.2s\n",
      "[Parallel(n_jobs=5)]: Done 5757 out of 5757 | elapsed:  2.1min finished\n"
     ]
    },
    {
     "data": {
      "text/html": [
       "<div>\n",
       "<style scoped>\n",
       "    .dataframe tbody tr th:only-of-type {\n",
       "        vertical-align: middle;\n",
       "    }\n",
       "\n",
       "    .dataframe tbody tr th {\n",
       "        vertical-align: top;\n",
       "    }\n",
       "\n",
       "    .dataframe thead th {\n",
       "        text-align: right;\n",
       "    }\n",
       "</style>\n",
       "<table border=\"1\" class=\"dataframe\">\n",
       "  <thead>\n",
       "    <tr style=\"text-align: right;\">\n",
       "      <th></th>\n",
       "      <th>count</th>\n",
       "      <th>mean</th>\n",
       "      <th>std</th>\n",
       "      <th>min</th>\n",
       "      <th>25%</th>\n",
       "      <th>50%</th>\n",
       "      <th>75%</th>\n",
       "      <th>max</th>\n",
       "    </tr>\n",
       "  </thead>\n",
       "  <tbody>\n",
       "    <tr>\n",
       "      <th>0</th>\n",
       "      <td>5757.0</td>\n",
       "      <td>4.287824</td>\n",
       "      <td>1.330019</td>\n",
       "      <td>1.0</td>\n",
       "      <td>3.0</td>\n",
       "      <td>4.0</td>\n",
       "      <td>5.0</td>\n",
       "      <td>12.0</td>\n",
       "    </tr>\n",
       "  </tbody>\n",
       "</table>\n",
       "</div>"
      ],
      "text/plain": [
       "    count      mean       std  min  25%  50%  75%   max\n",
       "0  5757.0  4.287824  1.330019  1.0  3.0  4.0  5.0  12.0"
      ]
     },
     "metadata": {},
     "output_type": "display_data"
    },
    {
     "data": {
      "image/png": "[encoded data removed]",
      "text/plain": [
       "<Figure size 432x288 with 1 Axes>"
      ]
     },
     "metadata": {
      "needs_background": "light"
     },
     "output_type": "display_data"
    },
    {
     "name": "stderr",
     "output_type": "stream",
     "text": [
      "[Parallel(n_jobs=5)]: Using backend LokyBackend with 5 concurrent workers.\n",
      "[Parallel(n_jobs=5)]: Done  38 tasks      | elapsed:    0.7s\n",
      "[Parallel(n_jobs=5)]: Done 422 tasks      | elapsed:    7.8s\n",
      "[Parallel(n_jobs=5)]: Done 1062 tasks      | elapsed:   19.1s\n",
      "[Parallel(n_jobs=5)]: Done 1958 tasks      | elapsed:   36.1s\n",
      "[Parallel(n_jobs=5)]: Done 3110 tasks      | elapsed:   60.0s\n",
      "[Parallel(n_jobs=5)]: Done 4518 tasks      | elapsed:  1.5min\n",
      "[Parallel(n_jobs=5)]: Done 5748 out of 5757 | elapsed:  1.9min remaining:    0.2s\n",
      "[Parallel(n_jobs=5)]: Done 5757 out of 5757 | elapsed:  1.9min finished\n"
     ]
    },
    {
     "data": {
      "text/html": [
       "<div>\n",
       "<style scoped>\n",
       "    .dataframe tbody tr th:only-of-type {\n",
       "        vertical-align: middle;\n",
       "    }\n",
       "\n",
       "    .dataframe tbody tr th {\n",
       "        vertical-align: top;\n",
       "    }\n",
       "\n",
       "    .dataframe thead th {\n",
       "        text-align: right;\n",
       "    }\n",
       "</style>\n",
       "<table border=\"1\" class=\"dataframe\">\n",
       "  <thead>\n",
       "    <tr style=\"text-align: right;\">\n",
       "      <th></th>\n",
       "      <th>count</th>\n",
       "      <th>mean</th>\n",
       "      <th>std</th>\n",
       "      <th>min</th>\n",
       "      <th>25%</th>\n",
       "      <th>50%</th>\n",
       "      <th>75%</th>\n",
       "      <th>max</th>\n",
       "    </tr>\n",
       "  </thead>\n",
       "  <tbody>\n",
       "    <tr>\n",
       "      <th>0</th>\n",
       "      <td>5757.0</td>\n",
       "      <td>4.266806</td>\n",
       "      <td>1.304972</td>\n",
       "      <td>1.0</td>\n",
       "      <td>3.0</td>\n",
       "      <td>4.0</td>\n",
       "      <td>5.0</td>\n",
       "      <td>12.0</td>\n",
       "    </tr>\n",
       "  </tbody>\n",
       "</table>\n",
       "</div>"
      ],
      "text/plain": [
       "    count      mean       std  min  25%  50%  75%   max\n",
       "0  5757.0  4.266806  1.304972  1.0  3.0  4.0  5.0  12.0"
      ]
     },
     "metadata": {},
     "output_type": "display_data"
    },
    {
     "data": {
      "image/png": "[encoded data removed]",
      "text/plain": [
       "<Figure size 432x288 with 1 Axes>"
      ]
     },
     "metadata": {
      "needs_background": "light"
     },
     "output_type": "display_data"
    },
    {
     "name": "stderr",
     "output_type": "stream",
     "text": [
      "[Parallel(n_jobs=5)]: Using backend LokyBackend with 5 concurrent workers.\n",
      "[Parallel(n_jobs=5)]: Done  34 tasks      | elapsed:    0.6s\n",
      "[Parallel(n_jobs=5)]: Done 226 tasks      | elapsed:    4.1s\n",
      "[Parallel(n_jobs=5)]: Done 546 tasks      | elapsed:   10.3s\n",
      "[Parallel(n_jobs=5)]: Done 994 tasks      | elapsed:   18.9s\n",
      "[Parallel(n_jobs=5)]: Done 1570 tasks      | elapsed:   29.7s\n",
      "[Parallel(n_jobs=5)]: Done 2274 tasks      | elapsed:   44.5s\n",
      "[Parallel(n_jobs=5)]: Done 3106 tasks      | elapsed:  1.0min\n",
      "[Parallel(n_jobs=5)]: Done 4066 tasks      | elapsed:  1.3min\n",
      "[Parallel(n_jobs=5)]: Done 5154 tasks      | elapsed:  1.7min\n",
      "[Parallel(n_jobs=5)]: Done 5757 out of 5757 | elapsed:  1.9min finished\n"
     ]
    },
    {
     "data": {
      "text/html": [
       "<div>\n",
       "<style scoped>\n",
       "    .dataframe tbody tr th:only-of-type {\n",
       "        vertical-align: middle;\n",
       "    }\n",
       "\n",
       "    .dataframe tbody tr th {\n",
       "        vertical-align: top;\n",
       "    }\n",
       "\n",
       "    .dataframe thead th {\n",
       "        text-align: right;\n",
       "    }\n",
       "</style>\n",
       "<table border=\"1\" class=\"dataframe\">\n",
       "  <thead>\n",
       "    <tr style=\"text-align: right;\">\n",
       "      <th></th>\n",
       "      <th>count</th>\n",
       "      <th>mean</th>\n",
       "      <th>std</th>\n",
       "      <th>min</th>\n",
       "      <th>25%</th>\n",
       "      <th>50%</th>\n",
       "      <th>75%</th>\n",
       "      <th>max</th>\n",
       "    </tr>\n",
       "  </thead>\n",
       "  <tbody>\n",
       "    <tr>\n",
       "      <th>0</th>\n",
       "      <td>5757.0</td>\n",
       "      <td>4.290603</td>\n",
       "      <td>1.280963</td>\n",
       "      <td>1.0</td>\n",
       "      <td>3.0</td>\n",
       "      <td>4.0</td>\n",
       "      <td>5.0</td>\n",
       "      <td>12.0</td>\n",
       "    </tr>\n",
       "  </tbody>\n",
       "</table>\n",
       "</div>"
      ],
      "text/plain": [
       "    count      mean       std  min  25%  50%  75%   max\n",
       "0  5757.0  4.290603  1.280963  1.0  3.0  4.0  5.0  12.0"
      ]
     },
     "metadata": {},
     "output_type": "display_data"
    },
    {
     "data": {
      "image/png": "[encoded data removed]",
      "text/plain": [
       "<Figure size 432x288 with 1 Axes>"
      ]
     },
     "metadata": {
      "needs_background": "light"
     },
     "output_type": "display_data"
    },
    {
     "name": "stderr",
     "output_type": "stream",
     "text": [
      "[Parallel(n_jobs=5)]: Using backend LokyBackend with 5 concurrent workers.\n",
      "[Parallel(n_jobs=5)]: Done  38 tasks      | elapsed:    0.7s\n",
      "[Parallel(n_jobs=5)]: Done 422 tasks      | elapsed:    7.2s\n",
      "[Parallel(n_jobs=5)]: Done 1062 tasks      | elapsed:   18.7s\n",
      "[Parallel(n_jobs=5)]: Done 1958 tasks      | elapsed:   34.9s\n",
      "[Parallel(n_jobs=5)]: Done 3110 tasks      | elapsed:   56.1s\n",
      "[Parallel(n_jobs=5)]: Done 4518 tasks      | elapsed:  1.4min\n",
      "[Parallel(n_jobs=5)]: Done 5748 out of 5757 | elapsed:  1.7min remaining:    0.2s\n",
      "[Parallel(n_jobs=5)]: Done 5757 out of 5757 | elapsed:  1.7min finished\n"
     ]
    },
    {
     "data": {
      "text/html": [
       "<div>\n",
       "<style scoped>\n",
       "    .dataframe tbody tr th:only-of-type {\n",
       "        vertical-align: middle;\n",
       "    }\n",
       "\n",
       "    .dataframe tbody tr th {\n",
       "        vertical-align: top;\n",
       "    }\n",
       "\n",
       "    .dataframe thead th {\n",
       "        text-align: right;\n",
       "    }\n",
       "</style>\n",
       "<table border=\"1\" class=\"dataframe\">\n",
       "  <thead>\n",
       "    <tr style=\"text-align: right;\">\n",
       "      <th></th>\n",
       "      <th>count</th>\n",
       "      <th>mean</th>\n",
       "      <th>std</th>\n",
       "      <th>min</th>\n",
       "      <th>25%</th>\n",
       "      <th>50%</th>\n",
       "      <th>75%</th>\n",
       "      <th>max</th>\n",
       "    </tr>\n",
       "  </thead>\n",
       "  <tbody>\n",
       "    <tr>\n",
       "      <th>0</th>\n",
       "      <td>5757.0</td>\n",
       "      <td>4.252736</td>\n",
       "      <td>1.328267</td>\n",
       "      <td>2.0</td>\n",
       "      <td>3.0</td>\n",
       "      <td>4.0</td>\n",
       "      <td>5.0</td>\n",
       "      <td>13.0</td>\n",
       "    </tr>\n",
       "  </tbody>\n",
       "</table>\n",
       "</div>"
      ],
      "text/plain": [
       "    count      mean       std  min  25%  50%  75%   max\n",
       "0  5757.0  4.252736  1.328267  2.0  3.0  4.0  5.0  13.0"
      ]
     },
     "metadata": {},
     "output_type": "display_data"
    },
    {
     "data": {
      "image/png": "[encoded data removed]",
      "text/plain": [
       "<Figure size 432x288 with 1 Axes>"
      ]
     },
     "metadata": {
      "needs_background": "light"
     },
     "output_type": "display_data"
    },
    {
     "name": "stderr",
     "output_type": "stream",
     "text": [
      "[Parallel(n_jobs=5)]: Using backend LokyBackend with 5 concurrent workers.\n",
      "[Parallel(n_jobs=5)]: Done  34 tasks      | elapsed:    0.6s\n",
      "[Parallel(n_jobs=5)]: Done 226 tasks      | elapsed:    3.9s\n",
      "[Parallel(n_jobs=5)]: Done 546 tasks      | elapsed:    9.6s\n",
      "[Parallel(n_jobs=5)]: Done 994 tasks      | elapsed:   17.5s\n",
      "[Parallel(n_jobs=5)]: Done 1570 tasks      | elapsed:   27.9s\n",
      "[Parallel(n_jobs=5)]: Done 2274 tasks      | elapsed:   40.7s\n",
      "[Parallel(n_jobs=5)]: Done 3106 tasks      | elapsed:   57.1s\n",
      "[Parallel(n_jobs=5)]: Done 4066 tasks      | elapsed:  1.3min\n",
      "[Parallel(n_jobs=5)]: Done 5154 tasks      | elapsed:  1.6min\n",
      "[Parallel(n_jobs=5)]: Done 5748 out of 5757 | elapsed:  1.9min remaining:    0.2s\n",
      "[Parallel(n_jobs=5)]: Done 5757 out of 5757 | elapsed:  1.9min finished\n"
     ]
    },
    {
     "data": {
      "text/html": [
       "<div>\n",
       "<style scoped>\n",
       "    .dataframe tbody tr th:only-of-type {\n",
       "        vertical-align: middle;\n",
       "    }\n",
       "\n",
       "    .dataframe tbody tr th {\n",
       "        vertical-align: top;\n",
       "    }\n",
       "\n",
       "    .dataframe thead th {\n",
       "        text-align: right;\n",
       "    }\n",
       "</style>\n",
       "<table border=\"1\" class=\"dataframe\">\n",
       "  <thead>\n",
       "    <tr style=\"text-align: right;\">\n",
       "      <th></th>\n",
       "      <th>count</th>\n",
       "      <th>mean</th>\n",
       "      <th>std</th>\n",
       "      <th>min</th>\n",
       "      <th>25%</th>\n",
       "      <th>50%</th>\n",
       "      <th>75%</th>\n",
       "      <th>max</th>\n",
       "    </tr>\n",
       "  </thead>\n",
       "  <tbody>\n",
       "    <tr>\n",
       "      <th>0</th>\n",
       "      <td>5757.0</td>\n",
       "      <td>4.259163</td>\n",
       "      <td>1.2856</td>\n",
       "      <td>1.0</td>\n",
       "      <td>3.0</td>\n",
       "      <td>4.0</td>\n",
       "      <td>5.0</td>\n",
       "      <td>12.0</td>\n",
       "    </tr>\n",
       "  </tbody>\n",
       "</table>\n",
       "</div>"
      ],
      "text/plain": [
       "    count      mean     std  min  25%  50%  75%   max\n",
       "0  5757.0  4.259163  1.2856  1.0  3.0  4.0  5.0  12.0"
      ]
     },
     "metadata": {},
     "output_type": "display_data"
    },
    {
     "data": {
      "image/png": "[encoded data removed]",
      "text/plain": [
       "<Figure size 432x288 with 1 Axes>"
      ]
     },
     "metadata": {
      "needs_background": "light"
     },
     "output_type": "display_data"
    },
    {
     "name": "stderr",
     "output_type": "stream",
     "text": [
      "[Parallel(n_jobs=5)]: Using backend LokyBackend with 5 concurrent workers.\n",
      "[Parallel(n_jobs=5)]: Done  38 tasks      | elapsed:    0.7s\n",
      "[Parallel(n_jobs=5)]: Done 422 tasks      | elapsed:    7.7s\n",
      "[Parallel(n_jobs=5)]: Done 1062 tasks      | elapsed:   20.7s\n",
      "[Parallel(n_jobs=5)]: Done 1958 tasks      | elapsed:   38.8s\n",
      "[Parallel(n_jobs=5)]: Done 3110 tasks      | elapsed:  1.1min\n",
      "[Parallel(n_jobs=5)]: Done 4518 tasks      | elapsed:  1.5min\n",
      "[Parallel(n_jobs=5)]: Done 5757 out of 5757 | elapsed:  2.0min finished\n"
     ]
    },
    {
     "data": {
      "text/html": [
       "<div>\n",
       "<style scoped>\n",
       "    .dataframe tbody tr th:only-of-type {\n",
       "        vertical-align: middle;\n",
       "    }\n",
       "\n",
       "    .dataframe tbody tr th {\n",
       "        vertical-align: top;\n",
       "    }\n",
       "\n",
       "    .dataframe thead th {\n",
       "        text-align: right;\n",
       "    }\n",
       "</style>\n",
       "<table border=\"1\" class=\"dataframe\">\n",
       "  <thead>\n",
       "    <tr style=\"text-align: right;\">\n",
       "      <th></th>\n",
       "      <th>count</th>\n",
       "      <th>mean</th>\n",
       "      <th>std</th>\n",
       "      <th>min</th>\n",
       "      <th>25%</th>\n",
       "      <th>50%</th>\n",
       "      <th>75%</th>\n",
       "      <th>max</th>\n",
       "    </tr>\n",
       "  </thead>\n",
       "  <tbody>\n",
       "    <tr>\n",
       "      <th>0</th>\n",
       "      <td>5757.0</td>\n",
       "      <td>4.336113</td>\n",
       "      <td>1.309917</td>\n",
       "      <td>1.0</td>\n",
       "      <td>3.0</td>\n",
       "      <td>4.0</td>\n",
       "      <td>5.0</td>\n",
       "      <td>12.0</td>\n",
       "    </tr>\n",
       "  </tbody>\n",
       "</table>\n",
       "</div>"
      ],
      "text/plain": [
       "    count      mean       std  min  25%  50%  75%   max\n",
       "0  5757.0  4.336113  1.309917  1.0  3.0  4.0  5.0  12.0"
      ]
     },
     "metadata": {},
     "output_type": "display_data"
    },
    {
     "data": {
      "image/png": "[encoded data removed]",
      "text/plain": [
       "<Figure size 432x288 with 1 Axes>"
      ]
     },
     "metadata": {
      "needs_background": "light"
     },
     "output_type": "display_data"
    },
    {
     "name": "stderr",
     "output_type": "stream",
     "text": [
      "[Parallel(n_jobs=5)]: Using backend LokyBackend with 5 concurrent workers.\n",
      "[Parallel(n_jobs=5)]: Done  38 tasks      | elapsed:    0.8s\n",
      "[Parallel(n_jobs=5)]: Done 422 tasks      | elapsed:    7.6s\n",
      "[Parallel(n_jobs=5)]: Done 1062 tasks      | elapsed:   19.7s\n",
      "[Parallel(n_jobs=5)]: Done 1958 tasks      | elapsed:   37.0s\n",
      "[Parallel(n_jobs=5)]: Done 3110 tasks      | elapsed:   59.8s\n",
      "[Parallel(n_jobs=5)]: Done 4518 tasks      | elapsed:  1.5min\n",
      "[Parallel(n_jobs=5)]: Done 5757 out of 5757 | elapsed:  1.9min finished\n"
     ]
    },
    {
     "data": {
      "text/html": [
       "<div>\n",
       "<style scoped>\n",
       "    .dataframe tbody tr th:only-of-type {\n",
       "        vertical-align: middle;\n",
       "    }\n",
       "\n",
       "    .dataframe tbody tr th {\n",
       "        vertical-align: top;\n",
       "    }\n",
       "\n",
       "    .dataframe thead th {\n",
       "        text-align: right;\n",
       "    }\n",
       "</style>\n",
       "<table border=\"1\" class=\"dataframe\">\n",
       "  <thead>\n",
       "    <tr style=\"text-align: right;\">\n",
       "      <th></th>\n",
       "      <th>count</th>\n",
       "      <th>mean</th>\n",
       "      <th>std</th>\n",
       "      <th>min</th>\n",
       "      <th>25%</th>\n",
       "      <th>50%</th>\n",
       "      <th>75%</th>\n",
       "      <th>max</th>\n",
       "    </tr>\n",
       "  </thead>\n",
       "  <tbody>\n",
       "    <tr>\n",
       "      <th>0</th>\n",
       "      <td>5757.0</td>\n",
       "      <td>4.258642</td>\n",
       "      <td>1.310399</td>\n",
       "      <td>2.0</td>\n",
       "      <td>3.0</td>\n",
       "      <td>4.0</td>\n",
       "      <td>5.0</td>\n",
       "      <td>13.0</td>\n",
       "    </tr>\n",
       "  </tbody>\n",
       "</table>\n",
       "</div>"
      ],
      "text/plain": [
       "    count      mean       std  min  25%  50%  75%   max\n",
       "0  5757.0  4.258642  1.310399  2.0  3.0  4.0  5.0  13.0"
      ]
     },
     "metadata": {},
     "output_type": "display_data"
    },
    {
     "data": {
      "image/png": "[encoded data removed]",
      "text/plain": [
       "<Figure size 432x288 with 1 Axes>"
      ]
     },
     "metadata": {
      "needs_background": "light"
     },
     "output_type": "display_data"
    }
   ],
   "source": [
    "for word in top_singles2:\n",
    "    single_word_strategy(word)"
   ]
  },
  {
   "cell_type": "markdown",
   "id": "c3c5ce84-3298-4c24-86a9-e93d36bf9066",
   "metadata": {},
   "source": [
    "## Double-word Strategy"
   ]
  },
  {
   "cell_type": "code",
   "execution_count": 25,
   "id": "582f9372-8b1b-4932-b38c-2948bf177ac6",
   "metadata": {},
   "outputs": [],
   "source": [
    "def sim_wordle(input_word1, input_word2, solution):\n",
    "    feedback = ''\n",
    "    wordset = words_5k.copy()\n",
    "    tested_words = []\n",
    "    n_iter = 1\n",
    "    \n",
    "    input_word = input_word1\n",
    "\n",
    "    while feedback != 'GGGGG':\n",
    "\n",
    "        # Check solution\n",
    "        feedback = wordle(input_word, solution)\n",
    "        tested_words.append(input_word)\n",
    "\n",
    "        # Filter wordset\n",
    "        wordset = filter_wordset(input_word, feedback, wordset)\n",
    "        wordset = wordset.loc[~wordset.word.isin(tested_words)]\n",
    "\n",
    "        # Compute letter distribution of updated wordset\n",
    "        wordset_letterdist = compute_letter_distribution(wordset)\n",
    "        freqs = wordset_letterdist.sum().to_dict()\n",
    "\n",
    "        # Obtain scores\n",
    "        scores = wordset.word.apply(compute_score, freqs=freqs)\n",
    "        scores = pd.DataFrame({'word': wordset.word, 'score': scores}).sort_values('score', ascending=False)\n",
    "\n",
    "        # Set new input word\n",
    "        if scores.shape[0] > 0:\n",
    "            if len(tested_words) < 2:\n",
    "                input_word = input_word2\n",
    "            else:\n",
    "                input_word = scores.word.iloc[0]\n",
    "            n_iter += 1\n",
    "    return n_iter"
   ]
  },
  {
   "cell_type": "code",
   "execution_count": 26,
   "id": "c17a0415-8a2d-454e-9713-7b3c3976ce9e",
   "metadata": {},
   "outputs": [],
   "source": [
    "from tqdm.notebook import tqdm\n",
    "\n",
    "from joblib import Parallel, delayed"
   ]
  },
  {
   "cell_type": "markdown",
   "id": "0be919bd-f252-4050-90ec-c33434000d0d",
   "metadata": {},
   "source": [
    "### arose, built"
   ]
  },
  {
   "cell_type": "code",
   "execution_count": 27,
   "id": "dfd62362-3a4a-4f72-a014-f07e107c4c2a",
   "metadata": {},
   "outputs": [
    {
     "name": "stderr",
     "output_type": "stream",
     "text": [
      "[Parallel(n_jobs=5)]: Using backend LokyBackend with 5 concurrent workers.\n",
      "[Parallel(n_jobs=5)]: Done  22 tasks      | elapsed:    0.7s\n",
      "[Parallel(n_jobs=5)]: Done 206 tasks      | elapsed:    3.9s\n",
      "[Parallel(n_jobs=5)]: Done 526 tasks      | elapsed:    8.9s\n",
      "[Parallel(n_jobs=5)]: Done 974 tasks      | elapsed:   17.4s\n",
      "[Parallel(n_jobs=5)]: Done 1550 tasks      | elapsed:   29.0s\n",
      "[Parallel(n_jobs=5)]: Done 2254 tasks      | elapsed:   45.0s\n",
      "[Parallel(n_jobs=5)]: Done 3086 tasks      | elapsed:  1.1min\n",
      "[Parallel(n_jobs=5)]: Done 4046 tasks      | elapsed:  1.5min\n",
      "[Parallel(n_jobs=5)]: Done 5134 tasks      | elapsed:  1.9min\n",
      "[Parallel(n_jobs=5)]: Done 5757 out of 5757 | elapsed:  2.2min finished\n"
     ]
    }
   ],
   "source": [
    "input_word1 = 'arose'\n",
    "input_word2 = 'built'\n",
    "results = Parallel(n_jobs=5, verbose=3)(delayed(sim_wordle)(input_word1, input_word2, s) for s in words_5k.word)"
   ]
  },
  {
   "cell_type": "code",
   "execution_count": 29,
   "id": "bbb80f6f-87bb-4fb4-9638-3e3ac046c159",
   "metadata": {},
   "outputs": [
    {
     "data": {
      "text/html": [
       "<div>\n",
       "<style scoped>\n",
       "    .dataframe tbody tr th:only-of-type {\n",
       "        vertical-align: middle;\n",
       "    }\n",
       "\n",
       "    .dataframe tbody tr th {\n",
       "        vertical-align: top;\n",
       "    }\n",
       "\n",
       "    .dataframe thead th {\n",
       "        text-align: right;\n",
       "    }\n",
       "</style>\n",
       "<table border=\"1\" class=\"dataframe\">\n",
       "  <thead>\n",
       "    <tr style=\"text-align: right;\">\n",
       "      <th></th>\n",
       "      <th>count</th>\n",
       "      <th>mean</th>\n",
       "      <th>std</th>\n",
       "      <th>min</th>\n",
       "      <th>25%</th>\n",
       "      <th>50%</th>\n",
       "      <th>75%</th>\n",
       "      <th>max</th>\n",
       "    </tr>\n",
       "  </thead>\n",
       "  <tbody>\n",
       "    <tr>\n",
       "      <th>0</th>\n",
       "      <td>5757.0</td>\n",
       "      <td>4.316311</td>\n",
       "      <td>1.197997</td>\n",
       "      <td>1.0</td>\n",
       "      <td>4.0</td>\n",
       "      <td>4.0</td>\n",
       "      <td>5.0</td>\n",
       "      <td>12.0</td>\n",
       "    </tr>\n",
       "  </tbody>\n",
       "</table>\n",
       "</div>"
      ],
      "text/plain": [
       "    count      mean       std  min  25%  50%  75%   max\n",
       "0  5757.0  4.316311  1.197997  1.0  4.0  4.0  5.0  12.0"
      ]
     },
     "metadata": {},
     "output_type": "display_data"
    },
    {
     "data": {
      "image/png": "[encoded data removed]",
      "text/plain": [
       "<Figure size 432x288 with 1 Axes>"
      ]
     },
     "metadata": {
      "needs_background": "light"
     },
     "output_type": "display_data"
    }
   ],
   "source": [
    "performance = pd.Series(results)\n",
    "display(pd.DataFrame(performance.describe()).T)\n",
    "\n",
    "performance.plot.hist()\n",
    "plt.title(f'{input_word1}, {input_word2}')\n",
    "plt.show()"
   ]
  },
  {
   "cell_type": "markdown",
   "id": "1f01f369-b2a6-4f22-b014-f10b3f138c8f",
   "metadata": {},
   "source": [
    "### notes, acrid"
   ]
  },
  {
   "cell_type": "code",
   "execution_count": 30,
   "id": "f99e0daf-e34f-47e8-a276-622b436cbf19",
   "metadata": {},
   "outputs": [
    {
     "name": "stderr",
     "output_type": "stream",
     "text": [
      "[Parallel(n_jobs=5)]: Using backend LokyBackend with 5 concurrent workers.\n",
      "[Parallel(n_jobs=5)]: Done  34 tasks      | elapsed:    0.7s\n",
      "[Parallel(n_jobs=5)]: Done 226 tasks      | elapsed:    4.0s\n",
      "[Parallel(n_jobs=5)]: Done 546 tasks      | elapsed:    9.6s\n",
      "[Parallel(n_jobs=5)]: Done 994 tasks      | elapsed:   17.8s\n",
      "[Parallel(n_jobs=5)]: Done 1570 tasks      | elapsed:   27.9s\n",
      "[Parallel(n_jobs=5)]: Done 2274 tasks      | elapsed:   41.3s\n",
      "[Parallel(n_jobs=5)]: Done 3106 tasks      | elapsed:   57.2s\n",
      "[Parallel(n_jobs=5)]: Done 4066 tasks      | elapsed:  1.2min\n",
      "[Parallel(n_jobs=5)]: Done 5154 tasks      | elapsed:  1.6min\n",
      "[Parallel(n_jobs=5)]: Done 5757 out of 5757 | elapsed:  1.8min finished\n"
     ]
    }
   ],
   "source": [
    "input_word1 = 'notes'\n",
    "input_word2 = 'acrid'\n",
    "results = Parallel(n_jobs=5, verbose=3)(delayed(sim_wordle)(input_word1, input_word2, s) for s in words_5k.word)"
   ]
  },
  {
   "cell_type": "code",
   "execution_count": 31,
   "id": "717bd726-b554-4879-b687-d054daa86c84",
   "metadata": {},
   "outputs": [
    {
     "data": {
      "text/html": [
       "<div>\n",
       "<style scoped>\n",
       "    .dataframe tbody tr th:only-of-type {\n",
       "        vertical-align: middle;\n",
       "    }\n",
       "\n",
       "    .dataframe tbody tr th {\n",
       "        vertical-align: top;\n",
       "    }\n",
       "\n",
       "    .dataframe thead th {\n",
       "        text-align: right;\n",
       "    }\n",
       "</style>\n",
       "<table border=\"1\" class=\"dataframe\">\n",
       "  <thead>\n",
       "    <tr style=\"text-align: right;\">\n",
       "      <th></th>\n",
       "      <th>count</th>\n",
       "      <th>mean</th>\n",
       "      <th>std</th>\n",
       "      <th>min</th>\n",
       "      <th>25%</th>\n",
       "      <th>50%</th>\n",
       "      <th>75%</th>\n",
       "      <th>max</th>\n",
       "    </tr>\n",
       "  </thead>\n",
       "  <tbody>\n",
       "    <tr>\n",
       "      <th>0</th>\n",
       "      <td>5757.0</td>\n",
       "      <td>4.228418</td>\n",
       "      <td>1.158303</td>\n",
       "      <td>1.0</td>\n",
       "      <td>3.0</td>\n",
       "      <td>4.0</td>\n",
       "      <td>5.0</td>\n",
       "      <td>11.0</td>\n",
       "    </tr>\n",
       "  </tbody>\n",
       "</table>\n",
       "</div>"
      ],
      "text/plain": [
       "    count      mean       std  min  25%  50%  75%   max\n",
       "0  5757.0  4.228418  1.158303  1.0  3.0  4.0  5.0  11.0"
      ]
     },
     "metadata": {},
     "output_type": "display_data"
    },
    {
     "data": {
      "image/png": "[encoded data removed]",
      "text/plain": [
       "<Figure size 432x288 with 1 Axes>"
      ]
     },
     "metadata": {
      "needs_background": "light"
     },
     "output_type": "display_data"
    }
   ],
   "source": [
    "performance = pd.Series(results)\n",
    "display(pd.DataFrame(performance.describe()).T)\n",
    "\n",
    "performance.plot.hist()\n",
    "plt.title(f'{input_word1}, {input_word2}')\n",
    "plt.show()"
   ]
  },
  {
   "cell_type": "markdown",
   "id": "f93a1057-c984-4021-8b51-1d69166f7218",
   "metadata": {},
   "source": [
    "### resin, loath"
   ]
  },
  {
   "cell_type": "code",
   "execution_count": 45,
   "id": "7c21d48f-543e-4310-b3d6-9df7a3f6e650",
   "metadata": {},
   "outputs": [
    {
     "name": "stderr",
     "output_type": "stream",
     "text": [
      "[Parallel(n_jobs=5)]: Using backend LokyBackend with 5 concurrent workers.\n",
      "[Parallel(n_jobs=5)]: Done  22 tasks      | elapsed:    0.8s\n",
      "[Parallel(n_jobs=5)]: Done 206 tasks      | elapsed:    4.3s\n",
      "[Parallel(n_jobs=5)]: Done 526 tasks      | elapsed:    9.8s\n",
      "[Parallel(n_jobs=5)]: Done 974 tasks      | elapsed:   17.8s\n",
      "[Parallel(n_jobs=5)]: Done 1550 tasks      | elapsed:   28.6s\n",
      "[Parallel(n_jobs=5)]: Done 2254 tasks      | elapsed:   42.3s\n",
      "[Parallel(n_jobs=5)]: Done 3086 tasks      | elapsed:   58.0s\n",
      "[Parallel(n_jobs=5)]: Done 4046 tasks      | elapsed:  1.3min\n",
      "[Parallel(n_jobs=5)]: Done 5134 tasks      | elapsed:  1.6min\n",
      "[Parallel(n_jobs=5)]: Done 5757 out of 5757 | elapsed:  1.8min finished\n"
     ]
    }
   ],
   "source": [
    "input_word1 = 'resin'\n",
    "input_word2 = 'loath'\n",
    "results = Parallel(n_jobs=5, verbose=3)(delayed(sim_wordle)(input_word1, input_word2, s) for s in words_5k.word)"
   ]
  },
  {
   "cell_type": "code",
   "execution_count": 46,
   "id": "808ac1ec-e373-458c-a145-18e58fb5fac8",
   "metadata": {},
   "outputs": [
    {
     "data": {
      "text/html": [
       "<div>\n",
       "<style scoped>\n",
       "    .dataframe tbody tr th:only-of-type {\n",
       "        vertical-align: middle;\n",
       "    }\n",
       "\n",
       "    .dataframe tbody tr th {\n",
       "        vertical-align: top;\n",
       "    }\n",
       "\n",
       "    .dataframe thead th {\n",
       "        text-align: right;\n",
       "    }\n",
       "</style>\n",
       "<table border=\"1\" class=\"dataframe\">\n",
       "  <thead>\n",
       "    <tr style=\"text-align: right;\">\n",
       "      <th></th>\n",
       "      <th>count</th>\n",
       "      <th>mean</th>\n",
       "      <th>std</th>\n",
       "      <th>min</th>\n",
       "      <th>25%</th>\n",
       "      <th>50%</th>\n",
       "      <th>75%</th>\n",
       "      <th>max</th>\n",
       "    </tr>\n",
       "  </thead>\n",
       "  <tbody>\n",
       "    <tr>\n",
       "      <th>0</th>\n",
       "      <td>5757.0</td>\n",
       "      <td>4.244572</td>\n",
       "      <td>1.131214</td>\n",
       "      <td>1.0</td>\n",
       "      <td>3.0</td>\n",
       "      <td>4.0</td>\n",
       "      <td>5.0</td>\n",
       "      <td>12.0</td>\n",
       "    </tr>\n",
       "  </tbody>\n",
       "</table>\n",
       "</div>"
      ],
      "text/plain": [
       "    count      mean       std  min  25%  50%  75%   max\n",
       "0  5757.0  4.244572  1.131214  1.0  3.0  4.0  5.0  12.0"
      ]
     },
     "metadata": {},
     "output_type": "display_data"
    },
    {
     "data": {
      "image/png": "[encoded data removed]",
      "text/plain": [
       "<Figure size 432x288 with 1 Axes>"
      ]
     },
     "metadata": {
      "needs_background": "light"
     },
     "output_type": "display_data"
    }
   ],
   "source": [
    "performance = pd.Series(results)\n",
    "display(pd.DataFrame(performance.describe()).T)\n",
    "\n",
    "performance.plot.hist()\n",
    "plt.title(f'{input_word1}, {input_word2}')\n",
    "plt.show()"
   ]
  },
  {
   "cell_type": "markdown",
   "id": "641fd733-49dc-44d8-87ac-4cb84794344d",
   "metadata": {},
   "source": [
    "### tares, chino"
   ]
  },
  {
   "cell_type": "code",
   "execution_count": 47,
   "id": "408b25d8-4bc0-4adb-9d50-5e0dec114f99",
   "metadata": {},
   "outputs": [
    {
     "name": "stderr",
     "output_type": "stream",
     "text": [
      "[Parallel(n_jobs=5)]: Using backend LokyBackend with 5 concurrent workers.\n",
      "[Parallel(n_jobs=5)]: Done  38 tasks      | elapsed:    0.7s\n",
      "[Parallel(n_jobs=5)]: Done 422 tasks      | elapsed:    7.0s\n",
      "[Parallel(n_jobs=5)]: Done 1062 tasks      | elapsed:   18.1s\n",
      "[Parallel(n_jobs=5)]: Done 1958 tasks      | elapsed:   34.8s\n",
      "[Parallel(n_jobs=5)]: Done 3110 tasks      | elapsed:   59.3s\n",
      "[Parallel(n_jobs=5)]: Done 4518 tasks      | elapsed:  1.4min\n",
      "[Parallel(n_jobs=5)]: Done 5748 out of 5757 | elapsed:  1.8min remaining:    0.2s\n",
      "[Parallel(n_jobs=5)]: Done 5757 out of 5757 | elapsed:  1.8min finished\n"
     ]
    }
   ],
   "source": [
    "input_word1 = 'tares'\n",
    "input_word2 = 'chino'\n",
    "results = Parallel(n_jobs=5, verbose=3)(delayed(sim_wordle)(input_word1, input_word2, s) for s in words_5k.word)"
   ]
  },
  {
   "cell_type": "code",
   "execution_count": 48,
   "id": "ec555b35-9001-422b-8cb1-3a9488631154",
   "metadata": {},
   "outputs": [
    {
     "data": {
      "text/html": [
       "<div>\n",
       "<style scoped>\n",
       "    .dataframe tbody tr th:only-of-type {\n",
       "        vertical-align: middle;\n",
       "    }\n",
       "\n",
       "    .dataframe tbody tr th {\n",
       "        vertical-align: top;\n",
       "    }\n",
       "\n",
       "    .dataframe thead th {\n",
       "        text-align: right;\n",
       "    }\n",
       "</style>\n",
       "<table border=\"1\" class=\"dataframe\">\n",
       "  <thead>\n",
       "    <tr style=\"text-align: right;\">\n",
       "      <th></th>\n",
       "      <th>count</th>\n",
       "      <th>mean</th>\n",
       "      <th>std</th>\n",
       "      <th>min</th>\n",
       "      <th>25%</th>\n",
       "      <th>50%</th>\n",
       "      <th>75%</th>\n",
       "      <th>max</th>\n",
       "    </tr>\n",
       "  </thead>\n",
       "  <tbody>\n",
       "    <tr>\n",
       "      <th>0</th>\n",
       "      <td>5757.0</td>\n",
       "      <td>4.203057</td>\n",
       "      <td>1.152514</td>\n",
       "      <td>1.0</td>\n",
       "      <td>3.0</td>\n",
       "      <td>4.0</td>\n",
       "      <td>5.0</td>\n",
       "      <td>11.0</td>\n",
       "    </tr>\n",
       "  </tbody>\n",
       "</table>\n",
       "</div>"
      ],
      "text/plain": [
       "    count      mean       std  min  25%  50%  75%   max\n",
       "0  5757.0  4.203057  1.152514  1.0  3.0  4.0  5.0  11.0"
      ]
     },
     "metadata": {},
     "output_type": "display_data"
    },
    {
     "data": {
      "image/png": "[encoded data removed]",
      "text/plain": [
       "<Figure size 432x288 with 1 Axes>"
      ]
     },
     "metadata": {
      "needs_background": "light"
     },
     "output_type": "display_data"
    }
   ],
   "source": [
    "performance = pd.Series(results)\n",
    "display(pd.DataFrame(performance.describe()).T)\n",
    "\n",
    "performance.plot.hist()\n",
    "plt.title(f'{input_word1}, {input_word2}')\n",
    "plt.show()"
   ]
  },
  {
   "cell_type": "markdown",
   "id": "4db56efa-f1d9-42da-b934-337fb444841b",
   "metadata": {},
   "source": [
    "### senor, ducat"
   ]
  },
  {
   "cell_type": "code",
   "execution_count": 49,
   "id": "462ae804-5233-4cc9-aaa6-8c5fcb4fbf97",
   "metadata": {},
   "outputs": [
    {
     "name": "stderr",
     "output_type": "stream",
     "text": [
      "[Parallel(n_jobs=5)]: Using backend LokyBackend with 5 concurrent workers.\n",
      "[Parallel(n_jobs=5)]: Done  38 tasks      | elapsed:    0.7s\n",
      "[Parallel(n_jobs=5)]: Done 422 tasks      | elapsed:    7.0s\n",
      "[Parallel(n_jobs=5)]: Done 1062 tasks      | elapsed:   18.8s\n",
      "[Parallel(n_jobs=5)]: Done 1958 tasks      | elapsed:   35.2s\n",
      "[Parallel(n_jobs=5)]: Done 3110 tasks      | elapsed:   57.3s\n",
      "[Parallel(n_jobs=5)]: Done 4518 tasks      | elapsed:  1.4min\n",
      "[Parallel(n_jobs=5)]: Done 5757 out of 5757 | elapsed:  1.8min finished\n"
     ]
    }
   ],
   "source": [
    "input_word1 = 'senor'\n",
    "input_word2 = 'ducat'\n",
    "results = Parallel(n_jobs=5, verbose=3)(delayed(sim_wordle)(input_word1, input_word2, s) for s in words_5k.word)"
   ]
  },
  {
   "cell_type": "code",
   "execution_count": 50,
   "id": "16a06a3a-4e9b-4cb2-9a62-73c86f09fd98",
   "metadata": {},
   "outputs": [
    {
     "data": {
      "text/html": [
       "<div>\n",
       "<style scoped>\n",
       "    .dataframe tbody tr th:only-of-type {\n",
       "        vertical-align: middle;\n",
       "    }\n",
       "\n",
       "    .dataframe tbody tr th {\n",
       "        vertical-align: top;\n",
       "    }\n",
       "\n",
       "    .dataframe thead th {\n",
       "        text-align: right;\n",
       "    }\n",
       "</style>\n",
       "<table border=\"1\" class=\"dataframe\">\n",
       "  <thead>\n",
       "    <tr style=\"text-align: right;\">\n",
       "      <th></th>\n",
       "      <th>count</th>\n",
       "      <th>mean</th>\n",
       "      <th>std</th>\n",
       "      <th>min</th>\n",
       "      <th>25%</th>\n",
       "      <th>50%</th>\n",
       "      <th>75%</th>\n",
       "      <th>max</th>\n",
       "    </tr>\n",
       "  </thead>\n",
       "  <tbody>\n",
       "    <tr>\n",
       "      <th>0</th>\n",
       "      <td>5757.0</td>\n",
       "      <td>4.214521</td>\n",
       "      <td>1.112665</td>\n",
       "      <td>2.0</td>\n",
       "      <td>3.0</td>\n",
       "      <td>4.0</td>\n",
       "      <td>5.0</td>\n",
       "      <td>10.0</td>\n",
       "    </tr>\n",
       "  </tbody>\n",
       "</table>\n",
       "</div>"
      ],
      "text/plain": [
       "    count      mean       std  min  25%  50%  75%   max\n",
       "0  5757.0  4.214521  1.112665  2.0  3.0  4.0  5.0  10.0"
      ]
     },
     "metadata": {},
     "output_type": "display_data"
    },
    {
     "data": {
      "image/png": "[encoded data removed]",
      "text/plain": [
       "<Figure size 432x288 with 1 Axes>"
      ]
     },
     "metadata": {
      "needs_background": "light"
     },
     "output_type": "display_data"
    }
   ],
   "source": [
    "performance = pd.Series(results)\n",
    "display(pd.DataFrame(performance.describe()).T)\n",
    "\n",
    "performance.plot.hist()\n",
    "plt.title(f'{input_word1}, {input_word2}')\n",
    "plt.show()"
   ]
  },
  {
   "cell_type": "markdown",
   "id": "5810d143-6e1f-44ad-a964-4b5184053d2a",
   "metadata": {},
   "source": [
    "### pares, monty"
   ]
  },
  {
   "cell_type": "code",
   "execution_count": 114,
   "id": "38e3d0fa-dd15-4e7a-b3d3-7f6bc48dfdb6",
   "metadata": {},
   "outputs": [
    {
     "name": "stderr",
     "output_type": "stream",
     "text": [
      "[Parallel(n_jobs=5)]: Using backend LokyBackend with 5 concurrent workers.\n",
      "[Parallel(n_jobs=5)]: Done  34 tasks      | elapsed:    0.7s\n",
      "[Parallel(n_jobs=5)]: Done 226 tasks      | elapsed:    3.8s\n",
      "[Parallel(n_jobs=5)]: Done 546 tasks      | elapsed:    8.9s\n",
      "[Parallel(n_jobs=5)]: Done 994 tasks      | elapsed:   16.7s\n",
      "[Parallel(n_jobs=5)]: Done 1570 tasks      | elapsed:   27.0s\n",
      "[Parallel(n_jobs=5)]: Done 2274 tasks      | elapsed:   39.5s\n",
      "[Parallel(n_jobs=5)]: Done 3106 tasks      | elapsed:   54.8s\n",
      "[Parallel(n_jobs=5)]: Done 4066 tasks      | elapsed:  1.2min\n",
      "[Parallel(n_jobs=5)]: Done 5154 tasks      | elapsed:  1.6min\n",
      "[Parallel(n_jobs=5)]: Done 5748 out of 5757 | elapsed:  1.8min remaining:    0.2s\n",
      "[Parallel(n_jobs=5)]: Done 5757 out of 5757 | elapsed:  1.8min finished\n"
     ]
    }
   ],
   "source": [
    "input_word1 = 'pares'\n",
    "input_word2 = 'monty'\n",
    "results = Parallel(n_jobs=5, verbose=3)(delayed(sim_wordle)(input_word1, input_word2, s) for s in words_5k.word)"
   ]
  },
  {
   "cell_type": "code",
   "execution_count": 116,
   "id": "99dbaf2b-95ce-496a-975a-60d20709173b",
   "metadata": {},
   "outputs": [
    {
     "data": {
      "text/html": [
       "<div>\n",
       "<style scoped>\n",
       "    .dataframe tbody tr th:only-of-type {\n",
       "        vertical-align: middle;\n",
       "    }\n",
       "\n",
       "    .dataframe tbody tr th {\n",
       "        vertical-align: top;\n",
       "    }\n",
       "\n",
       "    .dataframe thead th {\n",
       "        text-align: right;\n",
       "    }\n",
       "</style>\n",
       "<table border=\"1\" class=\"dataframe\">\n",
       "  <thead>\n",
       "    <tr style=\"text-align: right;\">\n",
       "      <th></th>\n",
       "      <th>count</th>\n",
       "      <th>mean</th>\n",
       "      <th>std</th>\n",
       "      <th>min</th>\n",
       "      <th>25%</th>\n",
       "      <th>50%</th>\n",
       "      <th>75%</th>\n",
       "      <th>max</th>\n",
       "    </tr>\n",
       "  </thead>\n",
       "  <tbody>\n",
       "    <tr>\n",
       "      <th>0</th>\n",
       "      <td>5757.0</td>\n",
       "      <td>4.169533</td>\n",
       "      <td>1.065973</td>\n",
       "      <td>1.0</td>\n",
       "      <td>3.0</td>\n",
       "      <td>4.0</td>\n",
       "      <td>5.0</td>\n",
       "      <td>11.0</td>\n",
       "    </tr>\n",
       "  </tbody>\n",
       "</table>\n",
       "</div>"
      ],
      "text/plain": [
       "    count      mean       std  min  25%  50%  75%   max\n",
       "0  5757.0  4.169533  1.065973  1.0  3.0  4.0  5.0  11.0"
      ]
     },
     "metadata": {},
     "output_type": "display_data"
    },
    {
     "data": {
      "image/png": "[encoded data removed]",
      "text/plain": [
       "<Figure size 432x288 with 1 Axes>"
      ]
     },
     "metadata": {
      "needs_background": "light"
     },
     "output_type": "display_data"
    }
   ],
   "source": [
    "performance = pd.Series(results)\n",
    "display(pd.DataFrame(performance.describe()).T)\n",
    "\n",
    "performance.plot.hist()\n",
    "plt.title(f'{input_word1}, {input_word2}')\n",
    "plt.show()"
   ]
  },
  {
   "cell_type": "code",
   "execution_count": 204,
   "id": "d3f2a6fc-2ffc-4de5-bdd7-805a1c65d9d5",
   "metadata": {},
   "outputs": [],
   "source": [
    "def app_wordle_double(input_word1, input_word2):\n",
    "    feedback = ''\n",
    "    wordset = words_12k.copy()\n",
    "    tested_words = []\n",
    "    n_iter = 1\n",
    "    \n",
    "    input_word = input_word1\n",
    "\n",
    "    while feedback.lower() != 'ggggg' or feedback != 'quit':\n",
    "\n",
    "        # Check solution\n",
    "        feedback = input('Enter feedback:')\n",
    "        if feedback.lower() == 'quit':\n",
    "            return\n",
    "        tested_words.append(input_word)\n",
    "        print(f'[{n_iter}] Input: {input_word} | Feedback: {feedback}')\n",
    "\n",
    "        # Filter wordset\n",
    "        wordset = filter_wordset(input_word, feedback.upper(), wordset)\n",
    "        wordset = wordset.loc[~wordset.word.isin(tested_words)]\n",
    "\n",
    "        # Compute letter distribution of updated wordset\n",
    "        pos_scores = compute_pos_letter_distribution(wordset)\n",
    "\n",
    "        # Obtain scores\n",
    "        scores = wordset.word.apply(compute_pos_score, pos_scores=pos_scores)\n",
    "        scores = pd.DataFrame({'word': wordset.word, 'score': scores}).sort_values('score', ascending=False)\n",
    "\n",
    "        # Set new input word\n",
    "        if scores.shape[0] > 0:\n",
    "            if len(tested_words) < 2:\n",
    "                input_word = input_word2\n",
    "            else:\n",
    "                display(scores.head(10))\n",
    "                input_word = input('Choose a word:')\n",
    "                if input_word == 'quit':\n",
    "                    return\n",
    "            n_iter += 1\n",
    "    print(f'Solved in {n_iter} steps.')"
   ]
  },
  {
   "cell_type": "code",
   "execution_count": 161,
   "id": "f7cbd2eb-959a-45b5-a8b0-2f64e811ccae",
   "metadata": {},
   "outputs": [],
   "source": [
    "def compute_pos_letter_distribution(wordset):\n",
    "    pos_scores = {}\n",
    "    pos_scores[0] = wordset.word.str[0].value_counts().to_dict()\n",
    "    pos_scores[1] = wordset.word.str[1].value_counts().to_dict()\n",
    "    pos_scores[2] = wordset.word.str[2].value_counts().to_dict()\n",
    "    pos_scores[3] = wordset.word.str[3].value_counts().to_dict()\n",
    "    pos_scores[4] = wordset.word.str[4].value_counts().to_dict()\n",
    "    \n",
    "    return pos_scores"
   ]
  },
  {
   "cell_type": "code",
   "execution_count": 162,
   "id": "7a3ea8cd-a118-40c9-a9aa-a6cdbaf093cd",
   "metadata": {},
   "outputs": [],
   "source": [
    "def compute_pos_score(letters, pos_scores):\n",
    "    output = 0\n",
    "    for i, letter in enumerate(letters):\n",
    "        output += pos_scores[i][letter]\n",
    "    return output"
   ]
  },
  {
   "cell_type": "code",
   "execution_count": null,
   "id": "dc101c1c-6bc4-44c1-ba25-8d5e2494c27b",
   "metadata": {},
   "outputs": [],
   "source": [
    "GXYXX\n",
    "XXGXX"
   ]
  },
  {
   "cell_type": "code",
   "execution_count": 218,
   "id": "a4bfc346-e10e-45f4-bea0-ef53721b12d6",
   "metadata": {},
   "outputs": [
    {
     "name": "stdin",
     "output_type": "stream",
     "text": [
      "Enter feedback: gxxxx\n"
     ]
    },
    {
     "name": "stdout",
     "output_type": "stream",
     "text": [
      "[1] Input: pares | Feedback: gxxxx\n"
     ]
    },
    {
     "name": "stdin",
     "output_type": "stream",
     "text": [
      "Enter feedback: ygxxx\n"
     ]
    },
    {
     "name": "stdout",
     "output_type": "stream",
     "text": [
      "[2] Input: doilt | Feedback: ygxxx\n"
     ]
    },
    {
     "data": {
      "text/html": [
       "<div>\n",
       "<style scoped>\n",
       "    .dataframe tbody tr th:only-of-type {\n",
       "        vertical-align: middle;\n",
       "    }\n",
       "\n",
       "    .dataframe tbody tr th {\n",
       "        vertical-align: top;\n",
       "    }\n",
       "\n",
       "    .dataframe thead th {\n",
       "        text-align: right;\n",
       "    }\n",
       "</style>\n",
       "<table border=\"1\" class=\"dataframe\">\n",
       "  <thead>\n",
       "    <tr style=\"text-align: right;\">\n",
       "      <th></th>\n",
       "      <th>word</th>\n",
       "      <th>score</th>\n",
       "    </tr>\n",
       "  </thead>\n",
       "  <tbody>\n",
       "    <tr>\n",
       "      <th>8027</th>\n",
       "      <td>poddy</td>\n",
       "      <td>13</td>\n",
       "    </tr>\n",
       "    <tr>\n",
       "      <th>8030</th>\n",
       "      <td>podgy</td>\n",
       "      <td>13</td>\n",
       "    </tr>\n",
       "    <tr>\n",
       "      <th>8146</th>\n",
       "      <td>pound</td>\n",
       "      <td>13</td>\n",
       "    </tr>\n",
       "    <tr>\n",
       "      <th>8155</th>\n",
       "      <td>pownd</td>\n",
       "      <td>13</td>\n",
       "    </tr>\n",
       "  </tbody>\n",
       "</table>\n",
       "</div>"
      ],
      "text/plain": [
       "       word  score\n",
       "8027  poddy     13\n",
       "8030  podgy     13\n",
       "8146  pound     13\n",
       "8155  pownd     13"
      ]
     },
     "metadata": {},
     "output_type": "display_data"
    },
    {
     "name": "stdin",
     "output_type": "stream",
     "text": [
      "Choose a word: quit\n"
     ]
    }
   ],
   "source": [
    "app_wordle_double('pares', 'doilt')"
   ]
  },
  {
   "cell_type": "code",
   "execution_count": null,
   "id": "75994f52-d12e-4d11-a3a2-d5884bb1f52c",
   "metadata": {},
   "outputs": [],
   "source": []
  }
 ],
 "metadata": {
  "kernelspec": {
   "display_name": "datascience",
   "language": "python",
   "name": "datascience"
  },
  "language_info": {
   "codemirror_mode": {
    "name": "ipython",
    "version": 3
   },
   "file_extension": ".py",
   "mimetype": "text/x-python",
   "name": "python",
   "nbconvert_exporter": "python",
   "pygments_lexer": "ipython3",
   "version": "3.9.7"
  }
 },
 "nbformat": 4,
 "nbformat_minor": 5
}
