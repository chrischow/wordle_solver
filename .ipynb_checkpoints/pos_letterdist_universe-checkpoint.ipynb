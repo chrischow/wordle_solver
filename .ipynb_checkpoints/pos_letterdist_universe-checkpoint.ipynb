{
 "cells": [
  {
   "cell_type": "markdown",
   "id": "46f5f195-b109-46a0-bd49-088a776eac72",
   "metadata": {},
   "source": [
    "# Universe"
   ]
  },
  {
   "cell_type": "code",
   "execution_count": 17,
   "id": "37980757-39a9-460f-9a30-923acf10125c",
   "metadata": {},
   "outputs": [],
   "source": [
    "import matplotlib.pyplot as plt\n",
    "import numpy as np\n",
    "import pandas as pd\n",
    "\n",
    "from joblib import Parallel, delayed"
   ]
  },
  {
   "cell_type": "markdown",
   "id": "a947c5b2-51fb-4815-9979-d6b0041ed4e6",
   "metadata": {},
   "source": [
    "## Load Words"
   ]
  },
  {
   "cell_type": "code",
   "execution_count": 18,
   "id": "caf8ccf3-95dd-44f9-bede-5196342e14af",
   "metadata": {},
   "outputs": [],
   "source": [
    "words_12k = pd.read_csv('words_12k.csv')\n",
    "words_5k = pd.read_csv('words_5k.csv')\n",
    "words_all = pd.read_table('data/en_words_1_5-5.txt', delimiter=' ', header=None, index_col=None,\n",
    "                         names=['word_len', 'word_freq', 'n_articles']).reset_index()\n",
    "words_all = words_all.rename(columns={'index': 'word'})"
   ]
  },
  {
   "cell_type": "code",
   "execution_count": 19,
   "id": "464328f5-d7aa-499e-8350-b9260afef5b0",
   "metadata": {},
   "outputs": [],
   "source": [
    "# Filter by english\n",
    "alphabet = list('abcdefghijklmnopqrstuvwxyz')\n",
    "words_all = words_all.loc[words_all.word.apply(lambda x: all([l in alphabet for l in x]))].reset_index(drop=True)\n",
    "\n",
    "# At least 100\n",
    "words_all = words_all.loc[words_all.word_freq.ge(100)]"
   ]
  },
  {
   "cell_type": "markdown",
   "id": "5b55ae60-4441-487b-b70b-a4fe391299ba",
   "metadata": {
    "tags": []
   },
   "source": [
    "## Game Logic"
   ]
  },
  {
   "cell_type": "code",
   "execution_count": 20,
   "id": "d15a6a1e-fc60-43cf-bc81-a713cf99674a",
   "metadata": {},
   "outputs": [],
   "source": [
    "def wordle(input_word, solution):\n",
    "    output = ''\n",
    "    for i in range(5):\n",
    "        if input_word[i] == solution[i]:\n",
    "            output += 'G'\n",
    "        elif input_word[i] in solution:\n",
    "            output += 'Y'\n",
    "        else:\n",
    "            output += 'X'\n",
    "    return output"
   ]
  },
  {
   "cell_type": "code",
   "execution_count": 21,
   "id": "ee3f3b27-ebc1-4469-a178-1fe7b6215069",
   "metadata": {},
   "outputs": [],
   "source": [
    "def filter_wordset(input_word, feedback, wordset):\n",
    "    newset = wordset.copy()\n",
    "    for i in range(5):\n",
    "        if feedback[i] == 'G':\n",
    "            newset = newset.loc[newset.word.str[i] == input_word[i]]\n",
    "        elif feedback[i] == 'Y':\n",
    "            # newset = newset.loc[newset.word.str.contains(input_word[i])]\n",
    "            newset = newset.loc[newset.word.str.contains(input_word[i]) & newset.word.apply(lambda x: x[i] != input_word[i])]\n",
    "        else:\n",
    "            newset = newset.loc[~newset.word.str.contains(input_word[i])]\n",
    "    return newset"
   ]
  },
  {
   "cell_type": "code",
   "execution_count": 22,
   "id": "70b4c7dd-79c2-43ad-803c-9008d41091b7",
   "metadata": {},
   "outputs": [],
   "source": [
    "def compute_pos_letter_distribution(wordset):\n",
    "    pos_scores = {}\n",
    "    pos_scores[0] = wordset.word.str[0].value_counts().to_dict()\n",
    "    pos_scores[1] = wordset.word.str[1].value_counts().to_dict()\n",
    "    pos_scores[2] = wordset.word.str[2].value_counts().to_dict()\n",
    "    pos_scores[3] = wordset.word.str[3].value_counts().to_dict()\n",
    "    pos_scores[4] = wordset.word.str[4].value_counts().to_dict()\n",
    "    \n",
    "    return pos_scores"
   ]
  },
  {
   "cell_type": "code",
   "execution_count": 23,
   "id": "069bbede-5389-4030-8d07-163116bf0cb1",
   "metadata": {},
   "outputs": [],
   "source": [
    "def compute_pos_score(letters, pos_scores):\n",
    "    output = 0\n",
    "    for i, letter in enumerate(letters):\n",
    "        output += pos_scores[i][letter]\n",
    "    return output"
   ]
  },
  {
   "cell_type": "markdown",
   "id": "a89e7995-fd47-4bc6-af51-13a49dc14539",
   "metadata": {},
   "source": [
    "## Setup"
   ]
  },
  {
   "cell_type": "code",
   "execution_count": 24,
   "id": "fb26bcef-e022-4aae-80e3-d32222c654b6",
   "metadata": {},
   "outputs": [],
   "source": [
    "pos_scores = compute_pos_letter_distribution(words_12k)\n",
    "global_fl_scores = words_12k.word.apply(compute_pos_score, pos_scores=pos_scores)\n",
    "global_fl_scores = pd.DataFrame({'word': words_12k.word, 'score': global_fl_scores}).sort_values('score', ascending=False)"
   ]
  },
  {
   "cell_type": "code",
   "execution_count": 25,
   "id": "dcf11375-50d3-48d4-81a8-d0f5a78fd468",
   "metadata": {},
   "outputs": [],
   "source": [
    "# Merge additional data\n",
    "words_12k = words_12k.merge(words_all[['word', 'word_freq', 'n_articles']], how='left', left_on='word', right_on='word')\n",
    "words_12k = words_12k.fillna(0)\n",
    "\n",
    "words_5k = words_5k.merge(words_all[['word', 'word_freq', 'n_articles']], how='left', left_on='word', right_on='word')\n",
    "words_5k = words_5k.fillna(0)\n",
    "\n",
    "# Merge additional data\n",
    "global_fl_scores = global_fl_scores.merge(words_all[['word', 'word_freq', 'n_articles']], how='left', left_on='word', right_on='word')\n",
    "global_fl_scores = global_fl_scores.fillna(0)"
   ]
  },
  {
   "cell_type": "markdown",
   "id": "4ba5c7a1-3e14-4a8f-b904-7aa9c737d302",
   "metadata": {},
   "source": [
    "## Double-word Strategy"
   ]
  },
  {
   "cell_type": "code",
   "execution_count": 26,
   "id": "a71c5743-df8d-47e4-b697-b7db0db61287",
   "metadata": {},
   "outputs": [],
   "source": [
    "def sim_wordle_double(input_word1, input_word2, solution):\n",
    "    feedback = ''\n",
    "    wordset = words_5k.copy()\n",
    "    tested_words = []\n",
    "    n_iter = 1\n",
    "    \n",
    "    input_word = input_word1\n",
    "\n",
    "    while feedback != 'GGGGG':\n",
    "\n",
    "        # Check solution\n",
    "        feedback = wordle(input_word, solution)\n",
    "        tested_words.append(input_word)\n",
    "        # print(f'[{n_iter}] Input: {input_word} | Feedback: {feedback}')\n",
    "\n",
    "        # Filter wordset\n",
    "        wordset = filter_wordset(input_word, feedback, wordset)\n",
    "        wordset = wordset.loc[~wordset.word.isin(tested_words)]\n",
    "\n",
    "        # Compute letter distribution of updated wordset\n",
    "        pos_scores = compute_pos_letter_distribution(wordset)\n",
    "\n",
    "        # Obtain scores\n",
    "        scores = wordset.word.apply(compute_pos_score, pos_scores=pos_scores)\n",
    "        scores = pd.DataFrame({'word': wordset.word, 'score': scores,\n",
    "                              'word_freq': wordset.word_freq,\n",
    "                              'n_articles': wordset.n_articles}).sort_values('score', ascending=False)\n",
    "        scores = scores.sort_values(['score', 'n_articles'], ascending=False)\n",
    "        # display(scores.head(10))\n",
    "\n",
    "        # Set new input word\n",
    "        if scores.shape[0] > 0:\n",
    "            if len(tested_words) < 2:\n",
    "                input_word = input_word2\n",
    "            else:\n",
    "                input_word = scores.word.iloc[0]\n",
    "            n_iter += 1\n",
    "    return n_iter"
   ]
  },
  {
   "cell_type": "code",
   "execution_count": 27,
   "id": "b6dfe248-027e-4c83-a1cb-3918ce855b0a",
   "metadata": {},
   "outputs": [],
   "source": [
    "def double_word_strategy(input_word1, input_word2):\n",
    "    results = Parallel(n_jobs=5, verbose=3)(delayed(sim_wordle_double)(input_word1, input_word2, s) for s in words_5k.word)\n",
    "    performance = pd.Series(results)\n",
    "    \n",
    "    results = pd.DataFrame(performance.describe()).T\n",
    "    results['word1'] = input_word1\n",
    "    results['word2'] = input_word2\n",
    "    display(results)\n",
    "    \n",
    "    return results\n",
    "\n",
    "    # performance.plot.hist()\n",
    "    # plt.title(f'{input_word1}, {input_word2}')\n",
    "    # plt.show()"
   ]
  },
  {
   "cell_type": "code",
   "execution_count": 28,
   "id": "2d746420-52a3-4517-80cc-16eebfb127aa",
   "metadata": {},
   "outputs": [],
   "source": [
    "def find_second_pos(word, two_vowel=True):\n",
    "    letters = list(word)\n",
    "    candidates = global_fl_scores.loc[global_fl_scores.word.apply(lambda x: all([l not in letters for l in x]))]\n",
    "    candidates = candidates.loc[candidates.word.apply(lambda x: len(x) == len(set(x)))]\n",
    "    if two_vowel:\n",
    "        candidates = candidates.loc[\n",
    "            candidates.word.apply(lambda x: x.count('a') + x.count('e') + \\\n",
    "                                  x.count('i') + x.count('o') + x.count('u') >= 2)\n",
    "        ]\n",
    "    return candidates.head(20)"
   ]
  },
  {
   "cell_type": "code",
   "execution_count": 29,
   "id": "b1cfedec-2324-46f8-b817-201850748002",
   "metadata": {},
   "outputs": [
    {
     "data": {
      "text/html": [
       "<div>\n",
       "<style scoped>\n",
       "    .dataframe tbody tr th:only-of-type {\n",
       "        vertical-align: middle;\n",
       "    }\n",
       "\n",
       "    .dataframe tbody tr th {\n",
       "        vertical-align: top;\n",
       "    }\n",
       "\n",
       "    .dataframe thead th {\n",
       "        text-align: right;\n",
       "    }\n",
       "</style>\n",
       "<table border=\"1\" class=\"dataframe\">\n",
       "  <thead>\n",
       "    <tr style=\"text-align: right;\">\n",
       "      <th></th>\n",
       "      <th>word</th>\n",
       "      <th>score</th>\n",
       "      <th>word_freq</th>\n",
       "      <th>n_articles</th>\n",
       "    </tr>\n",
       "  </thead>\n",
       "  <tbody>\n",
       "    <tr>\n",
       "      <th>7</th>\n",
       "      <td>cares</td>\n",
       "      <td>10266</td>\n",
       "      <td>708.0</td>\n",
       "      <td>573.0</td>\n",
       "    </tr>\n",
       "    <tr>\n",
       "      <th>8</th>\n",
       "      <td>bares</td>\n",
       "      <td>10249</td>\n",
       "      <td>0.0</td>\n",
       "      <td>0.0</td>\n",
       "    </tr>\n",
       "    <tr>\n",
       "      <th>10</th>\n",
       "      <td>pares</td>\n",
       "      <td>10199</td>\n",
       "      <td>175.0</td>\n",
       "      <td>133.0</td>\n",
       "    </tr>\n",
       "    <tr>\n",
       "      <th>11</th>\n",
       "      <td>tares</td>\n",
       "      <td>10165</td>\n",
       "      <td>0.0</td>\n",
       "      <td>0.0</td>\n",
       "    </tr>\n",
       "    <tr>\n",
       "      <th>12</th>\n",
       "      <td>cores</td>\n",
       "      <td>10116</td>\n",
       "      <td>1270.0</td>\n",
       "      <td>827.0</td>\n",
       "    </tr>\n",
       "    <tr>\n",
       "      <th>14</th>\n",
       "      <td>bores</td>\n",
       "      <td>10099</td>\n",
       "      <td>213.0</td>\n",
       "      <td>181.0</td>\n",
       "    </tr>\n",
       "    <tr>\n",
       "      <th>18</th>\n",
       "      <td>pores</td>\n",
       "      <td>10049</td>\n",
       "      <td>681.0</td>\n",
       "      <td>533.0</td>\n",
       "    </tr>\n",
       "    <tr>\n",
       "      <th>19</th>\n",
       "      <td>mares</td>\n",
       "      <td>10044</td>\n",
       "      <td>1000.0</td>\n",
       "      <td>752.0</td>\n",
       "    </tr>\n",
       "    <tr>\n",
       "      <th>20</th>\n",
       "      <td>canes</td>\n",
       "      <td>10041</td>\n",
       "      <td>343.0</td>\n",
       "      <td>261.0</td>\n",
       "    </tr>\n",
       "    <tr>\n",
       "      <th>21</th>\n",
       "      <td>dares</td>\n",
       "      <td>10028</td>\n",
       "      <td>226.0</td>\n",
       "      <td>165.0</td>\n",
       "    </tr>\n",
       "  </tbody>\n",
       "</table>\n",
       "</div>"
      ],
      "text/plain": [
       "     word  score  word_freq  n_articles\n",
       "7   cares  10266      708.0       573.0\n",
       "8   bares  10249        0.0         0.0\n",
       "10  pares  10199      175.0       133.0\n",
       "11  tares  10165        0.0         0.0\n",
       "12  cores  10116     1270.0       827.0\n",
       "14  bores  10099      213.0       181.0\n",
       "18  pores  10049      681.0       533.0\n",
       "19  mares  10044     1000.0       752.0\n",
       "20  canes  10041      343.0       261.0\n",
       "21  dares  10028      226.0       165.0"
      ]
     },
     "execution_count": 29,
     "metadata": {},
     "output_type": "execute_result"
    }
   ],
   "source": [
    "top_singles = global_fl_scores.loc[global_fl_scores.word.apply(lambda x: len(x) == len(set(x)))].word.head(10)\n",
    "global_fl_scores.loc[global_fl_scores.word.apply(lambda x: len(x) == len(set(x)))].head(10)"
   ]
  },
  {
   "cell_type": "code",
   "execution_count": 31,
   "id": "6a88709f-92bd-4366-9177-0a11712b20c6",
   "metadata": {
    "scrolled": true,
    "tags": []
   },
   "outputs": [
    {
     "name": "stdout",
     "output_type": "stream",
     "text": [
      "--------------------\n",
      "cares\n",
      "--------------------\n",
      "['doily', 'pouty', 'poind', 'gouty', 'noily']\n",
      "[---- cares, doily ----]\n"
     ]
    },
    {
     "name": "stderr",
     "output_type": "stream",
     "text": [
      "[Parallel(n_jobs=5)]: Using backend LokyBackend with 5 concurrent workers.\n",
      "[Parallel(n_jobs=5)]: Done  38 tasks      | elapsed:    0.4s\n",
      "[Parallel(n_jobs=5)]: Done 774 tasks      | elapsed:    5.6s\n",
      "[Parallel(n_jobs=5)]: Done 2054 tasks      | elapsed:   14.6s\n",
      "[Parallel(n_jobs=5)]: Done 3846 tasks      | elapsed:   28.5s\n",
      "[Parallel(n_jobs=5)]: Done 5748 out of 5757 | elapsed:   44.6s remaining:    0.1s\n",
      "[Parallel(n_jobs=5)]: Done 5757 out of 5757 | elapsed:   44.7s finished\n"
     ]
    },
    {
     "data": {
      "text/html": [
       "<div>\n",
       "<style scoped>\n",
       "    .dataframe tbody tr th:only-of-type {\n",
       "        vertical-align: middle;\n",
       "    }\n",
       "\n",
       "    .dataframe tbody tr th {\n",
       "        vertical-align: top;\n",
       "    }\n",
       "\n",
       "    .dataframe thead th {\n",
       "        text-align: right;\n",
       "    }\n",
       "</style>\n",
       "<table border=\"1\" class=\"dataframe\">\n",
       "  <thead>\n",
       "    <tr style=\"text-align: right;\">\n",
       "      <th></th>\n",
       "      <th>count</th>\n",
       "      <th>mean</th>\n",
       "      <th>std</th>\n",
       "      <th>min</th>\n",
       "      <th>25%</th>\n",
       "      <th>50%</th>\n",
       "      <th>75%</th>\n",
       "      <th>max</th>\n",
       "      <th>word1</th>\n",
       "      <th>word2</th>\n",
       "    </tr>\n",
       "  </thead>\n",
       "  <tbody>\n",
       "    <tr>\n",
       "      <th>0</th>\n",
       "      <td>5757.0</td>\n",
       "      <td>4.31301</td>\n",
       "      <td>1.238144</td>\n",
       "      <td>1.0</td>\n",
       "      <td>3.0</td>\n",
       "      <td>4.0</td>\n",
       "      <td>5.0</td>\n",
       "      <td>13.0</td>\n",
       "      <td>cares</td>\n",
       "      <td>doily</td>\n",
       "    </tr>\n",
       "  </tbody>\n",
       "</table>\n",
       "</div>"
      ],
      "text/plain": [
       "    count     mean       std  min  25%  50%  75%   max  word1  word2\n",
       "0  5757.0  4.31301  1.238144  1.0  3.0  4.0  5.0  13.0  cares  doily"
      ]
     },
     "metadata": {},
     "output_type": "display_data"
    },
    {
     "name": "stderr",
     "output_type": "stream",
     "text": [
      "[Parallel(n_jobs=5)]: Using backend LokyBackend with 5 concurrent workers.\n"
     ]
    },
    {
     "name": "stdout",
     "output_type": "stream",
     "text": [
      "[---- cares, pouty ----]\n"
     ]
    },
    {
     "name": "stderr",
     "output_type": "stream",
     "text": [
      "[Parallel(n_jobs=5)]: Done  38 tasks      | elapsed:    0.3s\n",
      "[Parallel(n_jobs=5)]: Done 774 tasks      | elapsed:    5.7s\n",
      "[Parallel(n_jobs=5)]: Done 2054 tasks      | elapsed:   15.5s\n",
      "[Parallel(n_jobs=5)]: Done 3846 tasks      | elapsed:   30.0s\n",
      "[Parallel(n_jobs=5)]: Done 5757 out of 5757 | elapsed:   45.6s finished\n"
     ]
    },
    {
     "data": {
      "text/html": [
       "<div>\n",
       "<style scoped>\n",
       "    .dataframe tbody tr th:only-of-type {\n",
       "        vertical-align: middle;\n",
       "    }\n",
       "\n",
       "    .dataframe tbody tr th {\n",
       "        vertical-align: top;\n",
       "    }\n",
       "\n",
       "    .dataframe thead th {\n",
       "        text-align: right;\n",
       "    }\n",
       "</style>\n",
       "<table border=\"1\" class=\"dataframe\">\n",
       "  <thead>\n",
       "    <tr style=\"text-align: right;\">\n",
       "      <th></th>\n",
       "      <th>count</th>\n",
       "      <th>mean</th>\n",
       "      <th>std</th>\n",
       "      <th>min</th>\n",
       "      <th>25%</th>\n",
       "      <th>50%</th>\n",
       "      <th>75%</th>\n",
       "      <th>max</th>\n",
       "      <th>word1</th>\n",
       "      <th>word2</th>\n",
       "    </tr>\n",
       "  </thead>\n",
       "  <tbody>\n",
       "    <tr>\n",
       "      <th>0</th>\n",
       "      <td>5757.0</td>\n",
       "      <td>4.298072</td>\n",
       "      <td>1.205624</td>\n",
       "      <td>1.0</td>\n",
       "      <td>3.0</td>\n",
       "      <td>4.0</td>\n",
       "      <td>5.0</td>\n",
       "      <td>11.0</td>\n",
       "      <td>cares</td>\n",
       "      <td>pouty</td>\n",
       "    </tr>\n",
       "  </tbody>\n",
       "</table>\n",
       "</div>"
      ],
      "text/plain": [
       "    count      mean       std  min  25%  50%  75%   max  word1  word2\n",
       "0  5757.0  4.298072  1.205624  1.0  3.0  4.0  5.0  11.0  cares  pouty"
      ]
     },
     "metadata": {},
     "output_type": "display_data"
    },
    {
     "name": "stderr",
     "output_type": "stream",
     "text": [
      "[Parallel(n_jobs=5)]: Using backend LokyBackend with 5 concurrent workers.\n"
     ]
    },
    {
     "name": "stdout",
     "output_type": "stream",
     "text": [
      "[---- cares, poind ----]\n"
     ]
    },
    {
     "name": "stderr",
     "output_type": "stream",
     "text": [
      "[Parallel(n_jobs=5)]: Done  38 tasks      | elapsed:    0.4s\n",
      "[Parallel(n_jobs=5)]: Done 754 tasks      | elapsed:    5.5s\n",
      "[Parallel(n_jobs=5)]: Done 2034 tasks      | elapsed:   15.2s\n",
      "[Parallel(n_jobs=5)]: Done 3826 tasks      | elapsed:   29.6s\n",
      "[Parallel(n_jobs=5)]: Done 5757 out of 5757 | elapsed:   45.4s finished\n"
     ]
    },
    {
     "data": {
      "text/html": [
       "<div>\n",
       "<style scoped>\n",
       "    .dataframe tbody tr th:only-of-type {\n",
       "        vertical-align: middle;\n",
       "    }\n",
       "\n",
       "    .dataframe tbody tr th {\n",
       "        vertical-align: top;\n",
       "    }\n",
       "\n",
       "    .dataframe thead th {\n",
       "        text-align: right;\n",
       "    }\n",
       "</style>\n",
       "<table border=\"1\" class=\"dataframe\">\n",
       "  <thead>\n",
       "    <tr style=\"text-align: right;\">\n",
       "      <th></th>\n",
       "      <th>count</th>\n",
       "      <th>mean</th>\n",
       "      <th>std</th>\n",
       "      <th>min</th>\n",
       "      <th>25%</th>\n",
       "      <th>50%</th>\n",
       "      <th>75%</th>\n",
       "      <th>max</th>\n",
       "      <th>word1</th>\n",
       "      <th>word2</th>\n",
       "    </tr>\n",
       "  </thead>\n",
       "  <tbody>\n",
       "    <tr>\n",
       "      <th>0</th>\n",
       "      <td>5757.0</td>\n",
       "      <td>4.222512</td>\n",
       "      <td>1.159752</td>\n",
       "      <td>1.0</td>\n",
       "      <td>3.0</td>\n",
       "      <td>4.0</td>\n",
       "      <td>5.0</td>\n",
       "      <td>11.0</td>\n",
       "      <td>cares</td>\n",
       "      <td>poind</td>\n",
       "    </tr>\n",
       "  </tbody>\n",
       "</table>\n",
       "</div>"
      ],
      "text/plain": [
       "    count      mean       std  min  25%  50%  75%   max  word1  word2\n",
       "0  5757.0  4.222512  1.159752  1.0  3.0  4.0  5.0  11.0  cares  poind"
      ]
     },
     "metadata": {},
     "output_type": "display_data"
    },
    {
     "name": "stderr",
     "output_type": "stream",
     "text": [
      "[Parallel(n_jobs=5)]: Using backend LokyBackend with 5 concurrent workers.\n"
     ]
    },
    {
     "name": "stdout",
     "output_type": "stream",
     "text": [
      "[---- cares, gouty ----]\n"
     ]
    },
    {
     "name": "stderr",
     "output_type": "stream",
     "text": [
      "[Parallel(n_jobs=5)]: Done  38 tasks      | elapsed:    0.4s\n",
      "[Parallel(n_jobs=5)]: Done 422 tasks      | elapsed:    3.3s\n",
      "[Parallel(n_jobs=5)]: Done 1062 tasks      | elapsed:    8.4s\n",
      "[Parallel(n_jobs=5)]: Done 1958 tasks      | elapsed:   15.5s\n",
      "[Parallel(n_jobs=5)]: Done 3110 tasks      | elapsed:   25.2s\n",
      "[Parallel(n_jobs=5)]: Done 4518 tasks      | elapsed:   37.3s\n",
      "[Parallel(n_jobs=5)]: Done 5757 out of 5757 | elapsed:   48.0s finished\n"
     ]
    },
    {
     "data": {
      "text/html": [
       "<div>\n",
       "<style scoped>\n",
       "    .dataframe tbody tr th:only-of-type {\n",
       "        vertical-align: middle;\n",
       "    }\n",
       "\n",
       "    .dataframe tbody tr th {\n",
       "        vertical-align: top;\n",
       "    }\n",
       "\n",
       "    .dataframe thead th {\n",
       "        text-align: right;\n",
       "    }\n",
       "</style>\n",
       "<table border=\"1\" class=\"dataframe\">\n",
       "  <thead>\n",
       "    <tr style=\"text-align: right;\">\n",
       "      <th></th>\n",
       "      <th>count</th>\n",
       "      <th>mean</th>\n",
       "      <th>std</th>\n",
       "      <th>min</th>\n",
       "      <th>25%</th>\n",
       "      <th>50%</th>\n",
       "      <th>75%</th>\n",
       "      <th>max</th>\n",
       "      <th>word1</th>\n",
       "      <th>word2</th>\n",
       "    </tr>\n",
       "  </thead>\n",
       "  <tbody>\n",
       "    <tr>\n",
       "      <th>0</th>\n",
       "      <td>5757.0</td>\n",
       "      <td>4.397603</td>\n",
       "      <td>1.268976</td>\n",
       "      <td>1.0</td>\n",
       "      <td>4.0</td>\n",
       "      <td>4.0</td>\n",
       "      <td>5.0</td>\n",
       "      <td>12.0</td>\n",
       "      <td>cares</td>\n",
       "      <td>gouty</td>\n",
       "    </tr>\n",
       "  </tbody>\n",
       "</table>\n",
       "</div>"
      ],
      "text/plain": [
       "    count      mean       std  min  25%  50%  75%   max  word1  word2\n",
       "0  5757.0  4.397603  1.268976  1.0  4.0  4.0  5.0  12.0  cares  gouty"
      ]
     },
     "metadata": {},
     "output_type": "display_data"
    },
    {
     "name": "stderr",
     "output_type": "stream",
     "text": [
      "[Parallel(n_jobs=5)]: Using backend LokyBackend with 5 concurrent workers.\n"
     ]
    },
    {
     "name": "stdout",
     "output_type": "stream",
     "text": [
      "[---- cares, noily ----]\n"
     ]
    },
    {
     "name": "stderr",
     "output_type": "stream",
     "text": [
      "[Parallel(n_jobs=5)]: Done  38 tasks      | elapsed:    0.3s\n",
      "[Parallel(n_jobs=5)]: Done 774 tasks      | elapsed:    5.7s\n",
      "[Parallel(n_jobs=5)]: Done 2054 tasks      | elapsed:   17.0s\n",
      "[Parallel(n_jobs=5)]: Done 3846 tasks      | elapsed:   35.7s\n",
      "[Parallel(n_jobs=5)]: Done 5748 out of 5757 | elapsed:   56.1s remaining:    0.1s\n",
      "[Parallel(n_jobs=5)]: Done 5757 out of 5757 | elapsed:   56.2s finished\n"
     ]
    },
    {
     "data": {
      "text/html": [
       "<div>\n",
       "<style scoped>\n",
       "    .dataframe tbody tr th:only-of-type {\n",
       "        vertical-align: middle;\n",
       "    }\n",
       "\n",
       "    .dataframe tbody tr th {\n",
       "        vertical-align: top;\n",
       "    }\n",
       "\n",
       "    .dataframe thead th {\n",
       "        text-align: right;\n",
       "    }\n",
       "</style>\n",
       "<table border=\"1\" class=\"dataframe\">\n",
       "  <thead>\n",
       "    <tr style=\"text-align: right;\">\n",
       "      <th></th>\n",
       "      <th>count</th>\n",
       "      <th>mean</th>\n",
       "      <th>std</th>\n",
       "      <th>min</th>\n",
       "      <th>25%</th>\n",
       "      <th>50%</th>\n",
       "      <th>75%</th>\n",
       "      <th>max</th>\n",
       "      <th>word1</th>\n",
       "      <th>word2</th>\n",
       "    </tr>\n",
       "  </thead>\n",
       "  <tbody>\n",
       "    <tr>\n",
       "      <th>0</th>\n",
       "      <td>5757.0</td>\n",
       "      <td>4.352614</td>\n",
       "      <td>1.27997</td>\n",
       "      <td>1.0</td>\n",
       "      <td>3.0</td>\n",
       "      <td>4.0</td>\n",
       "      <td>5.0</td>\n",
       "      <td>13.0</td>\n",
       "      <td>cares</td>\n",
       "      <td>noily</td>\n",
       "    </tr>\n",
       "  </tbody>\n",
       "</table>\n",
       "</div>"
      ],
      "text/plain": [
       "    count      mean      std  min  25%  50%  75%   max  word1  word2\n",
       "0  5757.0  4.352614  1.27997  1.0  3.0  4.0  5.0  13.0  cares  noily"
      ]
     },
     "metadata": {},
     "output_type": "display_data"
    },
    {
     "name": "stderr",
     "output_type": "stream",
     "text": [
      "[Parallel(n_jobs=5)]: Using backend LokyBackend with 5 concurrent workers.\n"
     ]
    },
    {
     "name": "stdout",
     "output_type": "stream",
     "text": [
      "\n",
      "\n",
      "\n",
      "--------------------\n",
      "bares\n",
      "--------------------\n",
      "['doily', 'pouty', 'poind', 'gouty', 'noily']\n",
      "[---- bares, doily ----]\n"
     ]
    },
    {
     "name": "stderr",
     "output_type": "stream",
     "text": [
      "[Parallel(n_jobs=5)]: Done  38 tasks      | elapsed:    0.4s\n",
      "[Parallel(n_jobs=5)]: Done 422 tasks      | elapsed:    4.0s\n",
      "[Parallel(n_jobs=5)]: Done 1062 tasks      | elapsed:    9.4s\n",
      "[Parallel(n_jobs=5)]: Done 1958 tasks      | elapsed:   17.4s\n",
      "[Parallel(n_jobs=5)]: Done 3110 tasks      | elapsed:   28.1s\n",
      "[Parallel(n_jobs=5)]: Done 4518 tasks      | elapsed:   41.4s\n",
      "[Parallel(n_jobs=5)]: Done 5748 out of 5757 | elapsed:   52.8s remaining:    0.1s\n",
      "[Parallel(n_jobs=5)]: Done 5757 out of 5757 | elapsed:   52.8s finished\n"
     ]
    },
    {
     "data": {
      "text/html": [
       "<div>\n",
       "<style scoped>\n",
       "    .dataframe tbody tr th:only-of-type {\n",
       "        vertical-align: middle;\n",
       "    }\n",
       "\n",
       "    .dataframe tbody tr th {\n",
       "        vertical-align: top;\n",
       "    }\n",
       "\n",
       "    .dataframe thead th {\n",
       "        text-align: right;\n",
       "    }\n",
       "</style>\n",
       "<table border=\"1\" class=\"dataframe\">\n",
       "  <thead>\n",
       "    <tr style=\"text-align: right;\">\n",
       "      <th></th>\n",
       "      <th>count</th>\n",
       "      <th>mean</th>\n",
       "      <th>std</th>\n",
       "      <th>min</th>\n",
       "      <th>25%</th>\n",
       "      <th>50%</th>\n",
       "      <th>75%</th>\n",
       "      <th>max</th>\n",
       "      <th>word1</th>\n",
       "      <th>word2</th>\n",
       "    </tr>\n",
       "  </thead>\n",
       "  <tbody>\n",
       "    <tr>\n",
       "      <th>0</th>\n",
       "      <td>5757.0</td>\n",
       "      <td>4.334549</td>\n",
       "      <td>1.226705</td>\n",
       "      <td>1.0</td>\n",
       "      <td>3.0</td>\n",
       "      <td>4.0</td>\n",
       "      <td>5.0</td>\n",
       "      <td>12.0</td>\n",
       "      <td>bares</td>\n",
       "      <td>doily</td>\n",
       "    </tr>\n",
       "  </tbody>\n",
       "</table>\n",
       "</div>"
      ],
      "text/plain": [
       "    count      mean       std  min  25%  50%  75%   max  word1  word2\n",
       "0  5757.0  4.334549  1.226705  1.0  3.0  4.0  5.0  12.0  bares  doily"
      ]
     },
     "metadata": {},
     "output_type": "display_data"
    },
    {
     "name": "stderr",
     "output_type": "stream",
     "text": [
      "[Parallel(n_jobs=5)]: Using backend LokyBackend with 5 concurrent workers.\n"
     ]
    },
    {
     "name": "stdout",
     "output_type": "stream",
     "text": [
      "[---- bares, pouty ----]\n"
     ]
    },
    {
     "name": "stderr",
     "output_type": "stream",
     "text": [
      "[Parallel(n_jobs=5)]: Done  38 tasks      | elapsed:    0.4s\n",
      "[Parallel(n_jobs=5)]: Done 422 tasks      | elapsed:    3.6s\n",
      "[Parallel(n_jobs=5)]: Done 1062 tasks      | elapsed:    9.3s\n",
      "[Parallel(n_jobs=5)]: Done 1958 tasks      | elapsed:   16.8s\n",
      "[Parallel(n_jobs=5)]: Done 3110 tasks      | elapsed:   26.8s\n",
      "[Parallel(n_jobs=5)]: Done 4518 tasks      | elapsed:   38.9s\n",
      "[Parallel(n_jobs=5)]: Done 5748 out of 5757 | elapsed:   49.3s remaining:    0.1s\n",
      "[Parallel(n_jobs=5)]: Done 5757 out of 5757 | elapsed:   49.4s finished\n"
     ]
    },
    {
     "data": {
      "text/html": [
       "<div>\n",
       "<style scoped>\n",
       "    .dataframe tbody tr th:only-of-type {\n",
       "        vertical-align: middle;\n",
       "    }\n",
       "\n",
       "    .dataframe tbody tr th {\n",
       "        vertical-align: top;\n",
       "    }\n",
       "\n",
       "    .dataframe thead th {\n",
       "        text-align: right;\n",
       "    }\n",
       "</style>\n",
       "<table border=\"1\" class=\"dataframe\">\n",
       "  <thead>\n",
       "    <tr style=\"text-align: right;\">\n",
       "      <th></th>\n",
       "      <th>count</th>\n",
       "      <th>mean</th>\n",
       "      <th>std</th>\n",
       "      <th>min</th>\n",
       "      <th>25%</th>\n",
       "      <th>50%</th>\n",
       "      <th>75%</th>\n",
       "      <th>max</th>\n",
       "      <th>word1</th>\n",
       "      <th>word2</th>\n",
       "    </tr>\n",
       "  </thead>\n",
       "  <tbody>\n",
       "    <tr>\n",
       "      <th>0</th>\n",
       "      <td>5757.0</td>\n",
       "      <td>4.323259</td>\n",
       "      <td>1.185051</td>\n",
       "      <td>1.0</td>\n",
       "      <td>4.0</td>\n",
       "      <td>4.0</td>\n",
       "      <td>5.0</td>\n",
       "      <td>11.0</td>\n",
       "      <td>bares</td>\n",
       "      <td>pouty</td>\n",
       "    </tr>\n",
       "  </tbody>\n",
       "</table>\n",
       "</div>"
      ],
      "text/plain": [
       "    count      mean       std  min  25%  50%  75%   max  word1  word2\n",
       "0  5757.0  4.323259  1.185051  1.0  4.0  4.0  5.0  11.0  bares  pouty"
      ]
     },
     "metadata": {},
     "output_type": "display_data"
    },
    {
     "name": "stderr",
     "output_type": "stream",
     "text": [
      "[Parallel(n_jobs=5)]: Using backend LokyBackend with 5 concurrent workers.\n"
     ]
    },
    {
     "name": "stdout",
     "output_type": "stream",
     "text": [
      "[---- bares, poind ----]\n"
     ]
    },
    {
     "name": "stderr",
     "output_type": "stream",
     "text": [
      "[Parallel(n_jobs=5)]: Done  38 tasks      | elapsed:    0.3s\n",
      "[Parallel(n_jobs=5)]: Done 774 tasks      | elapsed:    5.7s\n",
      "[Parallel(n_jobs=5)]: Done 2054 tasks      | elapsed:   15.6s\n",
      "[Parallel(n_jobs=5)]: Done 3846 tasks      | elapsed:   31.4s\n",
      "[Parallel(n_jobs=5)]: Done 5757 out of 5757 | elapsed:   47.8s finished\n"
     ]
    },
    {
     "data": {
      "text/html": [
       "<div>\n",
       "<style scoped>\n",
       "    .dataframe tbody tr th:only-of-type {\n",
       "        vertical-align: middle;\n",
       "    }\n",
       "\n",
       "    .dataframe tbody tr th {\n",
       "        vertical-align: top;\n",
       "    }\n",
       "\n",
       "    .dataframe thead th {\n",
       "        text-align: right;\n",
       "    }\n",
       "</style>\n",
       "<table border=\"1\" class=\"dataframe\">\n",
       "  <thead>\n",
       "    <tr style=\"text-align: right;\">\n",
       "      <th></th>\n",
       "      <th>count</th>\n",
       "      <th>mean</th>\n",
       "      <th>std</th>\n",
       "      <th>min</th>\n",
       "      <th>25%</th>\n",
       "      <th>50%</th>\n",
       "      <th>75%</th>\n",
       "      <th>max</th>\n",
       "      <th>word1</th>\n",
       "      <th>word2</th>\n",
       "    </tr>\n",
       "  </thead>\n",
       "  <tbody>\n",
       "    <tr>\n",
       "      <th>0</th>\n",
       "      <td>5757.0</td>\n",
       "      <td>4.258989</td>\n",
       "      <td>1.148075</td>\n",
       "      <td>1.0</td>\n",
       "      <td>3.0</td>\n",
       "      <td>4.0</td>\n",
       "      <td>5.0</td>\n",
       "      <td>10.0</td>\n",
       "      <td>bares</td>\n",
       "      <td>poind</td>\n",
       "    </tr>\n",
       "  </tbody>\n",
       "</table>\n",
       "</div>"
      ],
      "text/plain": [
       "    count      mean       std  min  25%  50%  75%   max  word1  word2\n",
       "0  5757.0  4.258989  1.148075  1.0  3.0  4.0  5.0  10.0  bares  poind"
      ]
     },
     "metadata": {},
     "output_type": "display_data"
    },
    {
     "name": "stderr",
     "output_type": "stream",
     "text": [
      "[Parallel(n_jobs=5)]: Using backend LokyBackend with 5 concurrent workers.\n"
     ]
    },
    {
     "name": "stdout",
     "output_type": "stream",
     "text": [
      "[---- bares, gouty ----]\n"
     ]
    },
    {
     "name": "stderr",
     "output_type": "stream",
     "text": [
      "[Parallel(n_jobs=5)]: Done  38 tasks      | elapsed:    0.4s\n",
      "[Parallel(n_jobs=5)]: Done 422 tasks      | elapsed:    3.5s\n",
      "[Parallel(n_jobs=5)]: Done 1062 tasks      | elapsed:    8.7s\n",
      "[Parallel(n_jobs=5)]: Done 1958 tasks      | elapsed:   16.3s\n",
      "[Parallel(n_jobs=5)]: Done 3110 tasks      | elapsed:   26.2s\n",
      "[Parallel(n_jobs=5)]: Done 4518 tasks      | elapsed:   38.1s\n",
      "[Parallel(n_jobs=5)]: Done 5757 out of 5757 | elapsed:   48.8s finished\n"
     ]
    },
    {
     "data": {
      "text/html": [
       "<div>\n",
       "<style scoped>\n",
       "    .dataframe tbody tr th:only-of-type {\n",
       "        vertical-align: middle;\n",
       "    }\n",
       "\n",
       "    .dataframe tbody tr th {\n",
       "        vertical-align: top;\n",
       "    }\n",
       "\n",
       "    .dataframe thead th {\n",
       "        text-align: right;\n",
       "    }\n",
       "</style>\n",
       "<table border=\"1\" class=\"dataframe\">\n",
       "  <thead>\n",
       "    <tr style=\"text-align: right;\">\n",
       "      <th></th>\n",
       "      <th>count</th>\n",
       "      <th>mean</th>\n",
       "      <th>std</th>\n",
       "      <th>min</th>\n",
       "      <th>25%</th>\n",
       "      <th>50%</th>\n",
       "      <th>75%</th>\n",
       "      <th>max</th>\n",
       "      <th>word1</th>\n",
       "      <th>word2</th>\n",
       "    </tr>\n",
       "  </thead>\n",
       "  <tbody>\n",
       "    <tr>\n",
       "      <th>0</th>\n",
       "      <td>5757.0</td>\n",
       "      <td>4.411325</td>\n",
       "      <td>1.251127</td>\n",
       "      <td>1.0</td>\n",
       "      <td>4.0</td>\n",
       "      <td>4.0</td>\n",
       "      <td>5.0</td>\n",
       "      <td>12.0</td>\n",
       "      <td>bares</td>\n",
       "      <td>gouty</td>\n",
       "    </tr>\n",
       "  </tbody>\n",
       "</table>\n",
       "</div>"
      ],
      "text/plain": [
       "    count      mean       std  min  25%  50%  75%   max  word1  word2\n",
       "0  5757.0  4.411325  1.251127  1.0  4.0  4.0  5.0  12.0  bares  gouty"
      ]
     },
     "metadata": {},
     "output_type": "display_data"
    },
    {
     "name": "stderr",
     "output_type": "stream",
     "text": [
      "[Parallel(n_jobs=5)]: Using backend LokyBackend with 5 concurrent workers.\n"
     ]
    },
    {
     "name": "stdout",
     "output_type": "stream",
     "text": [
      "[---- bares, noily ----]\n"
     ]
    },
    {
     "name": "stderr",
     "output_type": "stream",
     "text": [
      "[Parallel(n_jobs=5)]: Done  38 tasks      | elapsed:    0.3s\n",
      "[Parallel(n_jobs=5)]: Done 774 tasks      | elapsed:    6.9s\n",
      "[Parallel(n_jobs=5)]: Done 2054 tasks      | elapsed:   17.1s\n",
      "[Parallel(n_jobs=5)]: Done 3846 tasks      | elapsed:   31.5s\n",
      "[Parallel(n_jobs=5)]: Done 5748 out of 5757 | elapsed:   47.0s remaining:    0.1s\n",
      "[Parallel(n_jobs=5)]: Done 5757 out of 5757 | elapsed:   47.1s finished\n"
     ]
    },
    {
     "data": {
      "text/html": [
       "<div>\n",
       "<style scoped>\n",
       "    .dataframe tbody tr th:only-of-type {\n",
       "        vertical-align: middle;\n",
       "    }\n",
       "\n",
       "    .dataframe tbody tr th {\n",
       "        vertical-align: top;\n",
       "    }\n",
       "\n",
       "    .dataframe thead th {\n",
       "        text-align: right;\n",
       "    }\n",
       "</style>\n",
       "<table border=\"1\" class=\"dataframe\">\n",
       "  <thead>\n",
       "    <tr style=\"text-align: right;\">\n",
       "      <th></th>\n",
       "      <th>count</th>\n",
       "      <th>mean</th>\n",
       "      <th>std</th>\n",
       "      <th>min</th>\n",
       "      <th>25%</th>\n",
       "      <th>50%</th>\n",
       "      <th>75%</th>\n",
       "      <th>max</th>\n",
       "      <th>word1</th>\n",
       "      <th>word2</th>\n",
       "    </tr>\n",
       "  </thead>\n",
       "  <tbody>\n",
       "    <tr>\n",
       "      <th>0</th>\n",
       "      <td>5757.0</td>\n",
       "      <td>4.367379</td>\n",
       "      <td>1.257223</td>\n",
       "      <td>1.0</td>\n",
       "      <td>4.0</td>\n",
       "      <td>4.0</td>\n",
       "      <td>5.0</td>\n",
       "      <td>13.0</td>\n",
       "      <td>bares</td>\n",
       "      <td>noily</td>\n",
       "    </tr>\n",
       "  </tbody>\n",
       "</table>\n",
       "</div>"
      ],
      "text/plain": [
       "    count      mean       std  min  25%  50%  75%   max  word1  word2\n",
       "0  5757.0  4.367379  1.257223  1.0  4.0  4.0  5.0  13.0  bares  noily"
      ]
     },
     "metadata": {},
     "output_type": "display_data"
    },
    {
     "name": "stderr",
     "output_type": "stream",
     "text": [
      "[Parallel(n_jobs=5)]: Using backend LokyBackend with 5 concurrent workers.\n"
     ]
    },
    {
     "name": "stdout",
     "output_type": "stream",
     "text": [
      "\n",
      "\n",
      "\n",
      "--------------------\n",
      "pares\n",
      "--------------------\n",
      "['doily', 'gouty', 'noily', 'doilt', 'could']\n",
      "[---- pares, doily ----]\n"
     ]
    },
    {
     "name": "stderr",
     "output_type": "stream",
     "text": [
      "[Parallel(n_jobs=5)]: Done  38 tasks      | elapsed:    0.3s\n",
      "[Parallel(n_jobs=5)]: Done 774 tasks      | elapsed:    6.1s\n",
      "[Parallel(n_jobs=5)]: Done 2054 tasks      | elapsed:   16.0s\n",
      "[Parallel(n_jobs=5)]: Done 3846 tasks      | elapsed:   30.6s\n",
      "[Parallel(n_jobs=5)]: Done 5748 out of 5757 | elapsed:   46.2s remaining:    0.1s\n",
      "[Parallel(n_jobs=5)]: Done 5757 out of 5757 | elapsed:   46.4s finished\n"
     ]
    },
    {
     "data": {
      "text/html": [
       "<div>\n",
       "<style scoped>\n",
       "    .dataframe tbody tr th:only-of-type {\n",
       "        vertical-align: middle;\n",
       "    }\n",
       "\n",
       "    .dataframe tbody tr th {\n",
       "        vertical-align: top;\n",
       "    }\n",
       "\n",
       "    .dataframe thead th {\n",
       "        text-align: right;\n",
       "    }\n",
       "</style>\n",
       "<table border=\"1\" class=\"dataframe\">\n",
       "  <thead>\n",
       "    <tr style=\"text-align: right;\">\n",
       "      <th></th>\n",
       "      <th>count</th>\n",
       "      <th>mean</th>\n",
       "      <th>std</th>\n",
       "      <th>min</th>\n",
       "      <th>25%</th>\n",
       "      <th>50%</th>\n",
       "      <th>75%</th>\n",
       "      <th>max</th>\n",
       "      <th>word1</th>\n",
       "      <th>word2</th>\n",
       "    </tr>\n",
       "  </thead>\n",
       "  <tbody>\n",
       "    <tr>\n",
       "      <th>0</th>\n",
       "      <td>5757.0</td>\n",
       "      <td>4.275838</td>\n",
       "      <td>1.191962</td>\n",
       "      <td>1.0</td>\n",
       "      <td>3.0</td>\n",
       "      <td>4.0</td>\n",
       "      <td>5.0</td>\n",
       "      <td>12.0</td>\n",
       "      <td>pares</td>\n",
       "      <td>doily</td>\n",
       "    </tr>\n",
       "  </tbody>\n",
       "</table>\n",
       "</div>"
      ],
      "text/plain": [
       "    count      mean       std  min  25%  50%  75%   max  word1  word2\n",
       "0  5757.0  4.275838  1.191962  1.0  3.0  4.0  5.0  12.0  pares  doily"
      ]
     },
     "metadata": {},
     "output_type": "display_data"
    },
    {
     "name": "stderr",
     "output_type": "stream",
     "text": [
      "[Parallel(n_jobs=5)]: Using backend LokyBackend with 5 concurrent workers.\n"
     ]
    },
    {
     "name": "stdout",
     "output_type": "stream",
     "text": [
      "[---- pares, gouty ----]\n"
     ]
    },
    {
     "name": "stderr",
     "output_type": "stream",
     "text": [
      "[Parallel(n_jobs=5)]: Done  38 tasks      | elapsed:    0.3s\n",
      "[Parallel(n_jobs=5)]: Done 422 tasks      | elapsed:    3.3s\n",
      "[Parallel(n_jobs=5)]: Done 1062 tasks      | elapsed:    8.3s\n",
      "[Parallel(n_jobs=5)]: Done 1958 tasks      | elapsed:   16.1s\n",
      "[Parallel(n_jobs=5)]: Done 3110 tasks      | elapsed:   25.7s\n",
      "[Parallel(n_jobs=5)]: Done 4518 tasks      | elapsed:   37.2s\n",
      "[Parallel(n_jobs=5)]: Done 5748 out of 5757 | elapsed:   47.3s remaining:    0.1s\n",
      "[Parallel(n_jobs=5)]: Done 5757 out of 5757 | elapsed:   47.3s finished\n"
     ]
    },
    {
     "data": {
      "text/html": [
       "<div>\n",
       "<style scoped>\n",
       "    .dataframe tbody tr th:only-of-type {\n",
       "        vertical-align: middle;\n",
       "    }\n",
       "\n",
       "    .dataframe tbody tr th {\n",
       "        vertical-align: top;\n",
       "    }\n",
       "\n",
       "    .dataframe thead th {\n",
       "        text-align: right;\n",
       "    }\n",
       "</style>\n",
       "<table border=\"1\" class=\"dataframe\">\n",
       "  <thead>\n",
       "    <tr style=\"text-align: right;\">\n",
       "      <th></th>\n",
       "      <th>count</th>\n",
       "      <th>mean</th>\n",
       "      <th>std</th>\n",
       "      <th>min</th>\n",
       "      <th>25%</th>\n",
       "      <th>50%</th>\n",
       "      <th>75%</th>\n",
       "      <th>max</th>\n",
       "      <th>word1</th>\n",
       "      <th>word2</th>\n",
       "    </tr>\n",
       "  </thead>\n",
       "  <tbody>\n",
       "    <tr>\n",
       "      <th>0</th>\n",
       "      <td>5757.0</td>\n",
       "      <td>4.349661</td>\n",
       "      <td>1.212422</td>\n",
       "      <td>1.0</td>\n",
       "      <td>4.0</td>\n",
       "      <td>4.0</td>\n",
       "      <td>5.0</td>\n",
       "      <td>11.0</td>\n",
       "      <td>pares</td>\n",
       "      <td>gouty</td>\n",
       "    </tr>\n",
       "  </tbody>\n",
       "</table>\n",
       "</div>"
      ],
      "text/plain": [
       "    count      mean       std  min  25%  50%  75%   max  word1  word2\n",
       "0  5757.0  4.349661  1.212422  1.0  4.0  4.0  5.0  11.0  pares  gouty"
      ]
     },
     "metadata": {},
     "output_type": "display_data"
    },
    {
     "name": "stderr",
     "output_type": "stream",
     "text": [
      "[Parallel(n_jobs=5)]: Using backend LokyBackend with 5 concurrent workers.\n"
     ]
    },
    {
     "name": "stdout",
     "output_type": "stream",
     "text": [
      "[---- pares, noily ----]\n"
     ]
    },
    {
     "name": "stderr",
     "output_type": "stream",
     "text": [
      "[Parallel(n_jobs=5)]: Done  38 tasks      | elapsed:    0.3s\n",
      "[Parallel(n_jobs=5)]: Done 774 tasks      | elapsed:    6.1s\n",
      "[Parallel(n_jobs=5)]: Done 2054 tasks      | elapsed:   16.5s\n",
      "[Parallel(n_jobs=5)]: Done 3846 tasks      | elapsed:   31.1s\n",
      "[Parallel(n_jobs=5)]: Done 5757 out of 5757 | elapsed:   47.1s finished\n"
     ]
    },
    {
     "data": {
      "text/html": [
       "<div>\n",
       "<style scoped>\n",
       "    .dataframe tbody tr th:only-of-type {\n",
       "        vertical-align: middle;\n",
       "    }\n",
       "\n",
       "    .dataframe tbody tr th {\n",
       "        vertical-align: top;\n",
       "    }\n",
       "\n",
       "    .dataframe thead th {\n",
       "        text-align: right;\n",
       "    }\n",
       "</style>\n",
       "<table border=\"1\" class=\"dataframe\">\n",
       "  <thead>\n",
       "    <tr style=\"text-align: right;\">\n",
       "      <th></th>\n",
       "      <th>count</th>\n",
       "      <th>mean</th>\n",
       "      <th>std</th>\n",
       "      <th>min</th>\n",
       "      <th>25%</th>\n",
       "      <th>50%</th>\n",
       "      <th>75%</th>\n",
       "      <th>max</th>\n",
       "      <th>word1</th>\n",
       "      <th>word2</th>\n",
       "    </tr>\n",
       "  </thead>\n",
       "  <tbody>\n",
       "    <tr>\n",
       "      <th>0</th>\n",
       "      <td>5757.0</td>\n",
       "      <td>4.315442</td>\n",
       "      <td>1.233167</td>\n",
       "      <td>1.0</td>\n",
       "      <td>3.0</td>\n",
       "      <td>4.0</td>\n",
       "      <td>5.0</td>\n",
       "      <td>13.0</td>\n",
       "      <td>pares</td>\n",
       "      <td>noily</td>\n",
       "    </tr>\n",
       "  </tbody>\n",
       "</table>\n",
       "</div>"
      ],
      "text/plain": [
       "    count      mean       std  min  25%  50%  75%   max  word1  word2\n",
       "0  5757.0  4.315442  1.233167  1.0  3.0  4.0  5.0  13.0  pares  noily"
      ]
     },
     "metadata": {},
     "output_type": "display_data"
    },
    {
     "name": "stderr",
     "output_type": "stream",
     "text": [
      "[Parallel(n_jobs=5)]: Using backend LokyBackend with 5 concurrent workers.\n"
     ]
    },
    {
     "name": "stdout",
     "output_type": "stream",
     "text": [
      "[---- pares, doilt ----]\n"
     ]
    },
    {
     "name": "stderr",
     "output_type": "stream",
     "text": [
      "[Parallel(n_jobs=5)]: Done  38 tasks      | elapsed:    0.3s\n",
      "[Parallel(n_jobs=5)]: Done 774 tasks      | elapsed:    5.7s\n",
      "[Parallel(n_jobs=5)]: Done 2054 tasks      | elapsed:   15.5s\n",
      "[Parallel(n_jobs=5)]: Done 3846 tasks      | elapsed:   29.0s\n",
      "[Parallel(n_jobs=5)]: Done 5757 out of 5757 | elapsed:   44.1s finished\n"
     ]
    },
    {
     "data": {
      "text/html": [
       "<div>\n",
       "<style scoped>\n",
       "    .dataframe tbody tr th:only-of-type {\n",
       "        vertical-align: middle;\n",
       "    }\n",
       "\n",
       "    .dataframe tbody tr th {\n",
       "        vertical-align: top;\n",
       "    }\n",
       "\n",
       "    .dataframe thead th {\n",
       "        text-align: right;\n",
       "    }\n",
       "</style>\n",
       "<table border=\"1\" class=\"dataframe\">\n",
       "  <thead>\n",
       "    <tr style=\"text-align: right;\">\n",
       "      <th></th>\n",
       "      <th>count</th>\n",
       "      <th>mean</th>\n",
       "      <th>std</th>\n",
       "      <th>min</th>\n",
       "      <th>25%</th>\n",
       "      <th>50%</th>\n",
       "      <th>75%</th>\n",
       "      <th>max</th>\n",
       "      <th>word1</th>\n",
       "      <th>word2</th>\n",
       "    </tr>\n",
       "  </thead>\n",
       "  <tbody>\n",
       "    <tr>\n",
       "      <th>0</th>\n",
       "      <td>5757.0</td>\n",
       "      <td>4.131839</td>\n",
       "      <td>1.118184</td>\n",
       "      <td>1.0</td>\n",
       "      <td>3.0</td>\n",
       "      <td>4.0</td>\n",
       "      <td>5.0</td>\n",
       "      <td>11.0</td>\n",
       "      <td>pares</td>\n",
       "      <td>doilt</td>\n",
       "    </tr>\n",
       "  </tbody>\n",
       "</table>\n",
       "</div>"
      ],
      "text/plain": [
       "    count      mean       std  min  25%  50%  75%   max  word1  word2\n",
       "0  5757.0  4.131839  1.118184  1.0  3.0  4.0  5.0  11.0  pares  doilt"
      ]
     },
     "metadata": {},
     "output_type": "display_data"
    },
    {
     "name": "stderr",
     "output_type": "stream",
     "text": [
      "[Parallel(n_jobs=5)]: Using backend LokyBackend with 5 concurrent workers.\n"
     ]
    },
    {
     "name": "stdout",
     "output_type": "stream",
     "text": [
      "[---- pares, could ----]\n"
     ]
    },
    {
     "name": "stderr",
     "output_type": "stream",
     "text": [
      "[Parallel(n_jobs=5)]: Done  38 tasks      | elapsed:    0.4s\n",
      "[Parallel(n_jobs=5)]: Done 422 tasks      | elapsed:    4.7s\n",
      "[Parallel(n_jobs=5)]: Done 1062 tasks      | elapsed:    9.6s\n",
      "[Parallel(n_jobs=5)]: Done 1958 tasks      | elapsed:   16.7s\n",
      "[Parallel(n_jobs=5)]: Done 3110 tasks      | elapsed:   26.1s\n",
      "[Parallel(n_jobs=5)]: Done 4518 tasks      | elapsed:   38.1s\n",
      "[Parallel(n_jobs=5)]: Done 5748 out of 5757 | elapsed:   48.4s remaining:    0.1s\n",
      "[Parallel(n_jobs=5)]: Done 5757 out of 5757 | elapsed:   48.4s finished\n"
     ]
    },
    {
     "data": {
      "text/html": [
       "<div>\n",
       "<style scoped>\n",
       "    .dataframe tbody tr th:only-of-type {\n",
       "        vertical-align: middle;\n",
       "    }\n",
       "\n",
       "    .dataframe tbody tr th {\n",
       "        vertical-align: top;\n",
       "    }\n",
       "\n",
       "    .dataframe thead th {\n",
       "        text-align: right;\n",
       "    }\n",
       "</style>\n",
       "<table border=\"1\" class=\"dataframe\">\n",
       "  <thead>\n",
       "    <tr style=\"text-align: right;\">\n",
       "      <th></th>\n",
       "      <th>count</th>\n",
       "      <th>mean</th>\n",
       "      <th>std</th>\n",
       "      <th>min</th>\n",
       "      <th>25%</th>\n",
       "      <th>50%</th>\n",
       "      <th>75%</th>\n",
       "      <th>max</th>\n",
       "      <th>word1</th>\n",
       "      <th>word2</th>\n",
       "    </tr>\n",
       "  </thead>\n",
       "  <tbody>\n",
       "    <tr>\n",
       "      <th>0</th>\n",
       "      <td>5757.0</td>\n",
       "      <td>4.228591</td>\n",
       "      <td>1.14704</td>\n",
       "      <td>1.0</td>\n",
       "      <td>3.0</td>\n",
       "      <td>4.0</td>\n",
       "      <td>5.0</td>\n",
       "      <td>12.0</td>\n",
       "      <td>pares</td>\n",
       "      <td>could</td>\n",
       "    </tr>\n",
       "  </tbody>\n",
       "</table>\n",
       "</div>"
      ],
      "text/plain": [
       "    count      mean      std  min  25%  50%  75%   max  word1  word2\n",
       "0  5757.0  4.228591  1.14704  1.0  3.0  4.0  5.0  12.0  pares  could"
      ]
     },
     "metadata": {},
     "output_type": "display_data"
    },
    {
     "name": "stderr",
     "output_type": "stream",
     "text": [
      "[Parallel(n_jobs=5)]: Using backend LokyBackend with 5 concurrent workers.\n"
     ]
    },
    {
     "name": "stdout",
     "output_type": "stream",
     "text": [
      "\n",
      "\n",
      "\n",
      "--------------------\n",
      "tares\n",
      "--------------------\n",
      "['doily', 'poind', 'noily', 'piony', 'could']\n",
      "[---- tares, doily ----]\n"
     ]
    },
    {
     "name": "stderr",
     "output_type": "stream",
     "text": [
      "[Parallel(n_jobs=5)]: Done  38 tasks      | elapsed:    0.3s\n",
      "[Parallel(n_jobs=5)]: Done 774 tasks      | elapsed:    5.5s\n",
      "[Parallel(n_jobs=5)]: Done 2054 tasks      | elapsed:   15.2s\n",
      "[Parallel(n_jobs=5)]: Done 3846 tasks      | elapsed:   29.8s\n",
      "[Parallel(n_jobs=5)]: Done 5748 out of 5757 | elapsed:   45.6s remaining:    0.1s\n",
      "[Parallel(n_jobs=5)]: Done 5757 out of 5757 | elapsed:   45.7s finished\n"
     ]
    },
    {
     "data": {
      "text/html": [
       "<div>\n",
       "<style scoped>\n",
       "    .dataframe tbody tr th:only-of-type {\n",
       "        vertical-align: middle;\n",
       "    }\n",
       "\n",
       "    .dataframe tbody tr th {\n",
       "        vertical-align: top;\n",
       "    }\n",
       "\n",
       "    .dataframe thead th {\n",
       "        text-align: right;\n",
       "    }\n",
       "</style>\n",
       "<table border=\"1\" class=\"dataframe\">\n",
       "  <thead>\n",
       "    <tr style=\"text-align: right;\">\n",
       "      <th></th>\n",
       "      <th>count</th>\n",
       "      <th>mean</th>\n",
       "      <th>std</th>\n",
       "      <th>min</th>\n",
       "      <th>25%</th>\n",
       "      <th>50%</th>\n",
       "      <th>75%</th>\n",
       "      <th>max</th>\n",
       "      <th>word1</th>\n",
       "      <th>word2</th>\n",
       "    </tr>\n",
       "  </thead>\n",
       "  <tbody>\n",
       "    <tr>\n",
       "      <th>0</th>\n",
       "      <td>5757.0</td>\n",
       "      <td>4.254125</td>\n",
       "      <td>1.202789</td>\n",
       "      <td>1.0</td>\n",
       "      <td>3.0</td>\n",
       "      <td>4.0</td>\n",
       "      <td>5.0</td>\n",
       "      <td>12.0</td>\n",
       "      <td>tares</td>\n",
       "      <td>doily</td>\n",
       "    </tr>\n",
       "  </tbody>\n",
       "</table>\n",
       "</div>"
      ],
      "text/plain": [
       "    count      mean       std  min  25%  50%  75%   max  word1  word2\n",
       "0  5757.0  4.254125  1.202789  1.0  3.0  4.0  5.0  12.0  tares  doily"
      ]
     },
     "metadata": {},
     "output_type": "display_data"
    },
    {
     "name": "stderr",
     "output_type": "stream",
     "text": [
      "[Parallel(n_jobs=5)]: Using backend LokyBackend with 5 concurrent workers.\n"
     ]
    },
    {
     "name": "stdout",
     "output_type": "stream",
     "text": [
      "[---- tares, poind ----]\n"
     ]
    },
    {
     "name": "stderr",
     "output_type": "stream",
     "text": [
      "[Parallel(n_jobs=5)]: Done  38 tasks      | elapsed:    0.3s\n",
      "[Parallel(n_jobs=5)]: Done 774 tasks      | elapsed:    5.7s\n",
      "[Parallel(n_jobs=5)]: Done 2054 tasks      | elapsed:   15.4s\n",
      "[Parallel(n_jobs=5)]: Done 3846 tasks      | elapsed:   29.7s\n",
      "[Parallel(n_jobs=5)]: Done 5757 out of 5757 | elapsed:   44.8s finished\n"
     ]
    },
    {
     "data": {
      "text/html": [
       "<div>\n",
       "<style scoped>\n",
       "    .dataframe tbody tr th:only-of-type {\n",
       "        vertical-align: middle;\n",
       "    }\n",
       "\n",
       "    .dataframe tbody tr th {\n",
       "        vertical-align: top;\n",
       "    }\n",
       "\n",
       "    .dataframe thead th {\n",
       "        text-align: right;\n",
       "    }\n",
       "</style>\n",
       "<table border=\"1\" class=\"dataframe\">\n",
       "  <thead>\n",
       "    <tr style=\"text-align: right;\">\n",
       "      <th></th>\n",
       "      <th>count</th>\n",
       "      <th>mean</th>\n",
       "      <th>std</th>\n",
       "      <th>min</th>\n",
       "      <th>25%</th>\n",
       "      <th>50%</th>\n",
       "      <th>75%</th>\n",
       "      <th>max</th>\n",
       "      <th>word1</th>\n",
       "      <th>word2</th>\n",
       "    </tr>\n",
       "  </thead>\n",
       "  <tbody>\n",
       "    <tr>\n",
       "      <th>0</th>\n",
       "      <td>5757.0</td>\n",
       "      <td>4.161195</td>\n",
       "      <td>1.134188</td>\n",
       "      <td>1.0</td>\n",
       "      <td>3.0</td>\n",
       "      <td>4.0</td>\n",
       "      <td>5.0</td>\n",
       "      <td>11.0</td>\n",
       "      <td>tares</td>\n",
       "      <td>poind</td>\n",
       "    </tr>\n",
       "  </tbody>\n",
       "</table>\n",
       "</div>"
      ],
      "text/plain": [
       "    count      mean       std  min  25%  50%  75%   max  word1  word2\n",
       "0  5757.0  4.161195  1.134188  1.0  3.0  4.0  5.0  11.0  tares  poind"
      ]
     },
     "metadata": {},
     "output_type": "display_data"
    },
    {
     "name": "stderr",
     "output_type": "stream",
     "text": [
      "[Parallel(n_jobs=5)]: Using backend LokyBackend with 5 concurrent workers.\n"
     ]
    },
    {
     "name": "stdout",
     "output_type": "stream",
     "text": [
      "[---- tares, noily ----]\n"
     ]
    },
    {
     "name": "stderr",
     "output_type": "stream",
     "text": [
      "[Parallel(n_jobs=5)]: Done  38 tasks      | elapsed:    0.3s\n",
      "[Parallel(n_jobs=5)]: Done 774 tasks      | elapsed:    5.7s\n",
      "[Parallel(n_jobs=5)]: Done 2054 tasks      | elapsed:   15.8s\n",
      "[Parallel(n_jobs=5)]: Done 3846 tasks      | elapsed:   30.3s\n",
      "[Parallel(n_jobs=5)]: Done 5748 out of 5757 | elapsed:   45.9s remaining:    0.1s\n",
      "[Parallel(n_jobs=5)]: Done 5757 out of 5757 | elapsed:   46.0s finished\n"
     ]
    },
    {
     "data": {
      "text/html": [
       "<div>\n",
       "<style scoped>\n",
       "    .dataframe tbody tr th:only-of-type {\n",
       "        vertical-align: middle;\n",
       "    }\n",
       "\n",
       "    .dataframe tbody tr th {\n",
       "        vertical-align: top;\n",
       "    }\n",
       "\n",
       "    .dataframe thead th {\n",
       "        text-align: right;\n",
       "    }\n",
       "</style>\n",
       "<table border=\"1\" class=\"dataframe\">\n",
       "  <thead>\n",
       "    <tr style=\"text-align: right;\">\n",
       "      <th></th>\n",
       "      <th>count</th>\n",
       "      <th>mean</th>\n",
       "      <th>std</th>\n",
       "      <th>min</th>\n",
       "      <th>25%</th>\n",
       "      <th>50%</th>\n",
       "      <th>75%</th>\n",
       "      <th>max</th>\n",
       "      <th>word1</th>\n",
       "      <th>word2</th>\n",
       "    </tr>\n",
       "  </thead>\n",
       "  <tbody>\n",
       "    <tr>\n",
       "      <th>0</th>\n",
       "      <td>5757.0</td>\n",
       "      <td>4.268369</td>\n",
       "      <td>1.232266</td>\n",
       "      <td>1.0</td>\n",
       "      <td>3.0</td>\n",
       "      <td>4.0</td>\n",
       "      <td>5.0</td>\n",
       "      <td>13.0</td>\n",
       "      <td>tares</td>\n",
       "      <td>noily</td>\n",
       "    </tr>\n",
       "  </tbody>\n",
       "</table>\n",
       "</div>"
      ],
      "text/plain": [
       "    count      mean       std  min  25%  50%  75%   max  word1  word2\n",
       "0  5757.0  4.268369  1.232266  1.0  3.0  4.0  5.0  13.0  tares  noily"
      ]
     },
     "metadata": {},
     "output_type": "display_data"
    },
    {
     "name": "stderr",
     "output_type": "stream",
     "text": [
      "[Parallel(n_jobs=5)]: Using backend LokyBackend with 5 concurrent workers.\n"
     ]
    },
    {
     "name": "stdout",
     "output_type": "stream",
     "text": [
      "[---- tares, piony ----]\n"
     ]
    },
    {
     "name": "stderr",
     "output_type": "stream",
     "text": [
      "[Parallel(n_jobs=5)]: Done  38 tasks      | elapsed:    0.3s\n",
      "[Parallel(n_jobs=5)]: Done 774 tasks      | elapsed:    5.4s\n",
      "[Parallel(n_jobs=5)]: Done 2054 tasks      | elapsed:   15.2s\n",
      "[Parallel(n_jobs=5)]: Done 3846 tasks      | elapsed:   29.0s\n",
      "[Parallel(n_jobs=5)]: Done 5757 out of 5757 | elapsed:   44.3s finished\n"
     ]
    },
    {
     "data": {
      "text/html": [
       "<div>\n",
       "<style scoped>\n",
       "    .dataframe tbody tr th:only-of-type {\n",
       "        vertical-align: middle;\n",
       "    }\n",
       "\n",
       "    .dataframe tbody tr th {\n",
       "        vertical-align: top;\n",
       "    }\n",
       "\n",
       "    .dataframe thead th {\n",
       "        text-align: right;\n",
       "    }\n",
       "</style>\n",
       "<table border=\"1\" class=\"dataframe\">\n",
       "  <thead>\n",
       "    <tr style=\"text-align: right;\">\n",
       "      <th></th>\n",
       "      <th>count</th>\n",
       "      <th>mean</th>\n",
       "      <th>std</th>\n",
       "      <th>min</th>\n",
       "      <th>25%</th>\n",
       "      <th>50%</th>\n",
       "      <th>75%</th>\n",
       "      <th>max</th>\n",
       "      <th>word1</th>\n",
       "      <th>word2</th>\n",
       "    </tr>\n",
       "  </thead>\n",
       "  <tbody>\n",
       "    <tr>\n",
       "      <th>0</th>\n",
       "      <td>5757.0</td>\n",
       "      <td>4.230676</td>\n",
       "      <td>1.185069</td>\n",
       "      <td>1.0</td>\n",
       "      <td>3.0</td>\n",
       "      <td>4.0</td>\n",
       "      <td>5.0</td>\n",
       "      <td>11.0</td>\n",
       "      <td>tares</td>\n",
       "      <td>piony</td>\n",
       "    </tr>\n",
       "  </tbody>\n",
       "</table>\n",
       "</div>"
      ],
      "text/plain": [
       "    count      mean       std  min  25%  50%  75%   max  word1  word2\n",
       "0  5757.0  4.230676  1.185069  1.0  3.0  4.0  5.0  11.0  tares  piony"
      ]
     },
     "metadata": {},
     "output_type": "display_data"
    },
    {
     "name": "stderr",
     "output_type": "stream",
     "text": [
      "[Parallel(n_jobs=5)]: Using backend LokyBackend with 5 concurrent workers.\n"
     ]
    },
    {
     "name": "stdout",
     "output_type": "stream",
     "text": [
      "[---- tares, could ----]\n"
     ]
    },
    {
     "name": "stderr",
     "output_type": "stream",
     "text": [
      "[Parallel(n_jobs=5)]: Done  38 tasks      | elapsed:    0.4s\n",
      "[Parallel(n_jobs=5)]: Done 422 tasks      | elapsed:    2.9s\n",
      "[Parallel(n_jobs=5)]: Done 1062 tasks      | elapsed:    7.4s\n",
      "[Parallel(n_jobs=5)]: Done 1958 tasks      | elapsed:   14.4s\n",
      "[Parallel(n_jobs=5)]: Done 3110 tasks      | elapsed:   23.7s\n",
      "[Parallel(n_jobs=5)]: Done 4518 tasks      | elapsed:   35.2s\n",
      "[Parallel(n_jobs=5)]: Done 5748 out of 5757 | elapsed:   45.0s remaining:    0.1s\n",
      "[Parallel(n_jobs=5)]: Done 5757 out of 5757 | elapsed:   45.1s finished\n"
     ]
    },
    {
     "data": {
      "text/html": [
       "<div>\n",
       "<style scoped>\n",
       "    .dataframe tbody tr th:only-of-type {\n",
       "        vertical-align: middle;\n",
       "    }\n",
       "\n",
       "    .dataframe tbody tr th {\n",
       "        vertical-align: top;\n",
       "    }\n",
       "\n",
       "    .dataframe thead th {\n",
       "        text-align: right;\n",
       "    }\n",
       "</style>\n",
       "<table border=\"1\" class=\"dataframe\">\n",
       "  <thead>\n",
       "    <tr style=\"text-align: right;\">\n",
       "      <th></th>\n",
       "      <th>count</th>\n",
       "      <th>mean</th>\n",
       "      <th>std</th>\n",
       "      <th>min</th>\n",
       "      <th>25%</th>\n",
       "      <th>50%</th>\n",
       "      <th>75%</th>\n",
       "      <th>max</th>\n",
       "      <th>word1</th>\n",
       "      <th>word2</th>\n",
       "    </tr>\n",
       "  </thead>\n",
       "  <tbody>\n",
       "    <tr>\n",
       "      <th>0</th>\n",
       "      <td>5757.0</td>\n",
       "      <td>4.209484</td>\n",
       "      <td>1.165684</td>\n",
       "      <td>1.0</td>\n",
       "      <td>3.0</td>\n",
       "      <td>4.0</td>\n",
       "      <td>5.0</td>\n",
       "      <td>12.0</td>\n",
       "      <td>tares</td>\n",
       "      <td>could</td>\n",
       "    </tr>\n",
       "  </tbody>\n",
       "</table>\n",
       "</div>"
      ],
      "text/plain": [
       "    count      mean       std  min  25%  50%  75%   max  word1  word2\n",
       "0  5757.0  4.209484  1.165684  1.0  3.0  4.0  5.0  12.0  tares  could"
      ]
     },
     "metadata": {},
     "output_type": "display_data"
    },
    {
     "name": "stderr",
     "output_type": "stream",
     "text": [
      "[Parallel(n_jobs=5)]: Using backend LokyBackend with 5 concurrent workers.\n"
     ]
    },
    {
     "name": "stdout",
     "output_type": "stream",
     "text": [
      "\n",
      "\n",
      "\n",
      "--------------------\n",
      "cores\n",
      "--------------------\n",
      "['laity', 'daily', 'gaily', 'haily', 'paint']\n",
      "[---- cores, laity ----]\n"
     ]
    },
    {
     "name": "stderr",
     "output_type": "stream",
     "text": [
      "[Parallel(n_jobs=5)]: Done  38 tasks      | elapsed:    0.3s\n",
      "[Parallel(n_jobs=5)]: Done 422 tasks      | elapsed:    3.0s\n",
      "[Parallel(n_jobs=5)]: Done 1062 tasks      | elapsed:    7.7s\n",
      "[Parallel(n_jobs=5)]: Done 1958 tasks      | elapsed:   16.2s\n",
      "[Parallel(n_jobs=5)]: Done 3110 tasks      | elapsed:   26.2s\n",
      "[Parallel(n_jobs=5)]: Done 4518 tasks      | elapsed:   37.9s\n",
      "[Parallel(n_jobs=5)]: Done 5748 out of 5757 | elapsed:   47.8s remaining:    0.1s\n",
      "[Parallel(n_jobs=5)]: Done 5757 out of 5757 | elapsed:   47.9s finished\n"
     ]
    },
    {
     "data": {
      "text/html": [
       "<div>\n",
       "<style scoped>\n",
       "    .dataframe tbody tr th:only-of-type {\n",
       "        vertical-align: middle;\n",
       "    }\n",
       "\n",
       "    .dataframe tbody tr th {\n",
       "        vertical-align: top;\n",
       "    }\n",
       "\n",
       "    .dataframe thead th {\n",
       "        text-align: right;\n",
       "    }\n",
       "</style>\n",
       "<table border=\"1\" class=\"dataframe\">\n",
       "  <thead>\n",
       "    <tr style=\"text-align: right;\">\n",
       "      <th></th>\n",
       "      <th>count</th>\n",
       "      <th>mean</th>\n",
       "      <th>std</th>\n",
       "      <th>min</th>\n",
       "      <th>25%</th>\n",
       "      <th>50%</th>\n",
       "      <th>75%</th>\n",
       "      <th>max</th>\n",
       "      <th>word1</th>\n",
       "      <th>word2</th>\n",
       "    </tr>\n",
       "  </thead>\n",
       "  <tbody>\n",
       "    <tr>\n",
       "      <th>0</th>\n",
       "      <td>5757.0</td>\n",
       "      <td>4.280875</td>\n",
       "      <td>1.234974</td>\n",
       "      <td>1.0</td>\n",
       "      <td>3.0</td>\n",
       "      <td>4.0</td>\n",
       "      <td>5.0</td>\n",
       "      <td>12.0</td>\n",
       "      <td>cores</td>\n",
       "      <td>laity</td>\n",
       "    </tr>\n",
       "  </tbody>\n",
       "</table>\n",
       "</div>"
      ],
      "text/plain": [
       "    count      mean       std  min  25%  50%  75%   max  word1  word2\n",
       "0  5757.0  4.280875  1.234974  1.0  3.0  4.0  5.0  12.0  cores  laity"
      ]
     },
     "metadata": {},
     "output_type": "display_data"
    },
    {
     "name": "stderr",
     "output_type": "stream",
     "text": [
      "[Parallel(n_jobs=5)]: Using backend LokyBackend with 5 concurrent workers.\n"
     ]
    },
    {
     "name": "stdout",
     "output_type": "stream",
     "text": [
      "[---- cores, daily ----]\n"
     ]
    },
    {
     "name": "stderr",
     "output_type": "stream",
     "text": [
      "[Parallel(n_jobs=5)]: Done  38 tasks      | elapsed:    0.3s\n",
      "[Parallel(n_jobs=5)]: Done 774 tasks      | elapsed:    5.7s\n",
      "[Parallel(n_jobs=5)]: Done 2054 tasks      | elapsed:   15.7s\n",
      "[Parallel(n_jobs=5)]: Done 3846 tasks      | elapsed:   31.1s\n",
      "[Parallel(n_jobs=5)]: Done 5748 out of 5757 | elapsed:   47.6s remaining:    0.1s\n",
      "[Parallel(n_jobs=5)]: Done 5757 out of 5757 | elapsed:   47.8s finished\n"
     ]
    },
    {
     "data": {
      "text/html": [
       "<div>\n",
       "<style scoped>\n",
       "    .dataframe tbody tr th:only-of-type {\n",
       "        vertical-align: middle;\n",
       "    }\n",
       "\n",
       "    .dataframe tbody tr th {\n",
       "        vertical-align: top;\n",
       "    }\n",
       "\n",
       "    .dataframe thead th {\n",
       "        text-align: right;\n",
       "    }\n",
       "</style>\n",
       "<table border=\"1\" class=\"dataframe\">\n",
       "  <thead>\n",
       "    <tr style=\"text-align: right;\">\n",
       "      <th></th>\n",
       "      <th>count</th>\n",
       "      <th>mean</th>\n",
       "      <th>std</th>\n",
       "      <th>min</th>\n",
       "      <th>25%</th>\n",
       "      <th>50%</th>\n",
       "      <th>75%</th>\n",
       "      <th>max</th>\n",
       "      <th>word1</th>\n",
       "      <th>word2</th>\n",
       "    </tr>\n",
       "  </thead>\n",
       "  <tbody>\n",
       "    <tr>\n",
       "      <th>0</th>\n",
       "      <td>5757.0</td>\n",
       "      <td>4.31301</td>\n",
       "      <td>1.238144</td>\n",
       "      <td>1.0</td>\n",
       "      <td>3.0</td>\n",
       "      <td>4.0</td>\n",
       "      <td>5.0</td>\n",
       "      <td>13.0</td>\n",
       "      <td>cores</td>\n",
       "      <td>daily</td>\n",
       "    </tr>\n",
       "  </tbody>\n",
       "</table>\n",
       "</div>"
      ],
      "text/plain": [
       "    count     mean       std  min  25%  50%  75%   max  word1  word2\n",
       "0  5757.0  4.31301  1.238144  1.0  3.0  4.0  5.0  13.0  cores  daily"
      ]
     },
     "metadata": {},
     "output_type": "display_data"
    },
    {
     "name": "stdout",
     "output_type": "stream",
     "text": [
      "[---- cores, gaily ----]\n"
     ]
    },
    {
     "name": "stderr",
     "output_type": "stream",
     "text": [
      "[Parallel(n_jobs=5)]: Using backend LokyBackend with 5 concurrent workers.\n",
      "[Parallel(n_jobs=5)]: Done  38 tasks      | elapsed:    0.3s\n",
      "[Parallel(n_jobs=5)]: Done 774 tasks      | elapsed:    5.9s\n",
      "[Parallel(n_jobs=5)]: Done 2054 tasks      | elapsed:   16.2s\n",
      "[Parallel(n_jobs=5)]: Done 3846 tasks      | elapsed:   31.3s\n",
      "[Parallel(n_jobs=5)]: Done 5748 out of 5757 | elapsed:   48.2s remaining:    0.1s\n",
      "[Parallel(n_jobs=5)]: Done 5757 out of 5757 | elapsed:   48.4s finished\n"
     ]
    },
    {
     "data": {
      "text/html": [
       "<div>\n",
       "<style scoped>\n",
       "    .dataframe tbody tr th:only-of-type {\n",
       "        vertical-align: middle;\n",
       "    }\n",
       "\n",
       "    .dataframe tbody tr th {\n",
       "        vertical-align: top;\n",
       "    }\n",
       "\n",
       "    .dataframe thead th {\n",
       "        text-align: right;\n",
       "    }\n",
       "</style>\n",
       "<table border=\"1\" class=\"dataframe\">\n",
       "  <thead>\n",
       "    <tr style=\"text-align: right;\">\n",
       "      <th></th>\n",
       "      <th>count</th>\n",
       "      <th>mean</th>\n",
       "      <th>std</th>\n",
       "      <th>min</th>\n",
       "      <th>25%</th>\n",
       "      <th>50%</th>\n",
       "      <th>75%</th>\n",
       "      <th>max</th>\n",
       "      <th>word1</th>\n",
       "      <th>word2</th>\n",
       "    </tr>\n",
       "  </thead>\n",
       "  <tbody>\n",
       "    <tr>\n",
       "      <th>0</th>\n",
       "      <td>5757.0</td>\n",
       "      <td>4.38527</td>\n",
       "      <td>1.28642</td>\n",
       "      <td>1.0</td>\n",
       "      <td>4.0</td>\n",
       "      <td>4.0</td>\n",
       "      <td>5.0</td>\n",
       "      <td>13.0</td>\n",
       "      <td>cores</td>\n",
       "      <td>gaily</td>\n",
       "    </tr>\n",
       "  </tbody>\n",
       "</table>\n",
       "</div>"
      ],
      "text/plain": [
       "    count     mean      std  min  25%  50%  75%   max  word1  word2\n",
       "0  5757.0  4.38527  1.28642  1.0  4.0  4.0  5.0  13.0  cores  gaily"
      ]
     },
     "metadata": {},
     "output_type": "display_data"
    },
    {
     "name": "stderr",
     "output_type": "stream",
     "text": [
      "[Parallel(n_jobs=5)]: Using backend LokyBackend with 5 concurrent workers.\n"
     ]
    },
    {
     "name": "stdout",
     "output_type": "stream",
     "text": [
      "[---- cores, haily ----]\n"
     ]
    },
    {
     "name": "stderr",
     "output_type": "stream",
     "text": [
      "[Parallel(n_jobs=5)]: Done  38 tasks      | elapsed:    0.4s\n",
      "[Parallel(n_jobs=5)]: Done 774 tasks      | elapsed:    6.0s\n",
      "[Parallel(n_jobs=5)]: Done 2054 tasks      | elapsed:   16.0s\n",
      "[Parallel(n_jobs=5)]: Done 3846 tasks      | elapsed:   31.2s\n",
      "[Parallel(n_jobs=5)]: Done 5748 out of 5757 | elapsed:   47.9s remaining:    0.1s\n",
      "[Parallel(n_jobs=5)]: Done 5757 out of 5757 | elapsed:   48.0s finished\n"
     ]
    },
    {
     "data": {
      "text/html": [
       "<div>\n",
       "<style scoped>\n",
       "    .dataframe tbody tr th:only-of-type {\n",
       "        vertical-align: middle;\n",
       "    }\n",
       "\n",
       "    .dataframe tbody tr th {\n",
       "        vertical-align: top;\n",
       "    }\n",
       "\n",
       "    .dataframe thead th {\n",
       "        text-align: right;\n",
       "    }\n",
       "</style>\n",
       "<table border=\"1\" class=\"dataframe\">\n",
       "  <thead>\n",
       "    <tr style=\"text-align: right;\">\n",
       "      <th></th>\n",
       "      <th>count</th>\n",
       "      <th>mean</th>\n",
       "      <th>std</th>\n",
       "      <th>min</th>\n",
       "      <th>25%</th>\n",
       "      <th>50%</th>\n",
       "      <th>75%</th>\n",
       "      <th>max</th>\n",
       "      <th>word1</th>\n",
       "      <th>word2</th>\n",
       "    </tr>\n",
       "  </thead>\n",
       "  <tbody>\n",
       "    <tr>\n",
       "      <th>0</th>\n",
       "      <td>5757.0</td>\n",
       "      <td>4.379191</td>\n",
       "      <td>1.270231</td>\n",
       "      <td>1.0</td>\n",
       "      <td>4.0</td>\n",
       "      <td>4.0</td>\n",
       "      <td>5.0</td>\n",
       "      <td>12.0</td>\n",
       "      <td>cores</td>\n",
       "      <td>haily</td>\n",
       "    </tr>\n",
       "  </tbody>\n",
       "</table>\n",
       "</div>"
      ],
      "text/plain": [
       "    count      mean       std  min  25%  50%  75%   max  word1  word2\n",
       "0  5757.0  4.379191  1.270231  1.0  4.0  4.0  5.0  12.0  cores  haily"
      ]
     },
     "metadata": {},
     "output_type": "display_data"
    },
    {
     "name": "stderr",
     "output_type": "stream",
     "text": [
      "[Parallel(n_jobs=5)]: Using backend LokyBackend with 5 concurrent workers.\n"
     ]
    },
    {
     "name": "stdout",
     "output_type": "stream",
     "text": [
      "[---- cores, paint ----]\n"
     ]
    },
    {
     "name": "stderr",
     "output_type": "stream",
     "text": [
      "[Parallel(n_jobs=5)]: Done  38 tasks      | elapsed:    0.3s\n",
      "[Parallel(n_jobs=5)]: Done 774 tasks      | elapsed:    5.9s\n",
      "[Parallel(n_jobs=5)]: Done 2054 tasks      | elapsed:   15.5s\n",
      "[Parallel(n_jobs=5)]: Done 3846 tasks      | elapsed:   29.8s\n",
      "[Parallel(n_jobs=5)]: Done 5748 out of 5757 | elapsed:   45.0s remaining:    0.1s\n",
      "[Parallel(n_jobs=5)]: Done 5757 out of 5757 | elapsed:   45.1s finished\n"
     ]
    },
    {
     "data": {
      "text/html": [
       "<div>\n",
       "<style scoped>\n",
       "    .dataframe tbody tr th:only-of-type {\n",
       "        vertical-align: middle;\n",
       "    }\n",
       "\n",
       "    .dataframe tbody tr th {\n",
       "        vertical-align: top;\n",
       "    }\n",
       "\n",
       "    .dataframe thead th {\n",
       "        text-align: right;\n",
       "    }\n",
       "</style>\n",
       "<table border=\"1\" class=\"dataframe\">\n",
       "  <thead>\n",
       "    <tr style=\"text-align: right;\">\n",
       "      <th></th>\n",
       "      <th>count</th>\n",
       "      <th>mean</th>\n",
       "      <th>std</th>\n",
       "      <th>min</th>\n",
       "      <th>25%</th>\n",
       "      <th>50%</th>\n",
       "      <th>75%</th>\n",
       "      <th>max</th>\n",
       "      <th>word1</th>\n",
       "      <th>word2</th>\n",
       "    </tr>\n",
       "  </thead>\n",
       "  <tbody>\n",
       "    <tr>\n",
       "      <th>0</th>\n",
       "      <td>5757.0</td>\n",
       "      <td>4.162585</td>\n",
       "      <td>1.158392</td>\n",
       "      <td>1.0</td>\n",
       "      <td>3.0</td>\n",
       "      <td>4.0</td>\n",
       "      <td>5.0</td>\n",
       "      <td>11.0</td>\n",
       "      <td>cores</td>\n",
       "      <td>paint</td>\n",
       "    </tr>\n",
       "  </tbody>\n",
       "</table>\n",
       "</div>"
      ],
      "text/plain": [
       "    count      mean       std  min  25%  50%  75%   max  word1  word2\n",
       "0  5757.0  4.162585  1.158392  1.0  3.0  4.0  5.0  11.0  cores  paint"
      ]
     },
     "metadata": {},
     "output_type": "display_data"
    },
    {
     "name": "stderr",
     "output_type": "stream",
     "text": [
      "[Parallel(n_jobs=5)]: Using backend LokyBackend with 5 concurrent workers.\n"
     ]
    },
    {
     "name": "stdout",
     "output_type": "stream",
     "text": [
      "\n",
      "\n",
      "\n",
      "--------------------\n",
      "bores\n",
      "--------------------\n",
      "['laity', 'daily', 'gaily', 'haily', 'canid']\n",
      "[---- bores, laity ----]\n"
     ]
    },
    {
     "name": "stderr",
     "output_type": "stream",
     "text": [
      "[Parallel(n_jobs=5)]: Done  38 tasks      | elapsed:    0.4s\n",
      "[Parallel(n_jobs=5)]: Done 422 tasks      | elapsed:    3.4s\n",
      "[Parallel(n_jobs=5)]: Done 1062 tasks      | elapsed:    8.3s\n",
      "[Parallel(n_jobs=5)]: Done 1958 tasks      | elapsed:   15.3s\n",
      "[Parallel(n_jobs=5)]: Done 3110 tasks      | elapsed:   26.6s\n",
      "[Parallel(n_jobs=5)]: Done 4518 tasks      | elapsed:   39.3s\n",
      "[Parallel(n_jobs=5)]: Done 5748 out of 5757 | elapsed:   49.8s remaining:    0.1s\n",
      "[Parallel(n_jobs=5)]: Done 5757 out of 5757 | elapsed:   49.8s finished\n"
     ]
    },
    {
     "data": {
      "text/html": [
       "<div>\n",
       "<style scoped>\n",
       "    .dataframe tbody tr th:only-of-type {\n",
       "        vertical-align: middle;\n",
       "    }\n",
       "\n",
       "    .dataframe tbody tr th {\n",
       "        vertical-align: top;\n",
       "    }\n",
       "\n",
       "    .dataframe thead th {\n",
       "        text-align: right;\n",
       "    }\n",
       "</style>\n",
       "<table border=\"1\" class=\"dataframe\">\n",
       "  <thead>\n",
       "    <tr style=\"text-align: right;\">\n",
       "      <th></th>\n",
       "      <th>count</th>\n",
       "      <th>mean</th>\n",
       "      <th>std</th>\n",
       "      <th>min</th>\n",
       "      <th>25%</th>\n",
       "      <th>50%</th>\n",
       "      <th>75%</th>\n",
       "      <th>max</th>\n",
       "      <th>word1</th>\n",
       "      <th>word2</th>\n",
       "    </tr>\n",
       "  </thead>\n",
       "  <tbody>\n",
       "    <tr>\n",
       "      <th>0</th>\n",
       "      <td>5757.0</td>\n",
       "      <td>4.278617</td>\n",
       "      <td>1.200467</td>\n",
       "      <td>1.0</td>\n",
       "      <td>3.0</td>\n",
       "      <td>4.0</td>\n",
       "      <td>5.0</td>\n",
       "      <td>12.0</td>\n",
       "      <td>bores</td>\n",
       "      <td>laity</td>\n",
       "    </tr>\n",
       "  </tbody>\n",
       "</table>\n",
       "</div>"
      ],
      "text/plain": [
       "    count      mean       std  min  25%  50%  75%   max  word1  word2\n",
       "0  5757.0  4.278617  1.200467  1.0  3.0  4.0  5.0  12.0  bores  laity"
      ]
     },
     "metadata": {},
     "output_type": "display_data"
    },
    {
     "name": "stderr",
     "output_type": "stream",
     "text": [
      "[Parallel(n_jobs=5)]: Using backend LokyBackend with 5 concurrent workers.\n"
     ]
    },
    {
     "name": "stdout",
     "output_type": "stream",
     "text": [
      "[---- bores, daily ----]\n"
     ]
    },
    {
     "name": "stderr",
     "output_type": "stream",
     "text": [
      "[Parallel(n_jobs=5)]: Done  38 tasks      | elapsed:    0.4s\n",
      "[Parallel(n_jobs=5)]: Done 774 tasks      | elapsed:    5.8s\n",
      "[Parallel(n_jobs=5)]: Done 2054 tasks      | elapsed:   16.4s\n",
      "[Parallel(n_jobs=5)]: Done 3846 tasks      | elapsed:   31.2s\n",
      "[Parallel(n_jobs=5)]: Done 5748 out of 5757 | elapsed:   48.5s remaining:    0.1s\n",
      "[Parallel(n_jobs=5)]: Done 5757 out of 5757 | elapsed:   48.7s finished\n"
     ]
    },
    {
     "data": {
      "text/html": [
       "<div>\n",
       "<style scoped>\n",
       "    .dataframe tbody tr th:only-of-type {\n",
       "        vertical-align: middle;\n",
       "    }\n",
       "\n",
       "    .dataframe tbody tr th {\n",
       "        vertical-align: top;\n",
       "    }\n",
       "\n",
       "    .dataframe thead th {\n",
       "        text-align: right;\n",
       "    }\n",
       "</style>\n",
       "<table border=\"1\" class=\"dataframe\">\n",
       "  <thead>\n",
       "    <tr style=\"text-align: right;\">\n",
       "      <th></th>\n",
       "      <th>count</th>\n",
       "      <th>mean</th>\n",
       "      <th>std</th>\n",
       "      <th>min</th>\n",
       "      <th>25%</th>\n",
       "      <th>50%</th>\n",
       "      <th>75%</th>\n",
       "      <th>max</th>\n",
       "      <th>word1</th>\n",
       "      <th>word2</th>\n",
       "    </tr>\n",
       "  </thead>\n",
       "  <tbody>\n",
       "    <tr>\n",
       "      <th>0</th>\n",
       "      <td>5757.0</td>\n",
       "      <td>4.334549</td>\n",
       "      <td>1.226705</td>\n",
       "      <td>1.0</td>\n",
       "      <td>3.0</td>\n",
       "      <td>4.0</td>\n",
       "      <td>5.0</td>\n",
       "      <td>12.0</td>\n",
       "      <td>bores</td>\n",
       "      <td>daily</td>\n",
       "    </tr>\n",
       "  </tbody>\n",
       "</table>\n",
       "</div>"
      ],
      "text/plain": [
       "    count      mean       std  min  25%  50%  75%   max  word1  word2\n",
       "0  5757.0  4.334549  1.226705  1.0  3.0  4.0  5.0  12.0  bores  daily"
      ]
     },
     "metadata": {},
     "output_type": "display_data"
    },
    {
     "name": "stdout",
     "output_type": "stream",
     "text": [
      "[---- bores, gaily ----]\n"
     ]
    },
    {
     "name": "stderr",
     "output_type": "stream",
     "text": [
      "[Parallel(n_jobs=5)]: Using backend LokyBackend with 5 concurrent workers.\n",
      "[Parallel(n_jobs=5)]: Done  38 tasks      | elapsed:    0.3s\n",
      "[Parallel(n_jobs=5)]: Done 774 tasks      | elapsed:    6.1s\n",
      "[Parallel(n_jobs=5)]: Done 2054 tasks      | elapsed:   16.5s\n",
      "[Parallel(n_jobs=5)]: Done 3846 tasks      | elapsed:   33.3s\n",
      "[Parallel(n_jobs=5)]: Done 5748 out of 5757 | elapsed:   50.2s remaining:    0.1s\n",
      "[Parallel(n_jobs=5)]: Done 5757 out of 5757 | elapsed:   50.4s finished\n"
     ]
    },
    {
     "data": {
      "text/html": [
       "<div>\n",
       "<style scoped>\n",
       "    .dataframe tbody tr th:only-of-type {\n",
       "        vertical-align: middle;\n",
       "    }\n",
       "\n",
       "    .dataframe tbody tr th {\n",
       "        vertical-align: top;\n",
       "    }\n",
       "\n",
       "    .dataframe thead th {\n",
       "        text-align: right;\n",
       "    }\n",
       "</style>\n",
       "<table border=\"1\" class=\"dataframe\">\n",
       "  <thead>\n",
       "    <tr style=\"text-align: right;\">\n",
       "      <th></th>\n",
       "      <th>count</th>\n",
       "      <th>mean</th>\n",
       "      <th>std</th>\n",
       "      <th>min</th>\n",
       "      <th>25%</th>\n",
       "      <th>50%</th>\n",
       "      <th>75%</th>\n",
       "      <th>max</th>\n",
       "      <th>word1</th>\n",
       "      <th>word2</th>\n",
       "    </tr>\n",
       "  </thead>\n",
       "  <tbody>\n",
       "    <tr>\n",
       "      <th>0</th>\n",
       "      <td>5757.0</td>\n",
       "      <td>4.401945</td>\n",
       "      <td>1.2726</td>\n",
       "      <td>1.0</td>\n",
       "      <td>4.0</td>\n",
       "      <td>4.0</td>\n",
       "      <td>5.0</td>\n",
       "      <td>12.0</td>\n",
       "      <td>bores</td>\n",
       "      <td>gaily</td>\n",
       "    </tr>\n",
       "  </tbody>\n",
       "</table>\n",
       "</div>"
      ],
      "text/plain": [
       "    count      mean     std  min  25%  50%  75%   max  word1  word2\n",
       "0  5757.0  4.401945  1.2726  1.0  4.0  4.0  5.0  12.0  bores  gaily"
      ]
     },
     "metadata": {},
     "output_type": "display_data"
    },
    {
     "name": "stderr",
     "output_type": "stream",
     "text": [
      "[Parallel(n_jobs=5)]: Using backend LokyBackend with 5 concurrent workers.\n"
     ]
    },
    {
     "name": "stdout",
     "output_type": "stream",
     "text": [
      "[---- bores, haily ----]\n"
     ]
    },
    {
     "name": "stderr",
     "output_type": "stream",
     "text": [
      "[Parallel(n_jobs=5)]: Done  38 tasks      | elapsed:    0.3s\n",
      "[Parallel(n_jobs=5)]: Done 774 tasks      | elapsed:    6.0s\n",
      "[Parallel(n_jobs=5)]: Done 2054 tasks      | elapsed:   16.6s\n",
      "[Parallel(n_jobs=5)]: Done 3846 tasks      | elapsed:   32.0s\n",
      "[Parallel(n_jobs=5)]: Done 5748 out of 5757 | elapsed:   48.1s remaining:    0.1s\n",
      "[Parallel(n_jobs=5)]: Done 5757 out of 5757 | elapsed:   48.3s finished\n"
     ]
    },
    {
     "data": {
      "text/html": [
       "<div>\n",
       "<style scoped>\n",
       "    .dataframe tbody tr th:only-of-type {\n",
       "        vertical-align: middle;\n",
       "    }\n",
       "\n",
       "    .dataframe tbody tr th {\n",
       "        vertical-align: top;\n",
       "    }\n",
       "\n",
       "    .dataframe thead th {\n",
       "        text-align: right;\n",
       "    }\n",
       "</style>\n",
       "<table border=\"1\" class=\"dataframe\">\n",
       "  <thead>\n",
       "    <tr style=\"text-align: right;\">\n",
       "      <th></th>\n",
       "      <th>count</th>\n",
       "      <th>mean</th>\n",
       "      <th>std</th>\n",
       "      <th>min</th>\n",
       "      <th>25%</th>\n",
       "      <th>50%</th>\n",
       "      <th>75%</th>\n",
       "      <th>max</th>\n",
       "      <th>word1</th>\n",
       "      <th>word2</th>\n",
       "    </tr>\n",
       "  </thead>\n",
       "  <tbody>\n",
       "    <tr>\n",
       "      <th>0</th>\n",
       "      <td>5757.0</td>\n",
       "      <td>4.391697</td>\n",
       "      <td>1.256099</td>\n",
       "      <td>1.0</td>\n",
       "      <td>4.0</td>\n",
       "      <td>4.0</td>\n",
       "      <td>5.0</td>\n",
       "      <td>12.0</td>\n",
       "      <td>bores</td>\n",
       "      <td>haily</td>\n",
       "    </tr>\n",
       "  </tbody>\n",
       "</table>\n",
       "</div>"
      ],
      "text/plain": [
       "    count      mean       std  min  25%  50%  75%   max  word1  word2\n",
       "0  5757.0  4.391697  1.256099  1.0  4.0  4.0  5.0  12.0  bores  haily"
      ]
     },
     "metadata": {},
     "output_type": "display_data"
    },
    {
     "name": "stderr",
     "output_type": "stream",
     "text": [
      "[Parallel(n_jobs=5)]: Using backend LokyBackend with 5 concurrent workers.\n"
     ]
    },
    {
     "name": "stdout",
     "output_type": "stream",
     "text": [
      "[---- bores, canid ----]\n"
     ]
    },
    {
     "name": "stderr",
     "output_type": "stream",
     "text": [
      "[Parallel(n_jobs=5)]: Done  38 tasks      | elapsed:    0.4s\n",
      "[Parallel(n_jobs=5)]: Done 422 tasks      | elapsed:    3.2s\n",
      "[Parallel(n_jobs=5)]: Done 1062 tasks      | elapsed:    8.3s\n",
      "[Parallel(n_jobs=5)]: Done 1958 tasks      | elapsed:   15.9s\n",
      "[Parallel(n_jobs=5)]: Done 3110 tasks      | elapsed:   25.9s\n",
      "[Parallel(n_jobs=5)]: Done 4518 tasks      | elapsed:   37.5s\n",
      "[Parallel(n_jobs=5)]: Done 5748 out of 5757 | elapsed:   48.0s remaining:    0.1s\n",
      "[Parallel(n_jobs=5)]: Done 5757 out of 5757 | elapsed:   48.1s finished\n"
     ]
    },
    {
     "data": {
      "text/html": [
       "<div>\n",
       "<style scoped>\n",
       "    .dataframe tbody tr th:only-of-type {\n",
       "        vertical-align: middle;\n",
       "    }\n",
       "\n",
       "    .dataframe tbody tr th {\n",
       "        vertical-align: top;\n",
       "    }\n",
       "\n",
       "    .dataframe thead th {\n",
       "        text-align: right;\n",
       "    }\n",
       "</style>\n",
       "<table border=\"1\" class=\"dataframe\">\n",
       "  <thead>\n",
       "    <tr style=\"text-align: right;\">\n",
       "      <th></th>\n",
       "      <th>count</th>\n",
       "      <th>mean</th>\n",
       "      <th>std</th>\n",
       "      <th>min</th>\n",
       "      <th>25%</th>\n",
       "      <th>50%</th>\n",
       "      <th>75%</th>\n",
       "      <th>max</th>\n",
       "      <th>word1</th>\n",
       "      <th>word2</th>\n",
       "    </tr>\n",
       "  </thead>\n",
       "  <tbody>\n",
       "    <tr>\n",
       "      <th>0</th>\n",
       "      <td>5757.0</td>\n",
       "      <td>4.275143</td>\n",
       "      <td>1.192996</td>\n",
       "      <td>1.0</td>\n",
       "      <td>3.0</td>\n",
       "      <td>4.0</td>\n",
       "      <td>5.0</td>\n",
       "      <td>11.0</td>\n",
       "      <td>bores</td>\n",
       "      <td>canid</td>\n",
       "    </tr>\n",
       "  </tbody>\n",
       "</table>\n",
       "</div>"
      ],
      "text/plain": [
       "    count      mean       std  min  25%  50%  75%   max  word1  word2\n",
       "0  5757.0  4.275143  1.192996  1.0  3.0  4.0  5.0  11.0  bores  canid"
      ]
     },
     "metadata": {},
     "output_type": "display_data"
    },
    {
     "name": "stderr",
     "output_type": "stream",
     "text": [
      "[Parallel(n_jobs=5)]: Using backend LokyBackend with 5 concurrent workers.\n"
     ]
    },
    {
     "name": "stdout",
     "output_type": "stream",
     "text": [
      "\n",
      "\n",
      "\n",
      "--------------------\n",
      "pores\n",
      "--------------------\n",
      "['laity', 'daily', 'gaily', 'haily', 'canid']\n",
      "[---- pores, laity ----]\n"
     ]
    },
    {
     "name": "stderr",
     "output_type": "stream",
     "text": [
      "[Parallel(n_jobs=5)]: Done  38 tasks      | elapsed:    0.4s\n",
      "[Parallel(n_jobs=5)]: Done 422 tasks      | elapsed:    3.4s\n",
      "[Parallel(n_jobs=5)]: Done 1062 tasks      | elapsed:    8.9s\n",
      "[Parallel(n_jobs=5)]: Done 1958 tasks      | elapsed:   16.8s\n",
      "[Parallel(n_jobs=5)]: Done 3110 tasks      | elapsed:   34.1s\n",
      "[Parallel(n_jobs=5)]: Done 4518 tasks      | elapsed:   50.6s\n",
      "[Parallel(n_jobs=5)]: Done 5748 out of 5757 | elapsed:  1.0min remaining:    0.1s\n",
      "[Parallel(n_jobs=5)]: Done 5757 out of 5757 | elapsed:  1.0min finished\n"
     ]
    },
    {
     "data": {
      "text/html": [
       "<div>\n",
       "<style scoped>\n",
       "    .dataframe tbody tr th:only-of-type {\n",
       "        vertical-align: middle;\n",
       "    }\n",
       "\n",
       "    .dataframe tbody tr th {\n",
       "        vertical-align: top;\n",
       "    }\n",
       "\n",
       "    .dataframe thead th {\n",
       "        text-align: right;\n",
       "    }\n",
       "</style>\n",
       "<table border=\"1\" class=\"dataframe\">\n",
       "  <thead>\n",
       "    <tr style=\"text-align: right;\">\n",
       "      <th></th>\n",
       "      <th>count</th>\n",
       "      <th>mean</th>\n",
       "      <th>std</th>\n",
       "      <th>min</th>\n",
       "      <th>25%</th>\n",
       "      <th>50%</th>\n",
       "      <th>75%</th>\n",
       "      <th>max</th>\n",
       "      <th>word1</th>\n",
       "      <th>word2</th>\n",
       "    </tr>\n",
       "  </thead>\n",
       "  <tbody>\n",
       "    <tr>\n",
       "      <th>0</th>\n",
       "      <td>5757.0</td>\n",
       "      <td>4.230849</td>\n",
       "      <td>1.181585</td>\n",
       "      <td>1.0</td>\n",
       "      <td>3.0</td>\n",
       "      <td>4.0</td>\n",
       "      <td>5.0</td>\n",
       "      <td>12.0</td>\n",
       "      <td>pores</td>\n",
       "      <td>laity</td>\n",
       "    </tr>\n",
       "  </tbody>\n",
       "</table>\n",
       "</div>"
      ],
      "text/plain": [
       "    count      mean       std  min  25%  50%  75%   max  word1  word2\n",
       "0  5757.0  4.230849  1.181585  1.0  3.0  4.0  5.0  12.0  pores  laity"
      ]
     },
     "metadata": {},
     "output_type": "display_data"
    },
    {
     "name": "stderr",
     "output_type": "stream",
     "text": [
      "[Parallel(n_jobs=5)]: Using backend LokyBackend with 5 concurrent workers.\n"
     ]
    },
    {
     "name": "stdout",
     "output_type": "stream",
     "text": [
      "[---- pores, daily ----]\n"
     ]
    },
    {
     "name": "stderr",
     "output_type": "stream",
     "text": [
      "[Parallel(n_jobs=5)]: Done  38 tasks      | elapsed:    0.4s\n",
      "[Parallel(n_jobs=5)]: Done 422 tasks      | elapsed:    3.4s\n",
      "[Parallel(n_jobs=5)]: Done 1062 tasks      | elapsed:    8.1s\n",
      "[Parallel(n_jobs=5)]: Done 1958 tasks      | elapsed:   15.5s\n",
      "[Parallel(n_jobs=5)]: Done 3110 tasks      | elapsed:   25.8s\n",
      "[Parallel(n_jobs=5)]: Done 4518 tasks      | elapsed:   37.8s\n",
      "[Parallel(n_jobs=5)]: Done 5748 out of 5757 | elapsed:   48.5s remaining:    0.1s\n",
      "[Parallel(n_jobs=5)]: Done 5757 out of 5757 | elapsed:   48.6s finished\n"
     ]
    },
    {
     "data": {
      "text/html": [
       "<div>\n",
       "<style scoped>\n",
       "    .dataframe tbody tr th:only-of-type {\n",
       "        vertical-align: middle;\n",
       "    }\n",
       "\n",
       "    .dataframe tbody tr th {\n",
       "        vertical-align: top;\n",
       "    }\n",
       "\n",
       "    .dataframe thead th {\n",
       "        text-align: right;\n",
       "    }\n",
       "</style>\n",
       "<table border=\"1\" class=\"dataframe\">\n",
       "  <thead>\n",
       "    <tr style=\"text-align: right;\">\n",
       "      <th></th>\n",
       "      <th>count</th>\n",
       "      <th>mean</th>\n",
       "      <th>std</th>\n",
       "      <th>min</th>\n",
       "      <th>25%</th>\n",
       "      <th>50%</th>\n",
       "      <th>75%</th>\n",
       "      <th>max</th>\n",
       "      <th>word1</th>\n",
       "      <th>word2</th>\n",
       "    </tr>\n",
       "  </thead>\n",
       "  <tbody>\n",
       "    <tr>\n",
       "      <th>0</th>\n",
       "      <td>5757.0</td>\n",
       "      <td>4.275838</td>\n",
       "      <td>1.191962</td>\n",
       "      <td>1.0</td>\n",
       "      <td>3.0</td>\n",
       "      <td>4.0</td>\n",
       "      <td>5.0</td>\n",
       "      <td>12.0</td>\n",
       "      <td>pores</td>\n",
       "      <td>daily</td>\n",
       "    </tr>\n",
       "  </tbody>\n",
       "</table>\n",
       "</div>"
      ],
      "text/plain": [
       "    count      mean       std  min  25%  50%  75%   max  word1  word2\n",
       "0  5757.0  4.275838  1.191962  1.0  3.0  4.0  5.0  12.0  pores  daily"
      ]
     },
     "metadata": {},
     "output_type": "display_data"
    },
    {
     "name": "stderr",
     "output_type": "stream",
     "text": [
      "[Parallel(n_jobs=5)]: Using backend LokyBackend with 5 concurrent workers.\n"
     ]
    },
    {
     "name": "stdout",
     "output_type": "stream",
     "text": [
      "[---- pores, gaily ----]\n"
     ]
    },
    {
     "name": "stderr",
     "output_type": "stream",
     "text": [
      "[Parallel(n_jobs=5)]: Done  38 tasks      | elapsed:    0.4s\n",
      "[Parallel(n_jobs=5)]: Done 422 tasks      | elapsed:    3.5s\n",
      "[Parallel(n_jobs=5)]: Done 1062 tasks      | elapsed:    8.9s\n",
      "[Parallel(n_jobs=5)]: Done 1958 tasks      | elapsed:   16.7s\n",
      "[Parallel(n_jobs=5)]: Done 3110 tasks      | elapsed:   26.6s\n",
      "[Parallel(n_jobs=5)]: Done 4518 tasks      | elapsed:   38.9s\n",
      "[Parallel(n_jobs=5)]: Done 5757 out of 5757 | elapsed:   50.0s finished\n"
     ]
    },
    {
     "data": {
      "text/html": [
       "<div>\n",
       "<style scoped>\n",
       "    .dataframe tbody tr th:only-of-type {\n",
       "        vertical-align: middle;\n",
       "    }\n",
       "\n",
       "    .dataframe tbody tr th {\n",
       "        vertical-align: top;\n",
       "    }\n",
       "\n",
       "    .dataframe thead th {\n",
       "        text-align: right;\n",
       "    }\n",
       "</style>\n",
       "<table border=\"1\" class=\"dataframe\">\n",
       "  <thead>\n",
       "    <tr style=\"text-align: right;\">\n",
       "      <th></th>\n",
       "      <th>count</th>\n",
       "      <th>mean</th>\n",
       "      <th>std</th>\n",
       "      <th>min</th>\n",
       "      <th>25%</th>\n",
       "      <th>50%</th>\n",
       "      <th>75%</th>\n",
       "      <th>max</th>\n",
       "      <th>word1</th>\n",
       "      <th>word2</th>\n",
       "    </tr>\n",
       "  </thead>\n",
       "  <tbody>\n",
       "    <tr>\n",
       "      <th>0</th>\n",
       "      <td>5757.0</td>\n",
       "      <td>4.338544</td>\n",
       "      <td>1.234717</td>\n",
       "      <td>1.0</td>\n",
       "      <td>3.0</td>\n",
       "      <td>4.0</td>\n",
       "      <td>5.0</td>\n",
       "      <td>12.0</td>\n",
       "      <td>pores</td>\n",
       "      <td>gaily</td>\n",
       "    </tr>\n",
       "  </tbody>\n",
       "</table>\n",
       "</div>"
      ],
      "text/plain": [
       "    count      mean       std  min  25%  50%  75%   max  word1  word2\n",
       "0  5757.0  4.338544  1.234717  1.0  3.0  4.0  5.0  12.0  pores  gaily"
      ]
     },
     "metadata": {},
     "output_type": "display_data"
    },
    {
     "name": "stderr",
     "output_type": "stream",
     "text": [
      "[Parallel(n_jobs=5)]: Using backend LokyBackend with 5 concurrent workers.\n"
     ]
    },
    {
     "name": "stdout",
     "output_type": "stream",
     "text": [
      "[---- pores, haily ----]\n"
     ]
    },
    {
     "name": "stderr",
     "output_type": "stream",
     "text": [
      "[Parallel(n_jobs=5)]: Done  38 tasks      | elapsed:    0.3s\n",
      "[Parallel(n_jobs=5)]: Done 422 tasks      | elapsed:    3.2s\n",
      "[Parallel(n_jobs=5)]: Done 1062 tasks      | elapsed:    9.1s\n",
      "[Parallel(n_jobs=5)]: Done 1958 tasks      | elapsed:   18.2s\n",
      "[Parallel(n_jobs=5)]: Done 3110 tasks      | elapsed:   28.7s\n",
      "[Parallel(n_jobs=5)]: Done 4518 tasks      | elapsed:   42.5s\n",
      "[Parallel(n_jobs=5)]: Done 5757 out of 5757 | elapsed:   55.1s finished\n"
     ]
    },
    {
     "data": {
      "text/html": [
       "<div>\n",
       "<style scoped>\n",
       "    .dataframe tbody tr th:only-of-type {\n",
       "        vertical-align: middle;\n",
       "    }\n",
       "\n",
       "    .dataframe tbody tr th {\n",
       "        vertical-align: top;\n",
       "    }\n",
       "\n",
       "    .dataframe thead th {\n",
       "        text-align: right;\n",
       "    }\n",
       "</style>\n",
       "<table border=\"1\" class=\"dataframe\">\n",
       "  <thead>\n",
       "    <tr style=\"text-align: right;\">\n",
       "      <th></th>\n",
       "      <th>count</th>\n",
       "      <th>mean</th>\n",
       "      <th>std</th>\n",
       "      <th>min</th>\n",
       "      <th>25%</th>\n",
       "      <th>50%</th>\n",
       "      <th>75%</th>\n",
       "      <th>max</th>\n",
       "      <th>word1</th>\n",
       "      <th>word2</th>\n",
       "    </tr>\n",
       "  </thead>\n",
       "  <tbody>\n",
       "    <tr>\n",
       "      <th>0</th>\n",
       "      <td>5757.0</td>\n",
       "      <td>4.335765</td>\n",
       "      <td>1.228001</td>\n",
       "      <td>1.0</td>\n",
       "      <td>3.0</td>\n",
       "      <td>4.0</td>\n",
       "      <td>5.0</td>\n",
       "      <td>12.0</td>\n",
       "      <td>pores</td>\n",
       "      <td>haily</td>\n",
       "    </tr>\n",
       "  </tbody>\n",
       "</table>\n",
       "</div>"
      ],
      "text/plain": [
       "    count      mean       std  min  25%  50%  75%   max  word1  word2\n",
       "0  5757.0  4.335765  1.228001  1.0  3.0  4.0  5.0  12.0  pores  haily"
      ]
     },
     "metadata": {},
     "output_type": "display_data"
    },
    {
     "name": "stderr",
     "output_type": "stream",
     "text": [
      "[Parallel(n_jobs=5)]: Using backend LokyBackend with 5 concurrent workers.\n"
     ]
    },
    {
     "name": "stdout",
     "output_type": "stream",
     "text": [
      "[---- pores, canid ----]\n"
     ]
    },
    {
     "name": "stderr",
     "output_type": "stream",
     "text": [
      "[Parallel(n_jobs=5)]: Done  38 tasks      | elapsed:    0.4s\n",
      "[Parallel(n_jobs=5)]: Done 422 tasks      | elapsed:    3.0s\n",
      "[Parallel(n_jobs=5)]: Done 1062 tasks      | elapsed:    7.9s\n",
      "[Parallel(n_jobs=5)]: Done 1958 tasks      | elapsed:   15.1s\n",
      "[Parallel(n_jobs=5)]: Done 3110 tasks      | elapsed:   25.9s\n",
      "[Parallel(n_jobs=5)]: Done 4518 tasks      | elapsed:   37.2s\n",
      "[Parallel(n_jobs=5)]: Done 5748 out of 5757 | elapsed:   47.6s remaining:    0.1s\n",
      "[Parallel(n_jobs=5)]: Done 5757 out of 5757 | elapsed:   47.7s finished\n"
     ]
    },
    {
     "data": {
      "text/html": [
       "<div>\n",
       "<style scoped>\n",
       "    .dataframe tbody tr th:only-of-type {\n",
       "        vertical-align: middle;\n",
       "    }\n",
       "\n",
       "    .dataframe tbody tr th {\n",
       "        vertical-align: top;\n",
       "    }\n",
       "\n",
       "    .dataframe thead th {\n",
       "        text-align: right;\n",
       "    }\n",
       "</style>\n",
       "<table border=\"1\" class=\"dataframe\">\n",
       "  <thead>\n",
       "    <tr style=\"text-align: right;\">\n",
       "      <th></th>\n",
       "      <th>count</th>\n",
       "      <th>mean</th>\n",
       "      <th>std</th>\n",
       "      <th>min</th>\n",
       "      <th>25%</th>\n",
       "      <th>50%</th>\n",
       "      <th>75%</th>\n",
       "      <th>max</th>\n",
       "      <th>word1</th>\n",
       "      <th>word2</th>\n",
       "    </tr>\n",
       "  </thead>\n",
       "  <tbody>\n",
       "    <tr>\n",
       "      <th>0</th>\n",
       "      <td>5757.0</td>\n",
       "      <td>4.220254</td>\n",
       "      <td>1.15771</td>\n",
       "      <td>1.0</td>\n",
       "      <td>3.0</td>\n",
       "      <td>4.0</td>\n",
       "      <td>5.0</td>\n",
       "      <td>11.0</td>\n",
       "      <td>pores</td>\n",
       "      <td>canid</td>\n",
       "    </tr>\n",
       "  </tbody>\n",
       "</table>\n",
       "</div>"
      ],
      "text/plain": [
       "    count      mean      std  min  25%  50%  75%   max  word1  word2\n",
       "0  5757.0  4.220254  1.15771  1.0  3.0  4.0  5.0  11.0  pores  canid"
      ]
     },
     "metadata": {},
     "output_type": "display_data"
    },
    {
     "name": "stderr",
     "output_type": "stream",
     "text": [
      "[Parallel(n_jobs=5)]: Using backend LokyBackend with 5 concurrent workers.\n"
     ]
    },
    {
     "name": "stdout",
     "output_type": "stream",
     "text": [
      "\n",
      "\n",
      "\n",
      "--------------------\n",
      "mares\n",
      "--------------------\n",
      "['doily', 'pouty', 'poind', 'gouty', 'noily']\n",
      "[---- mares, doily ----]\n"
     ]
    },
    {
     "name": "stderr",
     "output_type": "stream",
     "text": [
      "[Parallel(n_jobs=5)]: Done  38 tasks      | elapsed:    0.4s\n",
      "[Parallel(n_jobs=5)]: Done 422 tasks      | elapsed:    3.5s\n",
      "[Parallel(n_jobs=5)]: Done 1062 tasks      | elapsed:    8.4s\n",
      "[Parallel(n_jobs=5)]: Done 1958 tasks      | elapsed:   15.6s\n",
      "[Parallel(n_jobs=5)]: Done 3110 tasks      | elapsed:   25.9s\n",
      "[Parallel(n_jobs=5)]: Done 4518 tasks      | elapsed:   37.5s\n",
      "[Parallel(n_jobs=5)]: Done 5748 out of 5757 | elapsed:   47.5s remaining:    0.1s\n",
      "[Parallel(n_jobs=5)]: Done 5757 out of 5757 | elapsed:   47.6s finished\n"
     ]
    },
    {
     "data": {
      "text/html": [
       "<div>\n",
       "<style scoped>\n",
       "    .dataframe tbody tr th:only-of-type {\n",
       "        vertical-align: middle;\n",
       "    }\n",
       "\n",
       "    .dataframe tbody tr th {\n",
       "        vertical-align: top;\n",
       "    }\n",
       "\n",
       "    .dataframe thead th {\n",
       "        text-align: right;\n",
       "    }\n",
       "</style>\n",
       "<table border=\"1\" class=\"dataframe\">\n",
       "  <thead>\n",
       "    <tr style=\"text-align: right;\">\n",
       "      <th></th>\n",
       "      <th>count</th>\n",
       "      <th>mean</th>\n",
       "      <th>std</th>\n",
       "      <th>min</th>\n",
       "      <th>25%</th>\n",
       "      <th>50%</th>\n",
       "      <th>75%</th>\n",
       "      <th>max</th>\n",
       "      <th>word1</th>\n",
       "      <th>word2</th>\n",
       "    </tr>\n",
       "  </thead>\n",
       "  <tbody>\n",
       "    <tr>\n",
       "      <th>0</th>\n",
       "      <td>5757.0</td>\n",
       "      <td>4.313531</td>\n",
       "      <td>1.225388</td>\n",
       "      <td>1.0</td>\n",
       "      <td>3.0</td>\n",
       "      <td>4.0</td>\n",
       "      <td>5.0</td>\n",
       "      <td>12.0</td>\n",
       "      <td>mares</td>\n",
       "      <td>doily</td>\n",
       "    </tr>\n",
       "  </tbody>\n",
       "</table>\n",
       "</div>"
      ],
      "text/plain": [
       "    count      mean       std  min  25%  50%  75%   max  word1  word2\n",
       "0  5757.0  4.313531  1.225388  1.0  3.0  4.0  5.0  12.0  mares  doily"
      ]
     },
     "metadata": {},
     "output_type": "display_data"
    },
    {
     "name": "stderr",
     "output_type": "stream",
     "text": [
      "[Parallel(n_jobs=5)]: Using backend LokyBackend with 5 concurrent workers.\n"
     ]
    },
    {
     "name": "stdout",
     "output_type": "stream",
     "text": [
      "[---- mares, pouty ----]\n"
     ]
    },
    {
     "name": "stderr",
     "output_type": "stream",
     "text": [
      "[Parallel(n_jobs=5)]: Done  38 tasks      | elapsed:    0.3s\n",
      "[Parallel(n_jobs=5)]: Done 774 tasks      | elapsed:    6.4s\n",
      "[Parallel(n_jobs=5)]: Done 2054 tasks      | elapsed:   16.7s\n",
      "[Parallel(n_jobs=5)]: Done 3846 tasks      | elapsed:   32.0s\n",
      "[Parallel(n_jobs=5)]: Done 5757 out of 5757 | elapsed:   48.7s finished\n"
     ]
    },
    {
     "data": {
      "text/html": [
       "<div>\n",
       "<style scoped>\n",
       "    .dataframe tbody tr th:only-of-type {\n",
       "        vertical-align: middle;\n",
       "    }\n",
       "\n",
       "    .dataframe tbody tr th {\n",
       "        vertical-align: top;\n",
       "    }\n",
       "\n",
       "    .dataframe thead th {\n",
       "        text-align: right;\n",
       "    }\n",
       "</style>\n",
       "<table border=\"1\" class=\"dataframe\">\n",
       "  <thead>\n",
       "    <tr style=\"text-align: right;\">\n",
       "      <th></th>\n",
       "      <th>count</th>\n",
       "      <th>mean</th>\n",
       "      <th>std</th>\n",
       "      <th>min</th>\n",
       "      <th>25%</th>\n",
       "      <th>50%</th>\n",
       "      <th>75%</th>\n",
       "      <th>max</th>\n",
       "      <th>word1</th>\n",
       "      <th>word2</th>\n",
       "    </tr>\n",
       "  </thead>\n",
       "  <tbody>\n",
       "    <tr>\n",
       "      <th>0</th>\n",
       "      <td>5757.0</td>\n",
       "      <td>4.289561</td>\n",
       "      <td>1.162172</td>\n",
       "      <td>1.0</td>\n",
       "      <td>3.0</td>\n",
       "      <td>4.0</td>\n",
       "      <td>5.0</td>\n",
       "      <td>11.0</td>\n",
       "      <td>mares</td>\n",
       "      <td>pouty</td>\n",
       "    </tr>\n",
       "  </tbody>\n",
       "</table>\n",
       "</div>"
      ],
      "text/plain": [
       "    count      mean       std  min  25%  50%  75%   max  word1  word2\n",
       "0  5757.0  4.289561  1.162172  1.0  3.0  4.0  5.0  11.0  mares  pouty"
      ]
     },
     "metadata": {},
     "output_type": "display_data"
    },
    {
     "name": "stderr",
     "output_type": "stream",
     "text": [
      "[Parallel(n_jobs=5)]: Using backend LokyBackend with 5 concurrent workers.\n"
     ]
    },
    {
     "name": "stdout",
     "output_type": "stream",
     "text": [
      "[---- mares, poind ----]\n"
     ]
    },
    {
     "name": "stderr",
     "output_type": "stream",
     "text": [
      "[Parallel(n_jobs=5)]: Done  38 tasks      | elapsed:    0.5s\n",
      "[Parallel(n_jobs=5)]: Done 422 tasks      | elapsed:    3.6s\n",
      "[Parallel(n_jobs=5)]: Done 1062 tasks      | elapsed:    8.4s\n",
      "[Parallel(n_jobs=5)]: Done 1958 tasks      | elapsed:   15.6s\n",
      "[Parallel(n_jobs=5)]: Done 3110 tasks      | elapsed:   25.1s\n",
      "[Parallel(n_jobs=5)]: Done 4518 tasks      | elapsed:   36.2s\n",
      "[Parallel(n_jobs=5)]: Done 5757 out of 5757 | elapsed:   45.8s finished\n"
     ]
    },
    {
     "data": {
      "text/html": [
       "<div>\n",
       "<style scoped>\n",
       "    .dataframe tbody tr th:only-of-type {\n",
       "        vertical-align: middle;\n",
       "    }\n",
       "\n",
       "    .dataframe tbody tr th {\n",
       "        vertical-align: top;\n",
       "    }\n",
       "\n",
       "    .dataframe thead th {\n",
       "        text-align: right;\n",
       "    }\n",
       "</style>\n",
       "<table border=\"1\" class=\"dataframe\">\n",
       "  <thead>\n",
       "    <tr style=\"text-align: right;\">\n",
       "      <th></th>\n",
       "      <th>count</th>\n",
       "      <th>mean</th>\n",
       "      <th>std</th>\n",
       "      <th>min</th>\n",
       "      <th>25%</th>\n",
       "      <th>50%</th>\n",
       "      <th>75%</th>\n",
       "      <th>max</th>\n",
       "      <th>word1</th>\n",
       "      <th>word2</th>\n",
       "    </tr>\n",
       "  </thead>\n",
       "  <tbody>\n",
       "    <tr>\n",
       "      <th>0</th>\n",
       "      <td>5757.0</td>\n",
       "      <td>4.233802</td>\n",
       "      <td>1.134868</td>\n",
       "      <td>1.0</td>\n",
       "      <td>3.0</td>\n",
       "      <td>4.0</td>\n",
       "      <td>5.0</td>\n",
       "      <td>11.0</td>\n",
       "      <td>mares</td>\n",
       "      <td>poind</td>\n",
       "    </tr>\n",
       "  </tbody>\n",
       "</table>\n",
       "</div>"
      ],
      "text/plain": [
       "    count      mean       std  min  25%  50%  75%   max  word1  word2\n",
       "0  5757.0  4.233802  1.134868  1.0  3.0  4.0  5.0  11.0  mares  poind"
      ]
     },
     "metadata": {},
     "output_type": "display_data"
    },
    {
     "name": "stderr",
     "output_type": "stream",
     "text": [
      "[Parallel(n_jobs=5)]: Using backend LokyBackend with 5 concurrent workers.\n"
     ]
    },
    {
     "name": "stdout",
     "output_type": "stream",
     "text": [
      "[---- mares, gouty ----]\n"
     ]
    },
    {
     "name": "stderr",
     "output_type": "stream",
     "text": [
      "[Parallel(n_jobs=5)]: Done  38 tasks      | elapsed:    0.4s\n",
      "[Parallel(n_jobs=5)]: Done 422 tasks      | elapsed:    3.0s\n",
      "[Parallel(n_jobs=5)]: Done 1062 tasks      | elapsed:    7.9s\n",
      "[Parallel(n_jobs=5)]: Done 1958 tasks      | elapsed:   14.7s\n",
      "[Parallel(n_jobs=5)]: Done 3110 tasks      | elapsed:   23.9s\n",
      "[Parallel(n_jobs=5)]: Done 4518 tasks      | elapsed:   35.0s\n",
      "[Parallel(n_jobs=5)]: Done 5748 out of 5757 | elapsed:   44.9s remaining:    0.1s\n",
      "[Parallel(n_jobs=5)]: Done 5757 out of 5757 | elapsed:   44.9s finished\n"
     ]
    },
    {
     "data": {
      "text/html": [
       "<div>\n",
       "<style scoped>\n",
       "    .dataframe tbody tr th:only-of-type {\n",
       "        vertical-align: middle;\n",
       "    }\n",
       "\n",
       "    .dataframe tbody tr th {\n",
       "        vertical-align: top;\n",
       "    }\n",
       "\n",
       "    .dataframe thead th {\n",
       "        text-align: right;\n",
       "    }\n",
       "</style>\n",
       "<table border=\"1\" class=\"dataframe\">\n",
       "  <thead>\n",
       "    <tr style=\"text-align: right;\">\n",
       "      <th></th>\n",
       "      <th>count</th>\n",
       "      <th>mean</th>\n",
       "      <th>std</th>\n",
       "      <th>min</th>\n",
       "      <th>25%</th>\n",
       "      <th>50%</th>\n",
       "      <th>75%</th>\n",
       "      <th>max</th>\n",
       "      <th>word1</th>\n",
       "      <th>word2</th>\n",
       "    </tr>\n",
       "  </thead>\n",
       "  <tbody>\n",
       "    <tr>\n",
       "      <th>0</th>\n",
       "      <td>5757.0</td>\n",
       "      <td>4.374153</td>\n",
       "      <td>1.219063</td>\n",
       "      <td>1.0</td>\n",
       "      <td>4.0</td>\n",
       "      <td>4.0</td>\n",
       "      <td>5.0</td>\n",
       "      <td>11.0</td>\n",
       "      <td>mares</td>\n",
       "      <td>gouty</td>\n",
       "    </tr>\n",
       "  </tbody>\n",
       "</table>\n",
       "</div>"
      ],
      "text/plain": [
       "    count      mean       std  min  25%  50%  75%   max  word1  word2\n",
       "0  5757.0  4.374153  1.219063  1.0  4.0  4.0  5.0  11.0  mares  gouty"
      ]
     },
     "metadata": {},
     "output_type": "display_data"
    },
    {
     "name": "stderr",
     "output_type": "stream",
     "text": [
      "[Parallel(n_jobs=5)]: Using backend LokyBackend with 5 concurrent workers.\n"
     ]
    },
    {
     "name": "stdout",
     "output_type": "stream",
     "text": [
      "[---- mares, noily ----]\n"
     ]
    },
    {
     "name": "stderr",
     "output_type": "stream",
     "text": [
      "[Parallel(n_jobs=5)]: Done  38 tasks      | elapsed:    0.4s\n",
      "[Parallel(n_jobs=5)]: Done 774 tasks      | elapsed:    5.6s\n",
      "[Parallel(n_jobs=5)]: Done 2054 tasks      | elapsed:   15.2s\n",
      "[Parallel(n_jobs=5)]: Done 3846 tasks      | elapsed:   29.2s\n",
      "[Parallel(n_jobs=5)]: Done 5757 out of 5757 | elapsed:   44.6s finished\n"
     ]
    },
    {
     "data": {
      "text/html": [
       "<div>\n",
       "<style scoped>\n",
       "    .dataframe tbody tr th:only-of-type {\n",
       "        vertical-align: middle;\n",
       "    }\n",
       "\n",
       "    .dataframe tbody tr th {\n",
       "        vertical-align: top;\n",
       "    }\n",
       "\n",
       "    .dataframe thead th {\n",
       "        text-align: right;\n",
       "    }\n",
       "</style>\n",
       "<table border=\"1\" class=\"dataframe\">\n",
       "  <thead>\n",
       "    <tr style=\"text-align: right;\">\n",
       "      <th></th>\n",
       "      <th>count</th>\n",
       "      <th>mean</th>\n",
       "      <th>std</th>\n",
       "      <th>min</th>\n",
       "      <th>25%</th>\n",
       "      <th>50%</th>\n",
       "      <th>75%</th>\n",
       "      <th>max</th>\n",
       "      <th>word1</th>\n",
       "      <th>word2</th>\n",
       "    </tr>\n",
       "  </thead>\n",
       "  <tbody>\n",
       "    <tr>\n",
       "      <th>0</th>\n",
       "      <td>5757.0</td>\n",
       "      <td>4.34584</td>\n",
       "      <td>1.246707</td>\n",
       "      <td>1.0</td>\n",
       "      <td>3.0</td>\n",
       "      <td>4.0</td>\n",
       "      <td>5.0</td>\n",
       "      <td>13.0</td>\n",
       "      <td>mares</td>\n",
       "      <td>noily</td>\n",
       "    </tr>\n",
       "  </tbody>\n",
       "</table>\n",
       "</div>"
      ],
      "text/plain": [
       "    count     mean       std  min  25%  50%  75%   max  word1  word2\n",
       "0  5757.0  4.34584  1.246707  1.0  3.0  4.0  5.0  13.0  mares  noily"
      ]
     },
     "metadata": {},
     "output_type": "display_data"
    },
    {
     "name": "stderr",
     "output_type": "stream",
     "text": [
      "[Parallel(n_jobs=5)]: Using backend LokyBackend with 5 concurrent workers.\n"
     ]
    },
    {
     "name": "stdout",
     "output_type": "stream",
     "text": [
      "\n",
      "\n",
      "\n",
      "--------------------\n",
      "canes\n",
      "--------------------\n",
      "['doily', 'roily', 'pouty', 'gouty', 'loury']\n",
      "[---- canes, doily ----]\n"
     ]
    },
    {
     "name": "stderr",
     "output_type": "stream",
     "text": [
      "[Parallel(n_jobs=5)]: Done  38 tasks      | elapsed:    0.4s\n",
      "[Parallel(n_jobs=5)]: Done 774 tasks      | elapsed:    5.7s\n",
      "[Parallel(n_jobs=5)]: Done 2054 tasks      | elapsed:   15.4s\n",
      "[Parallel(n_jobs=5)]: Done 3846 tasks      | elapsed:   29.5s\n",
      "[Parallel(n_jobs=5)]: Done 5757 out of 5757 | elapsed:   44.6s finished\n"
     ]
    },
    {
     "data": {
      "text/html": [
       "<div>\n",
       "<style scoped>\n",
       "    .dataframe tbody tr th:only-of-type {\n",
       "        vertical-align: middle;\n",
       "    }\n",
       "\n",
       "    .dataframe tbody tr th {\n",
       "        vertical-align: top;\n",
       "    }\n",
       "\n",
       "    .dataframe thead th {\n",
       "        text-align: right;\n",
       "    }\n",
       "</style>\n",
       "<table border=\"1\" class=\"dataframe\">\n",
       "  <thead>\n",
       "    <tr style=\"text-align: right;\">\n",
       "      <th></th>\n",
       "      <th>count</th>\n",
       "      <th>mean</th>\n",
       "      <th>std</th>\n",
       "      <th>min</th>\n",
       "      <th>25%</th>\n",
       "      <th>50%</th>\n",
       "      <th>75%</th>\n",
       "      <th>max</th>\n",
       "      <th>word1</th>\n",
       "      <th>word2</th>\n",
       "    </tr>\n",
       "  </thead>\n",
       "  <tbody>\n",
       "    <tr>\n",
       "      <th>0</th>\n",
       "      <td>5757.0</td>\n",
       "      <td>4.346708</td>\n",
       "      <td>1.255701</td>\n",
       "      <td>1.0</td>\n",
       "      <td>4.0</td>\n",
       "      <td>4.0</td>\n",
       "      <td>5.0</td>\n",
       "      <td>13.0</td>\n",
       "      <td>canes</td>\n",
       "      <td>doily</td>\n",
       "    </tr>\n",
       "  </tbody>\n",
       "</table>\n",
       "</div>"
      ],
      "text/plain": [
       "    count      mean       std  min  25%  50%  75%   max  word1  word2\n",
       "0  5757.0  4.346708  1.255701  1.0  4.0  4.0  5.0  13.0  canes  doily"
      ]
     },
     "metadata": {},
     "output_type": "display_data"
    },
    {
     "name": "stderr",
     "output_type": "stream",
     "text": [
      "[Parallel(n_jobs=5)]: Using backend LokyBackend with 5 concurrent workers.\n"
     ]
    },
    {
     "name": "stdout",
     "output_type": "stream",
     "text": [
      "[---- canes, roily ----]\n"
     ]
    },
    {
     "name": "stderr",
     "output_type": "stream",
     "text": [
      "[Parallel(n_jobs=5)]: Done  38 tasks      | elapsed:    0.3s\n",
      "[Parallel(n_jobs=5)]: Done 774 tasks      | elapsed:    5.6s\n",
      "[Parallel(n_jobs=5)]: Done 2054 tasks      | elapsed:   15.0s\n",
      "[Parallel(n_jobs=5)]: Done 3846 tasks      | elapsed:   29.6s\n",
      "[Parallel(n_jobs=5)]: Done 5748 out of 5757 | elapsed:   47.1s remaining:    0.1s\n",
      "[Parallel(n_jobs=5)]: Done 5757 out of 5757 | elapsed:   47.3s finished\n"
     ]
    },
    {
     "data": {
      "text/html": [
       "<div>\n",
       "<style scoped>\n",
       "    .dataframe tbody tr th:only-of-type {\n",
       "        vertical-align: middle;\n",
       "    }\n",
       "\n",
       "    .dataframe tbody tr th {\n",
       "        vertical-align: top;\n",
       "    }\n",
       "\n",
       "    .dataframe thead th {\n",
       "        text-align: right;\n",
       "    }\n",
       "</style>\n",
       "<table border=\"1\" class=\"dataframe\">\n",
       "  <thead>\n",
       "    <tr style=\"text-align: right;\">\n",
       "      <th></th>\n",
       "      <th>count</th>\n",
       "      <th>mean</th>\n",
       "      <th>std</th>\n",
       "      <th>min</th>\n",
       "      <th>25%</th>\n",
       "      <th>50%</th>\n",
       "      <th>75%</th>\n",
       "      <th>max</th>\n",
       "      <th>word1</th>\n",
       "      <th>word2</th>\n",
       "    </tr>\n",
       "  </thead>\n",
       "  <tbody>\n",
       "    <tr>\n",
       "      <th>0</th>\n",
       "      <td>5757.0</td>\n",
       "      <td>4.34584</td>\n",
       "      <td>1.281614</td>\n",
       "      <td>1.0</td>\n",
       "      <td>3.0</td>\n",
       "      <td>4.0</td>\n",
       "      <td>5.0</td>\n",
       "      <td>13.0</td>\n",
       "      <td>canes</td>\n",
       "      <td>roily</td>\n",
       "    </tr>\n",
       "  </tbody>\n",
       "</table>\n",
       "</div>"
      ],
      "text/plain": [
       "    count     mean       std  min  25%  50%  75%   max  word1  word2\n",
       "0  5757.0  4.34584  1.281614  1.0  3.0  4.0  5.0  13.0  canes  roily"
      ]
     },
     "metadata": {},
     "output_type": "display_data"
    },
    {
     "name": "stderr",
     "output_type": "stream",
     "text": [
      "[Parallel(n_jobs=5)]: Using backend LokyBackend with 5 concurrent workers.\n"
     ]
    },
    {
     "name": "stdout",
     "output_type": "stream",
     "text": [
      "[---- canes, pouty ----]\n"
     ]
    },
    {
     "name": "stderr",
     "output_type": "stream",
     "text": [
      "[Parallel(n_jobs=5)]: Done  38 tasks      | elapsed:    0.4s\n",
      "[Parallel(n_jobs=5)]: Done 422 tasks      | elapsed:    3.4s\n",
      "[Parallel(n_jobs=5)]: Done 1062 tasks      | elapsed:    8.7s\n",
      "[Parallel(n_jobs=5)]: Done 1958 tasks      | elapsed:   16.1s\n",
      "[Parallel(n_jobs=5)]: Done 3110 tasks      | elapsed:   26.2s\n",
      "[Parallel(n_jobs=5)]: Done 4518 tasks      | elapsed:   38.7s\n",
      "[Parallel(n_jobs=5)]: Done 5757 out of 5757 | elapsed:   50.5s finished\n"
     ]
    },
    {
     "data": {
      "text/html": [
       "<div>\n",
       "<style scoped>\n",
       "    .dataframe tbody tr th:only-of-type {\n",
       "        vertical-align: middle;\n",
       "    }\n",
       "\n",
       "    .dataframe tbody tr th {\n",
       "        vertical-align: top;\n",
       "    }\n",
       "\n",
       "    .dataframe thead th {\n",
       "        text-align: right;\n",
       "    }\n",
       "</style>\n",
       "<table border=\"1\" class=\"dataframe\">\n",
       "  <thead>\n",
       "    <tr style=\"text-align: right;\">\n",
       "      <th></th>\n",
       "      <th>count</th>\n",
       "      <th>mean</th>\n",
       "      <th>std</th>\n",
       "      <th>min</th>\n",
       "      <th>25%</th>\n",
       "      <th>50%</th>\n",
       "      <th>75%</th>\n",
       "      <th>max</th>\n",
       "      <th>word1</th>\n",
       "      <th>word2</th>\n",
       "    </tr>\n",
       "  </thead>\n",
       "  <tbody>\n",
       "    <tr>\n",
       "      <th>0</th>\n",
       "      <td>5757.0</td>\n",
       "      <td>4.340976</td>\n",
       "      <td>1.231934</td>\n",
       "      <td>1.0</td>\n",
       "      <td>4.0</td>\n",
       "      <td>4.0</td>\n",
       "      <td>5.0</td>\n",
       "      <td>12.0</td>\n",
       "      <td>canes</td>\n",
       "      <td>pouty</td>\n",
       "    </tr>\n",
       "  </tbody>\n",
       "</table>\n",
       "</div>"
      ],
      "text/plain": [
       "    count      mean       std  min  25%  50%  75%   max  word1  word2\n",
       "0  5757.0  4.340976  1.231934  1.0  4.0  4.0  5.0  12.0  canes  pouty"
      ]
     },
     "metadata": {},
     "output_type": "display_data"
    },
    {
     "name": "stderr",
     "output_type": "stream",
     "text": [
      "[Parallel(n_jobs=5)]: Using backend LokyBackend with 5 concurrent workers.\n"
     ]
    },
    {
     "name": "stdout",
     "output_type": "stream",
     "text": [
      "[---- canes, gouty ----]\n"
     ]
    },
    {
     "name": "stderr",
     "output_type": "stream",
     "text": [
      "[Parallel(n_jobs=5)]: Done  38 tasks      | elapsed:    0.4s\n",
      "[Parallel(n_jobs=5)]: Done 422 tasks      | elapsed:    4.5s\n",
      "[Parallel(n_jobs=5)]: Done 1062 tasks      | elapsed:   12.9s\n",
      "[Parallel(n_jobs=5)]: Done 1958 tasks      | elapsed:   26.2s\n",
      "[Parallel(n_jobs=5)]: Done 3110 tasks      | elapsed:   39.5s\n",
      "[Parallel(n_jobs=5)]: Done 4518 tasks      | elapsed:   51.3s\n",
      "[Parallel(n_jobs=5)]: Done 5757 out of 5757 | elapsed:  1.0min finished\n"
     ]
    },
    {
     "data": {
      "text/html": [
       "<div>\n",
       "<style scoped>\n",
       "    .dataframe tbody tr th:only-of-type {\n",
       "        vertical-align: middle;\n",
       "    }\n",
       "\n",
       "    .dataframe tbody tr th {\n",
       "        vertical-align: top;\n",
       "    }\n",
       "\n",
       "    .dataframe thead th {\n",
       "        text-align: right;\n",
       "    }\n",
       "</style>\n",
       "<table border=\"1\" class=\"dataframe\">\n",
       "  <thead>\n",
       "    <tr style=\"text-align: right;\">\n",
       "      <th></th>\n",
       "      <th>count</th>\n",
       "      <th>mean</th>\n",
       "      <th>std</th>\n",
       "      <th>min</th>\n",
       "      <th>25%</th>\n",
       "      <th>50%</th>\n",
       "      <th>75%</th>\n",
       "      <th>max</th>\n",
       "      <th>word1</th>\n",
       "      <th>word2</th>\n",
       "    </tr>\n",
       "  </thead>\n",
       "  <tbody>\n",
       "    <tr>\n",
       "      <th>0</th>\n",
       "      <td>5757.0</td>\n",
       "      <td>4.426958</td>\n",
       "      <td>1.281079</td>\n",
       "      <td>1.0</td>\n",
       "      <td>4.0</td>\n",
       "      <td>4.0</td>\n",
       "      <td>5.0</td>\n",
       "      <td>12.0</td>\n",
       "      <td>canes</td>\n",
       "      <td>gouty</td>\n",
       "    </tr>\n",
       "  </tbody>\n",
       "</table>\n",
       "</div>"
      ],
      "text/plain": [
       "    count      mean       std  min  25%  50%  75%   max  word1  word2\n",
       "0  5757.0  4.426958  1.281079  1.0  4.0  4.0  5.0  12.0  canes  gouty"
      ]
     },
     "metadata": {},
     "output_type": "display_data"
    },
    {
     "name": "stderr",
     "output_type": "stream",
     "text": [
      "[Parallel(n_jobs=5)]: Using backend LokyBackend with 5 concurrent workers.\n"
     ]
    },
    {
     "name": "stdout",
     "output_type": "stream",
     "text": [
      "[---- canes, loury ----]\n"
     ]
    },
    {
     "name": "stderr",
     "output_type": "stream",
     "text": [
      "[Parallel(n_jobs=5)]: Done  38 tasks      | elapsed:    0.4s\n",
      "[Parallel(n_jobs=5)]: Done 422 tasks      | elapsed:    3.1s\n",
      "[Parallel(n_jobs=5)]: Done 1062 tasks      | elapsed:    7.9s\n",
      "[Parallel(n_jobs=5)]: Done 1958 tasks      | elapsed:   14.7s\n",
      "[Parallel(n_jobs=5)]: Done 3110 tasks      | elapsed:   24.4s\n",
      "[Parallel(n_jobs=5)]: Done 4518 tasks      | elapsed:   37.2s\n",
      "[Parallel(n_jobs=5)]: Done 5748 out of 5757 | elapsed:   47.3s remaining:    0.1s\n",
      "[Parallel(n_jobs=5)]: Done 5757 out of 5757 | elapsed:   47.3s finished\n"
     ]
    },
    {
     "data": {
      "text/html": [
       "<div>\n",
       "<style scoped>\n",
       "    .dataframe tbody tr th:only-of-type {\n",
       "        vertical-align: middle;\n",
       "    }\n",
       "\n",
       "    .dataframe tbody tr th {\n",
       "        vertical-align: top;\n",
       "    }\n",
       "\n",
       "    .dataframe thead th {\n",
       "        text-align: right;\n",
       "    }\n",
       "</style>\n",
       "<table border=\"1\" class=\"dataframe\">\n",
       "  <thead>\n",
       "    <tr style=\"text-align: right;\">\n",
       "      <th></th>\n",
       "      <th>count</th>\n",
       "      <th>mean</th>\n",
       "      <th>std</th>\n",
       "      <th>min</th>\n",
       "      <th>25%</th>\n",
       "      <th>50%</th>\n",
       "      <th>75%</th>\n",
       "      <th>max</th>\n",
       "      <th>word1</th>\n",
       "      <th>word2</th>\n",
       "    </tr>\n",
       "  </thead>\n",
       "  <tbody>\n",
       "    <tr>\n",
       "      <th>0</th>\n",
       "      <td>5757.0</td>\n",
       "      <td>4.37259</td>\n",
       "      <td>1.291295</td>\n",
       "      <td>1.0</td>\n",
       "      <td>4.0</td>\n",
       "      <td>4.0</td>\n",
       "      <td>5.0</td>\n",
       "      <td>13.0</td>\n",
       "      <td>canes</td>\n",
       "      <td>loury</td>\n",
       "    </tr>\n",
       "  </tbody>\n",
       "</table>\n",
       "</div>"
      ],
      "text/plain": [
       "    count     mean       std  min  25%  50%  75%   max  word1  word2\n",
       "0  5757.0  4.37259  1.291295  1.0  4.0  4.0  5.0  13.0  canes  loury"
      ]
     },
     "metadata": {},
     "output_type": "display_data"
    },
    {
     "name": "stderr",
     "output_type": "stream",
     "text": [
      "[Parallel(n_jobs=5)]: Using backend LokyBackend with 5 concurrent workers.\n"
     ]
    },
    {
     "name": "stdout",
     "output_type": "stream",
     "text": [
      "\n",
      "\n",
      "\n",
      "--------------------\n",
      "dares\n",
      "--------------------\n",
      "['pouty', 'gouty', 'noily', 'point', 'piony']\n",
      "[---- dares, pouty ----]\n"
     ]
    },
    {
     "name": "stderr",
     "output_type": "stream",
     "text": [
      "[Parallel(n_jobs=5)]: Done  38 tasks      | elapsed:    0.4s\n",
      "[Parallel(n_jobs=5)]: Done 422 tasks      | elapsed:    3.0s\n",
      "[Parallel(n_jobs=5)]: Done 1062 tasks      | elapsed:    7.6s\n",
      "[Parallel(n_jobs=5)]: Done 1958 tasks      | elapsed:   14.6s\n",
      "[Parallel(n_jobs=5)]: Done 3110 tasks      | elapsed:   23.7s\n",
      "[Parallel(n_jobs=5)]: Done 4518 tasks      | elapsed:   34.5s\n",
      "[Parallel(n_jobs=5)]: Done 5757 out of 5757 | elapsed:   44.4s finished\n"
     ]
    },
    {
     "data": {
      "text/html": [
       "<div>\n",
       "<style scoped>\n",
       "    .dataframe tbody tr th:only-of-type {\n",
       "        vertical-align: middle;\n",
       "    }\n",
       "\n",
       "    .dataframe tbody tr th {\n",
       "        vertical-align: top;\n",
       "    }\n",
       "\n",
       "    .dataframe thead th {\n",
       "        text-align: right;\n",
       "    }\n",
       "</style>\n",
       "<table border=\"1\" class=\"dataframe\">\n",
       "  <thead>\n",
       "    <tr style=\"text-align: right;\">\n",
       "      <th></th>\n",
       "      <th>count</th>\n",
       "      <th>mean</th>\n",
       "      <th>std</th>\n",
       "      <th>min</th>\n",
       "      <th>25%</th>\n",
       "      <th>50%</th>\n",
       "      <th>75%</th>\n",
       "      <th>max</th>\n",
       "      <th>word1</th>\n",
       "      <th>word2</th>\n",
       "    </tr>\n",
       "  </thead>\n",
       "  <tbody>\n",
       "    <tr>\n",
       "      <th>0</th>\n",
       "      <td>5757.0</td>\n",
       "      <td>4.280181</td>\n",
       "      <td>1.170718</td>\n",
       "      <td>1.0</td>\n",
       "      <td>3.0</td>\n",
       "      <td>4.0</td>\n",
       "      <td>5.0</td>\n",
       "      <td>11.0</td>\n",
       "      <td>dares</td>\n",
       "      <td>pouty</td>\n",
       "    </tr>\n",
       "  </tbody>\n",
       "</table>\n",
       "</div>"
      ],
      "text/plain": [
       "    count      mean       std  min  25%  50%  75%   max  word1  word2\n",
       "0  5757.0  4.280181  1.170718  1.0  3.0  4.0  5.0  11.0  dares  pouty"
      ]
     },
     "metadata": {},
     "output_type": "display_data"
    },
    {
     "name": "stderr",
     "output_type": "stream",
     "text": [
      "[Parallel(n_jobs=5)]: Using backend LokyBackend with 5 concurrent workers.\n"
     ]
    },
    {
     "name": "stdout",
     "output_type": "stream",
     "text": [
      "[---- dares, gouty ----]\n"
     ]
    },
    {
     "name": "stderr",
     "output_type": "stream",
     "text": [
      "[Parallel(n_jobs=5)]: Done  38 tasks      | elapsed:    0.4s\n",
      "[Parallel(n_jobs=5)]: Done 422 tasks      | elapsed:    3.1s\n",
      "[Parallel(n_jobs=5)]: Done 1062 tasks      | elapsed:    7.7s\n",
      "[Parallel(n_jobs=5)]: Done 1958 tasks      | elapsed:   14.9s\n",
      "[Parallel(n_jobs=5)]: Done 3110 tasks      | elapsed:   24.3s\n",
      "[Parallel(n_jobs=5)]: Done 4518 tasks      | elapsed:   35.5s\n",
      "[Parallel(n_jobs=5)]: Done 5748 out of 5757 | elapsed:   45.4s remaining:    0.1s\n",
      "[Parallel(n_jobs=5)]: Done 5757 out of 5757 | elapsed:   45.5s finished\n"
     ]
    },
    {
     "data": {
      "text/html": [
       "<div>\n",
       "<style scoped>\n",
       "    .dataframe tbody tr th:only-of-type {\n",
       "        vertical-align: middle;\n",
       "    }\n",
       "\n",
       "    .dataframe tbody tr th {\n",
       "        vertical-align: top;\n",
       "    }\n",
       "\n",
       "    .dataframe thead th {\n",
       "        text-align: right;\n",
       "    }\n",
       "</style>\n",
       "<table border=\"1\" class=\"dataframe\">\n",
       "  <thead>\n",
       "    <tr style=\"text-align: right;\">\n",
       "      <th></th>\n",
       "      <th>count</th>\n",
       "      <th>mean</th>\n",
       "      <th>std</th>\n",
       "      <th>min</th>\n",
       "      <th>25%</th>\n",
       "      <th>50%</th>\n",
       "      <th>75%</th>\n",
       "      <th>max</th>\n",
       "      <th>word1</th>\n",
       "      <th>word2</th>\n",
       "    </tr>\n",
       "  </thead>\n",
       "  <tbody>\n",
       "    <tr>\n",
       "      <th>0</th>\n",
       "      <td>5757.0</td>\n",
       "      <td>4.370679</td>\n",
       "      <td>1.233154</td>\n",
       "      <td>1.0</td>\n",
       "      <td>4.0</td>\n",
       "      <td>4.0</td>\n",
       "      <td>5.0</td>\n",
       "      <td>12.0</td>\n",
       "      <td>dares</td>\n",
       "      <td>gouty</td>\n",
       "    </tr>\n",
       "  </tbody>\n",
       "</table>\n",
       "</div>"
      ],
      "text/plain": [
       "    count      mean       std  min  25%  50%  75%   max  word1  word2\n",
       "0  5757.0  4.370679  1.233154  1.0  4.0  4.0  5.0  12.0  dares  gouty"
      ]
     },
     "metadata": {},
     "output_type": "display_data"
    },
    {
     "name": "stderr",
     "output_type": "stream",
     "text": [
      "[Parallel(n_jobs=5)]: Using backend LokyBackend with 5 concurrent workers.\n"
     ]
    },
    {
     "name": "stdout",
     "output_type": "stream",
     "text": [
      "[---- dares, noily ----]\n"
     ]
    },
    {
     "name": "stderr",
     "output_type": "stream",
     "text": [
      "[Parallel(n_jobs=5)]: Done  38 tasks      | elapsed:    0.3s\n",
      "[Parallel(n_jobs=5)]: Done 774 tasks      | elapsed:    5.5s\n",
      "[Parallel(n_jobs=5)]: Done 2054 tasks      | elapsed:   15.4s\n",
      "[Parallel(n_jobs=5)]: Done 3846 tasks      | elapsed:   29.6s\n",
      "[Parallel(n_jobs=5)]: Done 5748 out of 5757 | elapsed:   45.1s remaining:    0.1s\n",
      "[Parallel(n_jobs=5)]: Done 5757 out of 5757 | elapsed:   45.3s finished\n"
     ]
    },
    {
     "data": {
      "text/html": [
       "<div>\n",
       "<style scoped>\n",
       "    .dataframe tbody tr th:only-of-type {\n",
       "        vertical-align: middle;\n",
       "    }\n",
       "\n",
       "    .dataframe tbody tr th {\n",
       "        vertical-align: top;\n",
       "    }\n",
       "\n",
       "    .dataframe thead th {\n",
       "        text-align: right;\n",
       "    }\n",
       "</style>\n",
       "<table border=\"1\" class=\"dataframe\">\n",
       "  <thead>\n",
       "    <tr style=\"text-align: right;\">\n",
       "      <th></th>\n",
       "      <th>count</th>\n",
       "      <th>mean</th>\n",
       "      <th>std</th>\n",
       "      <th>min</th>\n",
       "      <th>25%</th>\n",
       "      <th>50%</th>\n",
       "      <th>75%</th>\n",
       "      <th>max</th>\n",
       "      <th>word1</th>\n",
       "      <th>word2</th>\n",
       "    </tr>\n",
       "  </thead>\n",
       "  <tbody>\n",
       "    <tr>\n",
       "      <th>0</th>\n",
       "      <td>5757.0</td>\n",
       "      <td>4.335939</td>\n",
       "      <td>1.260694</td>\n",
       "      <td>1.0</td>\n",
       "      <td>3.0</td>\n",
       "      <td>4.0</td>\n",
       "      <td>5.0</td>\n",
       "      <td>13.0</td>\n",
       "      <td>dares</td>\n",
       "      <td>noily</td>\n",
       "    </tr>\n",
       "  </tbody>\n",
       "</table>\n",
       "</div>"
      ],
      "text/plain": [
       "    count      mean       std  min  25%  50%  75%   max  word1  word2\n",
       "0  5757.0  4.335939  1.260694  1.0  3.0  4.0  5.0  13.0  dares  noily"
      ]
     },
     "metadata": {},
     "output_type": "display_data"
    },
    {
     "name": "stderr",
     "output_type": "stream",
     "text": [
      "[Parallel(n_jobs=5)]: Using backend LokyBackend with 5 concurrent workers.\n"
     ]
    },
    {
     "name": "stdout",
     "output_type": "stream",
     "text": [
      "[---- dares, point ----]\n"
     ]
    },
    {
     "name": "stderr",
     "output_type": "stream",
     "text": [
      "[Parallel(n_jobs=5)]: Done  38 tasks      | elapsed:    0.3s\n",
      "[Parallel(n_jobs=5)]: Done 774 tasks      | elapsed:    5.4s\n",
      "[Parallel(n_jobs=5)]: Done 2054 tasks      | elapsed:   14.8s\n",
      "[Parallel(n_jobs=5)]: Done 3846 tasks      | elapsed:   28.4s\n",
      "[Parallel(n_jobs=5)]: Done 5757 out of 5757 | elapsed:   43.6s finished\n"
     ]
    },
    {
     "data": {
      "text/html": [
       "<div>\n",
       "<style scoped>\n",
       "    .dataframe tbody tr th:only-of-type {\n",
       "        vertical-align: middle;\n",
       "    }\n",
       "\n",
       "    .dataframe tbody tr th {\n",
       "        vertical-align: top;\n",
       "    }\n",
       "\n",
       "    .dataframe thead th {\n",
       "        text-align: right;\n",
       "    }\n",
       "</style>\n",
       "<table border=\"1\" class=\"dataframe\">\n",
       "  <thead>\n",
       "    <tr style=\"text-align: right;\">\n",
       "      <th></th>\n",
       "      <th>count</th>\n",
       "      <th>mean</th>\n",
       "      <th>std</th>\n",
       "      <th>min</th>\n",
       "      <th>25%</th>\n",
       "      <th>50%</th>\n",
       "      <th>75%</th>\n",
       "      <th>max</th>\n",
       "      <th>word1</th>\n",
       "      <th>word2</th>\n",
       "    </tr>\n",
       "  </thead>\n",
       "  <tbody>\n",
       "    <tr>\n",
       "      <th>0</th>\n",
       "      <td>5757.0</td>\n",
       "      <td>4.157721</td>\n",
       "      <td>1.144281</td>\n",
       "      <td>1.0</td>\n",
       "      <td>3.0</td>\n",
       "      <td>4.0</td>\n",
       "      <td>5.0</td>\n",
       "      <td>11.0</td>\n",
       "      <td>dares</td>\n",
       "      <td>point</td>\n",
       "    </tr>\n",
       "  </tbody>\n",
       "</table>\n",
       "</div>"
      ],
      "text/plain": [
       "    count      mean       std  min  25%  50%  75%   max  word1  word2\n",
       "0  5757.0  4.157721  1.144281  1.0  3.0  4.0  5.0  11.0  dares  point"
      ]
     },
     "metadata": {},
     "output_type": "display_data"
    },
    {
     "name": "stderr",
     "output_type": "stream",
     "text": [
      "[Parallel(n_jobs=5)]: Using backend LokyBackend with 5 concurrent workers.\n"
     ]
    },
    {
     "name": "stdout",
     "output_type": "stream",
     "text": [
      "[---- dares, piony ----]\n"
     ]
    },
    {
     "name": "stderr",
     "output_type": "stream",
     "text": [
      "[Parallel(n_jobs=5)]: Done  38 tasks      | elapsed:    0.4s\n",
      "[Parallel(n_jobs=5)]: Done 422 tasks      | elapsed:    3.2s\n",
      "[Parallel(n_jobs=5)]: Done 1062 tasks      | elapsed:    7.9s\n",
      "[Parallel(n_jobs=5)]: Done 1958 tasks      | elapsed:   14.8s\n",
      "[Parallel(n_jobs=5)]: Done 3110 tasks      | elapsed:   23.9s\n",
      "[Parallel(n_jobs=5)]: Done 4518 tasks      | elapsed:   35.0s\n",
      "[Parallel(n_jobs=5)]: Done 5757 out of 5757 | elapsed:   45.0s finished\n"
     ]
    },
    {
     "data": {
      "text/html": [
       "<div>\n",
       "<style scoped>\n",
       "    .dataframe tbody tr th:only-of-type {\n",
       "        vertical-align: middle;\n",
       "    }\n",
       "\n",
       "    .dataframe tbody tr th {\n",
       "        vertical-align: top;\n",
       "    }\n",
       "\n",
       "    .dataframe thead th {\n",
       "        text-align: right;\n",
       "    }\n",
       "</style>\n",
       "<table border=\"1\" class=\"dataframe\">\n",
       "  <thead>\n",
       "    <tr style=\"text-align: right;\">\n",
       "      <th></th>\n",
       "      <th>count</th>\n",
       "      <th>mean</th>\n",
       "      <th>std</th>\n",
       "      <th>min</th>\n",
       "      <th>25%</th>\n",
       "      <th>50%</th>\n",
       "      <th>75%</th>\n",
       "      <th>max</th>\n",
       "      <th>word1</th>\n",
       "      <th>word2</th>\n",
       "    </tr>\n",
       "  </thead>\n",
       "  <tbody>\n",
       "    <tr>\n",
       "      <th>0</th>\n",
       "      <td>5757.0</td>\n",
       "      <td>4.307278</td>\n",
       "      <td>1.213732</td>\n",
       "      <td>1.0</td>\n",
       "      <td>3.0</td>\n",
       "      <td>4.0</td>\n",
       "      <td>5.0</td>\n",
       "      <td>11.0</td>\n",
       "      <td>dares</td>\n",
       "      <td>piony</td>\n",
       "    </tr>\n",
       "  </tbody>\n",
       "</table>\n",
       "</div>"
      ],
      "text/plain": [
       "    count      mean       std  min  25%  50%  75%   max  word1  word2\n",
       "0  5757.0  4.307278  1.213732  1.0  3.0  4.0  5.0  11.0  dares  piony"
      ]
     },
     "metadata": {},
     "output_type": "display_data"
    },
    {
     "name": "stdout",
     "output_type": "stream",
     "text": [
      "\n",
      "\n",
      "\n"
     ]
    }
   ],
   "source": [
    "all_results = pd.DataFrame()\n",
    "for input_word1 in top_singles:\n",
    "    print('--------------------')\n",
    "    print(input_word1)\n",
    "    print('--------------------')\n",
    "    all_word2 = find_second_pos(input_word1)\n",
    "    print(all_word2.word.iloc[:5].tolist())\n",
    "\n",
    "    for input_word2 in all_word2.word.iloc[:5]:\n",
    "        print(f'[---- {input_word1}, {input_word2} ----]')\n",
    "        res = double_word_strategy(input_word1, input_word2)\n",
    "        all_results = all_results.append(res)\n",
    "    print()\n",
    "    print()\n",
    "    print()"
   ]
  },
  {
   "cell_type": "code",
   "execution_count": 39,
   "id": "3912efd8-8211-43a6-ad4e-f09e8b9efe28",
   "metadata": {},
   "outputs": [],
   "source": [
    "all_results.to_csv('double_words.csv', index=False)"
   ]
  },
  {
   "cell_type": "markdown",
   "id": "6cefe929-e0f2-4a5d-9815-b8ade456e384",
   "metadata": {
    "tags": []
   },
   "source": [
    "## Single-word Strategy"
   ]
  },
  {
   "cell_type": "code",
   "execution_count": 40,
   "id": "97a164d3-4b48-4103-95b7-5f67bf300c52",
   "metadata": {},
   "outputs": [],
   "source": [
    "def sim_wordle_single(input_word, solution):\n",
    "    feedback = ''\n",
    "    wordset = words_5k.copy()\n",
    "    tested_words = []\n",
    "    n_iter = 1\n",
    "\n",
    "    while feedback != 'GGGGG':\n",
    "\n",
    "        # Check solution\n",
    "        feedback = wordle(input_word, solution)\n",
    "        tested_words.append(input_word)\n",
    "        # print(f'[{n_iter}] Input: {input_word} | Feedback: {feedback}')\n",
    "\n",
    "        # Filter wordset\n",
    "        wordset = filter_wordset(input_word, feedback, wordset)\n",
    "        wordset = wordset.loc[~wordset.word.isin(tested_words)]\n",
    "\n",
    "        # Compute letter distribution of updated wordset\n",
    "        pos_scores = compute_pos_letter_distribution(wordset)\n",
    "\n",
    "        # Obtain scores\n",
    "        scores = wordset.word.apply(compute_pos_score, pos_scores=pos_scores)\n",
    "        scores = pd.DataFrame({'word': wordset.word, 'score': scores}).sort_values('score', ascending=False)\n",
    "        # display(scores.head(10))\n",
    "\n",
    "        # Set new input word\n",
    "        if scores.shape[0] > 0:\n",
    "            input_word = scores.word.iloc[0]\n",
    "            n_iter += 1\n",
    "    return n_iter"
   ]
  },
  {
   "cell_type": "code",
   "execution_count": 46,
   "id": "3b645f26-dd29-4e90-9900-d3a6cb992ebe",
   "metadata": {},
   "outputs": [],
   "source": [
    "def single_word_strategy(input_word):\n",
    "    results = Parallel(n_jobs=5, verbose=1)(delayed(sim_wordle_single)(input_word, s) for s in words_5k.word)\n",
    "    performance = pd.Series(results)\n",
    "    results = pd.DataFrame(performance.describe()).T\n",
    "    results['word'] = input_word\n",
    "    display(results)\n",
    "    \n",
    "    return results\n",
    "\n",
    "    # performance.plot.hist()\n",
    "    # plt.title(input_word)\n",
    "    # plt.show()"
   ]
  },
  {
   "cell_type": "code",
   "execution_count": 47,
   "id": "4ea10a18-7307-4ae2-9b49-1cf96b6a46e6",
   "metadata": {},
   "outputs": [
    {
     "name": "stdout",
     "output_type": "stream",
     "text": [
      "['cares', 'bares', 'pares', 'tares', 'cores', 'bores', 'pores', 'mares', 'canes', 'dares', 'banes', 'tores', 'panes', 'fares', 'lares', 'bales', 'mores', 'cones', 'bones', 'pales', 'hares', 'gores', 'tales', 'pones', 'manes', 'fores', 'tones', 'wares', 'lores', 'coles', 'boles', 'fanes', 'poles', 'cates', 'males', 'lanes', 'nares', 'bates', 'dales', 'toles', 'rales', 'gales', 'pates', 'rones', 'vares', 'cames', 'kaies', 'kores', 'cotes', 'moles']\n"
     ]
    }
   ],
   "source": [
    "top_singles = global_fl_scores.loc[global_fl_scores.word.apply(lambda x: len(x) == len(set(x)))].word.head(50)\n",
    "print(top_singles.tolist())"
   ]
  },
  {
   "cell_type": "code",
   "execution_count": 48,
   "id": "b5690b58-b2c6-4e37-a5c3-3f70884e4651",
   "metadata": {
    "scrolled": true,
    "tags": []
   },
   "outputs": [
    {
     "name": "stdout",
     "output_type": "stream",
     "text": [
      "--------------------\n",
      "cares\n"
     ]
    },
    {
     "name": "stderr",
     "output_type": "stream",
     "text": [
      "[Parallel(n_jobs=5)]: Using backend LokyBackend with 5 concurrent workers.\n",
      "[Parallel(n_jobs=5)]: Done  65 tasks      | elapsed:    0.9s\n",
      "[Parallel(n_jobs=5)]: Done 665 tasks      | elapsed:    4.7s\n",
      "[Parallel(n_jobs=5)]: Done 1665 tasks      | elapsed:   11.1s\n",
      "[Parallel(n_jobs=5)]: Done 3065 tasks      | elapsed:   21.7s\n",
      "[Parallel(n_jobs=5)]: Done 4865 tasks      | elapsed:   35.2s\n",
      "[Parallel(n_jobs=5)]: Done 5757 out of 5757 | elapsed:   42.3s finished\n"
     ]
    },
    {
     "data": {
      "text/html": [
       "<div>\n",
       "<style scoped>\n",
       "    .dataframe tbody tr th:only-of-type {\n",
       "        vertical-align: middle;\n",
       "    }\n",
       "\n",
       "    .dataframe tbody tr th {\n",
       "        vertical-align: top;\n",
       "    }\n",
       "\n",
       "    .dataframe thead th {\n",
       "        text-align: right;\n",
       "    }\n",
       "</style>\n",
       "<table border=\"1\" class=\"dataframe\">\n",
       "  <thead>\n",
       "    <tr style=\"text-align: right;\">\n",
       "      <th></th>\n",
       "      <th>count</th>\n",
       "      <th>mean</th>\n",
       "      <th>std</th>\n",
       "      <th>min</th>\n",
       "      <th>25%</th>\n",
       "      <th>50%</th>\n",
       "      <th>75%</th>\n",
       "      <th>max</th>\n",
       "      <th>word</th>\n",
       "    </tr>\n",
       "  </thead>\n",
       "  <tbody>\n",
       "    <tr>\n",
       "      <th>0</th>\n",
       "      <td>5757.0</td>\n",
       "      <td>4.42001</td>\n",
       "      <td>1.344849</td>\n",
       "      <td>1.0</td>\n",
       "      <td>4.0</td>\n",
       "      <td>4.0</td>\n",
       "      <td>5.0</td>\n",
       "      <td>13.0</td>\n",
       "      <td>cares</td>\n",
       "    </tr>\n",
       "  </tbody>\n",
       "</table>\n",
       "</div>"
      ],
      "text/plain": [
       "    count     mean       std  min  25%  50%  75%   max   word\n",
       "0  5757.0  4.42001  1.344849  1.0  4.0  4.0  5.0  13.0  cares"
      ]
     },
     "metadata": {},
     "output_type": "display_data"
    },
    {
     "name": "stderr",
     "output_type": "stream",
     "text": [
      "[Parallel(n_jobs=5)]: Using backend LokyBackend with 5 concurrent workers.\n"
     ]
    },
    {
     "name": "stdout",
     "output_type": "stream",
     "text": [
      "--------------------\n",
      "\n",
      "\n",
      "\n",
      "--------------------\n",
      "bares\n"
     ]
    },
    {
     "name": "stderr",
     "output_type": "stream",
     "text": [
      "[Parallel(n_jobs=5)]: Done 150 tasks      | elapsed:    1.0s\n",
      "[Parallel(n_jobs=5)]: Done 1350 tasks      | elapsed:    9.5s\n",
      "[Parallel(n_jobs=5)]: Done 3350 tasks      | elapsed:   26.1s\n",
      "[Parallel(n_jobs=5)]: Done 5748 out of 5757 | elapsed:   45.7s remaining:    0.1s\n",
      "[Parallel(n_jobs=5)]: Done 5757 out of 5757 | elapsed:   45.8s finished\n"
     ]
    },
    {
     "data": {
      "text/html": [
       "<div>\n",
       "<style scoped>\n",
       "    .dataframe tbody tr th:only-of-type {\n",
       "        vertical-align: middle;\n",
       "    }\n",
       "\n",
       "    .dataframe tbody tr th {\n",
       "        vertical-align: top;\n",
       "    }\n",
       "\n",
       "    .dataframe thead th {\n",
       "        text-align: right;\n",
       "    }\n",
       "</style>\n",
       "<table border=\"1\" class=\"dataframe\">\n",
       "  <thead>\n",
       "    <tr style=\"text-align: right;\">\n",
       "      <th></th>\n",
       "      <th>count</th>\n",
       "      <th>mean</th>\n",
       "      <th>std</th>\n",
       "      <th>min</th>\n",
       "      <th>25%</th>\n",
       "      <th>50%</th>\n",
       "      <th>75%</th>\n",
       "      <th>max</th>\n",
       "      <th>word</th>\n",
       "    </tr>\n",
       "  </thead>\n",
       "  <tbody>\n",
       "    <tr>\n",
       "      <th>0</th>\n",
       "      <td>5757.0</td>\n",
       "      <td>4.440334</td>\n",
       "      <td>1.32023</td>\n",
       "      <td>1.0</td>\n",
       "      <td>4.0</td>\n",
       "      <td>4.0</td>\n",
       "      <td>5.0</td>\n",
       "      <td>12.0</td>\n",
       "      <td>bares</td>\n",
       "    </tr>\n",
       "  </tbody>\n",
       "</table>\n",
       "</div>"
      ],
      "text/plain": [
       "    count      mean      std  min  25%  50%  75%   max   word\n",
       "0  5757.0  4.440334  1.32023  1.0  4.0  4.0  5.0  12.0  bares"
      ]
     },
     "metadata": {},
     "output_type": "display_data"
    },
    {
     "name": "stderr",
     "output_type": "stream",
     "text": [
      "[Parallel(n_jobs=5)]: Using backend LokyBackend with 5 concurrent workers.\n"
     ]
    },
    {
     "name": "stdout",
     "output_type": "stream",
     "text": [
      "--------------------\n",
      "\n",
      "\n",
      "\n",
      "--------------------\n",
      "pares\n"
     ]
    },
    {
     "name": "stderr",
     "output_type": "stream",
     "text": [
      "[Parallel(n_jobs=5)]: Done 110 tasks      | elapsed:    0.8s\n",
      "[Parallel(n_jobs=5)]: Done 710 tasks      | elapsed:    4.6s\n",
      "[Parallel(n_jobs=5)]: Done 1710 tasks      | elapsed:   11.6s\n",
      "[Parallel(n_jobs=5)]: Done 3110 tasks      | elapsed:   22.7s\n",
      "[Parallel(n_jobs=5)]: Done 4910 tasks      | elapsed:   36.3s\n",
      "[Parallel(n_jobs=5)]: Done 5757 out of 5757 | elapsed:   42.8s finished\n"
     ]
    },
    {
     "data": {
      "text/html": [
       "<div>\n",
       "<style scoped>\n",
       "    .dataframe tbody tr th:only-of-type {\n",
       "        vertical-align: middle;\n",
       "    }\n",
       "\n",
       "    .dataframe tbody tr th {\n",
       "        vertical-align: top;\n",
       "    }\n",
       "\n",
       "    .dataframe thead th {\n",
       "        text-align: right;\n",
       "    }\n",
       "</style>\n",
       "<table border=\"1\" class=\"dataframe\">\n",
       "  <thead>\n",
       "    <tr style=\"text-align: right;\">\n",
       "      <th></th>\n",
       "      <th>count</th>\n",
       "      <th>mean</th>\n",
       "      <th>std</th>\n",
       "      <th>min</th>\n",
       "      <th>25%</th>\n",
       "      <th>50%</th>\n",
       "      <th>75%</th>\n",
       "      <th>max</th>\n",
       "      <th>word</th>\n",
       "    </tr>\n",
       "  </thead>\n",
       "  <tbody>\n",
       "    <tr>\n",
       "      <th>0</th>\n",
       "      <td>5757.0</td>\n",
       "      <td>4.382665</td>\n",
       "      <td>1.306289</td>\n",
       "      <td>1.0</td>\n",
       "      <td>4.0</td>\n",
       "      <td>4.0</td>\n",
       "      <td>5.0</td>\n",
       "      <td>12.0</td>\n",
       "      <td>pares</td>\n",
       "    </tr>\n",
       "  </tbody>\n",
       "</table>\n",
       "</div>"
      ],
      "text/plain": [
       "    count      mean       std  min  25%  50%  75%   max   word\n",
       "0  5757.0  4.382665  1.306289  1.0  4.0  4.0  5.0  12.0  pares"
      ]
     },
     "metadata": {},
     "output_type": "display_data"
    },
    {
     "name": "stderr",
     "output_type": "stream",
     "text": [
      "[Parallel(n_jobs=5)]: Using backend LokyBackend with 5 concurrent workers.\n"
     ]
    },
    {
     "name": "stdout",
     "output_type": "stream",
     "text": [
      "--------------------\n",
      "\n",
      "\n",
      "\n",
      "--------------------\n",
      "tares\n"
     ]
    },
    {
     "name": "stderr",
     "output_type": "stream",
     "text": [
      "[Parallel(n_jobs=5)]: Done 150 tasks      | elapsed:    1.0s\n",
      "[Parallel(n_jobs=5)]: Done 1350 tasks      | elapsed:    8.7s\n",
      "[Parallel(n_jobs=5)]: Done 3350 tasks      | elapsed:   24.3s\n",
      "[Parallel(n_jobs=5)]: Done 5757 out of 5757 | elapsed:   41.6s finished\n"
     ]
    },
    {
     "data": {
      "text/html": [
       "<div>\n",
       "<style scoped>\n",
       "    .dataframe tbody tr th:only-of-type {\n",
       "        vertical-align: middle;\n",
       "    }\n",
       "\n",
       "    .dataframe tbody tr th {\n",
       "        vertical-align: top;\n",
       "    }\n",
       "\n",
       "    .dataframe thead th {\n",
       "        text-align: right;\n",
       "    }\n",
       "</style>\n",
       "<table border=\"1\" class=\"dataframe\">\n",
       "  <thead>\n",
       "    <tr style=\"text-align: right;\">\n",
       "      <th></th>\n",
       "      <th>count</th>\n",
       "      <th>mean</th>\n",
       "      <th>std</th>\n",
       "      <th>min</th>\n",
       "      <th>25%</th>\n",
       "      <th>50%</th>\n",
       "      <th>75%</th>\n",
       "      <th>max</th>\n",
       "      <th>word</th>\n",
       "    </tr>\n",
       "  </thead>\n",
       "  <tbody>\n",
       "    <tr>\n",
       "      <th>0</th>\n",
       "      <td>5757.0</td>\n",
       "      <td>4.360778</td>\n",
       "      <td>1.322919</td>\n",
       "      <td>1.0</td>\n",
       "      <td>3.0</td>\n",
       "      <td>4.0</td>\n",
       "      <td>5.0</td>\n",
       "      <td>12.0</td>\n",
       "      <td>tares</td>\n",
       "    </tr>\n",
       "  </tbody>\n",
       "</table>\n",
       "</div>"
      ],
      "text/plain": [
       "    count      mean       std  min  25%  50%  75%   max   word\n",
       "0  5757.0  4.360778  1.322919  1.0  3.0  4.0  5.0  12.0  tares"
      ]
     },
     "metadata": {},
     "output_type": "display_data"
    },
    {
     "name": "stderr",
     "output_type": "stream",
     "text": [
      "[Parallel(n_jobs=5)]: Using backend LokyBackend with 5 concurrent workers.\n"
     ]
    },
    {
     "name": "stdout",
     "output_type": "stream",
     "text": [
      "--------------------\n",
      "\n",
      "\n",
      "\n",
      "--------------------\n",
      "cores\n"
     ]
    },
    {
     "name": "stderr",
     "output_type": "stream",
     "text": [
      "[Parallel(n_jobs=5)]: Done 130 tasks      | elapsed:    1.0s\n",
      "[Parallel(n_jobs=5)]: Done 1330 tasks      | elapsed:    9.1s\n",
      "[Parallel(n_jobs=5)]: Done 3330 tasks      | elapsed:   24.0s\n",
      "[Parallel(n_jobs=5)]: Done 5757 out of 5757 | elapsed:   43.2s finished\n"
     ]
    },
    {
     "data": {
      "text/html": [
       "<div>\n",
       "<style scoped>\n",
       "    .dataframe tbody tr th:only-of-type {\n",
       "        vertical-align: middle;\n",
       "    }\n",
       "\n",
       "    .dataframe tbody tr th {\n",
       "        vertical-align: top;\n",
       "    }\n",
       "\n",
       "    .dataframe thead th {\n",
       "        text-align: right;\n",
       "    }\n",
       "</style>\n",
       "<table border=\"1\" class=\"dataframe\">\n",
       "  <thead>\n",
       "    <tr style=\"text-align: right;\">\n",
       "      <th></th>\n",
       "      <th>count</th>\n",
       "      <th>mean</th>\n",
       "      <th>std</th>\n",
       "      <th>min</th>\n",
       "      <th>25%</th>\n",
       "      <th>50%</th>\n",
       "      <th>75%</th>\n",
       "      <th>max</th>\n",
       "      <th>word</th>\n",
       "    </tr>\n",
       "  </thead>\n",
       "  <tbody>\n",
       "    <tr>\n",
       "      <th>0</th>\n",
       "      <td>5757.0</td>\n",
       "      <td>4.426264</td>\n",
       "      <td>1.340808</td>\n",
       "      <td>1.0</td>\n",
       "      <td>4.0</td>\n",
       "      <td>4.0</td>\n",
       "      <td>5.0</td>\n",
       "      <td>13.0</td>\n",
       "      <td>cores</td>\n",
       "    </tr>\n",
       "  </tbody>\n",
       "</table>\n",
       "</div>"
      ],
      "text/plain": [
       "    count      mean       std  min  25%  50%  75%   max   word\n",
       "0  5757.0  4.426264  1.340808  1.0  4.0  4.0  5.0  13.0  cores"
      ]
     },
     "metadata": {},
     "output_type": "display_data"
    },
    {
     "name": "stderr",
     "output_type": "stream",
     "text": [
      "[Parallel(n_jobs=5)]: Using backend LokyBackend with 5 concurrent workers.\n"
     ]
    },
    {
     "name": "stdout",
     "output_type": "stream",
     "text": [
      "--------------------\n",
      "\n",
      "\n",
      "\n",
      "--------------------\n",
      "bores\n"
     ]
    },
    {
     "name": "stderr",
     "output_type": "stream",
     "text": [
      "[Parallel(n_jobs=5)]: Done 150 tasks      | elapsed:    1.0s\n",
      "[Parallel(n_jobs=5)]: Done 1350 tasks      | elapsed:    9.4s\n",
      "[Parallel(n_jobs=5)]: Done 3350 tasks      | elapsed:   24.4s\n",
      "[Parallel(n_jobs=5)]: Done 5757 out of 5757 | elapsed:   42.2s finished\n"
     ]
    },
    {
     "data": {
      "text/html": [
       "<div>\n",
       "<style scoped>\n",
       "    .dataframe tbody tr th:only-of-type {\n",
       "        vertical-align: middle;\n",
       "    }\n",
       "\n",
       "    .dataframe tbody tr th {\n",
       "        vertical-align: top;\n",
       "    }\n",
       "\n",
       "    .dataframe thead th {\n",
       "        text-align: right;\n",
       "    }\n",
       "</style>\n",
       "<table border=\"1\" class=\"dataframe\">\n",
       "  <thead>\n",
       "    <tr style=\"text-align: right;\">\n",
       "      <th></th>\n",
       "      <th>count</th>\n",
       "      <th>mean</th>\n",
       "      <th>std</th>\n",
       "      <th>min</th>\n",
       "      <th>25%</th>\n",
       "      <th>50%</th>\n",
       "      <th>75%</th>\n",
       "      <th>max</th>\n",
       "      <th>word</th>\n",
       "    </tr>\n",
       "  </thead>\n",
       "  <tbody>\n",
       "    <tr>\n",
       "      <th>0</th>\n",
       "      <td>5757.0</td>\n",
       "      <td>4.447282</td>\n",
       "      <td>1.314064</td>\n",
       "      <td>1.0</td>\n",
       "      <td>4.0</td>\n",
       "      <td>4.0</td>\n",
       "      <td>5.0</td>\n",
       "      <td>12.0</td>\n",
       "      <td>bores</td>\n",
       "    </tr>\n",
       "  </tbody>\n",
       "</table>\n",
       "</div>"
      ],
      "text/plain": [
       "    count      mean       std  min  25%  50%  75%   max   word\n",
       "0  5757.0  4.447282  1.314064  1.0  4.0  4.0  5.0  12.0  bores"
      ]
     },
     "metadata": {},
     "output_type": "display_data"
    },
    {
     "name": "stderr",
     "output_type": "stream",
     "text": [
      "[Parallel(n_jobs=5)]: Using backend LokyBackend with 5 concurrent workers.\n"
     ]
    },
    {
     "name": "stdout",
     "output_type": "stream",
     "text": [
      "--------------------\n",
      "\n",
      "\n",
      "\n",
      "--------------------\n",
      "pores\n"
     ]
    },
    {
     "name": "stderr",
     "output_type": "stream",
     "text": [
      "[Parallel(n_jobs=5)]: Done 150 tasks      | elapsed:    0.9s\n",
      "[Parallel(n_jobs=5)]: Done 1350 tasks      | elapsed:    8.9s\n",
      "[Parallel(n_jobs=5)]: Done 3350 tasks      | elapsed:   23.2s\n",
      "[Parallel(n_jobs=5)]: Done 5748 out of 5757 | elapsed:   43.2s remaining:    0.1s\n",
      "[Parallel(n_jobs=5)]: Done 5757 out of 5757 | elapsed:   43.3s finished\n"
     ]
    },
    {
     "data": {
      "text/html": [
       "<div>\n",
       "<style scoped>\n",
       "    .dataframe tbody tr th:only-of-type {\n",
       "        vertical-align: middle;\n",
       "    }\n",
       "\n",
       "    .dataframe tbody tr th {\n",
       "        vertical-align: top;\n",
       "    }\n",
       "\n",
       "    .dataframe thead th {\n",
       "        text-align: right;\n",
       "    }\n",
       "</style>\n",
       "<table border=\"1\" class=\"dataframe\">\n",
       "  <thead>\n",
       "    <tr style=\"text-align: right;\">\n",
       "      <th></th>\n",
       "      <th>count</th>\n",
       "      <th>mean</th>\n",
       "      <th>std</th>\n",
       "      <th>min</th>\n",
       "      <th>25%</th>\n",
       "      <th>50%</th>\n",
       "      <th>75%</th>\n",
       "      <th>max</th>\n",
       "      <th>word</th>\n",
       "    </tr>\n",
       "  </thead>\n",
       "  <tbody>\n",
       "    <tr>\n",
       "      <th>0</th>\n",
       "      <td>5757.0</td>\n",
       "      <td>4.352614</td>\n",
       "      <td>1.284847</td>\n",
       "      <td>1.0</td>\n",
       "      <td>4.0</td>\n",
       "      <td>4.0</td>\n",
       "      <td>5.0</td>\n",
       "      <td>12.0</td>\n",
       "      <td>pores</td>\n",
       "    </tr>\n",
       "  </tbody>\n",
       "</table>\n",
       "</div>"
      ],
      "text/plain": [
       "    count      mean       std  min  25%  50%  75%   max   word\n",
       "0  5757.0  4.352614  1.284847  1.0  4.0  4.0  5.0  12.0  pores"
      ]
     },
     "metadata": {},
     "output_type": "display_data"
    },
    {
     "name": "stderr",
     "output_type": "stream",
     "text": [
      "[Parallel(n_jobs=5)]: Using backend LokyBackend with 5 concurrent workers.\n"
     ]
    },
    {
     "name": "stdout",
     "output_type": "stream",
     "text": [
      "--------------------\n",
      "\n",
      "\n",
      "\n",
      "--------------------\n",
      "mares\n"
     ]
    },
    {
     "name": "stderr",
     "output_type": "stream",
     "text": [
      "[Parallel(n_jobs=5)]: Done 150 tasks      | elapsed:    0.9s\n",
      "[Parallel(n_jobs=5)]: Done 1350 tasks      | elapsed:    8.7s\n",
      "[Parallel(n_jobs=5)]: Done 3350 tasks      | elapsed:   23.5s\n",
      "[Parallel(n_jobs=5)]: Done 5757 out of 5757 | elapsed:   41.6s finished\n"
     ]
    },
    {
     "data": {
      "text/html": [
       "<div>\n",
       "<style scoped>\n",
       "    .dataframe tbody tr th:only-of-type {\n",
       "        vertical-align: middle;\n",
       "    }\n",
       "\n",
       "    .dataframe tbody tr th {\n",
       "        vertical-align: top;\n",
       "    }\n",
       "\n",
       "    .dataframe thead th {\n",
       "        text-align: right;\n",
       "    }\n",
       "</style>\n",
       "<table border=\"1\" class=\"dataframe\">\n",
       "  <thead>\n",
       "    <tr style=\"text-align: right;\">\n",
       "      <th></th>\n",
       "      <th>count</th>\n",
       "      <th>mean</th>\n",
       "      <th>std</th>\n",
       "      <th>min</th>\n",
       "      <th>25%</th>\n",
       "      <th>50%</th>\n",
       "      <th>75%</th>\n",
       "      <th>max</th>\n",
       "      <th>word</th>\n",
       "    </tr>\n",
       "  </thead>\n",
       "  <tbody>\n",
       "    <tr>\n",
       "      <th>0</th>\n",
       "      <td>5757.0</td>\n",
       "      <td>4.412194</td>\n",
       "      <td>1.313377</td>\n",
       "      <td>1.0</td>\n",
       "      <td>4.0</td>\n",
       "      <td>4.0</td>\n",
       "      <td>5.0</td>\n",
       "      <td>13.0</td>\n",
       "      <td>mares</td>\n",
       "    </tr>\n",
       "  </tbody>\n",
       "</table>\n",
       "</div>"
      ],
      "text/plain": [
       "    count      mean       std  min  25%  50%  75%   max   word\n",
       "0  5757.0  4.412194  1.313377  1.0  4.0  4.0  5.0  13.0  mares"
      ]
     },
     "metadata": {},
     "output_type": "display_data"
    },
    {
     "name": "stderr",
     "output_type": "stream",
     "text": [
      "[Parallel(n_jobs=5)]: Using backend LokyBackend with 5 concurrent workers.\n"
     ]
    },
    {
     "name": "stdout",
     "output_type": "stream",
     "text": [
      "--------------------\n",
      "\n",
      "\n",
      "\n",
      "--------------------\n",
      "canes\n"
     ]
    },
    {
     "name": "stderr",
     "output_type": "stream",
     "text": [
      "[Parallel(n_jobs=5)]: Done 150 tasks      | elapsed:    1.0s\n",
      "[Parallel(n_jobs=5)]: Done 1350 tasks      | elapsed:    9.1s\n",
      "[Parallel(n_jobs=5)]: Done 3350 tasks      | elapsed:   23.8s\n",
      "[Parallel(n_jobs=5)]: Done 5748 out of 5757 | elapsed:   41.4s remaining:    0.1s\n",
      "[Parallel(n_jobs=5)]: Done 5757 out of 5757 | elapsed:   41.5s finished\n"
     ]
    },
    {
     "data": {
      "text/html": [
       "<div>\n",
       "<style scoped>\n",
       "    .dataframe tbody tr th:only-of-type {\n",
       "        vertical-align: middle;\n",
       "    }\n",
       "\n",
       "    .dataframe tbody tr th {\n",
       "        vertical-align: top;\n",
       "    }\n",
       "\n",
       "    .dataframe thead th {\n",
       "        text-align: right;\n",
       "    }\n",
       "</style>\n",
       "<table border=\"1\" class=\"dataframe\">\n",
       "  <thead>\n",
       "    <tr style=\"text-align: right;\">\n",
       "      <th></th>\n",
       "      <th>count</th>\n",
       "      <th>mean</th>\n",
       "      <th>std</th>\n",
       "      <th>min</th>\n",
       "      <th>25%</th>\n",
       "      <th>50%</th>\n",
       "      <th>75%</th>\n",
       "      <th>max</th>\n",
       "      <th>word</th>\n",
       "    </tr>\n",
       "  </thead>\n",
       "  <tbody>\n",
       "    <tr>\n",
       "      <th>0</th>\n",
       "      <td>5757.0</td>\n",
       "      <td>4.420705</td>\n",
       "      <td>1.338935</td>\n",
       "      <td>1.0</td>\n",
       "      <td>4.0</td>\n",
       "      <td>4.0</td>\n",
       "      <td>5.0</td>\n",
       "      <td>12.0</td>\n",
       "      <td>canes</td>\n",
       "    </tr>\n",
       "  </tbody>\n",
       "</table>\n",
       "</div>"
      ],
      "text/plain": [
       "    count      mean       std  min  25%  50%  75%   max   word\n",
       "0  5757.0  4.420705  1.338935  1.0  4.0  4.0  5.0  12.0  canes"
      ]
     },
     "metadata": {},
     "output_type": "display_data"
    },
    {
     "name": "stderr",
     "output_type": "stream",
     "text": [
      "[Parallel(n_jobs=5)]: Using backend LokyBackend with 5 concurrent workers.\n"
     ]
    },
    {
     "name": "stdout",
     "output_type": "stream",
     "text": [
      "--------------------\n",
      "\n",
      "\n",
      "\n",
      "--------------------\n",
      "dares\n"
     ]
    },
    {
     "name": "stderr",
     "output_type": "stream",
     "text": [
      "[Parallel(n_jobs=5)]: Done 150 tasks      | elapsed:    0.9s\n",
      "[Parallel(n_jobs=5)]: Done 1350 tasks      | elapsed:    8.8s\n",
      "[Parallel(n_jobs=5)]: Done 3350 tasks      | elapsed:   23.2s\n",
      "[Parallel(n_jobs=5)]: Done 5748 out of 5757 | elapsed:   42.4s remaining:    0.1s\n",
      "[Parallel(n_jobs=5)]: Done 5757 out of 5757 | elapsed:   42.6s finished\n"
     ]
    },
    {
     "data": {
      "text/html": [
       "<div>\n",
       "<style scoped>\n",
       "    .dataframe tbody tr th:only-of-type {\n",
       "        vertical-align: middle;\n",
       "    }\n",
       "\n",
       "    .dataframe tbody tr th {\n",
       "        vertical-align: top;\n",
       "    }\n",
       "\n",
       "    .dataframe thead th {\n",
       "        text-align: right;\n",
       "    }\n",
       "</style>\n",
       "<table border=\"1\" class=\"dataframe\">\n",
       "  <thead>\n",
       "    <tr style=\"text-align: right;\">\n",
       "      <th></th>\n",
       "      <th>count</th>\n",
       "      <th>mean</th>\n",
       "      <th>std</th>\n",
       "      <th>min</th>\n",
       "      <th>25%</th>\n",
       "      <th>50%</th>\n",
       "      <th>75%</th>\n",
       "      <th>max</th>\n",
       "      <th>word</th>\n",
       "    </tr>\n",
       "  </thead>\n",
       "  <tbody>\n",
       "    <tr>\n",
       "      <th>0</th>\n",
       "      <td>5757.0</td>\n",
       "      <td>4.429564</td>\n",
       "      <td>1.335664</td>\n",
       "      <td>1.0</td>\n",
       "      <td>4.0</td>\n",
       "      <td>4.0</td>\n",
       "      <td>5.0</td>\n",
       "      <td>12.0</td>\n",
       "      <td>dares</td>\n",
       "    </tr>\n",
       "  </tbody>\n",
       "</table>\n",
       "</div>"
      ],
      "text/plain": [
       "    count      mean       std  min  25%  50%  75%   max   word\n",
       "0  5757.0  4.429564  1.335664  1.0  4.0  4.0  5.0  12.0  dares"
      ]
     },
     "metadata": {},
     "output_type": "display_data"
    },
    {
     "name": "stderr",
     "output_type": "stream",
     "text": [
      "[Parallel(n_jobs=5)]: Using backend LokyBackend with 5 concurrent workers.\n"
     ]
    },
    {
     "name": "stdout",
     "output_type": "stream",
     "text": [
      "--------------------\n",
      "\n",
      "\n",
      "\n",
      "--------------------\n",
      "banes\n"
     ]
    },
    {
     "name": "stderr",
     "output_type": "stream",
     "text": [
      "[Parallel(n_jobs=5)]: Done 150 tasks      | elapsed:    1.0s\n",
      "[Parallel(n_jobs=5)]: Done 1350 tasks      | elapsed:   10.8s\n",
      "[Parallel(n_jobs=5)]: Done 3350 tasks      | elapsed:   28.6s\n",
      "[Parallel(n_jobs=5)]: Done 5748 out of 5757 | elapsed:   47.3s remaining:    0.1s\n",
      "[Parallel(n_jobs=5)]: Done 5757 out of 5757 | elapsed:   47.4s finished\n"
     ]
    },
    {
     "data": {
      "text/html": [
       "<div>\n",
       "<style scoped>\n",
       "    .dataframe tbody tr th:only-of-type {\n",
       "        vertical-align: middle;\n",
       "    }\n",
       "\n",
       "    .dataframe tbody tr th {\n",
       "        vertical-align: top;\n",
       "    }\n",
       "\n",
       "    .dataframe thead th {\n",
       "        text-align: right;\n",
       "    }\n",
       "</style>\n",
       "<table border=\"1\" class=\"dataframe\">\n",
       "  <thead>\n",
       "    <tr style=\"text-align: right;\">\n",
       "      <th></th>\n",
       "      <th>count</th>\n",
       "      <th>mean</th>\n",
       "      <th>std</th>\n",
       "      <th>min</th>\n",
       "      <th>25%</th>\n",
       "      <th>50%</th>\n",
       "      <th>75%</th>\n",
       "      <th>max</th>\n",
       "      <th>word</th>\n",
       "    </tr>\n",
       "  </thead>\n",
       "  <tbody>\n",
       "    <tr>\n",
       "      <th>0</th>\n",
       "      <td>5757.0</td>\n",
       "      <td>4.469863</td>\n",
       "      <td>1.313453</td>\n",
       "      <td>1.0</td>\n",
       "      <td>4.0</td>\n",
       "      <td>4.0</td>\n",
       "      <td>5.0</td>\n",
       "      <td>12.0</td>\n",
       "      <td>banes</td>\n",
       "    </tr>\n",
       "  </tbody>\n",
       "</table>\n",
       "</div>"
      ],
      "text/plain": [
       "    count      mean       std  min  25%  50%  75%   max   word\n",
       "0  5757.0  4.469863  1.313453  1.0  4.0  4.0  5.0  12.0  banes"
      ]
     },
     "metadata": {},
     "output_type": "display_data"
    },
    {
     "name": "stderr",
     "output_type": "stream",
     "text": [
      "[Parallel(n_jobs=5)]: Using backend LokyBackend with 5 concurrent workers.\n"
     ]
    },
    {
     "name": "stdout",
     "output_type": "stream",
     "text": [
      "--------------------\n",
      "\n",
      "\n",
      "\n",
      "--------------------\n",
      "tores\n"
     ]
    },
    {
     "name": "stderr",
     "output_type": "stream",
     "text": [
      "[Parallel(n_jobs=5)]: Done 150 tasks      | elapsed:    0.9s\n",
      "[Parallel(n_jobs=5)]: Done 1350 tasks      | elapsed:    8.5s\n",
      "[Parallel(n_jobs=5)]: Done 3350 tasks      | elapsed:   23.4s\n",
      "[Parallel(n_jobs=5)]: Done 5757 out of 5757 | elapsed:   41.2s finished\n"
     ]
    },
    {
     "data": {
      "text/html": [
       "<div>\n",
       "<style scoped>\n",
       "    .dataframe tbody tr th:only-of-type {\n",
       "        vertical-align: middle;\n",
       "    }\n",
       "\n",
       "    .dataframe tbody tr th {\n",
       "        vertical-align: top;\n",
       "    }\n",
       "\n",
       "    .dataframe thead th {\n",
       "        text-align: right;\n",
       "    }\n",
       "</style>\n",
       "<table border=\"1\" class=\"dataframe\">\n",
       "  <thead>\n",
       "    <tr style=\"text-align: right;\">\n",
       "      <th></th>\n",
       "      <th>count</th>\n",
       "      <th>mean</th>\n",
       "      <th>std</th>\n",
       "      <th>min</th>\n",
       "      <th>25%</th>\n",
       "      <th>50%</th>\n",
       "      <th>75%</th>\n",
       "      <th>max</th>\n",
       "      <th>word</th>\n",
       "    </tr>\n",
       "  </thead>\n",
       "  <tbody>\n",
       "    <tr>\n",
       "      <th>0</th>\n",
       "      <td>5757.0</td>\n",
       "      <td>4.355046</td>\n",
       "      <td>1.318619</td>\n",
       "      <td>2.0</td>\n",
       "      <td>3.0</td>\n",
       "      <td>4.0</td>\n",
       "      <td>5.0</td>\n",
       "      <td>12.0</td>\n",
       "      <td>tores</td>\n",
       "    </tr>\n",
       "  </tbody>\n",
       "</table>\n",
       "</div>"
      ],
      "text/plain": [
       "    count      mean       std  min  25%  50%  75%   max   word\n",
       "0  5757.0  4.355046  1.318619  2.0  3.0  4.0  5.0  12.0  tores"
      ]
     },
     "metadata": {},
     "output_type": "display_data"
    },
    {
     "name": "stderr",
     "output_type": "stream",
     "text": [
      "[Parallel(n_jobs=5)]: Using backend LokyBackend with 5 concurrent workers.\n"
     ]
    },
    {
     "name": "stdout",
     "output_type": "stream",
     "text": [
      "--------------------\n",
      "\n",
      "\n",
      "\n",
      "--------------------\n",
      "panes\n"
     ]
    },
    {
     "name": "stderr",
     "output_type": "stream",
     "text": [
      "[Parallel(n_jobs=5)]: Done 110 tasks      | elapsed:    0.8s\n",
      "[Parallel(n_jobs=5)]: Done 710 tasks      | elapsed:    5.0s\n",
      "[Parallel(n_jobs=5)]: Done 1710 tasks      | elapsed:   12.7s\n",
      "[Parallel(n_jobs=5)]: Done 3110 tasks      | elapsed:   23.8s\n",
      "[Parallel(n_jobs=5)]: Done 4910 tasks      | elapsed:   38.3s\n",
      "[Parallel(n_jobs=5)]: Done 5748 out of 5757 | elapsed:   45.2s remaining:    0.1s\n",
      "[Parallel(n_jobs=5)]: Done 5757 out of 5757 | elapsed:   45.2s finished\n"
     ]
    },
    {
     "data": {
      "text/html": [
       "<div>\n",
       "<style scoped>\n",
       "    .dataframe tbody tr th:only-of-type {\n",
       "        vertical-align: middle;\n",
       "    }\n",
       "\n",
       "    .dataframe tbody tr th {\n",
       "        vertical-align: top;\n",
       "    }\n",
       "\n",
       "    .dataframe thead th {\n",
       "        text-align: right;\n",
       "    }\n",
       "</style>\n",
       "<table border=\"1\" class=\"dataframe\">\n",
       "  <thead>\n",
       "    <tr style=\"text-align: right;\">\n",
       "      <th></th>\n",
       "      <th>count</th>\n",
       "      <th>mean</th>\n",
       "      <th>std</th>\n",
       "      <th>min</th>\n",
       "      <th>25%</th>\n",
       "      <th>50%</th>\n",
       "      <th>75%</th>\n",
       "      <th>max</th>\n",
       "      <th>word</th>\n",
       "    </tr>\n",
       "  </thead>\n",
       "  <tbody>\n",
       "    <tr>\n",
       "      <th>0</th>\n",
       "      <td>5757.0</td>\n",
       "      <td>4.408025</td>\n",
       "      <td>1.296582</td>\n",
       "      <td>1.0</td>\n",
       "      <td>4.0</td>\n",
       "      <td>4.0</td>\n",
       "      <td>5.0</td>\n",
       "      <td>11.0</td>\n",
       "      <td>panes</td>\n",
       "    </tr>\n",
       "  </tbody>\n",
       "</table>\n",
       "</div>"
      ],
      "text/plain": [
       "    count      mean       std  min  25%  50%  75%   max   word\n",
       "0  5757.0  4.408025  1.296582  1.0  4.0  4.0  5.0  11.0  panes"
      ]
     },
     "metadata": {},
     "output_type": "display_data"
    },
    {
     "name": "stderr",
     "output_type": "stream",
     "text": [
      "[Parallel(n_jobs=5)]: Using backend LokyBackend with 5 concurrent workers.\n"
     ]
    },
    {
     "name": "stdout",
     "output_type": "stream",
     "text": [
      "--------------------\n",
      "\n",
      "\n",
      "\n",
      "--------------------\n",
      "fares\n"
     ]
    },
    {
     "name": "stderr",
     "output_type": "stream",
     "text": [
      "[Parallel(n_jobs=5)]: Done 110 tasks      | elapsed:    0.9s\n",
      "[Parallel(n_jobs=5)]: Done 710 tasks      | elapsed:    5.2s\n",
      "[Parallel(n_jobs=5)]: Done 1710 tasks      | elapsed:   12.8s\n",
      "[Parallel(n_jobs=5)]: Done 3110 tasks      | elapsed:   23.9s\n",
      "[Parallel(n_jobs=5)]: Done 4910 tasks      | elapsed:   39.9s\n",
      "[Parallel(n_jobs=5)]: Done 5748 out of 5757 | elapsed:   47.7s remaining:    0.1s\n",
      "[Parallel(n_jobs=5)]: Done 5757 out of 5757 | elapsed:   47.7s finished\n"
     ]
    },
    {
     "data": {
      "text/html": [
       "<div>\n",
       "<style scoped>\n",
       "    .dataframe tbody tr th:only-of-type {\n",
       "        vertical-align: middle;\n",
       "    }\n",
       "\n",
       "    .dataframe tbody tr th {\n",
       "        vertical-align: top;\n",
       "    }\n",
       "\n",
       "    .dataframe thead th {\n",
       "        text-align: right;\n",
       "    }\n",
       "</style>\n",
       "<table border=\"1\" class=\"dataframe\">\n",
       "  <thead>\n",
       "    <tr style=\"text-align: right;\">\n",
       "      <th></th>\n",
       "      <th>count</th>\n",
       "      <th>mean</th>\n",
       "      <th>std</th>\n",
       "      <th>min</th>\n",
       "      <th>25%</th>\n",
       "      <th>50%</th>\n",
       "      <th>75%</th>\n",
       "      <th>max</th>\n",
       "      <th>word</th>\n",
       "    </tr>\n",
       "  </thead>\n",
       "  <tbody>\n",
       "    <tr>\n",
       "      <th>0</th>\n",
       "      <td>5757.0</td>\n",
       "      <td>4.471079</td>\n",
       "      <td>1.328343</td>\n",
       "      <td>1.0</td>\n",
       "      <td>4.0</td>\n",
       "      <td>4.0</td>\n",
       "      <td>5.0</td>\n",
       "      <td>12.0</td>\n",
       "      <td>fares</td>\n",
       "    </tr>\n",
       "  </tbody>\n",
       "</table>\n",
       "</div>"
      ],
      "text/plain": [
       "    count      mean       std  min  25%  50%  75%   max   word\n",
       "0  5757.0  4.471079  1.328343  1.0  4.0  4.0  5.0  12.0  fares"
      ]
     },
     "metadata": {},
     "output_type": "display_data"
    },
    {
     "name": "stderr",
     "output_type": "stream",
     "text": [
      "[Parallel(n_jobs=5)]: Using backend LokyBackend with 5 concurrent workers.\n"
     ]
    },
    {
     "name": "stdout",
     "output_type": "stream",
     "text": [
      "--------------------\n",
      "\n",
      "\n",
      "\n",
      "--------------------\n",
      "lares\n"
     ]
    },
    {
     "name": "stderr",
     "output_type": "stream",
     "text": [
      "[Parallel(n_jobs=5)]: Done 150 tasks      | elapsed:    1.2s\n",
      "[Parallel(n_jobs=5)]: Done 1350 tasks      | elapsed:    9.2s\n",
      "[Parallel(n_jobs=5)]: Done 3350 tasks      | elapsed:   24.9s\n",
      "[Parallel(n_jobs=5)]: Done 5757 out of 5757 | elapsed:   43.2s finished\n"
     ]
    },
    {
     "data": {
      "text/html": [
       "<div>\n",
       "<style scoped>\n",
       "    .dataframe tbody tr th:only-of-type {\n",
       "        vertical-align: middle;\n",
       "    }\n",
       "\n",
       "    .dataframe tbody tr th {\n",
       "        vertical-align: top;\n",
       "    }\n",
       "\n",
       "    .dataframe thead th {\n",
       "        text-align: right;\n",
       "    }\n",
       "</style>\n",
       "<table border=\"1\" class=\"dataframe\">\n",
       "  <thead>\n",
       "    <tr style=\"text-align: right;\">\n",
       "      <th></th>\n",
       "      <th>count</th>\n",
       "      <th>mean</th>\n",
       "      <th>std</th>\n",
       "      <th>min</th>\n",
       "      <th>25%</th>\n",
       "      <th>50%</th>\n",
       "      <th>75%</th>\n",
       "      <th>max</th>\n",
       "      <th>word</th>\n",
       "    </tr>\n",
       "  </thead>\n",
       "  <tbody>\n",
       "    <tr>\n",
       "      <th>0</th>\n",
       "      <td>5757.0</td>\n",
       "      <td>4.383012</td>\n",
       "      <td>1.337209</td>\n",
       "      <td>2.0</td>\n",
       "      <td>4.0</td>\n",
       "      <td>4.0</td>\n",
       "      <td>5.0</td>\n",
       "      <td>13.0</td>\n",
       "      <td>lares</td>\n",
       "    </tr>\n",
       "  </tbody>\n",
       "</table>\n",
       "</div>"
      ],
      "text/plain": [
       "    count      mean       std  min  25%  50%  75%   max   word\n",
       "0  5757.0  4.383012  1.337209  2.0  4.0  4.0  5.0  13.0  lares"
      ]
     },
     "metadata": {},
     "output_type": "display_data"
    },
    {
     "name": "stderr",
     "output_type": "stream",
     "text": [
      "[Parallel(n_jobs=5)]: Using backend LokyBackend with 5 concurrent workers.\n"
     ]
    },
    {
     "name": "stdout",
     "output_type": "stream",
     "text": [
      "--------------------\n",
      "\n",
      "\n",
      "\n",
      "--------------------\n",
      "bales\n"
     ]
    },
    {
     "name": "stderr",
     "output_type": "stream",
     "text": [
      "[Parallel(n_jobs=5)]: Done 150 tasks      | elapsed:    1.1s\n",
      "[Parallel(n_jobs=5)]: Done 1350 tasks      | elapsed:    9.7s\n",
      "[Parallel(n_jobs=5)]: Done 3350 tasks      | elapsed:   25.8s\n",
      "[Parallel(n_jobs=5)]: Done 5748 out of 5757 | elapsed:   44.6s remaining:    0.1s\n",
      "[Parallel(n_jobs=5)]: Done 5757 out of 5757 | elapsed:   44.7s finished\n"
     ]
    },
    {
     "data": {
      "text/html": [
       "<div>\n",
       "<style scoped>\n",
       "    .dataframe tbody tr th:only-of-type {\n",
       "        vertical-align: middle;\n",
       "    }\n",
       "\n",
       "    .dataframe tbody tr th {\n",
       "        vertical-align: top;\n",
       "    }\n",
       "\n",
       "    .dataframe thead th {\n",
       "        text-align: right;\n",
       "    }\n",
       "</style>\n",
       "<table border=\"1\" class=\"dataframe\">\n",
       "  <thead>\n",
       "    <tr style=\"text-align: right;\">\n",
       "      <th></th>\n",
       "      <th>count</th>\n",
       "      <th>mean</th>\n",
       "      <th>std</th>\n",
       "      <th>min</th>\n",
       "      <th>25%</th>\n",
       "      <th>50%</th>\n",
       "      <th>75%</th>\n",
       "      <th>max</th>\n",
       "      <th>word</th>\n",
       "    </tr>\n",
       "  </thead>\n",
       "  <tbody>\n",
       "    <tr>\n",
       "      <th>0</th>\n",
       "      <td>5757.0</td>\n",
       "      <td>4.395171</td>\n",
       "      <td>1.292787</td>\n",
       "      <td>1.0</td>\n",
       "      <td>4.0</td>\n",
       "      <td>4.0</td>\n",
       "      <td>5.0</td>\n",
       "      <td>13.0</td>\n",
       "      <td>bales</td>\n",
       "    </tr>\n",
       "  </tbody>\n",
       "</table>\n",
       "</div>"
      ],
      "text/plain": [
       "    count      mean       std  min  25%  50%  75%   max   word\n",
       "0  5757.0  4.395171  1.292787  1.0  4.0  4.0  5.0  13.0  bales"
      ]
     },
     "metadata": {},
     "output_type": "display_data"
    },
    {
     "name": "stderr",
     "output_type": "stream",
     "text": [
      "[Parallel(n_jobs=5)]: Using backend LokyBackend with 5 concurrent workers.\n"
     ]
    },
    {
     "name": "stdout",
     "output_type": "stream",
     "text": [
      "--------------------\n",
      "\n",
      "\n",
      "\n",
      "--------------------\n",
      "mores\n"
     ]
    },
    {
     "name": "stderr",
     "output_type": "stream",
     "text": [
      "[Parallel(n_jobs=5)]: Done 150 tasks      | elapsed:    1.0s\n",
      "[Parallel(n_jobs=5)]: Done 1350 tasks      | elapsed:    9.5s\n",
      "[Parallel(n_jobs=5)]: Done 3350 tasks      | elapsed:   23.9s\n",
      "[Parallel(n_jobs=5)]: Done 5757 out of 5757 | elapsed:   42.5s finished\n"
     ]
    },
    {
     "data": {
      "text/html": [
       "<div>\n",
       "<style scoped>\n",
       "    .dataframe tbody tr th:only-of-type {\n",
       "        vertical-align: middle;\n",
       "    }\n",
       "\n",
       "    .dataframe tbody tr th {\n",
       "        vertical-align: top;\n",
       "    }\n",
       "\n",
       "    .dataframe thead th {\n",
       "        text-align: right;\n",
       "    }\n",
       "</style>\n",
       "<table border=\"1\" class=\"dataframe\">\n",
       "  <thead>\n",
       "    <tr style=\"text-align: right;\">\n",
       "      <th></th>\n",
       "      <th>count</th>\n",
       "      <th>mean</th>\n",
       "      <th>std</th>\n",
       "      <th>min</th>\n",
       "      <th>25%</th>\n",
       "      <th>50%</th>\n",
       "      <th>75%</th>\n",
       "      <th>max</th>\n",
       "      <th>word</th>\n",
       "    </tr>\n",
       "  </thead>\n",
       "  <tbody>\n",
       "    <tr>\n",
       "      <th>0</th>\n",
       "      <td>5757.0</td>\n",
       "      <td>4.398993</td>\n",
       "      <td>1.30086</td>\n",
       "      <td>1.0</td>\n",
       "      <td>4.0</td>\n",
       "      <td>4.0</td>\n",
       "      <td>5.0</td>\n",
       "      <td>13.0</td>\n",
       "      <td>mores</td>\n",
       "    </tr>\n",
       "  </tbody>\n",
       "</table>\n",
       "</div>"
      ],
      "text/plain": [
       "    count      mean      std  min  25%  50%  75%   max   word\n",
       "0  5757.0  4.398993  1.30086  1.0  4.0  4.0  5.0  13.0  mores"
      ]
     },
     "metadata": {},
     "output_type": "display_data"
    },
    {
     "name": "stderr",
     "output_type": "stream",
     "text": [
      "[Parallel(n_jobs=5)]: Using backend LokyBackend with 5 concurrent workers.\n"
     ]
    },
    {
     "name": "stdout",
     "output_type": "stream",
     "text": [
      "--------------------\n",
      "\n",
      "\n",
      "\n",
      "--------------------\n",
      "cones\n"
     ]
    },
    {
     "name": "stderr",
     "output_type": "stream",
     "text": [
      "[Parallel(n_jobs=5)]: Done 150 tasks      | elapsed:    1.0s\n",
      "[Parallel(n_jobs=5)]: Done 1350 tasks      | elapsed:    9.4s\n",
      "[Parallel(n_jobs=5)]: Done 3350 tasks      | elapsed:   24.6s\n",
      "[Parallel(n_jobs=5)]: Done 5748 out of 5757 | elapsed:   43.0s remaining:    0.1s\n",
      "[Parallel(n_jobs=5)]: Done 5757 out of 5757 | elapsed:   43.1s finished\n"
     ]
    },
    {
     "data": {
      "text/html": [
       "<div>\n",
       "<style scoped>\n",
       "    .dataframe tbody tr th:only-of-type {\n",
       "        vertical-align: middle;\n",
       "    }\n",
       "\n",
       "    .dataframe tbody tr th {\n",
       "        vertical-align: top;\n",
       "    }\n",
       "\n",
       "    .dataframe thead th {\n",
       "        text-align: right;\n",
       "    }\n",
       "</style>\n",
       "<table border=\"1\" class=\"dataframe\">\n",
       "  <thead>\n",
       "    <tr style=\"text-align: right;\">\n",
       "      <th></th>\n",
       "      <th>count</th>\n",
       "      <th>mean</th>\n",
       "      <th>std</th>\n",
       "      <th>min</th>\n",
       "      <th>25%</th>\n",
       "      <th>50%</th>\n",
       "      <th>75%</th>\n",
       "      <th>max</th>\n",
       "      <th>word</th>\n",
       "    </tr>\n",
       "  </thead>\n",
       "  <tbody>\n",
       "    <tr>\n",
       "      <th>0</th>\n",
       "      <td>5757.0</td>\n",
       "      <td>4.4247</td>\n",
       "      <td>1.333576</td>\n",
       "      <td>1.0</td>\n",
       "      <td>4.0</td>\n",
       "      <td>4.0</td>\n",
       "      <td>5.0</td>\n",
       "      <td>12.0</td>\n",
       "      <td>cones</td>\n",
       "    </tr>\n",
       "  </tbody>\n",
       "</table>\n",
       "</div>"
      ],
      "text/plain": [
       "    count    mean       std  min  25%  50%  75%   max   word\n",
       "0  5757.0  4.4247  1.333576  1.0  4.0  4.0  5.0  12.0  cones"
      ]
     },
     "metadata": {},
     "output_type": "display_data"
    },
    {
     "name": "stderr",
     "output_type": "stream",
     "text": [
      "[Parallel(n_jobs=5)]: Using backend LokyBackend with 5 concurrent workers.\n"
     ]
    },
    {
     "name": "stdout",
     "output_type": "stream",
     "text": [
      "--------------------\n",
      "\n",
      "\n",
      "\n",
      "--------------------\n",
      "bones\n"
     ]
    },
    {
     "name": "stderr",
     "output_type": "stream",
     "text": [
      "[Parallel(n_jobs=5)]: Done 150 tasks      | elapsed:    1.0s\n",
      "[Parallel(n_jobs=5)]: Done 1350 tasks      | elapsed:    9.7s\n",
      "[Parallel(n_jobs=5)]: Done 3350 tasks      | elapsed:   25.0s\n",
      "[Parallel(n_jobs=5)]: Done 5757 out of 5757 | elapsed:   43.7s finished\n"
     ]
    },
    {
     "data": {
      "text/html": [
       "<div>\n",
       "<style scoped>\n",
       "    .dataframe tbody tr th:only-of-type {\n",
       "        vertical-align: middle;\n",
       "    }\n",
       "\n",
       "    .dataframe tbody tr th {\n",
       "        vertical-align: top;\n",
       "    }\n",
       "\n",
       "    .dataframe thead th {\n",
       "        text-align: right;\n",
       "    }\n",
       "</style>\n",
       "<table border=\"1\" class=\"dataframe\">\n",
       "  <thead>\n",
       "    <tr style=\"text-align: right;\">\n",
       "      <th></th>\n",
       "      <th>count</th>\n",
       "      <th>mean</th>\n",
       "      <th>std</th>\n",
       "      <th>min</th>\n",
       "      <th>25%</th>\n",
       "      <th>50%</th>\n",
       "      <th>75%</th>\n",
       "      <th>max</th>\n",
       "      <th>word</th>\n",
       "    </tr>\n",
       "  </thead>\n",
       "  <tbody>\n",
       "    <tr>\n",
       "      <th>0</th>\n",
       "      <td>5757.0</td>\n",
       "      <td>4.442244</td>\n",
       "      <td>1.319394</td>\n",
       "      <td>1.0</td>\n",
       "      <td>4.0</td>\n",
       "      <td>4.0</td>\n",
       "      <td>5.0</td>\n",
       "      <td>12.0</td>\n",
       "      <td>bones</td>\n",
       "    </tr>\n",
       "  </tbody>\n",
       "</table>\n",
       "</div>"
      ],
      "text/plain": [
       "    count      mean       std  min  25%  50%  75%   max   word\n",
       "0  5757.0  4.442244  1.319394  1.0  4.0  4.0  5.0  12.0  bones"
      ]
     },
     "metadata": {},
     "output_type": "display_data"
    },
    {
     "name": "stderr",
     "output_type": "stream",
     "text": [
      "[Parallel(n_jobs=5)]: Using backend LokyBackend with 5 concurrent workers.\n"
     ]
    },
    {
     "name": "stdout",
     "output_type": "stream",
     "text": [
      "--------------------\n",
      "\n",
      "\n",
      "\n",
      "--------------------\n",
      "pales\n"
     ]
    },
    {
     "name": "stderr",
     "output_type": "stream",
     "text": [
      "[Parallel(n_jobs=5)]: Done 150 tasks      | elapsed:    1.0s\n",
      "[Parallel(n_jobs=5)]: Done 1350 tasks      | elapsed:    8.8s\n",
      "[Parallel(n_jobs=5)]: Done 3350 tasks      | elapsed:   23.0s\n",
      "[Parallel(n_jobs=5)]: Done 5748 out of 5757 | elapsed:   41.1s remaining:    0.1s\n",
      "[Parallel(n_jobs=5)]: Done 5757 out of 5757 | elapsed:   41.2s finished\n"
     ]
    },
    {
     "data": {
      "text/html": [
       "<div>\n",
       "<style scoped>\n",
       "    .dataframe tbody tr th:only-of-type {\n",
       "        vertical-align: middle;\n",
       "    }\n",
       "\n",
       "    .dataframe tbody tr th {\n",
       "        vertical-align: top;\n",
       "    }\n",
       "\n",
       "    .dataframe thead th {\n",
       "        text-align: right;\n",
       "    }\n",
       "</style>\n",
       "<table border=\"1\" class=\"dataframe\">\n",
       "  <thead>\n",
       "    <tr style=\"text-align: right;\">\n",
       "      <th></th>\n",
       "      <th>count</th>\n",
       "      <th>mean</th>\n",
       "      <th>std</th>\n",
       "      <th>min</th>\n",
       "      <th>25%</th>\n",
       "      <th>50%</th>\n",
       "      <th>75%</th>\n",
       "      <th>max</th>\n",
       "      <th>word</th>\n",
       "    </tr>\n",
       "  </thead>\n",
       "  <tbody>\n",
       "    <tr>\n",
       "      <th>0</th>\n",
       "      <td>5757.0</td>\n",
       "      <td>4.352788</td>\n",
       "      <td>1.287299</td>\n",
       "      <td>1.0</td>\n",
       "      <td>4.0</td>\n",
       "      <td>4.0</td>\n",
       "      <td>5.0</td>\n",
       "      <td>13.0</td>\n",
       "      <td>pales</td>\n",
       "    </tr>\n",
       "  </tbody>\n",
       "</table>\n",
       "</div>"
      ],
      "text/plain": [
       "    count      mean       std  min  25%  50%  75%   max   word\n",
       "0  5757.0  4.352788  1.287299  1.0  4.0  4.0  5.0  13.0  pales"
      ]
     },
     "metadata": {},
     "output_type": "display_data"
    },
    {
     "name": "stderr",
     "output_type": "stream",
     "text": [
      "[Parallel(n_jobs=5)]: Using backend LokyBackend with 5 concurrent workers.\n"
     ]
    },
    {
     "name": "stdout",
     "output_type": "stream",
     "text": [
      "--------------------\n",
      "\n",
      "\n",
      "\n",
      "--------------------\n",
      "hares\n"
     ]
    },
    {
     "name": "stderr",
     "output_type": "stream",
     "text": [
      "[Parallel(n_jobs=5)]: Done 150 tasks      | elapsed:    1.2s\n",
      "[Parallel(n_jobs=5)]: Done 1350 tasks      | elapsed:    9.3s\n",
      "[Parallel(n_jobs=5)]: Done 3350 tasks      | elapsed:   24.6s\n",
      "[Parallel(n_jobs=5)]: Done 5757 out of 5757 | elapsed:   43.3s finished\n"
     ]
    },
    {
     "data": {
      "text/html": [
       "<div>\n",
       "<style scoped>\n",
       "    .dataframe tbody tr th:only-of-type {\n",
       "        vertical-align: middle;\n",
       "    }\n",
       "\n",
       "    .dataframe tbody tr th {\n",
       "        vertical-align: top;\n",
       "    }\n",
       "\n",
       "    .dataframe thead th {\n",
       "        text-align: right;\n",
       "    }\n",
       "</style>\n",
       "<table border=\"1\" class=\"dataframe\">\n",
       "  <thead>\n",
       "    <tr style=\"text-align: right;\">\n",
       "      <th></th>\n",
       "      <th>count</th>\n",
       "      <th>mean</th>\n",
       "      <th>std</th>\n",
       "      <th>min</th>\n",
       "      <th>25%</th>\n",
       "      <th>50%</th>\n",
       "      <th>75%</th>\n",
       "      <th>max</th>\n",
       "      <th>word</th>\n",
       "    </tr>\n",
       "  </thead>\n",
       "  <tbody>\n",
       "    <tr>\n",
       "      <th>0</th>\n",
       "      <td>5757.0</td>\n",
       "      <td>4.464825</td>\n",
       "      <td>1.346122</td>\n",
       "      <td>1.0</td>\n",
       "      <td>4.0</td>\n",
       "      <td>4.0</td>\n",
       "      <td>5.0</td>\n",
       "      <td>12.0</td>\n",
       "      <td>hares</td>\n",
       "    </tr>\n",
       "  </tbody>\n",
       "</table>\n",
       "</div>"
      ],
      "text/plain": [
       "    count      mean       std  min  25%  50%  75%   max   word\n",
       "0  5757.0  4.464825  1.346122  1.0  4.0  4.0  5.0  12.0  hares"
      ]
     },
     "metadata": {},
     "output_type": "display_data"
    },
    {
     "name": "stderr",
     "output_type": "stream",
     "text": [
      "[Parallel(n_jobs=5)]: Using backend LokyBackend with 5 concurrent workers.\n"
     ]
    },
    {
     "name": "stdout",
     "output_type": "stream",
     "text": [
      "--------------------\n",
      "\n",
      "\n",
      "\n",
      "--------------------\n",
      "gores\n"
     ]
    },
    {
     "name": "stderr",
     "output_type": "stream",
     "text": [
      "[Parallel(n_jobs=5)]: Done  90 tasks      | elapsed:    0.8s\n",
      "[Parallel(n_jobs=5)]: Done 1290 tasks      | elapsed:    9.5s\n",
      "[Parallel(n_jobs=5)]: Done 3290 tasks      | elapsed:   25.0s\n",
      "[Parallel(n_jobs=5)]: Done 5757 out of 5757 | elapsed:   44.2s finished\n"
     ]
    },
    {
     "data": {
      "text/html": [
       "<div>\n",
       "<style scoped>\n",
       "    .dataframe tbody tr th:only-of-type {\n",
       "        vertical-align: middle;\n",
       "    }\n",
       "\n",
       "    .dataframe tbody tr th {\n",
       "        vertical-align: top;\n",
       "    }\n",
       "\n",
       "    .dataframe thead th {\n",
       "        text-align: right;\n",
       "    }\n",
       "</style>\n",
       "<table border=\"1\" class=\"dataframe\">\n",
       "  <thead>\n",
       "    <tr style=\"text-align: right;\">\n",
       "      <th></th>\n",
       "      <th>count</th>\n",
       "      <th>mean</th>\n",
       "      <th>std</th>\n",
       "      <th>min</th>\n",
       "      <th>25%</th>\n",
       "      <th>50%</th>\n",
       "      <th>75%</th>\n",
       "      <th>max</th>\n",
       "      <th>word</th>\n",
       "    </tr>\n",
       "  </thead>\n",
       "  <tbody>\n",
       "    <tr>\n",
       "      <th>0</th>\n",
       "      <td>5757.0</td>\n",
       "      <td>4.468473</td>\n",
       "      <td>1.343629</td>\n",
       "      <td>1.0</td>\n",
       "      <td>4.0</td>\n",
       "      <td>4.0</td>\n",
       "      <td>5.0</td>\n",
       "      <td>12.0</td>\n",
       "      <td>gores</td>\n",
       "    </tr>\n",
       "  </tbody>\n",
       "</table>\n",
       "</div>"
      ],
      "text/plain": [
       "    count      mean       std  min  25%  50%  75%   max   word\n",
       "0  5757.0  4.468473  1.343629  1.0  4.0  4.0  5.0  12.0  gores"
      ]
     },
     "metadata": {},
     "output_type": "display_data"
    },
    {
     "name": "stderr",
     "output_type": "stream",
     "text": [
      "[Parallel(n_jobs=5)]: Using backend LokyBackend with 5 concurrent workers.\n"
     ]
    },
    {
     "name": "stdout",
     "output_type": "stream",
     "text": [
      "--------------------\n",
      "\n",
      "\n",
      "\n",
      "--------------------\n",
      "tales\n"
     ]
    },
    {
     "name": "stderr",
     "output_type": "stream",
     "text": [
      "[Parallel(n_jobs=5)]: Done 150 tasks      | elapsed:    1.0s\n",
      "[Parallel(n_jobs=5)]: Done 1350 tasks      | elapsed:    8.7s\n",
      "[Parallel(n_jobs=5)]: Done 3350 tasks      | elapsed:   22.8s\n",
      "[Parallel(n_jobs=5)]: Done 5757 out of 5757 | elapsed:   41.0s finished\n"
     ]
    },
    {
     "data": {
      "text/html": [
       "<div>\n",
       "<style scoped>\n",
       "    .dataframe tbody tr th:only-of-type {\n",
       "        vertical-align: middle;\n",
       "    }\n",
       "\n",
       "    .dataframe tbody tr th {\n",
       "        vertical-align: top;\n",
       "    }\n",
       "\n",
       "    .dataframe thead th {\n",
       "        text-align: right;\n",
       "    }\n",
       "</style>\n",
       "<table border=\"1\" class=\"dataframe\">\n",
       "  <thead>\n",
       "    <tr style=\"text-align: right;\">\n",
       "      <th></th>\n",
       "      <th>count</th>\n",
       "      <th>mean</th>\n",
       "      <th>std</th>\n",
       "      <th>min</th>\n",
       "      <th>25%</th>\n",
       "      <th>50%</th>\n",
       "      <th>75%</th>\n",
       "      <th>max</th>\n",
       "      <th>word</th>\n",
       "    </tr>\n",
       "  </thead>\n",
       "  <tbody>\n",
       "    <tr>\n",
       "      <th>0</th>\n",
       "      <td>5757.0</td>\n",
       "      <td>4.338371</td>\n",
       "      <td>1.304617</td>\n",
       "      <td>1.0</td>\n",
       "      <td>3.0</td>\n",
       "      <td>4.0</td>\n",
       "      <td>5.0</td>\n",
       "      <td>13.0</td>\n",
       "      <td>tales</td>\n",
       "    </tr>\n",
       "  </tbody>\n",
       "</table>\n",
       "</div>"
      ],
      "text/plain": [
       "    count      mean       std  min  25%  50%  75%   max   word\n",
       "0  5757.0  4.338371  1.304617  1.0  3.0  4.0  5.0  13.0  tales"
      ]
     },
     "metadata": {},
     "output_type": "display_data"
    },
    {
     "name": "stderr",
     "output_type": "stream",
     "text": [
      "[Parallel(n_jobs=5)]: Using backend LokyBackend with 5 concurrent workers.\n"
     ]
    },
    {
     "name": "stdout",
     "output_type": "stream",
     "text": [
      "--------------------\n",
      "\n",
      "\n",
      "\n",
      "--------------------\n",
      "pones\n"
     ]
    },
    {
     "name": "stderr",
     "output_type": "stream",
     "text": [
      "[Parallel(n_jobs=5)]: Done 150 tasks      | elapsed:    1.0s\n",
      "[Parallel(n_jobs=5)]: Done 1350 tasks      | elapsed:    9.3s\n",
      "[Parallel(n_jobs=5)]: Done 3350 tasks      | elapsed:   24.1s\n",
      "[Parallel(n_jobs=5)]: Done 5757 out of 5757 | elapsed:   43.4s finished\n"
     ]
    },
    {
     "data": {
      "text/html": [
       "<div>\n",
       "<style scoped>\n",
       "    .dataframe tbody tr th:only-of-type {\n",
       "        vertical-align: middle;\n",
       "    }\n",
       "\n",
       "    .dataframe tbody tr th {\n",
       "        vertical-align: top;\n",
       "    }\n",
       "\n",
       "    .dataframe thead th {\n",
       "        text-align: right;\n",
       "    }\n",
       "</style>\n",
       "<table border=\"1\" class=\"dataframe\">\n",
       "  <thead>\n",
       "    <tr style=\"text-align: right;\">\n",
       "      <th></th>\n",
       "      <th>count</th>\n",
       "      <th>mean</th>\n",
       "      <th>std</th>\n",
       "      <th>min</th>\n",
       "      <th>25%</th>\n",
       "      <th>50%</th>\n",
       "      <th>75%</th>\n",
       "      <th>max</th>\n",
       "      <th>word</th>\n",
       "    </tr>\n",
       "  </thead>\n",
       "  <tbody>\n",
       "    <tr>\n",
       "      <th>0</th>\n",
       "      <td>5757.0</td>\n",
       "      <td>4.392392</td>\n",
       "      <td>1.292289</td>\n",
       "      <td>1.0</td>\n",
       "      <td>4.0</td>\n",
       "      <td>4.0</td>\n",
       "      <td>5.0</td>\n",
       "      <td>12.0</td>\n",
       "      <td>pones</td>\n",
       "    </tr>\n",
       "  </tbody>\n",
       "</table>\n",
       "</div>"
      ],
      "text/plain": [
       "    count      mean       std  min  25%  50%  75%   max   word\n",
       "0  5757.0  4.392392  1.292289  1.0  4.0  4.0  5.0  12.0  pones"
      ]
     },
     "metadata": {},
     "output_type": "display_data"
    },
    {
     "name": "stderr",
     "output_type": "stream",
     "text": [
      "[Parallel(n_jobs=5)]: Using backend LokyBackend with 5 concurrent workers.\n"
     ]
    },
    {
     "name": "stdout",
     "output_type": "stream",
     "text": [
      "--------------------\n",
      "\n",
      "\n",
      "\n",
      "--------------------\n",
      "manes\n"
     ]
    },
    {
     "name": "stderr",
     "output_type": "stream",
     "text": [
      "[Parallel(n_jobs=5)]: Done 150 tasks      | elapsed:    1.0s\n",
      "[Parallel(n_jobs=5)]: Done 1350 tasks      | elapsed:    9.2s\n",
      "[Parallel(n_jobs=5)]: Done 3350 tasks      | elapsed:   24.7s\n",
      "[Parallel(n_jobs=5)]: Done 5757 out of 5757 | elapsed:   45.8s finished\n"
     ]
    },
    {
     "data": {
      "text/html": [
       "<div>\n",
       "<style scoped>\n",
       "    .dataframe tbody tr th:only-of-type {\n",
       "        vertical-align: middle;\n",
       "    }\n",
       "\n",
       "    .dataframe tbody tr th {\n",
       "        vertical-align: top;\n",
       "    }\n",
       "\n",
       "    .dataframe thead th {\n",
       "        text-align: right;\n",
       "    }\n",
       "</style>\n",
       "<table border=\"1\" class=\"dataframe\">\n",
       "  <thead>\n",
       "    <tr style=\"text-align: right;\">\n",
       "      <th></th>\n",
       "      <th>count</th>\n",
       "      <th>mean</th>\n",
       "      <th>std</th>\n",
       "      <th>min</th>\n",
       "      <th>25%</th>\n",
       "      <th>50%</th>\n",
       "      <th>75%</th>\n",
       "      <th>max</th>\n",
       "      <th>word</th>\n",
       "    </tr>\n",
       "  </thead>\n",
       "  <tbody>\n",
       "    <tr>\n",
       "      <th>0</th>\n",
       "      <td>5757.0</td>\n",
       "      <td>4.42609</td>\n",
       "      <td>1.302681</td>\n",
       "      <td>1.0</td>\n",
       "      <td>4.0</td>\n",
       "      <td>4.0</td>\n",
       "      <td>5.0</td>\n",
       "      <td>12.0</td>\n",
       "      <td>manes</td>\n",
       "    </tr>\n",
       "  </tbody>\n",
       "</table>\n",
       "</div>"
      ],
      "text/plain": [
       "    count     mean       std  min  25%  50%  75%   max   word\n",
       "0  5757.0  4.42609  1.302681  1.0  4.0  4.0  5.0  12.0  manes"
      ]
     },
     "metadata": {},
     "output_type": "display_data"
    },
    {
     "name": "stderr",
     "output_type": "stream",
     "text": [
      "[Parallel(n_jobs=5)]: Using backend LokyBackend with 5 concurrent workers.\n"
     ]
    },
    {
     "name": "stdout",
     "output_type": "stream",
     "text": [
      "--------------------\n",
      "\n",
      "\n",
      "\n",
      "--------------------\n",
      "fores\n"
     ]
    },
    {
     "name": "stderr",
     "output_type": "stream",
     "text": [
      "[Parallel(n_jobs=5)]: Done 110 tasks      | elapsed:    0.9s\n",
      "[Parallel(n_jobs=5)]: Done 710 tasks      | elapsed:    5.6s\n",
      "[Parallel(n_jobs=5)]: Done 1710 tasks      | elapsed:   14.0s\n",
      "[Parallel(n_jobs=5)]: Done 3110 tasks      | elapsed:   26.4s\n",
      "[Parallel(n_jobs=5)]: Done 4910 tasks      | elapsed:   42.9s\n",
      "[Parallel(n_jobs=5)]: Done 5757 out of 5757 | elapsed:   49.9s finished\n"
     ]
    },
    {
     "data": {
      "text/html": [
       "<div>\n",
       "<style scoped>\n",
       "    .dataframe tbody tr th:only-of-type {\n",
       "        vertical-align: middle;\n",
       "    }\n",
       "\n",
       "    .dataframe tbody tr th {\n",
       "        vertical-align: top;\n",
       "    }\n",
       "\n",
       "    .dataframe thead th {\n",
       "        text-align: right;\n",
       "    }\n",
       "</style>\n",
       "<table border=\"1\" class=\"dataframe\">\n",
       "  <thead>\n",
       "    <tr style=\"text-align: right;\">\n",
       "      <th></th>\n",
       "      <th>count</th>\n",
       "      <th>mean</th>\n",
       "      <th>std</th>\n",
       "      <th>min</th>\n",
       "      <th>25%</th>\n",
       "      <th>50%</th>\n",
       "      <th>75%</th>\n",
       "      <th>max</th>\n",
       "      <th>word</th>\n",
       "    </tr>\n",
       "  </thead>\n",
       "  <tbody>\n",
       "    <tr>\n",
       "      <th>0</th>\n",
       "      <td>5757.0</td>\n",
       "      <td>4.475074</td>\n",
       "      <td>1.313827</td>\n",
       "      <td>1.0</td>\n",
       "      <td>4.0</td>\n",
       "      <td>4.0</td>\n",
       "      <td>5.0</td>\n",
       "      <td>12.0</td>\n",
       "      <td>fores</td>\n",
       "    </tr>\n",
       "  </tbody>\n",
       "</table>\n",
       "</div>"
      ],
      "text/plain": [
       "    count      mean       std  min  25%  50%  75%   max   word\n",
       "0  5757.0  4.475074  1.313827  1.0  4.0  4.0  5.0  12.0  fores"
      ]
     },
     "metadata": {},
     "output_type": "display_data"
    },
    {
     "name": "stderr",
     "output_type": "stream",
     "text": [
      "[Parallel(n_jobs=5)]: Using backend LokyBackend with 5 concurrent workers.\n"
     ]
    },
    {
     "name": "stdout",
     "output_type": "stream",
     "text": [
      "--------------------\n",
      "\n",
      "\n",
      "\n",
      "--------------------\n",
      "tones\n"
     ]
    },
    {
     "name": "stderr",
     "output_type": "stream",
     "text": [
      "[Parallel(n_jobs=5)]: Done 150 tasks      | elapsed:    1.0s\n",
      "[Parallel(n_jobs=5)]: Done 1350 tasks      | elapsed:    9.1s\n",
      "[Parallel(n_jobs=5)]: Done 3350 tasks      | elapsed:   24.1s\n",
      "[Parallel(n_jobs=5)]: Done 5757 out of 5757 | elapsed:   42.3s finished\n"
     ]
    },
    {
     "data": {
      "text/html": [
       "<div>\n",
       "<style scoped>\n",
       "    .dataframe tbody tr th:only-of-type {\n",
       "        vertical-align: middle;\n",
       "    }\n",
       "\n",
       "    .dataframe tbody tr th {\n",
       "        vertical-align: top;\n",
       "    }\n",
       "\n",
       "    .dataframe thead th {\n",
       "        text-align: right;\n",
       "    }\n",
       "</style>\n",
       "<table border=\"1\" class=\"dataframe\">\n",
       "  <thead>\n",
       "    <tr style=\"text-align: right;\">\n",
       "      <th></th>\n",
       "      <th>count</th>\n",
       "      <th>mean</th>\n",
       "      <th>std</th>\n",
       "      <th>min</th>\n",
       "      <th>25%</th>\n",
       "      <th>50%</th>\n",
       "      <th>75%</th>\n",
       "      <th>max</th>\n",
       "      <th>word</th>\n",
       "    </tr>\n",
       "  </thead>\n",
       "  <tbody>\n",
       "    <tr>\n",
       "      <th>0</th>\n",
       "      <td>5757.0</td>\n",
       "      <td>4.379538</td>\n",
       "      <td>1.338329</td>\n",
       "      <td>1.0</td>\n",
       "      <td>4.0</td>\n",
       "      <td>4.0</td>\n",
       "      <td>5.0</td>\n",
       "      <td>13.0</td>\n",
       "      <td>tones</td>\n",
       "    </tr>\n",
       "  </tbody>\n",
       "</table>\n",
       "</div>"
      ],
      "text/plain": [
       "    count      mean       std  min  25%  50%  75%   max   word\n",
       "0  5757.0  4.379538  1.338329  1.0  4.0  4.0  5.0  13.0  tones"
      ]
     },
     "metadata": {},
     "output_type": "display_data"
    },
    {
     "name": "stderr",
     "output_type": "stream",
     "text": [
      "[Parallel(n_jobs=5)]: Using backend LokyBackend with 5 concurrent workers.\n"
     ]
    },
    {
     "name": "stdout",
     "output_type": "stream",
     "text": [
      "--------------------\n",
      "\n",
      "\n",
      "\n",
      "--------------------\n",
      "wares\n"
     ]
    },
    {
     "name": "stderr",
     "output_type": "stream",
     "text": [
      "[Parallel(n_jobs=5)]: Done 150 tasks      | elapsed:    1.1s\n",
      "[Parallel(n_jobs=5)]: Done 1350 tasks      | elapsed:    9.4s\n",
      "[Parallel(n_jobs=5)]: Done 3350 tasks      | elapsed:   24.9s\n",
      "[Parallel(n_jobs=5)]: Done 5757 out of 5757 | elapsed:   44.0s finished\n"
     ]
    },
    {
     "data": {
      "text/html": [
       "<div>\n",
       "<style scoped>\n",
       "    .dataframe tbody tr th:only-of-type {\n",
       "        vertical-align: middle;\n",
       "    }\n",
       "\n",
       "    .dataframe tbody tr th {\n",
       "        vertical-align: top;\n",
       "    }\n",
       "\n",
       "    .dataframe thead th {\n",
       "        text-align: right;\n",
       "    }\n",
       "</style>\n",
       "<table border=\"1\" class=\"dataframe\">\n",
       "  <thead>\n",
       "    <tr style=\"text-align: right;\">\n",
       "      <th></th>\n",
       "      <th>count</th>\n",
       "      <th>mean</th>\n",
       "      <th>std</th>\n",
       "      <th>min</th>\n",
       "      <th>25%</th>\n",
       "      <th>50%</th>\n",
       "      <th>75%</th>\n",
       "      <th>max</th>\n",
       "      <th>word</th>\n",
       "    </tr>\n",
       "  </thead>\n",
       "  <tbody>\n",
       "    <tr>\n",
       "      <th>0</th>\n",
       "      <td>5757.0</td>\n",
       "      <td>4.488449</td>\n",
       "      <td>1.33591</td>\n",
       "      <td>1.0</td>\n",
       "      <td>4.0</td>\n",
       "      <td>4.0</td>\n",
       "      <td>5.0</td>\n",
       "      <td>12.0</td>\n",
       "      <td>wares</td>\n",
       "    </tr>\n",
       "  </tbody>\n",
       "</table>\n",
       "</div>"
      ],
      "text/plain": [
       "    count      mean      std  min  25%  50%  75%   max   word\n",
       "0  5757.0  4.488449  1.33591  1.0  4.0  4.0  5.0  12.0  wares"
      ]
     },
     "metadata": {},
     "output_type": "display_data"
    },
    {
     "name": "stderr",
     "output_type": "stream",
     "text": [
      "[Parallel(n_jobs=5)]: Using backend LokyBackend with 5 concurrent workers.\n"
     ]
    },
    {
     "name": "stdout",
     "output_type": "stream",
     "text": [
      "--------------------\n",
      "\n",
      "\n",
      "\n",
      "--------------------\n",
      "lores\n"
     ]
    },
    {
     "name": "stderr",
     "output_type": "stream",
     "text": [
      "[Parallel(n_jobs=5)]: Done 150 tasks      | elapsed:    0.9s\n",
      "[Parallel(n_jobs=5)]: Done 1350 tasks      | elapsed:    9.0s\n",
      "[Parallel(n_jobs=5)]: Done 3350 tasks      | elapsed:   23.6s\n",
      "[Parallel(n_jobs=5)]: Done 5748 out of 5757 | elapsed:   41.7s remaining:    0.1s\n",
      "[Parallel(n_jobs=5)]: Done 5757 out of 5757 | elapsed:   41.8s finished\n"
     ]
    },
    {
     "data": {
      "text/html": [
       "<div>\n",
       "<style scoped>\n",
       "    .dataframe tbody tr th:only-of-type {\n",
       "        vertical-align: middle;\n",
       "    }\n",
       "\n",
       "    .dataframe tbody tr th {\n",
       "        vertical-align: top;\n",
       "    }\n",
       "\n",
       "    .dataframe thead th {\n",
       "        text-align: right;\n",
       "    }\n",
       "</style>\n",
       "<table border=\"1\" class=\"dataframe\">\n",
       "  <thead>\n",
       "    <tr style=\"text-align: right;\">\n",
       "      <th></th>\n",
       "      <th>count</th>\n",
       "      <th>mean</th>\n",
       "      <th>std</th>\n",
       "      <th>min</th>\n",
       "      <th>25%</th>\n",
       "      <th>50%</th>\n",
       "      <th>75%</th>\n",
       "      <th>max</th>\n",
       "      <th>word</th>\n",
       "    </tr>\n",
       "  </thead>\n",
       "  <tbody>\n",
       "    <tr>\n",
       "      <th>0</th>\n",
       "      <td>5757.0</td>\n",
       "      <td>4.382665</td>\n",
       "      <td>1.340163</td>\n",
       "      <td>1.0</td>\n",
       "      <td>4.0</td>\n",
       "      <td>4.0</td>\n",
       "      <td>5.0</td>\n",
       "      <td>13.0</td>\n",
       "      <td>lores</td>\n",
       "    </tr>\n",
       "  </tbody>\n",
       "</table>\n",
       "</div>"
      ],
      "text/plain": [
       "    count      mean       std  min  25%  50%  75%   max   word\n",
       "0  5757.0  4.382665  1.340163  1.0  4.0  4.0  5.0  13.0  lores"
      ]
     },
     "metadata": {},
     "output_type": "display_data"
    },
    {
     "name": "stderr",
     "output_type": "stream",
     "text": [
      "[Parallel(n_jobs=5)]: Using backend LokyBackend with 5 concurrent workers.\n"
     ]
    },
    {
     "name": "stdout",
     "output_type": "stream",
     "text": [
      "--------------------\n",
      "\n",
      "\n",
      "\n",
      "--------------------\n",
      "coles\n"
     ]
    },
    {
     "name": "stderr",
     "output_type": "stream",
     "text": [
      "[Parallel(n_jobs=5)]: Done 150 tasks      | elapsed:    1.1s\n",
      "[Parallel(n_jobs=5)]: Done 1350 tasks      | elapsed:    9.7s\n",
      "[Parallel(n_jobs=5)]: Done 3350 tasks      | elapsed:   24.6s\n",
      "[Parallel(n_jobs=5)]: Done 5748 out of 5757 | elapsed:   43.4s remaining:    0.1s\n",
      "[Parallel(n_jobs=5)]: Done 5757 out of 5757 | elapsed:   43.6s finished\n"
     ]
    },
    {
     "data": {
      "text/html": [
       "<div>\n",
       "<style scoped>\n",
       "    .dataframe tbody tr th:only-of-type {\n",
       "        vertical-align: middle;\n",
       "    }\n",
       "\n",
       "    .dataframe tbody tr th {\n",
       "        vertical-align: top;\n",
       "    }\n",
       "\n",
       "    .dataframe thead th {\n",
       "        text-align: right;\n",
       "    }\n",
       "</style>\n",
       "<table border=\"1\" class=\"dataframe\">\n",
       "  <thead>\n",
       "    <tr style=\"text-align: right;\">\n",
       "      <th></th>\n",
       "      <th>count</th>\n",
       "      <th>mean</th>\n",
       "      <th>std</th>\n",
       "      <th>min</th>\n",
       "      <th>25%</th>\n",
       "      <th>50%</th>\n",
       "      <th>75%</th>\n",
       "      <th>max</th>\n",
       "      <th>word</th>\n",
       "    </tr>\n",
       "  </thead>\n",
       "  <tbody>\n",
       "    <tr>\n",
       "      <th>0</th>\n",
       "      <td>5757.0</td>\n",
       "      <td>4.407157</td>\n",
       "      <td>1.323573</td>\n",
       "      <td>2.0</td>\n",
       "      <td>4.0</td>\n",
       "      <td>4.0</td>\n",
       "      <td>5.0</td>\n",
       "      <td>13.0</td>\n",
       "      <td>coles</td>\n",
       "    </tr>\n",
       "  </tbody>\n",
       "</table>\n",
       "</div>"
      ],
      "text/plain": [
       "    count      mean       std  min  25%  50%  75%   max   word\n",
       "0  5757.0  4.407157  1.323573  2.0  4.0  4.0  5.0  13.0  coles"
      ]
     },
     "metadata": {},
     "output_type": "display_data"
    },
    {
     "name": "stderr",
     "output_type": "stream",
     "text": [
      "[Parallel(n_jobs=5)]: Using backend LokyBackend with 5 concurrent workers.\n"
     ]
    },
    {
     "name": "stdout",
     "output_type": "stream",
     "text": [
      "--------------------\n",
      "\n",
      "\n",
      "\n",
      "--------------------\n",
      "boles\n"
     ]
    },
    {
     "name": "stderr",
     "output_type": "stream",
     "text": [
      "[Parallel(n_jobs=5)]: Done 150 tasks      | elapsed:    1.0s\n",
      "[Parallel(n_jobs=5)]: Done 1350 tasks      | elapsed:    9.2s\n",
      "[Parallel(n_jobs=5)]: Done 3350 tasks      | elapsed:   24.0s\n",
      "[Parallel(n_jobs=5)]: Done 5748 out of 5757 | elapsed:   42.2s remaining:    0.1s\n",
      "[Parallel(n_jobs=5)]: Done 5757 out of 5757 | elapsed:   42.3s finished\n"
     ]
    },
    {
     "data": {
      "text/html": [
       "<div>\n",
       "<style scoped>\n",
       "    .dataframe tbody tr th:only-of-type {\n",
       "        vertical-align: middle;\n",
       "    }\n",
       "\n",
       "    .dataframe tbody tr th {\n",
       "        vertical-align: top;\n",
       "    }\n",
       "\n",
       "    .dataframe thead th {\n",
       "        text-align: right;\n",
       "    }\n",
       "</style>\n",
       "<table border=\"1\" class=\"dataframe\">\n",
       "  <thead>\n",
       "    <tr style=\"text-align: right;\">\n",
       "      <th></th>\n",
       "      <th>count</th>\n",
       "      <th>mean</th>\n",
       "      <th>std</th>\n",
       "      <th>min</th>\n",
       "      <th>25%</th>\n",
       "      <th>50%</th>\n",
       "      <th>75%</th>\n",
       "      <th>max</th>\n",
       "      <th>word</th>\n",
       "    </tr>\n",
       "  </thead>\n",
       "  <tbody>\n",
       "    <tr>\n",
       "      <th>0</th>\n",
       "      <td>5757.0</td>\n",
       "      <td>4.382491</td>\n",
       "      <td>1.279398</td>\n",
       "      <td>2.0</td>\n",
       "      <td>4.0</td>\n",
       "      <td>4.0</td>\n",
       "      <td>5.0</td>\n",
       "      <td>13.0</td>\n",
       "      <td>boles</td>\n",
       "    </tr>\n",
       "  </tbody>\n",
       "</table>\n",
       "</div>"
      ],
      "text/plain": [
       "    count      mean       std  min  25%  50%  75%   max   word\n",
       "0  5757.0  4.382491  1.279398  2.0  4.0  4.0  5.0  13.0  boles"
      ]
     },
     "metadata": {},
     "output_type": "display_data"
    },
    {
     "name": "stderr",
     "output_type": "stream",
     "text": [
      "[Parallel(n_jobs=5)]: Using backend LokyBackend with 5 concurrent workers.\n"
     ]
    },
    {
     "name": "stdout",
     "output_type": "stream",
     "text": [
      "--------------------\n",
      "\n",
      "\n",
      "\n",
      "--------------------\n",
      "fanes\n"
     ]
    },
    {
     "name": "stderr",
     "output_type": "stream",
     "text": [
      "[Parallel(n_jobs=5)]: Done 150 tasks      | elapsed:    1.1s\n",
      "[Parallel(n_jobs=5)]: Done 1350 tasks      | elapsed:    9.2s\n",
      "[Parallel(n_jobs=5)]: Done 3350 tasks      | elapsed:   24.9s\n",
      "[Parallel(n_jobs=5)]: Done 5757 out of 5757 | elapsed:   44.5s finished\n"
     ]
    },
    {
     "data": {
      "text/html": [
       "<div>\n",
       "<style scoped>\n",
       "    .dataframe tbody tr th:only-of-type {\n",
       "        vertical-align: middle;\n",
       "    }\n",
       "\n",
       "    .dataframe tbody tr th {\n",
       "        vertical-align: top;\n",
       "    }\n",
       "\n",
       "    .dataframe thead th {\n",
       "        text-align: right;\n",
       "    }\n",
       "</style>\n",
       "<table border=\"1\" class=\"dataframe\">\n",
       "  <thead>\n",
       "    <tr style=\"text-align: right;\">\n",
       "      <th></th>\n",
       "      <th>count</th>\n",
       "      <th>mean</th>\n",
       "      <th>std</th>\n",
       "      <th>min</th>\n",
       "      <th>25%</th>\n",
       "      <th>50%</th>\n",
       "      <th>75%</th>\n",
       "      <th>max</th>\n",
       "      <th>word</th>\n",
       "    </tr>\n",
       "  </thead>\n",
       "  <tbody>\n",
       "    <tr>\n",
       "      <th>0</th>\n",
       "      <td>5757.0</td>\n",
       "      <td>4.488101</td>\n",
       "      <td>1.326773</td>\n",
       "      <td>2.0</td>\n",
       "      <td>4.0</td>\n",
       "      <td>4.0</td>\n",
       "      <td>5.0</td>\n",
       "      <td>12.0</td>\n",
       "      <td>fanes</td>\n",
       "    </tr>\n",
       "  </tbody>\n",
       "</table>\n",
       "</div>"
      ],
      "text/plain": [
       "    count      mean       std  min  25%  50%  75%   max   word\n",
       "0  5757.0  4.488101  1.326773  2.0  4.0  4.0  5.0  12.0  fanes"
      ]
     },
     "metadata": {},
     "output_type": "display_data"
    },
    {
     "name": "stderr",
     "output_type": "stream",
     "text": [
      "[Parallel(n_jobs=5)]: Using backend LokyBackend with 5 concurrent workers.\n"
     ]
    },
    {
     "name": "stdout",
     "output_type": "stream",
     "text": [
      "--------------------\n",
      "\n",
      "\n",
      "\n",
      "--------------------\n",
      "poles\n"
     ]
    },
    {
     "name": "stderr",
     "output_type": "stream",
     "text": [
      "[Parallel(n_jobs=5)]: Done 150 tasks      | elapsed:    1.0s\n",
      "[Parallel(n_jobs=5)]: Done 1350 tasks      | elapsed:    9.3s\n",
      "[Parallel(n_jobs=5)]: Done 3350 tasks      | elapsed:   24.0s\n",
      "[Parallel(n_jobs=5)]: Done 5748 out of 5757 | elapsed:   42.7s remaining:    0.1s\n",
      "[Parallel(n_jobs=5)]: Done 5757 out of 5757 | elapsed:   42.8s finished\n"
     ]
    },
    {
     "data": {
      "text/html": [
       "<div>\n",
       "<style scoped>\n",
       "    .dataframe tbody tr th:only-of-type {\n",
       "        vertical-align: middle;\n",
       "    }\n",
       "\n",
       "    .dataframe tbody tr th {\n",
       "        vertical-align: top;\n",
       "    }\n",
       "\n",
       "    .dataframe thead th {\n",
       "        text-align: right;\n",
       "    }\n",
       "</style>\n",
       "<table border=\"1\" class=\"dataframe\">\n",
       "  <thead>\n",
       "    <tr style=\"text-align: right;\">\n",
       "      <th></th>\n",
       "      <th>count</th>\n",
       "      <th>mean</th>\n",
       "      <th>std</th>\n",
       "      <th>min</th>\n",
       "      <th>25%</th>\n",
       "      <th>50%</th>\n",
       "      <th>75%</th>\n",
       "      <th>max</th>\n",
       "      <th>word</th>\n",
       "    </tr>\n",
       "  </thead>\n",
       "  <tbody>\n",
       "    <tr>\n",
       "      <th>0</th>\n",
       "      <td>5757.0</td>\n",
       "      <td>4.36929</td>\n",
       "      <td>1.287056</td>\n",
       "      <td>1.0</td>\n",
       "      <td>4.0</td>\n",
       "      <td>4.0</td>\n",
       "      <td>5.0</td>\n",
       "      <td>13.0</td>\n",
       "      <td>poles</td>\n",
       "    </tr>\n",
       "  </tbody>\n",
       "</table>\n",
       "</div>"
      ],
      "text/plain": [
       "    count     mean       std  min  25%  50%  75%   max   word\n",
       "0  5757.0  4.36929  1.287056  1.0  4.0  4.0  5.0  13.0  poles"
      ]
     },
     "metadata": {},
     "output_type": "display_data"
    },
    {
     "name": "stderr",
     "output_type": "stream",
     "text": [
      "[Parallel(n_jobs=5)]: Using backend LokyBackend with 5 concurrent workers.\n"
     ]
    },
    {
     "name": "stdout",
     "output_type": "stream",
     "text": [
      "--------------------\n",
      "\n",
      "\n",
      "\n",
      "--------------------\n",
      "cates\n"
     ]
    },
    {
     "name": "stderr",
     "output_type": "stream",
     "text": [
      "[Parallel(n_jobs=5)]: Done 150 tasks      | elapsed:    1.0s\n",
      "[Parallel(n_jobs=5)]: Done 1350 tasks      | elapsed:    9.1s\n",
      "[Parallel(n_jobs=5)]: Done 3350 tasks      | elapsed:   24.4s\n",
      "[Parallel(n_jobs=5)]: Done 5757 out of 5757 | elapsed:   43.0s finished\n"
     ]
    },
    {
     "data": {
      "text/html": [
       "<div>\n",
       "<style scoped>\n",
       "    .dataframe tbody tr th:only-of-type {\n",
       "        vertical-align: middle;\n",
       "    }\n",
       "\n",
       "    .dataframe tbody tr th {\n",
       "        vertical-align: top;\n",
       "    }\n",
       "\n",
       "    .dataframe thead th {\n",
       "        text-align: right;\n",
       "    }\n",
       "</style>\n",
       "<table border=\"1\" class=\"dataframe\">\n",
       "  <thead>\n",
       "    <tr style=\"text-align: right;\">\n",
       "      <th></th>\n",
       "      <th>count</th>\n",
       "      <th>mean</th>\n",
       "      <th>std</th>\n",
       "      <th>min</th>\n",
       "      <th>25%</th>\n",
       "      <th>50%</th>\n",
       "      <th>75%</th>\n",
       "      <th>max</th>\n",
       "      <th>word</th>\n",
       "    </tr>\n",
       "  </thead>\n",
       "  <tbody>\n",
       "    <tr>\n",
       "      <th>0</th>\n",
       "      <td>5757.0</td>\n",
       "      <td>4.417405</td>\n",
       "      <td>1.324515</td>\n",
       "      <td>2.0</td>\n",
       "      <td>4.0</td>\n",
       "      <td>4.0</td>\n",
       "      <td>5.0</td>\n",
       "      <td>12.0</td>\n",
       "      <td>cates</td>\n",
       "    </tr>\n",
       "  </tbody>\n",
       "</table>\n",
       "</div>"
      ],
      "text/plain": [
       "    count      mean       std  min  25%  50%  75%   max   word\n",
       "0  5757.0  4.417405  1.324515  2.0  4.0  4.0  5.0  12.0  cates"
      ]
     },
     "metadata": {},
     "output_type": "display_data"
    },
    {
     "name": "stderr",
     "output_type": "stream",
     "text": [
      "[Parallel(n_jobs=5)]: Using backend LokyBackend with 5 concurrent workers.\n"
     ]
    },
    {
     "name": "stdout",
     "output_type": "stream",
     "text": [
      "--------------------\n",
      "\n",
      "\n",
      "\n",
      "--------------------\n",
      "males\n"
     ]
    },
    {
     "name": "stderr",
     "output_type": "stream",
     "text": [
      "[Parallel(n_jobs=5)]: Done 150 tasks      | elapsed:    1.1s\n",
      "[Parallel(n_jobs=5)]: Done 1350 tasks      | elapsed:    9.3s\n",
      "[Parallel(n_jobs=5)]: Done 3350 tasks      | elapsed:   24.2s\n",
      "[Parallel(n_jobs=5)]: Done 5748 out of 5757 | elapsed:   42.2s remaining:    0.1s\n",
      "[Parallel(n_jobs=5)]: Done 5757 out of 5757 | elapsed:   42.4s finished\n"
     ]
    },
    {
     "data": {
      "text/html": [
       "<div>\n",
       "<style scoped>\n",
       "    .dataframe tbody tr th:only-of-type {\n",
       "        vertical-align: middle;\n",
       "    }\n",
       "\n",
       "    .dataframe tbody tr th {\n",
       "        vertical-align: top;\n",
       "    }\n",
       "\n",
       "    .dataframe thead th {\n",
       "        text-align: right;\n",
       "    }\n",
       "</style>\n",
       "<table border=\"1\" class=\"dataframe\">\n",
       "  <thead>\n",
       "    <tr style=\"text-align: right;\">\n",
       "      <th></th>\n",
       "      <th>count</th>\n",
       "      <th>mean</th>\n",
       "      <th>std</th>\n",
       "      <th>min</th>\n",
       "      <th>25%</th>\n",
       "      <th>50%</th>\n",
       "      <th>75%</th>\n",
       "      <th>max</th>\n",
       "      <th>word</th>\n",
       "    </tr>\n",
       "  </thead>\n",
       "  <tbody>\n",
       "    <tr>\n",
       "      <th>0</th>\n",
       "      <td>5757.0</td>\n",
       "      <td>4.362689</td>\n",
       "      <td>1.283529</td>\n",
       "      <td>1.0</td>\n",
       "      <td>4.0</td>\n",
       "      <td>4.0</td>\n",
       "      <td>5.0</td>\n",
       "      <td>13.0</td>\n",
       "      <td>males</td>\n",
       "    </tr>\n",
       "  </tbody>\n",
       "</table>\n",
       "</div>"
      ],
      "text/plain": [
       "    count      mean       std  min  25%  50%  75%   max   word\n",
       "0  5757.0  4.362689  1.283529  1.0  4.0  4.0  5.0  13.0  males"
      ]
     },
     "metadata": {},
     "output_type": "display_data"
    },
    {
     "name": "stderr",
     "output_type": "stream",
     "text": [
      "[Parallel(n_jobs=5)]: Using backend LokyBackend with 5 concurrent workers.\n"
     ]
    },
    {
     "name": "stdout",
     "output_type": "stream",
     "text": [
      "--------------------\n",
      "\n",
      "\n",
      "\n",
      "--------------------\n",
      "lanes\n"
     ]
    },
    {
     "name": "stderr",
     "output_type": "stream",
     "text": [
      "[Parallel(n_jobs=5)]: Done 150 tasks      | elapsed:    0.9s\n",
      "[Parallel(n_jobs=5)]: Done 1350 tasks      | elapsed:    8.6s\n",
      "[Parallel(n_jobs=5)]: Done 3350 tasks      | elapsed:   23.0s\n",
      "[Parallel(n_jobs=5)]: Done 5757 out of 5757 | elapsed:   41.2s finished\n"
     ]
    },
    {
     "data": {
      "text/html": [
       "<div>\n",
       "<style scoped>\n",
       "    .dataframe tbody tr th:only-of-type {\n",
       "        vertical-align: middle;\n",
       "    }\n",
       "\n",
       "    .dataframe tbody tr th {\n",
       "        vertical-align: top;\n",
       "    }\n",
       "\n",
       "    .dataframe thead th {\n",
       "        text-align: right;\n",
       "    }\n",
       "</style>\n",
       "<table border=\"1\" class=\"dataframe\">\n",
       "  <thead>\n",
       "    <tr style=\"text-align: right;\">\n",
       "      <th></th>\n",
       "      <th>count</th>\n",
       "      <th>mean</th>\n",
       "      <th>std</th>\n",
       "      <th>min</th>\n",
       "      <th>25%</th>\n",
       "      <th>50%</th>\n",
       "      <th>75%</th>\n",
       "      <th>max</th>\n",
       "      <th>word</th>\n",
       "    </tr>\n",
       "  </thead>\n",
       "  <tbody>\n",
       "    <tr>\n",
       "      <th>0</th>\n",
       "      <td>5757.0</td>\n",
       "      <td>4.387528</td>\n",
       "      <td>1.32978</td>\n",
       "      <td>1.0</td>\n",
       "      <td>4.0</td>\n",
       "      <td>4.0</td>\n",
       "      <td>5.0</td>\n",
       "      <td>14.0</td>\n",
       "      <td>lanes</td>\n",
       "    </tr>\n",
       "  </tbody>\n",
       "</table>\n",
       "</div>"
      ],
      "text/plain": [
       "    count      mean      std  min  25%  50%  75%   max   word\n",
       "0  5757.0  4.387528  1.32978  1.0  4.0  4.0  5.0  14.0  lanes"
      ]
     },
     "metadata": {},
     "output_type": "display_data"
    },
    {
     "name": "stderr",
     "output_type": "stream",
     "text": [
      "[Parallel(n_jobs=5)]: Using backend LokyBackend with 5 concurrent workers.\n"
     ]
    },
    {
     "name": "stdout",
     "output_type": "stream",
     "text": [
      "--------------------\n",
      "\n",
      "\n",
      "\n",
      "--------------------\n",
      "nares\n"
     ]
    },
    {
     "name": "stderr",
     "output_type": "stream",
     "text": [
      "[Parallel(n_jobs=5)]: Done 150 tasks      | elapsed:    1.0s\n",
      "[Parallel(n_jobs=5)]: Done 1350 tasks      | elapsed:    8.8s\n",
      "[Parallel(n_jobs=5)]: Done 3350 tasks      | elapsed:   23.4s\n",
      "[Parallel(n_jobs=5)]: Done 5757 out of 5757 | elapsed:   41.8s finished\n"
     ]
    },
    {
     "data": {
      "text/html": [
       "<div>\n",
       "<style scoped>\n",
       "    .dataframe tbody tr th:only-of-type {\n",
       "        vertical-align: middle;\n",
       "    }\n",
       "\n",
       "    .dataframe tbody tr th {\n",
       "        vertical-align: top;\n",
       "    }\n",
       "\n",
       "    .dataframe thead th {\n",
       "        text-align: right;\n",
       "    }\n",
       "</style>\n",
       "<table border=\"1\" class=\"dataframe\">\n",
       "  <thead>\n",
       "    <tr style=\"text-align: right;\">\n",
       "      <th></th>\n",
       "      <th>count</th>\n",
       "      <th>mean</th>\n",
       "      <th>std</th>\n",
       "      <th>min</th>\n",
       "      <th>25%</th>\n",
       "      <th>50%</th>\n",
       "      <th>75%</th>\n",
       "      <th>max</th>\n",
       "      <th>word</th>\n",
       "    </tr>\n",
       "  </thead>\n",
       "  <tbody>\n",
       "    <tr>\n",
       "      <th>0</th>\n",
       "      <td>5757.0</td>\n",
       "      <td>4.415494</td>\n",
       "      <td>1.333545</td>\n",
       "      <td>1.0</td>\n",
       "      <td>4.0</td>\n",
       "      <td>4.0</td>\n",
       "      <td>5.0</td>\n",
       "      <td>12.0</td>\n",
       "      <td>nares</td>\n",
       "    </tr>\n",
       "  </tbody>\n",
       "</table>\n",
       "</div>"
      ],
      "text/plain": [
       "    count      mean       std  min  25%  50%  75%   max   word\n",
       "0  5757.0  4.415494  1.333545  1.0  4.0  4.0  5.0  12.0  nares"
      ]
     },
     "metadata": {},
     "output_type": "display_data"
    },
    {
     "name": "stderr",
     "output_type": "stream",
     "text": [
      "[Parallel(n_jobs=5)]: Using backend LokyBackend with 5 concurrent workers.\n"
     ]
    },
    {
     "name": "stdout",
     "output_type": "stream",
     "text": [
      "--------------------\n",
      "\n",
      "\n",
      "\n",
      "--------------------\n",
      "bates\n"
     ]
    },
    {
     "name": "stderr",
     "output_type": "stream",
     "text": [
      "[Parallel(n_jobs=5)]: Done 110 tasks      | elapsed:    0.9s\n",
      "[Parallel(n_jobs=5)]: Done 710 tasks      | elapsed:    5.0s\n",
      "[Parallel(n_jobs=5)]: Done 1710 tasks      | elapsed:   12.3s\n",
      "[Parallel(n_jobs=5)]: Done 3110 tasks      | elapsed:   23.2s\n",
      "[Parallel(n_jobs=5)]: Done 4910 tasks      | elapsed:   37.3s\n",
      "[Parallel(n_jobs=5)]: Done 5757 out of 5757 | elapsed:   44.3s finished\n"
     ]
    },
    {
     "data": {
      "text/html": [
       "<div>\n",
       "<style scoped>\n",
       "    .dataframe tbody tr th:only-of-type {\n",
       "        vertical-align: middle;\n",
       "    }\n",
       "\n",
       "    .dataframe tbody tr th {\n",
       "        vertical-align: top;\n",
       "    }\n",
       "\n",
       "    .dataframe thead th {\n",
       "        text-align: right;\n",
       "    }\n",
       "</style>\n",
       "<table border=\"1\" class=\"dataframe\">\n",
       "  <thead>\n",
       "    <tr style=\"text-align: right;\">\n",
       "      <th></th>\n",
       "      <th>count</th>\n",
       "      <th>mean</th>\n",
       "      <th>std</th>\n",
       "      <th>min</th>\n",
       "      <th>25%</th>\n",
       "      <th>50%</th>\n",
       "      <th>75%</th>\n",
       "      <th>max</th>\n",
       "      <th>word</th>\n",
       "    </tr>\n",
       "  </thead>\n",
       "  <tbody>\n",
       "    <tr>\n",
       "      <th>0</th>\n",
       "      <td>5757.0</td>\n",
       "      <td>4.445197</td>\n",
       "      <td>1.30921</td>\n",
       "      <td>1.0</td>\n",
       "      <td>4.0</td>\n",
       "      <td>4.0</td>\n",
       "      <td>5.0</td>\n",
       "      <td>12.0</td>\n",
       "      <td>bates</td>\n",
       "    </tr>\n",
       "  </tbody>\n",
       "</table>\n",
       "</div>"
      ],
      "text/plain": [
       "    count      mean      std  min  25%  50%  75%   max   word\n",
       "0  5757.0  4.445197  1.30921  1.0  4.0  4.0  5.0  12.0  bates"
      ]
     },
     "metadata": {},
     "output_type": "display_data"
    },
    {
     "name": "stderr",
     "output_type": "stream",
     "text": [
      "[Parallel(n_jobs=5)]: Using backend LokyBackend with 5 concurrent workers.\n"
     ]
    },
    {
     "name": "stdout",
     "output_type": "stream",
     "text": [
      "--------------------\n",
      "\n",
      "\n",
      "\n",
      "--------------------\n",
      "dales\n"
     ]
    },
    {
     "name": "stderr",
     "output_type": "stream",
     "text": [
      "[Parallel(n_jobs=5)]: Done 150 tasks      | elapsed:    1.0s\n",
      "[Parallel(n_jobs=5)]: Done 1350 tasks      | elapsed:    8.9s\n",
      "[Parallel(n_jobs=5)]: Done 3350 tasks      | elapsed:   23.8s\n",
      "[Parallel(n_jobs=5)]: Done 5748 out of 5757 | elapsed:   42.2s remaining:    0.1s\n",
      "[Parallel(n_jobs=5)]: Done 5757 out of 5757 | elapsed:   42.2s finished\n"
     ]
    },
    {
     "data": {
      "text/html": [
       "<div>\n",
       "<style scoped>\n",
       "    .dataframe tbody tr th:only-of-type {\n",
       "        vertical-align: middle;\n",
       "    }\n",
       "\n",
       "    .dataframe tbody tr th {\n",
       "        vertical-align: top;\n",
       "    }\n",
       "\n",
       "    .dataframe thead th {\n",
       "        text-align: right;\n",
       "    }\n",
       "</style>\n",
       "<table border=\"1\" class=\"dataframe\">\n",
       "  <thead>\n",
       "    <tr style=\"text-align: right;\">\n",
       "      <th></th>\n",
       "      <th>count</th>\n",
       "      <th>mean</th>\n",
       "      <th>std</th>\n",
       "      <th>min</th>\n",
       "      <th>25%</th>\n",
       "      <th>50%</th>\n",
       "      <th>75%</th>\n",
       "      <th>max</th>\n",
       "      <th>word</th>\n",
       "    </tr>\n",
       "  </thead>\n",
       "  <tbody>\n",
       "    <tr>\n",
       "      <th>0</th>\n",
       "      <td>5757.0</td>\n",
       "      <td>4.401077</td>\n",
       "      <td>1.327066</td>\n",
       "      <td>1.0</td>\n",
       "      <td>4.0</td>\n",
       "      <td>4.0</td>\n",
       "      <td>5.0</td>\n",
       "      <td>13.0</td>\n",
       "      <td>dales</td>\n",
       "    </tr>\n",
       "  </tbody>\n",
       "</table>\n",
       "</div>"
      ],
      "text/plain": [
       "    count      mean       std  min  25%  50%  75%   max   word\n",
       "0  5757.0  4.401077  1.327066  1.0  4.0  4.0  5.0  13.0  dales"
      ]
     },
     "metadata": {},
     "output_type": "display_data"
    },
    {
     "name": "stderr",
     "output_type": "stream",
     "text": [
      "[Parallel(n_jobs=5)]: Using backend LokyBackend with 5 concurrent workers.\n"
     ]
    },
    {
     "name": "stdout",
     "output_type": "stream",
     "text": [
      "--------------------\n",
      "\n",
      "\n",
      "\n",
      "--------------------\n",
      "toles\n"
     ]
    },
    {
     "name": "stderr",
     "output_type": "stream",
     "text": [
      "[Parallel(n_jobs=5)]: Done 150 tasks      | elapsed:    0.9s\n",
      "[Parallel(n_jobs=5)]: Done 1350 tasks      | elapsed:    9.0s\n",
      "[Parallel(n_jobs=5)]: Done 3350 tasks      | elapsed:   23.1s\n",
      "[Parallel(n_jobs=5)]: Done 5748 out of 5757 | elapsed:   46.0s remaining:    0.1s\n",
      "[Parallel(n_jobs=5)]: Done 5757 out of 5757 | elapsed:   46.1s finished\n"
     ]
    },
    {
     "data": {
      "text/html": [
       "<div>\n",
       "<style scoped>\n",
       "    .dataframe tbody tr th:only-of-type {\n",
       "        vertical-align: middle;\n",
       "    }\n",
       "\n",
       "    .dataframe tbody tr th {\n",
       "        vertical-align: top;\n",
       "    }\n",
       "\n",
       "    .dataframe thead th {\n",
       "        text-align: right;\n",
       "    }\n",
       "</style>\n",
       "<table border=\"1\" class=\"dataframe\">\n",
       "  <thead>\n",
       "    <tr style=\"text-align: right;\">\n",
       "      <th></th>\n",
       "      <th>count</th>\n",
       "      <th>mean</th>\n",
       "      <th>std</th>\n",
       "      <th>min</th>\n",
       "      <th>25%</th>\n",
       "      <th>50%</th>\n",
       "      <th>75%</th>\n",
       "      <th>max</th>\n",
       "      <th>word</th>\n",
       "    </tr>\n",
       "  </thead>\n",
       "  <tbody>\n",
       "    <tr>\n",
       "      <th>0</th>\n",
       "      <td>5757.0</td>\n",
       "      <td>4.3177</td>\n",
       "      <td>1.27873</td>\n",
       "      <td>2.0</td>\n",
       "      <td>3.0</td>\n",
       "      <td>4.0</td>\n",
       "      <td>5.0</td>\n",
       "      <td>13.0</td>\n",
       "      <td>toles</td>\n",
       "    </tr>\n",
       "  </tbody>\n",
       "</table>\n",
       "</div>"
      ],
      "text/plain": [
       "    count    mean      std  min  25%  50%  75%   max   word\n",
       "0  5757.0  4.3177  1.27873  2.0  3.0  4.0  5.0  13.0  toles"
      ]
     },
     "metadata": {},
     "output_type": "display_data"
    },
    {
     "name": "stderr",
     "output_type": "stream",
     "text": [
      "[Parallel(n_jobs=5)]: Using backend LokyBackend with 5 concurrent workers.\n"
     ]
    },
    {
     "name": "stdout",
     "output_type": "stream",
     "text": [
      "--------------------\n",
      "\n",
      "\n",
      "\n",
      "--------------------\n",
      "rales\n"
     ]
    },
    {
     "name": "stderr",
     "output_type": "stream",
     "text": [
      "[Parallel(n_jobs=5)]: Done 110 tasks      | elapsed:    1.0s\n",
      "[Parallel(n_jobs=5)]: Done 710 tasks      | elapsed:    6.5s\n",
      "[Parallel(n_jobs=5)]: Done 1710 tasks      | elapsed:   14.8s\n",
      "[Parallel(n_jobs=5)]: Done 3110 tasks      | elapsed:   32.5s\n",
      "[Parallel(n_jobs=5)]: Done 4910 tasks      | elapsed:   45.9s\n",
      "[Parallel(n_jobs=5)]: Done 5748 out of 5757 | elapsed:   52.1s remaining:    0.1s\n",
      "[Parallel(n_jobs=5)]: Done 5757 out of 5757 | elapsed:   52.1s finished\n"
     ]
    },
    {
     "data": {
      "text/html": [
       "<div>\n",
       "<style scoped>\n",
       "    .dataframe tbody tr th:only-of-type {\n",
       "        vertical-align: middle;\n",
       "    }\n",
       "\n",
       "    .dataframe tbody tr th {\n",
       "        vertical-align: top;\n",
       "    }\n",
       "\n",
       "    .dataframe thead th {\n",
       "        text-align: right;\n",
       "    }\n",
       "</style>\n",
       "<table border=\"1\" class=\"dataframe\">\n",
       "  <thead>\n",
       "    <tr style=\"text-align: right;\">\n",
       "      <th></th>\n",
       "      <th>count</th>\n",
       "      <th>mean</th>\n",
       "      <th>std</th>\n",
       "      <th>min</th>\n",
       "      <th>25%</th>\n",
       "      <th>50%</th>\n",
       "      <th>75%</th>\n",
       "      <th>max</th>\n",
       "      <th>word</th>\n",
       "    </tr>\n",
       "  </thead>\n",
       "  <tbody>\n",
       "    <tr>\n",
       "      <th>0</th>\n",
       "      <td>5757.0</td>\n",
       "      <td>4.380059</td>\n",
       "      <td>1.341746</td>\n",
       "      <td>2.0</td>\n",
       "      <td>4.0</td>\n",
       "      <td>4.0</td>\n",
       "      <td>5.0</td>\n",
       "      <td>13.0</td>\n",
       "      <td>rales</td>\n",
       "    </tr>\n",
       "  </tbody>\n",
       "</table>\n",
       "</div>"
      ],
      "text/plain": [
       "    count      mean       std  min  25%  50%  75%   max   word\n",
       "0  5757.0  4.380059  1.341746  2.0  4.0  4.0  5.0  13.0  rales"
      ]
     },
     "metadata": {},
     "output_type": "display_data"
    },
    {
     "name": "stderr",
     "output_type": "stream",
     "text": [
      "[Parallel(n_jobs=5)]: Using backend LokyBackend with 5 concurrent workers.\n"
     ]
    },
    {
     "name": "stdout",
     "output_type": "stream",
     "text": [
      "--------------------\n",
      "\n",
      "\n",
      "\n",
      "--------------------\n",
      "gales\n"
     ]
    },
    {
     "name": "stderr",
     "output_type": "stream",
     "text": [
      "[Parallel(n_jobs=5)]: Done 150 tasks      | elapsed:    1.0s\n",
      "[Parallel(n_jobs=5)]: Done 1350 tasks      | elapsed:    8.6s\n",
      "[Parallel(n_jobs=5)]: Done 3350 tasks      | elapsed:   23.2s\n",
      "[Parallel(n_jobs=5)]: Done 5748 out of 5757 | elapsed:   40.3s remaining:    0.1s\n",
      "[Parallel(n_jobs=5)]: Done 5757 out of 5757 | elapsed:   40.4s finished\n"
     ]
    },
    {
     "data": {
      "text/html": [
       "<div>\n",
       "<style scoped>\n",
       "    .dataframe tbody tr th:only-of-type {\n",
       "        vertical-align: middle;\n",
       "    }\n",
       "\n",
       "    .dataframe tbody tr th {\n",
       "        vertical-align: top;\n",
       "    }\n",
       "\n",
       "    .dataframe thead th {\n",
       "        text-align: right;\n",
       "    }\n",
       "</style>\n",
       "<table border=\"1\" class=\"dataframe\">\n",
       "  <thead>\n",
       "    <tr style=\"text-align: right;\">\n",
       "      <th></th>\n",
       "      <th>count</th>\n",
       "      <th>mean</th>\n",
       "      <th>std</th>\n",
       "      <th>min</th>\n",
       "      <th>25%</th>\n",
       "      <th>50%</th>\n",
       "      <th>75%</th>\n",
       "      <th>max</th>\n",
       "      <th>word</th>\n",
       "    </tr>\n",
       "  </thead>\n",
       "  <tbody>\n",
       "    <tr>\n",
       "      <th>0</th>\n",
       "      <td>5757.0</td>\n",
       "      <td>4.398645</td>\n",
       "      <td>1.312798</td>\n",
       "      <td>1.0</td>\n",
       "      <td>4.0</td>\n",
       "      <td>4.0</td>\n",
       "      <td>5.0</td>\n",
       "      <td>13.0</td>\n",
       "      <td>gales</td>\n",
       "    </tr>\n",
       "  </tbody>\n",
       "</table>\n",
       "</div>"
      ],
      "text/plain": [
       "    count      mean       std  min  25%  50%  75%   max   word\n",
       "0  5757.0  4.398645  1.312798  1.0  4.0  4.0  5.0  13.0  gales"
      ]
     },
     "metadata": {},
     "output_type": "display_data"
    },
    {
     "name": "stderr",
     "output_type": "stream",
     "text": [
      "[Parallel(n_jobs=5)]: Using backend LokyBackend with 5 concurrent workers.\n"
     ]
    },
    {
     "name": "stdout",
     "output_type": "stream",
     "text": [
      "--------------------\n",
      "\n",
      "\n",
      "\n",
      "--------------------\n",
      "pates\n"
     ]
    },
    {
     "name": "stderr",
     "output_type": "stream",
     "text": [
      "[Parallel(n_jobs=5)]: Done 150 tasks      | elapsed:    1.0s\n",
      "[Parallel(n_jobs=5)]: Done 1350 tasks      | elapsed:    8.7s\n",
      "[Parallel(n_jobs=5)]: Done 3350 tasks      | elapsed:   22.6s\n",
      "[Parallel(n_jobs=5)]: Done 5748 out of 5757 | elapsed:   39.5s remaining:    0.1s\n",
      "[Parallel(n_jobs=5)]: Done 5757 out of 5757 | elapsed:   39.6s finished\n"
     ]
    },
    {
     "data": {
      "text/html": [
       "<div>\n",
       "<style scoped>\n",
       "    .dataframe tbody tr th:only-of-type {\n",
       "        vertical-align: middle;\n",
       "    }\n",
       "\n",
       "    .dataframe tbody tr th {\n",
       "        vertical-align: top;\n",
       "    }\n",
       "\n",
       "    .dataframe thead th {\n",
       "        text-align: right;\n",
       "    }\n",
       "</style>\n",
       "<table border=\"1\" class=\"dataframe\">\n",
       "  <thead>\n",
       "    <tr style=\"text-align: right;\">\n",
       "      <th></th>\n",
       "      <th>count</th>\n",
       "      <th>mean</th>\n",
       "      <th>std</th>\n",
       "      <th>min</th>\n",
       "      <th>25%</th>\n",
       "      <th>50%</th>\n",
       "      <th>75%</th>\n",
       "      <th>max</th>\n",
       "      <th>word</th>\n",
       "    </tr>\n",
       "  </thead>\n",
       "  <tbody>\n",
       "    <tr>\n",
       "      <th>0</th>\n",
       "      <td>5757.0</td>\n",
       "      <td>4.40403</td>\n",
       "      <td>1.291996</td>\n",
       "      <td>1.0</td>\n",
       "      <td>4.0</td>\n",
       "      <td>4.0</td>\n",
       "      <td>5.0</td>\n",
       "      <td>11.0</td>\n",
       "      <td>pates</td>\n",
       "    </tr>\n",
       "  </tbody>\n",
       "</table>\n",
       "</div>"
      ],
      "text/plain": [
       "    count     mean       std  min  25%  50%  75%   max   word\n",
       "0  5757.0  4.40403  1.291996  1.0  4.0  4.0  5.0  11.0  pates"
      ]
     },
     "metadata": {},
     "output_type": "display_data"
    },
    {
     "name": "stderr",
     "output_type": "stream",
     "text": [
      "[Parallel(n_jobs=5)]: Using backend LokyBackend with 5 concurrent workers.\n"
     ]
    },
    {
     "name": "stdout",
     "output_type": "stream",
     "text": [
      "--------------------\n",
      "\n",
      "\n",
      "\n",
      "--------------------\n",
      "rones\n"
     ]
    },
    {
     "name": "stderr",
     "output_type": "stream",
     "text": [
      "[Parallel(n_jobs=5)]: Done 150 tasks      | elapsed:    0.9s\n",
      "[Parallel(n_jobs=5)]: Done 1350 tasks      | elapsed:    8.4s\n",
      "[Parallel(n_jobs=5)]: Done 3350 tasks      | elapsed:   22.1s\n",
      "[Parallel(n_jobs=5)]: Done 5748 out of 5757 | elapsed:   39.0s remaining:    0.1s\n",
      "[Parallel(n_jobs=5)]: Done 5757 out of 5757 | elapsed:   39.1s finished\n"
     ]
    },
    {
     "data": {
      "text/html": [
       "<div>\n",
       "<style scoped>\n",
       "    .dataframe tbody tr th:only-of-type {\n",
       "        vertical-align: middle;\n",
       "    }\n",
       "\n",
       "    .dataframe tbody tr th {\n",
       "        vertical-align: top;\n",
       "    }\n",
       "\n",
       "    .dataframe thead th {\n",
       "        text-align: right;\n",
       "    }\n",
       "</style>\n",
       "<table border=\"1\" class=\"dataframe\">\n",
       "  <thead>\n",
       "    <tr style=\"text-align: right;\">\n",
       "      <th></th>\n",
       "      <th>count</th>\n",
       "      <th>mean</th>\n",
       "      <th>std</th>\n",
       "      <th>min</th>\n",
       "      <th>25%</th>\n",
       "      <th>50%</th>\n",
       "      <th>75%</th>\n",
       "      <th>max</th>\n",
       "      <th>word</th>\n",
       "    </tr>\n",
       "  </thead>\n",
       "  <tbody>\n",
       "    <tr>\n",
       "      <th>0</th>\n",
       "      <td>5757.0</td>\n",
       "      <td>4.389786</td>\n",
       "      <td>1.331406</td>\n",
       "      <td>2.0</td>\n",
       "      <td>4.0</td>\n",
       "      <td>4.0</td>\n",
       "      <td>5.0</td>\n",
       "      <td>12.0</td>\n",
       "      <td>rones</td>\n",
       "    </tr>\n",
       "  </tbody>\n",
       "</table>\n",
       "</div>"
      ],
      "text/plain": [
       "    count      mean       std  min  25%  50%  75%   max   word\n",
       "0  5757.0  4.389786  1.331406  2.0  4.0  4.0  5.0  12.0  rones"
      ]
     },
     "metadata": {},
     "output_type": "display_data"
    },
    {
     "name": "stderr",
     "output_type": "stream",
     "text": [
      "[Parallel(n_jobs=5)]: Using backend LokyBackend with 5 concurrent workers.\n"
     ]
    },
    {
     "name": "stdout",
     "output_type": "stream",
     "text": [
      "--------------------\n",
      "\n",
      "\n",
      "\n",
      "--------------------\n",
      "vares\n"
     ]
    },
    {
     "name": "stderr",
     "output_type": "stream",
     "text": [
      "[Parallel(n_jobs=5)]: Done 150 tasks      | elapsed:    1.1s\n",
      "[Parallel(n_jobs=5)]: Done 1350 tasks      | elapsed:    9.0s\n",
      "[Parallel(n_jobs=5)]: Done 3350 tasks      | elapsed:   23.5s\n",
      "[Parallel(n_jobs=5)]: Done 5757 out of 5757 | elapsed:   41.4s finished\n"
     ]
    },
    {
     "data": {
      "text/html": [
       "<div>\n",
       "<style scoped>\n",
       "    .dataframe tbody tr th:only-of-type {\n",
       "        vertical-align: middle;\n",
       "    }\n",
       "\n",
       "    .dataframe tbody tr th {\n",
       "        vertical-align: top;\n",
       "    }\n",
       "\n",
       "    .dataframe thead th {\n",
       "        text-align: right;\n",
       "    }\n",
       "</style>\n",
       "<table border=\"1\" class=\"dataframe\">\n",
       "  <thead>\n",
       "    <tr style=\"text-align: right;\">\n",
       "      <th></th>\n",
       "      <th>count</th>\n",
       "      <th>mean</th>\n",
       "      <th>std</th>\n",
       "      <th>min</th>\n",
       "      <th>25%</th>\n",
       "      <th>50%</th>\n",
       "      <th>75%</th>\n",
       "      <th>max</th>\n",
       "      <th>word</th>\n",
       "    </tr>\n",
       "  </thead>\n",
       "  <tbody>\n",
       "    <tr>\n",
       "      <th>0</th>\n",
       "      <td>5757.0</td>\n",
       "      <td>4.54108</td>\n",
       "      <td>1.350079</td>\n",
       "      <td>2.0</td>\n",
       "      <td>4.0</td>\n",
       "      <td>4.0</td>\n",
       "      <td>5.0</td>\n",
       "      <td>13.0</td>\n",
       "      <td>vares</td>\n",
       "    </tr>\n",
       "  </tbody>\n",
       "</table>\n",
       "</div>"
      ],
      "text/plain": [
       "    count     mean       std  min  25%  50%  75%   max   word\n",
       "0  5757.0  4.54108  1.350079  2.0  4.0  4.0  5.0  13.0  vares"
      ]
     },
     "metadata": {},
     "output_type": "display_data"
    },
    {
     "name": "stderr",
     "output_type": "stream",
     "text": [
      "[Parallel(n_jobs=5)]: Using backend LokyBackend with 5 concurrent workers.\n"
     ]
    },
    {
     "name": "stdout",
     "output_type": "stream",
     "text": [
      "--------------------\n",
      "\n",
      "\n",
      "\n",
      "--------------------\n",
      "cames\n"
     ]
    },
    {
     "name": "stderr",
     "output_type": "stream",
     "text": [
      "[Parallel(n_jobs=5)]: Done 150 tasks      | elapsed:    1.0s\n",
      "[Parallel(n_jobs=5)]: Done 1350 tasks      | elapsed:    8.7s\n",
      "[Parallel(n_jobs=5)]: Done 3350 tasks      | elapsed:   23.0s\n",
      "[Parallel(n_jobs=5)]: Done 5748 out of 5757 | elapsed:   40.3s remaining:    0.1s\n",
      "[Parallel(n_jobs=5)]: Done 5757 out of 5757 | elapsed:   40.4s finished\n"
     ]
    },
    {
     "data": {
      "text/html": [
       "<div>\n",
       "<style scoped>\n",
       "    .dataframe tbody tr th:only-of-type {\n",
       "        vertical-align: middle;\n",
       "    }\n",
       "\n",
       "    .dataframe tbody tr th {\n",
       "        vertical-align: top;\n",
       "    }\n",
       "\n",
       "    .dataframe thead th {\n",
       "        text-align: right;\n",
       "    }\n",
       "</style>\n",
       "<table border=\"1\" class=\"dataframe\">\n",
       "  <thead>\n",
       "    <tr style=\"text-align: right;\">\n",
       "      <th></th>\n",
       "      <th>count</th>\n",
       "      <th>mean</th>\n",
       "      <th>std</th>\n",
       "      <th>min</th>\n",
       "      <th>25%</th>\n",
       "      <th>50%</th>\n",
       "      <th>75%</th>\n",
       "      <th>max</th>\n",
       "      <th>word</th>\n",
       "    </tr>\n",
       "  </thead>\n",
       "  <tbody>\n",
       "    <tr>\n",
       "      <th>0</th>\n",
       "      <td>5757.0</td>\n",
       "      <td>4.439639</td>\n",
       "      <td>1.297902</td>\n",
       "      <td>2.0</td>\n",
       "      <td>4.0</td>\n",
       "      <td>4.0</td>\n",
       "      <td>5.0</td>\n",
       "      <td>13.0</td>\n",
       "      <td>cames</td>\n",
       "    </tr>\n",
       "  </tbody>\n",
       "</table>\n",
       "</div>"
      ],
      "text/plain": [
       "    count      mean       std  min  25%  50%  75%   max   word\n",
       "0  5757.0  4.439639  1.297902  2.0  4.0  4.0  5.0  13.0  cames"
      ]
     },
     "metadata": {},
     "output_type": "display_data"
    },
    {
     "name": "stderr",
     "output_type": "stream",
     "text": [
      "[Parallel(n_jobs=5)]: Using backend LokyBackend with 5 concurrent workers.\n"
     ]
    },
    {
     "name": "stdout",
     "output_type": "stream",
     "text": [
      "--------------------\n",
      "\n",
      "\n",
      "\n",
      "--------------------\n",
      "kaies\n"
     ]
    },
    {
     "name": "stderr",
     "output_type": "stream",
     "text": [
      "[Parallel(n_jobs=5)]: Done 150 tasks      | elapsed:    1.0s\n",
      "[Parallel(n_jobs=5)]: Done 1350 tasks      | elapsed:    9.2s\n",
      "[Parallel(n_jobs=5)]: Done 3350 tasks      | elapsed:   25.4s\n",
      "[Parallel(n_jobs=5)]: Done 5748 out of 5757 | elapsed:   44.4s remaining:    0.1s\n",
      "[Parallel(n_jobs=5)]: Done 5757 out of 5757 | elapsed:   44.4s finished\n"
     ]
    },
    {
     "data": {
      "text/html": [
       "<div>\n",
       "<style scoped>\n",
       "    .dataframe tbody tr th:only-of-type {\n",
       "        vertical-align: middle;\n",
       "    }\n",
       "\n",
       "    .dataframe tbody tr th {\n",
       "        vertical-align: top;\n",
       "    }\n",
       "\n",
       "    .dataframe thead th {\n",
       "        text-align: right;\n",
       "    }\n",
       "</style>\n",
       "<table border=\"1\" class=\"dataframe\">\n",
       "  <thead>\n",
       "    <tr style=\"text-align: right;\">\n",
       "      <th></th>\n",
       "      <th>count</th>\n",
       "      <th>mean</th>\n",
       "      <th>std</th>\n",
       "      <th>min</th>\n",
       "      <th>25%</th>\n",
       "      <th>50%</th>\n",
       "      <th>75%</th>\n",
       "      <th>max</th>\n",
       "      <th>word</th>\n",
       "    </tr>\n",
       "  </thead>\n",
       "  <tbody>\n",
       "    <tr>\n",
       "      <th>0</th>\n",
       "      <td>5757.0</td>\n",
       "      <td>4.583464</td>\n",
       "      <td>1.433561</td>\n",
       "      <td>2.0</td>\n",
       "      <td>4.0</td>\n",
       "      <td>4.0</td>\n",
       "      <td>5.0</td>\n",
       "      <td>13.0</td>\n",
       "      <td>kaies</td>\n",
       "    </tr>\n",
       "  </tbody>\n",
       "</table>\n",
       "</div>"
      ],
      "text/plain": [
       "    count      mean       std  min  25%  50%  75%   max   word\n",
       "0  5757.0  4.583464  1.433561  2.0  4.0  4.0  5.0  13.0  kaies"
      ]
     },
     "metadata": {},
     "output_type": "display_data"
    },
    {
     "name": "stderr",
     "output_type": "stream",
     "text": [
      "[Parallel(n_jobs=5)]: Using backend LokyBackend with 5 concurrent workers.\n"
     ]
    },
    {
     "name": "stdout",
     "output_type": "stream",
     "text": [
      "--------------------\n",
      "\n",
      "\n",
      "\n",
      "--------------------\n",
      "kores\n"
     ]
    },
    {
     "name": "stderr",
     "output_type": "stream",
     "text": [
      "[Parallel(n_jobs=5)]: Done 110 tasks      | elapsed:    0.8s\n",
      "[Parallel(n_jobs=5)]: Done 710 tasks      | elapsed:    5.5s\n",
      "[Parallel(n_jobs=5)]: Done 1710 tasks      | elapsed:   13.6s\n",
      "[Parallel(n_jobs=5)]: Done 3110 tasks      | elapsed:   24.0s\n",
      "[Parallel(n_jobs=5)]: Done 4910 tasks      | elapsed:   37.4s\n",
      "[Parallel(n_jobs=5)]: Done 5757 out of 5757 | elapsed:   44.3s finished\n"
     ]
    },
    {
     "data": {
      "text/html": [
       "<div>\n",
       "<style scoped>\n",
       "    .dataframe tbody tr th:only-of-type {\n",
       "        vertical-align: middle;\n",
       "    }\n",
       "\n",
       "    .dataframe tbody tr th {\n",
       "        vertical-align: top;\n",
       "    }\n",
       "\n",
       "    .dataframe thead th {\n",
       "        text-align: right;\n",
       "    }\n",
       "</style>\n",
       "<table border=\"1\" class=\"dataframe\">\n",
       "  <thead>\n",
       "    <tr style=\"text-align: right;\">\n",
       "      <th></th>\n",
       "      <th>count</th>\n",
       "      <th>mean</th>\n",
       "      <th>std</th>\n",
       "      <th>min</th>\n",
       "      <th>25%</th>\n",
       "      <th>50%</th>\n",
       "      <th>75%</th>\n",
       "      <th>max</th>\n",
       "      <th>word</th>\n",
       "    </tr>\n",
       "  </thead>\n",
       "  <tbody>\n",
       "    <tr>\n",
       "      <th>0</th>\n",
       "      <td>5757.0</td>\n",
       "      <td>4.495397</td>\n",
       "      <td>1.339589</td>\n",
       "      <td>2.0</td>\n",
       "      <td>4.0</td>\n",
       "      <td>4.0</td>\n",
       "      <td>5.0</td>\n",
       "      <td>13.0</td>\n",
       "      <td>kores</td>\n",
       "    </tr>\n",
       "  </tbody>\n",
       "</table>\n",
       "</div>"
      ],
      "text/plain": [
       "    count      mean       std  min  25%  50%  75%   max   word\n",
       "0  5757.0  4.495397  1.339589  2.0  4.0  4.0  5.0  13.0  kores"
      ]
     },
     "metadata": {},
     "output_type": "display_data"
    },
    {
     "name": "stderr",
     "output_type": "stream",
     "text": [
      "[Parallel(n_jobs=5)]: Using backend LokyBackend with 5 concurrent workers.\n"
     ]
    },
    {
     "name": "stdout",
     "output_type": "stream",
     "text": [
      "--------------------\n",
      "\n",
      "\n",
      "\n",
      "--------------------\n",
      "cotes\n"
     ]
    },
    {
     "name": "stderr",
     "output_type": "stream",
     "text": [
      "[Parallel(n_jobs=5)]: Done 110 tasks      | elapsed:    0.9s\n",
      "[Parallel(n_jobs=5)]: Done 710 tasks      | elapsed:    5.3s\n",
      "[Parallel(n_jobs=5)]: Done 1710 tasks      | elapsed:   12.8s\n",
      "[Parallel(n_jobs=5)]: Done 3110 tasks      | elapsed:   23.9s\n",
      "[Parallel(n_jobs=5)]: Done 4910 tasks      | elapsed:   38.2s\n",
      "[Parallel(n_jobs=5)]: Done 5757 out of 5757 | elapsed:   45.3s finished\n"
     ]
    },
    {
     "data": {
      "text/html": [
       "<div>\n",
       "<style scoped>\n",
       "    .dataframe tbody tr th:only-of-type {\n",
       "        vertical-align: middle;\n",
       "    }\n",
       "\n",
       "    .dataframe tbody tr th {\n",
       "        vertical-align: top;\n",
       "    }\n",
       "\n",
       "    .dataframe thead th {\n",
       "        text-align: right;\n",
       "    }\n",
       "</style>\n",
       "<table border=\"1\" class=\"dataframe\">\n",
       "  <thead>\n",
       "    <tr style=\"text-align: right;\">\n",
       "      <th></th>\n",
       "      <th>count</th>\n",
       "      <th>mean</th>\n",
       "      <th>std</th>\n",
       "      <th>min</th>\n",
       "      <th>25%</th>\n",
       "      <th>50%</th>\n",
       "      <th>75%</th>\n",
       "      <th>max</th>\n",
       "      <th>word</th>\n",
       "    </tr>\n",
       "  </thead>\n",
       "  <tbody>\n",
       "    <tr>\n",
       "      <th>0</th>\n",
       "      <td>5757.0</td>\n",
       "      <td>4.426264</td>\n",
       "      <td>1.331708</td>\n",
       "      <td>1.0</td>\n",
       "      <td>4.0</td>\n",
       "      <td>4.0</td>\n",
       "      <td>5.0</td>\n",
       "      <td>12.0</td>\n",
       "      <td>cotes</td>\n",
       "    </tr>\n",
       "  </tbody>\n",
       "</table>\n",
       "</div>"
      ],
      "text/plain": [
       "    count      mean       std  min  25%  50%  75%   max   word\n",
       "0  5757.0  4.426264  1.331708  1.0  4.0  4.0  5.0  12.0  cotes"
      ]
     },
     "metadata": {},
     "output_type": "display_data"
    },
    {
     "name": "stderr",
     "output_type": "stream",
     "text": [
      "[Parallel(n_jobs=5)]: Using backend LokyBackend with 5 concurrent workers.\n"
     ]
    },
    {
     "name": "stdout",
     "output_type": "stream",
     "text": [
      "--------------------\n",
      "\n",
      "\n",
      "\n",
      "--------------------\n",
      "moles\n"
     ]
    },
    {
     "name": "stderr",
     "output_type": "stream",
     "text": [
      "[Parallel(n_jobs=5)]: Done 110 tasks      | elapsed:    0.8s\n",
      "[Parallel(n_jobs=5)]: Done 710 tasks      | elapsed:    5.9s\n",
      "[Parallel(n_jobs=5)]: Done 1710 tasks      | elapsed:   13.2s\n",
      "[Parallel(n_jobs=5)]: Done 3110 tasks      | elapsed:   23.5s\n",
      "[Parallel(n_jobs=5)]: Done 4910 tasks      | elapsed:   36.9s\n",
      "[Parallel(n_jobs=5)]: Done 5757 out of 5757 | elapsed:   43.2s finished\n"
     ]
    },
    {
     "data": {
      "text/html": [
       "<div>\n",
       "<style scoped>\n",
       "    .dataframe tbody tr th:only-of-type {\n",
       "        vertical-align: middle;\n",
       "    }\n",
       "\n",
       "    .dataframe tbody tr th {\n",
       "        vertical-align: top;\n",
       "    }\n",
       "\n",
       "    .dataframe thead th {\n",
       "        text-align: right;\n",
       "    }\n",
       "</style>\n",
       "<table border=\"1\" class=\"dataframe\">\n",
       "  <thead>\n",
       "    <tr style=\"text-align: right;\">\n",
       "      <th></th>\n",
       "      <th>count</th>\n",
       "      <th>mean</th>\n",
       "      <th>std</th>\n",
       "      <th>min</th>\n",
       "      <th>25%</th>\n",
       "      <th>50%</th>\n",
       "      <th>75%</th>\n",
       "      <th>max</th>\n",
       "      <th>word</th>\n",
       "    </tr>\n",
       "  </thead>\n",
       "  <tbody>\n",
       "    <tr>\n",
       "      <th>0</th>\n",
       "      <td>5757.0</td>\n",
       "      <td>4.373458</td>\n",
       "      <td>1.280708</td>\n",
       "      <td>1.0</td>\n",
       "      <td>4.0</td>\n",
       "      <td>4.0</td>\n",
       "      <td>5.0</td>\n",
       "      <td>13.0</td>\n",
       "      <td>moles</td>\n",
       "    </tr>\n",
       "  </tbody>\n",
       "</table>\n",
       "</div>"
      ],
      "text/plain": [
       "    count      mean       std  min  25%  50%  75%   max   word\n",
       "0  5757.0  4.373458  1.280708  1.0  4.0  4.0  5.0  13.0  moles"
      ]
     },
     "metadata": {},
     "output_type": "display_data"
    },
    {
     "name": "stdout",
     "output_type": "stream",
     "text": [
      "--------------------\n",
      "\n",
      "\n",
      "\n"
     ]
    }
   ],
   "source": [
    "singles_results = pd.DataFrame()\n",
    "for word in top_singles:\n",
    "    print('--------------------')\n",
    "    print(word)\n",
    "    res = single_word_strategy(word)\n",
    "    singles_results = singles_results.append(res)\n",
    "    print('--------------------')\n",
    "    print()\n",
    "    print()\n",
    "    print()"
   ]
  },
  {
   "cell_type": "code",
   "execution_count": 33,
   "id": "0560b472-dcfa-4f6f-8cb1-a8387b8a122f",
   "metadata": {},
   "outputs": [
    {
     "data": {
      "text/html": [
       "<div>\n",
       "<style scoped>\n",
       "    .dataframe tbody tr th:only-of-type {\n",
       "        vertical-align: middle;\n",
       "    }\n",
       "\n",
       "    .dataframe tbody tr th {\n",
       "        vertical-align: top;\n",
       "    }\n",
       "\n",
       "    .dataframe thead th {\n",
       "        text-align: right;\n",
       "    }\n",
       "</style>\n",
       "<table border=\"1\" class=\"dataframe\">\n",
       "  <thead>\n",
       "    <tr style=\"text-align: right;\">\n",
       "      <th></th>\n",
       "      <th>count</th>\n",
       "      <th>mean</th>\n",
       "      <th>std</th>\n",
       "      <th>min</th>\n",
       "      <th>25%</th>\n",
       "      <th>50%</th>\n",
       "      <th>75%</th>\n",
       "      <th>max</th>\n",
       "      <th>word1</th>\n",
       "      <th>word2</th>\n",
       "    </tr>\n",
       "  </thead>\n",
       "  <tbody>\n",
       "    <tr>\n",
       "      <th>0</th>\n",
       "      <td>5757.0</td>\n",
       "      <td>4.131839</td>\n",
       "      <td>1.118184</td>\n",
       "      <td>1.0</td>\n",
       "      <td>3.0</td>\n",
       "      <td>4.0</td>\n",
       "      <td>5.0</td>\n",
       "      <td>11.0</td>\n",
       "      <td>pares</td>\n",
       "      <td>doilt</td>\n",
       "    </tr>\n",
       "    <tr>\n",
       "      <th>0</th>\n",
       "      <td>5757.0</td>\n",
       "      <td>4.157721</td>\n",
       "      <td>1.144281</td>\n",
       "      <td>1.0</td>\n",
       "      <td>3.0</td>\n",
       "      <td>4.0</td>\n",
       "      <td>5.0</td>\n",
       "      <td>11.0</td>\n",
       "      <td>dares</td>\n",
       "      <td>point</td>\n",
       "    </tr>\n",
       "    <tr>\n",
       "      <th>0</th>\n",
       "      <td>5757.0</td>\n",
       "      <td>4.161195</td>\n",
       "      <td>1.134188</td>\n",
       "      <td>1.0</td>\n",
       "      <td>3.0</td>\n",
       "      <td>4.0</td>\n",
       "      <td>5.0</td>\n",
       "      <td>11.0</td>\n",
       "      <td>tares</td>\n",
       "      <td>poind</td>\n",
       "    </tr>\n",
       "    <tr>\n",
       "      <th>0</th>\n",
       "      <td>5757.0</td>\n",
       "      <td>4.162585</td>\n",
       "      <td>1.158392</td>\n",
       "      <td>1.0</td>\n",
       "      <td>3.0</td>\n",
       "      <td>4.0</td>\n",
       "      <td>5.0</td>\n",
       "      <td>11.0</td>\n",
       "      <td>cores</td>\n",
       "      <td>paint</td>\n",
       "    </tr>\n",
       "    <tr>\n",
       "      <th>0</th>\n",
       "      <td>5757.0</td>\n",
       "      <td>4.209484</td>\n",
       "      <td>1.165684</td>\n",
       "      <td>1.0</td>\n",
       "      <td>3.0</td>\n",
       "      <td>4.0</td>\n",
       "      <td>5.0</td>\n",
       "      <td>12.0</td>\n",
       "      <td>tares</td>\n",
       "      <td>could</td>\n",
       "    </tr>\n",
       "    <tr>\n",
       "      <th>0</th>\n",
       "      <td>5757.0</td>\n",
       "      <td>4.220254</td>\n",
       "      <td>1.157710</td>\n",
       "      <td>1.0</td>\n",
       "      <td>3.0</td>\n",
       "      <td>4.0</td>\n",
       "      <td>5.0</td>\n",
       "      <td>11.0</td>\n",
       "      <td>pores</td>\n",
       "      <td>canid</td>\n",
       "    </tr>\n",
       "    <tr>\n",
       "      <th>0</th>\n",
       "      <td>5757.0</td>\n",
       "      <td>4.222512</td>\n",
       "      <td>1.159752</td>\n",
       "      <td>1.0</td>\n",
       "      <td>3.0</td>\n",
       "      <td>4.0</td>\n",
       "      <td>5.0</td>\n",
       "      <td>11.0</td>\n",
       "      <td>cares</td>\n",
       "      <td>poind</td>\n",
       "    </tr>\n",
       "    <tr>\n",
       "      <th>0</th>\n",
       "      <td>5757.0</td>\n",
       "      <td>4.228591</td>\n",
       "      <td>1.147040</td>\n",
       "      <td>1.0</td>\n",
       "      <td>3.0</td>\n",
       "      <td>4.0</td>\n",
       "      <td>5.0</td>\n",
       "      <td>12.0</td>\n",
       "      <td>pares</td>\n",
       "      <td>could</td>\n",
       "    </tr>\n",
       "    <tr>\n",
       "      <th>0</th>\n",
       "      <td>5757.0</td>\n",
       "      <td>4.230676</td>\n",
       "      <td>1.185069</td>\n",
       "      <td>1.0</td>\n",
       "      <td>3.0</td>\n",
       "      <td>4.0</td>\n",
       "      <td>5.0</td>\n",
       "      <td>11.0</td>\n",
       "      <td>tares</td>\n",
       "      <td>piony</td>\n",
       "    </tr>\n",
       "    <tr>\n",
       "      <th>0</th>\n",
       "      <td>5757.0</td>\n",
       "      <td>4.230849</td>\n",
       "      <td>1.181585</td>\n",
       "      <td>1.0</td>\n",
       "      <td>3.0</td>\n",
       "      <td>4.0</td>\n",
       "      <td>5.0</td>\n",
       "      <td>12.0</td>\n",
       "      <td>pores</td>\n",
       "      <td>laity</td>\n",
       "    </tr>\n",
       "    <tr>\n",
       "      <th>0</th>\n",
       "      <td>5757.0</td>\n",
       "      <td>4.233802</td>\n",
       "      <td>1.134868</td>\n",
       "      <td>1.0</td>\n",
       "      <td>3.0</td>\n",
       "      <td>4.0</td>\n",
       "      <td>5.0</td>\n",
       "      <td>11.0</td>\n",
       "      <td>mares</td>\n",
       "      <td>poind</td>\n",
       "    </tr>\n",
       "    <tr>\n",
       "      <th>0</th>\n",
       "      <td>5757.0</td>\n",
       "      <td>4.254125</td>\n",
       "      <td>1.202789</td>\n",
       "      <td>1.0</td>\n",
       "      <td>3.0</td>\n",
       "      <td>4.0</td>\n",
       "      <td>5.0</td>\n",
       "      <td>12.0</td>\n",
       "      <td>tares</td>\n",
       "      <td>doily</td>\n",
       "    </tr>\n",
       "    <tr>\n",
       "      <th>0</th>\n",
       "      <td>5757.0</td>\n",
       "      <td>4.258989</td>\n",
       "      <td>1.148075</td>\n",
       "      <td>1.0</td>\n",
       "      <td>3.0</td>\n",
       "      <td>4.0</td>\n",
       "      <td>5.0</td>\n",
       "      <td>10.0</td>\n",
       "      <td>bares</td>\n",
       "      <td>poind</td>\n",
       "    </tr>\n",
       "    <tr>\n",
       "      <th>0</th>\n",
       "      <td>5757.0</td>\n",
       "      <td>4.268369</td>\n",
       "      <td>1.232266</td>\n",
       "      <td>1.0</td>\n",
       "      <td>3.0</td>\n",
       "      <td>4.0</td>\n",
       "      <td>5.0</td>\n",
       "      <td>13.0</td>\n",
       "      <td>tares</td>\n",
       "      <td>noily</td>\n",
       "    </tr>\n",
       "    <tr>\n",
       "      <th>0</th>\n",
       "      <td>5757.0</td>\n",
       "      <td>4.275143</td>\n",
       "      <td>1.192996</td>\n",
       "      <td>1.0</td>\n",
       "      <td>3.0</td>\n",
       "      <td>4.0</td>\n",
       "      <td>5.0</td>\n",
       "      <td>11.0</td>\n",
       "      <td>bores</td>\n",
       "      <td>canid</td>\n",
       "    </tr>\n",
       "    <tr>\n",
       "      <th>0</th>\n",
       "      <td>5757.0</td>\n",
       "      <td>4.275838</td>\n",
       "      <td>1.191962</td>\n",
       "      <td>1.0</td>\n",
       "      <td>3.0</td>\n",
       "      <td>4.0</td>\n",
       "      <td>5.0</td>\n",
       "      <td>12.0</td>\n",
       "      <td>pares</td>\n",
       "      <td>doily</td>\n",
       "    </tr>\n",
       "    <tr>\n",
       "      <th>0</th>\n",
       "      <td>5757.0</td>\n",
       "      <td>4.275838</td>\n",
       "      <td>1.191962</td>\n",
       "      <td>1.0</td>\n",
       "      <td>3.0</td>\n",
       "      <td>4.0</td>\n",
       "      <td>5.0</td>\n",
       "      <td>12.0</td>\n",
       "      <td>pores</td>\n",
       "      <td>daily</td>\n",
       "    </tr>\n",
       "    <tr>\n",
       "      <th>0</th>\n",
       "      <td>5757.0</td>\n",
       "      <td>4.278617</td>\n",
       "      <td>1.200467</td>\n",
       "      <td>1.0</td>\n",
       "      <td>3.0</td>\n",
       "      <td>4.0</td>\n",
       "      <td>5.0</td>\n",
       "      <td>12.0</td>\n",
       "      <td>bores</td>\n",
       "      <td>laity</td>\n",
       "    </tr>\n",
       "    <tr>\n",
       "      <th>0</th>\n",
       "      <td>5757.0</td>\n",
       "      <td>4.280181</td>\n",
       "      <td>1.170718</td>\n",
       "      <td>1.0</td>\n",
       "      <td>3.0</td>\n",
       "      <td>4.0</td>\n",
       "      <td>5.0</td>\n",
       "      <td>11.0</td>\n",
       "      <td>dares</td>\n",
       "      <td>pouty</td>\n",
       "    </tr>\n",
       "    <tr>\n",
       "      <th>0</th>\n",
       "      <td>5757.0</td>\n",
       "      <td>4.280875</td>\n",
       "      <td>1.234974</td>\n",
       "      <td>1.0</td>\n",
       "      <td>3.0</td>\n",
       "      <td>4.0</td>\n",
       "      <td>5.0</td>\n",
       "      <td>12.0</td>\n",
       "      <td>cores</td>\n",
       "      <td>laity</td>\n",
       "    </tr>\n",
       "    <tr>\n",
       "      <th>0</th>\n",
       "      <td>5757.0</td>\n",
       "      <td>4.289561</td>\n",
       "      <td>1.162172</td>\n",
       "      <td>1.0</td>\n",
       "      <td>3.0</td>\n",
       "      <td>4.0</td>\n",
       "      <td>5.0</td>\n",
       "      <td>11.0</td>\n",
       "      <td>mares</td>\n",
       "      <td>pouty</td>\n",
       "    </tr>\n",
       "    <tr>\n",
       "      <th>0</th>\n",
       "      <td>5757.0</td>\n",
       "      <td>4.298072</td>\n",
       "      <td>1.205624</td>\n",
       "      <td>1.0</td>\n",
       "      <td>3.0</td>\n",
       "      <td>4.0</td>\n",
       "      <td>5.0</td>\n",
       "      <td>11.0</td>\n",
       "      <td>cares</td>\n",
       "      <td>pouty</td>\n",
       "    </tr>\n",
       "    <tr>\n",
       "      <th>0</th>\n",
       "      <td>5757.0</td>\n",
       "      <td>4.307278</td>\n",
       "      <td>1.213732</td>\n",
       "      <td>1.0</td>\n",
       "      <td>3.0</td>\n",
       "      <td>4.0</td>\n",
       "      <td>5.0</td>\n",
       "      <td>11.0</td>\n",
       "      <td>dares</td>\n",
       "      <td>piony</td>\n",
       "    </tr>\n",
       "    <tr>\n",
       "      <th>0</th>\n",
       "      <td>5757.0</td>\n",
       "      <td>4.313010</td>\n",
       "      <td>1.238144</td>\n",
       "      <td>1.0</td>\n",
       "      <td>3.0</td>\n",
       "      <td>4.0</td>\n",
       "      <td>5.0</td>\n",
       "      <td>13.0</td>\n",
       "      <td>cares</td>\n",
       "      <td>doily</td>\n",
       "    </tr>\n",
       "    <tr>\n",
       "      <th>0</th>\n",
       "      <td>5757.0</td>\n",
       "      <td>4.313010</td>\n",
       "      <td>1.238144</td>\n",
       "      <td>1.0</td>\n",
       "      <td>3.0</td>\n",
       "      <td>4.0</td>\n",
       "      <td>5.0</td>\n",
       "      <td>13.0</td>\n",
       "      <td>cores</td>\n",
       "      <td>daily</td>\n",
       "    </tr>\n",
       "    <tr>\n",
       "      <th>0</th>\n",
       "      <td>5757.0</td>\n",
       "      <td>4.313531</td>\n",
       "      <td>1.225388</td>\n",
       "      <td>1.0</td>\n",
       "      <td>3.0</td>\n",
       "      <td>4.0</td>\n",
       "      <td>5.0</td>\n",
       "      <td>12.0</td>\n",
       "      <td>mares</td>\n",
       "      <td>doily</td>\n",
       "    </tr>\n",
       "    <tr>\n",
       "      <th>0</th>\n",
       "      <td>5757.0</td>\n",
       "      <td>4.315442</td>\n",
       "      <td>1.233167</td>\n",
       "      <td>1.0</td>\n",
       "      <td>3.0</td>\n",
       "      <td>4.0</td>\n",
       "      <td>5.0</td>\n",
       "      <td>13.0</td>\n",
       "      <td>pares</td>\n",
       "      <td>noily</td>\n",
       "    </tr>\n",
       "    <tr>\n",
       "      <th>0</th>\n",
       "      <td>5757.0</td>\n",
       "      <td>4.323259</td>\n",
       "      <td>1.185051</td>\n",
       "      <td>1.0</td>\n",
       "      <td>4.0</td>\n",
       "      <td>4.0</td>\n",
       "      <td>5.0</td>\n",
       "      <td>11.0</td>\n",
       "      <td>bares</td>\n",
       "      <td>pouty</td>\n",
       "    </tr>\n",
       "    <tr>\n",
       "      <th>0</th>\n",
       "      <td>5757.0</td>\n",
       "      <td>4.334549</td>\n",
       "      <td>1.226705</td>\n",
       "      <td>1.0</td>\n",
       "      <td>3.0</td>\n",
       "      <td>4.0</td>\n",
       "      <td>5.0</td>\n",
       "      <td>12.0</td>\n",
       "      <td>bares</td>\n",
       "      <td>doily</td>\n",
       "    </tr>\n",
       "    <tr>\n",
       "      <th>0</th>\n",
       "      <td>5757.0</td>\n",
       "      <td>4.334549</td>\n",
       "      <td>1.226705</td>\n",
       "      <td>1.0</td>\n",
       "      <td>3.0</td>\n",
       "      <td>4.0</td>\n",
       "      <td>5.0</td>\n",
       "      <td>12.0</td>\n",
       "      <td>bores</td>\n",
       "      <td>daily</td>\n",
       "    </tr>\n",
       "    <tr>\n",
       "      <th>0</th>\n",
       "      <td>5757.0</td>\n",
       "      <td>4.335765</td>\n",
       "      <td>1.228001</td>\n",
       "      <td>1.0</td>\n",
       "      <td>3.0</td>\n",
       "      <td>4.0</td>\n",
       "      <td>5.0</td>\n",
       "      <td>12.0</td>\n",
       "      <td>pores</td>\n",
       "      <td>haily</td>\n",
       "    </tr>\n",
       "    <tr>\n",
       "      <th>0</th>\n",
       "      <td>5757.0</td>\n",
       "      <td>4.335939</td>\n",
       "      <td>1.260694</td>\n",
       "      <td>1.0</td>\n",
       "      <td>3.0</td>\n",
       "      <td>4.0</td>\n",
       "      <td>5.0</td>\n",
       "      <td>13.0</td>\n",
       "      <td>dares</td>\n",
       "      <td>noily</td>\n",
       "    </tr>\n",
       "    <tr>\n",
       "      <th>0</th>\n",
       "      <td>5757.0</td>\n",
       "      <td>4.338544</td>\n",
       "      <td>1.234717</td>\n",
       "      <td>1.0</td>\n",
       "      <td>3.0</td>\n",
       "      <td>4.0</td>\n",
       "      <td>5.0</td>\n",
       "      <td>12.0</td>\n",
       "      <td>pores</td>\n",
       "      <td>gaily</td>\n",
       "    </tr>\n",
       "    <tr>\n",
       "      <th>0</th>\n",
       "      <td>5757.0</td>\n",
       "      <td>4.340976</td>\n",
       "      <td>1.231934</td>\n",
       "      <td>1.0</td>\n",
       "      <td>4.0</td>\n",
       "      <td>4.0</td>\n",
       "      <td>5.0</td>\n",
       "      <td>12.0</td>\n",
       "      <td>canes</td>\n",
       "      <td>pouty</td>\n",
       "    </tr>\n",
       "    <tr>\n",
       "      <th>0</th>\n",
       "      <td>5757.0</td>\n",
       "      <td>4.345840</td>\n",
       "      <td>1.246707</td>\n",
       "      <td>1.0</td>\n",
       "      <td>3.0</td>\n",
       "      <td>4.0</td>\n",
       "      <td>5.0</td>\n",
       "      <td>13.0</td>\n",
       "      <td>mares</td>\n",
       "      <td>noily</td>\n",
       "    </tr>\n",
       "    <tr>\n",
       "      <th>0</th>\n",
       "      <td>5757.0</td>\n",
       "      <td>4.345840</td>\n",
       "      <td>1.281614</td>\n",
       "      <td>1.0</td>\n",
       "      <td>3.0</td>\n",
       "      <td>4.0</td>\n",
       "      <td>5.0</td>\n",
       "      <td>13.0</td>\n",
       "      <td>canes</td>\n",
       "      <td>roily</td>\n",
       "    </tr>\n",
       "    <tr>\n",
       "      <th>0</th>\n",
       "      <td>5757.0</td>\n",
       "      <td>4.346708</td>\n",
       "      <td>1.255701</td>\n",
       "      <td>1.0</td>\n",
       "      <td>4.0</td>\n",
       "      <td>4.0</td>\n",
       "      <td>5.0</td>\n",
       "      <td>13.0</td>\n",
       "      <td>canes</td>\n",
       "      <td>doily</td>\n",
       "    </tr>\n",
       "    <tr>\n",
       "      <th>0</th>\n",
       "      <td>5757.0</td>\n",
       "      <td>4.349661</td>\n",
       "      <td>1.212422</td>\n",
       "      <td>1.0</td>\n",
       "      <td>4.0</td>\n",
       "      <td>4.0</td>\n",
       "      <td>5.0</td>\n",
       "      <td>11.0</td>\n",
       "      <td>pares</td>\n",
       "      <td>gouty</td>\n",
       "    </tr>\n",
       "    <tr>\n",
       "      <th>0</th>\n",
       "      <td>5757.0</td>\n",
       "      <td>4.352614</td>\n",
       "      <td>1.279970</td>\n",
       "      <td>1.0</td>\n",
       "      <td>3.0</td>\n",
       "      <td>4.0</td>\n",
       "      <td>5.0</td>\n",
       "      <td>13.0</td>\n",
       "      <td>cares</td>\n",
       "      <td>noily</td>\n",
       "    </tr>\n",
       "    <tr>\n",
       "      <th>0</th>\n",
       "      <td>5757.0</td>\n",
       "      <td>4.367379</td>\n",
       "      <td>1.257223</td>\n",
       "      <td>1.0</td>\n",
       "      <td>4.0</td>\n",
       "      <td>4.0</td>\n",
       "      <td>5.0</td>\n",
       "      <td>13.0</td>\n",
       "      <td>bares</td>\n",
       "      <td>noily</td>\n",
       "    </tr>\n",
       "    <tr>\n",
       "      <th>0</th>\n",
       "      <td>5757.0</td>\n",
       "      <td>4.370679</td>\n",
       "      <td>1.233154</td>\n",
       "      <td>1.0</td>\n",
       "      <td>4.0</td>\n",
       "      <td>4.0</td>\n",
       "      <td>5.0</td>\n",
       "      <td>12.0</td>\n",
       "      <td>dares</td>\n",
       "      <td>gouty</td>\n",
       "    </tr>\n",
       "    <tr>\n",
       "      <th>0</th>\n",
       "      <td>5757.0</td>\n",
       "      <td>4.372590</td>\n",
       "      <td>1.291295</td>\n",
       "      <td>1.0</td>\n",
       "      <td>4.0</td>\n",
       "      <td>4.0</td>\n",
       "      <td>5.0</td>\n",
       "      <td>13.0</td>\n",
       "      <td>canes</td>\n",
       "      <td>loury</td>\n",
       "    </tr>\n",
       "    <tr>\n",
       "      <th>0</th>\n",
       "      <td>5757.0</td>\n",
       "      <td>4.374153</td>\n",
       "      <td>1.219063</td>\n",
       "      <td>1.0</td>\n",
       "      <td>4.0</td>\n",
       "      <td>4.0</td>\n",
       "      <td>5.0</td>\n",
       "      <td>11.0</td>\n",
       "      <td>mares</td>\n",
       "      <td>gouty</td>\n",
       "    </tr>\n",
       "    <tr>\n",
       "      <th>0</th>\n",
       "      <td>5757.0</td>\n",
       "      <td>4.379191</td>\n",
       "      <td>1.270231</td>\n",
       "      <td>1.0</td>\n",
       "      <td>4.0</td>\n",
       "      <td>4.0</td>\n",
       "      <td>5.0</td>\n",
       "      <td>12.0</td>\n",
       "      <td>cores</td>\n",
       "      <td>haily</td>\n",
       "    </tr>\n",
       "    <tr>\n",
       "      <th>0</th>\n",
       "      <td>5757.0</td>\n",
       "      <td>4.385270</td>\n",
       "      <td>1.286420</td>\n",
       "      <td>1.0</td>\n",
       "      <td>4.0</td>\n",
       "      <td>4.0</td>\n",
       "      <td>5.0</td>\n",
       "      <td>13.0</td>\n",
       "      <td>cores</td>\n",
       "      <td>gaily</td>\n",
       "    </tr>\n",
       "    <tr>\n",
       "      <th>0</th>\n",
       "      <td>5757.0</td>\n",
       "      <td>4.391697</td>\n",
       "      <td>1.256099</td>\n",
       "      <td>1.0</td>\n",
       "      <td>4.0</td>\n",
       "      <td>4.0</td>\n",
       "      <td>5.0</td>\n",
       "      <td>12.0</td>\n",
       "      <td>bores</td>\n",
       "      <td>haily</td>\n",
       "    </tr>\n",
       "    <tr>\n",
       "      <th>0</th>\n",
       "      <td>5757.0</td>\n",
       "      <td>4.397603</td>\n",
       "      <td>1.268976</td>\n",
       "      <td>1.0</td>\n",
       "      <td>4.0</td>\n",
       "      <td>4.0</td>\n",
       "      <td>5.0</td>\n",
       "      <td>12.0</td>\n",
       "      <td>cares</td>\n",
       "      <td>gouty</td>\n",
       "    </tr>\n",
       "    <tr>\n",
       "      <th>0</th>\n",
       "      <td>5757.0</td>\n",
       "      <td>4.401945</td>\n",
       "      <td>1.272600</td>\n",
       "      <td>1.0</td>\n",
       "      <td>4.0</td>\n",
       "      <td>4.0</td>\n",
       "      <td>5.0</td>\n",
       "      <td>12.0</td>\n",
       "      <td>bores</td>\n",
       "      <td>gaily</td>\n",
       "    </tr>\n",
       "    <tr>\n",
       "      <th>0</th>\n",
       "      <td>5757.0</td>\n",
       "      <td>4.411325</td>\n",
       "      <td>1.251127</td>\n",
       "      <td>1.0</td>\n",
       "      <td>4.0</td>\n",
       "      <td>4.0</td>\n",
       "      <td>5.0</td>\n",
       "      <td>12.0</td>\n",
       "      <td>bares</td>\n",
       "      <td>gouty</td>\n",
       "    </tr>\n",
       "    <tr>\n",
       "      <th>0</th>\n",
       "      <td>5757.0</td>\n",
       "      <td>4.426958</td>\n",
       "      <td>1.281079</td>\n",
       "      <td>1.0</td>\n",
       "      <td>4.0</td>\n",
       "      <td>4.0</td>\n",
       "      <td>5.0</td>\n",
       "      <td>12.0</td>\n",
       "      <td>canes</td>\n",
       "      <td>gouty</td>\n",
       "    </tr>\n",
       "  </tbody>\n",
       "</table>\n",
       "</div>"
      ],
      "text/plain": [
       "    count      mean       std  min  25%  50%  75%   max  word1  word2\n",
       "0  5757.0  4.131839  1.118184  1.0  3.0  4.0  5.0  11.0  pares  doilt\n",
       "0  5757.0  4.157721  1.144281  1.0  3.0  4.0  5.0  11.0  dares  point\n",
       "0  5757.0  4.161195  1.134188  1.0  3.0  4.0  5.0  11.0  tares  poind\n",
       "0  5757.0  4.162585  1.158392  1.0  3.0  4.0  5.0  11.0  cores  paint\n",
       "0  5757.0  4.209484  1.165684  1.0  3.0  4.0  5.0  12.0  tares  could\n",
       "0  5757.0  4.220254  1.157710  1.0  3.0  4.0  5.0  11.0  pores  canid\n",
       "0  5757.0  4.222512  1.159752  1.0  3.0  4.0  5.0  11.0  cares  poind\n",
       "0  5757.0  4.228591  1.147040  1.0  3.0  4.0  5.0  12.0  pares  could\n",
       "0  5757.0  4.230676  1.185069  1.0  3.0  4.0  5.0  11.0  tares  piony\n",
       "0  5757.0  4.230849  1.181585  1.0  3.0  4.0  5.0  12.0  pores  laity\n",
       "0  5757.0  4.233802  1.134868  1.0  3.0  4.0  5.0  11.0  mares  poind\n",
       "0  5757.0  4.254125  1.202789  1.0  3.0  4.0  5.0  12.0  tares  doily\n",
       "0  5757.0  4.258989  1.148075  1.0  3.0  4.0  5.0  10.0  bares  poind\n",
       "0  5757.0  4.268369  1.232266  1.0  3.0  4.0  5.0  13.0  tares  noily\n",
       "0  5757.0  4.275143  1.192996  1.0  3.0  4.0  5.0  11.0  bores  canid\n",
       "0  5757.0  4.275838  1.191962  1.0  3.0  4.0  5.0  12.0  pares  doily\n",
       "0  5757.0  4.275838  1.191962  1.0  3.0  4.0  5.0  12.0  pores  daily\n",
       "0  5757.0  4.278617  1.200467  1.0  3.0  4.0  5.0  12.0  bores  laity\n",
       "0  5757.0  4.280181  1.170718  1.0  3.0  4.0  5.0  11.0  dares  pouty\n",
       "0  5757.0  4.280875  1.234974  1.0  3.0  4.0  5.0  12.0  cores  laity\n",
       "0  5757.0  4.289561  1.162172  1.0  3.0  4.0  5.0  11.0  mares  pouty\n",
       "0  5757.0  4.298072  1.205624  1.0  3.0  4.0  5.0  11.0  cares  pouty\n",
       "0  5757.0  4.307278  1.213732  1.0  3.0  4.0  5.0  11.0  dares  piony\n",
       "0  5757.0  4.313010  1.238144  1.0  3.0  4.0  5.0  13.0  cares  doily\n",
       "0  5757.0  4.313010  1.238144  1.0  3.0  4.0  5.0  13.0  cores  daily\n",
       "0  5757.0  4.313531  1.225388  1.0  3.0  4.0  5.0  12.0  mares  doily\n",
       "0  5757.0  4.315442  1.233167  1.0  3.0  4.0  5.0  13.0  pares  noily\n",
       "0  5757.0  4.323259  1.185051  1.0  4.0  4.0  5.0  11.0  bares  pouty\n",
       "0  5757.0  4.334549  1.226705  1.0  3.0  4.0  5.0  12.0  bares  doily\n",
       "0  5757.0  4.334549  1.226705  1.0  3.0  4.0  5.0  12.0  bores  daily\n",
       "0  5757.0  4.335765  1.228001  1.0  3.0  4.0  5.0  12.0  pores  haily\n",
       "0  5757.0  4.335939  1.260694  1.0  3.0  4.0  5.0  13.0  dares  noily\n",
       "0  5757.0  4.338544  1.234717  1.0  3.0  4.0  5.0  12.0  pores  gaily\n",
       "0  5757.0  4.340976  1.231934  1.0  4.0  4.0  5.0  12.0  canes  pouty\n",
       "0  5757.0  4.345840  1.246707  1.0  3.0  4.0  5.0  13.0  mares  noily\n",
       "0  5757.0  4.345840  1.281614  1.0  3.0  4.0  5.0  13.0  canes  roily\n",
       "0  5757.0  4.346708  1.255701  1.0  4.0  4.0  5.0  13.0  canes  doily\n",
       "0  5757.0  4.349661  1.212422  1.0  4.0  4.0  5.0  11.0  pares  gouty\n",
       "0  5757.0  4.352614  1.279970  1.0  3.0  4.0  5.0  13.0  cares  noily\n",
       "0  5757.0  4.367379  1.257223  1.0  4.0  4.0  5.0  13.0  bares  noily\n",
       "0  5757.0  4.370679  1.233154  1.0  4.0  4.0  5.0  12.0  dares  gouty\n",
       "0  5757.0  4.372590  1.291295  1.0  4.0  4.0  5.0  13.0  canes  loury\n",
       "0  5757.0  4.374153  1.219063  1.0  4.0  4.0  5.0  11.0  mares  gouty\n",
       "0  5757.0  4.379191  1.270231  1.0  4.0  4.0  5.0  12.0  cores  haily\n",
       "0  5757.0  4.385270  1.286420  1.0  4.0  4.0  5.0  13.0  cores  gaily\n",
       "0  5757.0  4.391697  1.256099  1.0  4.0  4.0  5.0  12.0  bores  haily\n",
       "0  5757.0  4.397603  1.268976  1.0  4.0  4.0  5.0  12.0  cares  gouty\n",
       "0  5757.0  4.401945  1.272600  1.0  4.0  4.0  5.0  12.0  bores  gaily\n",
       "0  5757.0  4.411325  1.251127  1.0  4.0  4.0  5.0  12.0  bares  gouty\n",
       "0  5757.0  4.426958  1.281079  1.0  4.0  4.0  5.0  12.0  canes  gouty"
      ]
     },
     "execution_count": 33,
     "metadata": {},
     "output_type": "execute_result"
    }
   ],
   "source": [
    "all_results.sort_values('mean')"
   ]
  },
  {
   "cell_type": "code",
   "execution_count": 49,
   "id": "505419be-d07a-4f92-9925-a3b5d821699f",
   "metadata": {},
   "outputs": [
    {
     "data": {
      "text/html": [
       "<div>\n",
       "<style scoped>\n",
       "    .dataframe tbody tr th:only-of-type {\n",
       "        vertical-align: middle;\n",
       "    }\n",
       "\n",
       "    .dataframe tbody tr th {\n",
       "        vertical-align: top;\n",
       "    }\n",
       "\n",
       "    .dataframe thead th {\n",
       "        text-align: right;\n",
       "    }\n",
       "</style>\n",
       "<table border=\"1\" class=\"dataframe\">\n",
       "  <thead>\n",
       "    <tr style=\"text-align: right;\">\n",
       "      <th></th>\n",
       "      <th>count</th>\n",
       "      <th>mean</th>\n",
       "      <th>std</th>\n",
       "      <th>min</th>\n",
       "      <th>25%</th>\n",
       "      <th>50%</th>\n",
       "      <th>75%</th>\n",
       "      <th>max</th>\n",
       "      <th>word</th>\n",
       "    </tr>\n",
       "  </thead>\n",
       "  <tbody>\n",
       "    <tr>\n",
       "      <th>0</th>\n",
       "      <td>5757.0</td>\n",
       "      <td>4.317700</td>\n",
       "      <td>1.278730</td>\n",
       "      <td>2.0</td>\n",
       "      <td>3.0</td>\n",
       "      <td>4.0</td>\n",
       "      <td>5.0</td>\n",
       "      <td>13.0</td>\n",
       "      <td>toles</td>\n",
       "    </tr>\n",
       "    <tr>\n",
       "      <th>0</th>\n",
       "      <td>5757.0</td>\n",
       "      <td>4.338371</td>\n",
       "      <td>1.304617</td>\n",
       "      <td>1.0</td>\n",
       "      <td>3.0</td>\n",
       "      <td>4.0</td>\n",
       "      <td>5.0</td>\n",
       "      <td>13.0</td>\n",
       "      <td>tales</td>\n",
       "    </tr>\n",
       "    <tr>\n",
       "      <th>0</th>\n",
       "      <td>5757.0</td>\n",
       "      <td>4.352614</td>\n",
       "      <td>1.284847</td>\n",
       "      <td>1.0</td>\n",
       "      <td>4.0</td>\n",
       "      <td>4.0</td>\n",
       "      <td>5.0</td>\n",
       "      <td>12.0</td>\n",
       "      <td>pores</td>\n",
       "    </tr>\n",
       "    <tr>\n",
       "      <th>0</th>\n",
       "      <td>5757.0</td>\n",
       "      <td>4.352788</td>\n",
       "      <td>1.287299</td>\n",
       "      <td>1.0</td>\n",
       "      <td>4.0</td>\n",
       "      <td>4.0</td>\n",
       "      <td>5.0</td>\n",
       "      <td>13.0</td>\n",
       "      <td>pales</td>\n",
       "    </tr>\n",
       "    <tr>\n",
       "      <th>0</th>\n",
       "      <td>5757.0</td>\n",
       "      <td>4.355046</td>\n",
       "      <td>1.318619</td>\n",
       "      <td>2.0</td>\n",
       "      <td>3.0</td>\n",
       "      <td>4.0</td>\n",
       "      <td>5.0</td>\n",
       "      <td>12.0</td>\n",
       "      <td>tores</td>\n",
       "    </tr>\n",
       "    <tr>\n",
       "      <th>0</th>\n",
       "      <td>5757.0</td>\n",
       "      <td>4.360778</td>\n",
       "      <td>1.322919</td>\n",
       "      <td>1.0</td>\n",
       "      <td>3.0</td>\n",
       "      <td>4.0</td>\n",
       "      <td>5.0</td>\n",
       "      <td>12.0</td>\n",
       "      <td>tares</td>\n",
       "    </tr>\n",
       "    <tr>\n",
       "      <th>0</th>\n",
       "      <td>5757.0</td>\n",
       "      <td>4.362689</td>\n",
       "      <td>1.283529</td>\n",
       "      <td>1.0</td>\n",
       "      <td>4.0</td>\n",
       "      <td>4.0</td>\n",
       "      <td>5.0</td>\n",
       "      <td>13.0</td>\n",
       "      <td>males</td>\n",
       "    </tr>\n",
       "    <tr>\n",
       "      <th>0</th>\n",
       "      <td>5757.0</td>\n",
       "      <td>4.369290</td>\n",
       "      <td>1.287056</td>\n",
       "      <td>1.0</td>\n",
       "      <td>4.0</td>\n",
       "      <td>4.0</td>\n",
       "      <td>5.0</td>\n",
       "      <td>13.0</td>\n",
       "      <td>poles</td>\n",
       "    </tr>\n",
       "    <tr>\n",
       "      <th>0</th>\n",
       "      <td>5757.0</td>\n",
       "      <td>4.373458</td>\n",
       "      <td>1.280708</td>\n",
       "      <td>1.0</td>\n",
       "      <td>4.0</td>\n",
       "      <td>4.0</td>\n",
       "      <td>5.0</td>\n",
       "      <td>13.0</td>\n",
       "      <td>moles</td>\n",
       "    </tr>\n",
       "    <tr>\n",
       "      <th>0</th>\n",
       "      <td>5757.0</td>\n",
       "      <td>4.379538</td>\n",
       "      <td>1.338329</td>\n",
       "      <td>1.0</td>\n",
       "      <td>4.0</td>\n",
       "      <td>4.0</td>\n",
       "      <td>5.0</td>\n",
       "      <td>13.0</td>\n",
       "      <td>tones</td>\n",
       "    </tr>\n",
       "    <tr>\n",
       "      <th>0</th>\n",
       "      <td>5757.0</td>\n",
       "      <td>4.380059</td>\n",
       "      <td>1.341746</td>\n",
       "      <td>2.0</td>\n",
       "      <td>4.0</td>\n",
       "      <td>4.0</td>\n",
       "      <td>5.0</td>\n",
       "      <td>13.0</td>\n",
       "      <td>rales</td>\n",
       "    </tr>\n",
       "    <tr>\n",
       "      <th>0</th>\n",
       "      <td>5757.0</td>\n",
       "      <td>4.382491</td>\n",
       "      <td>1.279398</td>\n",
       "      <td>2.0</td>\n",
       "      <td>4.0</td>\n",
       "      <td>4.0</td>\n",
       "      <td>5.0</td>\n",
       "      <td>13.0</td>\n",
       "      <td>boles</td>\n",
       "    </tr>\n",
       "    <tr>\n",
       "      <th>0</th>\n",
       "      <td>5757.0</td>\n",
       "      <td>4.382665</td>\n",
       "      <td>1.340163</td>\n",
       "      <td>1.0</td>\n",
       "      <td>4.0</td>\n",
       "      <td>4.0</td>\n",
       "      <td>5.0</td>\n",
       "      <td>13.0</td>\n",
       "      <td>lores</td>\n",
       "    </tr>\n",
       "    <tr>\n",
       "      <th>0</th>\n",
       "      <td>5757.0</td>\n",
       "      <td>4.382665</td>\n",
       "      <td>1.306289</td>\n",
       "      <td>1.0</td>\n",
       "      <td>4.0</td>\n",
       "      <td>4.0</td>\n",
       "      <td>5.0</td>\n",
       "      <td>12.0</td>\n",
       "      <td>pares</td>\n",
       "    </tr>\n",
       "    <tr>\n",
       "      <th>0</th>\n",
       "      <td>5757.0</td>\n",
       "      <td>4.383012</td>\n",
       "      <td>1.337209</td>\n",
       "      <td>2.0</td>\n",
       "      <td>4.0</td>\n",
       "      <td>4.0</td>\n",
       "      <td>5.0</td>\n",
       "      <td>13.0</td>\n",
       "      <td>lares</td>\n",
       "    </tr>\n",
       "    <tr>\n",
       "      <th>0</th>\n",
       "      <td>5757.0</td>\n",
       "      <td>4.387528</td>\n",
       "      <td>1.329780</td>\n",
       "      <td>1.0</td>\n",
       "      <td>4.0</td>\n",
       "      <td>4.0</td>\n",
       "      <td>5.0</td>\n",
       "      <td>14.0</td>\n",
       "      <td>lanes</td>\n",
       "    </tr>\n",
       "    <tr>\n",
       "      <th>0</th>\n",
       "      <td>5757.0</td>\n",
       "      <td>4.389786</td>\n",
       "      <td>1.331406</td>\n",
       "      <td>2.0</td>\n",
       "      <td>4.0</td>\n",
       "      <td>4.0</td>\n",
       "      <td>5.0</td>\n",
       "      <td>12.0</td>\n",
       "      <td>rones</td>\n",
       "    </tr>\n",
       "    <tr>\n",
       "      <th>0</th>\n",
       "      <td>5757.0</td>\n",
       "      <td>4.392392</td>\n",
       "      <td>1.292289</td>\n",
       "      <td>1.0</td>\n",
       "      <td>4.0</td>\n",
       "      <td>4.0</td>\n",
       "      <td>5.0</td>\n",
       "      <td>12.0</td>\n",
       "      <td>pones</td>\n",
       "    </tr>\n",
       "    <tr>\n",
       "      <th>0</th>\n",
       "      <td>5757.0</td>\n",
       "      <td>4.395171</td>\n",
       "      <td>1.292787</td>\n",
       "      <td>1.0</td>\n",
       "      <td>4.0</td>\n",
       "      <td>4.0</td>\n",
       "      <td>5.0</td>\n",
       "      <td>13.0</td>\n",
       "      <td>bales</td>\n",
       "    </tr>\n",
       "    <tr>\n",
       "      <th>0</th>\n",
       "      <td>5757.0</td>\n",
       "      <td>4.398645</td>\n",
       "      <td>1.312798</td>\n",
       "      <td>1.0</td>\n",
       "      <td>4.0</td>\n",
       "      <td>4.0</td>\n",
       "      <td>5.0</td>\n",
       "      <td>13.0</td>\n",
       "      <td>gales</td>\n",
       "    </tr>\n",
       "    <tr>\n",
       "      <th>0</th>\n",
       "      <td>5757.0</td>\n",
       "      <td>4.398993</td>\n",
       "      <td>1.300860</td>\n",
       "      <td>1.0</td>\n",
       "      <td>4.0</td>\n",
       "      <td>4.0</td>\n",
       "      <td>5.0</td>\n",
       "      <td>13.0</td>\n",
       "      <td>mores</td>\n",
       "    </tr>\n",
       "    <tr>\n",
       "      <th>0</th>\n",
       "      <td>5757.0</td>\n",
       "      <td>4.401077</td>\n",
       "      <td>1.327066</td>\n",
       "      <td>1.0</td>\n",
       "      <td>4.0</td>\n",
       "      <td>4.0</td>\n",
       "      <td>5.0</td>\n",
       "      <td>13.0</td>\n",
       "      <td>dales</td>\n",
       "    </tr>\n",
       "    <tr>\n",
       "      <th>0</th>\n",
       "      <td>5757.0</td>\n",
       "      <td>4.404030</td>\n",
       "      <td>1.291996</td>\n",
       "      <td>1.0</td>\n",
       "      <td>4.0</td>\n",
       "      <td>4.0</td>\n",
       "      <td>5.0</td>\n",
       "      <td>11.0</td>\n",
       "      <td>pates</td>\n",
       "    </tr>\n",
       "    <tr>\n",
       "      <th>0</th>\n",
       "      <td>5757.0</td>\n",
       "      <td>4.407157</td>\n",
       "      <td>1.323573</td>\n",
       "      <td>2.0</td>\n",
       "      <td>4.0</td>\n",
       "      <td>4.0</td>\n",
       "      <td>5.0</td>\n",
       "      <td>13.0</td>\n",
       "      <td>coles</td>\n",
       "    </tr>\n",
       "    <tr>\n",
       "      <th>0</th>\n",
       "      <td>5757.0</td>\n",
       "      <td>4.408025</td>\n",
       "      <td>1.296582</td>\n",
       "      <td>1.0</td>\n",
       "      <td>4.0</td>\n",
       "      <td>4.0</td>\n",
       "      <td>5.0</td>\n",
       "      <td>11.0</td>\n",
       "      <td>panes</td>\n",
       "    </tr>\n",
       "    <tr>\n",
       "      <th>0</th>\n",
       "      <td>5757.0</td>\n",
       "      <td>4.412194</td>\n",
       "      <td>1.313377</td>\n",
       "      <td>1.0</td>\n",
       "      <td>4.0</td>\n",
       "      <td>4.0</td>\n",
       "      <td>5.0</td>\n",
       "      <td>13.0</td>\n",
       "      <td>mares</td>\n",
       "    </tr>\n",
       "    <tr>\n",
       "      <th>0</th>\n",
       "      <td>5757.0</td>\n",
       "      <td>4.415494</td>\n",
       "      <td>1.333545</td>\n",
       "      <td>1.0</td>\n",
       "      <td>4.0</td>\n",
       "      <td>4.0</td>\n",
       "      <td>5.0</td>\n",
       "      <td>12.0</td>\n",
       "      <td>nares</td>\n",
       "    </tr>\n",
       "    <tr>\n",
       "      <th>0</th>\n",
       "      <td>5757.0</td>\n",
       "      <td>4.417405</td>\n",
       "      <td>1.324515</td>\n",
       "      <td>2.0</td>\n",
       "      <td>4.0</td>\n",
       "      <td>4.0</td>\n",
       "      <td>5.0</td>\n",
       "      <td>12.0</td>\n",
       "      <td>cates</td>\n",
       "    </tr>\n",
       "    <tr>\n",
       "      <th>0</th>\n",
       "      <td>5757.0</td>\n",
       "      <td>4.420010</td>\n",
       "      <td>1.344849</td>\n",
       "      <td>1.0</td>\n",
       "      <td>4.0</td>\n",
       "      <td>4.0</td>\n",
       "      <td>5.0</td>\n",
       "      <td>13.0</td>\n",
       "      <td>cares</td>\n",
       "    </tr>\n",
       "    <tr>\n",
       "      <th>0</th>\n",
       "      <td>5757.0</td>\n",
       "      <td>4.420705</td>\n",
       "      <td>1.338935</td>\n",
       "      <td>1.0</td>\n",
       "      <td>4.0</td>\n",
       "      <td>4.0</td>\n",
       "      <td>5.0</td>\n",
       "      <td>12.0</td>\n",
       "      <td>canes</td>\n",
       "    </tr>\n",
       "    <tr>\n",
       "      <th>0</th>\n",
       "      <td>5757.0</td>\n",
       "      <td>4.424700</td>\n",
       "      <td>1.333576</td>\n",
       "      <td>1.0</td>\n",
       "      <td>4.0</td>\n",
       "      <td>4.0</td>\n",
       "      <td>5.0</td>\n",
       "      <td>12.0</td>\n",
       "      <td>cones</td>\n",
       "    </tr>\n",
       "    <tr>\n",
       "      <th>0</th>\n",
       "      <td>5757.0</td>\n",
       "      <td>4.426090</td>\n",
       "      <td>1.302681</td>\n",
       "      <td>1.0</td>\n",
       "      <td>4.0</td>\n",
       "      <td>4.0</td>\n",
       "      <td>5.0</td>\n",
       "      <td>12.0</td>\n",
       "      <td>manes</td>\n",
       "    </tr>\n",
       "    <tr>\n",
       "      <th>0</th>\n",
       "      <td>5757.0</td>\n",
       "      <td>4.426264</td>\n",
       "      <td>1.331708</td>\n",
       "      <td>1.0</td>\n",
       "      <td>4.0</td>\n",
       "      <td>4.0</td>\n",
       "      <td>5.0</td>\n",
       "      <td>12.0</td>\n",
       "      <td>cotes</td>\n",
       "    </tr>\n",
       "    <tr>\n",
       "      <th>0</th>\n",
       "      <td>5757.0</td>\n",
       "      <td>4.426264</td>\n",
       "      <td>1.340808</td>\n",
       "      <td>1.0</td>\n",
       "      <td>4.0</td>\n",
       "      <td>4.0</td>\n",
       "      <td>5.0</td>\n",
       "      <td>13.0</td>\n",
       "      <td>cores</td>\n",
       "    </tr>\n",
       "    <tr>\n",
       "      <th>0</th>\n",
       "      <td>5757.0</td>\n",
       "      <td>4.429564</td>\n",
       "      <td>1.335664</td>\n",
       "      <td>1.0</td>\n",
       "      <td>4.0</td>\n",
       "      <td>4.0</td>\n",
       "      <td>5.0</td>\n",
       "      <td>12.0</td>\n",
       "      <td>dares</td>\n",
       "    </tr>\n",
       "    <tr>\n",
       "      <th>0</th>\n",
       "      <td>5757.0</td>\n",
       "      <td>4.439639</td>\n",
       "      <td>1.297902</td>\n",
       "      <td>2.0</td>\n",
       "      <td>4.0</td>\n",
       "      <td>4.0</td>\n",
       "      <td>5.0</td>\n",
       "      <td>13.0</td>\n",
       "      <td>cames</td>\n",
       "    </tr>\n",
       "    <tr>\n",
       "      <th>0</th>\n",
       "      <td>5757.0</td>\n",
       "      <td>4.440334</td>\n",
       "      <td>1.320230</td>\n",
       "      <td>1.0</td>\n",
       "      <td>4.0</td>\n",
       "      <td>4.0</td>\n",
       "      <td>5.0</td>\n",
       "      <td>12.0</td>\n",
       "      <td>bares</td>\n",
       "    </tr>\n",
       "    <tr>\n",
       "      <th>0</th>\n",
       "      <td>5757.0</td>\n",
       "      <td>4.442244</td>\n",
       "      <td>1.319394</td>\n",
       "      <td>1.0</td>\n",
       "      <td>4.0</td>\n",
       "      <td>4.0</td>\n",
       "      <td>5.0</td>\n",
       "      <td>12.0</td>\n",
       "      <td>bones</td>\n",
       "    </tr>\n",
       "    <tr>\n",
       "      <th>0</th>\n",
       "      <td>5757.0</td>\n",
       "      <td>4.445197</td>\n",
       "      <td>1.309210</td>\n",
       "      <td>1.0</td>\n",
       "      <td>4.0</td>\n",
       "      <td>4.0</td>\n",
       "      <td>5.0</td>\n",
       "      <td>12.0</td>\n",
       "      <td>bates</td>\n",
       "    </tr>\n",
       "    <tr>\n",
       "      <th>0</th>\n",
       "      <td>5757.0</td>\n",
       "      <td>4.447282</td>\n",
       "      <td>1.314064</td>\n",
       "      <td>1.0</td>\n",
       "      <td>4.0</td>\n",
       "      <td>4.0</td>\n",
       "      <td>5.0</td>\n",
       "      <td>12.0</td>\n",
       "      <td>bores</td>\n",
       "    </tr>\n",
       "    <tr>\n",
       "      <th>0</th>\n",
       "      <td>5757.0</td>\n",
       "      <td>4.464825</td>\n",
       "      <td>1.346122</td>\n",
       "      <td>1.0</td>\n",
       "      <td>4.0</td>\n",
       "      <td>4.0</td>\n",
       "      <td>5.0</td>\n",
       "      <td>12.0</td>\n",
       "      <td>hares</td>\n",
       "    </tr>\n",
       "    <tr>\n",
       "      <th>0</th>\n",
       "      <td>5757.0</td>\n",
       "      <td>4.468473</td>\n",
       "      <td>1.343629</td>\n",
       "      <td>1.0</td>\n",
       "      <td>4.0</td>\n",
       "      <td>4.0</td>\n",
       "      <td>5.0</td>\n",
       "      <td>12.0</td>\n",
       "      <td>gores</td>\n",
       "    </tr>\n",
       "    <tr>\n",
       "      <th>0</th>\n",
       "      <td>5757.0</td>\n",
       "      <td>4.469863</td>\n",
       "      <td>1.313453</td>\n",
       "      <td>1.0</td>\n",
       "      <td>4.0</td>\n",
       "      <td>4.0</td>\n",
       "      <td>5.0</td>\n",
       "      <td>12.0</td>\n",
       "      <td>banes</td>\n",
       "    </tr>\n",
       "    <tr>\n",
       "      <th>0</th>\n",
       "      <td>5757.0</td>\n",
       "      <td>4.471079</td>\n",
       "      <td>1.328343</td>\n",
       "      <td>1.0</td>\n",
       "      <td>4.0</td>\n",
       "      <td>4.0</td>\n",
       "      <td>5.0</td>\n",
       "      <td>12.0</td>\n",
       "      <td>fares</td>\n",
       "    </tr>\n",
       "    <tr>\n",
       "      <th>0</th>\n",
       "      <td>5757.0</td>\n",
       "      <td>4.475074</td>\n",
       "      <td>1.313827</td>\n",
       "      <td>1.0</td>\n",
       "      <td>4.0</td>\n",
       "      <td>4.0</td>\n",
       "      <td>5.0</td>\n",
       "      <td>12.0</td>\n",
       "      <td>fores</td>\n",
       "    </tr>\n",
       "    <tr>\n",
       "      <th>0</th>\n",
       "      <td>5757.0</td>\n",
       "      <td>4.488101</td>\n",
       "      <td>1.326773</td>\n",
       "      <td>2.0</td>\n",
       "      <td>4.0</td>\n",
       "      <td>4.0</td>\n",
       "      <td>5.0</td>\n",
       "      <td>12.0</td>\n",
       "      <td>fanes</td>\n",
       "    </tr>\n",
       "    <tr>\n",
       "      <th>0</th>\n",
       "      <td>5757.0</td>\n",
       "      <td>4.488449</td>\n",
       "      <td>1.335910</td>\n",
       "      <td>1.0</td>\n",
       "      <td>4.0</td>\n",
       "      <td>4.0</td>\n",
       "      <td>5.0</td>\n",
       "      <td>12.0</td>\n",
       "      <td>wares</td>\n",
       "    </tr>\n",
       "    <tr>\n",
       "      <th>0</th>\n",
       "      <td>5757.0</td>\n",
       "      <td>4.495397</td>\n",
       "      <td>1.339589</td>\n",
       "      <td>2.0</td>\n",
       "      <td>4.0</td>\n",
       "      <td>4.0</td>\n",
       "      <td>5.0</td>\n",
       "      <td>13.0</td>\n",
       "      <td>kores</td>\n",
       "    </tr>\n",
       "    <tr>\n",
       "      <th>0</th>\n",
       "      <td>5757.0</td>\n",
       "      <td>4.541080</td>\n",
       "      <td>1.350079</td>\n",
       "      <td>2.0</td>\n",
       "      <td>4.0</td>\n",
       "      <td>4.0</td>\n",
       "      <td>5.0</td>\n",
       "      <td>13.0</td>\n",
       "      <td>vares</td>\n",
       "    </tr>\n",
       "    <tr>\n",
       "      <th>0</th>\n",
       "      <td>5757.0</td>\n",
       "      <td>4.583464</td>\n",
       "      <td>1.433561</td>\n",
       "      <td>2.0</td>\n",
       "      <td>4.0</td>\n",
       "      <td>4.0</td>\n",
       "      <td>5.0</td>\n",
       "      <td>13.0</td>\n",
       "      <td>kaies</td>\n",
       "    </tr>\n",
       "  </tbody>\n",
       "</table>\n",
       "</div>"
      ],
      "text/plain": [
       "    count      mean       std  min  25%  50%  75%   max   word\n",
       "0  5757.0  4.317700  1.278730  2.0  3.0  4.0  5.0  13.0  toles\n",
       "0  5757.0  4.338371  1.304617  1.0  3.0  4.0  5.0  13.0  tales\n",
       "0  5757.0  4.352614  1.284847  1.0  4.0  4.0  5.0  12.0  pores\n",
       "0  5757.0  4.352788  1.287299  1.0  4.0  4.0  5.0  13.0  pales\n",
       "0  5757.0  4.355046  1.318619  2.0  3.0  4.0  5.0  12.0  tores\n",
       "0  5757.0  4.360778  1.322919  1.0  3.0  4.0  5.0  12.0  tares\n",
       "0  5757.0  4.362689  1.283529  1.0  4.0  4.0  5.0  13.0  males\n",
       "0  5757.0  4.369290  1.287056  1.0  4.0  4.0  5.0  13.0  poles\n",
       "0  5757.0  4.373458  1.280708  1.0  4.0  4.0  5.0  13.0  moles\n",
       "0  5757.0  4.379538  1.338329  1.0  4.0  4.0  5.0  13.0  tones\n",
       "0  5757.0  4.380059  1.341746  2.0  4.0  4.0  5.0  13.0  rales\n",
       "0  5757.0  4.382491  1.279398  2.0  4.0  4.0  5.0  13.0  boles\n",
       "0  5757.0  4.382665  1.340163  1.0  4.0  4.0  5.0  13.0  lores\n",
       "0  5757.0  4.382665  1.306289  1.0  4.0  4.0  5.0  12.0  pares\n",
       "0  5757.0  4.383012  1.337209  2.0  4.0  4.0  5.0  13.0  lares\n",
       "0  5757.0  4.387528  1.329780  1.0  4.0  4.0  5.0  14.0  lanes\n",
       "0  5757.0  4.389786  1.331406  2.0  4.0  4.0  5.0  12.0  rones\n",
       "0  5757.0  4.392392  1.292289  1.0  4.0  4.0  5.0  12.0  pones\n",
       "0  5757.0  4.395171  1.292787  1.0  4.0  4.0  5.0  13.0  bales\n",
       "0  5757.0  4.398645  1.312798  1.0  4.0  4.0  5.0  13.0  gales\n",
       "0  5757.0  4.398993  1.300860  1.0  4.0  4.0  5.0  13.0  mores\n",
       "0  5757.0  4.401077  1.327066  1.0  4.0  4.0  5.0  13.0  dales\n",
       "0  5757.0  4.404030  1.291996  1.0  4.0  4.0  5.0  11.0  pates\n",
       "0  5757.0  4.407157  1.323573  2.0  4.0  4.0  5.0  13.0  coles\n",
       "0  5757.0  4.408025  1.296582  1.0  4.0  4.0  5.0  11.0  panes\n",
       "0  5757.0  4.412194  1.313377  1.0  4.0  4.0  5.0  13.0  mares\n",
       "0  5757.0  4.415494  1.333545  1.0  4.0  4.0  5.0  12.0  nares\n",
       "0  5757.0  4.417405  1.324515  2.0  4.0  4.0  5.0  12.0  cates\n",
       "0  5757.0  4.420010  1.344849  1.0  4.0  4.0  5.0  13.0  cares\n",
       "0  5757.0  4.420705  1.338935  1.0  4.0  4.0  5.0  12.0  canes\n",
       "0  5757.0  4.424700  1.333576  1.0  4.0  4.0  5.0  12.0  cones\n",
       "0  5757.0  4.426090  1.302681  1.0  4.0  4.0  5.0  12.0  manes\n",
       "0  5757.0  4.426264  1.331708  1.0  4.0  4.0  5.0  12.0  cotes\n",
       "0  5757.0  4.426264  1.340808  1.0  4.0  4.0  5.0  13.0  cores\n",
       "0  5757.0  4.429564  1.335664  1.0  4.0  4.0  5.0  12.0  dares\n",
       "0  5757.0  4.439639  1.297902  2.0  4.0  4.0  5.0  13.0  cames\n",
       "0  5757.0  4.440334  1.320230  1.0  4.0  4.0  5.0  12.0  bares\n",
       "0  5757.0  4.442244  1.319394  1.0  4.0  4.0  5.0  12.0  bones\n",
       "0  5757.0  4.445197  1.309210  1.0  4.0  4.0  5.0  12.0  bates\n",
       "0  5757.0  4.447282  1.314064  1.0  4.0  4.0  5.0  12.0  bores\n",
       "0  5757.0  4.464825  1.346122  1.0  4.0  4.0  5.0  12.0  hares\n",
       "0  5757.0  4.468473  1.343629  1.0  4.0  4.0  5.0  12.0  gores\n",
       "0  5757.0  4.469863  1.313453  1.0  4.0  4.0  5.0  12.0  banes\n",
       "0  5757.0  4.471079  1.328343  1.0  4.0  4.0  5.0  12.0  fares\n",
       "0  5757.0  4.475074  1.313827  1.0  4.0  4.0  5.0  12.0  fores\n",
       "0  5757.0  4.488101  1.326773  2.0  4.0  4.0  5.0  12.0  fanes\n",
       "0  5757.0  4.488449  1.335910  1.0  4.0  4.0  5.0  12.0  wares\n",
       "0  5757.0  4.495397  1.339589  2.0  4.0  4.0  5.0  13.0  kores\n",
       "0  5757.0  4.541080  1.350079  2.0  4.0  4.0  5.0  13.0  vares\n",
       "0  5757.0  4.583464  1.433561  2.0  4.0  4.0  5.0  13.0  kaies"
      ]
     },
     "execution_count": 49,
     "metadata": {},
     "output_type": "execute_result"
    }
   ],
   "source": [
    "singles_results.sort_values('mean')"
   ]
  },
  {
   "cell_type": "code",
   "execution_count": 50,
   "id": "72a0117c-a163-404a-858a-e56239882410",
   "metadata": {},
   "outputs": [],
   "source": [
    "singles_results.to_csv('single_words.csv', index=False)"
   ]
  },
  {
   "cell_type": "code",
   "execution_count": 52,
   "id": "86dd2913-200f-469b-b08b-2a372ce1d253",
   "metadata": {},
   "outputs": [
    {
     "name": "stdout",
     "output_type": "stream",
     "text": [
      "--------------------\n",
      "toles\n",
      "--------------------\n",
      "['rainy', 'dairy', 'fairy', 'marid', 'canid', 'hairy', 'caird', 'vairy', 'ranid', 'cairn']\n",
      "[---- toles, rainy ----]\n"
     ]
    },
    {
     "name": "stderr",
     "output_type": "stream",
     "text": [
      "[Parallel(n_jobs=5)]: Using backend LokyBackend with 5 concurrent workers.\n",
      "[Parallel(n_jobs=5)]: Done  22 tasks      | elapsed:    0.7s\n",
      "[Parallel(n_jobs=5)]: Done 669 tasks      | elapsed:    5.1s\n",
      "[Parallel(n_jobs=5)]: Done 1949 tasks      | elapsed:   14.0s\n",
      "[Parallel(n_jobs=5)]: Done 3741 tasks      | elapsed:   28.6s\n",
      "[Parallel(n_jobs=5)]: Done 5757 out of 5757 | elapsed:   43.5s finished\n"
     ]
    },
    {
     "data": {
      "text/html": [
       "<div>\n",
       "<style scoped>\n",
       "    .dataframe tbody tr th:only-of-type {\n",
       "        vertical-align: middle;\n",
       "    }\n",
       "\n",
       "    .dataframe tbody tr th {\n",
       "        vertical-align: top;\n",
       "    }\n",
       "\n",
       "    .dataframe thead th {\n",
       "        text-align: right;\n",
       "    }\n",
       "</style>\n",
       "<table border=\"1\" class=\"dataframe\">\n",
       "  <thead>\n",
       "    <tr style=\"text-align: right;\">\n",
       "      <th></th>\n",
       "      <th>count</th>\n",
       "      <th>mean</th>\n",
       "      <th>std</th>\n",
       "      <th>min</th>\n",
       "      <th>25%</th>\n",
       "      <th>50%</th>\n",
       "      <th>75%</th>\n",
       "      <th>max</th>\n",
       "      <th>word1</th>\n",
       "      <th>word2</th>\n",
       "    </tr>\n",
       "  </thead>\n",
       "  <tbody>\n",
       "    <tr>\n",
       "      <th>0</th>\n",
       "      <td>5757.0</td>\n",
       "      <td>4.261247</td>\n",
       "      <td>1.232316</td>\n",
       "      <td>2.0</td>\n",
       "      <td>3.0</td>\n",
       "      <td>4.0</td>\n",
       "      <td>5.0</td>\n",
       "      <td>13.0</td>\n",
       "      <td>toles</td>\n",
       "      <td>rainy</td>\n",
       "    </tr>\n",
       "  </tbody>\n",
       "</table>\n",
       "</div>"
      ],
      "text/plain": [
       "    count      mean       std  min  25%  50%  75%   max  word1  word2\n",
       "0  5757.0  4.261247  1.232316  2.0  3.0  4.0  5.0  13.0  toles  rainy"
      ]
     },
     "metadata": {},
     "output_type": "display_data"
    },
    {
     "name": "stderr",
     "output_type": "stream",
     "text": [
      "[Parallel(n_jobs=5)]: Using backend LokyBackend with 5 concurrent workers.\n"
     ]
    },
    {
     "name": "stdout",
     "output_type": "stream",
     "text": [
      "[---- toles, dairy ----]\n"
     ]
    },
    {
     "name": "stderr",
     "output_type": "stream",
     "text": [
      "[Parallel(n_jobs=5)]: Done  38 tasks      | elapsed:    0.3s\n",
      "[Parallel(n_jobs=5)]: Done 774 tasks      | elapsed:    5.2s\n",
      "[Parallel(n_jobs=5)]: Done 2054 tasks      | elapsed:   14.3s\n",
      "[Parallel(n_jobs=5)]: Done 3846 tasks      | elapsed:   29.0s\n",
      "[Parallel(n_jobs=5)]: Done 5748 out of 5757 | elapsed:   44.0s remaining:    0.1s\n",
      "[Parallel(n_jobs=5)]: Done 5757 out of 5757 | elapsed:   44.1s finished\n"
     ]
    },
    {
     "data": {
      "text/html": [
       "<div>\n",
       "<style scoped>\n",
       "    .dataframe tbody tr th:only-of-type {\n",
       "        vertical-align: middle;\n",
       "    }\n",
       "\n",
       "    .dataframe tbody tr th {\n",
       "        vertical-align: top;\n",
       "    }\n",
       "\n",
       "    .dataframe thead th {\n",
       "        text-align: right;\n",
       "    }\n",
       "</style>\n",
       "<table border=\"1\" class=\"dataframe\">\n",
       "  <thead>\n",
       "    <tr style=\"text-align: right;\">\n",
       "      <th></th>\n",
       "      <th>count</th>\n",
       "      <th>mean</th>\n",
       "      <th>std</th>\n",
       "      <th>min</th>\n",
       "      <th>25%</th>\n",
       "      <th>50%</th>\n",
       "      <th>75%</th>\n",
       "      <th>max</th>\n",
       "      <th>word1</th>\n",
       "      <th>word2</th>\n",
       "    </tr>\n",
       "  </thead>\n",
       "  <tbody>\n",
       "    <tr>\n",
       "      <th>0</th>\n",
       "      <td>5757.0</td>\n",
       "      <td>4.264374</td>\n",
       "      <td>1.207863</td>\n",
       "      <td>2.0</td>\n",
       "      <td>3.0</td>\n",
       "      <td>4.0</td>\n",
       "      <td>5.0</td>\n",
       "      <td>12.0</td>\n",
       "      <td>toles</td>\n",
       "      <td>dairy</td>\n",
       "    </tr>\n",
       "  </tbody>\n",
       "</table>\n",
       "</div>"
      ],
      "text/plain": [
       "    count      mean       std  min  25%  50%  75%   max  word1  word2\n",
       "0  5757.0  4.264374  1.207863  2.0  3.0  4.0  5.0  12.0  toles  dairy"
      ]
     },
     "metadata": {},
     "output_type": "display_data"
    },
    {
     "name": "stderr",
     "output_type": "stream",
     "text": [
      "[Parallel(n_jobs=5)]: Using backend LokyBackend with 5 concurrent workers.\n"
     ]
    },
    {
     "name": "stdout",
     "output_type": "stream",
     "text": [
      "[---- toles, fairy ----]\n"
     ]
    },
    {
     "name": "stderr",
     "output_type": "stream",
     "text": [
      "[Parallel(n_jobs=5)]: Done  38 tasks      | elapsed:    0.3s\n",
      "[Parallel(n_jobs=5)]: Done 774 tasks      | elapsed:    5.4s\n",
      "[Parallel(n_jobs=5)]: Done 2054 tasks      | elapsed:   15.0s\n",
      "[Parallel(n_jobs=5)]: Done 3846 tasks      | elapsed:   28.6s\n",
      "[Parallel(n_jobs=5)]: Done 5757 out of 5757 | elapsed:   43.7s finished\n"
     ]
    },
    {
     "data": {
      "text/html": [
       "<div>\n",
       "<style scoped>\n",
       "    .dataframe tbody tr th:only-of-type {\n",
       "        vertical-align: middle;\n",
       "    }\n",
       "\n",
       "    .dataframe tbody tr th {\n",
       "        vertical-align: top;\n",
       "    }\n",
       "\n",
       "    .dataframe thead th {\n",
       "        text-align: right;\n",
       "    }\n",
       "</style>\n",
       "<table border=\"1\" class=\"dataframe\">\n",
       "  <thead>\n",
       "    <tr style=\"text-align: right;\">\n",
       "      <th></th>\n",
       "      <th>count</th>\n",
       "      <th>mean</th>\n",
       "      <th>std</th>\n",
       "      <th>min</th>\n",
       "      <th>25%</th>\n",
       "      <th>50%</th>\n",
       "      <th>75%</th>\n",
       "      <th>max</th>\n",
       "      <th>word1</th>\n",
       "      <th>word2</th>\n",
       "    </tr>\n",
       "  </thead>\n",
       "  <tbody>\n",
       "    <tr>\n",
       "      <th>0</th>\n",
       "      <td>5757.0</td>\n",
       "      <td>4.326212</td>\n",
       "      <td>1.224417</td>\n",
       "      <td>2.0</td>\n",
       "      <td>3.0</td>\n",
       "      <td>4.0</td>\n",
       "      <td>5.0</td>\n",
       "      <td>12.0</td>\n",
       "      <td>toles</td>\n",
       "      <td>fairy</td>\n",
       "    </tr>\n",
       "  </tbody>\n",
       "</table>\n",
       "</div>"
      ],
      "text/plain": [
       "    count      mean       std  min  25%  50%  75%   max  word1  word2\n",
       "0  5757.0  4.326212  1.224417  2.0  3.0  4.0  5.0  12.0  toles  fairy"
      ]
     },
     "metadata": {},
     "output_type": "display_data"
    },
    {
     "name": "stderr",
     "output_type": "stream",
     "text": [
      "[Parallel(n_jobs=5)]: Using backend LokyBackend with 5 concurrent workers.\n"
     ]
    },
    {
     "name": "stdout",
     "output_type": "stream",
     "text": [
      "[---- toles, marid ----]\n"
     ]
    },
    {
     "name": "stderr",
     "output_type": "stream",
     "text": [
      "[Parallel(n_jobs=5)]: Done  38 tasks      | elapsed:    0.3s\n",
      "[Parallel(n_jobs=5)]: Done 774 tasks      | elapsed:    6.0s\n",
      "[Parallel(n_jobs=5)]: Done 2054 tasks      | elapsed:   16.1s\n",
      "[Parallel(n_jobs=5)]: Done 3846 tasks      | elapsed:   30.9s\n",
      "[Parallel(n_jobs=5)]: Done 5757 out of 5757 | elapsed:   46.7s finished\n"
     ]
    },
    {
     "data": {
      "text/html": [
       "<div>\n",
       "<style scoped>\n",
       "    .dataframe tbody tr th:only-of-type {\n",
       "        vertical-align: middle;\n",
       "    }\n",
       "\n",
       "    .dataframe tbody tr th {\n",
       "        vertical-align: top;\n",
       "    }\n",
       "\n",
       "    .dataframe thead th {\n",
       "        text-align: right;\n",
       "    }\n",
       "</style>\n",
       "<table border=\"1\" class=\"dataframe\">\n",
       "  <thead>\n",
       "    <tr style=\"text-align: right;\">\n",
       "      <th></th>\n",
       "      <th>count</th>\n",
       "      <th>mean</th>\n",
       "      <th>std</th>\n",
       "      <th>min</th>\n",
       "      <th>25%</th>\n",
       "      <th>50%</th>\n",
       "      <th>75%</th>\n",
       "      <th>max</th>\n",
       "      <th>word1</th>\n",
       "      <th>word2</th>\n",
       "    </tr>\n",
       "  </thead>\n",
       "  <tbody>\n",
       "    <tr>\n",
       "      <th>0</th>\n",
       "      <td>5757.0</td>\n",
       "      <td>4.174744</td>\n",
       "      <td>1.133406</td>\n",
       "      <td>3.0</td>\n",
       "      <td>3.0</td>\n",
       "      <td>4.0</td>\n",
       "      <td>5.0</td>\n",
       "      <td>12.0</td>\n",
       "      <td>toles</td>\n",
       "      <td>marid</td>\n",
       "    </tr>\n",
       "  </tbody>\n",
       "</table>\n",
       "</div>"
      ],
      "text/plain": [
       "    count      mean       std  min  25%  50%  75%   max  word1  word2\n",
       "0  5757.0  4.174744  1.133406  3.0  3.0  4.0  5.0  12.0  toles  marid"
      ]
     },
     "metadata": {},
     "output_type": "display_data"
    },
    {
     "name": "stderr",
     "output_type": "stream",
     "text": [
      "[Parallel(n_jobs=5)]: Using backend LokyBackend with 5 concurrent workers.\n"
     ]
    },
    {
     "name": "stdout",
     "output_type": "stream",
     "text": [
      "[---- toles, canid ----]\n"
     ]
    },
    {
     "name": "stderr",
     "output_type": "stream",
     "text": [
      "[Parallel(n_jobs=5)]: Done  38 tasks      | elapsed:    0.4s\n",
      "[Parallel(n_jobs=5)]: Done 422 tasks      | elapsed:    3.2s\n",
      "[Parallel(n_jobs=5)]: Done 1062 tasks      | elapsed:    8.6s\n",
      "[Parallel(n_jobs=5)]: Done 1958 tasks      | elapsed:   15.7s\n",
      "[Parallel(n_jobs=5)]: Done 3110 tasks      | elapsed:   24.9s\n",
      "[Parallel(n_jobs=5)]: Done 4518 tasks      | elapsed:   35.3s\n",
      "[Parallel(n_jobs=5)]: Done 5748 out of 5757 | elapsed:   44.7s remaining:    0.1s\n",
      "[Parallel(n_jobs=5)]: Done 5757 out of 5757 | elapsed:   44.7s finished\n"
     ]
    },
    {
     "data": {
      "text/html": [
       "<div>\n",
       "<style scoped>\n",
       "    .dataframe tbody tr th:only-of-type {\n",
       "        vertical-align: middle;\n",
       "    }\n",
       "\n",
       "    .dataframe tbody tr th {\n",
       "        vertical-align: top;\n",
       "    }\n",
       "\n",
       "    .dataframe thead th {\n",
       "        text-align: right;\n",
       "    }\n",
       "</style>\n",
       "<table border=\"1\" class=\"dataframe\">\n",
       "  <thead>\n",
       "    <tr style=\"text-align: right;\">\n",
       "      <th></th>\n",
       "      <th>count</th>\n",
       "      <th>mean</th>\n",
       "      <th>std</th>\n",
       "      <th>min</th>\n",
       "      <th>25%</th>\n",
       "      <th>50%</th>\n",
       "      <th>75%</th>\n",
       "      <th>max</th>\n",
       "      <th>word1</th>\n",
       "      <th>word2</th>\n",
       "    </tr>\n",
       "  </thead>\n",
       "  <tbody>\n",
       "    <tr>\n",
       "      <th>0</th>\n",
       "      <td>5757.0</td>\n",
       "      <td>4.204273</td>\n",
       "      <td>1.182436</td>\n",
       "      <td>3.0</td>\n",
       "      <td>3.0</td>\n",
       "      <td>4.0</td>\n",
       "      <td>5.0</td>\n",
       "      <td>12.0</td>\n",
       "      <td>toles</td>\n",
       "      <td>canid</td>\n",
       "    </tr>\n",
       "  </tbody>\n",
       "</table>\n",
       "</div>"
      ],
      "text/plain": [
       "    count      mean       std  min  25%  50%  75%   max  word1  word2\n",
       "0  5757.0  4.204273  1.182436  3.0  3.0  4.0  5.0  12.0  toles  canid"
      ]
     },
     "metadata": {},
     "output_type": "display_data"
    },
    {
     "name": "stderr",
     "output_type": "stream",
     "text": [
      "[Parallel(n_jobs=5)]: Using backend LokyBackend with 5 concurrent workers.\n"
     ]
    },
    {
     "name": "stdout",
     "output_type": "stream",
     "text": [
      "[---- toles, hairy ----]\n"
     ]
    },
    {
     "name": "stderr",
     "output_type": "stream",
     "text": [
      "[Parallel(n_jobs=5)]: Done  38 tasks      | elapsed:    0.3s\n",
      "[Parallel(n_jobs=5)]: Done 774 tasks      | elapsed:    5.3s\n",
      "[Parallel(n_jobs=5)]: Done 2054 tasks      | elapsed:   14.6s\n",
      "[Parallel(n_jobs=5)]: Done 3846 tasks      | elapsed:   28.4s\n",
      "[Parallel(n_jobs=5)]: Done 5748 out of 5757 | elapsed:   42.9s remaining:    0.1s\n",
      "[Parallel(n_jobs=5)]: Done 5757 out of 5757 | elapsed:   43.0s finished\n"
     ]
    },
    {
     "data": {
      "text/html": [
       "<div>\n",
       "<style scoped>\n",
       "    .dataframe tbody tr th:only-of-type {\n",
       "        vertical-align: middle;\n",
       "    }\n",
       "\n",
       "    .dataframe tbody tr th {\n",
       "        vertical-align: top;\n",
       "    }\n",
       "\n",
       "    .dataframe thead th {\n",
       "        text-align: right;\n",
       "    }\n",
       "</style>\n",
       "<table border=\"1\" class=\"dataframe\">\n",
       "  <thead>\n",
       "    <tr style=\"text-align: right;\">\n",
       "      <th></th>\n",
       "      <th>count</th>\n",
       "      <th>mean</th>\n",
       "      <th>std</th>\n",
       "      <th>min</th>\n",
       "      <th>25%</th>\n",
       "      <th>50%</th>\n",
       "      <th>75%</th>\n",
       "      <th>max</th>\n",
       "      <th>word1</th>\n",
       "      <th>word2</th>\n",
       "    </tr>\n",
       "  </thead>\n",
       "  <tbody>\n",
       "    <tr>\n",
       "      <th>0</th>\n",
       "      <td>5757.0</td>\n",
       "      <td>4.315789</td>\n",
       "      <td>1.238982</td>\n",
       "      <td>2.0</td>\n",
       "      <td>3.0</td>\n",
       "      <td>4.0</td>\n",
       "      <td>5.0</td>\n",
       "      <td>12.0</td>\n",
       "      <td>toles</td>\n",
       "      <td>hairy</td>\n",
       "    </tr>\n",
       "  </tbody>\n",
       "</table>\n",
       "</div>"
      ],
      "text/plain": [
       "    count      mean       std  min  25%  50%  75%   max  word1  word2\n",
       "0  5757.0  4.315789  1.238982  2.0  3.0  4.0  5.0  12.0  toles  hairy"
      ]
     },
     "metadata": {},
     "output_type": "display_data"
    },
    {
     "name": "stderr",
     "output_type": "stream",
     "text": [
      "[Parallel(n_jobs=5)]: Using backend LokyBackend with 5 concurrent workers.\n"
     ]
    },
    {
     "name": "stdout",
     "output_type": "stream",
     "text": [
      "[---- toles, caird ----]\n"
     ]
    },
    {
     "name": "stderr",
     "output_type": "stream",
     "text": [
      "[Parallel(n_jobs=5)]: Done  38 tasks      | elapsed:    0.3s\n",
      "[Parallel(n_jobs=5)]: Done 774 tasks      | elapsed:    5.1s\n",
      "[Parallel(n_jobs=5)]: Done 2054 tasks      | elapsed:   14.0s\n",
      "[Parallel(n_jobs=5)]: Done 3846 tasks      | elapsed:   27.4s\n",
      "[Parallel(n_jobs=5)]: Done 5748 out of 5757 | elapsed:   41.5s remaining:    0.1s\n",
      "[Parallel(n_jobs=5)]: Done 5757 out of 5757 | elapsed:   41.6s finished\n"
     ]
    },
    {
     "data": {
      "text/html": [
       "<div>\n",
       "<style scoped>\n",
       "    .dataframe tbody tr th:only-of-type {\n",
       "        vertical-align: middle;\n",
       "    }\n",
       "\n",
       "    .dataframe tbody tr th {\n",
       "        vertical-align: top;\n",
       "    }\n",
       "\n",
       "    .dataframe thead th {\n",
       "        text-align: right;\n",
       "    }\n",
       "</style>\n",
       "<table border=\"1\" class=\"dataframe\">\n",
       "  <thead>\n",
       "    <tr style=\"text-align: right;\">\n",
       "      <th></th>\n",
       "      <th>count</th>\n",
       "      <th>mean</th>\n",
       "      <th>std</th>\n",
       "      <th>min</th>\n",
       "      <th>25%</th>\n",
       "      <th>50%</th>\n",
       "      <th>75%</th>\n",
       "      <th>max</th>\n",
       "      <th>word1</th>\n",
       "      <th>word2</th>\n",
       "    </tr>\n",
       "  </thead>\n",
       "  <tbody>\n",
       "    <tr>\n",
       "      <th>0</th>\n",
       "      <td>5757.0</td>\n",
       "      <td>4.187771</td>\n",
       "      <td>1.172272</td>\n",
       "      <td>3.0</td>\n",
       "      <td>3.0</td>\n",
       "      <td>4.0</td>\n",
       "      <td>5.0</td>\n",
       "      <td>12.0</td>\n",
       "      <td>toles</td>\n",
       "      <td>caird</td>\n",
       "    </tr>\n",
       "  </tbody>\n",
       "</table>\n",
       "</div>"
      ],
      "text/plain": [
       "    count      mean       std  min  25%  50%  75%   max  word1  word2\n",
       "0  5757.0  4.187771  1.172272  3.0  3.0  4.0  5.0  12.0  toles  caird"
      ]
     },
     "metadata": {},
     "output_type": "display_data"
    },
    {
     "name": "stderr",
     "output_type": "stream",
     "text": [
      "[Parallel(n_jobs=5)]: Using backend LokyBackend with 5 concurrent workers.\n"
     ]
    },
    {
     "name": "stdout",
     "output_type": "stream",
     "text": [
      "[---- toles, vairy ----]\n"
     ]
    },
    {
     "name": "stderr",
     "output_type": "stream",
     "text": [
      "[Parallel(n_jobs=5)]: Done  38 tasks      | elapsed:    0.3s\n",
      "[Parallel(n_jobs=5)]: Done 774 tasks      | elapsed:    5.4s\n",
      "[Parallel(n_jobs=5)]: Done 2054 tasks      | elapsed:   15.0s\n",
      "[Parallel(n_jobs=5)]: Done 3846 tasks      | elapsed:   29.8s\n",
      "[Parallel(n_jobs=5)]: Done 5748 out of 5757 | elapsed:   45.7s remaining:    0.1s\n",
      "[Parallel(n_jobs=5)]: Done 5757 out of 5757 | elapsed:   45.8s finished\n"
     ]
    },
    {
     "data": {
      "text/html": [
       "<div>\n",
       "<style scoped>\n",
       "    .dataframe tbody tr th:only-of-type {\n",
       "        vertical-align: middle;\n",
       "    }\n",
       "\n",
       "    .dataframe tbody tr th {\n",
       "        vertical-align: top;\n",
       "    }\n",
       "\n",
       "    .dataframe thead th {\n",
       "        text-align: right;\n",
       "    }\n",
       "</style>\n",
       "<table border=\"1\" class=\"dataframe\">\n",
       "  <thead>\n",
       "    <tr style=\"text-align: right;\">\n",
       "      <th></th>\n",
       "      <th>count</th>\n",
       "      <th>mean</th>\n",
       "      <th>std</th>\n",
       "      <th>min</th>\n",
       "      <th>25%</th>\n",
       "      <th>50%</th>\n",
       "      <th>75%</th>\n",
       "      <th>max</th>\n",
       "      <th>word1</th>\n",
       "      <th>word2</th>\n",
       "    </tr>\n",
       "  </thead>\n",
       "  <tbody>\n",
       "    <tr>\n",
       "      <th>0</th>\n",
       "      <td>5757.0</td>\n",
       "      <td>4.393087</td>\n",
       "      <td>1.252617</td>\n",
       "      <td>3.0</td>\n",
       "      <td>4.0</td>\n",
       "      <td>4.0</td>\n",
       "      <td>5.0</td>\n",
       "      <td>13.0</td>\n",
       "      <td>toles</td>\n",
       "      <td>vairy</td>\n",
       "    </tr>\n",
       "  </tbody>\n",
       "</table>\n",
       "</div>"
      ],
      "text/plain": [
       "    count      mean       std  min  25%  50%  75%   max  word1  word2\n",
       "0  5757.0  4.393087  1.252617  3.0  4.0  4.0  5.0  13.0  toles  vairy"
      ]
     },
     "metadata": {},
     "output_type": "display_data"
    },
    {
     "name": "stderr",
     "output_type": "stream",
     "text": [
      "[Parallel(n_jobs=5)]: Using backend LokyBackend with 5 concurrent workers.\n"
     ]
    },
    {
     "name": "stdout",
     "output_type": "stream",
     "text": [
      "[---- toles, ranid ----]\n"
     ]
    },
    {
     "name": "stderr",
     "output_type": "stream",
     "text": [
      "[Parallel(n_jobs=5)]: Done  38 tasks      | elapsed:    0.4s\n",
      "[Parallel(n_jobs=5)]: Done 422 tasks      | elapsed:    3.2s\n",
      "[Parallel(n_jobs=5)]: Done 1062 tasks      | elapsed:    7.8s\n",
      "[Parallel(n_jobs=5)]: Done 1958 tasks      | elapsed:   14.5s\n",
      "[Parallel(n_jobs=5)]: Done 3110 tasks      | elapsed:   23.8s\n",
      "[Parallel(n_jobs=5)]: Done 4518 tasks      | elapsed:   34.4s\n",
      "[Parallel(n_jobs=5)]: Done 5748 out of 5757 | elapsed:   43.7s remaining:    0.1s\n",
      "[Parallel(n_jobs=5)]: Done 5757 out of 5757 | elapsed:   43.7s finished\n"
     ]
    },
    {
     "data": {
      "text/html": [
       "<div>\n",
       "<style scoped>\n",
       "    .dataframe tbody tr th:only-of-type {\n",
       "        vertical-align: middle;\n",
       "    }\n",
       "\n",
       "    .dataframe tbody tr th {\n",
       "        vertical-align: top;\n",
       "    }\n",
       "\n",
       "    .dataframe thead th {\n",
       "        text-align: right;\n",
       "    }\n",
       "</style>\n",
       "<table border=\"1\" class=\"dataframe\">\n",
       "  <thead>\n",
       "    <tr style=\"text-align: right;\">\n",
       "      <th></th>\n",
       "      <th>count</th>\n",
       "      <th>mean</th>\n",
       "      <th>std</th>\n",
       "      <th>min</th>\n",
       "      <th>25%</th>\n",
       "      <th>50%</th>\n",
       "      <th>75%</th>\n",
       "      <th>max</th>\n",
       "      <th>word1</th>\n",
       "      <th>word2</th>\n",
       "    </tr>\n",
       "  </thead>\n",
       "  <tbody>\n",
       "    <tr>\n",
       "      <th>0</th>\n",
       "      <td>5757.0</td>\n",
       "      <td>4.179781</td>\n",
       "      <td>1.165204</td>\n",
       "      <td>3.0</td>\n",
       "      <td>3.0</td>\n",
       "      <td>4.0</td>\n",
       "      <td>5.0</td>\n",
       "      <td>12.0</td>\n",
       "      <td>toles</td>\n",
       "      <td>ranid</td>\n",
       "    </tr>\n",
       "  </tbody>\n",
       "</table>\n",
       "</div>"
      ],
      "text/plain": [
       "    count      mean       std  min  25%  50%  75%   max  word1  word2\n",
       "0  5757.0  4.179781  1.165204  3.0  3.0  4.0  5.0  12.0  toles  ranid"
      ]
     },
     "metadata": {},
     "output_type": "display_data"
    },
    {
     "name": "stderr",
     "output_type": "stream",
     "text": [
      "[Parallel(n_jobs=5)]: Using backend LokyBackend with 5 concurrent workers.\n"
     ]
    },
    {
     "name": "stdout",
     "output_type": "stream",
     "text": [
      "[---- toles, cairn ----]\n"
     ]
    },
    {
     "name": "stderr",
     "output_type": "stream",
     "text": [
      "[Parallel(n_jobs=5)]: Done  38 tasks      | elapsed:    0.3s\n",
      "[Parallel(n_jobs=5)]: Done 774 tasks      | elapsed:    5.2s\n",
      "[Parallel(n_jobs=5)]: Done 2054 tasks      | elapsed:   14.3s\n",
      "[Parallel(n_jobs=5)]: Done 3846 tasks      | elapsed:   27.5s\n",
      "[Parallel(n_jobs=5)]: Done 5757 out of 5757 | elapsed:   42.9s finished\n"
     ]
    },
    {
     "data": {
      "text/html": [
       "<div>\n",
       "<style scoped>\n",
       "    .dataframe tbody tr th:only-of-type {\n",
       "        vertical-align: middle;\n",
       "    }\n",
       "\n",
       "    .dataframe tbody tr th {\n",
       "        vertical-align: top;\n",
       "    }\n",
       "\n",
       "    .dataframe thead th {\n",
       "        text-align: right;\n",
       "    }\n",
       "</style>\n",
       "<table border=\"1\" class=\"dataframe\">\n",
       "  <thead>\n",
       "    <tr style=\"text-align: right;\">\n",
       "      <th></th>\n",
       "      <th>count</th>\n",
       "      <th>mean</th>\n",
       "      <th>std</th>\n",
       "      <th>min</th>\n",
       "      <th>25%</th>\n",
       "      <th>50%</th>\n",
       "      <th>75%</th>\n",
       "      <th>max</th>\n",
       "      <th>word1</th>\n",
       "      <th>word2</th>\n",
       "    </tr>\n",
       "  </thead>\n",
       "  <tbody>\n",
       "    <tr>\n",
       "      <th>0</th>\n",
       "      <td>5757.0</td>\n",
       "      <td>4.18065</td>\n",
       "      <td>1.200831</td>\n",
       "      <td>2.0</td>\n",
       "      <td>3.0</td>\n",
       "      <td>4.0</td>\n",
       "      <td>5.0</td>\n",
       "      <td>12.0</td>\n",
       "      <td>toles</td>\n",
       "      <td>cairn</td>\n",
       "    </tr>\n",
       "  </tbody>\n",
       "</table>\n",
       "</div>"
      ],
      "text/plain": [
       "    count     mean       std  min  25%  50%  75%   max  word1  word2\n",
       "0  5757.0  4.18065  1.200831  2.0  3.0  4.0  5.0  12.0  toles  cairn"
      ]
     },
     "metadata": {},
     "output_type": "display_data"
    },
    {
     "name": "stderr",
     "output_type": "stream",
     "text": [
      "[Parallel(n_jobs=5)]: Using backend LokyBackend with 5 concurrent workers.\n"
     ]
    },
    {
     "name": "stdout",
     "output_type": "stream",
     "text": [
      "\n",
      "\n",
      "\n",
      "--------------------\n",
      "tales\n",
      "--------------------\n",
      "['poind', 'piony', 'bound', 'corni', 'courd', 'pound', 'bourd', 'boric', 'roupy', 'boink']\n",
      "[---- tales, poind ----]\n"
     ]
    },
    {
     "name": "stderr",
     "output_type": "stream",
     "text": [
      "[Parallel(n_jobs=5)]: Done  38 tasks      | elapsed:    0.3s\n",
      "[Parallel(n_jobs=5)]: Done 774 tasks      | elapsed:    5.2s\n",
      "[Parallel(n_jobs=5)]: Done 2054 tasks      | elapsed:   14.3s\n",
      "[Parallel(n_jobs=5)]: Done 3846 tasks      | elapsed:   27.5s\n",
      "[Parallel(n_jobs=5)]: Done 5757 out of 5757 | elapsed:   41.7s finished\n"
     ]
    },
    {
     "data": {
      "text/html": [
       "<div>\n",
       "<style scoped>\n",
       "    .dataframe tbody tr th:only-of-type {\n",
       "        vertical-align: middle;\n",
       "    }\n",
       "\n",
       "    .dataframe tbody tr th {\n",
       "        vertical-align: top;\n",
       "    }\n",
       "\n",
       "    .dataframe thead th {\n",
       "        text-align: right;\n",
       "    }\n",
       "</style>\n",
       "<table border=\"1\" class=\"dataframe\">\n",
       "  <thead>\n",
       "    <tr style=\"text-align: right;\">\n",
       "      <th></th>\n",
       "      <th>count</th>\n",
       "      <th>mean</th>\n",
       "      <th>std</th>\n",
       "      <th>min</th>\n",
       "      <th>25%</th>\n",
       "      <th>50%</th>\n",
       "      <th>75%</th>\n",
       "      <th>max</th>\n",
       "      <th>word1</th>\n",
       "      <th>word2</th>\n",
       "    </tr>\n",
       "  </thead>\n",
       "  <tbody>\n",
       "    <tr>\n",
       "      <th>0</th>\n",
       "      <td>5757.0</td>\n",
       "      <td>4.172659</td>\n",
       "      <td>1.130503</td>\n",
       "      <td>1.0</td>\n",
       "      <td>3.0</td>\n",
       "      <td>4.0</td>\n",
       "      <td>5.0</td>\n",
       "      <td>12.0</td>\n",
       "      <td>tales</td>\n",
       "      <td>poind</td>\n",
       "    </tr>\n",
       "  </tbody>\n",
       "</table>\n",
       "</div>"
      ],
      "text/plain": [
       "    count      mean       std  min  25%  50%  75%   max  word1  word2\n",
       "0  5757.0  4.172659  1.130503  1.0  3.0  4.0  5.0  12.0  tales  poind"
      ]
     },
     "metadata": {},
     "output_type": "display_data"
    },
    {
     "name": "stderr",
     "output_type": "stream",
     "text": [
      "[Parallel(n_jobs=5)]: Using backend LokyBackend with 5 concurrent workers.\n"
     ]
    },
    {
     "name": "stdout",
     "output_type": "stream",
     "text": [
      "[---- tales, piony ----]\n"
     ]
    },
    {
     "name": "stderr",
     "output_type": "stream",
     "text": [
      "[Parallel(n_jobs=5)]: Done  38 tasks      | elapsed:    0.3s\n",
      "[Parallel(n_jobs=5)]: Done 774 tasks      | elapsed:    5.3s\n",
      "[Parallel(n_jobs=5)]: Done 2054 tasks      | elapsed:   14.4s\n",
      "[Parallel(n_jobs=5)]: Done 3846 tasks      | elapsed:   27.6s\n",
      "[Parallel(n_jobs=5)]: Done 5748 out of 5757 | elapsed:   41.8s remaining:    0.1s\n",
      "[Parallel(n_jobs=5)]: Done 5757 out of 5757 | elapsed:   41.9s finished\n"
     ]
    },
    {
     "data": {
      "text/html": [
       "<div>\n",
       "<style scoped>\n",
       "    .dataframe tbody tr th:only-of-type {\n",
       "        vertical-align: middle;\n",
       "    }\n",
       "\n",
       "    .dataframe tbody tr th {\n",
       "        vertical-align: top;\n",
       "    }\n",
       "\n",
       "    .dataframe thead th {\n",
       "        text-align: right;\n",
       "    }\n",
       "</style>\n",
       "<table border=\"1\" class=\"dataframe\">\n",
       "  <thead>\n",
       "    <tr style=\"text-align: right;\">\n",
       "      <th></th>\n",
       "      <th>count</th>\n",
       "      <th>mean</th>\n",
       "      <th>std</th>\n",
       "      <th>min</th>\n",
       "      <th>25%</th>\n",
       "      <th>50%</th>\n",
       "      <th>75%</th>\n",
       "      <th>max</th>\n",
       "      <th>word1</th>\n",
       "      <th>word2</th>\n",
       "    </tr>\n",
       "  </thead>\n",
       "  <tbody>\n",
       "    <tr>\n",
       "      <th>0</th>\n",
       "      <td>5757.0</td>\n",
       "      <td>4.25013</td>\n",
       "      <td>1.18038</td>\n",
       "      <td>1.0</td>\n",
       "      <td>3.0</td>\n",
       "      <td>4.0</td>\n",
       "      <td>5.0</td>\n",
       "      <td>13.0</td>\n",
       "      <td>tales</td>\n",
       "      <td>piony</td>\n",
       "    </tr>\n",
       "  </tbody>\n",
       "</table>\n",
       "</div>"
      ],
      "text/plain": [
       "    count     mean      std  min  25%  50%  75%   max  word1  word2\n",
       "0  5757.0  4.25013  1.18038  1.0  3.0  4.0  5.0  13.0  tales  piony"
      ]
     },
     "metadata": {},
     "output_type": "display_data"
    },
    {
     "name": "stderr",
     "output_type": "stream",
     "text": [
      "[Parallel(n_jobs=5)]: Using backend LokyBackend with 5 concurrent workers.\n"
     ]
    },
    {
     "name": "stdout",
     "output_type": "stream",
     "text": [
      "[---- tales, bound ----]\n"
     ]
    },
    {
     "name": "stderr",
     "output_type": "stream",
     "text": [
      "[Parallel(n_jobs=5)]: Done  38 tasks      | elapsed:    0.3s\n",
      "[Parallel(n_jobs=5)]: Done 774 tasks      | elapsed:    5.3s\n",
      "[Parallel(n_jobs=5)]: Done 2054 tasks      | elapsed:   14.2s\n",
      "[Parallel(n_jobs=5)]: Done 3846 tasks      | elapsed:   27.6s\n",
      "[Parallel(n_jobs=5)]: Done 5757 out of 5757 | elapsed:   41.8s finished\n"
     ]
    },
    {
     "data": {
      "text/html": [
       "<div>\n",
       "<style scoped>\n",
       "    .dataframe tbody tr th:only-of-type {\n",
       "        vertical-align: middle;\n",
       "    }\n",
       "\n",
       "    .dataframe tbody tr th {\n",
       "        vertical-align: top;\n",
       "    }\n",
       "\n",
       "    .dataframe thead th {\n",
       "        text-align: right;\n",
       "    }\n",
       "</style>\n",
       "<table border=\"1\" class=\"dataframe\">\n",
       "  <thead>\n",
       "    <tr style=\"text-align: right;\">\n",
       "      <th></th>\n",
       "      <th>count</th>\n",
       "      <th>mean</th>\n",
       "      <th>std</th>\n",
       "      <th>min</th>\n",
       "      <th>25%</th>\n",
       "      <th>50%</th>\n",
       "      <th>75%</th>\n",
       "      <th>max</th>\n",
       "      <th>word1</th>\n",
       "      <th>word2</th>\n",
       "    </tr>\n",
       "  </thead>\n",
       "  <tbody>\n",
       "    <tr>\n",
       "      <th>0</th>\n",
       "      <td>5757.0</td>\n",
       "      <td>4.235539</td>\n",
       "      <td>1.139551</td>\n",
       "      <td>1.0</td>\n",
       "      <td>3.0</td>\n",
       "      <td>4.0</td>\n",
       "      <td>5.0</td>\n",
       "      <td>12.0</td>\n",
       "      <td>tales</td>\n",
       "      <td>bound</td>\n",
       "    </tr>\n",
       "  </tbody>\n",
       "</table>\n",
       "</div>"
      ],
      "text/plain": [
       "    count      mean       std  min  25%  50%  75%   max  word1  word2\n",
       "0  5757.0  4.235539  1.139551  1.0  3.0  4.0  5.0  12.0  tales  bound"
      ]
     },
     "metadata": {},
     "output_type": "display_data"
    },
    {
     "name": "stderr",
     "output_type": "stream",
     "text": [
      "[Parallel(n_jobs=5)]: Using backend LokyBackend with 5 concurrent workers.\n"
     ]
    },
    {
     "name": "stdout",
     "output_type": "stream",
     "text": [
      "[---- tales, corni ----]\n"
     ]
    },
    {
     "name": "stderr",
     "output_type": "stream",
     "text": [
      "[Parallel(n_jobs=5)]: Done  38 tasks      | elapsed:    0.4s\n",
      "[Parallel(n_jobs=5)]: Done 422 tasks      | elapsed:    2.9s\n",
      "[Parallel(n_jobs=5)]: Done 1062 tasks      | elapsed:    7.2s\n",
      "[Parallel(n_jobs=5)]: Done 1958 tasks      | elapsed:   13.6s\n",
      "[Parallel(n_jobs=5)]: Done 3110 tasks      | elapsed:   22.1s\n",
      "[Parallel(n_jobs=5)]: Done 4518 tasks      | elapsed:   32.6s\n",
      "[Parallel(n_jobs=5)]: Done 5748 out of 5757 | elapsed:   42.0s remaining:    0.1s\n",
      "[Parallel(n_jobs=5)]: Done 5757 out of 5757 | elapsed:   42.0s finished\n"
     ]
    },
    {
     "data": {
      "text/html": [
       "<div>\n",
       "<style scoped>\n",
       "    .dataframe tbody tr th:only-of-type {\n",
       "        vertical-align: middle;\n",
       "    }\n",
       "\n",
       "    .dataframe tbody tr th {\n",
       "        vertical-align: top;\n",
       "    }\n",
       "\n",
       "    .dataframe thead th {\n",
       "        text-align: right;\n",
       "    }\n",
       "</style>\n",
       "<table border=\"1\" class=\"dataframe\">\n",
       "  <thead>\n",
       "    <tr style=\"text-align: right;\">\n",
       "      <th></th>\n",
       "      <th>count</th>\n",
       "      <th>mean</th>\n",
       "      <th>std</th>\n",
       "      <th>min</th>\n",
       "      <th>25%</th>\n",
       "      <th>50%</th>\n",
       "      <th>75%</th>\n",
       "      <th>max</th>\n",
       "      <th>word1</th>\n",
       "      <th>word2</th>\n",
       "    </tr>\n",
       "  </thead>\n",
       "  <tbody>\n",
       "    <tr>\n",
       "      <th>0</th>\n",
       "      <td>5757.0</td>\n",
       "      <td>4.180302</td>\n",
       "      <td>1.184276</td>\n",
       "      <td>1.0</td>\n",
       "      <td>3.0</td>\n",
       "      <td>4.0</td>\n",
       "      <td>5.0</td>\n",
       "      <td>12.0</td>\n",
       "      <td>tales</td>\n",
       "      <td>corni</td>\n",
       "    </tr>\n",
       "  </tbody>\n",
       "</table>\n",
       "</div>"
      ],
      "text/plain": [
       "    count      mean       std  min  25%  50%  75%   max  word1  word2\n",
       "0  5757.0  4.180302  1.184276  1.0  3.0  4.0  5.0  12.0  tales  corni"
      ]
     },
     "metadata": {},
     "output_type": "display_data"
    },
    {
     "name": "stderr",
     "output_type": "stream",
     "text": [
      "[Parallel(n_jobs=5)]: Using backend LokyBackend with 5 concurrent workers.\n"
     ]
    },
    {
     "name": "stdout",
     "output_type": "stream",
     "text": [
      "[---- tales, courd ----]\n"
     ]
    },
    {
     "name": "stderr",
     "output_type": "stream",
     "text": [
      "[Parallel(n_jobs=5)]: Done  38 tasks      | elapsed:    0.4s\n",
      "[Parallel(n_jobs=5)]: Done 422 tasks      | elapsed:    2.8s\n",
      "[Parallel(n_jobs=5)]: Done 1062 tasks      | elapsed:    7.1s\n",
      "[Parallel(n_jobs=5)]: Done 1958 tasks      | elapsed:   13.6s\n",
      "[Parallel(n_jobs=5)]: Done 3110 tasks      | elapsed:   22.3s\n",
      "[Parallel(n_jobs=5)]: Done 4518 tasks      | elapsed:   32.8s\n",
      "[Parallel(n_jobs=5)]: Done 5757 out of 5757 | elapsed:   42.2s finished\n"
     ]
    },
    {
     "data": {
      "text/html": [
       "<div>\n",
       "<style scoped>\n",
       "    .dataframe tbody tr th:only-of-type {\n",
       "        vertical-align: middle;\n",
       "    }\n",
       "\n",
       "    .dataframe tbody tr th {\n",
       "        vertical-align: top;\n",
       "    }\n",
       "\n",
       "    .dataframe thead th {\n",
       "        text-align: right;\n",
       "    }\n",
       "</style>\n",
       "<table border=\"1\" class=\"dataframe\">\n",
       "  <thead>\n",
       "    <tr style=\"text-align: right;\">\n",
       "      <th></th>\n",
       "      <th>count</th>\n",
       "      <th>mean</th>\n",
       "      <th>std</th>\n",
       "      <th>min</th>\n",
       "      <th>25%</th>\n",
       "      <th>50%</th>\n",
       "      <th>75%</th>\n",
       "      <th>max</th>\n",
       "      <th>word1</th>\n",
       "      <th>word2</th>\n",
       "    </tr>\n",
       "  </thead>\n",
       "  <tbody>\n",
       "    <tr>\n",
       "      <th>0</th>\n",
       "      <td>5757.0</td>\n",
       "      <td>4.215564</td>\n",
       "      <td>1.171046</td>\n",
       "      <td>1.0</td>\n",
       "      <td>3.0</td>\n",
       "      <td>4.0</td>\n",
       "      <td>5.0</td>\n",
       "      <td>12.0</td>\n",
       "      <td>tales</td>\n",
       "      <td>courd</td>\n",
       "    </tr>\n",
       "  </tbody>\n",
       "</table>\n",
       "</div>"
      ],
      "text/plain": [
       "    count      mean       std  min  25%  50%  75%   max  word1  word2\n",
       "0  5757.0  4.215564  1.171046  1.0  3.0  4.0  5.0  12.0  tales  courd"
      ]
     },
     "metadata": {},
     "output_type": "display_data"
    },
    {
     "name": "stderr",
     "output_type": "stream",
     "text": [
      "[Parallel(n_jobs=5)]: Using backend LokyBackend with 5 concurrent workers.\n"
     ]
    },
    {
     "name": "stdout",
     "output_type": "stream",
     "text": [
      "[---- tales, pound ----]\n"
     ]
    },
    {
     "name": "stderr",
     "output_type": "stream",
     "text": [
      "[Parallel(n_jobs=5)]: Done  38 tasks      | elapsed:    0.3s\n",
      "[Parallel(n_jobs=5)]: Done 774 tasks      | elapsed:    5.3s\n",
      "[Parallel(n_jobs=5)]: Done 2054 tasks      | elapsed:   14.2s\n",
      "[Parallel(n_jobs=5)]: Done 3846 tasks      | elapsed:   27.3s\n",
      "[Parallel(n_jobs=5)]: Done 5757 out of 5757 | elapsed:   41.6s finished\n"
     ]
    },
    {
     "data": {
      "text/html": [
       "<div>\n",
       "<style scoped>\n",
       "    .dataframe tbody tr th:only-of-type {\n",
       "        vertical-align: middle;\n",
       "    }\n",
       "\n",
       "    .dataframe tbody tr th {\n",
       "        vertical-align: top;\n",
       "    }\n",
       "\n",
       "    .dataframe thead th {\n",
       "        text-align: right;\n",
       "    }\n",
       "</style>\n",
       "<table border=\"1\" class=\"dataframe\">\n",
       "  <thead>\n",
       "    <tr style=\"text-align: right;\">\n",
       "      <th></th>\n",
       "      <th>count</th>\n",
       "      <th>mean</th>\n",
       "      <th>std</th>\n",
       "      <th>min</th>\n",
       "      <th>25%</th>\n",
       "      <th>50%</th>\n",
       "      <th>75%</th>\n",
       "      <th>max</th>\n",
       "      <th>word1</th>\n",
       "      <th>word2</th>\n",
       "    </tr>\n",
       "  </thead>\n",
       "  <tbody>\n",
       "    <tr>\n",
       "      <th>0</th>\n",
       "      <td>5757.0</td>\n",
       "      <td>4.19333</td>\n",
       "      <td>1.118719</td>\n",
       "      <td>1.0</td>\n",
       "      <td>3.0</td>\n",
       "      <td>4.0</td>\n",
       "      <td>5.0</td>\n",
       "      <td>12.0</td>\n",
       "      <td>tales</td>\n",
       "      <td>pound</td>\n",
       "    </tr>\n",
       "  </tbody>\n",
       "</table>\n",
       "</div>"
      ],
      "text/plain": [
       "    count     mean       std  min  25%  50%  75%   max  word1  word2\n",
       "0  5757.0  4.19333  1.118719  1.0  3.0  4.0  5.0  12.0  tales  pound"
      ]
     },
     "metadata": {},
     "output_type": "display_data"
    },
    {
     "name": "stderr",
     "output_type": "stream",
     "text": [
      "[Parallel(n_jobs=5)]: Using backend LokyBackend with 5 concurrent workers.\n"
     ]
    },
    {
     "name": "stdout",
     "output_type": "stream",
     "text": [
      "[---- tales, bourd ----]\n"
     ]
    },
    {
     "name": "stderr",
     "output_type": "stream",
     "text": [
      "[Parallel(n_jobs=5)]: Done  38 tasks      | elapsed:    0.3s\n",
      "[Parallel(n_jobs=5)]: Done 774 tasks      | elapsed:    5.3s\n",
      "[Parallel(n_jobs=5)]: Done 2054 tasks      | elapsed:   14.4s\n",
      "[Parallel(n_jobs=5)]: Done 3846 tasks      | elapsed:   27.5s\n",
      "[Parallel(n_jobs=5)]: Done 5757 out of 5757 | elapsed:   41.9s finished\n"
     ]
    },
    {
     "data": {
      "text/html": [
       "<div>\n",
       "<style scoped>\n",
       "    .dataframe tbody tr th:only-of-type {\n",
       "        vertical-align: middle;\n",
       "    }\n",
       "\n",
       "    .dataframe tbody tr th {\n",
       "        vertical-align: top;\n",
       "    }\n",
       "\n",
       "    .dataframe thead th {\n",
       "        text-align: right;\n",
       "    }\n",
       "</style>\n",
       "<table border=\"1\" class=\"dataframe\">\n",
       "  <thead>\n",
       "    <tr style=\"text-align: right;\">\n",
       "      <th></th>\n",
       "      <th>count</th>\n",
       "      <th>mean</th>\n",
       "      <th>std</th>\n",
       "      <th>min</th>\n",
       "      <th>25%</th>\n",
       "      <th>50%</th>\n",
       "      <th>75%</th>\n",
       "      <th>max</th>\n",
       "      <th>word1</th>\n",
       "      <th>word2</th>\n",
       "    </tr>\n",
       "  </thead>\n",
       "  <tbody>\n",
       "    <tr>\n",
       "      <th>0</th>\n",
       "      <td>5757.0</td>\n",
       "      <td>4.228244</td>\n",
       "      <td>1.144987</td>\n",
       "      <td>1.0</td>\n",
       "      <td>3.0</td>\n",
       "      <td>4.0</td>\n",
       "      <td>5.0</td>\n",
       "      <td>11.0</td>\n",
       "      <td>tales</td>\n",
       "      <td>bourd</td>\n",
       "    </tr>\n",
       "  </tbody>\n",
       "</table>\n",
       "</div>"
      ],
      "text/plain": [
       "    count      mean       std  min  25%  50%  75%   max  word1  word2\n",
       "0  5757.0  4.228244  1.144987  1.0  3.0  4.0  5.0  11.0  tales  bourd"
      ]
     },
     "metadata": {},
     "output_type": "display_data"
    },
    {
     "name": "stderr",
     "output_type": "stream",
     "text": [
      "[Parallel(n_jobs=5)]: Using backend LokyBackend with 5 concurrent workers.\n"
     ]
    },
    {
     "name": "stdout",
     "output_type": "stream",
     "text": [
      "[---- tales, boric ----]\n"
     ]
    },
    {
     "name": "stderr",
     "output_type": "stream",
     "text": [
      "[Parallel(n_jobs=5)]: Done  38 tasks      | elapsed:    0.3s\n",
      "[Parallel(n_jobs=5)]: Done 774 tasks      | elapsed:    5.2s\n",
      "[Parallel(n_jobs=5)]: Done 2054 tasks      | elapsed:   14.1s\n",
      "[Parallel(n_jobs=5)]: Done 3846 tasks      | elapsed:   27.2s\n",
      "[Parallel(n_jobs=5)]: Done 5748 out of 5757 | elapsed:   41.2s remaining:    0.1s\n",
      "[Parallel(n_jobs=5)]: Done 5757 out of 5757 | elapsed:   41.3s finished\n"
     ]
    },
    {
     "data": {
      "text/html": [
       "<div>\n",
       "<style scoped>\n",
       "    .dataframe tbody tr th:only-of-type {\n",
       "        vertical-align: middle;\n",
       "    }\n",
       "\n",
       "    .dataframe tbody tr th {\n",
       "        vertical-align: top;\n",
       "    }\n",
       "\n",
       "    .dataframe thead th {\n",
       "        text-align: right;\n",
       "    }\n",
       "</style>\n",
       "<table border=\"1\" class=\"dataframe\">\n",
       "  <thead>\n",
       "    <tr style=\"text-align: right;\">\n",
       "      <th></th>\n",
       "      <th>count</th>\n",
       "      <th>mean</th>\n",
       "      <th>std</th>\n",
       "      <th>min</th>\n",
       "      <th>25%</th>\n",
       "      <th>50%</th>\n",
       "      <th>75%</th>\n",
       "      <th>max</th>\n",
       "      <th>word1</th>\n",
       "      <th>word2</th>\n",
       "    </tr>\n",
       "  </thead>\n",
       "  <tbody>\n",
       "    <tr>\n",
       "      <th>0</th>\n",
       "      <td>5757.0</td>\n",
       "      <td>4.213827</td>\n",
       "      <td>1.156889</td>\n",
       "      <td>1.0</td>\n",
       "      <td>3.0</td>\n",
       "      <td>4.0</td>\n",
       "      <td>5.0</td>\n",
       "      <td>12.0</td>\n",
       "      <td>tales</td>\n",
       "      <td>boric</td>\n",
       "    </tr>\n",
       "  </tbody>\n",
       "</table>\n",
       "</div>"
      ],
      "text/plain": [
       "    count      mean       std  min  25%  50%  75%   max  word1  word2\n",
       "0  5757.0  4.213827  1.156889  1.0  3.0  4.0  5.0  12.0  tales  boric"
      ]
     },
     "metadata": {},
     "output_type": "display_data"
    },
    {
     "name": "stderr",
     "output_type": "stream",
     "text": [
      "[Parallel(n_jobs=5)]: Using backend LokyBackend with 5 concurrent workers.\n"
     ]
    },
    {
     "name": "stdout",
     "output_type": "stream",
     "text": [
      "[---- tales, roupy ----]\n"
     ]
    },
    {
     "name": "stderr",
     "output_type": "stream",
     "text": [
      "[Parallel(n_jobs=5)]: Done  38 tasks      | elapsed:    0.3s\n",
      "[Parallel(n_jobs=5)]: Done 774 tasks      | elapsed:    5.2s\n",
      "[Parallel(n_jobs=5)]: Done 2054 tasks      | elapsed:   14.4s\n",
      "[Parallel(n_jobs=5)]: Done 3846 tasks      | elapsed:   27.6s\n",
      "[Parallel(n_jobs=5)]: Done 5748 out of 5757 | elapsed:   41.6s remaining:    0.1s\n",
      "[Parallel(n_jobs=5)]: Done 5757 out of 5757 | elapsed:   41.8s finished\n"
     ]
    },
    {
     "data": {
      "text/html": [
       "<div>\n",
       "<style scoped>\n",
       "    .dataframe tbody tr th:only-of-type {\n",
       "        vertical-align: middle;\n",
       "    }\n",
       "\n",
       "    .dataframe tbody tr th {\n",
       "        vertical-align: top;\n",
       "    }\n",
       "\n",
       "    .dataframe thead th {\n",
       "        text-align: right;\n",
       "    }\n",
       "</style>\n",
       "<table border=\"1\" class=\"dataframe\">\n",
       "  <thead>\n",
       "    <tr style=\"text-align: right;\">\n",
       "      <th></th>\n",
       "      <th>count</th>\n",
       "      <th>mean</th>\n",
       "      <th>std</th>\n",
       "      <th>min</th>\n",
       "      <th>25%</th>\n",
       "      <th>50%</th>\n",
       "      <th>75%</th>\n",
       "      <th>max</th>\n",
       "      <th>word1</th>\n",
       "      <th>word2</th>\n",
       "    </tr>\n",
       "  </thead>\n",
       "  <tbody>\n",
       "    <tr>\n",
       "      <th>0</th>\n",
       "      <td>5757.0</td>\n",
       "      <td>4.254125</td>\n",
       "      <td>1.163584</td>\n",
       "      <td>1.0</td>\n",
       "      <td>3.0</td>\n",
       "      <td>4.0</td>\n",
       "      <td>5.0</td>\n",
       "      <td>12.0</td>\n",
       "      <td>tales</td>\n",
       "      <td>roupy</td>\n",
       "    </tr>\n",
       "  </tbody>\n",
       "</table>\n",
       "</div>"
      ],
      "text/plain": [
       "    count      mean       std  min  25%  50%  75%   max  word1  word2\n",
       "0  5757.0  4.254125  1.163584  1.0  3.0  4.0  5.0  12.0  tales  roupy"
      ]
     },
     "metadata": {},
     "output_type": "display_data"
    },
    {
     "name": "stderr",
     "output_type": "stream",
     "text": [
      "[Parallel(n_jobs=5)]: Using backend LokyBackend with 5 concurrent workers.\n"
     ]
    },
    {
     "name": "stdout",
     "output_type": "stream",
     "text": [
      "[---- tales, boink ----]\n"
     ]
    },
    {
     "name": "stderr",
     "output_type": "stream",
     "text": [
      "[Parallel(n_jobs=5)]: Done  38 tasks      | elapsed:    0.3s\n",
      "[Parallel(n_jobs=5)]: Done 774 tasks      | elapsed:    5.3s\n",
      "[Parallel(n_jobs=5)]: Done 2054 tasks      | elapsed:   14.4s\n",
      "[Parallel(n_jobs=5)]: Done 3846 tasks      | elapsed:   27.6s\n",
      "[Parallel(n_jobs=5)]: Done 5757 out of 5757 | elapsed:   41.8s finished\n"
     ]
    },
    {
     "data": {
      "text/html": [
       "<div>\n",
       "<style scoped>\n",
       "    .dataframe tbody tr th:only-of-type {\n",
       "        vertical-align: middle;\n",
       "    }\n",
       "\n",
       "    .dataframe tbody tr th {\n",
       "        vertical-align: top;\n",
       "    }\n",
       "\n",
       "    .dataframe thead th {\n",
       "        text-align: right;\n",
       "    }\n",
       "</style>\n",
       "<table border=\"1\" class=\"dataframe\">\n",
       "  <thead>\n",
       "    <tr style=\"text-align: right;\">\n",
       "      <th></th>\n",
       "      <th>count</th>\n",
       "      <th>mean</th>\n",
       "      <th>std</th>\n",
       "      <th>min</th>\n",
       "      <th>25%</th>\n",
       "      <th>50%</th>\n",
       "      <th>75%</th>\n",
       "      <th>max</th>\n",
       "      <th>word1</th>\n",
       "      <th>word2</th>\n",
       "    </tr>\n",
       "  </thead>\n",
       "  <tbody>\n",
       "    <tr>\n",
       "      <th>0</th>\n",
       "      <td>5757.0</td>\n",
       "      <td>4.270627</td>\n",
       "      <td>1.169627</td>\n",
       "      <td>1.0</td>\n",
       "      <td>3.0</td>\n",
       "      <td>4.0</td>\n",
       "      <td>5.0</td>\n",
       "      <td>12.0</td>\n",
       "      <td>tales</td>\n",
       "      <td>boink</td>\n",
       "    </tr>\n",
       "  </tbody>\n",
       "</table>\n",
       "</div>"
      ],
      "text/plain": [
       "    count      mean       std  min  25%  50%  75%   max  word1  word2\n",
       "0  5757.0  4.270627  1.169627  1.0  3.0  4.0  5.0  12.0  tales  boink"
      ]
     },
     "metadata": {},
     "output_type": "display_data"
    },
    {
     "name": "stderr",
     "output_type": "stream",
     "text": [
      "[Parallel(n_jobs=5)]: Using backend LokyBackend with 5 concurrent workers.\n"
     ]
    },
    {
     "name": "stdout",
     "output_type": "stream",
     "text": [
      "\n",
      "\n",
      "\n",
      "--------------------\n",
      "pores\n",
      "--------------------\n",
      "['laity', 'daily', 'gaily', 'haily', 'canid', 'calid', 'bialy', 'daint', 'baith', 'cauld']\n",
      "[---- pores, laity ----]\n"
     ]
    },
    {
     "name": "stderr",
     "output_type": "stream",
     "text": [
      "[Parallel(n_jobs=5)]: Done  38 tasks      | elapsed:    0.3s\n",
      "[Parallel(n_jobs=5)]: Done 774 tasks      | elapsed:    5.4s\n",
      "[Parallel(n_jobs=5)]: Done 2054 tasks      | elapsed:   14.5s\n",
      "[Parallel(n_jobs=5)]: Done 3846 tasks      | elapsed:   27.8s\n",
      "[Parallel(n_jobs=5)]: Done 5748 out of 5757 | elapsed:   42.0s remaining:    0.1s\n",
      "[Parallel(n_jobs=5)]: Done 5757 out of 5757 | elapsed:   42.1s finished\n"
     ]
    },
    {
     "data": {
      "text/html": [
       "<div>\n",
       "<style scoped>\n",
       "    .dataframe tbody tr th:only-of-type {\n",
       "        vertical-align: middle;\n",
       "    }\n",
       "\n",
       "    .dataframe tbody tr th {\n",
       "        vertical-align: top;\n",
       "    }\n",
       "\n",
       "    .dataframe thead th {\n",
       "        text-align: right;\n",
       "    }\n",
       "</style>\n",
       "<table border=\"1\" class=\"dataframe\">\n",
       "  <thead>\n",
       "    <tr style=\"text-align: right;\">\n",
       "      <th></th>\n",
       "      <th>count</th>\n",
       "      <th>mean</th>\n",
       "      <th>std</th>\n",
       "      <th>min</th>\n",
       "      <th>25%</th>\n",
       "      <th>50%</th>\n",
       "      <th>75%</th>\n",
       "      <th>max</th>\n",
       "      <th>word1</th>\n",
       "      <th>word2</th>\n",
       "    </tr>\n",
       "  </thead>\n",
       "  <tbody>\n",
       "    <tr>\n",
       "      <th>0</th>\n",
       "      <td>5757.0</td>\n",
       "      <td>4.230849</td>\n",
       "      <td>1.181585</td>\n",
       "      <td>1.0</td>\n",
       "      <td>3.0</td>\n",
       "      <td>4.0</td>\n",
       "      <td>5.0</td>\n",
       "      <td>12.0</td>\n",
       "      <td>pores</td>\n",
       "      <td>laity</td>\n",
       "    </tr>\n",
       "  </tbody>\n",
       "</table>\n",
       "</div>"
      ],
      "text/plain": [
       "    count      mean       std  min  25%  50%  75%   max  word1  word2\n",
       "0  5757.0  4.230849  1.181585  1.0  3.0  4.0  5.0  12.0  pores  laity"
      ]
     },
     "metadata": {},
     "output_type": "display_data"
    },
    {
     "name": "stderr",
     "output_type": "stream",
     "text": [
      "[Parallel(n_jobs=5)]: Using backend LokyBackend with 5 concurrent workers.\n"
     ]
    },
    {
     "name": "stdout",
     "output_type": "stream",
     "text": [
      "[---- pores, daily ----]\n"
     ]
    },
    {
     "name": "stderr",
     "output_type": "stream",
     "text": [
      "[Parallel(n_jobs=5)]: Done  38 tasks      | elapsed:    0.3s\n",
      "[Parallel(n_jobs=5)]: Done 774 tasks      | elapsed:    5.4s\n",
      "[Parallel(n_jobs=5)]: Done 2054 tasks      | elapsed:   14.6s\n",
      "[Parallel(n_jobs=5)]: Done 3846 tasks      | elapsed:   28.2s\n",
      "[Parallel(n_jobs=5)]: Done 5748 out of 5757 | elapsed:   42.8s remaining:    0.1s\n",
      "[Parallel(n_jobs=5)]: Done 5757 out of 5757 | elapsed:   43.0s finished\n"
     ]
    },
    {
     "data": {
      "text/html": [
       "<div>\n",
       "<style scoped>\n",
       "    .dataframe tbody tr th:only-of-type {\n",
       "        vertical-align: middle;\n",
       "    }\n",
       "\n",
       "    .dataframe tbody tr th {\n",
       "        vertical-align: top;\n",
       "    }\n",
       "\n",
       "    .dataframe thead th {\n",
       "        text-align: right;\n",
       "    }\n",
       "</style>\n",
       "<table border=\"1\" class=\"dataframe\">\n",
       "  <thead>\n",
       "    <tr style=\"text-align: right;\">\n",
       "      <th></th>\n",
       "      <th>count</th>\n",
       "      <th>mean</th>\n",
       "      <th>std</th>\n",
       "      <th>min</th>\n",
       "      <th>25%</th>\n",
       "      <th>50%</th>\n",
       "      <th>75%</th>\n",
       "      <th>max</th>\n",
       "      <th>word1</th>\n",
       "      <th>word2</th>\n",
       "    </tr>\n",
       "  </thead>\n",
       "  <tbody>\n",
       "    <tr>\n",
       "      <th>0</th>\n",
       "      <td>5757.0</td>\n",
       "      <td>4.275838</td>\n",
       "      <td>1.191962</td>\n",
       "      <td>1.0</td>\n",
       "      <td>3.0</td>\n",
       "      <td>4.0</td>\n",
       "      <td>5.0</td>\n",
       "      <td>12.0</td>\n",
       "      <td>pores</td>\n",
       "      <td>daily</td>\n",
       "    </tr>\n",
       "  </tbody>\n",
       "</table>\n",
       "</div>"
      ],
      "text/plain": [
       "    count      mean       std  min  25%  50%  75%   max  word1  word2\n",
       "0  5757.0  4.275838  1.191962  1.0  3.0  4.0  5.0  12.0  pores  daily"
      ]
     },
     "metadata": {},
     "output_type": "display_data"
    },
    {
     "name": "stderr",
     "output_type": "stream",
     "text": [
      "[Parallel(n_jobs=5)]: Using backend LokyBackend with 5 concurrent workers.\n"
     ]
    },
    {
     "name": "stdout",
     "output_type": "stream",
     "text": [
      "[---- pores, gaily ----]\n"
     ]
    },
    {
     "name": "stderr",
     "output_type": "stream",
     "text": [
      "[Parallel(n_jobs=5)]: Done  38 tasks      | elapsed:    0.3s\n",
      "[Parallel(n_jobs=5)]: Done 774 tasks      | elapsed:    5.5s\n",
      "[Parallel(n_jobs=5)]: Done 2054 tasks      | elapsed:   14.8s\n",
      "[Parallel(n_jobs=5)]: Done 3846 tasks      | elapsed:   28.6s\n",
      "[Parallel(n_jobs=5)]: Done 5748 out of 5757 | elapsed:   43.2s remaining:    0.1s\n",
      "[Parallel(n_jobs=5)]: Done 5757 out of 5757 | elapsed:   43.3s finished\n"
     ]
    },
    {
     "data": {
      "text/html": [
       "<div>\n",
       "<style scoped>\n",
       "    .dataframe tbody tr th:only-of-type {\n",
       "        vertical-align: middle;\n",
       "    }\n",
       "\n",
       "    .dataframe tbody tr th {\n",
       "        vertical-align: top;\n",
       "    }\n",
       "\n",
       "    .dataframe thead th {\n",
       "        text-align: right;\n",
       "    }\n",
       "</style>\n",
       "<table border=\"1\" class=\"dataframe\">\n",
       "  <thead>\n",
       "    <tr style=\"text-align: right;\">\n",
       "      <th></th>\n",
       "      <th>count</th>\n",
       "      <th>mean</th>\n",
       "      <th>std</th>\n",
       "      <th>min</th>\n",
       "      <th>25%</th>\n",
       "      <th>50%</th>\n",
       "      <th>75%</th>\n",
       "      <th>max</th>\n",
       "      <th>word1</th>\n",
       "      <th>word2</th>\n",
       "    </tr>\n",
       "  </thead>\n",
       "  <tbody>\n",
       "    <tr>\n",
       "      <th>0</th>\n",
       "      <td>5757.0</td>\n",
       "      <td>4.338544</td>\n",
       "      <td>1.234717</td>\n",
       "      <td>1.0</td>\n",
       "      <td>3.0</td>\n",
       "      <td>4.0</td>\n",
       "      <td>5.0</td>\n",
       "      <td>12.0</td>\n",
       "      <td>pores</td>\n",
       "      <td>gaily</td>\n",
       "    </tr>\n",
       "  </tbody>\n",
       "</table>\n",
       "</div>"
      ],
      "text/plain": [
       "    count      mean       std  min  25%  50%  75%   max  word1  word2\n",
       "0  5757.0  4.338544  1.234717  1.0  3.0  4.0  5.0  12.0  pores  gaily"
      ]
     },
     "metadata": {},
     "output_type": "display_data"
    },
    {
     "name": "stderr",
     "output_type": "stream",
     "text": [
      "[Parallel(n_jobs=5)]: Using backend LokyBackend with 5 concurrent workers.\n"
     ]
    },
    {
     "name": "stdout",
     "output_type": "stream",
     "text": [
      "[---- pores, haily ----]\n"
     ]
    },
    {
     "name": "stderr",
     "output_type": "stream",
     "text": [
      "[Parallel(n_jobs=5)]: Done  38 tasks      | elapsed:    0.3s\n",
      "[Parallel(n_jobs=5)]: Done 774 tasks      | elapsed:    5.5s\n",
      "[Parallel(n_jobs=5)]: Done 2054 tasks      | elapsed:   14.8s\n",
      "[Parallel(n_jobs=5)]: Done 3846 tasks      | elapsed:   28.4s\n",
      "[Parallel(n_jobs=5)]: Done 5757 out of 5757 | elapsed:   43.2s finished\n"
     ]
    },
    {
     "data": {
      "text/html": [
       "<div>\n",
       "<style scoped>\n",
       "    .dataframe tbody tr th:only-of-type {\n",
       "        vertical-align: middle;\n",
       "    }\n",
       "\n",
       "    .dataframe tbody tr th {\n",
       "        vertical-align: top;\n",
       "    }\n",
       "\n",
       "    .dataframe thead th {\n",
       "        text-align: right;\n",
       "    }\n",
       "</style>\n",
       "<table border=\"1\" class=\"dataframe\">\n",
       "  <thead>\n",
       "    <tr style=\"text-align: right;\">\n",
       "      <th></th>\n",
       "      <th>count</th>\n",
       "      <th>mean</th>\n",
       "      <th>std</th>\n",
       "      <th>min</th>\n",
       "      <th>25%</th>\n",
       "      <th>50%</th>\n",
       "      <th>75%</th>\n",
       "      <th>max</th>\n",
       "      <th>word1</th>\n",
       "      <th>word2</th>\n",
       "    </tr>\n",
       "  </thead>\n",
       "  <tbody>\n",
       "    <tr>\n",
       "      <th>0</th>\n",
       "      <td>5757.0</td>\n",
       "      <td>4.335765</td>\n",
       "      <td>1.228001</td>\n",
       "      <td>1.0</td>\n",
       "      <td>3.0</td>\n",
       "      <td>4.0</td>\n",
       "      <td>5.0</td>\n",
       "      <td>12.0</td>\n",
       "      <td>pores</td>\n",
       "      <td>haily</td>\n",
       "    </tr>\n",
       "  </tbody>\n",
       "</table>\n",
       "</div>"
      ],
      "text/plain": [
       "    count      mean       std  min  25%  50%  75%   max  word1  word2\n",
       "0  5757.0  4.335765  1.228001  1.0  3.0  4.0  5.0  12.0  pores  haily"
      ]
     },
     "metadata": {},
     "output_type": "display_data"
    },
    {
     "name": "stderr",
     "output_type": "stream",
     "text": [
      "[Parallel(n_jobs=5)]: Using backend LokyBackend with 5 concurrent workers.\n"
     ]
    },
    {
     "name": "stdout",
     "output_type": "stream",
     "text": [
      "[---- pores, canid ----]\n"
     ]
    },
    {
     "name": "stderr",
     "output_type": "stream",
     "text": [
      "[Parallel(n_jobs=5)]: Done  38 tasks      | elapsed:    0.3s\n",
      "[Parallel(n_jobs=5)]: Done 774 tasks      | elapsed:    5.4s\n",
      "[Parallel(n_jobs=5)]: Done 2054 tasks      | elapsed:   15.3s\n",
      "[Parallel(n_jobs=5)]: Done 3846 tasks      | elapsed:   28.9s\n",
      "[Parallel(n_jobs=5)]: Done 5748 out of 5757 | elapsed:   43.3s remaining:    0.1s\n",
      "[Parallel(n_jobs=5)]: Done 5757 out of 5757 | elapsed:   43.4s finished\n"
     ]
    },
    {
     "data": {
      "text/html": [
       "<div>\n",
       "<style scoped>\n",
       "    .dataframe tbody tr th:only-of-type {\n",
       "        vertical-align: middle;\n",
       "    }\n",
       "\n",
       "    .dataframe tbody tr th {\n",
       "        vertical-align: top;\n",
       "    }\n",
       "\n",
       "    .dataframe thead th {\n",
       "        text-align: right;\n",
       "    }\n",
       "</style>\n",
       "<table border=\"1\" class=\"dataframe\">\n",
       "  <thead>\n",
       "    <tr style=\"text-align: right;\">\n",
       "      <th></th>\n",
       "      <th>count</th>\n",
       "      <th>mean</th>\n",
       "      <th>std</th>\n",
       "      <th>min</th>\n",
       "      <th>25%</th>\n",
       "      <th>50%</th>\n",
       "      <th>75%</th>\n",
       "      <th>max</th>\n",
       "      <th>word1</th>\n",
       "      <th>word2</th>\n",
       "    </tr>\n",
       "  </thead>\n",
       "  <tbody>\n",
       "    <tr>\n",
       "      <th>0</th>\n",
       "      <td>5757.0</td>\n",
       "      <td>4.220254</td>\n",
       "      <td>1.15771</td>\n",
       "      <td>1.0</td>\n",
       "      <td>3.0</td>\n",
       "      <td>4.0</td>\n",
       "      <td>5.0</td>\n",
       "      <td>11.0</td>\n",
       "      <td>pores</td>\n",
       "      <td>canid</td>\n",
       "    </tr>\n",
       "  </tbody>\n",
       "</table>\n",
       "</div>"
      ],
      "text/plain": [
       "    count      mean      std  min  25%  50%  75%   max  word1  word2\n",
       "0  5757.0  4.220254  1.15771  1.0  3.0  4.0  5.0  11.0  pores  canid"
      ]
     },
     "metadata": {},
     "output_type": "display_data"
    },
    {
     "name": "stderr",
     "output_type": "stream",
     "text": [
      "[Parallel(n_jobs=5)]: Using backend LokyBackend with 5 concurrent workers.\n"
     ]
    },
    {
     "name": "stdout",
     "output_type": "stream",
     "text": [
      "[---- pores, calid ----]\n"
     ]
    },
    {
     "name": "stderr",
     "output_type": "stream",
     "text": [
      "[Parallel(n_jobs=5)]: Done  38 tasks      | elapsed:    0.3s\n",
      "[Parallel(n_jobs=5)]: Done 774 tasks      | elapsed:    5.3s\n",
      "[Parallel(n_jobs=5)]: Done 2054 tasks      | elapsed:   14.4s\n",
      "[Parallel(n_jobs=5)]: Done 3846 tasks      | elapsed:   27.6s\n",
      "[Parallel(n_jobs=5)]: Done 5748 out of 5757 | elapsed:   41.9s remaining:    0.1s\n",
      "[Parallel(n_jobs=5)]: Done 5757 out of 5757 | elapsed:   42.0s finished\n"
     ]
    },
    {
     "data": {
      "text/html": [
       "<div>\n",
       "<style scoped>\n",
       "    .dataframe tbody tr th:only-of-type {\n",
       "        vertical-align: middle;\n",
       "    }\n",
       "\n",
       "    .dataframe tbody tr th {\n",
       "        vertical-align: top;\n",
       "    }\n",
       "\n",
       "    .dataframe thead th {\n",
       "        text-align: right;\n",
       "    }\n",
       "</style>\n",
       "<table border=\"1\" class=\"dataframe\">\n",
       "  <thead>\n",
       "    <tr style=\"text-align: right;\">\n",
       "      <th></th>\n",
       "      <th>count</th>\n",
       "      <th>mean</th>\n",
       "      <th>std</th>\n",
       "      <th>min</th>\n",
       "      <th>25%</th>\n",
       "      <th>50%</th>\n",
       "      <th>75%</th>\n",
       "      <th>max</th>\n",
       "      <th>word1</th>\n",
       "      <th>word2</th>\n",
       "    </tr>\n",
       "  </thead>\n",
       "  <tbody>\n",
       "    <tr>\n",
       "      <th>0</th>\n",
       "      <td>5757.0</td>\n",
       "      <td>4.208094</td>\n",
       "      <td>1.151992</td>\n",
       "      <td>1.0</td>\n",
       "      <td>3.0</td>\n",
       "      <td>4.0</td>\n",
       "      <td>5.0</td>\n",
       "      <td>12.0</td>\n",
       "      <td>pores</td>\n",
       "      <td>calid</td>\n",
       "    </tr>\n",
       "  </tbody>\n",
       "</table>\n",
       "</div>"
      ],
      "text/plain": [
       "    count      mean       std  min  25%  50%  75%   max  word1  word2\n",
       "0  5757.0  4.208094  1.151992  1.0  3.0  4.0  5.0  12.0  pores  calid"
      ]
     },
     "metadata": {},
     "output_type": "display_data"
    },
    {
     "name": "stderr",
     "output_type": "stream",
     "text": [
      "[Parallel(n_jobs=5)]: Using backend LokyBackend with 5 concurrent workers.\n"
     ]
    },
    {
     "name": "stdout",
     "output_type": "stream",
     "text": [
      "[---- pores, bialy ----]\n"
     ]
    },
    {
     "name": "stderr",
     "output_type": "stream",
     "text": [
      "[Parallel(n_jobs=5)]: Done  38 tasks      | elapsed:    0.3s\n",
      "[Parallel(n_jobs=5)]: Done 774 tasks      | elapsed:    5.9s\n",
      "[Parallel(n_jobs=5)]: Done 2054 tasks      | elapsed:   15.2s\n",
      "[Parallel(n_jobs=5)]: Done 3846 tasks      | elapsed:   28.8s\n",
      "[Parallel(n_jobs=5)]: Done 5757 out of 5757 | elapsed:   43.5s finished\n"
     ]
    },
    {
     "data": {
      "text/html": [
       "<div>\n",
       "<style scoped>\n",
       "    .dataframe tbody tr th:only-of-type {\n",
       "        vertical-align: middle;\n",
       "    }\n",
       "\n",
       "    .dataframe tbody tr th {\n",
       "        vertical-align: top;\n",
       "    }\n",
       "\n",
       "    .dataframe thead th {\n",
       "        text-align: right;\n",
       "    }\n",
       "</style>\n",
       "<table border=\"1\" class=\"dataframe\">\n",
       "  <thead>\n",
       "    <tr style=\"text-align: right;\">\n",
       "      <th></th>\n",
       "      <th>count</th>\n",
       "      <th>mean</th>\n",
       "      <th>std</th>\n",
       "      <th>min</th>\n",
       "      <th>25%</th>\n",
       "      <th>50%</th>\n",
       "      <th>75%</th>\n",
       "      <th>max</th>\n",
       "      <th>word1</th>\n",
       "      <th>word2</th>\n",
       "    </tr>\n",
       "  </thead>\n",
       "  <tbody>\n",
       "    <tr>\n",
       "      <th>0</th>\n",
       "      <td>5757.0</td>\n",
       "      <td>4.325517</td>\n",
       "      <td>1.201399</td>\n",
       "      <td>1.0</td>\n",
       "      <td>4.0</td>\n",
       "      <td>4.0</td>\n",
       "      <td>5.0</td>\n",
       "      <td>12.0</td>\n",
       "      <td>pores</td>\n",
       "      <td>bialy</td>\n",
       "    </tr>\n",
       "  </tbody>\n",
       "</table>\n",
       "</div>"
      ],
      "text/plain": [
       "    count      mean       std  min  25%  50%  75%   max  word1  word2\n",
       "0  5757.0  4.325517  1.201399  1.0  4.0  4.0  5.0  12.0  pores  bialy"
      ]
     },
     "metadata": {},
     "output_type": "display_data"
    },
    {
     "name": "stderr",
     "output_type": "stream",
     "text": [
      "[Parallel(n_jobs=5)]: Using backend LokyBackend with 5 concurrent workers.\n"
     ]
    },
    {
     "name": "stdout",
     "output_type": "stream",
     "text": [
      "[---- pores, daint ----]\n"
     ]
    },
    {
     "name": "stderr",
     "output_type": "stream",
     "text": [
      "[Parallel(n_jobs=5)]: Done  38 tasks      | elapsed:    0.3s\n",
      "[Parallel(n_jobs=5)]: Done 774 tasks      | elapsed:    5.2s\n",
      "[Parallel(n_jobs=5)]: Done 2054 tasks      | elapsed:   14.3s\n",
      "[Parallel(n_jobs=5)]: Done 3846 tasks      | elapsed:   27.6s\n",
      "[Parallel(n_jobs=5)]: Done 5757 out of 5757 | elapsed:   41.9s finished\n"
     ]
    },
    {
     "data": {
      "text/html": [
       "<div>\n",
       "<style scoped>\n",
       "    .dataframe tbody tr th:only-of-type {\n",
       "        vertical-align: middle;\n",
       "    }\n",
       "\n",
       "    .dataframe tbody tr th {\n",
       "        vertical-align: top;\n",
       "    }\n",
       "\n",
       "    .dataframe thead th {\n",
       "        text-align: right;\n",
       "    }\n",
       "</style>\n",
       "<table border=\"1\" class=\"dataframe\">\n",
       "  <thead>\n",
       "    <tr style=\"text-align: right;\">\n",
       "      <th></th>\n",
       "      <th>count</th>\n",
       "      <th>mean</th>\n",
       "      <th>std</th>\n",
       "      <th>min</th>\n",
       "      <th>25%</th>\n",
       "      <th>50%</th>\n",
       "      <th>75%</th>\n",
       "      <th>max</th>\n",
       "      <th>word1</th>\n",
       "      <th>word2</th>\n",
       "    </tr>\n",
       "  </thead>\n",
       "  <tbody>\n",
       "    <tr>\n",
       "      <th>0</th>\n",
       "      <td>5757.0</td>\n",
       "      <td>4.157895</td>\n",
       "      <td>1.14403</td>\n",
       "      <td>1.0</td>\n",
       "      <td>3.0</td>\n",
       "      <td>4.0</td>\n",
       "      <td>5.0</td>\n",
       "      <td>11.0</td>\n",
       "      <td>pores</td>\n",
       "      <td>daint</td>\n",
       "    </tr>\n",
       "  </tbody>\n",
       "</table>\n",
       "</div>"
      ],
      "text/plain": [
       "    count      mean      std  min  25%  50%  75%   max  word1  word2\n",
       "0  5757.0  4.157895  1.14403  1.0  3.0  4.0  5.0  11.0  pores  daint"
      ]
     },
     "metadata": {},
     "output_type": "display_data"
    },
    {
     "name": "stderr",
     "output_type": "stream",
     "text": [
      "[Parallel(n_jobs=5)]: Using backend LokyBackend with 5 concurrent workers.\n"
     ]
    },
    {
     "name": "stdout",
     "output_type": "stream",
     "text": [
      "[---- pores, baith ----]\n"
     ]
    },
    {
     "name": "stderr",
     "output_type": "stream",
     "text": [
      "[Parallel(n_jobs=5)]: Done  38 tasks      | elapsed:    0.3s\n",
      "[Parallel(n_jobs=5)]: Done 422 tasks      | elapsed:    3.0s\n",
      "[Parallel(n_jobs=5)]: Done 1062 tasks      | elapsed:    7.6s\n",
      "[Parallel(n_jobs=5)]: Done 1958 tasks      | elapsed:   14.1s\n",
      "[Parallel(n_jobs=5)]: Done 3110 tasks      | elapsed:   22.8s\n",
      "[Parallel(n_jobs=5)]: Done 4518 tasks      | elapsed:   33.3s\n",
      "[Parallel(n_jobs=5)]: Done 5757 out of 5757 | elapsed:   42.8s finished\n"
     ]
    },
    {
     "data": {
      "text/html": [
       "<div>\n",
       "<style scoped>\n",
       "    .dataframe tbody tr th:only-of-type {\n",
       "        vertical-align: middle;\n",
       "    }\n",
       "\n",
       "    .dataframe tbody tr th {\n",
       "        vertical-align: top;\n",
       "    }\n",
       "\n",
       "    .dataframe thead th {\n",
       "        text-align: right;\n",
       "    }\n",
       "</style>\n",
       "<table border=\"1\" class=\"dataframe\">\n",
       "  <thead>\n",
       "    <tr style=\"text-align: right;\">\n",
       "      <th></th>\n",
       "      <th>count</th>\n",
       "      <th>mean</th>\n",
       "      <th>std</th>\n",
       "      <th>min</th>\n",
       "      <th>25%</th>\n",
       "      <th>50%</th>\n",
       "      <th>75%</th>\n",
       "      <th>max</th>\n",
       "      <th>word1</th>\n",
       "      <th>word2</th>\n",
       "    </tr>\n",
       "  </thead>\n",
       "  <tbody>\n",
       "    <tr>\n",
       "      <th>0</th>\n",
       "      <td>5757.0</td>\n",
       "      <td>4.239534</td>\n",
       "      <td>1.138184</td>\n",
       "      <td>1.0</td>\n",
       "      <td>3.0</td>\n",
       "      <td>4.0</td>\n",
       "      <td>5.0</td>\n",
       "      <td>10.0</td>\n",
       "      <td>pores</td>\n",
       "      <td>baith</td>\n",
       "    </tr>\n",
       "  </tbody>\n",
       "</table>\n",
       "</div>"
      ],
      "text/plain": [
       "    count      mean       std  min  25%  50%  75%   max  word1  word2\n",
       "0  5757.0  4.239534  1.138184  1.0  3.0  4.0  5.0  10.0  pores  baith"
      ]
     },
     "metadata": {},
     "output_type": "display_data"
    },
    {
     "name": "stderr",
     "output_type": "stream",
     "text": [
      "[Parallel(n_jobs=5)]: Using backend LokyBackend with 5 concurrent workers.\n"
     ]
    },
    {
     "name": "stdout",
     "output_type": "stream",
     "text": [
      "[---- pores, cauld ----]\n"
     ]
    },
    {
     "name": "stderr",
     "output_type": "stream",
     "text": [
      "[Parallel(n_jobs=5)]: Done  38 tasks      | elapsed:    0.4s\n",
      "[Parallel(n_jobs=5)]: Done 422 tasks      | elapsed:    3.0s\n",
      "[Parallel(n_jobs=5)]: Done 1062 tasks      | elapsed:    7.5s\n",
      "[Parallel(n_jobs=5)]: Done 1958 tasks      | elapsed:   13.9s\n",
      "[Parallel(n_jobs=5)]: Done 3110 tasks      | elapsed:   22.6s\n",
      "[Parallel(n_jobs=5)]: Done 4518 tasks      | elapsed:   33.4s\n",
      "[Parallel(n_jobs=5)]: Done 5748 out of 5757 | elapsed:   42.8s remaining:    0.1s\n",
      "[Parallel(n_jobs=5)]: Done 5757 out of 5757 | elapsed:   42.9s finished\n"
     ]
    },
    {
     "data": {
      "text/html": [
       "<div>\n",
       "<style scoped>\n",
       "    .dataframe tbody tr th:only-of-type {\n",
       "        vertical-align: middle;\n",
       "    }\n",
       "\n",
       "    .dataframe tbody tr th {\n",
       "        vertical-align: top;\n",
       "    }\n",
       "\n",
       "    .dataframe thead th {\n",
       "        text-align: right;\n",
       "    }\n",
       "</style>\n",
       "<table border=\"1\" class=\"dataframe\">\n",
       "  <thead>\n",
       "    <tr style=\"text-align: right;\">\n",
       "      <th></th>\n",
       "      <th>count</th>\n",
       "      <th>mean</th>\n",
       "      <th>std</th>\n",
       "      <th>min</th>\n",
       "      <th>25%</th>\n",
       "      <th>50%</th>\n",
       "      <th>75%</th>\n",
       "      <th>max</th>\n",
       "      <th>word1</th>\n",
       "      <th>word2</th>\n",
       "    </tr>\n",
       "  </thead>\n",
       "  <tbody>\n",
       "    <tr>\n",
       "      <th>0</th>\n",
       "      <td>5757.0</td>\n",
       "      <td>4.228765</td>\n",
       "      <td>1.146778</td>\n",
       "      <td>1.0</td>\n",
       "      <td>3.0</td>\n",
       "      <td>4.0</td>\n",
       "      <td>5.0</td>\n",
       "      <td>12.0</td>\n",
       "      <td>pores</td>\n",
       "      <td>cauld</td>\n",
       "    </tr>\n",
       "  </tbody>\n",
       "</table>\n",
       "</div>"
      ],
      "text/plain": [
       "    count      mean       std  min  25%  50%  75%   max  word1  word2\n",
       "0  5757.0  4.228765  1.146778  1.0  3.0  4.0  5.0  12.0  pores  cauld"
      ]
     },
     "metadata": {},
     "output_type": "display_data"
    },
    {
     "name": "stderr",
     "output_type": "stream",
     "text": [
      "[Parallel(n_jobs=5)]: Using backend LokyBackend with 5 concurrent workers.\n"
     ]
    },
    {
     "name": "stdout",
     "output_type": "stream",
     "text": [
      "\n",
      "\n",
      "\n",
      "--------------------\n",
      "pales\n",
      "--------------------\n",
      "['gouty', 'bound', 'corni', 'courd', 'bourd', 'count', 'boric', 'court', 'toric', 'boink']\n",
      "[---- pales, gouty ----]\n"
     ]
    },
    {
     "name": "stderr",
     "output_type": "stream",
     "text": [
      "[Parallel(n_jobs=5)]: Done  38 tasks      | elapsed:    0.3s\n",
      "[Parallel(n_jobs=5)]: Done 774 tasks      | elapsed:    5.5s\n",
      "[Parallel(n_jobs=5)]: Done 2054 tasks      | elapsed:   15.0s\n",
      "[Parallel(n_jobs=5)]: Done 3846 tasks      | elapsed:   28.6s\n",
      "[Parallel(n_jobs=5)]: Done 5748 out of 5757 | elapsed:   43.2s remaining:    0.1s\n",
      "[Parallel(n_jobs=5)]: Done 5757 out of 5757 | elapsed:   43.3s finished\n"
     ]
    },
    {
     "data": {
      "text/html": [
       "<div>\n",
       "<style scoped>\n",
       "    .dataframe tbody tr th:only-of-type {\n",
       "        vertical-align: middle;\n",
       "    }\n",
       "\n",
       "    .dataframe tbody tr th {\n",
       "        vertical-align: top;\n",
       "    }\n",
       "\n",
       "    .dataframe thead th {\n",
       "        text-align: right;\n",
       "    }\n",
       "</style>\n",
       "<table border=\"1\" class=\"dataframe\">\n",
       "  <thead>\n",
       "    <tr style=\"text-align: right;\">\n",
       "      <th></th>\n",
       "      <th>count</th>\n",
       "      <th>mean</th>\n",
       "      <th>std</th>\n",
       "      <th>min</th>\n",
       "      <th>25%</th>\n",
       "      <th>50%</th>\n",
       "      <th>75%</th>\n",
       "      <th>max</th>\n",
       "      <th>word1</th>\n",
       "      <th>word2</th>\n",
       "    </tr>\n",
       "  </thead>\n",
       "  <tbody>\n",
       "    <tr>\n",
       "      <th>0</th>\n",
       "      <td>5757.0</td>\n",
       "      <td>4.341497</td>\n",
       "      <td>1.203757</td>\n",
       "      <td>1.0</td>\n",
       "      <td>4.0</td>\n",
       "      <td>4.0</td>\n",
       "      <td>5.0</td>\n",
       "      <td>12.0</td>\n",
       "      <td>pales</td>\n",
       "      <td>gouty</td>\n",
       "    </tr>\n",
       "  </tbody>\n",
       "</table>\n",
       "</div>"
      ],
      "text/plain": [
       "    count      mean       std  min  25%  50%  75%   max  word1  word2\n",
       "0  5757.0  4.341497  1.203757  1.0  4.0  4.0  5.0  12.0  pales  gouty"
      ]
     },
     "metadata": {},
     "output_type": "display_data"
    },
    {
     "name": "stderr",
     "output_type": "stream",
     "text": [
      "[Parallel(n_jobs=5)]: Using backend LokyBackend with 5 concurrent workers.\n"
     ]
    },
    {
     "name": "stdout",
     "output_type": "stream",
     "text": [
      "[---- pales, bound ----]\n"
     ]
    },
    {
     "name": "stderr",
     "output_type": "stream",
     "text": [
      "[Parallel(n_jobs=5)]: Done  38 tasks      | elapsed:    0.3s\n",
      "[Parallel(n_jobs=5)]: Done 774 tasks      | elapsed:    5.9s\n",
      "[Parallel(n_jobs=5)]: Done 2054 tasks      | elapsed:   15.0s\n",
      "[Parallel(n_jobs=5)]: Done 3846 tasks      | elapsed:   28.3s\n",
      "[Parallel(n_jobs=5)]: Done 5757 out of 5757 | elapsed:   42.9s finished\n"
     ]
    },
    {
     "data": {
      "text/html": [
       "<div>\n",
       "<style scoped>\n",
       "    .dataframe tbody tr th:only-of-type {\n",
       "        vertical-align: middle;\n",
       "    }\n",
       "\n",
       "    .dataframe tbody tr th {\n",
       "        vertical-align: top;\n",
       "    }\n",
       "\n",
       "    .dataframe thead th {\n",
       "        text-align: right;\n",
       "    }\n",
       "</style>\n",
       "<table border=\"1\" class=\"dataframe\">\n",
       "  <thead>\n",
       "    <tr style=\"text-align: right;\">\n",
       "      <th></th>\n",
       "      <th>count</th>\n",
       "      <th>mean</th>\n",
       "      <th>std</th>\n",
       "      <th>min</th>\n",
       "      <th>25%</th>\n",
       "      <th>50%</th>\n",
       "      <th>75%</th>\n",
       "      <th>max</th>\n",
       "      <th>word1</th>\n",
       "      <th>word2</th>\n",
       "    </tr>\n",
       "  </thead>\n",
       "  <tbody>\n",
       "    <tr>\n",
       "      <th>0</th>\n",
       "      <td>5757.0</td>\n",
       "      <td>4.28296</td>\n",
       "      <td>1.132167</td>\n",
       "      <td>1.0</td>\n",
       "      <td>4.0</td>\n",
       "      <td>4.0</td>\n",
       "      <td>5.0</td>\n",
       "      <td>12.0</td>\n",
       "      <td>pales</td>\n",
       "      <td>bound</td>\n",
       "    </tr>\n",
       "  </tbody>\n",
       "</table>\n",
       "</div>"
      ],
      "text/plain": [
       "    count     mean       std  min  25%  50%  75%   max  word1  word2\n",
       "0  5757.0  4.28296  1.132167  1.0  4.0  4.0  5.0  12.0  pales  bound"
      ]
     },
     "metadata": {},
     "output_type": "display_data"
    },
    {
     "name": "stderr",
     "output_type": "stream",
     "text": [
      "[Parallel(n_jobs=5)]: Using backend LokyBackend with 5 concurrent workers.\n"
     ]
    },
    {
     "name": "stdout",
     "output_type": "stream",
     "text": [
      "[---- pales, corni ----]\n"
     ]
    },
    {
     "name": "stderr",
     "output_type": "stream",
     "text": [
      "[Parallel(n_jobs=5)]: Done  38 tasks      | elapsed:    0.3s\n",
      "[Parallel(n_jobs=5)]: Done 774 tasks      | elapsed:    5.4s\n",
      "[Parallel(n_jobs=5)]: Done 2054 tasks      | elapsed:   14.4s\n",
      "[Parallel(n_jobs=5)]: Done 3846 tasks      | elapsed:   27.8s\n",
      "[Parallel(n_jobs=5)]: Done 5757 out of 5757 | elapsed:   42.2s finished\n"
     ]
    },
    {
     "data": {
      "text/html": [
       "<div>\n",
       "<style scoped>\n",
       "    .dataframe tbody tr th:only-of-type {\n",
       "        vertical-align: middle;\n",
       "    }\n",
       "\n",
       "    .dataframe tbody tr th {\n",
       "        vertical-align: top;\n",
       "    }\n",
       "\n",
       "    .dataframe thead th {\n",
       "        text-align: right;\n",
       "    }\n",
       "</style>\n",
       "<table border=\"1\" class=\"dataframe\">\n",
       "  <thead>\n",
       "    <tr style=\"text-align: right;\">\n",
       "      <th></th>\n",
       "      <th>count</th>\n",
       "      <th>mean</th>\n",
       "      <th>std</th>\n",
       "      <th>min</th>\n",
       "      <th>25%</th>\n",
       "      <th>50%</th>\n",
       "      <th>75%</th>\n",
       "      <th>max</th>\n",
       "      <th>word1</th>\n",
       "      <th>word2</th>\n",
       "    </tr>\n",
       "  </thead>\n",
       "  <tbody>\n",
       "    <tr>\n",
       "      <th>0</th>\n",
       "      <td>5757.0</td>\n",
       "      <td>4.219385</td>\n",
       "      <td>1.174189</td>\n",
       "      <td>1.0</td>\n",
       "      <td>3.0</td>\n",
       "      <td>4.0</td>\n",
       "      <td>5.0</td>\n",
       "      <td>12.0</td>\n",
       "      <td>pales</td>\n",
       "      <td>corni</td>\n",
       "    </tr>\n",
       "  </tbody>\n",
       "</table>\n",
       "</div>"
      ],
      "text/plain": [
       "    count      mean       std  min  25%  50%  75%   max  word1  word2\n",
       "0  5757.0  4.219385  1.174189  1.0  3.0  4.0  5.0  12.0  pales  corni"
      ]
     },
     "metadata": {},
     "output_type": "display_data"
    },
    {
     "name": "stderr",
     "output_type": "stream",
     "text": [
      "[Parallel(n_jobs=5)]: Using backend LokyBackend with 5 concurrent workers.\n"
     ]
    },
    {
     "name": "stdout",
     "output_type": "stream",
     "text": [
      "[---- pales, courd ----]\n"
     ]
    },
    {
     "name": "stderr",
     "output_type": "stream",
     "text": [
      "[Parallel(n_jobs=5)]: Done  38 tasks      | elapsed:    0.4s\n",
      "[Parallel(n_jobs=5)]: Done 774 tasks      | elapsed:    5.5s\n",
      "[Parallel(n_jobs=5)]: Done 2054 tasks      | elapsed:   14.7s\n",
      "[Parallel(n_jobs=5)]: Done 3846 tasks      | elapsed:   27.9s\n",
      "[Parallel(n_jobs=5)]: Done 5748 out of 5757 | elapsed:   42.3s remaining:    0.1s\n",
      "[Parallel(n_jobs=5)]: Done 5757 out of 5757 | elapsed:   42.4s finished\n"
     ]
    },
    {
     "data": {
      "text/html": [
       "<div>\n",
       "<style scoped>\n",
       "    .dataframe tbody tr th:only-of-type {\n",
       "        vertical-align: middle;\n",
       "    }\n",
       "\n",
       "    .dataframe tbody tr th {\n",
       "        vertical-align: top;\n",
       "    }\n",
       "\n",
       "    .dataframe thead th {\n",
       "        text-align: right;\n",
       "    }\n",
       "</style>\n",
       "<table border=\"1\" class=\"dataframe\">\n",
       "  <thead>\n",
       "    <tr style=\"text-align: right;\">\n",
       "      <th></th>\n",
       "      <th>count</th>\n",
       "      <th>mean</th>\n",
       "      <th>std</th>\n",
       "      <th>min</th>\n",
       "      <th>25%</th>\n",
       "      <th>50%</th>\n",
       "      <th>75%</th>\n",
       "      <th>max</th>\n",
       "      <th>word1</th>\n",
       "      <th>word2</th>\n",
       "    </tr>\n",
       "  </thead>\n",
       "  <tbody>\n",
       "    <tr>\n",
       "      <th>0</th>\n",
       "      <td>5757.0</td>\n",
       "      <td>4.233108</td>\n",
       "      <td>1.156092</td>\n",
       "      <td>1.0</td>\n",
       "      <td>3.0</td>\n",
       "      <td>4.0</td>\n",
       "      <td>5.0</td>\n",
       "      <td>12.0</td>\n",
       "      <td>pales</td>\n",
       "      <td>courd</td>\n",
       "    </tr>\n",
       "  </tbody>\n",
       "</table>\n",
       "</div>"
      ],
      "text/plain": [
       "    count      mean       std  min  25%  50%  75%   max  word1  word2\n",
       "0  5757.0  4.233108  1.156092  1.0  3.0  4.0  5.0  12.0  pales  courd"
      ]
     },
     "metadata": {},
     "output_type": "display_data"
    },
    {
     "name": "stderr",
     "output_type": "stream",
     "text": [
      "[Parallel(n_jobs=5)]: Using backend LokyBackend with 5 concurrent workers.\n"
     ]
    },
    {
     "name": "stdout",
     "output_type": "stream",
     "text": [
      "[---- pales, bourd ----]\n"
     ]
    },
    {
     "name": "stderr",
     "output_type": "stream",
     "text": [
      "[Parallel(n_jobs=5)]: Done  38 tasks      | elapsed:    0.3s\n",
      "[Parallel(n_jobs=5)]: Done 774 tasks      | elapsed:    5.4s\n",
      "[Parallel(n_jobs=5)]: Done 2054 tasks      | elapsed:   14.5s\n",
      "[Parallel(n_jobs=5)]: Done 3846 tasks      | elapsed:   27.9s\n",
      "[Parallel(n_jobs=5)]: Done 5757 out of 5757 | elapsed:   42.3s finished\n"
     ]
    },
    {
     "data": {
      "text/html": [
       "<div>\n",
       "<style scoped>\n",
       "    .dataframe tbody tr th:only-of-type {\n",
       "        vertical-align: middle;\n",
       "    }\n",
       "\n",
       "    .dataframe tbody tr th {\n",
       "        vertical-align: top;\n",
       "    }\n",
       "\n",
       "    .dataframe thead th {\n",
       "        text-align: right;\n",
       "    }\n",
       "</style>\n",
       "<table border=\"1\" class=\"dataframe\">\n",
       "  <thead>\n",
       "    <tr style=\"text-align: right;\">\n",
       "      <th></th>\n",
       "      <th>count</th>\n",
       "      <th>mean</th>\n",
       "      <th>std</th>\n",
       "      <th>min</th>\n",
       "      <th>25%</th>\n",
       "      <th>50%</th>\n",
       "      <th>75%</th>\n",
       "      <th>max</th>\n",
       "      <th>word1</th>\n",
       "      <th>word2</th>\n",
       "    </tr>\n",
       "  </thead>\n",
       "  <tbody>\n",
       "    <tr>\n",
       "      <th>0</th>\n",
       "      <td>5757.0</td>\n",
       "      <td>4.272017</td>\n",
       "      <td>1.14574</td>\n",
       "      <td>1.0</td>\n",
       "      <td>3.0</td>\n",
       "      <td>4.0</td>\n",
       "      <td>5.0</td>\n",
       "      <td>11.0</td>\n",
       "      <td>pales</td>\n",
       "      <td>bourd</td>\n",
       "    </tr>\n",
       "  </tbody>\n",
       "</table>\n",
       "</div>"
      ],
      "text/plain": [
       "    count      mean      std  min  25%  50%  75%   max  word1  word2\n",
       "0  5757.0  4.272017  1.14574  1.0  3.0  4.0  5.0  11.0  pales  bourd"
      ]
     },
     "metadata": {},
     "output_type": "display_data"
    },
    {
     "name": "stderr",
     "output_type": "stream",
     "text": [
      "[Parallel(n_jobs=5)]: Using backend LokyBackend with 5 concurrent workers.\n"
     ]
    },
    {
     "name": "stdout",
     "output_type": "stream",
     "text": [
      "[---- pales, count ----]\n"
     ]
    },
    {
     "name": "stderr",
     "output_type": "stream",
     "text": [
      "[Parallel(n_jobs=5)]: Done  38 tasks      | elapsed:    0.3s\n",
      "[Parallel(n_jobs=5)]: Done 422 tasks      | elapsed:    2.9s\n",
      "[Parallel(n_jobs=5)]: Done 1062 tasks      | elapsed:    7.4s\n",
      "[Parallel(n_jobs=5)]: Done 1958 tasks      | elapsed:   13.7s\n",
      "[Parallel(n_jobs=5)]: Done 3110 tasks      | elapsed:   22.3s\n",
      "[Parallel(n_jobs=5)]: Done 4518 tasks      | elapsed:   32.8s\n",
      "[Parallel(n_jobs=5)]: Done 5748 out of 5757 | elapsed:   42.2s remaining:    0.1s\n",
      "[Parallel(n_jobs=5)]: Done 5757 out of 5757 | elapsed:   42.3s finished\n"
     ]
    },
    {
     "data": {
      "text/html": [
       "<div>\n",
       "<style scoped>\n",
       "    .dataframe tbody tr th:only-of-type {\n",
       "        vertical-align: middle;\n",
       "    }\n",
       "\n",
       "    .dataframe tbody tr th {\n",
       "        vertical-align: top;\n",
       "    }\n",
       "\n",
       "    .dataframe thead th {\n",
       "        text-align: right;\n",
       "    }\n",
       "</style>\n",
       "<table border=\"1\" class=\"dataframe\">\n",
       "  <thead>\n",
       "    <tr style=\"text-align: right;\">\n",
       "      <th></th>\n",
       "      <th>count</th>\n",
       "      <th>mean</th>\n",
       "      <th>std</th>\n",
       "      <th>min</th>\n",
       "      <th>25%</th>\n",
       "      <th>50%</th>\n",
       "      <th>75%</th>\n",
       "      <th>max</th>\n",
       "      <th>word1</th>\n",
       "      <th>word2</th>\n",
       "    </tr>\n",
       "  </thead>\n",
       "  <tbody>\n",
       "    <tr>\n",
       "      <th>0</th>\n",
       "      <td>5757.0</td>\n",
       "      <td>4.202015</td>\n",
       "      <td>1.144985</td>\n",
       "      <td>1.0</td>\n",
       "      <td>3.0</td>\n",
       "      <td>4.0</td>\n",
       "      <td>5.0</td>\n",
       "      <td>12.0</td>\n",
       "      <td>pales</td>\n",
       "      <td>count</td>\n",
       "    </tr>\n",
       "  </tbody>\n",
       "</table>\n",
       "</div>"
      ],
      "text/plain": [
       "    count      mean       std  min  25%  50%  75%   max  word1  word2\n",
       "0  5757.0  4.202015  1.144985  1.0  3.0  4.0  5.0  12.0  pales  count"
      ]
     },
     "metadata": {},
     "output_type": "display_data"
    },
    {
     "name": "stderr",
     "output_type": "stream",
     "text": [
      "[Parallel(n_jobs=5)]: Using backend LokyBackend with 5 concurrent workers.\n"
     ]
    },
    {
     "name": "stdout",
     "output_type": "stream",
     "text": [
      "[---- pales, boric ----]\n"
     ]
    },
    {
     "name": "stderr",
     "output_type": "stream",
     "text": [
      "[Parallel(n_jobs=5)]: Done  38 tasks      | elapsed:    0.4s\n",
      "[Parallel(n_jobs=5)]: Done 774 tasks      | elapsed:    5.4s\n",
      "[Parallel(n_jobs=5)]: Done 2054 tasks      | elapsed:   14.5s\n",
      "[Parallel(n_jobs=5)]: Done 3846 tasks      | elapsed:   28.1s\n",
      "[Parallel(n_jobs=5)]: Done 5748 out of 5757 | elapsed:   42.5s remaining:    0.1s\n",
      "[Parallel(n_jobs=5)]: Done 5757 out of 5757 | elapsed:   42.6s finished\n"
     ]
    },
    {
     "data": {
      "text/html": [
       "<div>\n",
       "<style scoped>\n",
       "    .dataframe tbody tr th:only-of-type {\n",
       "        vertical-align: middle;\n",
       "    }\n",
       "\n",
       "    .dataframe tbody tr th {\n",
       "        vertical-align: top;\n",
       "    }\n",
       "\n",
       "    .dataframe thead th {\n",
       "        text-align: right;\n",
       "    }\n",
       "</style>\n",
       "<table border=\"1\" class=\"dataframe\">\n",
       "  <thead>\n",
       "    <tr style=\"text-align: right;\">\n",
       "      <th></th>\n",
       "      <th>count</th>\n",
       "      <th>mean</th>\n",
       "      <th>std</th>\n",
       "      <th>min</th>\n",
       "      <th>25%</th>\n",
       "      <th>50%</th>\n",
       "      <th>75%</th>\n",
       "      <th>max</th>\n",
       "      <th>word1</th>\n",
       "      <th>word2</th>\n",
       "    </tr>\n",
       "  </thead>\n",
       "  <tbody>\n",
       "    <tr>\n",
       "      <th>0</th>\n",
       "      <td>5757.0</td>\n",
       "      <td>4.257078</td>\n",
       "      <td>1.153711</td>\n",
       "      <td>1.0</td>\n",
       "      <td>3.0</td>\n",
       "      <td>4.0</td>\n",
       "      <td>5.0</td>\n",
       "      <td>12.0</td>\n",
       "      <td>pales</td>\n",
       "      <td>boric</td>\n",
       "    </tr>\n",
       "  </tbody>\n",
       "</table>\n",
       "</div>"
      ],
      "text/plain": [
       "    count      mean       std  min  25%  50%  75%   max  word1  word2\n",
       "0  5757.0  4.257078  1.153711  1.0  3.0  4.0  5.0  12.0  pales  boric"
      ]
     },
     "metadata": {},
     "output_type": "display_data"
    },
    {
     "name": "stderr",
     "output_type": "stream",
     "text": [
      "[Parallel(n_jobs=5)]: Using backend LokyBackend with 5 concurrent workers.\n"
     ]
    },
    {
     "name": "stdout",
     "output_type": "stream",
     "text": [
      "[---- pales, court ----]\n"
     ]
    },
    {
     "name": "stderr",
     "output_type": "stream",
     "text": [
      "[Parallel(n_jobs=5)]: Done  38 tasks      | elapsed:    0.3s\n",
      "[Parallel(n_jobs=5)]: Done 774 tasks      | elapsed:    5.3s\n",
      "[Parallel(n_jobs=5)]: Done 2054 tasks      | elapsed:   14.2s\n",
      "[Parallel(n_jobs=5)]: Done 3846 tasks      | elapsed:   27.4s\n",
      "[Parallel(n_jobs=5)]: Done 5748 out of 5757 | elapsed:   41.5s remaining:    0.1s\n",
      "[Parallel(n_jobs=5)]: Done 5757 out of 5757 | elapsed:   41.7s finished\n"
     ]
    },
    {
     "data": {
      "text/html": [
       "<div>\n",
       "<style scoped>\n",
       "    .dataframe tbody tr th:only-of-type {\n",
       "        vertical-align: middle;\n",
       "    }\n",
       "\n",
       "    .dataframe tbody tr th {\n",
       "        vertical-align: top;\n",
       "    }\n",
       "\n",
       "    .dataframe thead th {\n",
       "        text-align: right;\n",
       "    }\n",
       "</style>\n",
       "<table border=\"1\" class=\"dataframe\">\n",
       "  <thead>\n",
       "    <tr style=\"text-align: right;\">\n",
       "      <th></th>\n",
       "      <th>count</th>\n",
       "      <th>mean</th>\n",
       "      <th>std</th>\n",
       "      <th>min</th>\n",
       "      <th>25%</th>\n",
       "      <th>50%</th>\n",
       "      <th>75%</th>\n",
       "      <th>max</th>\n",
       "      <th>word1</th>\n",
       "      <th>word2</th>\n",
       "    </tr>\n",
       "  </thead>\n",
       "  <tbody>\n",
       "    <tr>\n",
       "      <th>0</th>\n",
       "      <td>5757.0</td>\n",
       "      <td>4.17596</td>\n",
       "      <td>1.146857</td>\n",
       "      <td>1.0</td>\n",
       "      <td>3.0</td>\n",
       "      <td>4.0</td>\n",
       "      <td>5.0</td>\n",
       "      <td>12.0</td>\n",
       "      <td>pales</td>\n",
       "      <td>court</td>\n",
       "    </tr>\n",
       "  </tbody>\n",
       "</table>\n",
       "</div>"
      ],
      "text/plain": [
       "    count     mean       std  min  25%  50%  75%   max  word1  word2\n",
       "0  5757.0  4.17596  1.146857  1.0  3.0  4.0  5.0  12.0  pales  court"
      ]
     },
     "metadata": {},
     "output_type": "display_data"
    },
    {
     "name": "stderr",
     "output_type": "stream",
     "text": [
      "[Parallel(n_jobs=5)]: Using backend LokyBackend with 5 concurrent workers.\n"
     ]
    },
    {
     "name": "stdout",
     "output_type": "stream",
     "text": [
      "[---- pales, toric ----]\n"
     ]
    },
    {
     "name": "stderr",
     "output_type": "stream",
     "text": [
      "[Parallel(n_jobs=5)]: Done  38 tasks      | elapsed:    0.3s\n",
      "[Parallel(n_jobs=5)]: Done 774 tasks      | elapsed:    5.3s\n",
      "[Parallel(n_jobs=5)]: Done 2054 tasks      | elapsed:   14.2s\n",
      "[Parallel(n_jobs=5)]: Done 3846 tasks      | elapsed:   27.3s\n",
      "[Parallel(n_jobs=5)]: Done 5748 out of 5757 | elapsed:   41.4s remaining:    0.1s\n",
      "[Parallel(n_jobs=5)]: Done 5757 out of 5757 | elapsed:   41.5s finished\n"
     ]
    },
    {
     "data": {
      "text/html": [
       "<div>\n",
       "<style scoped>\n",
       "    .dataframe tbody tr th:only-of-type {\n",
       "        vertical-align: middle;\n",
       "    }\n",
       "\n",
       "    .dataframe tbody tr th {\n",
       "        vertical-align: top;\n",
       "    }\n",
       "\n",
       "    .dataframe thead th {\n",
       "        text-align: right;\n",
       "    }\n",
       "</style>\n",
       "<table border=\"1\" class=\"dataframe\">\n",
       "  <thead>\n",
       "    <tr style=\"text-align: right;\">\n",
       "      <th></th>\n",
       "      <th>count</th>\n",
       "      <th>mean</th>\n",
       "      <th>std</th>\n",
       "      <th>min</th>\n",
       "      <th>25%</th>\n",
       "      <th>50%</th>\n",
       "      <th>75%</th>\n",
       "      <th>max</th>\n",
       "      <th>word1</th>\n",
       "      <th>word2</th>\n",
       "    </tr>\n",
       "  </thead>\n",
       "  <tbody>\n",
       "    <tr>\n",
       "      <th>0</th>\n",
       "      <td>5757.0</td>\n",
       "      <td>4.152163</td>\n",
       "      <td>1.124364</td>\n",
       "      <td>1.0</td>\n",
       "      <td>3.0</td>\n",
       "      <td>4.0</td>\n",
       "      <td>5.0</td>\n",
       "      <td>12.0</td>\n",
       "      <td>pales</td>\n",
       "      <td>toric</td>\n",
       "    </tr>\n",
       "  </tbody>\n",
       "</table>\n",
       "</div>"
      ],
      "text/plain": [
       "    count      mean       std  min  25%  50%  75%   max  word1  word2\n",
       "0  5757.0  4.152163  1.124364  1.0  3.0  4.0  5.0  12.0  pales  toric"
      ]
     },
     "metadata": {},
     "output_type": "display_data"
    },
    {
     "name": "stderr",
     "output_type": "stream",
     "text": [
      "[Parallel(n_jobs=5)]: Using backend LokyBackend with 5 concurrent workers.\n"
     ]
    },
    {
     "name": "stdout",
     "output_type": "stream",
     "text": [
      "[---- pales, boink ----]\n"
     ]
    },
    {
     "name": "stderr",
     "output_type": "stream",
     "text": [
      "[Parallel(n_jobs=5)]: Done  38 tasks      | elapsed:    0.4s\n",
      "[Parallel(n_jobs=5)]: Done 774 tasks      | elapsed:    5.6s\n",
      "[Parallel(n_jobs=5)]: Done 2054 tasks      | elapsed:   14.7s\n",
      "[Parallel(n_jobs=5)]: Done 3846 tasks      | elapsed:   28.3s\n",
      "[Parallel(n_jobs=5)]: Done 5748 out of 5757 | elapsed:   42.8s remaining:    0.1s\n",
      "[Parallel(n_jobs=5)]: Done 5757 out of 5757 | elapsed:   42.9s finished\n"
     ]
    },
    {
     "data": {
      "text/html": [
       "<div>\n",
       "<style scoped>\n",
       "    .dataframe tbody tr th:only-of-type {\n",
       "        vertical-align: middle;\n",
       "    }\n",
       "\n",
       "    .dataframe tbody tr th {\n",
       "        vertical-align: top;\n",
       "    }\n",
       "\n",
       "    .dataframe thead th {\n",
       "        text-align: right;\n",
       "    }\n",
       "</style>\n",
       "<table border=\"1\" class=\"dataframe\">\n",
       "  <thead>\n",
       "    <tr style=\"text-align: right;\">\n",
       "      <th></th>\n",
       "      <th>count</th>\n",
       "      <th>mean</th>\n",
       "      <th>std</th>\n",
       "      <th>min</th>\n",
       "      <th>25%</th>\n",
       "      <th>50%</th>\n",
       "      <th>75%</th>\n",
       "      <th>max</th>\n",
       "      <th>word1</th>\n",
       "      <th>word2</th>\n",
       "    </tr>\n",
       "  </thead>\n",
       "  <tbody>\n",
       "    <tr>\n",
       "      <th>0</th>\n",
       "      <td>5757.0</td>\n",
       "      <td>4.330207</td>\n",
       "      <td>1.163589</td>\n",
       "      <td>1.0</td>\n",
       "      <td>4.0</td>\n",
       "      <td>4.0</td>\n",
       "      <td>5.0</td>\n",
       "      <td>12.0</td>\n",
       "      <td>pales</td>\n",
       "      <td>boink</td>\n",
       "    </tr>\n",
       "  </tbody>\n",
       "</table>\n",
       "</div>"
      ],
      "text/plain": [
       "    count      mean       std  min  25%  50%  75%   max  word1  word2\n",
       "0  5757.0  4.330207  1.163589  1.0  4.0  4.0  5.0  12.0  pales  boink"
      ]
     },
     "metadata": {},
     "output_type": "display_data"
    },
    {
     "name": "stderr",
     "output_type": "stream",
     "text": [
      "[Parallel(n_jobs=5)]: Using backend LokyBackend with 5 concurrent workers.\n"
     ]
    },
    {
     "name": "stdout",
     "output_type": "stream",
     "text": [
      "\n",
      "\n",
      "\n",
      "--------------------\n",
      "tores\n",
      "--------------------\n",
      "['daily', 'gaily', 'haily', 'canid', 'calid', 'bialy', 'cauld', 'gaudy', 'halid', 'gaumy']\n",
      "[---- tores, daily ----]\n"
     ]
    },
    {
     "name": "stderr",
     "output_type": "stream",
     "text": [
      "[Parallel(n_jobs=5)]: Done  38 tasks      | elapsed:    0.3s\n",
      "[Parallel(n_jobs=5)]: Done 774 tasks      | elapsed:    5.3s\n",
      "[Parallel(n_jobs=5)]: Done 2054 tasks      | elapsed:   14.5s\n",
      "[Parallel(n_jobs=5)]: Done 3846 tasks      | elapsed:   27.7s\n",
      "[Parallel(n_jobs=5)]: Done 5748 out of 5757 | elapsed:   41.9s remaining:    0.1s\n",
      "[Parallel(n_jobs=5)]: Done 5757 out of 5757 | elapsed:   42.1s finished\n"
     ]
    },
    {
     "data": {
      "text/html": [
       "<div>\n",
       "<style scoped>\n",
       "    .dataframe tbody tr th:only-of-type {\n",
       "        vertical-align: middle;\n",
       "    }\n",
       "\n",
       "    .dataframe tbody tr th {\n",
       "        vertical-align: top;\n",
       "    }\n",
       "\n",
       "    .dataframe thead th {\n",
       "        text-align: right;\n",
       "    }\n",
       "</style>\n",
       "<table border=\"1\" class=\"dataframe\">\n",
       "  <thead>\n",
       "    <tr style=\"text-align: right;\">\n",
       "      <th></th>\n",
       "      <th>count</th>\n",
       "      <th>mean</th>\n",
       "      <th>std</th>\n",
       "      <th>min</th>\n",
       "      <th>25%</th>\n",
       "      <th>50%</th>\n",
       "      <th>75%</th>\n",
       "      <th>max</th>\n",
       "      <th>word1</th>\n",
       "      <th>word2</th>\n",
       "    </tr>\n",
       "  </thead>\n",
       "  <tbody>\n",
       "    <tr>\n",
       "      <th>0</th>\n",
       "      <td>5757.0</td>\n",
       "      <td>4.254473</td>\n",
       "      <td>1.202138</td>\n",
       "      <td>2.0</td>\n",
       "      <td>3.0</td>\n",
       "      <td>4.0</td>\n",
       "      <td>5.0</td>\n",
       "      <td>12.0</td>\n",
       "      <td>tores</td>\n",
       "      <td>daily</td>\n",
       "    </tr>\n",
       "  </tbody>\n",
       "</table>\n",
       "</div>"
      ],
      "text/plain": [
       "    count      mean       std  min  25%  50%  75%   max  word1  word2\n",
       "0  5757.0  4.254473  1.202138  2.0  3.0  4.0  5.0  12.0  tores  daily"
      ]
     },
     "metadata": {},
     "output_type": "display_data"
    },
    {
     "name": "stderr",
     "output_type": "stream",
     "text": [
      "[Parallel(n_jobs=5)]: Using backend LokyBackend with 5 concurrent workers.\n"
     ]
    },
    {
     "name": "stdout",
     "output_type": "stream",
     "text": [
      "[---- tores, gaily ----]\n"
     ]
    },
    {
     "name": "stderr",
     "output_type": "stream",
     "text": [
      "[Parallel(n_jobs=5)]: Done  38 tasks      | elapsed:    0.3s\n",
      "[Parallel(n_jobs=5)]: Done 774 tasks      | elapsed:    5.3s\n",
      "[Parallel(n_jobs=5)]: Done 2054 tasks      | elapsed:   14.4s\n",
      "[Parallel(n_jobs=5)]: Done 3846 tasks      | elapsed:   27.7s\n",
      "[Parallel(n_jobs=5)]: Done 5748 out of 5757 | elapsed:   42.1s remaining:    0.1s\n",
      "[Parallel(n_jobs=5)]: Done 5757 out of 5757 | elapsed:   42.2s finished\n"
     ]
    },
    {
     "data": {
      "text/html": [
       "<div>\n",
       "<style scoped>\n",
       "    .dataframe tbody tr th:only-of-type {\n",
       "        vertical-align: middle;\n",
       "    }\n",
       "\n",
       "    .dataframe tbody tr th {\n",
       "        vertical-align: top;\n",
       "    }\n",
       "\n",
       "    .dataframe thead th {\n",
       "        text-align: right;\n",
       "    }\n",
       "</style>\n",
       "<table border=\"1\" class=\"dataframe\">\n",
       "  <thead>\n",
       "    <tr style=\"text-align: right;\">\n",
       "      <th></th>\n",
       "      <th>count</th>\n",
       "      <th>mean</th>\n",
       "      <th>std</th>\n",
       "      <th>min</th>\n",
       "      <th>25%</th>\n",
       "      <th>50%</th>\n",
       "      <th>75%</th>\n",
       "      <th>max</th>\n",
       "      <th>word1</th>\n",
       "      <th>word2</th>\n",
       "    </tr>\n",
       "  </thead>\n",
       "  <tbody>\n",
       "    <tr>\n",
       "      <th>0</th>\n",
       "      <td>5757.0</td>\n",
       "      <td>4.302588</td>\n",
       "      <td>1.230892</td>\n",
       "      <td>2.0</td>\n",
       "      <td>3.0</td>\n",
       "      <td>4.0</td>\n",
       "      <td>5.0</td>\n",
       "      <td>12.0</td>\n",
       "      <td>tores</td>\n",
       "      <td>gaily</td>\n",
       "    </tr>\n",
       "  </tbody>\n",
       "</table>\n",
       "</div>"
      ],
      "text/plain": [
       "    count      mean       std  min  25%  50%  75%   max  word1  word2\n",
       "0  5757.0  4.302588  1.230892  2.0  3.0  4.0  5.0  12.0  tores  gaily"
      ]
     },
     "metadata": {},
     "output_type": "display_data"
    },
    {
     "name": "stderr",
     "output_type": "stream",
     "text": [
      "[Parallel(n_jobs=5)]: Using backend LokyBackend with 5 concurrent workers.\n"
     ]
    },
    {
     "name": "stdout",
     "output_type": "stream",
     "text": [
      "[---- tores, haily ----]\n"
     ]
    },
    {
     "name": "stderr",
     "output_type": "stream",
     "text": [
      "[Parallel(n_jobs=5)]: Done  38 tasks      | elapsed:    0.3s\n",
      "[Parallel(n_jobs=5)]: Done 774 tasks      | elapsed:    5.2s\n",
      "[Parallel(n_jobs=5)]: Done 2054 tasks      | elapsed:   14.5s\n",
      "[Parallel(n_jobs=5)]: Done 3846 tasks      | elapsed:   27.9s\n",
      "[Parallel(n_jobs=5)]: Done 5748 out of 5757 | elapsed:   42.1s remaining:    0.1s\n",
      "[Parallel(n_jobs=5)]: Done 5757 out of 5757 | elapsed:   42.3s finished\n"
     ]
    },
    {
     "data": {
      "text/html": [
       "<div>\n",
       "<style scoped>\n",
       "    .dataframe tbody tr th:only-of-type {\n",
       "        vertical-align: middle;\n",
       "    }\n",
       "\n",
       "    .dataframe tbody tr th {\n",
       "        vertical-align: top;\n",
       "    }\n",
       "\n",
       "    .dataframe thead th {\n",
       "        text-align: right;\n",
       "    }\n",
       "</style>\n",
       "<table border=\"1\" class=\"dataframe\">\n",
       "  <thead>\n",
       "    <tr style=\"text-align: right;\">\n",
       "      <th></th>\n",
       "      <th>count</th>\n",
       "      <th>mean</th>\n",
       "      <th>std</th>\n",
       "      <th>min</th>\n",
       "      <th>25%</th>\n",
       "      <th>50%</th>\n",
       "      <th>75%</th>\n",
       "      <th>max</th>\n",
       "      <th>word1</th>\n",
       "      <th>word2</th>\n",
       "    </tr>\n",
       "  </thead>\n",
       "  <tbody>\n",
       "    <tr>\n",
       "      <th>0</th>\n",
       "      <td>5757.0</td>\n",
       "      <td>4.302067</td>\n",
       "      <td>1.223731</td>\n",
       "      <td>3.0</td>\n",
       "      <td>3.0</td>\n",
       "      <td>4.0</td>\n",
       "      <td>5.0</td>\n",
       "      <td>12.0</td>\n",
       "      <td>tores</td>\n",
       "      <td>haily</td>\n",
       "    </tr>\n",
       "  </tbody>\n",
       "</table>\n",
       "</div>"
      ],
      "text/plain": [
       "    count      mean       std  min  25%  50%  75%   max  word1  word2\n",
       "0  5757.0  4.302067  1.223731  3.0  3.0  4.0  5.0  12.0  tores  haily"
      ]
     },
     "metadata": {},
     "output_type": "display_data"
    },
    {
     "name": "stderr",
     "output_type": "stream",
     "text": [
      "[Parallel(n_jobs=5)]: Using backend LokyBackend with 5 concurrent workers.\n"
     ]
    },
    {
     "name": "stdout",
     "output_type": "stream",
     "text": [
      "[---- tores, canid ----]\n"
     ]
    },
    {
     "name": "stderr",
     "output_type": "stream",
     "text": [
      "[Parallel(n_jobs=5)]: Done  38 tasks      | elapsed:    0.3s\n",
      "[Parallel(n_jobs=5)]: Done 774 tasks      | elapsed:    5.1s\n",
      "[Parallel(n_jobs=5)]: Done 2054 tasks      | elapsed:   14.0s\n",
      "[Parallel(n_jobs=5)]: Done 3846 tasks      | elapsed:   27.1s\n",
      "[Parallel(n_jobs=5)]: Done 5748 out of 5757 | elapsed:   41.3s remaining:    0.1s\n",
      "[Parallel(n_jobs=5)]: Done 5757 out of 5757 | elapsed:   41.4s finished\n"
     ]
    },
    {
     "data": {
      "text/html": [
       "<div>\n",
       "<style scoped>\n",
       "    .dataframe tbody tr th:only-of-type {\n",
       "        vertical-align: middle;\n",
       "    }\n",
       "\n",
       "    .dataframe tbody tr th {\n",
       "        vertical-align: top;\n",
       "    }\n",
       "\n",
       "    .dataframe thead th {\n",
       "        text-align: right;\n",
       "    }\n",
       "</style>\n",
       "<table border=\"1\" class=\"dataframe\">\n",
       "  <thead>\n",
       "    <tr style=\"text-align: right;\">\n",
       "      <th></th>\n",
       "      <th>count</th>\n",
       "      <th>mean</th>\n",
       "      <th>std</th>\n",
       "      <th>min</th>\n",
       "      <th>25%</th>\n",
       "      <th>50%</th>\n",
       "      <th>75%</th>\n",
       "      <th>max</th>\n",
       "      <th>word1</th>\n",
       "      <th>word2</th>\n",
       "    </tr>\n",
       "  </thead>\n",
       "  <tbody>\n",
       "    <tr>\n",
       "      <th>0</th>\n",
       "      <td>5757.0</td>\n",
       "      <td>4.195935</td>\n",
       "      <td>1.182378</td>\n",
       "      <td>3.0</td>\n",
       "      <td>3.0</td>\n",
       "      <td>4.0</td>\n",
       "      <td>5.0</td>\n",
       "      <td>11.0</td>\n",
       "      <td>tores</td>\n",
       "      <td>canid</td>\n",
       "    </tr>\n",
       "  </tbody>\n",
       "</table>\n",
       "</div>"
      ],
      "text/plain": [
       "    count      mean       std  min  25%  50%  75%   max  word1  word2\n",
       "0  5757.0  4.195935  1.182378  3.0  3.0  4.0  5.0  11.0  tores  canid"
      ]
     },
     "metadata": {},
     "output_type": "display_data"
    },
    {
     "name": "stderr",
     "output_type": "stream",
     "text": [
      "[Parallel(n_jobs=5)]: Using backend LokyBackend with 5 concurrent workers.\n"
     ]
    },
    {
     "name": "stdout",
     "output_type": "stream",
     "text": [
      "[---- tores, calid ----]\n"
     ]
    },
    {
     "name": "stderr",
     "output_type": "stream",
     "text": [
      "[Parallel(n_jobs=5)]: Done  38 tasks      | elapsed:    0.3s\n",
      "[Parallel(n_jobs=5)]: Done 774 tasks      | elapsed:    5.2s\n",
      "[Parallel(n_jobs=5)]: Done 2054 tasks      | elapsed:   14.1s\n",
      "[Parallel(n_jobs=5)]: Done 3846 tasks      | elapsed:   27.4s\n",
      "[Parallel(n_jobs=5)]: Done 5748 out of 5757 | elapsed:   41.5s remaining:    0.1s\n",
      "[Parallel(n_jobs=5)]: Done 5757 out of 5757 | elapsed:   41.7s finished\n"
     ]
    },
    {
     "data": {
      "text/html": [
       "<div>\n",
       "<style scoped>\n",
       "    .dataframe tbody tr th:only-of-type {\n",
       "        vertical-align: middle;\n",
       "    }\n",
       "\n",
       "    .dataframe tbody tr th {\n",
       "        vertical-align: top;\n",
       "    }\n",
       "\n",
       "    .dataframe thead th {\n",
       "        text-align: right;\n",
       "    }\n",
       "</style>\n",
       "<table border=\"1\" class=\"dataframe\">\n",
       "  <thead>\n",
       "    <tr style=\"text-align: right;\">\n",
       "      <th></th>\n",
       "      <th>count</th>\n",
       "      <th>mean</th>\n",
       "      <th>std</th>\n",
       "      <th>min</th>\n",
       "      <th>25%</th>\n",
       "      <th>50%</th>\n",
       "      <th>75%</th>\n",
       "      <th>max</th>\n",
       "      <th>word1</th>\n",
       "      <th>word2</th>\n",
       "    </tr>\n",
       "  </thead>\n",
       "  <tbody>\n",
       "    <tr>\n",
       "      <th>0</th>\n",
       "      <td>5757.0</td>\n",
       "      <td>4.183081</td>\n",
       "      <td>1.167744</td>\n",
       "      <td>3.0</td>\n",
       "      <td>3.0</td>\n",
       "      <td>4.0</td>\n",
       "      <td>5.0</td>\n",
       "      <td>12.0</td>\n",
       "      <td>tores</td>\n",
       "      <td>calid</td>\n",
       "    </tr>\n",
       "  </tbody>\n",
       "</table>\n",
       "</div>"
      ],
      "text/plain": [
       "    count      mean       std  min  25%  50%  75%   max  word1  word2\n",
       "0  5757.0  4.183081  1.167744  3.0  3.0  4.0  5.0  12.0  tores  calid"
      ]
     },
     "metadata": {},
     "output_type": "display_data"
    },
    {
     "name": "stderr",
     "output_type": "stream",
     "text": [
      "[Parallel(n_jobs=5)]: Using backend LokyBackend with 5 concurrent workers.\n"
     ]
    },
    {
     "name": "stdout",
     "output_type": "stream",
     "text": [
      "[---- tores, bialy ----]\n"
     ]
    },
    {
     "name": "stderr",
     "output_type": "stream",
     "text": [
      "[Parallel(n_jobs=5)]: Done  38 tasks      | elapsed:    0.3s\n",
      "[Parallel(n_jobs=5)]: Done 774 tasks      | elapsed:    5.3s\n",
      "[Parallel(n_jobs=5)]: Done 2054 tasks      | elapsed:   15.1s\n",
      "[Parallel(n_jobs=5)]: Done 3846 tasks      | elapsed:   29.8s\n",
      "[Parallel(n_jobs=5)]: Done 5748 out of 5757 | elapsed:   45.7s remaining:    0.1s\n",
      "[Parallel(n_jobs=5)]: Done 5757 out of 5757 | elapsed:   45.8s finished\n"
     ]
    },
    {
     "data": {
      "text/html": [
       "<div>\n",
       "<style scoped>\n",
       "    .dataframe tbody tr th:only-of-type {\n",
       "        vertical-align: middle;\n",
       "    }\n",
       "\n",
       "    .dataframe tbody tr th {\n",
       "        vertical-align: top;\n",
       "    }\n",
       "\n",
       "    .dataframe thead th {\n",
       "        text-align: right;\n",
       "    }\n",
       "</style>\n",
       "<table border=\"1\" class=\"dataframe\">\n",
       "  <thead>\n",
       "    <tr style=\"text-align: right;\">\n",
       "      <th></th>\n",
       "      <th>count</th>\n",
       "      <th>mean</th>\n",
       "      <th>std</th>\n",
       "      <th>min</th>\n",
       "      <th>25%</th>\n",
       "      <th>50%</th>\n",
       "      <th>75%</th>\n",
       "      <th>max</th>\n",
       "      <th>word1</th>\n",
       "      <th>word2</th>\n",
       "    </tr>\n",
       "  </thead>\n",
       "  <tbody>\n",
       "    <tr>\n",
       "      <th>0</th>\n",
       "      <td>5757.0</td>\n",
       "      <td>4.275838</td>\n",
       "      <td>1.199951</td>\n",
       "      <td>3.0</td>\n",
       "      <td>3.0</td>\n",
       "      <td>4.0</td>\n",
       "      <td>5.0</td>\n",
       "      <td>12.0</td>\n",
       "      <td>tores</td>\n",
       "      <td>bialy</td>\n",
       "    </tr>\n",
       "  </tbody>\n",
       "</table>\n",
       "</div>"
      ],
      "text/plain": [
       "    count      mean       std  min  25%  50%  75%   max  word1  word2\n",
       "0  5757.0  4.275838  1.199951  3.0  3.0  4.0  5.0  12.0  tores  bialy"
      ]
     },
     "metadata": {},
     "output_type": "display_data"
    },
    {
     "name": "stderr",
     "output_type": "stream",
     "text": [
      "[Parallel(n_jobs=5)]: Using backend LokyBackend with 5 concurrent workers.\n"
     ]
    },
    {
     "name": "stdout",
     "output_type": "stream",
     "text": [
      "[---- tores, cauld ----]\n"
     ]
    },
    {
     "name": "stderr",
     "output_type": "stream",
     "text": [
      "[Parallel(n_jobs=5)]: Done  38 tasks      | elapsed:    0.4s\n",
      "[Parallel(n_jobs=5)]: Done 422 tasks      | elapsed:    3.2s\n",
      "[Parallel(n_jobs=5)]: Done 1062 tasks      | elapsed:    8.0s\n",
      "[Parallel(n_jobs=5)]: Done 1958 tasks      | elapsed:   15.1s\n",
      "[Parallel(n_jobs=5)]: Done 3110 tasks      | elapsed:   24.3s\n",
      "[Parallel(n_jobs=5)]: Done 4518 tasks      | elapsed:   34.7s\n",
      "[Parallel(n_jobs=5)]: Done 5757 out of 5757 | elapsed:   44.0s finished\n"
     ]
    },
    {
     "data": {
      "text/html": [
       "<div>\n",
       "<style scoped>\n",
       "    .dataframe tbody tr th:only-of-type {\n",
       "        vertical-align: middle;\n",
       "    }\n",
       "\n",
       "    .dataframe tbody tr th {\n",
       "        vertical-align: top;\n",
       "    }\n",
       "\n",
       "    .dataframe thead th {\n",
       "        text-align: right;\n",
       "    }\n",
       "</style>\n",
       "<table border=\"1\" class=\"dataframe\">\n",
       "  <thead>\n",
       "    <tr style=\"text-align: right;\">\n",
       "      <th></th>\n",
       "      <th>count</th>\n",
       "      <th>mean</th>\n",
       "      <th>std</th>\n",
       "      <th>min</th>\n",
       "      <th>25%</th>\n",
       "      <th>50%</th>\n",
       "      <th>75%</th>\n",
       "      <th>max</th>\n",
       "      <th>word1</th>\n",
       "      <th>word2</th>\n",
       "    </tr>\n",
       "  </thead>\n",
       "  <tbody>\n",
       "    <tr>\n",
       "      <th>0</th>\n",
       "      <td>5757.0</td>\n",
       "      <td>4.210005</td>\n",
       "      <td>1.16477</td>\n",
       "      <td>3.0</td>\n",
       "      <td>3.0</td>\n",
       "      <td>4.0</td>\n",
       "      <td>5.0</td>\n",
       "      <td>12.0</td>\n",
       "      <td>tores</td>\n",
       "      <td>cauld</td>\n",
       "    </tr>\n",
       "  </tbody>\n",
       "</table>\n",
       "</div>"
      ],
      "text/plain": [
       "    count      mean      std  min  25%  50%  75%   max  word1  word2\n",
       "0  5757.0  4.210005  1.16477  3.0  3.0  4.0  5.0  12.0  tores  cauld"
      ]
     },
     "metadata": {},
     "output_type": "display_data"
    },
    {
     "name": "stderr",
     "output_type": "stream",
     "text": [
      "[Parallel(n_jobs=5)]: Using backend LokyBackend with 5 concurrent workers.\n"
     ]
    },
    {
     "name": "stdout",
     "output_type": "stream",
     "text": [
      "[---- tores, gaudy ----]\n"
     ]
    },
    {
     "name": "stderr",
     "output_type": "stream",
     "text": [
      "[Parallel(n_jobs=5)]: Done  38 tasks      | elapsed:    0.4s\n",
      "[Parallel(n_jobs=5)]: Done 774 tasks      | elapsed:    5.3s\n",
      "[Parallel(n_jobs=5)]: Done 2054 tasks      | elapsed:   14.7s\n",
      "[Parallel(n_jobs=5)]: Done 3846 tasks      | elapsed:   28.3s\n",
      "[Parallel(n_jobs=5)]: Done 5748 out of 5757 | elapsed:   43.4s remaining:    0.1s\n",
      "[Parallel(n_jobs=5)]: Done 5757 out of 5757 | elapsed:   43.5s finished\n"
     ]
    },
    {
     "data": {
      "text/html": [
       "<div>\n",
       "<style scoped>\n",
       "    .dataframe tbody tr th:only-of-type {\n",
       "        vertical-align: middle;\n",
       "    }\n",
       "\n",
       "    .dataframe tbody tr th {\n",
       "        vertical-align: top;\n",
       "    }\n",
       "\n",
       "    .dataframe thead th {\n",
       "        text-align: right;\n",
       "    }\n",
       "</style>\n",
       "<table border=\"1\" class=\"dataframe\">\n",
       "  <thead>\n",
       "    <tr style=\"text-align: right;\">\n",
       "      <th></th>\n",
       "      <th>count</th>\n",
       "      <th>mean</th>\n",
       "      <th>std</th>\n",
       "      <th>min</th>\n",
       "      <th>25%</th>\n",
       "      <th>50%</th>\n",
       "      <th>75%</th>\n",
       "      <th>max</th>\n",
       "      <th>word1</th>\n",
       "      <th>word2</th>\n",
       "    </tr>\n",
       "  </thead>\n",
       "  <tbody>\n",
       "    <tr>\n",
       "      <th>0</th>\n",
       "      <td>5757.0</td>\n",
       "      <td>4.376238</td>\n",
       "      <td>1.225813</td>\n",
       "      <td>2.0</td>\n",
       "      <td>4.0</td>\n",
       "      <td>4.0</td>\n",
       "      <td>5.0</td>\n",
       "      <td>12.0</td>\n",
       "      <td>tores</td>\n",
       "      <td>gaudy</td>\n",
       "    </tr>\n",
       "  </tbody>\n",
       "</table>\n",
       "</div>"
      ],
      "text/plain": [
       "    count      mean       std  min  25%  50%  75%   max  word1  word2\n",
       "0  5757.0  4.376238  1.225813  2.0  4.0  4.0  5.0  12.0  tores  gaudy"
      ]
     },
     "metadata": {},
     "output_type": "display_data"
    },
    {
     "name": "stderr",
     "output_type": "stream",
     "text": [
      "[Parallel(n_jobs=5)]: Using backend LokyBackend with 5 concurrent workers.\n"
     ]
    },
    {
     "name": "stdout",
     "output_type": "stream",
     "text": [
      "[---- tores, halid ----]\n"
     ]
    },
    {
     "name": "stderr",
     "output_type": "stream",
     "text": [
      "[Parallel(n_jobs=5)]: Done  38 tasks      | elapsed:    0.3s\n",
      "[Parallel(n_jobs=5)]: Done 774 tasks      | elapsed:    5.1s\n",
      "[Parallel(n_jobs=5)]: Done 2054 tasks      | elapsed:   14.1s\n",
      "[Parallel(n_jobs=5)]: Done 3846 tasks      | elapsed:   27.1s\n",
      "[Parallel(n_jobs=5)]: Done 5748 out of 5757 | elapsed:   41.1s remaining:    0.1s\n",
      "[Parallel(n_jobs=5)]: Done 5757 out of 5757 | elapsed:   41.3s finished\n"
     ]
    },
    {
     "data": {
      "text/html": [
       "<div>\n",
       "<style scoped>\n",
       "    .dataframe tbody tr th:only-of-type {\n",
       "        vertical-align: middle;\n",
       "    }\n",
       "\n",
       "    .dataframe tbody tr th {\n",
       "        vertical-align: top;\n",
       "    }\n",
       "\n",
       "    .dataframe thead th {\n",
       "        text-align: right;\n",
       "    }\n",
       "</style>\n",
       "<table border=\"1\" class=\"dataframe\">\n",
       "  <thead>\n",
       "    <tr style=\"text-align: right;\">\n",
       "      <th></th>\n",
       "      <th>count</th>\n",
       "      <th>mean</th>\n",
       "      <th>std</th>\n",
       "      <th>min</th>\n",
       "      <th>25%</th>\n",
       "      <th>50%</th>\n",
       "      <th>75%</th>\n",
       "      <th>max</th>\n",
       "      <th>word1</th>\n",
       "      <th>word2</th>\n",
       "    </tr>\n",
       "  </thead>\n",
       "  <tbody>\n",
       "    <tr>\n",
       "      <th>0</th>\n",
       "      <td>5757.0</td>\n",
       "      <td>4.217822</td>\n",
       "      <td>1.15892</td>\n",
       "      <td>3.0</td>\n",
       "      <td>3.0</td>\n",
       "      <td>4.0</td>\n",
       "      <td>5.0</td>\n",
       "      <td>11.0</td>\n",
       "      <td>tores</td>\n",
       "      <td>halid</td>\n",
       "    </tr>\n",
       "  </tbody>\n",
       "</table>\n",
       "</div>"
      ],
      "text/plain": [
       "    count      mean      std  min  25%  50%  75%   max  word1  word2\n",
       "0  5757.0  4.217822  1.15892  3.0  3.0  4.0  5.0  11.0  tores  halid"
      ]
     },
     "metadata": {},
     "output_type": "display_data"
    },
    {
     "name": "stderr",
     "output_type": "stream",
     "text": [
      "[Parallel(n_jobs=5)]: Using backend LokyBackend with 5 concurrent workers.\n"
     ]
    },
    {
     "name": "stdout",
     "output_type": "stream",
     "text": [
      "[---- tores, gaumy ----]\n"
     ]
    },
    {
     "name": "stderr",
     "output_type": "stream",
     "text": [
      "[Parallel(n_jobs=5)]: Done  38 tasks      | elapsed:    0.3s\n",
      "[Parallel(n_jobs=5)]: Done 774 tasks      | elapsed:    5.3s\n",
      "[Parallel(n_jobs=5)]: Done 2054 tasks      | elapsed:   14.6s\n",
      "[Parallel(n_jobs=5)]: Done 3846 tasks      | elapsed:   28.0s\n",
      "[Parallel(n_jobs=5)]: Done 5748 out of 5757 | elapsed:   42.7s remaining:    0.1s\n",
      "[Parallel(n_jobs=5)]: Done 5757 out of 5757 | elapsed:   42.8s finished\n"
     ]
    },
    {
     "data": {
      "text/html": [
       "<div>\n",
       "<style scoped>\n",
       "    .dataframe tbody tr th:only-of-type {\n",
       "        vertical-align: middle;\n",
       "    }\n",
       "\n",
       "    .dataframe tbody tr th {\n",
       "        vertical-align: top;\n",
       "    }\n",
       "\n",
       "    .dataframe thead th {\n",
       "        text-align: right;\n",
       "    }\n",
       "</style>\n",
       "<table border=\"1\" class=\"dataframe\">\n",
       "  <thead>\n",
       "    <tr style=\"text-align: right;\">\n",
       "      <th></th>\n",
       "      <th>count</th>\n",
       "      <th>mean</th>\n",
       "      <th>std</th>\n",
       "      <th>min</th>\n",
       "      <th>25%</th>\n",
       "      <th>50%</th>\n",
       "      <th>75%</th>\n",
       "      <th>max</th>\n",
       "      <th>word1</th>\n",
       "      <th>word2</th>\n",
       "    </tr>\n",
       "  </thead>\n",
       "  <tbody>\n",
       "    <tr>\n",
       "      <th>0</th>\n",
       "      <td>5757.0</td>\n",
       "      <td>4.364426</td>\n",
       "      <td>1.201793</td>\n",
       "      <td>3.0</td>\n",
       "      <td>4.0</td>\n",
       "      <td>4.0</td>\n",
       "      <td>5.0</td>\n",
       "      <td>11.0</td>\n",
       "      <td>tores</td>\n",
       "      <td>gaumy</td>\n",
       "    </tr>\n",
       "  </tbody>\n",
       "</table>\n",
       "</div>"
      ],
      "text/plain": [
       "    count      mean       std  min  25%  50%  75%   max  word1  word2\n",
       "0  5757.0  4.364426  1.201793  3.0  4.0  4.0  5.0  11.0  tores  gaumy"
      ]
     },
     "metadata": {},
     "output_type": "display_data"
    },
    {
     "name": "stderr",
     "output_type": "stream",
     "text": [
      "[Parallel(n_jobs=5)]: Using backend LokyBackend with 5 concurrent workers.\n"
     ]
    },
    {
     "name": "stdout",
     "output_type": "stream",
     "text": [
      "\n",
      "\n",
      "\n",
      "--------------------\n",
      "tares\n",
      "--------------------\n",
      "['doily', 'poind', 'noily', 'piony', 'could', 'bound', 'colin', 'pound', 'boink', 'mound']\n",
      "[---- tares, doily ----]\n"
     ]
    },
    {
     "name": "stderr",
     "output_type": "stream",
     "text": [
      "[Parallel(n_jobs=5)]: Done  38 tasks      | elapsed:    0.3s\n",
      "[Parallel(n_jobs=5)]: Done 774 tasks      | elapsed:    5.0s\n",
      "[Parallel(n_jobs=5)]: Done 2054 tasks      | elapsed:   14.0s\n",
      "[Parallel(n_jobs=5)]: Done 3846 tasks      | elapsed:   27.1s\n",
      "[Parallel(n_jobs=5)]: Done 5748 out of 5757 | elapsed:   41.4s remaining:    0.1s\n",
      "[Parallel(n_jobs=5)]: Done 5757 out of 5757 | elapsed:   41.5s finished\n"
     ]
    },
    {
     "data": {
      "text/html": [
       "<div>\n",
       "<style scoped>\n",
       "    .dataframe tbody tr th:only-of-type {\n",
       "        vertical-align: middle;\n",
       "    }\n",
       "\n",
       "    .dataframe tbody tr th {\n",
       "        vertical-align: top;\n",
       "    }\n",
       "\n",
       "    .dataframe thead th {\n",
       "        text-align: right;\n",
       "    }\n",
       "</style>\n",
       "<table border=\"1\" class=\"dataframe\">\n",
       "  <thead>\n",
       "    <tr style=\"text-align: right;\">\n",
       "      <th></th>\n",
       "      <th>count</th>\n",
       "      <th>mean</th>\n",
       "      <th>std</th>\n",
       "      <th>min</th>\n",
       "      <th>25%</th>\n",
       "      <th>50%</th>\n",
       "      <th>75%</th>\n",
       "      <th>max</th>\n",
       "      <th>word1</th>\n",
       "      <th>word2</th>\n",
       "    </tr>\n",
       "  </thead>\n",
       "  <tbody>\n",
       "    <tr>\n",
       "      <th>0</th>\n",
       "      <td>5757.0</td>\n",
       "      <td>4.254125</td>\n",
       "      <td>1.202789</td>\n",
       "      <td>1.0</td>\n",
       "      <td>3.0</td>\n",
       "      <td>4.0</td>\n",
       "      <td>5.0</td>\n",
       "      <td>12.0</td>\n",
       "      <td>tares</td>\n",
       "      <td>doily</td>\n",
       "    </tr>\n",
       "  </tbody>\n",
       "</table>\n",
       "</div>"
      ],
      "text/plain": [
       "    count      mean       std  min  25%  50%  75%   max  word1  word2\n",
       "0  5757.0  4.254125  1.202789  1.0  3.0  4.0  5.0  12.0  tares  doily"
      ]
     },
     "metadata": {},
     "output_type": "display_data"
    },
    {
     "name": "stderr",
     "output_type": "stream",
     "text": [
      "[Parallel(n_jobs=5)]: Using backend LokyBackend with 5 concurrent workers.\n"
     ]
    },
    {
     "name": "stdout",
     "output_type": "stream",
     "text": [
      "[---- tares, poind ----]\n"
     ]
    },
    {
     "name": "stderr",
     "output_type": "stream",
     "text": [
      "[Parallel(n_jobs=5)]: Done  38 tasks      | elapsed:    0.3s\n",
      "[Parallel(n_jobs=5)]: Done 774 tasks      | elapsed:    5.0s\n",
      "[Parallel(n_jobs=5)]: Done 2054 tasks      | elapsed:   13.7s\n",
      "[Parallel(n_jobs=5)]: Done 3846 tasks      | elapsed:   26.4s\n",
      "[Parallel(n_jobs=5)]: Done 5757 out of 5757 | elapsed:   40.4s finished\n"
     ]
    },
    {
     "data": {
      "text/html": [
       "<div>\n",
       "<style scoped>\n",
       "    .dataframe tbody tr th:only-of-type {\n",
       "        vertical-align: middle;\n",
       "    }\n",
       "\n",
       "    .dataframe tbody tr th {\n",
       "        vertical-align: top;\n",
       "    }\n",
       "\n",
       "    .dataframe thead th {\n",
       "        text-align: right;\n",
       "    }\n",
       "</style>\n",
       "<table border=\"1\" class=\"dataframe\">\n",
       "  <thead>\n",
       "    <tr style=\"text-align: right;\">\n",
       "      <th></th>\n",
       "      <th>count</th>\n",
       "      <th>mean</th>\n",
       "      <th>std</th>\n",
       "      <th>min</th>\n",
       "      <th>25%</th>\n",
       "      <th>50%</th>\n",
       "      <th>75%</th>\n",
       "      <th>max</th>\n",
       "      <th>word1</th>\n",
       "      <th>word2</th>\n",
       "    </tr>\n",
       "  </thead>\n",
       "  <tbody>\n",
       "    <tr>\n",
       "      <th>0</th>\n",
       "      <td>5757.0</td>\n",
       "      <td>4.161195</td>\n",
       "      <td>1.134188</td>\n",
       "      <td>1.0</td>\n",
       "      <td>3.0</td>\n",
       "      <td>4.0</td>\n",
       "      <td>5.0</td>\n",
       "      <td>11.0</td>\n",
       "      <td>tares</td>\n",
       "      <td>poind</td>\n",
       "    </tr>\n",
       "  </tbody>\n",
       "</table>\n",
       "</div>"
      ],
      "text/plain": [
       "    count      mean       std  min  25%  50%  75%   max  word1  word2\n",
       "0  5757.0  4.161195  1.134188  1.0  3.0  4.0  5.0  11.0  tares  poind"
      ]
     },
     "metadata": {},
     "output_type": "display_data"
    },
    {
     "name": "stderr",
     "output_type": "stream",
     "text": [
      "[Parallel(n_jobs=5)]: Using backend LokyBackend with 5 concurrent workers.\n"
     ]
    },
    {
     "name": "stdout",
     "output_type": "stream",
     "text": [
      "[---- tares, noily ----]\n"
     ]
    },
    {
     "name": "stderr",
     "output_type": "stream",
     "text": [
      "[Parallel(n_jobs=5)]: Done  38 tasks      | elapsed:    0.3s\n",
      "[Parallel(n_jobs=5)]: Done 774 tasks      | elapsed:    5.1s\n",
      "[Parallel(n_jobs=5)]: Done 2054 tasks      | elapsed:   14.1s\n",
      "[Parallel(n_jobs=5)]: Done 3846 tasks      | elapsed:   27.4s\n",
      "[Parallel(n_jobs=5)]: Done 5748 out of 5757 | elapsed:   41.5s remaining:    0.1s\n",
      "[Parallel(n_jobs=5)]: Done 5757 out of 5757 | elapsed:   41.7s finished\n"
     ]
    },
    {
     "data": {
      "text/html": [
       "<div>\n",
       "<style scoped>\n",
       "    .dataframe tbody tr th:only-of-type {\n",
       "        vertical-align: middle;\n",
       "    }\n",
       "\n",
       "    .dataframe tbody tr th {\n",
       "        vertical-align: top;\n",
       "    }\n",
       "\n",
       "    .dataframe thead th {\n",
       "        text-align: right;\n",
       "    }\n",
       "</style>\n",
       "<table border=\"1\" class=\"dataframe\">\n",
       "  <thead>\n",
       "    <tr style=\"text-align: right;\">\n",
       "      <th></th>\n",
       "      <th>count</th>\n",
       "      <th>mean</th>\n",
       "      <th>std</th>\n",
       "      <th>min</th>\n",
       "      <th>25%</th>\n",
       "      <th>50%</th>\n",
       "      <th>75%</th>\n",
       "      <th>max</th>\n",
       "      <th>word1</th>\n",
       "      <th>word2</th>\n",
       "    </tr>\n",
       "  </thead>\n",
       "  <tbody>\n",
       "    <tr>\n",
       "      <th>0</th>\n",
       "      <td>5757.0</td>\n",
       "      <td>4.268369</td>\n",
       "      <td>1.232266</td>\n",
       "      <td>1.0</td>\n",
       "      <td>3.0</td>\n",
       "      <td>4.0</td>\n",
       "      <td>5.0</td>\n",
       "      <td>13.0</td>\n",
       "      <td>tares</td>\n",
       "      <td>noily</td>\n",
       "    </tr>\n",
       "  </tbody>\n",
       "</table>\n",
       "</div>"
      ],
      "text/plain": [
       "    count      mean       std  min  25%  50%  75%   max  word1  word2\n",
       "0  5757.0  4.268369  1.232266  1.0  3.0  4.0  5.0  13.0  tares  noily"
      ]
     },
     "metadata": {},
     "output_type": "display_data"
    },
    {
     "name": "stderr",
     "output_type": "stream",
     "text": [
      "[Parallel(n_jobs=5)]: Using backend LokyBackend with 5 concurrent workers.\n"
     ]
    },
    {
     "name": "stdout",
     "output_type": "stream",
     "text": [
      "[---- tares, piony ----]\n"
     ]
    },
    {
     "name": "stderr",
     "output_type": "stream",
     "text": [
      "[Parallel(n_jobs=5)]: Done  38 tasks      | elapsed:    0.3s\n",
      "[Parallel(n_jobs=5)]: Done 774 tasks      | elapsed:    5.4s\n",
      "[Parallel(n_jobs=5)]: Done 2054 tasks      | elapsed:   14.4s\n",
      "[Parallel(n_jobs=5)]: Done 3846 tasks      | elapsed:   27.4s\n",
      "[Parallel(n_jobs=5)]: Done 5757 out of 5757 | elapsed:   41.4s finished\n"
     ]
    },
    {
     "data": {
      "text/html": [
       "<div>\n",
       "<style scoped>\n",
       "    .dataframe tbody tr th:only-of-type {\n",
       "        vertical-align: middle;\n",
       "    }\n",
       "\n",
       "    .dataframe tbody tr th {\n",
       "        vertical-align: top;\n",
       "    }\n",
       "\n",
       "    .dataframe thead th {\n",
       "        text-align: right;\n",
       "    }\n",
       "</style>\n",
       "<table border=\"1\" class=\"dataframe\">\n",
       "  <thead>\n",
       "    <tr style=\"text-align: right;\">\n",
       "      <th></th>\n",
       "      <th>count</th>\n",
       "      <th>mean</th>\n",
       "      <th>std</th>\n",
       "      <th>min</th>\n",
       "      <th>25%</th>\n",
       "      <th>50%</th>\n",
       "      <th>75%</th>\n",
       "      <th>max</th>\n",
       "      <th>word1</th>\n",
       "      <th>word2</th>\n",
       "    </tr>\n",
       "  </thead>\n",
       "  <tbody>\n",
       "    <tr>\n",
       "      <th>0</th>\n",
       "      <td>5757.0</td>\n",
       "      <td>4.230676</td>\n",
       "      <td>1.185069</td>\n",
       "      <td>1.0</td>\n",
       "      <td>3.0</td>\n",
       "      <td>4.0</td>\n",
       "      <td>5.0</td>\n",
       "      <td>11.0</td>\n",
       "      <td>tares</td>\n",
       "      <td>piony</td>\n",
       "    </tr>\n",
       "  </tbody>\n",
       "</table>\n",
       "</div>"
      ],
      "text/plain": [
       "    count      mean       std  min  25%  50%  75%   max  word1  word2\n",
       "0  5757.0  4.230676  1.185069  1.0  3.0  4.0  5.0  11.0  tares  piony"
      ]
     },
     "metadata": {},
     "output_type": "display_data"
    },
    {
     "name": "stderr",
     "output_type": "stream",
     "text": [
      "[Parallel(n_jobs=5)]: Using backend LokyBackend with 5 concurrent workers.\n"
     ]
    },
    {
     "name": "stdout",
     "output_type": "stream",
     "text": [
      "[---- tares, could ----]\n"
     ]
    },
    {
     "name": "stderr",
     "output_type": "stream",
     "text": [
      "[Parallel(n_jobs=5)]: Done  38 tasks      | elapsed:    0.3s\n",
      "[Parallel(n_jobs=5)]: Done 774 tasks      | elapsed:    5.0s\n",
      "[Parallel(n_jobs=5)]: Done 2054 tasks      | elapsed:   13.7s\n",
      "[Parallel(n_jobs=5)]: Done 3846 tasks      | elapsed:   26.7s\n",
      "[Parallel(n_jobs=5)]: Done 5757 out of 5757 | elapsed:   40.8s finished\n"
     ]
    },
    {
     "data": {
      "text/html": [
       "<div>\n",
       "<style scoped>\n",
       "    .dataframe tbody tr th:only-of-type {\n",
       "        vertical-align: middle;\n",
       "    }\n",
       "\n",
       "    .dataframe tbody tr th {\n",
       "        vertical-align: top;\n",
       "    }\n",
       "\n",
       "    .dataframe thead th {\n",
       "        text-align: right;\n",
       "    }\n",
       "</style>\n",
       "<table border=\"1\" class=\"dataframe\">\n",
       "  <thead>\n",
       "    <tr style=\"text-align: right;\">\n",
       "      <th></th>\n",
       "      <th>count</th>\n",
       "      <th>mean</th>\n",
       "      <th>std</th>\n",
       "      <th>min</th>\n",
       "      <th>25%</th>\n",
       "      <th>50%</th>\n",
       "      <th>75%</th>\n",
       "      <th>max</th>\n",
       "      <th>word1</th>\n",
       "      <th>word2</th>\n",
       "    </tr>\n",
       "  </thead>\n",
       "  <tbody>\n",
       "    <tr>\n",
       "      <th>0</th>\n",
       "      <td>5757.0</td>\n",
       "      <td>4.209484</td>\n",
       "      <td>1.165684</td>\n",
       "      <td>1.0</td>\n",
       "      <td>3.0</td>\n",
       "      <td>4.0</td>\n",
       "      <td>5.0</td>\n",
       "      <td>12.0</td>\n",
       "      <td>tares</td>\n",
       "      <td>could</td>\n",
       "    </tr>\n",
       "  </tbody>\n",
       "</table>\n",
       "</div>"
      ],
      "text/plain": [
       "    count      mean       std  min  25%  50%  75%   max  word1  word2\n",
       "0  5757.0  4.209484  1.165684  1.0  3.0  4.0  5.0  12.0  tares  could"
      ]
     },
     "metadata": {},
     "output_type": "display_data"
    },
    {
     "name": "stderr",
     "output_type": "stream",
     "text": [
      "[Parallel(n_jobs=5)]: Using backend LokyBackend with 5 concurrent workers.\n"
     ]
    },
    {
     "name": "stdout",
     "output_type": "stream",
     "text": [
      "[---- tares, bound ----]\n"
     ]
    },
    {
     "name": "stderr",
     "output_type": "stream",
     "text": [
      "[Parallel(n_jobs=5)]: Done  38 tasks      | elapsed:    0.3s\n",
      "[Parallel(n_jobs=5)]: Done 774 tasks      | elapsed:    5.3s\n",
      "[Parallel(n_jobs=5)]: Done 2054 tasks      | elapsed:   14.1s\n",
      "[Parallel(n_jobs=5)]: Done 3846 tasks      | elapsed:   27.2s\n",
      "[Parallel(n_jobs=5)]: Done 5757 out of 5757 | elapsed:   41.5s finished\n"
     ]
    },
    {
     "data": {
      "text/html": [
       "<div>\n",
       "<style scoped>\n",
       "    .dataframe tbody tr th:only-of-type {\n",
       "        vertical-align: middle;\n",
       "    }\n",
       "\n",
       "    .dataframe tbody tr th {\n",
       "        vertical-align: top;\n",
       "    }\n",
       "\n",
       "    .dataframe thead th {\n",
       "        text-align: right;\n",
       "    }\n",
       "</style>\n",
       "<table border=\"1\" class=\"dataframe\">\n",
       "  <thead>\n",
       "    <tr style=\"text-align: right;\">\n",
       "      <th></th>\n",
       "      <th>count</th>\n",
       "      <th>mean</th>\n",
       "      <th>std</th>\n",
       "      <th>min</th>\n",
       "      <th>25%</th>\n",
       "      <th>50%</th>\n",
       "      <th>75%</th>\n",
       "      <th>max</th>\n",
       "      <th>word1</th>\n",
       "      <th>word2</th>\n",
       "    </tr>\n",
       "  </thead>\n",
       "  <tbody>\n",
       "    <tr>\n",
       "      <th>0</th>\n",
       "      <td>5757.0</td>\n",
       "      <td>4.24075</td>\n",
       "      <td>1.150454</td>\n",
       "      <td>1.0</td>\n",
       "      <td>3.0</td>\n",
       "      <td>4.0</td>\n",
       "      <td>5.0</td>\n",
       "      <td>11.0</td>\n",
       "      <td>tares</td>\n",
       "      <td>bound</td>\n",
       "    </tr>\n",
       "  </tbody>\n",
       "</table>\n",
       "</div>"
      ],
      "text/plain": [
       "    count     mean       std  min  25%  50%  75%   max  word1  word2\n",
       "0  5757.0  4.24075  1.150454  1.0  3.0  4.0  5.0  11.0  tares  bound"
      ]
     },
     "metadata": {},
     "output_type": "display_data"
    },
    {
     "name": "stderr",
     "output_type": "stream",
     "text": [
      "[Parallel(n_jobs=5)]: Using backend LokyBackend with 5 concurrent workers.\n"
     ]
    },
    {
     "name": "stdout",
     "output_type": "stream",
     "text": [
      "[---- tares, colin ----]\n"
     ]
    },
    {
     "name": "stderr",
     "output_type": "stream",
     "text": [
      "[Parallel(n_jobs=5)]: Done  38 tasks      | elapsed:    0.3s\n",
      "[Parallel(n_jobs=5)]: Done 774 tasks      | elapsed:    5.1s\n",
      "[Parallel(n_jobs=5)]: Done 2054 tasks      | elapsed:   13.8s\n",
      "[Parallel(n_jobs=5)]: Done 3846 tasks      | elapsed:   26.8s\n",
      "[Parallel(n_jobs=5)]: Done 5748 out of 5757 | elapsed:   40.7s remaining:    0.1s\n",
      "[Parallel(n_jobs=5)]: Done 5757 out of 5757 | elapsed:   40.8s finished\n"
     ]
    },
    {
     "data": {
      "text/html": [
       "<div>\n",
       "<style scoped>\n",
       "    .dataframe tbody tr th:only-of-type {\n",
       "        vertical-align: middle;\n",
       "    }\n",
       "\n",
       "    .dataframe tbody tr th {\n",
       "        vertical-align: top;\n",
       "    }\n",
       "\n",
       "    .dataframe thead th {\n",
       "        text-align: right;\n",
       "    }\n",
       "</style>\n",
       "<table border=\"1\" class=\"dataframe\">\n",
       "  <thead>\n",
       "    <tr style=\"text-align: right;\">\n",
       "      <th></th>\n",
       "      <th>count</th>\n",
       "      <th>mean</th>\n",
       "      <th>std</th>\n",
       "      <th>min</th>\n",
       "      <th>25%</th>\n",
       "      <th>50%</th>\n",
       "      <th>75%</th>\n",
       "      <th>max</th>\n",
       "      <th>word1</th>\n",
       "      <th>word2</th>\n",
       "    </tr>\n",
       "  </thead>\n",
       "  <tbody>\n",
       "    <tr>\n",
       "      <th>0</th>\n",
       "      <td>5757.0</td>\n",
       "      <td>4.173702</td>\n",
       "      <td>1.189359</td>\n",
       "      <td>1.0</td>\n",
       "      <td>3.0</td>\n",
       "      <td>4.0</td>\n",
       "      <td>5.0</td>\n",
       "      <td>12.0</td>\n",
       "      <td>tares</td>\n",
       "      <td>colin</td>\n",
       "    </tr>\n",
       "  </tbody>\n",
       "</table>\n",
       "</div>"
      ],
      "text/plain": [
       "    count      mean       std  min  25%  50%  75%   max  word1  word2\n",
       "0  5757.0  4.173702  1.189359  1.0  3.0  4.0  5.0  12.0  tares  colin"
      ]
     },
     "metadata": {},
     "output_type": "display_data"
    },
    {
     "name": "stderr",
     "output_type": "stream",
     "text": [
      "[Parallel(n_jobs=5)]: Using backend LokyBackend with 5 concurrent workers.\n"
     ]
    },
    {
     "name": "stdout",
     "output_type": "stream",
     "text": [
      "[---- tares, pound ----]\n"
     ]
    },
    {
     "name": "stderr",
     "output_type": "stream",
     "text": [
      "[Parallel(n_jobs=5)]: Done  38 tasks      | elapsed:    0.3s\n",
      "[Parallel(n_jobs=5)]: Done 774 tasks      | elapsed:    5.1s\n",
      "[Parallel(n_jobs=5)]: Done 2054 tasks      | elapsed:   14.0s\n",
      "[Parallel(n_jobs=5)]: Done 3846 tasks      | elapsed:   26.8s\n",
      "[Parallel(n_jobs=5)]: Done 5757 out of 5757 | elapsed:   40.8s finished\n"
     ]
    },
    {
     "data": {
      "text/html": [
       "<div>\n",
       "<style scoped>\n",
       "    .dataframe tbody tr th:only-of-type {\n",
       "        vertical-align: middle;\n",
       "    }\n",
       "\n",
       "    .dataframe tbody tr th {\n",
       "        vertical-align: top;\n",
       "    }\n",
       "\n",
       "    .dataframe thead th {\n",
       "        text-align: right;\n",
       "    }\n",
       "</style>\n",
       "<table border=\"1\" class=\"dataframe\">\n",
       "  <thead>\n",
       "    <tr style=\"text-align: right;\">\n",
       "      <th></th>\n",
       "      <th>count</th>\n",
       "      <th>mean</th>\n",
       "      <th>std</th>\n",
       "      <th>min</th>\n",
       "      <th>25%</th>\n",
       "      <th>50%</th>\n",
       "      <th>75%</th>\n",
       "      <th>max</th>\n",
       "      <th>word1</th>\n",
       "      <th>word2</th>\n",
       "    </tr>\n",
       "  </thead>\n",
       "  <tbody>\n",
       "    <tr>\n",
       "      <th>0</th>\n",
       "      <td>5757.0</td>\n",
       "      <td>4.186729</td>\n",
       "      <td>1.12911</td>\n",
       "      <td>1.0</td>\n",
       "      <td>3.0</td>\n",
       "      <td>4.0</td>\n",
       "      <td>5.0</td>\n",
       "      <td>11.0</td>\n",
       "      <td>tares</td>\n",
       "      <td>pound</td>\n",
       "    </tr>\n",
       "  </tbody>\n",
       "</table>\n",
       "</div>"
      ],
      "text/plain": [
       "    count      mean      std  min  25%  50%  75%   max  word1  word2\n",
       "0  5757.0  4.186729  1.12911  1.0  3.0  4.0  5.0  11.0  tares  pound"
      ]
     },
     "metadata": {},
     "output_type": "display_data"
    },
    {
     "name": "stderr",
     "output_type": "stream",
     "text": [
      "[Parallel(n_jobs=5)]: Using backend LokyBackend with 5 concurrent workers.\n"
     ]
    },
    {
     "name": "stdout",
     "output_type": "stream",
     "text": [
      "[---- tares, boink ----]\n"
     ]
    },
    {
     "name": "stderr",
     "output_type": "stream",
     "text": [
      "[Parallel(n_jobs=5)]: Done  38 tasks      | elapsed:    0.3s\n",
      "[Parallel(n_jobs=5)]: Done 774 tasks      | elapsed:    5.2s\n",
      "[Parallel(n_jobs=5)]: Done 2054 tasks      | elapsed:   14.2s\n",
      "[Parallel(n_jobs=5)]: Done 3846 tasks      | elapsed:   27.3s\n",
      "[Parallel(n_jobs=5)]: Done 5757 out of 5757 | elapsed:   41.5s finished\n"
     ]
    },
    {
     "data": {
      "text/html": [
       "<div>\n",
       "<style scoped>\n",
       "    .dataframe tbody tr th:only-of-type {\n",
       "        vertical-align: middle;\n",
       "    }\n",
       "\n",
       "    .dataframe tbody tr th {\n",
       "        vertical-align: top;\n",
       "    }\n",
       "\n",
       "    .dataframe thead th {\n",
       "        text-align: right;\n",
       "    }\n",
       "</style>\n",
       "<table border=\"1\" class=\"dataframe\">\n",
       "  <thead>\n",
       "    <tr style=\"text-align: right;\">\n",
       "      <th></th>\n",
       "      <th>count</th>\n",
       "      <th>mean</th>\n",
       "      <th>std</th>\n",
       "      <th>min</th>\n",
       "      <th>25%</th>\n",
       "      <th>50%</th>\n",
       "      <th>75%</th>\n",
       "      <th>max</th>\n",
       "      <th>word1</th>\n",
       "      <th>word2</th>\n",
       "    </tr>\n",
       "  </thead>\n",
       "  <tbody>\n",
       "    <tr>\n",
       "      <th>0</th>\n",
       "      <td>5757.0</td>\n",
       "      <td>4.277923</td>\n",
       "      <td>1.188996</td>\n",
       "      <td>1.0</td>\n",
       "      <td>3.0</td>\n",
       "      <td>4.0</td>\n",
       "      <td>5.0</td>\n",
       "      <td>11.0</td>\n",
       "      <td>tares</td>\n",
       "      <td>boink</td>\n",
       "    </tr>\n",
       "  </tbody>\n",
       "</table>\n",
       "</div>"
      ],
      "text/plain": [
       "    count      mean       std  min  25%  50%  75%   max  word1  word2\n",
       "0  5757.0  4.277923  1.188996  1.0  3.0  4.0  5.0  11.0  tares  boink"
      ]
     },
     "metadata": {},
     "output_type": "display_data"
    },
    {
     "name": "stderr",
     "output_type": "stream",
     "text": [
      "[Parallel(n_jobs=5)]: Using backend LokyBackend with 5 concurrent workers.\n"
     ]
    },
    {
     "name": "stdout",
     "output_type": "stream",
     "text": [
      "[---- tares, mound ----]\n"
     ]
    },
    {
     "name": "stderr",
     "output_type": "stream",
     "text": [
      "[Parallel(n_jobs=5)]: Done  38 tasks      | elapsed:    0.3s\n",
      "[Parallel(n_jobs=5)]: Done 774 tasks      | elapsed:    5.2s\n",
      "[Parallel(n_jobs=5)]: Done 2054 tasks      | elapsed:   14.2s\n",
      "[Parallel(n_jobs=5)]: Done 3846 tasks      | elapsed:   27.1s\n",
      "[Parallel(n_jobs=5)]: Done 5757 out of 5757 | elapsed:   41.1s finished\n"
     ]
    },
    {
     "data": {
      "text/html": [
       "<div>\n",
       "<style scoped>\n",
       "    .dataframe tbody tr th:only-of-type {\n",
       "        vertical-align: middle;\n",
       "    }\n",
       "\n",
       "    .dataframe tbody tr th {\n",
       "        vertical-align: top;\n",
       "    }\n",
       "\n",
       "    .dataframe thead th {\n",
       "        text-align: right;\n",
       "    }\n",
       "</style>\n",
       "<table border=\"1\" class=\"dataframe\">\n",
       "  <thead>\n",
       "    <tr style=\"text-align: right;\">\n",
       "      <th></th>\n",
       "      <th>count</th>\n",
       "      <th>mean</th>\n",
       "      <th>std</th>\n",
       "      <th>min</th>\n",
       "      <th>25%</th>\n",
       "      <th>50%</th>\n",
       "      <th>75%</th>\n",
       "      <th>max</th>\n",
       "      <th>word1</th>\n",
       "      <th>word2</th>\n",
       "    </tr>\n",
       "  </thead>\n",
       "  <tbody>\n",
       "    <tr>\n",
       "      <th>0</th>\n",
       "      <td>5757.0</td>\n",
       "      <td>4.2107</td>\n",
       "      <td>1.136713</td>\n",
       "      <td>1.0</td>\n",
       "      <td>3.0</td>\n",
       "      <td>4.0</td>\n",
       "      <td>5.0</td>\n",
       "      <td>11.0</td>\n",
       "      <td>tares</td>\n",
       "      <td>mound</td>\n",
       "    </tr>\n",
       "  </tbody>\n",
       "</table>\n",
       "</div>"
      ],
      "text/plain": [
       "    count    mean       std  min  25%  50%  75%   max  word1  word2\n",
       "0  5757.0  4.2107  1.136713  1.0  3.0  4.0  5.0  11.0  tares  mound"
      ]
     },
     "metadata": {},
     "output_type": "display_data"
    },
    {
     "name": "stderr",
     "output_type": "stream",
     "text": [
      "[Parallel(n_jobs=5)]: Using backend LokyBackend with 5 concurrent workers.\n"
     ]
    },
    {
     "name": "stdout",
     "output_type": "stream",
     "text": [
      "\n",
      "\n",
      "\n",
      "--------------------\n",
      "pares\n",
      "--------------------\n",
      "['doily', 'gouty', 'noily', 'doilt', 'could', 'bound', 'colin', 'count', 'boult', 'boink']\n",
      "[---- pares, doily ----]\n"
     ]
    },
    {
     "name": "stderr",
     "output_type": "stream",
     "text": [
      "[Parallel(n_jobs=5)]: Done  38 tasks      | elapsed:    0.3s\n",
      "[Parallel(n_jobs=5)]: Done 774 tasks      | elapsed:    5.3s\n",
      "[Parallel(n_jobs=5)]: Done 2054 tasks      | elapsed:   14.5s\n",
      "[Parallel(n_jobs=5)]: Done 3846 tasks      | elapsed:   27.7s\n",
      "[Parallel(n_jobs=5)]: Done 5748 out of 5757 | elapsed:   42.1s remaining:    0.1s\n",
      "[Parallel(n_jobs=5)]: Done 5757 out of 5757 | elapsed:   42.2s finished\n"
     ]
    },
    {
     "data": {
      "text/html": [
       "<div>\n",
       "<style scoped>\n",
       "    .dataframe tbody tr th:only-of-type {\n",
       "        vertical-align: middle;\n",
       "    }\n",
       "\n",
       "    .dataframe tbody tr th {\n",
       "        vertical-align: top;\n",
       "    }\n",
       "\n",
       "    .dataframe thead th {\n",
       "        text-align: right;\n",
       "    }\n",
       "</style>\n",
       "<table border=\"1\" class=\"dataframe\">\n",
       "  <thead>\n",
       "    <tr style=\"text-align: right;\">\n",
       "      <th></th>\n",
       "      <th>count</th>\n",
       "      <th>mean</th>\n",
       "      <th>std</th>\n",
       "      <th>min</th>\n",
       "      <th>25%</th>\n",
       "      <th>50%</th>\n",
       "      <th>75%</th>\n",
       "      <th>max</th>\n",
       "      <th>word1</th>\n",
       "      <th>word2</th>\n",
       "    </tr>\n",
       "  </thead>\n",
       "  <tbody>\n",
       "    <tr>\n",
       "      <th>0</th>\n",
       "      <td>5757.0</td>\n",
       "      <td>4.275838</td>\n",
       "      <td>1.191962</td>\n",
       "      <td>1.0</td>\n",
       "      <td>3.0</td>\n",
       "      <td>4.0</td>\n",
       "      <td>5.0</td>\n",
       "      <td>12.0</td>\n",
       "      <td>pares</td>\n",
       "      <td>doily</td>\n",
       "    </tr>\n",
       "  </tbody>\n",
       "</table>\n",
       "</div>"
      ],
      "text/plain": [
       "    count      mean       std  min  25%  50%  75%   max  word1  word2\n",
       "0  5757.0  4.275838  1.191962  1.0  3.0  4.0  5.0  12.0  pares  doily"
      ]
     },
     "metadata": {},
     "output_type": "display_data"
    },
    {
     "name": "stderr",
     "output_type": "stream",
     "text": [
      "[Parallel(n_jobs=5)]: Using backend LokyBackend with 5 concurrent workers.\n"
     ]
    },
    {
     "name": "stdout",
     "output_type": "stream",
     "text": [
      "[---- pares, gouty ----]\n"
     ]
    },
    {
     "name": "stderr",
     "output_type": "stream",
     "text": [
      "[Parallel(n_jobs=5)]: Done  38 tasks      | elapsed:    0.3s\n",
      "[Parallel(n_jobs=5)]: Done 774 tasks      | elapsed:    5.3s\n",
      "[Parallel(n_jobs=5)]: Done 2054 tasks      | elapsed:   14.6s\n",
      "[Parallel(n_jobs=5)]: Done 3846 tasks      | elapsed:   28.0s\n",
      "[Parallel(n_jobs=5)]: Done 5757 out of 5757 | elapsed:   42.7s finished\n"
     ]
    },
    {
     "data": {
      "text/html": [
       "<div>\n",
       "<style scoped>\n",
       "    .dataframe tbody tr th:only-of-type {\n",
       "        vertical-align: middle;\n",
       "    }\n",
       "\n",
       "    .dataframe tbody tr th {\n",
       "        vertical-align: top;\n",
       "    }\n",
       "\n",
       "    .dataframe thead th {\n",
       "        text-align: right;\n",
       "    }\n",
       "</style>\n",
       "<table border=\"1\" class=\"dataframe\">\n",
       "  <thead>\n",
       "    <tr style=\"text-align: right;\">\n",
       "      <th></th>\n",
       "      <th>count</th>\n",
       "      <th>mean</th>\n",
       "      <th>std</th>\n",
       "      <th>min</th>\n",
       "      <th>25%</th>\n",
       "      <th>50%</th>\n",
       "      <th>75%</th>\n",
       "      <th>max</th>\n",
       "      <th>word1</th>\n",
       "      <th>word2</th>\n",
       "    </tr>\n",
       "  </thead>\n",
       "  <tbody>\n",
       "    <tr>\n",
       "      <th>0</th>\n",
       "      <td>5757.0</td>\n",
       "      <td>4.349661</td>\n",
       "      <td>1.212422</td>\n",
       "      <td>1.0</td>\n",
       "      <td>4.0</td>\n",
       "      <td>4.0</td>\n",
       "      <td>5.0</td>\n",
       "      <td>11.0</td>\n",
       "      <td>pares</td>\n",
       "      <td>gouty</td>\n",
       "    </tr>\n",
       "  </tbody>\n",
       "</table>\n",
       "</div>"
      ],
      "text/plain": [
       "    count      mean       std  min  25%  50%  75%   max  word1  word2\n",
       "0  5757.0  4.349661  1.212422  1.0  4.0  4.0  5.0  11.0  pares  gouty"
      ]
     },
     "metadata": {},
     "output_type": "display_data"
    },
    {
     "name": "stderr",
     "output_type": "stream",
     "text": [
      "[Parallel(n_jobs=5)]: Using backend LokyBackend with 5 concurrent workers.\n"
     ]
    },
    {
     "name": "stdout",
     "output_type": "stream",
     "text": [
      "[---- pares, noily ----]\n"
     ]
    },
    {
     "name": "stderr",
     "output_type": "stream",
     "text": [
      "[Parallel(n_jobs=5)]: Done  38 tasks      | elapsed:    0.3s\n",
      "[Parallel(n_jobs=5)]: Done 774 tasks      | elapsed:    5.4s\n",
      "[Parallel(n_jobs=5)]: Done 2054 tasks      | elapsed:   14.6s\n",
      "[Parallel(n_jobs=5)]: Done 3846 tasks      | elapsed:   28.0s\n",
      "[Parallel(n_jobs=5)]: Done 5757 out of 5757 | elapsed:   42.4s finished\n"
     ]
    },
    {
     "data": {
      "text/html": [
       "<div>\n",
       "<style scoped>\n",
       "    .dataframe tbody tr th:only-of-type {\n",
       "        vertical-align: middle;\n",
       "    }\n",
       "\n",
       "    .dataframe tbody tr th {\n",
       "        vertical-align: top;\n",
       "    }\n",
       "\n",
       "    .dataframe thead th {\n",
       "        text-align: right;\n",
       "    }\n",
       "</style>\n",
       "<table border=\"1\" class=\"dataframe\">\n",
       "  <thead>\n",
       "    <tr style=\"text-align: right;\">\n",
       "      <th></th>\n",
       "      <th>count</th>\n",
       "      <th>mean</th>\n",
       "      <th>std</th>\n",
       "      <th>min</th>\n",
       "      <th>25%</th>\n",
       "      <th>50%</th>\n",
       "      <th>75%</th>\n",
       "      <th>max</th>\n",
       "      <th>word1</th>\n",
       "      <th>word2</th>\n",
       "    </tr>\n",
       "  </thead>\n",
       "  <tbody>\n",
       "    <tr>\n",
       "      <th>0</th>\n",
       "      <td>5757.0</td>\n",
       "      <td>4.315442</td>\n",
       "      <td>1.233167</td>\n",
       "      <td>1.0</td>\n",
       "      <td>3.0</td>\n",
       "      <td>4.0</td>\n",
       "      <td>5.0</td>\n",
       "      <td>13.0</td>\n",
       "      <td>pares</td>\n",
       "      <td>noily</td>\n",
       "    </tr>\n",
       "  </tbody>\n",
       "</table>\n",
       "</div>"
      ],
      "text/plain": [
       "    count      mean       std  min  25%  50%  75%   max  word1  word2\n",
       "0  5757.0  4.315442  1.233167  1.0  3.0  4.0  5.0  13.0  pares  noily"
      ]
     },
     "metadata": {},
     "output_type": "display_data"
    },
    {
     "name": "stderr",
     "output_type": "stream",
     "text": [
      "[Parallel(n_jobs=5)]: Using backend LokyBackend with 5 concurrent workers.\n"
     ]
    },
    {
     "name": "stdout",
     "output_type": "stream",
     "text": [
      "[---- pares, doilt ----]\n"
     ]
    },
    {
     "name": "stderr",
     "output_type": "stream",
     "text": [
      "[Parallel(n_jobs=5)]: Done  38 tasks      | elapsed:    0.3s\n",
      "[Parallel(n_jobs=5)]: Done 774 tasks      | elapsed:    5.1s\n",
      "[Parallel(n_jobs=5)]: Done 2054 tasks      | elapsed:   13.9s\n",
      "[Parallel(n_jobs=5)]: Done 3846 tasks      | elapsed:   27.1s\n",
      "[Parallel(n_jobs=5)]: Done 5757 out of 5757 | elapsed:   41.3s finished\n"
     ]
    },
    {
     "data": {
      "text/html": [
       "<div>\n",
       "<style scoped>\n",
       "    .dataframe tbody tr th:only-of-type {\n",
       "        vertical-align: middle;\n",
       "    }\n",
       "\n",
       "    .dataframe tbody tr th {\n",
       "        vertical-align: top;\n",
       "    }\n",
       "\n",
       "    .dataframe thead th {\n",
       "        text-align: right;\n",
       "    }\n",
       "</style>\n",
       "<table border=\"1\" class=\"dataframe\">\n",
       "  <thead>\n",
       "    <tr style=\"text-align: right;\">\n",
       "      <th></th>\n",
       "      <th>count</th>\n",
       "      <th>mean</th>\n",
       "      <th>std</th>\n",
       "      <th>min</th>\n",
       "      <th>25%</th>\n",
       "      <th>50%</th>\n",
       "      <th>75%</th>\n",
       "      <th>max</th>\n",
       "      <th>word1</th>\n",
       "      <th>word2</th>\n",
       "    </tr>\n",
       "  </thead>\n",
       "  <tbody>\n",
       "    <tr>\n",
       "      <th>0</th>\n",
       "      <td>5757.0</td>\n",
       "      <td>4.131839</td>\n",
       "      <td>1.118184</td>\n",
       "      <td>1.0</td>\n",
       "      <td>3.0</td>\n",
       "      <td>4.0</td>\n",
       "      <td>5.0</td>\n",
       "      <td>11.0</td>\n",
       "      <td>pares</td>\n",
       "      <td>doilt</td>\n",
       "    </tr>\n",
       "  </tbody>\n",
       "</table>\n",
       "</div>"
      ],
      "text/plain": [
       "    count      mean       std  min  25%  50%  75%   max  word1  word2\n",
       "0  5757.0  4.131839  1.118184  1.0  3.0  4.0  5.0  11.0  pares  doilt"
      ]
     },
     "metadata": {},
     "output_type": "display_data"
    },
    {
     "name": "stderr",
     "output_type": "stream",
     "text": [
      "[Parallel(n_jobs=5)]: Using backend LokyBackend with 5 concurrent workers.\n"
     ]
    },
    {
     "name": "stdout",
     "output_type": "stream",
     "text": [
      "[---- pares, could ----]\n"
     ]
    },
    {
     "name": "stderr",
     "output_type": "stream",
     "text": [
      "[Parallel(n_jobs=5)]: Done  38 tasks      | elapsed:    0.3s\n",
      "[Parallel(n_jobs=5)]: Done 774 tasks      | elapsed:    5.3s\n",
      "[Parallel(n_jobs=5)]: Done 2054 tasks      | elapsed:   14.2s\n",
      "[Parallel(n_jobs=5)]: Done 3846 tasks      | elapsed:   31.7s\n",
      "[Parallel(n_jobs=5)]: Done 5748 out of 5757 | elapsed:   46.8s remaining:    0.1s\n",
      "[Parallel(n_jobs=5)]: Done 5757 out of 5757 | elapsed:   47.0s finished\n"
     ]
    },
    {
     "data": {
      "text/html": [
       "<div>\n",
       "<style scoped>\n",
       "    .dataframe tbody tr th:only-of-type {\n",
       "        vertical-align: middle;\n",
       "    }\n",
       "\n",
       "    .dataframe tbody tr th {\n",
       "        vertical-align: top;\n",
       "    }\n",
       "\n",
       "    .dataframe thead th {\n",
       "        text-align: right;\n",
       "    }\n",
       "</style>\n",
       "<table border=\"1\" class=\"dataframe\">\n",
       "  <thead>\n",
       "    <tr style=\"text-align: right;\">\n",
       "      <th></th>\n",
       "      <th>count</th>\n",
       "      <th>mean</th>\n",
       "      <th>std</th>\n",
       "      <th>min</th>\n",
       "      <th>25%</th>\n",
       "      <th>50%</th>\n",
       "      <th>75%</th>\n",
       "      <th>max</th>\n",
       "      <th>word1</th>\n",
       "      <th>word2</th>\n",
       "    </tr>\n",
       "  </thead>\n",
       "  <tbody>\n",
       "    <tr>\n",
       "      <th>0</th>\n",
       "      <td>5757.0</td>\n",
       "      <td>4.228591</td>\n",
       "      <td>1.14704</td>\n",
       "      <td>1.0</td>\n",
       "      <td>3.0</td>\n",
       "      <td>4.0</td>\n",
       "      <td>5.0</td>\n",
       "      <td>12.0</td>\n",
       "      <td>pares</td>\n",
       "      <td>could</td>\n",
       "    </tr>\n",
       "  </tbody>\n",
       "</table>\n",
       "</div>"
      ],
      "text/plain": [
       "    count      mean      std  min  25%  50%  75%   max  word1  word2\n",
       "0  5757.0  4.228591  1.14704  1.0  3.0  4.0  5.0  12.0  pares  could"
      ]
     },
     "metadata": {},
     "output_type": "display_data"
    },
    {
     "name": "stderr",
     "output_type": "stream",
     "text": [
      "[Parallel(n_jobs=5)]: Using backend LokyBackend with 5 concurrent workers.\n"
     ]
    },
    {
     "name": "stdout",
     "output_type": "stream",
     "text": [
      "[---- pares, bound ----]\n"
     ]
    },
    {
     "name": "stderr",
     "output_type": "stream",
     "text": [
      "[Parallel(n_jobs=5)]: Done  38 tasks      | elapsed:    0.3s\n",
      "[Parallel(n_jobs=5)]: Done 774 tasks      | elapsed:    5.6s\n",
      "[Parallel(n_jobs=5)]: Done 2054 tasks      | elapsed:   15.1s\n",
      "[Parallel(n_jobs=5)]: Done 3846 tasks      | elapsed:   29.6s\n",
      "[Parallel(n_jobs=5)]: Done 5757 out of 5757 | elapsed:   45.5s finished\n"
     ]
    },
    {
     "data": {
      "text/html": [
       "<div>\n",
       "<style scoped>\n",
       "    .dataframe tbody tr th:only-of-type {\n",
       "        vertical-align: middle;\n",
       "    }\n",
       "\n",
       "    .dataframe tbody tr th {\n",
       "        vertical-align: top;\n",
       "    }\n",
       "\n",
       "    .dataframe thead th {\n",
       "        text-align: right;\n",
       "    }\n",
       "</style>\n",
       "<table border=\"1\" class=\"dataframe\">\n",
       "  <thead>\n",
       "    <tr style=\"text-align: right;\">\n",
       "      <th></th>\n",
       "      <th>count</th>\n",
       "      <th>mean</th>\n",
       "      <th>std</th>\n",
       "      <th>min</th>\n",
       "      <th>25%</th>\n",
       "      <th>50%</th>\n",
       "      <th>75%</th>\n",
       "      <th>max</th>\n",
       "      <th>word1</th>\n",
       "      <th>word2</th>\n",
       "    </tr>\n",
       "  </thead>\n",
       "  <tbody>\n",
       "    <tr>\n",
       "      <th>0</th>\n",
       "      <td>5757.0</td>\n",
       "      <td>4.273754</td>\n",
       "      <td>1.132973</td>\n",
       "      <td>1.0</td>\n",
       "      <td>4.0</td>\n",
       "      <td>4.0</td>\n",
       "      <td>5.0</td>\n",
       "      <td>10.0</td>\n",
       "      <td>pares</td>\n",
       "      <td>bound</td>\n",
       "    </tr>\n",
       "  </tbody>\n",
       "</table>\n",
       "</div>"
      ],
      "text/plain": [
       "    count      mean       std  min  25%  50%  75%   max  word1  word2\n",
       "0  5757.0  4.273754  1.132973  1.0  4.0  4.0  5.0  10.0  pares  bound"
      ]
     },
     "metadata": {},
     "output_type": "display_data"
    },
    {
     "name": "stderr",
     "output_type": "stream",
     "text": [
      "[Parallel(n_jobs=5)]: Using backend LokyBackend with 5 concurrent workers.\n"
     ]
    },
    {
     "name": "stdout",
     "output_type": "stream",
     "text": [
      "[---- pares, colin ----]\n"
     ]
    },
    {
     "name": "stderr",
     "output_type": "stream",
     "text": [
      "[Parallel(n_jobs=5)]: Done  38 tasks      | elapsed:    0.5s\n",
      "[Parallel(n_jobs=5)]: Done 422 tasks      | elapsed:    3.9s\n",
      "[Parallel(n_jobs=5)]: Done 1062 tasks      | elapsed:    8.3s\n",
      "[Parallel(n_jobs=5)]: Done 1958 tasks      | elapsed:   15.1s\n",
      "[Parallel(n_jobs=5)]: Done 3110 tasks      | elapsed:   24.0s\n",
      "[Parallel(n_jobs=5)]: Done 4518 tasks      | elapsed:   34.8s\n",
      "[Parallel(n_jobs=5)]: Done 5748 out of 5757 | elapsed:   44.8s remaining:    0.1s\n",
      "[Parallel(n_jobs=5)]: Done 5757 out of 5757 | elapsed:   44.8s finished\n"
     ]
    },
    {
     "data": {
      "text/html": [
       "<div>\n",
       "<style scoped>\n",
       "    .dataframe tbody tr th:only-of-type {\n",
       "        vertical-align: middle;\n",
       "    }\n",
       "\n",
       "    .dataframe tbody tr th {\n",
       "        vertical-align: top;\n",
       "    }\n",
       "\n",
       "    .dataframe thead th {\n",
       "        text-align: right;\n",
       "    }\n",
       "</style>\n",
       "<table border=\"1\" class=\"dataframe\">\n",
       "  <thead>\n",
       "    <tr style=\"text-align: right;\">\n",
       "      <th></th>\n",
       "      <th>count</th>\n",
       "      <th>mean</th>\n",
       "      <th>std</th>\n",
       "      <th>min</th>\n",
       "      <th>25%</th>\n",
       "      <th>50%</th>\n",
       "      <th>75%</th>\n",
       "      <th>max</th>\n",
       "      <th>word1</th>\n",
       "      <th>word2</th>\n",
       "    </tr>\n",
       "  </thead>\n",
       "  <tbody>\n",
       "    <tr>\n",
       "      <th>0</th>\n",
       "      <td>5757.0</td>\n",
       "      <td>4.21678</td>\n",
       "      <td>1.183</td>\n",
       "      <td>1.0</td>\n",
       "      <td>3.0</td>\n",
       "      <td>4.0</td>\n",
       "      <td>5.0</td>\n",
       "      <td>12.0</td>\n",
       "      <td>pares</td>\n",
       "      <td>colin</td>\n",
       "    </tr>\n",
       "  </tbody>\n",
       "</table>\n",
       "</div>"
      ],
      "text/plain": [
       "    count     mean    std  min  25%  50%  75%   max  word1  word2\n",
       "0  5757.0  4.21678  1.183  1.0  3.0  4.0  5.0  12.0  pares  colin"
      ]
     },
     "metadata": {},
     "output_type": "display_data"
    },
    {
     "name": "stderr",
     "output_type": "stream",
     "text": [
      "[Parallel(n_jobs=5)]: Using backend LokyBackend with 5 concurrent workers.\n"
     ]
    },
    {
     "name": "stdout",
     "output_type": "stream",
     "text": [
      "[---- pares, count ----]\n"
     ]
    },
    {
     "name": "stderr",
     "output_type": "stream",
     "text": [
      "[Parallel(n_jobs=5)]: Done  38 tasks      | elapsed:    0.4s\n",
      "[Parallel(n_jobs=5)]: Done 422 tasks      | elapsed:    3.0s\n",
      "[Parallel(n_jobs=5)]: Done 1062 tasks      | elapsed:    7.6s\n",
      "[Parallel(n_jobs=5)]: Done 1958 tasks      | elapsed:   14.0s\n",
      "[Parallel(n_jobs=5)]: Done 3110 tasks      | elapsed:   22.9s\n",
      "[Parallel(n_jobs=5)]: Done 4518 tasks      | elapsed:   33.9s\n",
      "[Parallel(n_jobs=5)]: Done 5757 out of 5757 | elapsed:   43.6s finished\n"
     ]
    },
    {
     "data": {
      "text/html": [
       "<div>\n",
       "<style scoped>\n",
       "    .dataframe tbody tr th:only-of-type {\n",
       "        vertical-align: middle;\n",
       "    }\n",
       "\n",
       "    .dataframe tbody tr th {\n",
       "        vertical-align: top;\n",
       "    }\n",
       "\n",
       "    .dataframe thead th {\n",
       "        text-align: right;\n",
       "    }\n",
       "</style>\n",
       "<table border=\"1\" class=\"dataframe\">\n",
       "  <thead>\n",
       "    <tr style=\"text-align: right;\">\n",
       "      <th></th>\n",
       "      <th>count</th>\n",
       "      <th>mean</th>\n",
       "      <th>std</th>\n",
       "      <th>min</th>\n",
       "      <th>25%</th>\n",
       "      <th>50%</th>\n",
       "      <th>75%</th>\n",
       "      <th>max</th>\n",
       "      <th>word1</th>\n",
       "      <th>word2</th>\n",
       "    </tr>\n",
       "  </thead>\n",
       "  <tbody>\n",
       "    <tr>\n",
       "      <th>0</th>\n",
       "      <td>5757.0</td>\n",
       "      <td>4.192809</td>\n",
       "      <td>1.158255</td>\n",
       "      <td>1.0</td>\n",
       "      <td>3.0</td>\n",
       "      <td>4.0</td>\n",
       "      <td>5.0</td>\n",
       "      <td>11.0</td>\n",
       "      <td>pares</td>\n",
       "      <td>count</td>\n",
       "    </tr>\n",
       "  </tbody>\n",
       "</table>\n",
       "</div>"
      ],
      "text/plain": [
       "    count      mean       std  min  25%  50%  75%   max  word1  word2\n",
       "0  5757.0  4.192809  1.158255  1.0  3.0  4.0  5.0  11.0  pares  count"
      ]
     },
     "metadata": {},
     "output_type": "display_data"
    },
    {
     "name": "stderr",
     "output_type": "stream",
     "text": [
      "[Parallel(n_jobs=5)]: Using backend LokyBackend with 5 concurrent workers.\n"
     ]
    },
    {
     "name": "stdout",
     "output_type": "stream",
     "text": [
      "[---- pares, boult ----]\n"
     ]
    },
    {
     "name": "stderr",
     "output_type": "stream",
     "text": [
      "[Parallel(n_jobs=5)]: Done  38 tasks      | elapsed:    0.4s\n",
      "[Parallel(n_jobs=5)]: Done 774 tasks      | elapsed:    5.5s\n",
      "[Parallel(n_jobs=5)]: Done 2054 tasks      | elapsed:   14.7s\n",
      "[Parallel(n_jobs=5)]: Done 3846 tasks      | elapsed:   28.0s\n",
      "[Parallel(n_jobs=5)]: Done 5757 out of 5757 | elapsed:   42.8s finished\n"
     ]
    },
    {
     "data": {
      "text/html": [
       "<div>\n",
       "<style scoped>\n",
       "    .dataframe tbody tr th:only-of-type {\n",
       "        vertical-align: middle;\n",
       "    }\n",
       "\n",
       "    .dataframe tbody tr th {\n",
       "        vertical-align: top;\n",
       "    }\n",
       "\n",
       "    .dataframe thead th {\n",
       "        text-align: right;\n",
       "    }\n",
       "</style>\n",
       "<table border=\"1\" class=\"dataframe\">\n",
       "  <thead>\n",
       "    <tr style=\"text-align: right;\">\n",
       "      <th></th>\n",
       "      <th>count</th>\n",
       "      <th>mean</th>\n",
       "      <th>std</th>\n",
       "      <th>min</th>\n",
       "      <th>25%</th>\n",
       "      <th>50%</th>\n",
       "      <th>75%</th>\n",
       "      <th>max</th>\n",
       "      <th>word1</th>\n",
       "      <th>word2</th>\n",
       "    </tr>\n",
       "  </thead>\n",
       "  <tbody>\n",
       "    <tr>\n",
       "      <th>0</th>\n",
       "      <td>5757.0</td>\n",
       "      <td>4.195241</td>\n",
       "      <td>1.120327</td>\n",
       "      <td>1.0</td>\n",
       "      <td>3.0</td>\n",
       "      <td>4.0</td>\n",
       "      <td>5.0</td>\n",
       "      <td>11.0</td>\n",
       "      <td>pares</td>\n",
       "      <td>boult</td>\n",
       "    </tr>\n",
       "  </tbody>\n",
       "</table>\n",
       "</div>"
      ],
      "text/plain": [
       "    count      mean       std  min  25%  50%  75%   max  word1  word2\n",
       "0  5757.0  4.195241  1.120327  1.0  3.0  4.0  5.0  11.0  pares  boult"
      ]
     },
     "metadata": {},
     "output_type": "display_data"
    },
    {
     "name": "stderr",
     "output_type": "stream",
     "text": [
      "[Parallel(n_jobs=5)]: Using backend LokyBackend with 5 concurrent workers.\n"
     ]
    },
    {
     "name": "stdout",
     "output_type": "stream",
     "text": [
      "[---- pares, boink ----]\n"
     ]
    },
    {
     "name": "stderr",
     "output_type": "stream",
     "text": [
      "[Parallel(n_jobs=5)]: Done  38 tasks      | elapsed:    0.4s\n",
      "[Parallel(n_jobs=5)]: Done 422 tasks      | elapsed:    3.0s\n",
      "[Parallel(n_jobs=5)]: Done 1062 tasks      | elapsed:    7.7s\n",
      "[Parallel(n_jobs=5)]: Done 1958 tasks      | elapsed:   14.2s\n",
      "[Parallel(n_jobs=5)]: Done 3110 tasks      | elapsed:   23.0s\n",
      "[Parallel(n_jobs=5)]: Done 4518 tasks      | elapsed:   34.3s\n",
      "[Parallel(n_jobs=5)]: Done 5757 out of 5757 | elapsed:   44.1s finished\n"
     ]
    },
    {
     "data": {
      "text/html": [
       "<div>\n",
       "<style scoped>\n",
       "    .dataframe tbody tr th:only-of-type {\n",
       "        vertical-align: middle;\n",
       "    }\n",
       "\n",
       "    .dataframe tbody tr th {\n",
       "        vertical-align: top;\n",
       "    }\n",
       "\n",
       "    .dataframe thead th {\n",
       "        text-align: right;\n",
       "    }\n",
       "</style>\n",
       "<table border=\"1\" class=\"dataframe\">\n",
       "  <thead>\n",
       "    <tr style=\"text-align: right;\">\n",
       "      <th></th>\n",
       "      <th>count</th>\n",
       "      <th>mean</th>\n",
       "      <th>std</th>\n",
       "      <th>min</th>\n",
       "      <th>25%</th>\n",
       "      <th>50%</th>\n",
       "      <th>75%</th>\n",
       "      <th>max</th>\n",
       "      <th>word1</th>\n",
       "      <th>word2</th>\n",
       "    </tr>\n",
       "  </thead>\n",
       "  <tbody>\n",
       "    <tr>\n",
       "      <th>0</th>\n",
       "      <td>5757.0</td>\n",
       "      <td>4.324301</td>\n",
       "      <td>1.18183</td>\n",
       "      <td>1.0</td>\n",
       "      <td>4.0</td>\n",
       "      <td>4.0</td>\n",
       "      <td>5.0</td>\n",
       "      <td>11.0</td>\n",
       "      <td>pares</td>\n",
       "      <td>boink</td>\n",
       "    </tr>\n",
       "  </tbody>\n",
       "</table>\n",
       "</div>"
      ],
      "text/plain": [
       "    count      mean      std  min  25%  50%  75%   max  word1  word2\n",
       "0  5757.0  4.324301  1.18183  1.0  4.0  4.0  5.0  11.0  pares  boink"
      ]
     },
     "metadata": {},
     "output_type": "display_data"
    },
    {
     "name": "stdout",
     "output_type": "stream",
     "text": [
      "\n",
      "\n",
      "\n"
     ]
    }
   ],
   "source": [
    "doubles_search = pd.DataFrame()\n",
    "for input_word1 in ['toles', 'tales', 'pores', 'pales', 'tores', 'tares', 'pares']:\n",
    "    print('--------------------')\n",
    "    print(input_word1)\n",
    "    print('--------------------')\n",
    "    all_word2 = find_second_pos(input_word1)\n",
    "    print(all_word2.word.iloc[:10].tolist())\n",
    "\n",
    "    for input_word2 in all_word2.word.iloc[:10]:\n",
    "        print(f'[---- {input_word1}, {input_word2} ----]')\n",
    "        res = double_word_strategy(input_word1, input_word2)\n",
    "        doubles_search = all_results.append(res)\n",
    "    print()\n",
    "    print()\n",
    "    print()"
   ]
  },
  {
   "cell_type": "code",
   "execution_count": 54,
   "id": "018d4116-2317-426c-98aa-1d9de1b604f0",
   "metadata": {},
   "outputs": [],
   "source": [
    "doubles_search.to_csv('doubles_search.csv', index=False)"
   ]
  },
  {
   "cell_type": "code",
   "execution_count": 56,
   "id": "fab99496-1034-4311-aa8b-774b6fc10771",
   "metadata": {},
   "outputs": [
    {
     "data": {
      "text/html": [
       "<div>\n",
       "<style scoped>\n",
       "    .dataframe tbody tr th:only-of-type {\n",
       "        vertical-align: middle;\n",
       "    }\n",
       "\n",
       "    .dataframe tbody tr th {\n",
       "        vertical-align: top;\n",
       "    }\n",
       "\n",
       "    .dataframe thead th {\n",
       "        text-align: right;\n",
       "    }\n",
       "</style>\n",
       "<table border=\"1\" class=\"dataframe\">\n",
       "  <thead>\n",
       "    <tr style=\"text-align: right;\">\n",
       "      <th></th>\n",
       "      <th>count</th>\n",
       "      <th>mean</th>\n",
       "      <th>std</th>\n",
       "      <th>min</th>\n",
       "      <th>25%</th>\n",
       "      <th>50%</th>\n",
       "      <th>75%</th>\n",
       "      <th>max</th>\n",
       "      <th>word1</th>\n",
       "      <th>word2</th>\n",
       "    </tr>\n",
       "  </thead>\n",
       "  <tbody>\n",
       "    <tr>\n",
       "      <th>0</th>\n",
       "      <td>5757.0</td>\n",
       "      <td>4.131839</td>\n",
       "      <td>1.118184</td>\n",
       "      <td>1.0</td>\n",
       "      <td>3.0</td>\n",
       "      <td>4.0</td>\n",
       "      <td>5.0</td>\n",
       "      <td>11.0</td>\n",
       "      <td>pares</td>\n",
       "      <td>doilt</td>\n",
       "    </tr>\n",
       "    <tr>\n",
       "      <th>0</th>\n",
       "      <td>5757.0</td>\n",
       "      <td>4.157721</td>\n",
       "      <td>1.144281</td>\n",
       "      <td>1.0</td>\n",
       "      <td>3.0</td>\n",
       "      <td>4.0</td>\n",
       "      <td>5.0</td>\n",
       "      <td>11.0</td>\n",
       "      <td>dares</td>\n",
       "      <td>point</td>\n",
       "    </tr>\n",
       "    <tr>\n",
       "      <th>0</th>\n",
       "      <td>5757.0</td>\n",
       "      <td>4.161195</td>\n",
       "      <td>1.134188</td>\n",
       "      <td>1.0</td>\n",
       "      <td>3.0</td>\n",
       "      <td>4.0</td>\n",
       "      <td>5.0</td>\n",
       "      <td>11.0</td>\n",
       "      <td>tares</td>\n",
       "      <td>poind</td>\n",
       "    </tr>\n",
       "    <tr>\n",
       "      <th>0</th>\n",
       "      <td>5757.0</td>\n",
       "      <td>4.162585</td>\n",
       "      <td>1.158392</td>\n",
       "      <td>1.0</td>\n",
       "      <td>3.0</td>\n",
       "      <td>4.0</td>\n",
       "      <td>5.0</td>\n",
       "      <td>11.0</td>\n",
       "      <td>cores</td>\n",
       "      <td>paint</td>\n",
       "    </tr>\n",
       "    <tr>\n",
       "      <th>0</th>\n",
       "      <td>5757.0</td>\n",
       "      <td>4.209484</td>\n",
       "      <td>1.165684</td>\n",
       "      <td>1.0</td>\n",
       "      <td>3.0</td>\n",
       "      <td>4.0</td>\n",
       "      <td>5.0</td>\n",
       "      <td>12.0</td>\n",
       "      <td>tares</td>\n",
       "      <td>could</td>\n",
       "    </tr>\n",
       "    <tr>\n",
       "      <th>0</th>\n",
       "      <td>5757.0</td>\n",
       "      <td>4.220254</td>\n",
       "      <td>1.157710</td>\n",
       "      <td>1.0</td>\n",
       "      <td>3.0</td>\n",
       "      <td>4.0</td>\n",
       "      <td>5.0</td>\n",
       "      <td>11.0</td>\n",
       "      <td>pores</td>\n",
       "      <td>canid</td>\n",
       "    </tr>\n",
       "    <tr>\n",
       "      <th>0</th>\n",
       "      <td>5757.0</td>\n",
       "      <td>4.222512</td>\n",
       "      <td>1.159752</td>\n",
       "      <td>1.0</td>\n",
       "      <td>3.0</td>\n",
       "      <td>4.0</td>\n",
       "      <td>5.0</td>\n",
       "      <td>11.0</td>\n",
       "      <td>cares</td>\n",
       "      <td>poind</td>\n",
       "    </tr>\n",
       "    <tr>\n",
       "      <th>0</th>\n",
       "      <td>5757.0</td>\n",
       "      <td>4.228591</td>\n",
       "      <td>1.147040</td>\n",
       "      <td>1.0</td>\n",
       "      <td>3.0</td>\n",
       "      <td>4.0</td>\n",
       "      <td>5.0</td>\n",
       "      <td>12.0</td>\n",
       "      <td>pares</td>\n",
       "      <td>could</td>\n",
       "    </tr>\n",
       "    <tr>\n",
       "      <th>0</th>\n",
       "      <td>5757.0</td>\n",
       "      <td>4.230676</td>\n",
       "      <td>1.185069</td>\n",
       "      <td>1.0</td>\n",
       "      <td>3.0</td>\n",
       "      <td>4.0</td>\n",
       "      <td>5.0</td>\n",
       "      <td>11.0</td>\n",
       "      <td>tares</td>\n",
       "      <td>piony</td>\n",
       "    </tr>\n",
       "    <tr>\n",
       "      <th>0</th>\n",
       "      <td>5757.0</td>\n",
       "      <td>4.230849</td>\n",
       "      <td>1.181585</td>\n",
       "      <td>1.0</td>\n",
       "      <td>3.0</td>\n",
       "      <td>4.0</td>\n",
       "      <td>5.0</td>\n",
       "      <td>12.0</td>\n",
       "      <td>pores</td>\n",
       "      <td>laity</td>\n",
       "    </tr>\n",
       "    <tr>\n",
       "      <th>0</th>\n",
       "      <td>5757.0</td>\n",
       "      <td>4.233802</td>\n",
       "      <td>1.134868</td>\n",
       "      <td>1.0</td>\n",
       "      <td>3.0</td>\n",
       "      <td>4.0</td>\n",
       "      <td>5.0</td>\n",
       "      <td>11.0</td>\n",
       "      <td>mares</td>\n",
       "      <td>poind</td>\n",
       "    </tr>\n",
       "    <tr>\n",
       "      <th>0</th>\n",
       "      <td>5757.0</td>\n",
       "      <td>4.254125</td>\n",
       "      <td>1.202789</td>\n",
       "      <td>1.0</td>\n",
       "      <td>3.0</td>\n",
       "      <td>4.0</td>\n",
       "      <td>5.0</td>\n",
       "      <td>12.0</td>\n",
       "      <td>tares</td>\n",
       "      <td>doily</td>\n",
       "    </tr>\n",
       "    <tr>\n",
       "      <th>0</th>\n",
       "      <td>5757.0</td>\n",
       "      <td>4.258989</td>\n",
       "      <td>1.148075</td>\n",
       "      <td>1.0</td>\n",
       "      <td>3.0</td>\n",
       "      <td>4.0</td>\n",
       "      <td>5.0</td>\n",
       "      <td>10.0</td>\n",
       "      <td>bares</td>\n",
       "      <td>poind</td>\n",
       "    </tr>\n",
       "    <tr>\n",
       "      <th>0</th>\n",
       "      <td>5757.0</td>\n",
       "      <td>4.268369</td>\n",
       "      <td>1.232266</td>\n",
       "      <td>1.0</td>\n",
       "      <td>3.0</td>\n",
       "      <td>4.0</td>\n",
       "      <td>5.0</td>\n",
       "      <td>13.0</td>\n",
       "      <td>tares</td>\n",
       "      <td>noily</td>\n",
       "    </tr>\n",
       "    <tr>\n",
       "      <th>0</th>\n",
       "      <td>5757.0</td>\n",
       "      <td>4.275143</td>\n",
       "      <td>1.192996</td>\n",
       "      <td>1.0</td>\n",
       "      <td>3.0</td>\n",
       "      <td>4.0</td>\n",
       "      <td>5.0</td>\n",
       "      <td>11.0</td>\n",
       "      <td>bores</td>\n",
       "      <td>canid</td>\n",
       "    </tr>\n",
       "    <tr>\n",
       "      <th>0</th>\n",
       "      <td>5757.0</td>\n",
       "      <td>4.275838</td>\n",
       "      <td>1.191962</td>\n",
       "      <td>1.0</td>\n",
       "      <td>3.0</td>\n",
       "      <td>4.0</td>\n",
       "      <td>5.0</td>\n",
       "      <td>12.0</td>\n",
       "      <td>pares</td>\n",
       "      <td>doily</td>\n",
       "    </tr>\n",
       "    <tr>\n",
       "      <th>0</th>\n",
       "      <td>5757.0</td>\n",
       "      <td>4.275838</td>\n",
       "      <td>1.191962</td>\n",
       "      <td>1.0</td>\n",
       "      <td>3.0</td>\n",
       "      <td>4.0</td>\n",
       "      <td>5.0</td>\n",
       "      <td>12.0</td>\n",
       "      <td>pores</td>\n",
       "      <td>daily</td>\n",
       "    </tr>\n",
       "    <tr>\n",
       "      <th>0</th>\n",
       "      <td>5757.0</td>\n",
       "      <td>4.278617</td>\n",
       "      <td>1.200467</td>\n",
       "      <td>1.0</td>\n",
       "      <td>3.0</td>\n",
       "      <td>4.0</td>\n",
       "      <td>5.0</td>\n",
       "      <td>12.0</td>\n",
       "      <td>bores</td>\n",
       "      <td>laity</td>\n",
       "    </tr>\n",
       "    <tr>\n",
       "      <th>0</th>\n",
       "      <td>5757.0</td>\n",
       "      <td>4.280181</td>\n",
       "      <td>1.170718</td>\n",
       "      <td>1.0</td>\n",
       "      <td>3.0</td>\n",
       "      <td>4.0</td>\n",
       "      <td>5.0</td>\n",
       "      <td>11.0</td>\n",
       "      <td>dares</td>\n",
       "      <td>pouty</td>\n",
       "    </tr>\n",
       "    <tr>\n",
       "      <th>0</th>\n",
       "      <td>5757.0</td>\n",
       "      <td>4.280875</td>\n",
       "      <td>1.234974</td>\n",
       "      <td>1.0</td>\n",
       "      <td>3.0</td>\n",
       "      <td>4.0</td>\n",
       "      <td>5.0</td>\n",
       "      <td>12.0</td>\n",
       "      <td>cores</td>\n",
       "      <td>laity</td>\n",
       "    </tr>\n",
       "    <tr>\n",
       "      <th>0</th>\n",
       "      <td>5757.0</td>\n",
       "      <td>4.289561</td>\n",
       "      <td>1.162172</td>\n",
       "      <td>1.0</td>\n",
       "      <td>3.0</td>\n",
       "      <td>4.0</td>\n",
       "      <td>5.0</td>\n",
       "      <td>11.0</td>\n",
       "      <td>mares</td>\n",
       "      <td>pouty</td>\n",
       "    </tr>\n",
       "    <tr>\n",
       "      <th>0</th>\n",
       "      <td>5757.0</td>\n",
       "      <td>4.298072</td>\n",
       "      <td>1.205624</td>\n",
       "      <td>1.0</td>\n",
       "      <td>3.0</td>\n",
       "      <td>4.0</td>\n",
       "      <td>5.0</td>\n",
       "      <td>11.0</td>\n",
       "      <td>cares</td>\n",
       "      <td>pouty</td>\n",
       "    </tr>\n",
       "    <tr>\n",
       "      <th>0</th>\n",
       "      <td>5757.0</td>\n",
       "      <td>4.307278</td>\n",
       "      <td>1.213732</td>\n",
       "      <td>1.0</td>\n",
       "      <td>3.0</td>\n",
       "      <td>4.0</td>\n",
       "      <td>5.0</td>\n",
       "      <td>11.0</td>\n",
       "      <td>dares</td>\n",
       "      <td>piony</td>\n",
       "    </tr>\n",
       "    <tr>\n",
       "      <th>0</th>\n",
       "      <td>5757.0</td>\n",
       "      <td>4.313010</td>\n",
       "      <td>1.238144</td>\n",
       "      <td>1.0</td>\n",
       "      <td>3.0</td>\n",
       "      <td>4.0</td>\n",
       "      <td>5.0</td>\n",
       "      <td>13.0</td>\n",
       "      <td>cares</td>\n",
       "      <td>doily</td>\n",
       "    </tr>\n",
       "    <tr>\n",
       "      <th>0</th>\n",
       "      <td>5757.0</td>\n",
       "      <td>4.313010</td>\n",
       "      <td>1.238144</td>\n",
       "      <td>1.0</td>\n",
       "      <td>3.0</td>\n",
       "      <td>4.0</td>\n",
       "      <td>5.0</td>\n",
       "      <td>13.0</td>\n",
       "      <td>cores</td>\n",
       "      <td>daily</td>\n",
       "    </tr>\n",
       "    <tr>\n",
       "      <th>0</th>\n",
       "      <td>5757.0</td>\n",
       "      <td>4.313531</td>\n",
       "      <td>1.225388</td>\n",
       "      <td>1.0</td>\n",
       "      <td>3.0</td>\n",
       "      <td>4.0</td>\n",
       "      <td>5.0</td>\n",
       "      <td>12.0</td>\n",
       "      <td>mares</td>\n",
       "      <td>doily</td>\n",
       "    </tr>\n",
       "    <tr>\n",
       "      <th>0</th>\n",
       "      <td>5757.0</td>\n",
       "      <td>4.315442</td>\n",
       "      <td>1.233167</td>\n",
       "      <td>1.0</td>\n",
       "      <td>3.0</td>\n",
       "      <td>4.0</td>\n",
       "      <td>5.0</td>\n",
       "      <td>13.0</td>\n",
       "      <td>pares</td>\n",
       "      <td>noily</td>\n",
       "    </tr>\n",
       "    <tr>\n",
       "      <th>0</th>\n",
       "      <td>5757.0</td>\n",
       "      <td>4.323259</td>\n",
       "      <td>1.185051</td>\n",
       "      <td>1.0</td>\n",
       "      <td>4.0</td>\n",
       "      <td>4.0</td>\n",
       "      <td>5.0</td>\n",
       "      <td>11.0</td>\n",
       "      <td>bares</td>\n",
       "      <td>pouty</td>\n",
       "    </tr>\n",
       "    <tr>\n",
       "      <th>0</th>\n",
       "      <td>5757.0</td>\n",
       "      <td>4.324301</td>\n",
       "      <td>1.181830</td>\n",
       "      <td>1.0</td>\n",
       "      <td>4.0</td>\n",
       "      <td>4.0</td>\n",
       "      <td>5.0</td>\n",
       "      <td>11.0</td>\n",
       "      <td>pares</td>\n",
       "      <td>boink</td>\n",
       "    </tr>\n",
       "    <tr>\n",
       "      <th>0</th>\n",
       "      <td>5757.0</td>\n",
       "      <td>4.334549</td>\n",
       "      <td>1.226705</td>\n",
       "      <td>1.0</td>\n",
       "      <td>3.0</td>\n",
       "      <td>4.0</td>\n",
       "      <td>5.0</td>\n",
       "      <td>12.0</td>\n",
       "      <td>bares</td>\n",
       "      <td>doily</td>\n",
       "    </tr>\n",
       "    <tr>\n",
       "      <th>0</th>\n",
       "      <td>5757.0</td>\n",
       "      <td>4.334549</td>\n",
       "      <td>1.226705</td>\n",
       "      <td>1.0</td>\n",
       "      <td>3.0</td>\n",
       "      <td>4.0</td>\n",
       "      <td>5.0</td>\n",
       "      <td>12.0</td>\n",
       "      <td>bores</td>\n",
       "      <td>daily</td>\n",
       "    </tr>\n",
       "    <tr>\n",
       "      <th>0</th>\n",
       "      <td>5757.0</td>\n",
       "      <td>4.335765</td>\n",
       "      <td>1.228001</td>\n",
       "      <td>1.0</td>\n",
       "      <td>3.0</td>\n",
       "      <td>4.0</td>\n",
       "      <td>5.0</td>\n",
       "      <td>12.0</td>\n",
       "      <td>pores</td>\n",
       "      <td>haily</td>\n",
       "    </tr>\n",
       "    <tr>\n",
       "      <th>0</th>\n",
       "      <td>5757.0</td>\n",
       "      <td>4.335939</td>\n",
       "      <td>1.260694</td>\n",
       "      <td>1.0</td>\n",
       "      <td>3.0</td>\n",
       "      <td>4.0</td>\n",
       "      <td>5.0</td>\n",
       "      <td>13.0</td>\n",
       "      <td>dares</td>\n",
       "      <td>noily</td>\n",
       "    </tr>\n",
       "    <tr>\n",
       "      <th>0</th>\n",
       "      <td>5757.0</td>\n",
       "      <td>4.338544</td>\n",
       "      <td>1.234717</td>\n",
       "      <td>1.0</td>\n",
       "      <td>3.0</td>\n",
       "      <td>4.0</td>\n",
       "      <td>5.0</td>\n",
       "      <td>12.0</td>\n",
       "      <td>pores</td>\n",
       "      <td>gaily</td>\n",
       "    </tr>\n",
       "    <tr>\n",
       "      <th>0</th>\n",
       "      <td>5757.0</td>\n",
       "      <td>4.340976</td>\n",
       "      <td>1.231934</td>\n",
       "      <td>1.0</td>\n",
       "      <td>4.0</td>\n",
       "      <td>4.0</td>\n",
       "      <td>5.0</td>\n",
       "      <td>12.0</td>\n",
       "      <td>canes</td>\n",
       "      <td>pouty</td>\n",
       "    </tr>\n",
       "    <tr>\n",
       "      <th>0</th>\n",
       "      <td>5757.0</td>\n",
       "      <td>4.345840</td>\n",
       "      <td>1.281614</td>\n",
       "      <td>1.0</td>\n",
       "      <td>3.0</td>\n",
       "      <td>4.0</td>\n",
       "      <td>5.0</td>\n",
       "      <td>13.0</td>\n",
       "      <td>canes</td>\n",
       "      <td>roily</td>\n",
       "    </tr>\n",
       "    <tr>\n",
       "      <th>0</th>\n",
       "      <td>5757.0</td>\n",
       "      <td>4.345840</td>\n",
       "      <td>1.246707</td>\n",
       "      <td>1.0</td>\n",
       "      <td>3.0</td>\n",
       "      <td>4.0</td>\n",
       "      <td>5.0</td>\n",
       "      <td>13.0</td>\n",
       "      <td>mares</td>\n",
       "      <td>noily</td>\n",
       "    </tr>\n",
       "    <tr>\n",
       "      <th>0</th>\n",
       "      <td>5757.0</td>\n",
       "      <td>4.346708</td>\n",
       "      <td>1.255701</td>\n",
       "      <td>1.0</td>\n",
       "      <td>4.0</td>\n",
       "      <td>4.0</td>\n",
       "      <td>5.0</td>\n",
       "      <td>13.0</td>\n",
       "      <td>canes</td>\n",
       "      <td>doily</td>\n",
       "    </tr>\n",
       "    <tr>\n",
       "      <th>0</th>\n",
       "      <td>5757.0</td>\n",
       "      <td>4.349661</td>\n",
       "      <td>1.212422</td>\n",
       "      <td>1.0</td>\n",
       "      <td>4.0</td>\n",
       "      <td>4.0</td>\n",
       "      <td>5.0</td>\n",
       "      <td>11.0</td>\n",
       "      <td>pares</td>\n",
       "      <td>gouty</td>\n",
       "    </tr>\n",
       "    <tr>\n",
       "      <th>0</th>\n",
       "      <td>5757.0</td>\n",
       "      <td>4.352614</td>\n",
       "      <td>1.279970</td>\n",
       "      <td>1.0</td>\n",
       "      <td>3.0</td>\n",
       "      <td>4.0</td>\n",
       "      <td>5.0</td>\n",
       "      <td>13.0</td>\n",
       "      <td>cares</td>\n",
       "      <td>noily</td>\n",
       "    </tr>\n",
       "    <tr>\n",
       "      <th>0</th>\n",
       "      <td>5757.0</td>\n",
       "      <td>4.367379</td>\n",
       "      <td>1.257223</td>\n",
       "      <td>1.0</td>\n",
       "      <td>4.0</td>\n",
       "      <td>4.0</td>\n",
       "      <td>5.0</td>\n",
       "      <td>13.0</td>\n",
       "      <td>bares</td>\n",
       "      <td>noily</td>\n",
       "    </tr>\n",
       "    <tr>\n",
       "      <th>0</th>\n",
       "      <td>5757.0</td>\n",
       "      <td>4.370679</td>\n",
       "      <td>1.233154</td>\n",
       "      <td>1.0</td>\n",
       "      <td>4.0</td>\n",
       "      <td>4.0</td>\n",
       "      <td>5.0</td>\n",
       "      <td>12.0</td>\n",
       "      <td>dares</td>\n",
       "      <td>gouty</td>\n",
       "    </tr>\n",
       "    <tr>\n",
       "      <th>0</th>\n",
       "      <td>5757.0</td>\n",
       "      <td>4.372590</td>\n",
       "      <td>1.291295</td>\n",
       "      <td>1.0</td>\n",
       "      <td>4.0</td>\n",
       "      <td>4.0</td>\n",
       "      <td>5.0</td>\n",
       "      <td>13.0</td>\n",
       "      <td>canes</td>\n",
       "      <td>loury</td>\n",
       "    </tr>\n",
       "    <tr>\n",
       "      <th>0</th>\n",
       "      <td>5757.0</td>\n",
       "      <td>4.374153</td>\n",
       "      <td>1.219063</td>\n",
       "      <td>1.0</td>\n",
       "      <td>4.0</td>\n",
       "      <td>4.0</td>\n",
       "      <td>5.0</td>\n",
       "      <td>11.0</td>\n",
       "      <td>mares</td>\n",
       "      <td>gouty</td>\n",
       "    </tr>\n",
       "    <tr>\n",
       "      <th>0</th>\n",
       "      <td>5757.0</td>\n",
       "      <td>4.379191</td>\n",
       "      <td>1.270231</td>\n",
       "      <td>1.0</td>\n",
       "      <td>4.0</td>\n",
       "      <td>4.0</td>\n",
       "      <td>5.0</td>\n",
       "      <td>12.0</td>\n",
       "      <td>cores</td>\n",
       "      <td>haily</td>\n",
       "    </tr>\n",
       "    <tr>\n",
       "      <th>0</th>\n",
       "      <td>5757.0</td>\n",
       "      <td>4.385270</td>\n",
       "      <td>1.286420</td>\n",
       "      <td>1.0</td>\n",
       "      <td>4.0</td>\n",
       "      <td>4.0</td>\n",
       "      <td>5.0</td>\n",
       "      <td>13.0</td>\n",
       "      <td>cores</td>\n",
       "      <td>gaily</td>\n",
       "    </tr>\n",
       "    <tr>\n",
       "      <th>0</th>\n",
       "      <td>5757.0</td>\n",
       "      <td>4.391697</td>\n",
       "      <td>1.256099</td>\n",
       "      <td>1.0</td>\n",
       "      <td>4.0</td>\n",
       "      <td>4.0</td>\n",
       "      <td>5.0</td>\n",
       "      <td>12.0</td>\n",
       "      <td>bores</td>\n",
       "      <td>haily</td>\n",
       "    </tr>\n",
       "    <tr>\n",
       "      <th>0</th>\n",
       "      <td>5757.0</td>\n",
       "      <td>4.397603</td>\n",
       "      <td>1.268976</td>\n",
       "      <td>1.0</td>\n",
       "      <td>4.0</td>\n",
       "      <td>4.0</td>\n",
       "      <td>5.0</td>\n",
       "      <td>12.0</td>\n",
       "      <td>cares</td>\n",
       "      <td>gouty</td>\n",
       "    </tr>\n",
       "    <tr>\n",
       "      <th>0</th>\n",
       "      <td>5757.0</td>\n",
       "      <td>4.401945</td>\n",
       "      <td>1.272600</td>\n",
       "      <td>1.0</td>\n",
       "      <td>4.0</td>\n",
       "      <td>4.0</td>\n",
       "      <td>5.0</td>\n",
       "      <td>12.0</td>\n",
       "      <td>bores</td>\n",
       "      <td>gaily</td>\n",
       "    </tr>\n",
       "    <tr>\n",
       "      <th>0</th>\n",
       "      <td>5757.0</td>\n",
       "      <td>4.411325</td>\n",
       "      <td>1.251127</td>\n",
       "      <td>1.0</td>\n",
       "      <td>4.0</td>\n",
       "      <td>4.0</td>\n",
       "      <td>5.0</td>\n",
       "      <td>12.0</td>\n",
       "      <td>bares</td>\n",
       "      <td>gouty</td>\n",
       "    </tr>\n",
       "    <tr>\n",
       "      <th>0</th>\n",
       "      <td>5757.0</td>\n",
       "      <td>4.426958</td>\n",
       "      <td>1.281079</td>\n",
       "      <td>1.0</td>\n",
       "      <td>4.0</td>\n",
       "      <td>4.0</td>\n",
       "      <td>5.0</td>\n",
       "      <td>12.0</td>\n",
       "      <td>canes</td>\n",
       "      <td>gouty</td>\n",
       "    </tr>\n",
       "  </tbody>\n",
       "</table>\n",
       "</div>"
      ],
      "text/plain": [
       "    count      mean       std  min  25%  50%  75%   max  word1  word2\n",
       "0  5757.0  4.131839  1.118184  1.0  3.0  4.0  5.0  11.0  pares  doilt\n",
       "0  5757.0  4.157721  1.144281  1.0  3.0  4.0  5.0  11.0  dares  point\n",
       "0  5757.0  4.161195  1.134188  1.0  3.0  4.0  5.0  11.0  tares  poind\n",
       "0  5757.0  4.162585  1.158392  1.0  3.0  4.0  5.0  11.0  cores  paint\n",
       "0  5757.0  4.209484  1.165684  1.0  3.0  4.0  5.0  12.0  tares  could\n",
       "0  5757.0  4.220254  1.157710  1.0  3.0  4.0  5.0  11.0  pores  canid\n",
       "0  5757.0  4.222512  1.159752  1.0  3.0  4.0  5.0  11.0  cares  poind\n",
       "0  5757.0  4.228591  1.147040  1.0  3.0  4.0  5.0  12.0  pares  could\n",
       "0  5757.0  4.230676  1.185069  1.0  3.0  4.0  5.0  11.0  tares  piony\n",
       "0  5757.0  4.230849  1.181585  1.0  3.0  4.0  5.0  12.0  pores  laity\n",
       "0  5757.0  4.233802  1.134868  1.0  3.0  4.0  5.0  11.0  mares  poind\n",
       "0  5757.0  4.254125  1.202789  1.0  3.0  4.0  5.0  12.0  tares  doily\n",
       "0  5757.0  4.258989  1.148075  1.0  3.0  4.0  5.0  10.0  bares  poind\n",
       "0  5757.0  4.268369  1.232266  1.0  3.0  4.0  5.0  13.0  tares  noily\n",
       "0  5757.0  4.275143  1.192996  1.0  3.0  4.0  5.0  11.0  bores  canid\n",
       "0  5757.0  4.275838  1.191962  1.0  3.0  4.0  5.0  12.0  pares  doily\n",
       "0  5757.0  4.275838  1.191962  1.0  3.0  4.0  5.0  12.0  pores  daily\n",
       "0  5757.0  4.278617  1.200467  1.0  3.0  4.0  5.0  12.0  bores  laity\n",
       "0  5757.0  4.280181  1.170718  1.0  3.0  4.0  5.0  11.0  dares  pouty\n",
       "0  5757.0  4.280875  1.234974  1.0  3.0  4.0  5.0  12.0  cores  laity\n",
       "0  5757.0  4.289561  1.162172  1.0  3.0  4.0  5.0  11.0  mares  pouty\n",
       "0  5757.0  4.298072  1.205624  1.0  3.0  4.0  5.0  11.0  cares  pouty\n",
       "0  5757.0  4.307278  1.213732  1.0  3.0  4.0  5.0  11.0  dares  piony\n",
       "0  5757.0  4.313010  1.238144  1.0  3.0  4.0  5.0  13.0  cares  doily\n",
       "0  5757.0  4.313010  1.238144  1.0  3.0  4.0  5.0  13.0  cores  daily\n",
       "0  5757.0  4.313531  1.225388  1.0  3.0  4.0  5.0  12.0  mares  doily\n",
       "0  5757.0  4.315442  1.233167  1.0  3.0  4.0  5.0  13.0  pares  noily\n",
       "0  5757.0  4.323259  1.185051  1.0  4.0  4.0  5.0  11.0  bares  pouty\n",
       "0  5757.0  4.324301  1.181830  1.0  4.0  4.0  5.0  11.0  pares  boink\n",
       "0  5757.0  4.334549  1.226705  1.0  3.0  4.0  5.0  12.0  bares  doily\n",
       "0  5757.0  4.334549  1.226705  1.0  3.0  4.0  5.0  12.0  bores  daily\n",
       "0  5757.0  4.335765  1.228001  1.0  3.0  4.0  5.0  12.0  pores  haily\n",
       "0  5757.0  4.335939  1.260694  1.0  3.0  4.0  5.0  13.0  dares  noily\n",
       "0  5757.0  4.338544  1.234717  1.0  3.0  4.0  5.0  12.0  pores  gaily\n",
       "0  5757.0  4.340976  1.231934  1.0  4.0  4.0  5.0  12.0  canes  pouty\n",
       "0  5757.0  4.345840  1.281614  1.0  3.0  4.0  5.0  13.0  canes  roily\n",
       "0  5757.0  4.345840  1.246707  1.0  3.0  4.0  5.0  13.0  mares  noily\n",
       "0  5757.0  4.346708  1.255701  1.0  4.0  4.0  5.0  13.0  canes  doily\n",
       "0  5757.0  4.349661  1.212422  1.0  4.0  4.0  5.0  11.0  pares  gouty\n",
       "0  5757.0  4.352614  1.279970  1.0  3.0  4.0  5.0  13.0  cares  noily\n",
       "0  5757.0  4.367379  1.257223  1.0  4.0  4.0  5.0  13.0  bares  noily\n",
       "0  5757.0  4.370679  1.233154  1.0  4.0  4.0  5.0  12.0  dares  gouty\n",
       "0  5757.0  4.372590  1.291295  1.0  4.0  4.0  5.0  13.0  canes  loury\n",
       "0  5757.0  4.374153  1.219063  1.0  4.0  4.0  5.0  11.0  mares  gouty\n",
       "0  5757.0  4.379191  1.270231  1.0  4.0  4.0  5.0  12.0  cores  haily\n",
       "0  5757.0  4.385270  1.286420  1.0  4.0  4.0  5.0  13.0  cores  gaily\n",
       "0  5757.0  4.391697  1.256099  1.0  4.0  4.0  5.0  12.0  bores  haily\n",
       "0  5757.0  4.397603  1.268976  1.0  4.0  4.0  5.0  12.0  cares  gouty\n",
       "0  5757.0  4.401945  1.272600  1.0  4.0  4.0  5.0  12.0  bores  gaily\n",
       "0  5757.0  4.411325  1.251127  1.0  4.0  4.0  5.0  12.0  bares  gouty\n",
       "0  5757.0  4.426958  1.281079  1.0  4.0  4.0  5.0  12.0  canes  gouty"
      ]
     },
     "execution_count": 56,
     "metadata": {},
     "output_type": "execute_result"
    }
   ],
   "source": [
    "doubles_search.sort_values('mean')"
   ]
  },
  {
   "cell_type": "code",
   "execution_count": null,
   "id": "adcba806-e334-4214-b9a5-02575f19a907",
   "metadata": {},
   "outputs": [],
   "source": []
  }
 ],
 "metadata": {
  "kernelspec": {
   "display_name": "datascience",
   "language": "python",
   "name": "datascience"
  },
  "language_info": {
   "codemirror_mode": {
    "name": "ipython",
    "version": 3
   },
   "file_extension": ".py",
   "mimetype": "text/x-python",
   "name": "python",
   "nbconvert_exporter": "python",
   "pygments_lexer": "ipython3",
   "version": "3.9.7"
  }
 },
 "nbformat": 4,
 "nbformat_minor": 5
}
