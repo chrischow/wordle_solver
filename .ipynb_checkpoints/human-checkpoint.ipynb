{
 "cells": [
  {
   "cell_type": "markdown",
   "id": "83a9c996-5580-4202-84ca-b3260e0c3eab",
   "metadata": {},
   "source": [
    "# Human App"
   ]
  },
  {
   "cell_type": "code",
   "execution_count": 1,
   "id": "de045cea-7a3a-42a6-87f3-8a3b3eb28cce",
   "metadata": {},
   "outputs": [],
   "source": [
    "import json\n",
    "import matplotlib.pyplot as plt\n",
    "import numpy as np\n",
    "import pandas as pd\n",
    "\n",
    "from joblib import Parallel, delayed"
   ]
  },
  {
   "cell_type": "markdown",
   "id": "068e9aa5-b2b1-4876-9d89-e34d593f951a",
   "metadata": {},
   "source": [
    "## Load Words"
   ]
  },
  {
   "cell_type": "markdown",
   "id": "02ee23ea-a1da-4fa4-86a1-f016047032e8",
   "metadata": {},
   "source": [
    "### Wordle Words"
   ]
  },
  {
   "cell_type": "code",
   "execution_count": 2,
   "id": "69654367-2343-400a-8dcd-2855107ed102",
   "metadata": {
    "tags": []
   },
   "outputs": [],
   "source": [
    "with open('data/wordle-candidates.json', 'r') as file:\n",
    "    wordle_candidates = json.load(file)\n",
    "    \n",
    "with open('data/wordle-answers.json', 'r') as file:\n",
    "    wordle_answers = json.load(file)\n",
    "\n",
    "wordle_candidates = pd.DataFrame(wordle_candidates['words'], columns=['word'])\n",
    "wordle_answers = pd.DataFrame(wordle_answers['words'], columns=['word'])\n",
    "wordle_candidates['is_answer'] = 0\n",
    "wordle_answers['is_answer'] = 1\n",
    "wordle = wordle_candidates.append(wordle_answers).reset_index(drop=True)"
   ]
  },
  {
   "cell_type": "markdown",
   "id": "4a0917e8-2b9c-4748-b494-67ab32c70d5b",
   "metadata": {},
   "source": [
    "### Popular Words"
   ]
  },
  {
   "cell_type": "code",
   "execution_count": 3,
   "id": "77053739-6cd5-4d0b-866e-7b9fca6cf112",
   "metadata": {},
   "outputs": [],
   "source": [
    "words_all = pd.read_table('data/archive/en_words_1_5-5.txt', delimiter=' ', header=None, index_col=None,\n",
    "                         names=['word_len', 'word_freq', 'n_articles']).reset_index()\n",
    "words_all = words_all.rename(columns={'index': 'word'})\n",
    "\n",
    "# Filter by english\n",
    "alphabet = list('abcdefghijklmnopqrstuvwxyz')\n",
    "words_all = words_all.loc[words_all.word.apply(lambda x: all([l in alphabet for l in x]))].reset_index(drop=True)\n",
    "\n",
    "# At least 100\n",
    "# words_all = words_all.loc[words_all.word_freq.ge(10)]"
   ]
  },
  {
   "cell_type": "code",
   "execution_count": 8,
   "id": "a6ac51e4-069d-4845-b692-8f709dbe8573",
   "metadata": {},
   "outputs": [],
   "source": [
    "def compute_letter_frequencies(wordset):\n",
    "    w = wordset.copy()\n",
    "    for letter in list('abcdefghijklmnopqrstuvwxyz'):\n",
    "        w[letter] = w.word.str.contains(letter).astype(int)\n",
    "    return w.iloc[:, 1:]\n",
    "\n",
    "def compute_score(x, freqs):\n",
    "    letters = set(x)\n",
    "    output = 0\n",
    "    for letter in letters:\n",
    "        output += freqs[letter]\n",
    "    return output"
   ]
  },
  {
   "cell_type": "code",
   "execution_count": 5,
   "id": "39f6d9a2-7e64-4a71-b111-e4b20c455ced",
   "metadata": {},
   "outputs": [],
   "source": [
    "global_freqs = compute_letter_frequencies(wordle).sum().to_dict()\n",
    "global_scores = wordle.word.apply(compute_score, freqs=global_freqs)\n",
    "global_scores = pd.DataFrame({'word': wordle.word, 'score': global_scores}).sort_values('score', ascending=False)"
   ]
  },
  {
   "cell_type": "markdown",
   "id": "5b818401-ae1d-4876-854d-bf35c2e2d082",
   "metadata": {
    "tags": []
   },
   "source": [
    "## Game Logic"
   ]
  },
  {
   "cell_type": "code",
   "execution_count": 6,
   "id": "b2dab8fe-1d82-4e13-b0b2-d9c1c9c12072",
   "metadata": {},
   "outputs": [],
   "source": [
    "def get_feedback(input_word, solution):\n",
    "    output = ''\n",
    "    for i in range(5):\n",
    "        if input_word[i] == solution[i]:\n",
    "            output += 'G'\n",
    "        elif input_word[i] in solution:\n",
    "            output += 'Y'\n",
    "        else:\n",
    "            output += 'X'\n",
    "    return output"
   ]
  },
  {
   "cell_type": "code",
   "execution_count": 7,
   "id": "10d2ddbf-96c9-480a-95ac-7af5b6c28e73",
   "metadata": {},
   "outputs": [],
   "source": [
    "def filter_wordset(input_word, feedback, wordset):\n",
    "    newset = wordset.copy()\n",
    "    for i in range(5):\n",
    "        if feedback[i] == 'G':\n",
    "            newset = newset.loc[newset.word.str[i] == input_word[i]]\n",
    "        elif feedback[i] == 'Y':\n",
    "            # newset = newset.loc[newset.word.str.contains(input_word[i])]\n",
    "            newset = newset.loc[newset.word.str.contains(input_word[i]) & newset.word.apply(lambda x: x[i] != input_word[i])]\n",
    "        else:\n",
    "            newset = newset.loc[~newset.word.str.contains(input_word[i])]\n",
    "    return newset"
   ]
  },
  {
   "cell_type": "code",
   "execution_count": 8,
   "id": "76edb56b",
   "metadata": {},
   "outputs": [],
   "source": [
    "def compute_letter_frequencies(wordset):\n",
    "    w = wordset.copy()\n",
    "    for letter in list('abcdefghijklmnopqrstuvwxyz'):\n",
    "        w[letter] = w.word.str.contains(letter).astype(int)\n",
    "    return w.iloc[:, 1:]\n",
    "\n",
    "def compute_score(x, freqs):\n",
    "    letters = set(x)\n",
    "    output = 0\n",
    "    for letter in letters:\n",
    "        output += freqs[letter]\n",
    "    return output"
   ]
  },
  {
   "cell_type": "markdown",
   "id": "e8b51cf9-6341-4553-bec6-6a0b56025a21",
   "metadata": {},
   "source": [
    "## Full Dataset"
   ]
  },
  {
   "cell_type": "code",
   "execution_count": 9,
   "id": "dcf11375-50d3-48d4-81a8-d0f5a78fd468",
   "metadata": {},
   "outputs": [],
   "source": [
    "# Merge additional data\n",
    "wordle = wordle.merge(words_all[['word', 'word_freq', 'n_articles']], how='left', left_on='word', right_on='word')\n",
    "wordle = wordle.fillna(0)"
   ]
  },
  {
   "cell_type": "markdown",
   "id": "41c68eb4-ae5f-480d-ba18-953746b3510e",
   "metadata": {},
   "source": [
    "## App"
   ]
  },
  {
   "cell_type": "code",
   "execution_count": 37,
   "id": "51d4d76c-e3d0-4db1-885d-6ad91ed70040",
   "metadata": {},
   "outputs": [],
   "source": [
    "def run_app(pre_load=None):\n",
    "    mask = np.array([True] * wordle.shape[0])\n",
    "    step = 1\n",
    "    fb = ''\n",
    "    scores = pd.DataFrame([{'a': 1}, {'a': 1}])\n",
    "    w = wordle.copy()\n",
    "    w_full = wordle.copy()\n",
    "    w_full = w_full.merge(global_scores[['word', 'score']], how='left', left_on='word', right_on='word')\n",
    "    res = pd.DataFrame([{'a': 1}, {'a': 1}])\n",
    "    tested_words = []\n",
    "    all_chars = []\n",
    "    \n",
    "    while scores.shape[0] > 1 and fb.lower() != 'ggggg':\n",
    "        print(f'[ ---- STEP {step} ----]')\n",
    "        if not (step == 1 and pre_load):\n",
    "            guess = input('Input a guess:')\n",
    "        else:\n",
    "            guess = pre_load\n",
    "        if guess.lower() in ['quit', 'q']:\n",
    "            return\n",
    "        tested_words.append(guess)\n",
    "        all_chars = all_chars + list(set(guess))\n",
    "        all_chars = list(set(all_chars))\n",
    "        \n",
    "        fb = input('Input feedback:')\n",
    "        if fb.lower() in ['quit', 'q']:\n",
    "            return\n",
    "        \n",
    "        w = filter_wordset(guess, fb.upper(), w)\n",
    "        w = w.loc[~w.word.isin(tested_words)]\n",
    "        \n",
    "        # Candidates\n",
    "        print(f'Found {w.shape[0]} candidates. Running analysis...')\n",
    "        # Get scores\n",
    "        scores = pd.DataFrame({'word': w.word, 'word_freq': w.word_freq})\n",
    "        scores['lettermatch'] = scores.word.apply(lambda x: np.sum([x.count(l) for l in all_chars]))\n",
    "        w_full['lettermatch'] = w_full.word.apply(lambda x: np.sum([x.count(l) for l in all_chars]))\n",
    "        df_filter = w_full.sort_values(['lettermatch', 'score', 'word_freq'], ascending=[True, False, False])\n",
    "        df_solve = scores.sort_values(['word_freq', 'lettermatch'], ascending=[False, True])\n",
    "        \n",
    "        print(f'Suggestions for step {step + 1}:')\n",
    "        \n",
    "        if w.shape[0] <= 20:\n",
    "            print(f'Small number of candidates remaining ({w.shape[0]}). We recommend attempting to solve:')\n",
    "            display(df_solve.head(5))\n",
    "        \n",
    "        # Check for repeats\n",
    "        elif w.shape[0] <= 10 and w.shape[0] >= 3:\n",
    "            w_copy = scores.sort_values('word_freq', ascending=False).copy()\n",
    "            # Extract letters\n",
    "            for i in range(5):\n",
    "                w_copy[f'p{i}'] = w_copy.word.str[i]\n",
    "            \n",
    "            # Count the number of unique columns\n",
    "            unique_mask = w_copy.iloc[:, -5:].nunique() > 1\n",
    "            \n",
    "            # If only 1, then recommend another word\n",
    "            if unique_mask.sum() == 1:\n",
    "                wc = wordle.copy()\n",
    "                total_letters = w_copy.shape[0]\n",
    "                wc['scores'] = 0\n",
    "                wc['counts'] = 0\n",
    "                for i, letter in enumerate(np.squeeze(w_copy[unique_mask.index[unique_mask]].values)):\n",
    "                    wc['scores'] = wc['scores'] + (total_letters - i) * wc.word.str.contains(letter).astype(int)\n",
    "                    wc['counts'] = wc['counts'] + wc.word.str.contains(letter).astype(int)\n",
    "                    \n",
    "                print(f'\\nWords with only one letter differential detected. Consider filtering:')\n",
    "                display(wc.loc[wc.counts.le(total_letters // 2 * 3)].sort_values('scores', ascending=False).head(5))\n",
    "        else:\n",
    "            print(f'Large number of candidates remaining ({w.shape[0]}). We recommend filtering further:')\n",
    "            display(df_filter.head(5))\n",
    "            print(f'\\n But, if you want to solve:')\n",
    "            display(df_solve.head(5))\n",
    "                \n",
    "        step += 1\n",
    "        print()"
   ]
  },
  {
   "cell_type": "code",
   "execution_count": null,
   "id": "e2e46f75-bcfa-4e6c-9678-e5f11c10d8af",
   "metadata": {},
   "outputs": [],
   "source": []
  },
  {
   "cell_type": "code",
   "execution_count": null,
   "id": "bac6cb37-444b-4591-b503-5bbb6bb51f3c",
   "metadata": {},
   "outputs": [
    {
     "name": "stdout",
     "output_type": "stream",
     "text": [
      "[ ---- STEP 1 ----]\n"
     ]
    },
    {
     "name": "stdin",
     "output_type": "stream",
     "text": [
      "Input feedback: yxxxx\n"
     ]
    },
    {
     "name": "stdout",
     "output_type": "stream",
     "text": [
      "Found 796 candidates. Running analysis...\n",
      "Suggestions for step 2:\n",
      "Large number of candidates remaining (796). We recommend filtering further:\n"
     ]
    },
    {
     "data": {
      "text/html": [
       "<div>\n",
       "<style scoped>\n",
       "    .dataframe tbody tr th:only-of-type {\n",
       "        vertical-align: middle;\n",
       "    }\n",
       "\n",
       "    .dataframe tbody tr th {\n",
       "        vertical-align: top;\n",
       "    }\n",
       "\n",
       "    .dataframe thead th {\n",
       "        text-align: right;\n",
       "    }\n",
       "</style>\n",
       "<table border=\"1\" class=\"dataframe\">\n",
       "  <thead>\n",
       "    <tr style=\"text-align: right;\">\n",
       "      <th></th>\n",
       "      <th>word</th>\n",
       "      <th>is_answer</th>\n",
       "      <th>word_freq</th>\n",
       "      <th>n_articles</th>\n",
       "      <th>score</th>\n",
       "      <th>lettermatch</th>\n",
       "    </tr>\n",
       "  </thead>\n",
       "  <tbody>\n",
       "    <tr>\n",
       "      <th>5323</th>\n",
       "      <td>lound</td>\n",
       "      <td>0</td>\n",
       "      <td>61.0</td>\n",
       "      <td>25.0</td>\n",
       "      <td>14546</td>\n",
       "      <td>0</td>\n",
       "    </tr>\n",
       "    <tr>\n",
       "      <th>6251</th>\n",
       "      <td>nould</td>\n",
       "      <td>0</td>\n",
       "      <td>0.0</td>\n",
       "      <td>0.0</td>\n",
       "      <td>14546</td>\n",
       "      <td>0</td>\n",
       "    </tr>\n",
       "    <tr>\n",
       "      <th>11670</th>\n",
       "      <td>donut</td>\n",
       "      <td>1</td>\n",
       "      <td>300.0</td>\n",
       "      <td>201.0</td>\n",
       "      <td>14465</td>\n",
       "      <td>0</td>\n",
       "    </tr>\n",
       "    <tr>\n",
       "      <th>12237</th>\n",
       "      <td>clout</td>\n",
       "      <td>1</td>\n",
       "      <td>180.0</td>\n",
       "      <td>150.0</td>\n",
       "      <td>14414</td>\n",
       "      <td>0</td>\n",
       "    </tr>\n",
       "    <tr>\n",
       "      <th>6919</th>\n",
       "      <td>pluto</td>\n",
       "      <td>0</td>\n",
       "      <td>1083.0</td>\n",
       "      <td>650.0</td>\n",
       "      <td>14379</td>\n",
       "      <td>0</td>\n",
       "    </tr>\n",
       "  </tbody>\n",
       "</table>\n",
       "</div>"
      ],
      "text/plain": [
       "        word  is_answer  word_freq  n_articles  score  lettermatch\n",
       "5323   lound          0       61.0        25.0  14546            0\n",
       "6251   nould          0        0.0         0.0  14546            0\n",
       "11670  donut          1      300.0       201.0  14465            0\n",
       "12237  clout          1      180.0       150.0  14414            0\n",
       "6919   pluto          0     1083.0       650.0  14379            0"
      ]
     },
     "metadata": {},
     "output_type": "display_data"
    },
    {
     "name": "stdout",
     "output_type": "stream",
     "text": [
      "\n",
      " But, if you want to solve:\n"
     ]
    },
    {
     "data": {
      "text/html": [
       "<div>\n",
       "<style scoped>\n",
       "    .dataframe tbody tr th:only-of-type {\n",
       "        vertical-align: middle;\n",
       "    }\n",
       "\n",
       "    .dataframe tbody tr th {\n",
       "        vertical-align: top;\n",
       "    }\n",
       "\n",
       "    .dataframe thead th {\n",
       "        text-align: right;\n",
       "    }\n",
       "</style>\n",
       "<table border=\"1\" class=\"dataframe\">\n",
       "  <thead>\n",
       "    <tr style=\"text-align: right;\">\n",
       "      <th></th>\n",
       "      <th>word</th>\n",
       "      <th>word_freq</th>\n",
       "      <th>lettermatch</th>\n",
       "    </tr>\n",
       "  </thead>\n",
       "  <tbody>\n",
       "    <tr>\n",
       "      <th>11758</th>\n",
       "      <td>local</td>\n",
       "      <td>182670.0</td>\n",
       "      <td>1</td>\n",
       "    </tr>\n",
       "    <tr>\n",
       "      <th>11283</th>\n",
       "      <td>coach</td>\n",
       "      <td>130438.0</td>\n",
       "      <td>1</td>\n",
       "    </tr>\n",
       "    <tr>\n",
       "      <th>4429</th>\n",
       "      <td>japan</td>\n",
       "      <td>124684.0</td>\n",
       "      <td>2</td>\n",
       "    </tr>\n",
       "    <tr>\n",
       "      <th>10957</th>\n",
       "      <td>black</td>\n",
       "      <td>121935.0</td>\n",
       "      <td>1</td>\n",
       "    </tr>\n",
       "    <tr>\n",
       "      <th>11230</th>\n",
       "      <td>total</td>\n",
       "      <td>115817.0</td>\n",
       "      <td>1</td>\n",
       "    </tr>\n",
       "  </tbody>\n",
       "</table>\n",
       "</div>"
      ],
      "text/plain": [
       "        word  word_freq  lettermatch\n",
       "11758  local   182670.0            1\n",
       "11283  coach   130438.0            1\n",
       "4429   japan   124684.0            2\n",
       "10957  black   121935.0            1\n",
       "11230  total   115817.0            1"
      ]
     },
     "metadata": {},
     "output_type": "display_data"
    },
    {
     "name": "stdout",
     "output_type": "stream",
     "text": [
      "\n",
      "[ ---- STEP 2 ----]\n"
     ]
    },
    {
     "name": "stdin",
     "output_type": "stream",
     "text": [
      "Input a guess: donut\n",
      "Input feedback: xxyxx\n"
     ]
    },
    {
     "name": "stdout",
     "output_type": "stream",
     "text": [
      "Found 47 candidates. Running analysis...\n",
      "Suggestions for step 3:\n",
      "Large number of candidates remaining (47). We recommend filtering further:\n"
     ]
    },
    {
     "data": {
      "text/html": [
       "<div>\n",
       "<style scoped>\n",
       "    .dataframe tbody tr th:only-of-type {\n",
       "        vertical-align: middle;\n",
       "    }\n",
       "\n",
       "    .dataframe tbody tr th {\n",
       "        vertical-align: top;\n",
       "    }\n",
       "\n",
       "    .dataframe thead th {\n",
       "        text-align: right;\n",
       "    }\n",
       "</style>\n",
       "<table border=\"1\" class=\"dataframe\">\n",
       "  <thead>\n",
       "    <tr style=\"text-align: right;\">\n",
       "      <th></th>\n",
       "      <th>word</th>\n",
       "      <th>is_answer</th>\n",
       "      <th>word_freq</th>\n",
       "      <th>n_articles</th>\n",
       "      <th>score</th>\n",
       "      <th>lettermatch</th>\n",
       "    </tr>\n",
       "  </thead>\n",
       "  <tbody>\n",
       "    <tr>\n",
       "      <th>11341</th>\n",
       "      <td>lymph</td>\n",
       "      <td>1</td>\n",
       "      <td>1076.0</td>\n",
       "      <td>494.0</td>\n",
       "      <td>10606</td>\n",
       "      <td>0</td>\n",
       "    </tr>\n",
       "    <tr>\n",
       "      <th>11193</th>\n",
       "      <td>glyph</td>\n",
       "      <td>1</td>\n",
       "      <td>297.0</td>\n",
       "      <td>222.0</td>\n",
       "      <td>10281</td>\n",
       "      <td>0</td>\n",
       "    </tr>\n",
       "    <tr>\n",
       "      <th>3489</th>\n",
       "      <td>ghyll</td>\n",
       "      <td>0</td>\n",
       "      <td>41.0</td>\n",
       "      <td>23.0</td>\n",
       "      <td>8396</td>\n",
       "      <td>0</td>\n",
       "    </tr>\n",
       "    <tr>\n",
       "      <th>3151</th>\n",
       "      <td>flyby</td>\n",
       "      <td>0</td>\n",
       "      <td>276.0</td>\n",
       "      <td>206.0</td>\n",
       "      <td>7654</td>\n",
       "      <td>0</td>\n",
       "    </tr>\n",
       "    <tr>\n",
       "      <th>12789</th>\n",
       "      <td>pygmy</td>\n",
       "      <td>1</td>\n",
       "      <td>1892.0</td>\n",
       "      <td>920.0</td>\n",
       "      <td>7327</td>\n",
       "      <td>0</td>\n",
       "    </tr>\n",
       "  </tbody>\n",
       "</table>\n",
       "</div>"
      ],
      "text/plain": [
       "        word  is_answer  word_freq  n_articles  score  lettermatch\n",
       "11341  lymph          1     1076.0       494.0  10606            0\n",
       "11193  glyph          1      297.0       222.0  10281            0\n",
       "3489   ghyll          0       41.0        23.0   8396            0\n",
       "3151   flyby          0      276.0       206.0   7654            0\n",
       "12789  pygmy          1     1892.0       920.0   7327            0"
      ]
     },
     "metadata": {},
     "output_type": "display_data"
    },
    {
     "name": "stdout",
     "output_type": "stream",
     "text": [
      "\n",
      " But, if you want to solve:\n"
     ]
    },
    {
     "data": {
      "text/html": [
       "<div>\n",
       "<style scoped>\n",
       "    .dataframe tbody tr th:only-of-type {\n",
       "        vertical-align: middle;\n",
       "    }\n",
       "\n",
       "    .dataframe tbody tr th {\n",
       "        vertical-align: top;\n",
       "    }\n",
       "\n",
       "    .dataframe thead th {\n",
       "        text-align: right;\n",
       "    }\n",
       "</style>\n",
       "<table border=\"1\" class=\"dataframe\">\n",
       "  <thead>\n",
       "    <tr style=\"text-align: right;\">\n",
       "      <th></th>\n",
       "      <th>word</th>\n",
       "      <th>word_freq</th>\n",
       "      <th>lettermatch</th>\n",
       "    </tr>\n",
       "  </thead>\n",
       "  <tbody>\n",
       "    <tr>\n",
       "      <th>4429</th>\n",
       "      <td>japan</td>\n",
       "      <td>124684.0</td>\n",
       "      <td>3</td>\n",
       "    </tr>\n",
       "    <tr>\n",
       "      <th>10665</th>\n",
       "      <td>naval</td>\n",
       "      <td>38766.0</td>\n",
       "      <td>3</td>\n",
       "    </tr>\n",
       "    <tr>\n",
       "      <th>1518</th>\n",
       "      <td>chang</td>\n",
       "      <td>4553.0</td>\n",
       "      <td>2</td>\n",
       "    </tr>\n",
       "    <tr>\n",
       "      <th>11243</th>\n",
       "      <td>pagan</td>\n",
       "      <td>2935.0</td>\n",
       "      <td>3</td>\n",
       "    </tr>\n",
       "    <tr>\n",
       "      <th>11934</th>\n",
       "      <td>flank</td>\n",
       "      <td>2643.0</td>\n",
       "      <td>2</td>\n",
       "    </tr>\n",
       "  </tbody>\n",
       "</table>\n",
       "</div>"
      ],
      "text/plain": [
       "        word  word_freq  lettermatch\n",
       "4429   japan   124684.0            3\n",
       "10665  naval    38766.0            3\n",
       "1518   chang     4553.0            2\n",
       "11243  pagan     2935.0            3\n",
       "11934  flank     2643.0            2"
      ]
     },
     "metadata": {},
     "output_type": "display_data"
    },
    {
     "name": "stdout",
     "output_type": "stream",
     "text": [
      "\n",
      "[ ---- STEP 3 ----]\n"
     ]
    },
    {
     "name": "stdin",
     "output_type": "stream",
     "text": [
      "Input a guess: lymph\n",
      "Input feedback: yxxxx\n"
     ]
    },
    {
     "name": "stdout",
     "output_type": "stream",
     "text": [
      "Found 10 candidates. Running analysis...\n",
      "Suggestions for step 4:\n",
      "Small number of candidates remaining (10). We recommend attempting to solve:\n"
     ]
    },
    {
     "data": {
      "text/html": [
       "<div>\n",
       "<style scoped>\n",
       "    .dataframe tbody tr th:only-of-type {\n",
       "        vertical-align: middle;\n",
       "    }\n",
       "\n",
       "    .dataframe tbody tr th {\n",
       "        vertical-align: top;\n",
       "    }\n",
       "\n",
       "    .dataframe thead th {\n",
       "        text-align: right;\n",
       "    }\n",
       "</style>\n",
       "<table border=\"1\" class=\"dataframe\">\n",
       "  <thead>\n",
       "    <tr style=\"text-align: right;\">\n",
       "      <th></th>\n",
       "      <th>word</th>\n",
       "      <th>word_freq</th>\n",
       "      <th>lettermatch</th>\n",
       "    </tr>\n",
       "  </thead>\n",
       "  <tbody>\n",
       "    <tr>\n",
       "      <th>10665</th>\n",
       "      <td>naval</td>\n",
       "      <td>38766.0</td>\n",
       "      <td>4</td>\n",
       "    </tr>\n",
       "    <tr>\n",
       "      <th>11934</th>\n",
       "      <td>flank</td>\n",
       "      <td>2643.0</td>\n",
       "      <td>3</td>\n",
       "    </tr>\n",
       "    <tr>\n",
       "      <th>11694</th>\n",
       "      <td>blank</td>\n",
       "      <td>2429.0</td>\n",
       "      <td>3</td>\n",
       "    </tr>\n",
       "    <tr>\n",
       "      <th>4793</th>\n",
       "      <td>klang</td>\n",
       "      <td>1091.0</td>\n",
       "      <td>3</td>\n",
       "    </tr>\n",
       "    <tr>\n",
       "      <th>6015</th>\n",
       "      <td>nabla</td>\n",
       "      <td>520.0</td>\n",
       "      <td>4</td>\n",
       "    </tr>\n",
       "  </tbody>\n",
       "</table>\n",
       "</div>"
      ],
      "text/plain": [
       "        word  word_freq  lettermatch\n",
       "10665  naval    38766.0            4\n",
       "11934  flank     2643.0            3\n",
       "11694  blank     2429.0            3\n",
       "4793   klang     1091.0            3\n",
       "6015   nabla      520.0            4"
      ]
     },
     "metadata": {},
     "output_type": "display_data"
    },
    {
     "name": "stdout",
     "output_type": "stream",
     "text": [
      "\n",
      "[ ---- STEP 4 ----]\n"
     ]
    }
   ],
   "source": [
    "run_app(pre_load='arise')"
   ]
  },
  {
   "cell_type": "code",
   "execution_count": null,
   "id": "49ba82e6-dcf2-4ede-8adc-d1e1315caf5c",
   "metadata": {},
   "outputs": [],
   "source": []
  },
  {
   "cell_type": "markdown",
   "id": "0ace0897-16ab-4b61-8088-18e6e0552e16",
   "metadata": {},
   "source": [
    "## Sim"
   ]
  },
  {
   "cell_type": "code",
   "execution_count": 11,
   "id": "70774e3b-92e4-4a2b-9ac7-6455ba631c4a",
   "metadata": {
    "tags": []
   },
   "outputs": [],
   "source": [
    "def run_sim(input_word, solution):\n",
    "    fb = ''\n",
    "    w = wordle.copy()\n",
    "    tested_words = []\n",
    "    ncands = []\n",
    "    step = 1\n",
    "    \n",
    "    guess = input_word\n",
    "\n",
    "    while fb != 'GGGGG':\n",
    "        \n",
    "        if step == 1:\n",
    "            guess = input_word\n",
    "            \n",
    "        # Check solution\n",
    "        fb = get_feedback(guess, solution)\n",
    "        tested_words.append(guess)\n",
    "        \n",
    "        # Filter wordset\n",
    "        w = filter_wordset(guess, fb, w)\n",
    "        w = w.loc[~wordset.word.isin(tested_words)]\n",
    "        ncands.append(wordset.shape[0])\n",
    "        \n",
    "        # Get scores\n",
    "        scores = pd.DataFrame({'word': w.word, 'score': w.word_freq}) \\\n",
    "            .sort_values('score', ascending=False)\n",
    "        \n",
    "        # Filters\n",
    "        if w.shape[0] > 10:\n",
    "            guess = scores.sort_values('score', ascending=False).word.iloc[0]\n",
    "        elif w.shape[0] <= 10:\n",
    "            if w.shape[0] <= 8 and w.shape[0] >= 3:\n",
    "                w_copy = scores.sort_values('score', ascending=False).copy()\n",
    "                # Extract letters\n",
    "                for i in range(5):\n",
    "                    w_copy[f'p{i}'] = w_copy.word.str[i]\n",
    "\n",
    "                # Count the number of unique columns\n",
    "                unique_mask = w_copy.iloc[:, -5:].nunique() > 1\n",
    "\n",
    "                # If only 1, then recommend another word\n",
    "                if unique_mask.sum() == 1:\n",
    "                    wc = wordle.copy()\n",
    "                    total_letters = w_copy.shape[0]\n",
    "                    wc['scores'] = 0\n",
    "                    wc['counts'] = 0\n",
    "                    for i, letter in enumerate(np.squeeze(w_copy[unique_mask.index[unique_mask]].values)):\n",
    "                        wc['scores'] = wc['scores'] + (total_letters - i) * wc.word.str.contains(letter).astype(int)\n",
    "                        wc['counts'] = wc['counts'] + wc.word.str.contains(letter).astype(int)\n",
    "\n",
    "                    special_res = wc.loc[wc.counts.le(total_letters // 2 * 3)].sort_values('scores', ascending=False)\n",
    "                    guess = special_res.word.iloc[0]\n",
    "                else:\n",
    "                    guess = scores.sort_values('score', ascending=False).word.iloc[0]\n",
    "            else:\n",
    "                guess = scores.sort_values('score', ascending=False).word.iloc[0]\n",
    "        if not fb.upper() == 'GGGGG':\n",
    "            step += 1\n",
    "            \n",
    "    return input_word, solution, step, ncands, tested_words"
   ]
  },
  {
   "cell_type": "markdown",
   "id": "d54356de-de2a-4c56-b375-9861fb62eed7",
   "metadata": {},
   "source": [
    "## Run"
   ]
  },
  {
   "cell_type": "code",
   "execution_count": null,
   "id": "246e985f-2203-4048-ad6b-cd24e4c2ff0e",
   "metadata": {},
   "outputs": [
    {
     "name": "stdin",
     "output_type": "stream",
     "text": [
      "Enter feedback: yyxyx\n"
     ]
    },
    {
     "name": "stdout",
     "output_type": "stream",
     "text": [
      "[1] Input: tales | Feedback: yyxyx\n"
     ]
    },
    {
     "name": "stdin",
     "output_type": "stream",
     "text": [
      "Enter feedback: xxxxx\n"
     ]
    },
    {
     "name": "stdout",
     "output_type": "stream",
     "text": [
      "[2] Input: corni | Feedback: xxxxx\n"
     ]
    },
    {
     "data": {
      "text/html": [
       "<div>\n",
       "<style scoped>\n",
       "    .dataframe tbody tr th:only-of-type {\n",
       "        vertical-align: middle;\n",
       "    }\n",
       "\n",
       "    .dataframe tbody tr th {\n",
       "        vertical-align: top;\n",
       "    }\n",
       "\n",
       "    .dataframe thead th {\n",
       "        text-align: right;\n",
       "    }\n",
       "</style>\n",
       "<table border=\"1\" class=\"dataframe\">\n",
       "  <thead>\n",
       "    <tr style=\"text-align: right;\">\n",
       "      <th></th>\n",
       "      <th>word</th>\n",
       "      <th>score</th>\n",
       "      <th>word_freq</th>\n",
       "      <th>n_articles</th>\n",
       "    </tr>\n",
       "  </thead>\n",
       "  <tbody>\n",
       "    <tr>\n",
       "      <th>749</th>\n",
       "      <td>beath</td>\n",
       "      <td>51</td>\n",
       "      <td>72.0</td>\n",
       "      <td>33.0</td>\n",
       "    </tr>\n",
       "    <tr>\n",
       "      <th>751</th>\n",
       "      <td>beaty</td>\n",
       "      <td>50</td>\n",
       "      <td>192.0</td>\n",
       "      <td>93.0</td>\n",
       "    </tr>\n",
       "    <tr>\n",
       "      <th>10678</th>\n",
       "      <td>death</td>\n",
       "      <td>47</td>\n",
       "      <td>151842.0</td>\n",
       "      <td>121176.0</td>\n",
       "    </tr>\n",
       "    <tr>\n",
       "      <th>5591</th>\n",
       "      <td>meath</td>\n",
       "      <td>47</td>\n",
       "      <td>3046.0</td>\n",
       "      <td>1490.0</td>\n",
       "    </tr>\n",
       "    <tr>\n",
       "      <th>10667</th>\n",
       "      <td>heath</td>\n",
       "      <td>46</td>\n",
       "      <td>8879.0</td>\n",
       "      <td>5218.0</td>\n",
       "    </tr>\n",
       "    <tr>\n",
       "      <th>11948</th>\n",
       "      <td>meaty</td>\n",
       "      <td>46</td>\n",
       "      <td>93.0</td>\n",
       "      <td>81.0</td>\n",
       "    </tr>\n",
       "    <tr>\n",
       "      <th>6673</th>\n",
       "      <td>peaty</td>\n",
       "      <td>45</td>\n",
       "      <td>124.0</td>\n",
       "      <td>113.0</td>\n",
       "    </tr>\n",
       "    <tr>\n",
       "      <th>753</th>\n",
       "      <td>beaut</td>\n",
       "      <td>43</td>\n",
       "      <td>16.0</td>\n",
       "      <td>12.0</td>\n",
       "    </tr>\n",
       "    <tr>\n",
       "      <th>830</th>\n",
       "      <td>betta</td>\n",
       "      <td>40</td>\n",
       "      <td>291.0</td>\n",
       "      <td>148.0</td>\n",
       "    </tr>\n",
       "    <tr>\n",
       "      <th>10759</th>\n",
       "      <td>agate</td>\n",
       "      <td>38</td>\n",
       "      <td>386.0</td>\n",
       "      <td>201.0</td>\n",
       "    </tr>\n",
       "  </tbody>\n",
       "</table>\n",
       "</div>"
      ],
      "text/plain": [
       "        word  score  word_freq  n_articles\n",
       "749    beath     51       72.0        33.0\n",
       "751    beaty     50      192.0        93.0\n",
       "10678  death     47   151842.0    121176.0\n",
       "5591   meath     47     3046.0      1490.0\n",
       "10667  heath     46     8879.0      5218.0\n",
       "11948  meaty     46       93.0        81.0\n",
       "6673   peaty     45      124.0       113.0\n",
       "753    beaut     43       16.0        12.0\n",
       "830    betta     40      291.0       148.0\n",
       "10759  agate     38      386.0       201.0"
      ]
     },
     "metadata": {},
     "output_type": "display_data"
    },
    {
     "name": "stdin",
     "output_type": "stream",
     "text": [
      "Choose a word: beath\n",
      "Enter feedback: yyggx\n"
     ]
    },
    {
     "name": "stdout",
     "output_type": "stream",
     "text": [
      "[3] Input: beath | Feedback: yyggx\n"
     ]
    },
    {
     "data": {
      "text/html": [
       "<div>\n",
       "<style scoped>\n",
       "    .dataframe tbody tr th:only-of-type {\n",
       "        vertical-align: middle;\n",
       "    }\n",
       "\n",
       "    .dataframe tbody tr th {\n",
       "        vertical-align: top;\n",
       "    }\n",
       "\n",
       "    .dataframe thead th {\n",
       "        text-align: right;\n",
       "    }\n",
       "</style>\n",
       "<table border=\"1\" class=\"dataframe\">\n",
       "  <thead>\n",
       "    <tr style=\"text-align: right;\">\n",
       "      <th></th>\n",
       "      <th>word</th>\n",
       "      <th>score</th>\n",
       "      <th>word_freq</th>\n",
       "      <th>n_articles</th>\n",
       "    </tr>\n",
       "  </thead>\n",
       "  <tbody>\n",
       "    <tr>\n",
       "      <th>10675</th>\n",
       "      <td>abate</td>\n",
       "      <td>5</td>\n",
       "      <td>317.0</td>\n",
       "      <td>166.0</td>\n",
       "    </tr>\n",
       "  </tbody>\n",
       "</table>\n",
       "</div>"
      ],
      "text/plain": [
       "        word  score  word_freq  n_articles\n",
       "10675  abate      5      317.0       166.0"
      ]
     },
     "metadata": {},
     "output_type": "display_data"
    }
   ],
   "source": [
    "results = Parallel(n_jobs=5, verbose=1)(delayed(run_sim)(input_word, solution) \\\n",
    "                                       for input_word in ['soare', 'roate', 'raise'] \\\n",
    "                                       for solution in wordle_answers.word)"
   ]
  },
  {
   "cell_type": "code",
   "execution_count": null,
   "id": "d63879ee-db9e-4306-b5e5-80fbbda729e0",
   "metadata": {},
   "outputs": [],
   "source": []
  },
  {
   "cell_type": "code",
   "execution_count": null,
   "id": "664de89a-e755-4fb7-a18f-88e080765c23",
   "metadata": {},
   "outputs": [],
   "source": []
  },
  {
   "cell_type": "code",
   "execution_count": null,
   "id": "53bcd741-c343-47b2-8df9-fef35abad1ae",
   "metadata": {},
   "outputs": [],
   "source": []
  },
  {
   "cell_type": "code",
   "execution_count": null,
   "id": "9c9fa39e-e704-4fe7-9284-3e4955f6fd9c",
   "metadata": {},
   "outputs": [],
   "source": []
  },
  {
   "cell_type": "code",
   "execution_count": null,
   "id": "381cc941-9110-4736-ba3c-2de09bab5dde",
   "metadata": {},
   "outputs": [],
   "source": []
  }
 ],
 "metadata": {
  "kernelspec": {
   "display_name": "datascience",
   "language": "python",
   "name": "datascience"
  },
  "language_info": {
   "codemirror_mode": {
    "name": "ipython",
    "version": 3
   },
   "file_extension": ".py",
   "mimetype": "text/x-python",
   "name": "python",
   "nbconvert_exporter": "python",
   "pygments_lexer": "ipython3",
   "version": "3.9.7"
  }
 },
 "nbformat": 4,
 "nbformat_minor": 5
}
