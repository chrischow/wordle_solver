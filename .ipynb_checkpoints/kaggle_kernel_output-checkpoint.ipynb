{
 "cells": [
  {
   "cell_type": "markdown",
   "id": "0ecd6de6-b9cd-4e3a-b640-df0b132aba79",
   "metadata": {},
   "source": [
    "# Get Kaggle Kernel Results"
   ]
  },
  {
   "cell_type": "code",
   "execution_count": null,
   "id": "0959a27f-9ffe-42e8-8c4c-6a5b0e2f8660",
   "metadata": {},
   "outputs": [
    {
     "name": "stdout",
     "output_type": "stream",
     "text": [
      "Warning: Your Kaggle API key is readable by other users on this system! To fix this, you can run 'chmod 600 /home/chrischow/.kaggle/kaggle.json'\n"
     ]
    }
   ],
   "source": [
    "import matplotlib.pyplot as plt\n",
    "import numpy as np\n",
    "import os\n",
    "import pandas as pd\n",
    "import seaborn as sns\n",
    "\n",
    "from kaggle.api.kaggle_api_extended import KaggleApi\n",
    "\n",
    "sns.set()"
   ]
  },
  {
   "cell_type": "markdown",
   "id": "2ad366ab-cea9-450c-87ce-5cd5aeaa1a6d",
   "metadata": {},
   "source": [
    "## Connect to Kaggle"
   ]
  },
  {
   "cell_type": "code",
   "execution_count": null,
   "id": "b4ca0395-bfbf-41ff-8780-1f20a2762541",
   "metadata": {},
   "outputs": [
    {
     "name": "stdout",
     "output_type": "stream",
     "text": [
      "Warning: Your Kaggle API key is readable by other users on this system! To fix this, you can run 'chmod 600 /home/chrischow/.kaggle/kaggle.json'\n"
     ]
    }
   ],
   "source": [
    "api = KaggleApi()\n",
    "api.authenticate()"
   ]
  },
  {
   "cell_type": "markdown",
   "id": "ed9f2de9-1c0e-42a9-9330-7c44a9931a79",
   "metadata": {},
   "source": [
    "## Get Kernels"
   ]
  },
  {
   "cell_type": "code",
   "execution_count": null,
   "id": "8b8d7fa1-f306-4413-852a-ddfb3daa59da",
   "metadata": {},
   "outputs": [],
   "source": [
    "kernels = api.kernels_list(search='wordle-', mine=True, page_size=40)"
   ]
  },
  {
   "cell_type": "code",
   "execution_count": null,
   "id": "90197249-56df-4aee-89bc-2acc4f6fc725",
   "metadata": {},
   "outputs": [],
   "source": [
    "# Download LF kernels\n",
    "for kernel in kernels:\n",
    "    if not (('wordlebot-lf' in kernel.ref or 'wordlebot-gyx-' in kernel.ref) and \\\n",
    "       api.kernels_status(kernel.ref)['status'] == 'complete'):\n",
    "        continue\n",
    "    \n",
    "    experiment_name = kernel.ref.replace('chrischow/', '')\n",
    "    \n",
    "    if 'wordlebot-lf-' in kernel.ref:\n",
    "        download_path = './kernel_output/lf/'\n",
    "        filename = f\"{experiment_name}.csv\"\n",
    "    elif 'wordlebot-gyx-' in kernel.ref:\n",
    "        download_path = './kernel_output/gyx/'\n",
    "        filename = f\"{experiment_name.replace('gyx', 'expected_gyx')}.csv\"\n",
    "#     elif 'wordlebot-ncands-' in kernel.ref:\n",
    "#         download_path = './kernel_output/ncands/'\n",
    "    if not filename in os.listdir(download_path):\n",
    "        print(f\"Downloading {experiment_name}...\")\n",
    "        api.kernels_output(kernel.ref, path=download_path)"
   ]
  },
  {
   "cell_type": "markdown",
   "id": "9ff493d4-86d3-4404-aae3-0663f6820bdf",
   "metadata": {},
   "source": [
    "## Get Data"
   ]
  },
  {
   "cell_type": "code",
   "execution_count": null,
   "id": "b1618ed2-e0ec-4bad-9dab-0229736fcb4a",
   "metadata": {},
   "outputs": [],
   "source": [
    "df_lf = pd.DataFrame()\n",
    "all_data = pd.DataFrame()\n",
    "\n",
    "for kernel in kernels:\n",
    "    if 'wordlebot-lf-' in kernel.ref:\n",
    "        names = kernel.ref.split('-')\n",
    "        word = names[-1]\n",
    "        method = names[1]\n",
    "        temp_df = pd.read_csv(f\"kernel_output/lf/{kernel.ref.replace('chrischow/', '')}.csv\")\n",
    "        \n",
    "        with open(f\"kernel_output/lf/{kernel.ref.replace('chrischow/', '')}.log\") as f:\n",
    "            temp_log = f.readlines()\n",
    "        runtime = pd.DataFrame(eval(''.join(temp_log))).time.iloc[-1]\n",
    "        \n",
    "        temp_results = pd.DataFrame([{\n",
    "            'Seed Word': word,\n",
    "            'Ranking Algorithm': method,\n",
    "            'Runtime': runtime,\n",
    "            'Mean Steps': temp_df.steps.mean(),\n",
    "            'Success Rate': temp_df.steps.le(6).mean(),\n",
    "            '3-Steps or Less': temp_df.steps.le(3).mean(),\n",
    "            'Worst Case': temp_df.steps.max()\n",
    "        }])\n",
    "        \n",
    "        temp_df['method'] = 'lf'\n",
    "        all_data = all_data.append(temp_df)\n",
    "        df_lf = df_lf.append(temp_results)\n",
    "        \n",
    "# df_lf['steps_rank'] = df_lf['Mean Steps'].rank()\n",
    "# df_lf['success_rank'] = df_lf['Success Rate'].rank(ascending=False)\n",
    "# df_lf['threestep_rank'] = df_lf['3-Steps or Less'].rank(ascending=False)\n",
    "# df_lf['max_rank'] = df_lf['Worst Case'].rank()\n",
    "# df_lf['avg_rank'] = df_lf[['steps_rank', 'success_rank', 'threestep_rank']].mean(axis=1)"
   ]
  },
  {
   "cell_type": "code",
   "execution_count": null,
   "id": "37a4234a-08db-407b-a111-184e1b5e6cd9",
   "metadata": {},
   "outputs": [],
   "source": [
    "df_gyx = pd.DataFrame()\n",
    "\n",
    "for kernel in kernels:\n",
    "    if 'wordlebot-gyx-' in kernel.ref:\n",
    "        if api.kernels_status(kernel.ref)['status'] != 'complete':\n",
    "            continue\n",
    "        names = kernel.ref.split('-')\n",
    "        word = names[-1]\n",
    "        method = names[1]\n",
    "        temp_df = pd.read_csv(\n",
    "            f\"kernel_output/gyx/{kernel.ref.replace('chrischow/', '').replace('gyx', 'expected_gyx')}.csv\"\n",
    "        )\n",
    "        \n",
    "        with open(f\"kernel_output/gyx/{kernel.ref.replace('chrischow/', '')}.log\") as f:\n",
    "            temp_log = f.readlines()\n",
    "        runtime = pd.DataFrame(eval(''.join(temp_log))).time.iloc[-1]\n",
    "        \n",
    "        temp_results = pd.DataFrame([{\n",
    "            'Seed Word': word,\n",
    "            'Ranking Algorithm': method,\n",
    "            'Runtime': runtime,\n",
    "            'Mean Steps': temp_df.steps.mean(),\n",
    "            'Success Rate': temp_df.steps.le(6).mean(),\n",
    "            '3-Steps or Less': temp_df.steps.le(3).mean(),\n",
    "            'Worst Case': temp_df.steps.max()\n",
    "        }])\n",
    "        \n",
    "        temp_df['method'] = 'gyx'\n",
    "        all_data = all_data.append(temp_df)\n",
    "        df_gyx = df_gyx.append(temp_results)\n",
    "        \n",
    "# df_gyx['steps_rank'] = df_gyx['Mean Steps'].rank()\n",
    "# df_gyx['success_rank'] = df_gyx['Success Rate'].rank(ascending=False)\n",
    "# df_gyx['threestep_rank'] = df_gyx['3-Steps or Less'].rank(ascending=False)\n",
    "# df_gyx['max_rank'] = df_gyx['Worst Case'].rank()\n",
    "# df_gyx['avg_rank'] = df_gyx[['steps_rank', 'success_rank', 'threestep_rank']].mean(axis=1)"
   ]
  },
  {
   "cell_type": "code",
   "execution_count": null,
   "id": "69b394e5-17db-46c7-9df2-44f77b22320a",
   "metadata": {},
   "outputs": [],
   "source": [
    "df = pd.concat([df_lf, df_gyx], axis=0, ignore_index=True)\n",
    "df['steps_rank'] = df['Mean Steps'].rank()\n",
    "df['success_rank'] = df['Success Rate'].rank(ascending=False)\n",
    "df['threestep_rank'] = df['3-Steps or Less'].rank(ascending=False)\n",
    "df['avg_rank'] = df[['steps_rank', 'success_rank', 'threestep_rank']].mean(axis=1)"
   ]
  },
  {
   "cell_type": "code",
   "execution_count": null,
   "id": "ad179b8d-1e09-48ee-a7d6-3adf00847c3a",
   "metadata": {},
   "outputs": [],
   "source": [
    "df.sort_values('avg_rank')"
   ]
  },
  {
   "cell_type": "code",
   "execution_count": 13,
   "id": "d4f0f52c-289d-493c-b549-d2a67c000c4f",
   "metadata": {},
   "outputs": [],
   "source": [
    "df.sort_values('Mean Steps').groupby('Ranking Algorithm').first()"
   ]
  },
  {
   "cell_type": "code",
   "execution_count": 14,
   "id": "f0ebea74-2530-407a-85dc-7f1d922ff6db",
   "metadata": {},
   "outputs": [],
   "source": [
    "df.groupby('Seed Word')['Ranking Algorithm'].count()"
   ]
  },
  {
   "cell_type": "markdown",
   "id": "9b33a111-f8fa-401e-a799-30a9723e3a23",
   "metadata": {},
   "source": [
    "## All Data"
   ]
  },
  {
   "cell_type": "code",
   "execution_count": null,
   "id": "a22ba646-664b-475d-bee9-18975fb83580",
   "metadata": {},
   "outputs": [],
   "source": [
    "all_data = all_data.drop('Unnamed: 0', axis=1)\n",
    "all_data['words'] = all_data.words.apply(eval)\n",
    "all_data['word'] = all_data.words.apply(lambda x: x[0])\n",
    "all_data['solution'] = all_data.words.apply(lambda x: x[-1])"
   ]
  }
 ],
 "metadata": {
  "kernelspec": {
   "display_name": "data-science",
   "language": "python",
   "name": "data-science"
  },
  "language_info": {
   "codemirror_mode": {
    "name": "ipython",
    "version": 3
   },
   "file_extension": ".py",
   "mimetype": "text/x-python",
   "name": "python",
   "nbconvert_exporter": "python",
   "pygments_lexer": "ipython3",
   "version": "3.9.7"
  }
 },
 "nbformat": 4,
 "nbformat_minor": 5
}
